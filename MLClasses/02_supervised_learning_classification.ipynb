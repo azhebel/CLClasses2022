{
 "cells": [
  {
   "cell_type": "markdown",
   "metadata": {},
   "source": [
    "после просмотра презентации настало время практики 🙌"
   ]
  },
  {
   "cell_type": "code",
   "execution_count": 1,
   "metadata": {},
   "outputs": [
    {
     "name": "stdout",
     "output_type": "stream",
     "text": [
      "Collecting sklearn\r\n",
      "  Using cached sklearn-0.0-py2.py3-none-any.whl\r\n",
      "Requirement already satisfied: scikit-learn in /Users/Alexey.Zhebel/IdeaProjects/CompLing/venv/lib/python3.8/site-packages (from sklearn) (1.0.2)\r\n",
      "Requirement already satisfied: numpy>=1.14.6 in /Users/Alexey.Zhebel/IdeaProjects/CompLing/venv/lib/python3.8/site-packages (from scikit-learn->sklearn) (1.21.5)\r\n",
      "Requirement already satisfied: scipy>=1.1.0 in /Users/Alexey.Zhebel/IdeaProjects/CompLing/venv/lib/python3.8/site-packages (from scikit-learn->sklearn) (1.7.3)\r\n",
      "Requirement already satisfied: threadpoolctl>=2.0.0 in /Users/Alexey.Zhebel/IdeaProjects/CompLing/venv/lib/python3.8/site-packages (from scikit-learn->sklearn) (3.0.0)\r\n",
      "Requirement already satisfied: joblib>=0.11 in /Users/Alexey.Zhebel/IdeaProjects/CompLing/venv/lib/python3.8/site-packages (from scikit-learn->sklearn) (1.1.0)\r\n",
      "Installing collected packages: sklearn\r\n",
      "Successfully installed sklearn-0.0\r\n",
      "\u001B[33mWARNING: You are using pip version 21.3.1; however, version 22.0.4 is available.\r\n",
      "You should consider upgrading via the '/Users/Alexey.Zhebel/IdeaProjects/CompLing/venv/bin/python -m pip install --upgrade pip' command.\u001B[0m\r\n"
     ]
    }
   ],
   "source": [
    "# установка библиотеки\n",
    "# ! pip3 list\n",
    "! pip3 install sklearn"
   ]
  },
  {
   "cell_type": "markdown",
   "metadata": {},
   "source": [
    "# Naive Bayes (Наивный Байес)\n",
    "\n",
    "Давайте сделаем простую классификацию писем на \"спам/не спам\". Например, на [этих данных](https://www.kaggle.com/uciml/sms-spam-collection-dataset)\n",
    "\n"
   ]
  },
  {
   "cell_type": "code",
   "execution_count": 1,
   "metadata": {},
   "outputs": [],
   "source": [
    "# ячейка импортов\n",
    "\n",
    "import numpy as np\n",
    "import pandas as pd\n",
    "import matplotlib.pyplot as plt\n",
    "from collections import Counter\n",
    "from sklearn import feature_extraction, model_selection, naive_bayes, metrics, svm\n",
    "\n",
    "# from IPython.display import Image\n",
    "import warnings\n",
    "warnings.filterwarnings(\"ignore\")\n",
    "%matplotlib inline"
   ]
  },
  {
   "cell_type": "code",
   "execution_count": 3,
   "metadata": {},
   "outputs": [
    {
     "name": "stdout",
     "output_type": "stream",
     "text": [
      "class1.ipynb spam.csv\r\n"
     ]
    }
   ],
   "source": [
    "! ls"
   ]
  },
  {
   "cell_type": "code",
   "execution_count": 5,
   "metadata": {},
   "outputs": [
    {
     "data": {
      "text/plain": "     v1                                                 v2 Unnamed: 2  \\\n0   ham  Go until jurong point, crazy.. Available only ...        NaN   \n1   ham                      Ok lar... Joking wif u oni...        NaN   \n2  spam  Free entry in 2 a wkly comp to win FA Cup fina...        NaN   \n3   ham  U dun say so early hor... U c already then say...        NaN   \n4   ham  Nah I don't think he goes to usf, he lives aro...        NaN   \n5  spam  FreeMsg Hey there darling it's been 3 week's n...        NaN   \n6   ham  Even my brother is not like to speak with me. ...        NaN   \n7   ham  As per your request 'Melle Melle (Oru Minnamin...        NaN   \n8  spam  WINNER!! As a valued network customer you have...        NaN   \n9  spam  Had your mobile 11 months or more? U R entitle...        NaN   \n\n  Unnamed: 3 Unnamed: 4  \n0        NaN        NaN  \n1        NaN        NaN  \n2        NaN        NaN  \n3        NaN        NaN  \n4        NaN        NaN  \n5        NaN        NaN  \n6        NaN        NaN  \n7        NaN        NaN  \n8        NaN        NaN  \n9        NaN        NaN  ",
      "text/html": "<div>\n<style scoped>\n    .dataframe tbody tr th:only-of-type {\n        vertical-align: middle;\n    }\n\n    .dataframe tbody tr th {\n        vertical-align: top;\n    }\n\n    .dataframe thead th {\n        text-align: right;\n    }\n</style>\n<table border=\"1\" class=\"dataframe\">\n  <thead>\n    <tr style=\"text-align: right;\">\n      <th></th>\n      <th>v1</th>\n      <th>v2</th>\n      <th>Unnamed: 2</th>\n      <th>Unnamed: 3</th>\n      <th>Unnamed: 4</th>\n    </tr>\n  </thead>\n  <tbody>\n    <tr>\n      <th>0</th>\n      <td>ham</td>\n      <td>Go until jurong point, crazy.. Available only ...</td>\n      <td>NaN</td>\n      <td>NaN</td>\n      <td>NaN</td>\n    </tr>\n    <tr>\n      <th>1</th>\n      <td>ham</td>\n      <td>Ok lar... Joking wif u oni...</td>\n      <td>NaN</td>\n      <td>NaN</td>\n      <td>NaN</td>\n    </tr>\n    <tr>\n      <th>2</th>\n      <td>spam</td>\n      <td>Free entry in 2 a wkly comp to win FA Cup fina...</td>\n      <td>NaN</td>\n      <td>NaN</td>\n      <td>NaN</td>\n    </tr>\n    <tr>\n      <th>3</th>\n      <td>ham</td>\n      <td>U dun say so early hor... U c already then say...</td>\n      <td>NaN</td>\n      <td>NaN</td>\n      <td>NaN</td>\n    </tr>\n    <tr>\n      <th>4</th>\n      <td>ham</td>\n      <td>Nah I don't think he goes to usf, he lives aro...</td>\n      <td>NaN</td>\n      <td>NaN</td>\n      <td>NaN</td>\n    </tr>\n    <tr>\n      <th>5</th>\n      <td>spam</td>\n      <td>FreeMsg Hey there darling it's been 3 week's n...</td>\n      <td>NaN</td>\n      <td>NaN</td>\n      <td>NaN</td>\n    </tr>\n    <tr>\n      <th>6</th>\n      <td>ham</td>\n      <td>Even my brother is not like to speak with me. ...</td>\n      <td>NaN</td>\n      <td>NaN</td>\n      <td>NaN</td>\n    </tr>\n    <tr>\n      <th>7</th>\n      <td>ham</td>\n      <td>As per your request 'Melle Melle (Oru Minnamin...</td>\n      <td>NaN</td>\n      <td>NaN</td>\n      <td>NaN</td>\n    </tr>\n    <tr>\n      <th>8</th>\n      <td>spam</td>\n      <td>WINNER!! As a valued network customer you have...</td>\n      <td>NaN</td>\n      <td>NaN</td>\n      <td>NaN</td>\n    </tr>\n    <tr>\n      <th>9</th>\n      <td>spam</td>\n      <td>Had your mobile 11 months or more? U R entitle...</td>\n      <td>NaN</td>\n      <td>NaN</td>\n      <td>NaN</td>\n    </tr>\n  </tbody>\n</table>\n</div>"
     },
     "execution_count": 5,
     "metadata": {},
     "output_type": "execute_result"
    }
   ],
   "source": [
    "# читаем данные\n",
    "\n",
    "data = pd.read_csv('spam.csv', encoding='utf-16') # обратите внимание на кодировку\n",
    "data.head(10)"
   ]
  },
  {
   "cell_type": "code",
   "execution_count": 16,
   "metadata": {},
   "outputs": [
    {
     "data": {
      "text/plain": "   spam                                            content\n0   ham  Go until jurong point, crazy.. Available only ...\n1   ham                      Ok lar... Joking wif u oni...\n2  spam  Free entry in 2 a wkly comp to win FA Cup fina...\n3   ham  U dun say so early hor... U c already then say...\n4   ham  Nah I don't think he goes to usf, he lives aro...\n5  spam  FreeMsg Hey there darling it's been 3 week's n...\n6   ham  Even my brother is not like to speak with me. ...\n7   ham  As per your request 'Melle Melle (Oru Minnamin...\n8  spam  WINNER!! As a valued network customer you have...\n9  spam  Had your mobile 11 months or more? U R entitle...",
      "text/html": "<div>\n<style scoped>\n    .dataframe tbody tr th:only-of-type {\n        vertical-align: middle;\n    }\n\n    .dataframe tbody tr th {\n        vertical-align: top;\n    }\n\n    .dataframe thead th {\n        text-align: right;\n    }\n</style>\n<table border=\"1\" class=\"dataframe\">\n  <thead>\n    <tr style=\"text-align: right;\">\n      <th></th>\n      <th>spam</th>\n      <th>content</th>\n    </tr>\n  </thead>\n  <tbody>\n    <tr>\n      <th>0</th>\n      <td>ham</td>\n      <td>Go until jurong point, crazy.. Available only ...</td>\n    </tr>\n    <tr>\n      <th>1</th>\n      <td>ham</td>\n      <td>Ok lar... Joking wif u oni...</td>\n    </tr>\n    <tr>\n      <th>2</th>\n      <td>spam</td>\n      <td>Free entry in 2 a wkly comp to win FA Cup fina...</td>\n    </tr>\n    <tr>\n      <th>3</th>\n      <td>ham</td>\n      <td>U dun say so early hor... U c already then say...</td>\n    </tr>\n    <tr>\n      <th>4</th>\n      <td>ham</td>\n      <td>Nah I don't think he goes to usf, he lives aro...</td>\n    </tr>\n    <tr>\n      <th>5</th>\n      <td>spam</td>\n      <td>FreeMsg Hey there darling it's been 3 week's n...</td>\n    </tr>\n    <tr>\n      <th>6</th>\n      <td>ham</td>\n      <td>Even my brother is not like to speak with me. ...</td>\n    </tr>\n    <tr>\n      <th>7</th>\n      <td>ham</td>\n      <td>As per your request 'Melle Melle (Oru Minnamin...</td>\n    </tr>\n    <tr>\n      <th>8</th>\n      <td>spam</td>\n      <td>WINNER!! As a valued network customer you have...</td>\n    </tr>\n    <tr>\n      <th>9</th>\n      <td>spam</td>\n      <td>Had your mobile 11 months or more? U R entitle...</td>\n    </tr>\n  </tbody>\n</table>\n</div>"
     },
     "execution_count": 16,
     "metadata": {},
     "output_type": "execute_result"
    }
   ],
   "source": [
    "# Почистим датафрейм\n",
    "\n",
    "data = data.drop(['Unnamed: 2','Unnamed: 3','Unnamed: 4'],axis=1)\n",
    "\n",
    "data = data.rename(columns={\"v1\": \"spam\", \"v2\": \"content\"})\n",
    "\n",
    "# display(data)\n",
    "data.head(10)"
   ]
  },
  {
   "cell_type": "markdown",
   "metadata": {},
   "source": [
    "давайте посчитаем распределение спама/не спама"
   ]
  },
  {
   "cell_type": "code",
   "execution_count": 19,
   "metadata": {},
   "outputs": [
    {
     "data": {
      "text/plain": "<Figure size 432x288 with 1 Axes>",
      "image/png": "[encoded data removed]"
     },
     "metadata": {},
     "output_type": "display_data"
    }
   ],
   "source": [
    "classes =pd.value_counts(data[\"spam\"])\n",
    "\n",
    "classes.plot(kind = 'pie',  autopct='%0.f%%')\n",
    "# про string formatting https://realpython.com/python-string-formatting/\n",
    "\n",
    "plt.title(\"Classes distribution\")\n",
    "\n",
    "plt.ylabel('')\n",
    "\n",
    "plt.show()"
   ]
  },
  {
   "cell_type": "markdown",
   "metadata": {},
   "source": [
    "**Анализ данных**\n",
    "\n",
    "Давайте найдем частоты слов в сообщениях (отдельно для подкорпуса спама и не-спама). Для будущего алгоритма, слова будут признаками (features)\n",
    "\n",
    "Для этого используем Counter из collections."
   ]
  },
  {
   "cell_type": "code",
   "execution_count": 22,
   "metadata": {},
   "outputs": [
    {
     "name": "stdout",
     "output_type": "stream",
     "text": [
      "[('i', 2172), ('you', 1665), ('to', 1544), ('the', 1113), ('a', 1046), ('u', 874), ('and', 845), ('in', 786), ('my', 741), ('is', 710), ('me', 584), ('of', 518), ('for', 496), ('that', 442), ('it', 440), ('have', 433), ('your', 413), ('but', 413), ('are', 405), ('so', 399), ('not', 381), ('on', 379), ('at', 372), (\"i'm\", 369), ('can', 356), ('if', 346), ('do', 342), ('will', 331), ('be', 325), ('we', 297), ('get', 293), ('just', 286), ('2', 284), ('&lt;#&gt;', 276), ('when', 270), ('with', 269), ('how', 245), ('up', 243), ('go', 235), ('ur', 235), ('what', 235), ('all', 231), ('got', 227), ('this', 226), ('or', 226), ('no', 225), ('.', 222), ('like', 221), ('was', 221), ('call', 215)]\n"
     ]
    }
   ],
   "source": [
    "c = Counter(\" \".join(data[data['spam']=='ham'][\"content\"]).lower().split()).most_common(50)\n",
    "print(c)"
   ]
  },
  {
   "cell_type": "code",
   "execution_count": 23,
   "metadata": {},
   "outputs": [
    {
     "data": {
      "text/plain": "   words in non-spam  count\n0                  i   2172\n1                you   1665\n2                 to   1544\n3                the   1113\n4                  a   1046\n5                  u    874\n6                and    845\n7                 in    786\n8                 my    741\n9                 is    710\n10                me    584\n11                of    518\n12               for    496\n13              that    442\n14                it    440\n15              have    433\n16              your    413\n17               but    413\n18               are    405\n19                so    399",
      "text/html": "<div>\n<style scoped>\n    .dataframe tbody tr th:only-of-type {\n        vertical-align: middle;\n    }\n\n    .dataframe tbody tr th {\n        vertical-align: top;\n    }\n\n    .dataframe thead th {\n        text-align: right;\n    }\n</style>\n<table border=\"1\" class=\"dataframe\">\n  <thead>\n    <tr style=\"text-align: right;\">\n      <th></th>\n      <th>words in non-spam</th>\n      <th>count</th>\n    </tr>\n  </thead>\n  <tbody>\n    <tr>\n      <th>0</th>\n      <td>i</td>\n      <td>2172</td>\n    </tr>\n    <tr>\n      <th>1</th>\n      <td>you</td>\n      <td>1665</td>\n    </tr>\n    <tr>\n      <th>2</th>\n      <td>to</td>\n      <td>1544</td>\n    </tr>\n    <tr>\n      <th>3</th>\n      <td>the</td>\n      <td>1113</td>\n    </tr>\n    <tr>\n      <th>4</th>\n      <td>a</td>\n      <td>1046</td>\n    </tr>\n    <tr>\n      <th>5</th>\n      <td>u</td>\n      <td>874</td>\n    </tr>\n    <tr>\n      <th>6</th>\n      <td>and</td>\n      <td>845</td>\n    </tr>\n    <tr>\n      <th>7</th>\n      <td>in</td>\n      <td>786</td>\n    </tr>\n    <tr>\n      <th>8</th>\n      <td>my</td>\n      <td>741</td>\n    </tr>\n    <tr>\n      <th>9</th>\n      <td>is</td>\n      <td>710</td>\n    </tr>\n    <tr>\n      <th>10</th>\n      <td>me</td>\n      <td>584</td>\n    </tr>\n    <tr>\n      <th>11</th>\n      <td>of</td>\n      <td>518</td>\n    </tr>\n    <tr>\n      <th>12</th>\n      <td>for</td>\n      <td>496</td>\n    </tr>\n    <tr>\n      <th>13</th>\n      <td>that</td>\n      <td>442</td>\n    </tr>\n    <tr>\n      <th>14</th>\n      <td>it</td>\n      <td>440</td>\n    </tr>\n    <tr>\n      <th>15</th>\n      <td>have</td>\n      <td>433</td>\n    </tr>\n    <tr>\n      <th>16</th>\n      <td>your</td>\n      <td>413</td>\n    </tr>\n    <tr>\n      <th>17</th>\n      <td>but</td>\n      <td>413</td>\n    </tr>\n    <tr>\n      <th>18</th>\n      <td>are</td>\n      <td>405</td>\n    </tr>\n    <tr>\n      <th>19</th>\n      <td>so</td>\n      <td>399</td>\n    </tr>\n  </tbody>\n</table>\n</div>"
     },
     "metadata": {},
     "output_type": "display_data"
    },
    {
     "data": {
      "text/plain": "   words in spam  count\n0             to    682\n1              a    373\n2           call    342\n3           your    263\n4            you    252\n5            the    204\n6            for    201\n7             or    188\n8           free    180\n9              2    169\n10            is    152\n11            ur    144\n12            on    141\n13           txt    136\n14          have    135\n15          from    127\n16           and    122\n17             u    117\n18          text    112\n19        mobile    109",
      "text/html": "<div>\n<style scoped>\n    .dataframe tbody tr th:only-of-type {\n        vertical-align: middle;\n    }\n\n    .dataframe tbody tr th {\n        vertical-align: top;\n    }\n\n    .dataframe thead th {\n        text-align: right;\n    }\n</style>\n<table border=\"1\" class=\"dataframe\">\n  <thead>\n    <tr style=\"text-align: right;\">\n      <th></th>\n      <th>words in spam</th>\n      <th>count</th>\n    </tr>\n  </thead>\n  <tbody>\n    <tr>\n      <th>0</th>\n      <td>to</td>\n      <td>682</td>\n    </tr>\n    <tr>\n      <th>1</th>\n      <td>a</td>\n      <td>373</td>\n    </tr>\n    <tr>\n      <th>2</th>\n      <td>call</td>\n      <td>342</td>\n    </tr>\n    <tr>\n      <th>3</th>\n      <td>your</td>\n      <td>263</td>\n    </tr>\n    <tr>\n      <th>4</th>\n      <td>you</td>\n      <td>252</td>\n    </tr>\n    <tr>\n      <th>5</th>\n      <td>the</td>\n      <td>204</td>\n    </tr>\n    <tr>\n      <th>6</th>\n      <td>for</td>\n      <td>201</td>\n    </tr>\n    <tr>\n      <th>7</th>\n      <td>or</td>\n      <td>188</td>\n    </tr>\n    <tr>\n      <th>8</th>\n      <td>free</td>\n      <td>180</td>\n    </tr>\n    <tr>\n      <th>9</th>\n      <td>2</td>\n      <td>169</td>\n    </tr>\n    <tr>\n      <th>10</th>\n      <td>is</td>\n      <td>152</td>\n    </tr>\n    <tr>\n      <th>11</th>\n      <td>ur</td>\n      <td>144</td>\n    </tr>\n    <tr>\n      <th>12</th>\n      <td>on</td>\n      <td>141</td>\n    </tr>\n    <tr>\n      <th>13</th>\n      <td>txt</td>\n      <td>136</td>\n    </tr>\n    <tr>\n      <th>14</th>\n      <td>have</td>\n      <td>135</td>\n    </tr>\n    <tr>\n      <th>15</th>\n      <td>from</td>\n      <td>127</td>\n    </tr>\n    <tr>\n      <th>16</th>\n      <td>and</td>\n      <td>122</td>\n    </tr>\n    <tr>\n      <th>17</th>\n      <td>u</td>\n      <td>117</td>\n    </tr>\n    <tr>\n      <th>18</th>\n      <td>text</td>\n      <td>112</td>\n    </tr>\n    <tr>\n      <th>19</th>\n      <td>mobile</td>\n      <td>109</td>\n    </tr>\n  </tbody>\n</table>\n</div>"
     },
     "metadata": {},
     "output_type": "display_data"
    }
   ],
   "source": [
    "# заберем все слова по условию, заджойним в строку, разобьем по пробелам, возьмем топ-20\n",
    "count1 = Counter(\" \".join(data[data['spam']=='ham'][\"content\"]).lower().split()).most_common(20) \n",
    "df1 = pd.DataFrame.from_dict(count1) # новый дф\n",
    "df1 = df1.rename(columns={0: \"words in non-spam\", 1 : \"count\"})\n",
    "\n",
    "# тот же набор операций для второго подкорпуса\n",
    "count2 = Counter(\" \".join(data[data['spam']=='spam'][\"content\"]).lower().split()).most_common(20)\n",
    "df2 = pd.DataFrame.from_dict(count2)\n",
    "df2 = df2.rename(columns={0: \"words in spam\", 1 : \"count\"})\n",
    "\n",
    "display(df1,df2)"
   ]
  },
  {
   "cell_type": "markdown",
   "metadata": {},
   "source": [
    "очень много \"шума\", давайте избавимся от стоп-слов. Используем [эту функцию](https://scikit-learn.org/stable/modules/generated/sklearn.feature_extraction.text.CountVectorizer.html) из sklearn "
   ]
  },
  {
   "cell_type": "code",
   "execution_count": 24,
   "metadata": {},
   "outputs": [],
   "source": [
    "f = feature_extraction.text.CountVectorizer(stop_words = 'english')"
   ]
  },
  {
   "cell_type": "code",
   "execution_count": 30,
   "metadata": {},
   "outputs": [
    {
     "data": {
      "text/plain": "0       Go until jurong point, crazy.. Available only ...\n1                           Ok lar... Joking wif u oni...\n2       Free entry in 2 a wkly comp to win FA Cup fina...\n3       U dun say so early hor... U c already then say...\n4       Nah I don't think he goes to usf, he lives aro...\n                              ...                        \n5567    This is the 2nd time we have tried 2 contact u...\n5568                Will �_ b going to esplanade fr home?\n5569    Pity, * was in mood for that. So...any other s...\n5570    The guy did some bitching but I acted like i'd...\n5571                           Rofl. Its true to its name\nName: content, Length: 5572, dtype: object"
     },
     "execution_count": 30,
     "metadata": {},
     "output_type": "execute_result"
    }
   ],
   "source": [
    "data[\"content\"]"
   ]
  },
  {
   "cell_type": "markdown",
   "metadata": {},
   "source": [
    "### пример на маленькой матрице"
   ]
  },
  {
   "cell_type": "code",
   "execution_count": 29,
   "metadata": {},
   "outputs": [
    {
     "name": "stdout",
     "output_type": "stream",
     "text": [
      "['document', 'first', 'is', 'my', 'second', 'the', 'this']\n"
     ]
    },
    {
     "data": {
      "text/plain": "array([[1, 1, 1, 0, 0, 2, 1],\n       [2, 0, 1, 1, 1, 0, 1]])"
     },
     "metadata": {},
     "output_type": "display_data"
    },
    {
     "name": "stdout",
     "output_type": "stream",
     "text": [
      "['document', 'first', 'is', 'my', 'second', 'the', 'this']\n"
     ]
    },
    {
     "data": {
      "text/plain": "array([[0.27867523, 0.39166832, 0.27867523, 0.        , 0.        ,\n        0.78333663, 0.27867523],\n       [0.63402146, 0.        , 0.31701073, 0.44554752, 0.44554752,\n        0.        , 0.31701073]])"
     },
     "metadata": {},
     "output_type": "display_data"
    }
   ],
   "source": [
    "from sklearn.feature_extraction.text import CountVectorizer, TfidfVectorizer\n",
    "corpus = ['This is the the first document.','Is this document my second document?']\n",
    "\n",
    "vectorizer = CountVectorizer()\n",
    "X = vectorizer.fit_transform(corpus)\n",
    "print(vectorizer.get_feature_names())\n",
    "display(X.toarray())\n",
    "\n",
    "v2 = TfidfVectorizer()\n",
    "Y = v2.fit_transform(corpus)\n",
    "print(vectorizer.get_feature_names())\n",
    "display(Y.toarray())"
   ]
  },
  {
   "cell_type": "markdown",
   "metadata": {},
   "source": [
    "### идем дальше"
   ]
  },
  {
   "cell_type": "code",
   "execution_count": 33,
   "metadata": {},
   "outputs": [
    {
     "data": {
      "text/plain": "(5572, 8357)"
     },
     "metadata": {},
     "output_type": "display_data"
    },
    {
     "data": {
      "text/plain": "array([[0, 0, 0, ..., 0, 0, 0],\n       [0, 0, 0, ..., 0, 0, 0],\n       [0, 0, 0, ..., 0, 0, 0],\n       ...,\n       [0, 0, 0, ..., 0, 0, 0],\n       [0, 0, 0, ..., 0, 0, 0],\n       [0, 0, 0, ..., 0, 0, 0]])"
     },
     "metadata": {},
     "output_type": "display_data"
    }
   ],
   "source": [
    "X = f.fit_transform(data[\"content\"])\n",
    "# print(f.get_feature_names()) # посмотрим на признаки\n",
    "\n",
    "display(X.shape)\n",
    "display(X.toarray())"
   ]
  },
  {
   "cell_type": "markdown",
   "metadata": {},
   "source": [
    "метод ```.fit_transform()``` выучивает обучающие данные и возвращает матрицу формата \"документ-термин\" для всего датасета\n",
    "\n",
    "Сейчас у нас 8404 признака (по числу уникальных слов в корпусе). Новый признак  j  в ряду i  равен 1 если слово j  появляется в тексте i . В ином случае значение признака = 0\n",
    "\n",
    "**давайте попробуем предсказать:** окажется ли письмо спамом или не спамом\n",
    "\n",
    "Следует помнить о двух нежелательных вариантах:\n",
    "\n",
    "- спам-письмо классифицируется как нормальное (False Negative)\n",
    "- обычное письмо классифицируется как спам (False positive).\n",
    "(какой вариант хуже?)\n",
    "\n",
    "Сначала, представим значения spam/ham как числовые (1,0) "
   ]
  },
  {
   "cell_type": "code",
   "execution_count": 34,
   "metadata": {},
   "outputs": [
    {
     "data": {
      "text/plain": "   spam                                            content\n0   ham  Go until jurong point, crazy.. Available only ...\n1   ham                      Ok lar... Joking wif u oni...\n2  spam  Free entry in 2 a wkly comp to win FA Cup fina...\n3   ham  U dun say so early hor... U c already then say...\n4   ham  Nah I don't think he goes to usf, he lives aro...\n5  spam  FreeMsg Hey there darling it's been 3 week's n...\n6   ham  Even my brother is not like to speak with me. ...\n7   ham  As per your request 'Melle Melle (Oru Minnamin...\n8  spam  WINNER!! As a valued network customer you have...\n9  spam  Had your mobile 11 months or more? U R entitle...",
      "text/html": "<div>\n<style scoped>\n    .dataframe tbody tr th:only-of-type {\n        vertical-align: middle;\n    }\n\n    .dataframe tbody tr th {\n        vertical-align: top;\n    }\n\n    .dataframe thead th {\n        text-align: right;\n    }\n</style>\n<table border=\"1\" class=\"dataframe\">\n  <thead>\n    <tr style=\"text-align: right;\">\n      <th></th>\n      <th>spam</th>\n      <th>content</th>\n    </tr>\n  </thead>\n  <tbody>\n    <tr>\n      <th>0</th>\n      <td>ham</td>\n      <td>Go until jurong point, crazy.. Available only ...</td>\n    </tr>\n    <tr>\n      <th>1</th>\n      <td>ham</td>\n      <td>Ok lar... Joking wif u oni...</td>\n    </tr>\n    <tr>\n      <th>2</th>\n      <td>spam</td>\n      <td>Free entry in 2 a wkly comp to win FA Cup fina...</td>\n    </tr>\n    <tr>\n      <th>3</th>\n      <td>ham</td>\n      <td>U dun say so early hor... U c already then say...</td>\n    </tr>\n    <tr>\n      <th>4</th>\n      <td>ham</td>\n      <td>Nah I don't think he goes to usf, he lives aro...</td>\n    </tr>\n    <tr>\n      <th>5</th>\n      <td>spam</td>\n      <td>FreeMsg Hey there darling it's been 3 week's n...</td>\n    </tr>\n    <tr>\n      <th>6</th>\n      <td>ham</td>\n      <td>Even my brother is not like to speak with me. ...</td>\n    </tr>\n    <tr>\n      <th>7</th>\n      <td>ham</td>\n      <td>As per your request 'Melle Melle (Oru Minnamin...</td>\n    </tr>\n    <tr>\n      <th>8</th>\n      <td>spam</td>\n      <td>WINNER!! As a valued network customer you have...</td>\n    </tr>\n    <tr>\n      <th>9</th>\n      <td>spam</td>\n      <td>Had your mobile 11 months or more? U R entitle...</td>\n    </tr>\n  </tbody>\n</table>\n</div>"
     },
     "execution_count": 34,
     "metadata": {},
     "output_type": "execute_result"
    }
   ],
   "source": [
    "data.head(10)"
   ]
  },
  {
   "cell_type": "markdown",
   "metadata": {},
   "source": [
    "Затем разделим данные на обучающую и тестовую выборку [этой функцией](https://scikit-learn.org/stable/modules/generated/sklearn.model_selection.train_test_split.html)"
   ]
  },
  {
   "cell_type": "code",
   "execution_count": 35,
   "metadata": {},
   "outputs": [
    {
     "data": {
      "text/plain": "   spam                                            content\n0     0  Go until jurong point, crazy.. Available only ...\n1     0                      Ok lar... Joking wif u oni...\n2     1  Free entry in 2 a wkly comp to win FA Cup fina...\n3     0  U dun say so early hor... U c already then say...\n4     0  Nah I don't think he goes to usf, he lives aro...\n5     1  FreeMsg Hey there darling it's been 3 week's n...\n6     0  Even my brother is not like to speak with me. ...\n7     0  As per your request 'Melle Melle (Oru Minnamin...\n8     1  WINNER!! As a valued network customer you have...\n9     1  Had your mobile 11 months or more? U R entitle...",
      "text/html": "<div>\n<style scoped>\n    .dataframe tbody tr th:only-of-type {\n        vertical-align: middle;\n    }\n\n    .dataframe tbody tr th {\n        vertical-align: top;\n    }\n\n    .dataframe thead th {\n        text-align: right;\n    }\n</style>\n<table border=\"1\" class=\"dataframe\">\n  <thead>\n    <tr style=\"text-align: right;\">\n      <th></th>\n      <th>spam</th>\n      <th>content</th>\n    </tr>\n  </thead>\n  <tbody>\n    <tr>\n      <th>0</th>\n      <td>0</td>\n      <td>Go until jurong point, crazy.. Available only ...</td>\n    </tr>\n    <tr>\n      <th>1</th>\n      <td>0</td>\n      <td>Ok lar... Joking wif u oni...</td>\n    </tr>\n    <tr>\n      <th>2</th>\n      <td>1</td>\n      <td>Free entry in 2 a wkly comp to win FA Cup fina...</td>\n    </tr>\n    <tr>\n      <th>3</th>\n      <td>0</td>\n      <td>U dun say so early hor... U c already then say...</td>\n    </tr>\n    <tr>\n      <th>4</th>\n      <td>0</td>\n      <td>Nah I don't think he goes to usf, he lives aro...</td>\n    </tr>\n    <tr>\n      <th>5</th>\n      <td>1</td>\n      <td>FreeMsg Hey there darling it's been 3 week's n...</td>\n    </tr>\n    <tr>\n      <th>6</th>\n      <td>0</td>\n      <td>Even my brother is not like to speak with me. ...</td>\n    </tr>\n    <tr>\n      <th>7</th>\n      <td>0</td>\n      <td>As per your request 'Melle Melle (Oru Minnamin...</td>\n    </tr>\n    <tr>\n      <th>8</th>\n      <td>1</td>\n      <td>WINNER!! As a valued network customer you have...</td>\n    </tr>\n    <tr>\n      <th>9</th>\n      <td>1</td>\n      <td>Had your mobile 11 months or more? U R entitle...</td>\n    </tr>\n  </tbody>\n</table>\n</div>"
     },
     "execution_count": 35,
     "metadata": {},
     "output_type": "execute_result"
    }
   ],
   "source": [
    "data[\"spam\"]=data[\"spam\"].map({'spam':1,'ham':0}) # в первой колонке переименуем значения 'spam' в 1  и 'ham' в 0\n",
    "\n",
    "data.head(10)"
   ]
  },
  {
   "cell_type": "markdown",
   "metadata": {},
   "source": [
    "Создадим новые переменные:\n",
    "- X_train - кусочек матрицы \"документ/термин\", который мы \"отдадим\" алгоритму для обучения\n",
    "- X_test - кусочек матрицы \"документ/термин\", на котором будем проверять, как алгоритм сработал \n",
    "- y_train - кусочек датафрейма с текстами, который мы отдадим для обучения\n",
    "- y_test -  кусочек датафрейма с текстами, на котором будем проверять, как алгоритм сработал "
   ]
  },
  {
   "cell_type": "code",
   "execution_count": 38,
   "metadata": {},
   "outputs": [
    {
     "name": "stdout",
     "output_type": "stream",
     "text": [
      "(4457, 8357) (1115, 8357) (4457,) (1115,)\n"
     ]
    },
    {
     "data": {
      "text/plain": "161"
     },
     "execution_count": 38,
     "metadata": {},
     "output_type": "execute_result"
    }
   ],
   "source": [
    "# новые переменные\n",
    "X_train, X_test, y_train, y_test = model_selection.train_test_split(X, data['spam'], test_size=0.2, random_state=50)\n",
    "\n",
    "print(X_train.shape, X_test.shape, y_train.shape, y_test.shape)\n",
    "sum(y_test == 1)"
   ]
  },
  {
   "cell_type": "markdown",
   "metadata": {},
   "source": [
    "алгоритмов наивного байеса несколько, мы возьмем [Multinomial NB](https://scikit-learn.org/stable/modules/generated/sklearn.naive_bayes.MultinomialNB.html)\n",
    "\n",
    "[дополнительная информация про Naive Bayes](https://nlp.stanford.edu/IR-book/pdf/13bayes.pdf)\n",
    "\n",
    "Так как алгоритм быстрый, попробуем несколько вариантов с разным параметром регуляризации α *([что такое α ?](https://medium.com/syncedreview/applying-multinomial-naive-bayes-to-nlp-problems-a-practical-explanation-4f5271768ebf))*\n",
    "\n",
    "Затем для каждого проверим Precision, Recall и Accuracy"
   ]
  },
  {
   "cell_type": "code",
   "execution_count": 39,
   "metadata": {},
   "outputs": [],
   "source": [
    "list_alpha = np.arange(1/100000, 20, 0.11) \n",
    "#возьмем лист равномерно распределенных значений от 1/100000 до 20(можно выбрать другие числа,эти были выбраны экспериментально)\n",
    "\n",
    "\n",
    "score_train = np.zeros(len(list_alpha)) # задали пустые списки по длине изначального листа\n",
    "score_test = np.zeros(len(list_alpha))\n",
    "recall_test = np.zeros(len(list_alpha))\n",
    "precision_test= np.zeros(len(list_alpha))\n",
    "count = 0"
   ]
  },
  {
   "cell_type": "code",
   "execution_count": 40,
   "outputs": [
    {
     "data": {
      "text/plain": "182"
     },
     "execution_count": 40,
     "metadata": {},
     "output_type": "execute_result"
    }
   ],
   "source": [
    "len(list_alpha)"
   ],
   "metadata": {
    "collapsed": false,
    "pycharm": {
     "name": "#%%\n"
    }
   }
  },
  {
   "cell_type": "code",
   "execution_count": 41,
   "metadata": {},
   "outputs": [],
   "source": [
    "for alpha in list_alpha: # для каждого значения в списке альф\n",
    "    bayes = naive_bayes.MultinomialNB(alpha=alpha) # используем модель\n",
    "    bayes.fit(X_train, y_train) # тренируем модель\n",
    "    \n",
    "    score_train[count] = bayes.score(X_train, y_train) # итерируемся по индексу в листе, добавляем значения accuracy\n",
    "    # score_train? \n",
    "    \n",
    "    score_test[count]= bayes.score(X_test, y_test)\n",
    "    # score_test ? \n",
    "    \n",
    "    recall_test[count] = metrics.recall_score(y_test, bayes.predict(X_test))\n",
    "    precision_test[count] = metrics.precision_score(y_test, bayes.predict(X_test))\n",
    "    \n",
    "    count = count + 1 # после одной итерации, делаем новый шаг"
   ]
  },
  {
   "cell_type": "markdown",
   "metadata": {},
   "source": [
    "посмотрим на результаты моделей в зависимости от альфы"
   ]
  },
  {
   "cell_type": "code",
   "execution_count": 43,
   "metadata": {},
   "outputs": [
    {
     "name": "stdout",
     "output_type": "stream",
     "text": [
      "[[1.00000000e-05 9.97083240e-01 9.73094170e-01 9.00621118e-01\n",
      "  9.11949686e-01]\n",
      " [1.10010000e-01 9.96634508e-01 9.78475336e-01 9.44099379e-01\n",
      "  9.10179641e-01]\n",
      " [2.20010000e-01 9.95961409e-01 9.78475336e-01 9.50310559e-01\n",
      "  9.05325444e-01]]\n"
     ]
    },
    {
     "data": {
      "text/plain": "     alpha  Train Accuracy  Test Accuracy  Test Recall  Test Precision\n0  0.00001        0.997083       0.973094     0.900621        0.911950\n1  0.11001        0.996635       0.978475     0.944099        0.910180\n2  0.22001        0.995961       0.978475     0.950311        0.905325\n3  0.33001        0.995737       0.982063     0.944099        0.932515\n4  0.44001        0.995288       0.982063     0.944099        0.932515\n5  0.55001        0.994840       0.981166     0.937888        0.932099\n6  0.66001        0.995064       0.981166     0.937888        0.932099\n7  0.77001        0.994840       0.979372     0.925466        0.931250\n8  0.88001        0.994840       0.978475     0.919255        0.930818\n9  0.99001        0.994840       0.977578     0.913043        0.930380",
      "text/html": "<div>\n<style scoped>\n    .dataframe tbody tr th:only-of-type {\n        vertical-align: middle;\n    }\n\n    .dataframe tbody tr th {\n        vertical-align: top;\n    }\n\n    .dataframe thead th {\n        text-align: right;\n    }\n</style>\n<table border=\"1\" class=\"dataframe\">\n  <thead>\n    <tr style=\"text-align: right;\">\n      <th></th>\n      <th>alpha</th>\n      <th>Train Accuracy</th>\n      <th>Test Accuracy</th>\n      <th>Test Recall</th>\n      <th>Test Precision</th>\n    </tr>\n  </thead>\n  <tbody>\n    <tr>\n      <th>0</th>\n      <td>0.00001</td>\n      <td>0.997083</td>\n      <td>0.973094</td>\n      <td>0.900621</td>\n      <td>0.911950</td>\n    </tr>\n    <tr>\n      <th>1</th>\n      <td>0.11001</td>\n      <td>0.996635</td>\n      <td>0.978475</td>\n      <td>0.944099</td>\n      <td>0.910180</td>\n    </tr>\n    <tr>\n      <th>2</th>\n      <td>0.22001</td>\n      <td>0.995961</td>\n      <td>0.978475</td>\n      <td>0.950311</td>\n      <td>0.905325</td>\n    </tr>\n    <tr>\n      <th>3</th>\n      <td>0.33001</td>\n      <td>0.995737</td>\n      <td>0.982063</td>\n      <td>0.944099</td>\n      <td>0.932515</td>\n    </tr>\n    <tr>\n      <th>4</th>\n      <td>0.44001</td>\n      <td>0.995288</td>\n      <td>0.982063</td>\n      <td>0.944099</td>\n      <td>0.932515</td>\n    </tr>\n    <tr>\n      <th>5</th>\n      <td>0.55001</td>\n      <td>0.994840</td>\n      <td>0.981166</td>\n      <td>0.937888</td>\n      <td>0.932099</td>\n    </tr>\n    <tr>\n      <th>6</th>\n      <td>0.66001</td>\n      <td>0.995064</td>\n      <td>0.981166</td>\n      <td>0.937888</td>\n      <td>0.932099</td>\n    </tr>\n    <tr>\n      <th>7</th>\n      <td>0.77001</td>\n      <td>0.994840</td>\n      <td>0.979372</td>\n      <td>0.925466</td>\n      <td>0.931250</td>\n    </tr>\n    <tr>\n      <th>8</th>\n      <td>0.88001</td>\n      <td>0.994840</td>\n      <td>0.978475</td>\n      <td>0.919255</td>\n      <td>0.930818</td>\n    </tr>\n    <tr>\n      <th>9</th>\n      <td>0.99001</td>\n      <td>0.994840</td>\n      <td>0.977578</td>\n      <td>0.913043</td>\n      <td>0.930380</td>\n    </tr>\n  </tbody>\n</table>\n</div>"
     },
     "metadata": {},
     "output_type": "display_data"
    },
    {
     "data": {
      "text/plain": "(182, 5)"
     },
     "metadata": {},
     "output_type": "display_data"
    }
   ],
   "source": [
    "matrix = np.matrix(np.c_[list_alpha, score_train, score_test, recall_test, precision_test])\n",
    "print(matrix[:3])\n",
    "models = pd.DataFrame(data = matrix, columns = \n",
    "             ['alpha', 'Train Accuracy', 'Test Accuracy', 'Test Recall', 'Test Precision'])\n",
    "\n",
    "\n",
    "display(models.head(10))\n",
    "\n",
    "display(matrix.shape)"
   ]
  },
  {
   "cell_type": "markdown",
   "metadata": {},
   "source": [
    "\n",
    "а теперь давайте оставим модель с наивысшей test precision"
   ]
  },
  {
   "cell_type": "code",
   "execution_count": 45,
   "metadata": {},
   "outputs": [
    {
     "data": {
      "text/plain": "53"
     },
     "metadata": {},
     "output_type": "display_data"
    },
    {
     "data": {
      "text/plain": "alpha             5.830010\nTrain Accuracy    0.990128\nTest Accuracy     0.976682\nTest Recall       0.838509\nTest Precision    1.000000\nName: 53, dtype: float64"
     },
     "metadata": {},
     "output_type": "display_data"
    }
   ],
   "source": [
    "best_index = models['Test Precision'].idxmax()\n",
    "# best_index\n",
    "\n",
    "display(best_index)\n",
    "\n",
    "display(models.iloc[best_index])"
   ]
  },
  {
   "cell_type": "markdown",
   "source": [
    "Посмотрим модели с высоким test recall"
   ],
   "metadata": {
    "collapsed": false
   }
  },
  {
   "cell_type": "code",
   "execution_count": 20,
   "metadata": {},
   "outputs": [
    {
     "data": {
      "text/html": [
       "<div>\n",
       "<style scoped>\n",
       "    .dataframe tbody tr th:only-of-type {\n",
       "        vertical-align: middle;\n",
       "    }\n",
       "\n",
       "    .dataframe tbody tr th {\n",
       "        vertical-align: top;\n",
       "    }\n",
       "\n",
       "    .dataframe thead th {\n",
       "        text-align: right;\n",
       "    }\n",
       "</style>\n",
       "<table border=\"1\" class=\"dataframe\">\n",
       "  <thead>\n",
       "    <tr style=\"text-align: right;\">\n",
       "      <th></th>\n",
       "      <th>alpha</th>\n",
       "      <th>Train Accuracy</th>\n",
       "      <th>Test Accuracy</th>\n",
       "      <th>Test Recall</th>\n",
       "      <th>Test Precision</th>\n",
       "    </tr>\n",
       "  </thead>\n",
       "  <tbody>\n",
       "    <tr>\n",
       "      <th>17</th>\n",
       "      <td>1.87001</td>\n",
       "      <td>0.993718</td>\n",
       "      <td>0.980269</td>\n",
       "      <td>0.900621</td>\n",
       "      <td>0.960265</td>\n",
       "    </tr>\n",
       "    <tr>\n",
       "      <th>16</th>\n",
       "      <td>1.76001</td>\n",
       "      <td>0.993493</td>\n",
       "      <td>0.980269</td>\n",
       "      <td>0.900621</td>\n",
       "      <td>0.960265</td>\n",
       "    </tr>\n",
       "    <tr>\n",
       "      <th>12</th>\n",
       "      <td>1.32001</td>\n",
       "      <td>0.994840</td>\n",
       "      <td>0.979372</td>\n",
       "      <td>0.900621</td>\n",
       "      <td>0.953947</td>\n",
       "    </tr>\n",
       "    <tr>\n",
       "      <th>15</th>\n",
       "      <td>1.65001</td>\n",
       "      <td>0.993493</td>\n",
       "      <td>0.979372</td>\n",
       "      <td>0.900621</td>\n",
       "      <td>0.953947</td>\n",
       "    </tr>\n",
       "    <tr>\n",
       "      <th>14</th>\n",
       "      <td>1.54001</td>\n",
       "      <td>0.994166</td>\n",
       "      <td>0.979372</td>\n",
       "      <td>0.900621</td>\n",
       "      <td>0.953947</td>\n",
       "    </tr>\n",
       "    <tr>\n",
       "      <th>13</th>\n",
       "      <td>1.43001</td>\n",
       "      <td>0.994615</td>\n",
       "      <td>0.979372</td>\n",
       "      <td>0.900621</td>\n",
       "      <td>0.953947</td>\n",
       "    </tr>\n",
       "    <tr>\n",
       "      <th>3</th>\n",
       "      <td>0.33001</td>\n",
       "      <td>0.995513</td>\n",
       "      <td>0.982960</td>\n",
       "      <td>0.950311</td>\n",
       "      <td>0.932927</td>\n",
       "    </tr>\n",
       "    <tr>\n",
       "      <th>6</th>\n",
       "      <td>0.66001</td>\n",
       "      <td>0.994840</td>\n",
       "      <td>0.981166</td>\n",
       "      <td>0.937888</td>\n",
       "      <td>0.932099</td>\n",
       "    </tr>\n",
       "    <tr>\n",
       "      <th>7</th>\n",
       "      <td>0.77001</td>\n",
       "      <td>0.994840</td>\n",
       "      <td>0.980269</td>\n",
       "      <td>0.931677</td>\n",
       "      <td>0.931677</td>\n",
       "    </tr>\n",
       "    <tr>\n",
       "      <th>8</th>\n",
       "      <td>0.88001</td>\n",
       "      <td>0.994840</td>\n",
       "      <td>0.979372</td>\n",
       "      <td>0.925466</td>\n",
       "      <td>0.931250</td>\n",
       "    </tr>\n",
       "    <tr>\n",
       "      <th>9</th>\n",
       "      <td>0.99001</td>\n",
       "      <td>0.994840</td>\n",
       "      <td>0.977578</td>\n",
       "      <td>0.913043</td>\n",
       "      <td>0.930380</td>\n",
       "    </tr>\n",
       "    <tr>\n",
       "      <th>11</th>\n",
       "      <td>1.21001</td>\n",
       "      <td>0.994840</td>\n",
       "      <td>0.976682</td>\n",
       "      <td>0.906832</td>\n",
       "      <td>0.929936</td>\n",
       "    </tr>\n",
       "    <tr>\n",
       "      <th>10</th>\n",
       "      <td>1.10001</td>\n",
       "      <td>0.994840</td>\n",
       "      <td>0.976682</td>\n",
       "      <td>0.906832</td>\n",
       "      <td>0.929936</td>\n",
       "    </tr>\n",
       "    <tr>\n",
       "      <th>4</th>\n",
       "      <td>0.44001</td>\n",
       "      <td>0.995288</td>\n",
       "      <td>0.982063</td>\n",
       "      <td>0.950311</td>\n",
       "      <td>0.927273</td>\n",
       "    </tr>\n",
       "    <tr>\n",
       "      <th>5</th>\n",
       "      <td>0.55001</td>\n",
       "      <td>0.994840</td>\n",
       "      <td>0.981166</td>\n",
       "      <td>0.944099</td>\n",
       "      <td>0.926829</td>\n",
       "    </tr>\n",
       "    <tr>\n",
       "      <th>0</th>\n",
       "      <td>0.00001</td>\n",
       "      <td>0.997756</td>\n",
       "      <td>0.976682</td>\n",
       "      <td>0.919255</td>\n",
       "      <td>0.919255</td>\n",
       "    </tr>\n",
       "    <tr>\n",
       "      <th>1</th>\n",
       "      <td>0.11001</td>\n",
       "      <td>0.996635</td>\n",
       "      <td>0.978475</td>\n",
       "      <td>0.944099</td>\n",
       "      <td>0.910180</td>\n",
       "    </tr>\n",
       "    <tr>\n",
       "      <th>2</th>\n",
       "      <td>0.22001</td>\n",
       "      <td>0.995961</td>\n",
       "      <td>0.978475</td>\n",
       "      <td>0.950311</td>\n",
       "      <td>0.905325</td>\n",
       "    </tr>\n",
       "  </tbody>\n",
       "</table>\n",
       "</div>"
      ],
      "text/plain": [
       "      alpha  Train Accuracy  Test Accuracy  Test Recall  Test Precision\n",
       "17  1.87001        0.993718       0.980269     0.900621        0.960265\n",
       "16  1.76001        0.993493       0.980269     0.900621        0.960265\n",
       "12  1.32001        0.994840       0.979372     0.900621        0.953947\n",
       "15  1.65001        0.993493       0.979372     0.900621        0.953947\n",
       "14  1.54001        0.994166       0.979372     0.900621        0.953947\n",
       "13  1.43001        0.994615       0.979372     0.900621        0.953947\n",
       "3   0.33001        0.995513       0.982960     0.950311        0.932927\n",
       "6   0.66001        0.994840       0.981166     0.937888        0.932099\n",
       "7   0.77001        0.994840       0.980269     0.931677        0.931677\n",
       "8   0.88001        0.994840       0.979372     0.925466        0.931250\n",
       "9   0.99001        0.994840       0.977578     0.913043        0.930380\n",
       "11  1.21001        0.994840       0.976682     0.906832        0.929936\n",
       "10  1.10001        0.994840       0.976682     0.906832        0.929936\n",
       "4   0.44001        0.995288       0.982063     0.950311        0.927273\n",
       "5   0.55001        0.994840       0.981166     0.944099        0.926829\n",
       "0   0.00001        0.997756       0.976682     0.919255        0.919255\n",
       "1   0.11001        0.996635       0.978475     0.944099        0.910180\n",
       "2   0.22001        0.995961       0.978475     0.950311        0.905325"
      ]
     },
     "execution_count": 20,
     "metadata": {},
     "output_type": "execute_result"
    }
   ],
   "source": [
    "models[models['Test Recall']>0.9].sort_values(by=\"Test Precision\", ascending = False)\n"
   ]
  },
  {
   "cell_type": "markdown",
   "metadata": {},
   "source": [
    "Давайте из них выберем те, у которых наибольшее accuracy"
   ]
  },
  {
   "cell_type": "code",
   "execution_count": 52,
   "metadata": {},
   "outputs": [
    {
     "name": "stdout",
     "output_type": "stream",
     "text": [
      "alpha             5.830010\n",
      "Train Accuracy    0.990128\n",
      "Test Accuracy     0.976682\n",
      "Test Recall       0.838509\n",
      "Test Precision    1.000000\n",
      "Name: 53, dtype: float64\n",
      "alpha             0.330010\n",
      "Train Accuracy    0.995737\n",
      "Test Accuracy     0.982063\n",
      "Test Recall       0.944099\n",
      "Test Precision    0.932515\n",
      "Name: 3, dtype: float64\n"
     ]
    }
   ],
   "source": [
    "best_index = models[models['Test Precision']==1]['Test Accuracy'].idxmax()\n",
    "\n",
    "print(models.iloc[best_index])\n",
    "\n",
    "best_index = models[models['Test Precision']>0.9]['Test Accuracy'].idxmax()\n",
    "\n",
    "print(models.iloc[best_index])"
   ]
  },
  {
   "cell_type": "markdown",
   "metadata": {},
   "source": [
    "### сделаем предикшн"
   ]
  },
  {
   "cell_type": "code",
   "execution_count": 54,
   "metadata": {},
   "outputs": [
    {
     "data": {
      "text/plain": "      spam  predicted\n3409     0          0\n2103     0          0\n2665     0          0\n3239     0          0\n1205     0          0\n...    ...        ...\n5020     0          0\n2141     0          0\n1265     0          0\n4094     0          0\n1839     0          0\n\n[1115 rows x 2 columns]",
      "text/html": "<div>\n<style scoped>\n    .dataframe tbody tr th:only-of-type {\n        vertical-align: middle;\n    }\n\n    .dataframe tbody tr th {\n        vertical-align: top;\n    }\n\n    .dataframe thead th {\n        text-align: right;\n    }\n</style>\n<table border=\"1\" class=\"dataframe\">\n  <thead>\n    <tr style=\"text-align: right;\">\n      <th></th>\n      <th>spam</th>\n      <th>predicted</th>\n    </tr>\n  </thead>\n  <tbody>\n    <tr>\n      <th>3409</th>\n      <td>0</td>\n      <td>0</td>\n    </tr>\n    <tr>\n      <th>2103</th>\n      <td>0</td>\n      <td>0</td>\n    </tr>\n    <tr>\n      <th>2665</th>\n      <td>0</td>\n      <td>0</td>\n    </tr>\n    <tr>\n      <th>3239</th>\n      <td>0</td>\n      <td>0</td>\n    </tr>\n    <tr>\n      <th>1205</th>\n      <td>0</td>\n      <td>0</td>\n    </tr>\n    <tr>\n      <th>...</th>\n      <td>...</td>\n      <td>...</td>\n    </tr>\n    <tr>\n      <th>5020</th>\n      <td>0</td>\n      <td>0</td>\n    </tr>\n    <tr>\n      <th>2141</th>\n      <td>0</td>\n      <td>0</td>\n    </tr>\n    <tr>\n      <th>1265</th>\n      <td>0</td>\n      <td>0</td>\n    </tr>\n    <tr>\n      <th>4094</th>\n      <td>0</td>\n      <td>0</td>\n    </tr>\n    <tr>\n      <th>1839</th>\n      <td>0</td>\n      <td>0</td>\n    </tr>\n  </tbody>\n</table>\n<p>1115 rows × 2 columns</p>\n</div>"
     },
     "execution_count": 54,
     "metadata": {},
     "output_type": "execute_result"
    }
   ],
   "source": [
    "bayes = naive_bayes.MultinomialNB(alpha= 0.330010) # используем лучшую модель\n",
    "bayes.fit(X_train, y_train) # тренируем алгоритм на данных\n",
    "\n",
    "bayes.predict(X_test) # метод для предсказания\n",
    "\n",
    "# сделаем датафрейм с колонками для настоящего класса и для предсказанного\n",
    "\n",
    "new_df = pd.DataFrame(data = y_test)\n",
    "new_df[\"predicted\"]=bayes.predict(X_test) # добавляем новую колонку с предсказаниями\n",
    "\n",
    "new_df"
   ]
  },
  {
   "cell_type": "markdown",
   "metadata": {},
   "source": [
    "давайте построим матрицу ошибок ([как работает матрица ошибок](https://en.wikipedia.org/wiki/Confusion_matrix))"
   ]
  },
  {
   "cell_type": "code",
   "execution_count": 55,
   "metadata": {},
   "outputs": [
    {
     "data": {
      "text/plain": "             Predicted ham  Predicted spam\nActual ham             943              11\nActual spam              9             152",
      "text/html": "<div>\n<style scoped>\n    .dataframe tbody tr th:only-of-type {\n        vertical-align: middle;\n    }\n\n    .dataframe tbody tr th {\n        vertical-align: top;\n    }\n\n    .dataframe thead th {\n        text-align: right;\n    }\n</style>\n<table border=\"1\" class=\"dataframe\">\n  <thead>\n    <tr style=\"text-align: right;\">\n      <th></th>\n      <th>Predicted ham</th>\n      <th>Predicted spam</th>\n    </tr>\n  </thead>\n  <tbody>\n    <tr>\n      <th>Actual ham</th>\n      <td>943</td>\n      <td>11</td>\n    </tr>\n    <tr>\n      <th>Actual spam</th>\n      <td>9</td>\n      <td>152</td>\n    </tr>\n  </tbody>\n</table>\n</div>"
     },
     "execution_count": 55,
     "metadata": {},
     "output_type": "execute_result"
    }
   ],
   "source": [
    "m_confusion_test = metrics.confusion_matrix(y_test, bayes.predict(X_test))\n",
    "\n",
    "\n",
    "pd.DataFrame(data = m_confusion_test,\n",
    "             columns = ['Predicted ham', 'Predicted spam'],\n",
    "             index = ['Actual ham', 'Actual spam'])"
   ]
  },
  {
   "cell_type": "markdown",
   "metadata": {},
   "source": [
    "Заметим, что так как мы определили лейбл spam как класс 1, наша табличка \"перевернута\" и начинается с True Negative (Actual ham x Predicted ham) \n",
    "Сколько сообщений получились False Positive? Сколько False Negative?"
   ]
  },
  {
   "cell_type": "markdown",
   "metadata": {},
   "source": [
    "# Support Vector Machines (SVM, метод опорных векторов)"
   ]
  },
  {
   "cell_type": "markdown",
   "metadata": {},
   "source": [
    "попробуем сделать ту же задачу, с алгоритмом SVM"
   ]
  },
  {
   "cell_type": "code",
   "execution_count": 24,
   "metadata": {},
   "outputs": [],
   "source": [
    "list_C = np.arange(500, 2000, 100) #100000\n",
    "\n",
    "score_train = np.zeros(len(list_C))\n",
    "score_test = np.zeros(len(list_C))\n",
    "recall_test = np.zeros(len(list_C))\n",
    "precision_test= np.zeros(len(list_C))\n",
    "count = 0\n",
    "for C in list_C:\n",
    "    svc = svm.SVC(C=C)\n",
    "    svc.fit(X_train, y_train)\n",
    "    score_train[count] = svc.score(X_train, y_train)\n",
    "    score_test[count]= svc.score(X_test, y_test)\n",
    "    recall_test[count] = metrics.recall_score(y_test, svc.predict(X_test))\n",
    "    precision_test[count] = metrics.precision_score(y_test, svc.predict(X_test))\n",
    "    count = count + 1 "
   ]
  },
  {
   "cell_type": "markdown",
   "metadata": {},
   "source": [
    "посмотрим на 10 первых моделей и их метрики:"
   ]
  },
  {
   "cell_type": "code",
   "execution_count": 25,
   "metadata": {},
   "outputs": [
    {
     "data": {
      "text/html": [
       "<div>\n",
       "<style scoped>\n",
       "    .dataframe tbody tr th:only-of-type {\n",
       "        vertical-align: middle;\n",
       "    }\n",
       "\n",
       "    .dataframe tbody tr th {\n",
       "        vertical-align: top;\n",
       "    }\n",
       "\n",
       "    .dataframe thead th {\n",
       "        text-align: right;\n",
       "    }\n",
       "</style>\n",
       "<table border=\"1\" class=\"dataframe\">\n",
       "  <thead>\n",
       "    <tr style=\"text-align: right;\">\n",
       "      <th></th>\n",
       "      <th>C</th>\n",
       "      <th>Train Accuracy</th>\n",
       "      <th>Test Accuracy</th>\n",
       "      <th>Test Recall</th>\n",
       "      <th>Test Precision</th>\n",
       "    </tr>\n",
       "  </thead>\n",
       "  <tbody>\n",
       "    <tr>\n",
       "      <th>0</th>\n",
       "      <td>500.0</td>\n",
       "      <td>1.0</td>\n",
       "      <td>0.970404</td>\n",
       "      <td>0.801242</td>\n",
       "      <td>0.992308</td>\n",
       "    </tr>\n",
       "    <tr>\n",
       "      <th>1</th>\n",
       "      <td>600.0</td>\n",
       "      <td>1.0</td>\n",
       "      <td>0.970404</td>\n",
       "      <td>0.801242</td>\n",
       "      <td>0.992308</td>\n",
       "    </tr>\n",
       "    <tr>\n",
       "      <th>2</th>\n",
       "      <td>700.0</td>\n",
       "      <td>1.0</td>\n",
       "      <td>0.970404</td>\n",
       "      <td>0.801242</td>\n",
       "      <td>0.992308</td>\n",
       "    </tr>\n",
       "    <tr>\n",
       "      <th>3</th>\n",
       "      <td>800.0</td>\n",
       "      <td>1.0</td>\n",
       "      <td>0.970404</td>\n",
       "      <td>0.801242</td>\n",
       "      <td>0.992308</td>\n",
       "    </tr>\n",
       "    <tr>\n",
       "      <th>4</th>\n",
       "      <td>900.0</td>\n",
       "      <td>1.0</td>\n",
       "      <td>0.970404</td>\n",
       "      <td>0.801242</td>\n",
       "      <td>0.992308</td>\n",
       "    </tr>\n",
       "    <tr>\n",
       "      <th>5</th>\n",
       "      <td>1000.0</td>\n",
       "      <td>1.0</td>\n",
       "      <td>0.970404</td>\n",
       "      <td>0.801242</td>\n",
       "      <td>0.992308</td>\n",
       "    </tr>\n",
       "    <tr>\n",
       "      <th>6</th>\n",
       "      <td>1100.0</td>\n",
       "      <td>1.0</td>\n",
       "      <td>0.970404</td>\n",
       "      <td>0.801242</td>\n",
       "      <td>0.992308</td>\n",
       "    </tr>\n",
       "    <tr>\n",
       "      <th>7</th>\n",
       "      <td>1200.0</td>\n",
       "      <td>1.0</td>\n",
       "      <td>0.970404</td>\n",
       "      <td>0.801242</td>\n",
       "      <td>0.992308</td>\n",
       "    </tr>\n",
       "    <tr>\n",
       "      <th>8</th>\n",
       "      <td>1300.0</td>\n",
       "      <td>1.0</td>\n",
       "      <td>0.970404</td>\n",
       "      <td>0.801242</td>\n",
       "      <td>0.992308</td>\n",
       "    </tr>\n",
       "    <tr>\n",
       "      <th>9</th>\n",
       "      <td>1400.0</td>\n",
       "      <td>1.0</td>\n",
       "      <td>0.970404</td>\n",
       "      <td>0.801242</td>\n",
       "      <td>0.992308</td>\n",
       "    </tr>\n",
       "  </tbody>\n",
       "</table>\n",
       "</div>"
      ],
      "text/plain": [
       "        C  Train Accuracy  Test Accuracy  Test Recall  Test Precision\n",
       "0   500.0             1.0       0.970404     0.801242        0.992308\n",
       "1   600.0             1.0       0.970404     0.801242        0.992308\n",
       "2   700.0             1.0       0.970404     0.801242        0.992308\n",
       "3   800.0             1.0       0.970404     0.801242        0.992308\n",
       "4   900.0             1.0       0.970404     0.801242        0.992308\n",
       "5  1000.0             1.0       0.970404     0.801242        0.992308\n",
       "6  1100.0             1.0       0.970404     0.801242        0.992308\n",
       "7  1200.0             1.0       0.970404     0.801242        0.992308\n",
       "8  1300.0             1.0       0.970404     0.801242        0.992308\n",
       "9  1400.0             1.0       0.970404     0.801242        0.992308"
      ]
     },
     "execution_count": 25,
     "metadata": {},
     "output_type": "execute_result"
    }
   ],
   "source": [
    "matrix = np.matrix(np.c_[list_C, score_train, score_test, recall_test, precision_test])\n",
    "models = pd.DataFrame(data = matrix, columns = \n",
    "             ['C', 'Train Accuracy', 'Test Accuracy', 'Test Recall', 'Test Precision'])\n",
    "models.head(n=10)"
   ]
  },
  {
   "cell_type": "markdown",
   "metadata": {},
   "source": [
    "выберем модель с лучшим test precision"
   ]
  },
  {
   "cell_type": "code",
   "execution_count": 26,
   "metadata": {},
   "outputs": [
    {
     "data": {
      "text/plain": [
       "C                 500.000000\n",
       "Train Accuracy      1.000000\n",
       "Test Accuracy       0.970404\n",
       "Test Recall         0.801242\n",
       "Test Precision      0.992308\n",
       "Name: 0, dtype: float64"
      ]
     },
     "metadata": {},
     "output_type": "display_data"
    }
   ],
   "source": [
    "best_index = models['Test Precision'].idxmax()\n",
    "\n",
    "display(models.iloc[best_index, :])"
   ]
  },
  {
   "cell_type": "code",
   "execution_count": 27,
   "metadata": {},
   "outputs": [
    {
     "data": {
      "text/html": [
       "<div>\n",
       "<style scoped>\n",
       "    .dataframe tbody tr th:only-of-type {\n",
       "        vertical-align: middle;\n",
       "    }\n",
       "\n",
       "    .dataframe tbody tr th {\n",
       "        vertical-align: top;\n",
       "    }\n",
       "\n",
       "    .dataframe thead th {\n",
       "        text-align: right;\n",
       "    }\n",
       "</style>\n",
       "<table border=\"1\" class=\"dataframe\">\n",
       "  <thead>\n",
       "    <tr style=\"text-align: right;\">\n",
       "      <th></th>\n",
       "      <th>C</th>\n",
       "      <th>Train Accuracy</th>\n",
       "      <th>Test Accuracy</th>\n",
       "      <th>Test Recall</th>\n",
       "      <th>Test Precision</th>\n",
       "    </tr>\n",
       "  </thead>\n",
       "  <tbody>\n",
       "    <tr>\n",
       "      <th>0</th>\n",
       "      <td>500.0</td>\n",
       "      <td>1.0</td>\n",
       "      <td>0.970404</td>\n",
       "      <td>0.801242</td>\n",
       "      <td>0.992308</td>\n",
       "    </tr>\n",
       "    <tr>\n",
       "      <th>1</th>\n",
       "      <td>600.0</td>\n",
       "      <td>1.0</td>\n",
       "      <td>0.970404</td>\n",
       "      <td>0.801242</td>\n",
       "      <td>0.992308</td>\n",
       "    </tr>\n",
       "    <tr>\n",
       "      <th>2</th>\n",
       "      <td>700.0</td>\n",
       "      <td>1.0</td>\n",
       "      <td>0.970404</td>\n",
       "      <td>0.801242</td>\n",
       "      <td>0.992308</td>\n",
       "    </tr>\n",
       "    <tr>\n",
       "      <th>3</th>\n",
       "      <td>800.0</td>\n",
       "      <td>1.0</td>\n",
       "      <td>0.970404</td>\n",
       "      <td>0.801242</td>\n",
       "      <td>0.992308</td>\n",
       "    </tr>\n",
       "    <tr>\n",
       "      <th>4</th>\n",
       "      <td>900.0</td>\n",
       "      <td>1.0</td>\n",
       "      <td>0.970404</td>\n",
       "      <td>0.801242</td>\n",
       "      <td>0.992308</td>\n",
       "    </tr>\n",
       "  </tbody>\n",
       "</table>\n",
       "</div>"
      ],
      "text/plain": [
       "       C  Train Accuracy  Test Accuracy  Test Recall  Test Precision\n",
       "0  500.0             1.0       0.970404     0.801242        0.992308\n",
       "1  600.0             1.0       0.970404     0.801242        0.992308\n",
       "2  700.0             1.0       0.970404     0.801242        0.992308\n",
       "3  800.0             1.0       0.970404     0.801242        0.992308\n",
       "4  900.0             1.0       0.970404     0.801242        0.992308"
      ]
     },
     "execution_count": 27,
     "metadata": {},
     "output_type": "execute_result"
    }
   ],
   "source": [
    "# посмотрим на модели с почти 100% Precision\n",
    "\n",
    "models[models['Test Precision']>0.99].head(5)"
   ]
  },
  {
   "cell_type": "code",
   "execution_count": 28,
   "metadata": {},
   "outputs": [
    {
     "data": {
      "text/plain": [
       "C                 500.000000\n",
       "Train Accuracy      1.000000\n",
       "Test Accuracy       0.970404\n",
       "Test Recall         0.801242\n",
       "Test Precision      0.992308\n",
       "Name: 0, dtype: float64"
      ]
     },
     "execution_count": 28,
     "metadata": {},
     "output_type": "execute_result"
    }
   ],
   "source": [
    "best_index = models[models['Test Precision']>0.99]['Test Accuracy'].idxmax()\n",
    "svc = svm.SVC(C=list_C[best_index])\n",
    "svc.fit(X_train, y_train)\n",
    "models.iloc[best_index, :]"
   ]
  },
  {
   "cell_type": "markdown",
   "metadata": {},
   "source": [
    "построим матрицу ошибок для SVM"
   ]
  },
  {
   "cell_type": "code",
   "execution_count": 29,
   "metadata": {},
   "outputs": [
    {
     "data": {
      "text/html": [
       "<div>\n",
       "<style scoped>\n",
       "    .dataframe tbody tr th:only-of-type {\n",
       "        vertical-align: middle;\n",
       "    }\n",
       "\n",
       "    .dataframe tbody tr th {\n",
       "        vertical-align: top;\n",
       "    }\n",
       "\n",
       "    .dataframe thead th {\n",
       "        text-align: right;\n",
       "    }\n",
       "</style>\n",
       "<table border=\"1\" class=\"dataframe\">\n",
       "  <thead>\n",
       "    <tr style=\"text-align: right;\">\n",
       "      <th></th>\n",
       "      <th>Predicted 0</th>\n",
       "      <th>Predicted 1</th>\n",
       "    </tr>\n",
       "  </thead>\n",
       "  <tbody>\n",
       "    <tr>\n",
       "      <th>Actual 0</th>\n",
       "      <td>953</td>\n",
       "      <td>1</td>\n",
       "    </tr>\n",
       "    <tr>\n",
       "      <th>Actual 1</th>\n",
       "      <td>32</td>\n",
       "      <td>129</td>\n",
       "    </tr>\n",
       "  </tbody>\n",
       "</table>\n",
       "</div>"
      ],
      "text/plain": [
       "          Predicted 0  Predicted 1\n",
       "Actual 0          953            1\n",
       "Actual 1           32          129"
      ]
     },
     "execution_count": 29,
     "metadata": {},
     "output_type": "execute_result"
    }
   ],
   "source": [
    "m_confusion_test = metrics.confusion_matrix(y_test, svc.predict(X_test))\n",
    "pd.DataFrame(data = m_confusion_test, columns = ['Predicted 0', 'Predicted 1'],\n",
    "            index = ['Actual 0', 'Actual 1'])"
   ]
  },
  {
   "cell_type": "code",
   "execution_count": null,
   "metadata": {},
   "outputs": [],
   "source": []
  }
 ],
 "metadata": {
  "kernelspec": {
   "display_name": "Python 3 (ipykernel)",
   "language": "python",
   "name": "python3"
  },
  "language_info": {
   "codemirror_mode": {
    "name": "ipython",
    "version": 3
   },
   "file_extension": ".py",
   "mimetype": "text/x-python",
   "name": "python",
   "nbconvert_exporter": "python",
   "pygments_lexer": "ipython3",
   "version": "3.10.2"
  }
 },
 "nbformat": 4,
 "nbformat_minor": 4
}