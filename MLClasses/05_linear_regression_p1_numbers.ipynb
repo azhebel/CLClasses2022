{
 "cells": [
  {
   "cell_type": "markdown",
   "metadata": {},
   "source": [
    "# Регрессия как метод машинного обучения"
   ]
  },
  {
   "cell_type": "markdown",
   "metadata": {},
   "source": [
    "а вот два видео: \n",
    "- [на английском](https://www.youtube.com/watch?v=nk2CQITm_eo)\n",
    "\n",
    "- [на русском](https://www.youtube.com/watch?v=MM4onsNaLlI)"
   ]
  },
  {
   "cell_type": "markdown",
   "metadata": {
    "tags": []
   },
   "source": [
    "#### Классификация VS Регрессия \n",
    "\n",
    "**классификация** — предсказание категории объекта *(что за машина передо мной в пробке?)*\n",
    "\n",
    "**регрессия** — предсказание места на числовой прямой *(когда будут самые сильные пробки?)*"
   ]
  },
  {
   "cell_type": "markdown",
   "metadata": {},
   "source": [
    "Сегодня используют для:\n",
    "\n",
    "- Медицинские диагнозы\n",
    "- Любые зависимости числа от времени (прогнозы)\n",
    "- Анализ изменения некоторой переменной (спросы/продажи/цены)"
   ]
  },
  {
   "cell_type": "markdown",
   "metadata": {},
   "source": [
    "# Первичный анализ данных"
   ]
  },
  {
   "cell_type": "markdown",
   "metadata": {},
   "source": [
    "На этом занятии мы попробуем задачу регрессии. Данные возьмем вот эти - https://www.kaggle.com/budincsevity/szeged-weather"
   ]
  },
  {
   "cell_type": "markdown",
   "metadata": {},
   "source": [
    "Перед обучением модели, нужно подготовить данные:\n",
    "\n",
    "- найти\\собрать данные\n",
    "- почистить и предобработать\n",
    "- преобразовать в матрицы \n",
    "\n",
    "\n",
    "Часто это занимает на порядок больше времени, чем само обучение"
   ]
  },
  {
   "cell_type": "code",
   "execution_count": 79,
   "metadata": {},
   "outputs": [],
   "source": [
    "# традиционная ячейка импортов\n",
    "import pandas as pd\n",
    "\n",
    "import seaborn as sns\n",
    "import matplotlib.pyplot as plt\n",
    "# %matplotlib inline"
   ]
  },
  {
   "cell_type": "code",
   "execution_count": 87,
   "metadata": {},
   "outputs": [],
   "source": [
    "weather = pd.read_csv('weather.csv')"
   ]
  },
  {
   "cell_type": "markdown",
   "metadata": {},
   "source": [
    "Первым делом стоит посмотреть на размер датасета"
   ]
  },
  {
   "cell_type": "code",
   "execution_count": 81,
   "metadata": {},
   "outputs": [
    {
     "data": {
      "text/plain": "(96453, 12)"
     },
     "execution_count": 81,
     "metadata": {},
     "output_type": "execute_result"
    }
   ],
   "source": [
    "weather.shape\n",
    "# (#строчек, #колонок)"
   ]
  },
  {
   "cell_type": "markdown",
   "metadata": {},
   "source": [
    "Чтобы взглянуть на данные можно вывести несколько первых строчек."
   ]
  },
  {
   "cell_type": "code",
   "execution_count": 82,
   "outputs": [
    {
     "data": {
      "text/plain": "                  Formatted Date        Summary Precip Type  Temperature (C)  \\\n0  2006-04-01 00:00:00.000 +0200  Partly Cloudy        rain         9.472222   \n1  2006-04-01 01:00:00.000 +0200  Partly Cloudy        rain         9.355556   \n2  2006-04-01 02:00:00.000 +0200  Mostly Cloudy        rain         9.377778   \n3  2006-04-01 03:00:00.000 +0200  Partly Cloudy        rain         8.288889   \n4  2006-04-01 04:00:00.000 +0200  Mostly Cloudy        rain         8.755556   \n\n   Apparent Temperature (C)  Humidity  Wind Speed (km/h)  \\\n0                  7.388889      0.89            14.1197   \n1                  7.227778      0.86            14.2646   \n2                  9.377778      0.89             3.9284   \n3                  5.944444      0.83            14.1036   \n4                  6.977778      0.83            11.0446   \n\n   Wind Bearing (degrees)  Visibility (km)  Loud Cover  Pressure (millibars)  \\\n0                   251.0          15.8263         0.0               1015.13   \n1                   259.0          15.8263         0.0               1015.63   \n2                   204.0          14.9569         0.0               1015.94   \n3                   269.0          15.8263         0.0               1016.41   \n4                   259.0          15.8263         0.0               1016.51   \n\n                       Daily Summary  \n0  Partly cloudy throughout the day.  \n1  Partly cloudy throughout the day.  \n2  Partly cloudy throughout the day.  \n3  Partly cloudy throughout the day.  \n4  Partly cloudy throughout the day.  ",
      "text/html": "<div>\n<style scoped>\n    .dataframe tbody tr th:only-of-type {\n        vertical-align: middle;\n    }\n\n    .dataframe tbody tr th {\n        vertical-align: top;\n    }\n\n    .dataframe thead th {\n        text-align: right;\n    }\n</style>\n<table border=\"1\" class=\"dataframe\">\n  <thead>\n    <tr style=\"text-align: right;\">\n      <th></th>\n      <th>Formatted Date</th>\n      <th>Summary</th>\n      <th>Precip Type</th>\n      <th>Temperature (C)</th>\n      <th>Apparent Temperature (C)</th>\n      <th>Humidity</th>\n      <th>Wind Speed (km/h)</th>\n      <th>Wind Bearing (degrees)</th>\n      <th>Visibility (km)</th>\n      <th>Loud Cover</th>\n      <th>Pressure (millibars)</th>\n      <th>Daily Summary</th>\n    </tr>\n  </thead>\n  <tbody>\n    <tr>\n      <th>0</th>\n      <td>2006-04-01 00:00:00.000 +0200</td>\n      <td>Partly Cloudy</td>\n      <td>rain</td>\n      <td>9.472222</td>\n      <td>7.388889</td>\n      <td>0.89</td>\n      <td>14.1197</td>\n      <td>251.0</td>\n      <td>15.8263</td>\n      <td>0.0</td>\n      <td>1015.13</td>\n      <td>Partly cloudy throughout the day.</td>\n    </tr>\n    <tr>\n      <th>1</th>\n      <td>2006-04-01 01:00:00.000 +0200</td>\n      <td>Partly Cloudy</td>\n      <td>rain</td>\n      <td>9.355556</td>\n      <td>7.227778</td>\n      <td>0.86</td>\n      <td>14.2646</td>\n      <td>259.0</td>\n      <td>15.8263</td>\n      <td>0.0</td>\n      <td>1015.63</td>\n      <td>Partly cloudy throughout the day.</td>\n    </tr>\n    <tr>\n      <th>2</th>\n      <td>2006-04-01 02:00:00.000 +0200</td>\n      <td>Mostly Cloudy</td>\n      <td>rain</td>\n      <td>9.377778</td>\n      <td>9.377778</td>\n      <td>0.89</td>\n      <td>3.9284</td>\n      <td>204.0</td>\n      <td>14.9569</td>\n      <td>0.0</td>\n      <td>1015.94</td>\n      <td>Partly cloudy throughout the day.</td>\n    </tr>\n    <tr>\n      <th>3</th>\n      <td>2006-04-01 03:00:00.000 +0200</td>\n      <td>Partly Cloudy</td>\n      <td>rain</td>\n      <td>8.288889</td>\n      <td>5.944444</td>\n      <td>0.83</td>\n      <td>14.1036</td>\n      <td>269.0</td>\n      <td>15.8263</td>\n      <td>0.0</td>\n      <td>1016.41</td>\n      <td>Partly cloudy throughout the day.</td>\n    </tr>\n    <tr>\n      <th>4</th>\n      <td>2006-04-01 04:00:00.000 +0200</td>\n      <td>Mostly Cloudy</td>\n      <td>rain</td>\n      <td>8.755556</td>\n      <td>6.977778</td>\n      <td>0.83</td>\n      <td>11.0446</td>\n      <td>259.0</td>\n      <td>15.8263</td>\n      <td>0.0</td>\n      <td>1016.51</td>\n      <td>Partly cloudy throughout the day.</td>\n    </tr>\n  </tbody>\n</table>\n</div>"
     },
     "execution_count": 82,
     "metadata": {},
     "output_type": "execute_result"
    }
   ],
   "source": [
    "weather.head(5)"
   ],
   "metadata": {
    "collapsed": false,
    "pycharm": {
     "name": "#%%\n"
    }
   }
  },
  {
   "cell_type": "code",
   "execution_count": 83,
   "metadata": {},
   "outputs": [
    {
     "data": {
      "text/plain": "                      Formatted Date        Summary Precip Type  \\\n96448  2016-09-09 19:00:00.000 +0200  Partly Cloudy        rain   \n96449  2016-09-09 20:00:00.000 +0200  Partly Cloudy        rain   \n96450  2016-09-09 21:00:00.000 +0200  Partly Cloudy        rain   \n96451  2016-09-09 22:00:00.000 +0200  Partly Cloudy        rain   \n96452  2016-09-09 23:00:00.000 +0200  Partly Cloudy        rain   \n\n       Temperature (C)  Apparent Temperature (C)  Humidity  Wind Speed (km/h)  \\\n96448        26.016667                 26.016667      0.43            10.9963   \n96449        24.583333                 24.583333      0.48            10.0947   \n96450        22.038889                 22.038889      0.56             8.9838   \n96451        21.522222                 21.522222      0.60            10.5294   \n96452        20.438889                 20.438889      0.61             5.8765   \n\n       Wind Bearing (degrees)  Visibility (km)  Loud Cover  \\\n96448                    31.0          16.1000         0.0   \n96449                    20.0          15.5526         0.0   \n96450                    30.0          16.1000         0.0   \n96451                    20.0          16.1000         0.0   \n96452                    39.0          15.5204         0.0   \n\n       Pressure (millibars)                           Daily Summary  \n96448               1014.36  Partly cloudy starting in the morning.  \n96449               1015.16  Partly cloudy starting in the morning.  \n96450               1015.66  Partly cloudy starting in the morning.  \n96451               1015.95  Partly cloudy starting in the morning.  \n96452               1016.16  Partly cloudy starting in the morning.  ",
      "text/html": "<div>\n<style scoped>\n    .dataframe tbody tr th:only-of-type {\n        vertical-align: middle;\n    }\n\n    .dataframe tbody tr th {\n        vertical-align: top;\n    }\n\n    .dataframe thead th {\n        text-align: right;\n    }\n</style>\n<table border=\"1\" class=\"dataframe\">\n  <thead>\n    <tr style=\"text-align: right;\">\n      <th></th>\n      <th>Formatted Date</th>\n      <th>Summary</th>\n      <th>Precip Type</th>\n      <th>Temperature (C)</th>\n      <th>Apparent Temperature (C)</th>\n      <th>Humidity</th>\n      <th>Wind Speed (km/h)</th>\n      <th>Wind Bearing (degrees)</th>\n      <th>Visibility (km)</th>\n      <th>Loud Cover</th>\n      <th>Pressure (millibars)</th>\n      <th>Daily Summary</th>\n    </tr>\n  </thead>\n  <tbody>\n    <tr>\n      <th>96448</th>\n      <td>2016-09-09 19:00:00.000 +0200</td>\n      <td>Partly Cloudy</td>\n      <td>rain</td>\n      <td>26.016667</td>\n      <td>26.016667</td>\n      <td>0.43</td>\n      <td>10.9963</td>\n      <td>31.0</td>\n      <td>16.1000</td>\n      <td>0.0</td>\n      <td>1014.36</td>\n      <td>Partly cloudy starting in the morning.</td>\n    </tr>\n    <tr>\n      <th>96449</th>\n      <td>2016-09-09 20:00:00.000 +0200</td>\n      <td>Partly Cloudy</td>\n      <td>rain</td>\n      <td>24.583333</td>\n      <td>24.583333</td>\n      <td>0.48</td>\n      <td>10.0947</td>\n      <td>20.0</td>\n      <td>15.5526</td>\n      <td>0.0</td>\n      <td>1015.16</td>\n      <td>Partly cloudy starting in the morning.</td>\n    </tr>\n    <tr>\n      <th>96450</th>\n      <td>2016-09-09 21:00:00.000 +0200</td>\n      <td>Partly Cloudy</td>\n      <td>rain</td>\n      <td>22.038889</td>\n      <td>22.038889</td>\n      <td>0.56</td>\n      <td>8.9838</td>\n      <td>30.0</td>\n      <td>16.1000</td>\n      <td>0.0</td>\n      <td>1015.66</td>\n      <td>Partly cloudy starting in the morning.</td>\n    </tr>\n    <tr>\n      <th>96451</th>\n      <td>2016-09-09 22:00:00.000 +0200</td>\n      <td>Partly Cloudy</td>\n      <td>rain</td>\n      <td>21.522222</td>\n      <td>21.522222</td>\n      <td>0.60</td>\n      <td>10.5294</td>\n      <td>20.0</td>\n      <td>16.1000</td>\n      <td>0.0</td>\n      <td>1015.95</td>\n      <td>Partly cloudy starting in the morning.</td>\n    </tr>\n    <tr>\n      <th>96452</th>\n      <td>2016-09-09 23:00:00.000 +0200</td>\n      <td>Partly Cloudy</td>\n      <td>rain</td>\n      <td>20.438889</td>\n      <td>20.438889</td>\n      <td>0.61</td>\n      <td>5.8765</td>\n      <td>39.0</td>\n      <td>15.5204</td>\n      <td>0.0</td>\n      <td>1016.16</td>\n      <td>Partly cloudy starting in the morning.</td>\n    </tr>\n  </tbody>\n</table>\n</div>"
     },
     "execution_count": 83,
     "metadata": {},
     "output_type": "execute_result"
    }
   ],
   "source": [
    "weather.tail(5)"
   ]
  },
  {
   "cell_type": "markdown",
   "metadata": {},
   "source": [
    "Посмотреть все колонки датасета можно вот так"
   ]
  },
  {
   "cell_type": "code",
   "execution_count": 89,
   "metadata": {},
   "outputs": [
    {
     "data": {
      "text/plain": "Index(['date', 'summary', 'precip', 'temp', 'app_temp', 'humidity',\n       'wind_speed', 'wind_bearing', 'visibility', 'Loud Cover', 'pressure',\n       'daily_summary'],\n      dtype='object')"
     },
     "execution_count": 89,
     "metadata": {},
     "output_type": "execute_result"
    }
   ],
   "source": [
    "weather.columns"
   ]
  },
  {
   "cell_type": "markdown",
   "metadata": {},
   "source": [
    "Пробелы и скобочки в названиях немного смущают. Давайте сделаем названия короче и с маленькой буквы"
   ]
  },
  {
   "cell_type": "code",
   "execution_count": 88,
   "metadata": {},
   "outputs": [],
   "source": [
    "# можно переименовать колонки\n",
    "weather.rename({'Formatted Date':'date', 'Temperature (C)':'temp', 'Apparent Temperature (C)':'app_temp',\n",
    "                'Precip Type':'precip', 'Wind Speed (km/h)':'wind_speed', 'Humidity':'humidity',\n",
    "                'Daily Summary':'daily_summary', \"Wind Bearing (degrees)\":\"wind_bearing\", \"Visibility (km)\":\"visibility\",\n",
    "                \"Pressure (millibars)\":\"pressure\", \"Summary\":\"summary\"}, axis=1, inplace=True)\n",
    "# последний аргумент  inplace=True позволяет пересохранять изменения сразу в датасете(без копирования объекта)\n",
    "\n"
   ]
  },
  {
   "cell_type": "markdown",
   "metadata": {},
   "source": [
    "а можно создать новую колонку и присвоить ей значение старой, а затем отбросить старую"
   ]
  },
  {
   "cell_type": "code",
   "execution_count": 90,
   "metadata": {},
   "outputs": [
    {
     "data": {
      "text/plain": "                            date        summary precip      temp  app_temp  \\\n0  2006-04-01 00:00:00.000 +0200  Partly Cloudy   rain  9.472222  7.388889   \n1  2006-04-01 01:00:00.000 +0200  Partly Cloudy   rain  9.355556  7.227778   \n2  2006-04-01 02:00:00.000 +0200  Mostly Cloudy   rain  9.377778  9.377778   \n3  2006-04-01 03:00:00.000 +0200  Partly Cloudy   rain  8.288889  5.944444   \n4  2006-04-01 04:00:00.000 +0200  Mostly Cloudy   rain  8.755556  6.977778   \n\n   humidity  wind_speed  wind_bearing  visibility  Loud Cover  pressure  \\\n0      0.89     14.1197         251.0     15.8263         0.0   1015.13   \n1      0.86     14.2646         259.0     15.8263         0.0   1015.63   \n2      0.89      3.9284         204.0     14.9569         0.0   1015.94   \n3      0.83     14.1036         269.0     15.8263         0.0   1016.41   \n4      0.83     11.0446         259.0     15.8263         0.0   1016.51   \n\n                       daily_summary  \n0  Partly cloudy throughout the day.  \n1  Partly cloudy throughout the day.  \n2  Partly cloudy throughout the day.  \n3  Partly cloudy throughout the day.  \n4  Partly cloudy throughout the day.  ",
      "text/html": "<div>\n<style scoped>\n    .dataframe tbody tr th:only-of-type {\n        vertical-align: middle;\n    }\n\n    .dataframe tbody tr th {\n        vertical-align: top;\n    }\n\n    .dataframe thead th {\n        text-align: right;\n    }\n</style>\n<table border=\"1\" class=\"dataframe\">\n  <thead>\n    <tr style=\"text-align: right;\">\n      <th></th>\n      <th>date</th>\n      <th>summary</th>\n      <th>precip</th>\n      <th>temp</th>\n      <th>app_temp</th>\n      <th>humidity</th>\n      <th>wind_speed</th>\n      <th>wind_bearing</th>\n      <th>visibility</th>\n      <th>Loud Cover</th>\n      <th>pressure</th>\n      <th>daily_summary</th>\n    </tr>\n  </thead>\n  <tbody>\n    <tr>\n      <th>0</th>\n      <td>2006-04-01 00:00:00.000 +0200</td>\n      <td>Partly Cloudy</td>\n      <td>rain</td>\n      <td>9.472222</td>\n      <td>7.388889</td>\n      <td>0.89</td>\n      <td>14.1197</td>\n      <td>251.0</td>\n      <td>15.8263</td>\n      <td>0.0</td>\n      <td>1015.13</td>\n      <td>Partly cloudy throughout the day.</td>\n    </tr>\n    <tr>\n      <th>1</th>\n      <td>2006-04-01 01:00:00.000 +0200</td>\n      <td>Partly Cloudy</td>\n      <td>rain</td>\n      <td>9.355556</td>\n      <td>7.227778</td>\n      <td>0.86</td>\n      <td>14.2646</td>\n      <td>259.0</td>\n      <td>15.8263</td>\n      <td>0.0</td>\n      <td>1015.63</td>\n      <td>Partly cloudy throughout the day.</td>\n    </tr>\n    <tr>\n      <th>2</th>\n      <td>2006-04-01 02:00:00.000 +0200</td>\n      <td>Mostly Cloudy</td>\n      <td>rain</td>\n      <td>9.377778</td>\n      <td>9.377778</td>\n      <td>0.89</td>\n      <td>3.9284</td>\n      <td>204.0</td>\n      <td>14.9569</td>\n      <td>0.0</td>\n      <td>1015.94</td>\n      <td>Partly cloudy throughout the day.</td>\n    </tr>\n    <tr>\n      <th>3</th>\n      <td>2006-04-01 03:00:00.000 +0200</td>\n      <td>Partly Cloudy</td>\n      <td>rain</td>\n      <td>8.288889</td>\n      <td>5.944444</td>\n      <td>0.83</td>\n      <td>14.1036</td>\n      <td>269.0</td>\n      <td>15.8263</td>\n      <td>0.0</td>\n      <td>1016.41</td>\n      <td>Partly cloudy throughout the day.</td>\n    </tr>\n    <tr>\n      <th>4</th>\n      <td>2006-04-01 04:00:00.000 +0200</td>\n      <td>Mostly Cloudy</td>\n      <td>rain</td>\n      <td>8.755556</td>\n      <td>6.977778</td>\n      <td>0.83</td>\n      <td>11.0446</td>\n      <td>259.0</td>\n      <td>15.8263</td>\n      <td>0.0</td>\n      <td>1016.51</td>\n      <td>Partly cloudy throughout the day.</td>\n    </tr>\n  </tbody>\n</table>\n</div>"
     },
     "execution_count": 90,
     "metadata": {},
     "output_type": "execute_result"
    }
   ],
   "source": [
    "weather.head(5)"
   ]
  },
  {
   "cell_type": "markdown",
   "metadata": {},
   "source": [
    "В 5 строчках, на которые мы посмотрели в колонке Loud Cover одни нули. Давайте проверим, не бесполезная ли это колонка."
   ]
  },
  {
   "cell_type": "code",
   "execution_count": 91,
   "metadata": {},
   "outputs": [
    {
     "data": {
      "text/plain": "array([0.])"
     },
     "execution_count": 91,
     "metadata": {},
     "output_type": "execute_result"
    }
   ],
   "source": [
    "# кроме нулей ничего нет\n",
    "weather['Loud Cover'].unique()"
   ]
  },
  {
   "cell_type": "markdown",
   "metadata": {},
   "source": [
    "Отбросим эту колонку"
   ]
  },
  {
   "cell_type": "code",
   "execution_count": 92,
   "metadata": {},
   "outputs": [],
   "source": [
    "weather.drop(['Loud Cover'], axis=1, inplace=True)"
   ]
  },
  {
   "cell_type": "code",
   "execution_count": 96,
   "metadata": {},
   "outputs": [
    {
     "data": {
      "text/plain": "                            date        summary precip      temp  app_temp  \\\n0  2006-04-01 00:00:00.000 +0200  Partly Cloudy   rain  9.472222  7.388889   \n1  2006-04-01 01:00:00.000 +0200  Partly Cloudy   rain  9.355556  7.227778   \n2  2006-04-01 02:00:00.000 +0200  Mostly Cloudy   rain  9.377778  9.377778   \n3  2006-04-01 03:00:00.000 +0200  Partly Cloudy   rain  8.288889  5.944444   \n4  2006-04-01 04:00:00.000 +0200  Mostly Cloudy   rain  8.755556  6.977778   \n\n   humidity  wind_speed  wind_bearing  visibility  pressure  \\\n0      0.89     14.1197         251.0     15.8263   1015.13   \n1      0.86     14.2646         259.0     15.8263   1015.63   \n2      0.89      3.9284         204.0     14.9569   1015.94   \n3      0.83     14.1036         269.0     15.8263   1016.41   \n4      0.83     11.0446         259.0     15.8263   1016.51   \n\n                       daily_summary  \n0  Partly cloudy throughout the day.  \n1  Partly cloudy throughout the day.  \n2  Partly cloudy throughout the day.  \n3  Partly cloudy throughout the day.  \n4  Partly cloudy throughout the day.  ",
      "text/html": "<div>\n<style scoped>\n    .dataframe tbody tr th:only-of-type {\n        vertical-align: middle;\n    }\n\n    .dataframe tbody tr th {\n        vertical-align: top;\n    }\n\n    .dataframe thead th {\n        text-align: right;\n    }\n</style>\n<table border=\"1\" class=\"dataframe\">\n  <thead>\n    <tr style=\"text-align: right;\">\n      <th></th>\n      <th>date</th>\n      <th>summary</th>\n      <th>precip</th>\n      <th>temp</th>\n      <th>app_temp</th>\n      <th>humidity</th>\n      <th>wind_speed</th>\n      <th>wind_bearing</th>\n      <th>visibility</th>\n      <th>pressure</th>\n      <th>daily_summary</th>\n    </tr>\n  </thead>\n  <tbody>\n    <tr>\n      <th>0</th>\n      <td>2006-04-01 00:00:00.000 +0200</td>\n      <td>Partly Cloudy</td>\n      <td>rain</td>\n      <td>9.472222</td>\n      <td>7.388889</td>\n      <td>0.89</td>\n      <td>14.1197</td>\n      <td>251.0</td>\n      <td>15.8263</td>\n      <td>1015.13</td>\n      <td>Partly cloudy throughout the day.</td>\n    </tr>\n    <tr>\n      <th>1</th>\n      <td>2006-04-01 01:00:00.000 +0200</td>\n      <td>Partly Cloudy</td>\n      <td>rain</td>\n      <td>9.355556</td>\n      <td>7.227778</td>\n      <td>0.86</td>\n      <td>14.2646</td>\n      <td>259.0</td>\n      <td>15.8263</td>\n      <td>1015.63</td>\n      <td>Partly cloudy throughout the day.</td>\n    </tr>\n    <tr>\n      <th>2</th>\n      <td>2006-04-01 02:00:00.000 +0200</td>\n      <td>Mostly Cloudy</td>\n      <td>rain</td>\n      <td>9.377778</td>\n      <td>9.377778</td>\n      <td>0.89</td>\n      <td>3.9284</td>\n      <td>204.0</td>\n      <td>14.9569</td>\n      <td>1015.94</td>\n      <td>Partly cloudy throughout the day.</td>\n    </tr>\n    <tr>\n      <th>3</th>\n      <td>2006-04-01 03:00:00.000 +0200</td>\n      <td>Partly Cloudy</td>\n      <td>rain</td>\n      <td>8.288889</td>\n      <td>5.944444</td>\n      <td>0.83</td>\n      <td>14.1036</td>\n      <td>269.0</td>\n      <td>15.8263</td>\n      <td>1016.41</td>\n      <td>Partly cloudy throughout the day.</td>\n    </tr>\n    <tr>\n      <th>4</th>\n      <td>2006-04-01 04:00:00.000 +0200</td>\n      <td>Mostly Cloudy</td>\n      <td>rain</td>\n      <td>8.755556</td>\n      <td>6.977778</td>\n      <td>0.83</td>\n      <td>11.0446</td>\n      <td>259.0</td>\n      <td>15.8263</td>\n      <td>1016.51</td>\n      <td>Partly cloudy throughout the day.</td>\n    </tr>\n  </tbody>\n</table>\n</div>"
     },
     "execution_count": 96,
     "metadata": {},
     "output_type": "execute_result"
    }
   ],
   "source": [
    "weather.shape\n",
    "weather.head(5)"
   ]
  },
  {
   "cell_type": "markdown",
   "metadata": {},
   "source": [
    "Можно посчитать статистики для отдельных колонок"
   ]
  },
  {
   "cell_type": "code",
   "execution_count": 98,
   "outputs": [],
   "source": [
    "weather = weather[[\"temp\", \"app_temp\", \"humidity\", \"wind_speed\", \"wind_bearing\", \"visibility\", \"pressure\"]]"
   ],
   "metadata": {
    "collapsed": false,
    "pycharm": {
     "name": "#%%\n"
    }
   }
  },
  {
   "cell_type": "code",
   "execution_count": 99,
   "metadata": {},
   "outputs": [
    {
     "data": {
      "text/plain": "(1003.2359558541468, 116.96990568258018)"
     },
     "execution_count": 99,
     "metadata": {},
     "output_type": "execute_result"
    }
   ],
   "source": [
    "weather['pressure'].mean(), weather['pressure'].std()"
   ]
  },
  {
   "cell_type": "code",
   "execution_count": 100,
   "metadata": {},
   "outputs": [
    {
     "data": {
      "text/plain": "(-27.716666666666665, 39.34444444444444)"
     },
     "execution_count": 100,
     "metadata": {},
     "output_type": "execute_result"
    }
   ],
   "source": [
    "weather['app_temp'].min(), weather['app_temp'].max()"
   ]
  },
  {
   "cell_type": "markdown",
   "metadata": {},
   "source": [
    "Есть удобный метод ```.describe()```, которая собирает основные статистики для всех численных колонок."
   ]
  },
  {
   "cell_type": "code",
   "execution_count": 101,
   "metadata": {},
   "outputs": [
    {
     "data": {
      "text/plain": "               temp      app_temp      humidity    wind_speed  wind_bearing  \\\ncount  96453.000000  96453.000000  96453.000000  96453.000000  96453.000000   \nmean      11.932678     10.855029      0.734899     10.810640    187.509232   \nstd        9.551546     10.696847      0.195473      6.913571    107.383428   \nmin      -21.822222    -27.716667      0.000000      0.000000      0.000000   \n25%        4.688889      2.311111      0.600000      5.828200    116.000000   \n50%       12.000000     12.000000      0.780000      9.965900    180.000000   \n75%       18.838889     18.838889      0.890000     14.135800    290.000000   \nmax       39.905556     39.344444      1.000000     63.852600    359.000000   \n\n         visibility      pressure  \ncount  96453.000000  96453.000000  \nmean      10.347325   1003.235956  \nstd        4.192123    116.969906  \nmin        0.000000      0.000000  \n25%        8.339800   1011.900000  \n50%       10.046400   1016.450000  \n75%       14.812000   1021.090000  \nmax       16.100000   1046.380000  ",
      "text/html": "<div>\n<style scoped>\n    .dataframe tbody tr th:only-of-type {\n        vertical-align: middle;\n    }\n\n    .dataframe tbody tr th {\n        vertical-align: top;\n    }\n\n    .dataframe thead th {\n        text-align: right;\n    }\n</style>\n<table border=\"1\" class=\"dataframe\">\n  <thead>\n    <tr style=\"text-align: right;\">\n      <th></th>\n      <th>temp</th>\n      <th>app_temp</th>\n      <th>humidity</th>\n      <th>wind_speed</th>\n      <th>wind_bearing</th>\n      <th>visibility</th>\n      <th>pressure</th>\n    </tr>\n  </thead>\n  <tbody>\n    <tr>\n      <th>count</th>\n      <td>96453.000000</td>\n      <td>96453.000000</td>\n      <td>96453.000000</td>\n      <td>96453.000000</td>\n      <td>96453.000000</td>\n      <td>96453.000000</td>\n      <td>96453.000000</td>\n    </tr>\n    <tr>\n      <th>mean</th>\n      <td>11.932678</td>\n      <td>10.855029</td>\n      <td>0.734899</td>\n      <td>10.810640</td>\n      <td>187.509232</td>\n      <td>10.347325</td>\n      <td>1003.235956</td>\n    </tr>\n    <tr>\n      <th>std</th>\n      <td>9.551546</td>\n      <td>10.696847</td>\n      <td>0.195473</td>\n      <td>6.913571</td>\n      <td>107.383428</td>\n      <td>4.192123</td>\n      <td>116.969906</td>\n    </tr>\n    <tr>\n      <th>min</th>\n      <td>-21.822222</td>\n      <td>-27.716667</td>\n      <td>0.000000</td>\n      <td>0.000000</td>\n      <td>0.000000</td>\n      <td>0.000000</td>\n      <td>0.000000</td>\n    </tr>\n    <tr>\n      <th>25%</th>\n      <td>4.688889</td>\n      <td>2.311111</td>\n      <td>0.600000</td>\n      <td>5.828200</td>\n      <td>116.000000</td>\n      <td>8.339800</td>\n      <td>1011.900000</td>\n    </tr>\n    <tr>\n      <th>50%</th>\n      <td>12.000000</td>\n      <td>12.000000</td>\n      <td>0.780000</td>\n      <td>9.965900</td>\n      <td>180.000000</td>\n      <td>10.046400</td>\n      <td>1016.450000</td>\n    </tr>\n    <tr>\n      <th>75%</th>\n      <td>18.838889</td>\n      <td>18.838889</td>\n      <td>0.890000</td>\n      <td>14.135800</td>\n      <td>290.000000</td>\n      <td>14.812000</td>\n      <td>1021.090000</td>\n    </tr>\n    <tr>\n      <th>max</th>\n      <td>39.905556</td>\n      <td>39.344444</td>\n      <td>1.000000</td>\n      <td>63.852600</td>\n      <td>359.000000</td>\n      <td>16.100000</td>\n      <td>1046.380000</td>\n    </tr>\n  </tbody>\n</table>\n</div>"
     },
     "execution_count": 101,
     "metadata": {},
     "output_type": "execute_result"
    }
   ],
   "source": [
    "weather.describe()"
   ]
  },
  {
   "cell_type": "code",
   "execution_count": 102,
   "metadata": {},
   "outputs": [
    {
     "name": "stdout",
     "output_type": "stream",
     "text": [
      "<class 'pandas.core.frame.DataFrame'>\n",
      "RangeIndex: 96453 entries, 0 to 96452\n",
      "Data columns (total 7 columns):\n",
      " #   Column        Non-Null Count  Dtype  \n",
      "---  ------        --------------  -----  \n",
      " 0   temp          96453 non-null  float64\n",
      " 1   app_temp      96453 non-null  float64\n",
      " 2   humidity      96453 non-null  float64\n",
      " 3   wind_speed    96453 non-null  float64\n",
      " 4   wind_bearing  96453 non-null  float64\n",
      " 5   visibility    96453 non-null  float64\n",
      " 6   pressure      96453 non-null  float64\n",
      "dtypes: float64(7)\n",
      "memory usage: 5.2 MB\n"
     ]
    }
   ],
   "source": [
    "weather.info()"
   ]
  },
  {
   "cell_type": "markdown",
   "metadata": {},
   "source": [
    "**Из этих статистик уже можно сделать первоначальные выводы.** \n",
    "\n",
    "1) видно, что в оставшихся данных нет пропусков.   \n",
    "2) видно, что у колонок разные единицы измерения и соответствено значения разные (где-то от 0 до 1, где-то от -21 до 27)  \n",
    "3) temp и app_temp очень похожи, но если посмотреть на Min и Max, то можно сделать вывод, что ощущаемая температура *отличается в меньшую сторону*"
   ]
  },
  {
   "cell_type": "markdown",
   "metadata": {},
   "source": [
    "Чтобы посмотреть, как колонки связаны между собой, можно посчитать корреляцию."
   ]
  },
  {
   "cell_type": "code",
   "execution_count": 103,
   "metadata": {},
   "outputs": [
    {
     "data": {
      "text/plain": "                  temp  app_temp  humidity  wind_speed  wind_bearing  \\\ntemp          1.000000  0.992629 -0.632255    0.008957      0.029988   \napp_temp      0.992629  1.000000 -0.602571   -0.056650      0.029031   \nhumidity     -0.632255 -0.602571  1.000000   -0.224951      0.000735   \nwind_speed    0.008957 -0.056650 -0.224951    1.000000      0.103822   \nwind_bearing  0.029988  0.029031  0.000735    0.103822      1.000000   \nvisibility    0.392847  0.381718 -0.369173    0.100749      0.047594   \npressure     -0.005447 -0.000219  0.005454   -0.049263     -0.011651   \n\n              visibility  pressure  \ntemp            0.392847 -0.005447  \napp_temp        0.381718 -0.000219  \nhumidity       -0.369173  0.005454  \nwind_speed      0.100749 -0.049263  \nwind_bearing    0.047594 -0.011651  \nvisibility      1.000000  0.059818  \npressure        0.059818  1.000000  ",
      "text/html": "<div>\n<style scoped>\n    .dataframe tbody tr th:only-of-type {\n        vertical-align: middle;\n    }\n\n    .dataframe tbody tr th {\n        vertical-align: top;\n    }\n\n    .dataframe thead th {\n        text-align: right;\n    }\n</style>\n<table border=\"1\" class=\"dataframe\">\n  <thead>\n    <tr style=\"text-align: right;\">\n      <th></th>\n      <th>temp</th>\n      <th>app_temp</th>\n      <th>humidity</th>\n      <th>wind_speed</th>\n      <th>wind_bearing</th>\n      <th>visibility</th>\n      <th>pressure</th>\n    </tr>\n  </thead>\n  <tbody>\n    <tr>\n      <th>temp</th>\n      <td>1.000000</td>\n      <td>0.992629</td>\n      <td>-0.632255</td>\n      <td>0.008957</td>\n      <td>0.029988</td>\n      <td>0.392847</td>\n      <td>-0.005447</td>\n    </tr>\n    <tr>\n      <th>app_temp</th>\n      <td>0.992629</td>\n      <td>1.000000</td>\n      <td>-0.602571</td>\n      <td>-0.056650</td>\n      <td>0.029031</td>\n      <td>0.381718</td>\n      <td>-0.000219</td>\n    </tr>\n    <tr>\n      <th>humidity</th>\n      <td>-0.632255</td>\n      <td>-0.602571</td>\n      <td>1.000000</td>\n      <td>-0.224951</td>\n      <td>0.000735</td>\n      <td>-0.369173</td>\n      <td>0.005454</td>\n    </tr>\n    <tr>\n      <th>wind_speed</th>\n      <td>0.008957</td>\n      <td>-0.056650</td>\n      <td>-0.224951</td>\n      <td>1.000000</td>\n      <td>0.103822</td>\n      <td>0.100749</td>\n      <td>-0.049263</td>\n    </tr>\n    <tr>\n      <th>wind_bearing</th>\n      <td>0.029988</td>\n      <td>0.029031</td>\n      <td>0.000735</td>\n      <td>0.103822</td>\n      <td>1.000000</td>\n      <td>0.047594</td>\n      <td>-0.011651</td>\n    </tr>\n    <tr>\n      <th>visibility</th>\n      <td>0.392847</td>\n      <td>0.381718</td>\n      <td>-0.369173</td>\n      <td>0.100749</td>\n      <td>0.047594</td>\n      <td>1.000000</td>\n      <td>0.059818</td>\n    </tr>\n    <tr>\n      <th>pressure</th>\n      <td>-0.005447</td>\n      <td>-0.000219</td>\n      <td>0.005454</td>\n      <td>-0.049263</td>\n      <td>-0.011651</td>\n      <td>0.059818</td>\n      <td>1.000000</td>\n    </tr>\n  </tbody>\n</table>\n</div>"
     },
     "execution_count": 103,
     "metadata": {},
     "output_type": "execute_result"
    }
   ],
   "source": [
    "# метод corr считает корреляцию всех колонок со всеми (острожнее, если у вас большой датасет)\n",
    "weather.corr()"
   ]
  },
  {
   "cell_type": "markdown",
   "metadata": {},
   "source": [
    "Для наглядности можно нарисовать тепловую карту."
   ]
  },
  {
   "cell_type": "code",
   "execution_count": 104,
   "metadata": {},
   "outputs": [
    {
     "data": {
      "text/plain": "<Figure size 1080x504 with 2 Axes>",
      "image/png": "[encoded data removed]"
     },
     "metadata": {
      "needs_background": "light"
     },
     "output_type": "display_data"
    }
   ],
   "source": [
    "fig, ax = plt.subplots(figsize=(15,7))\n",
    "\n",
    "sns.heatmap(data=weather.corr(), annot=True, cmap= \"rocket\") \n",
    "# дополнительные цветовые схемы https://seaborn.pydata.org/tutorial/color_palettes.html\n",
    "\n",
    "plt.title(\"Корреляция признаков\") # подпись графика\n",
    "plt.show()"
   ]
  },
  {
   "cell_type": "markdown",
   "metadata": {},
   "source": [
    "Из тепловой карты можно сделать вывод, что: \n",
    "- влажность негативно скоррелирована с температурой\n",
    "- скорость ветра не связана с температурой и связана с влажностью\n",
    "- видимость связана с влажностью и с температурой"
   ]
  },
  {
   "cell_type": "markdown",
   "metadata": {},
   "source": [
    "## Регрессия"
   ]
  },
  {
   "cell_type": "markdown",
   "metadata": {},
   "source": [
    "Давайте теперь попробуем предсказывать данные для какой-то из колонок. Для простоты оставим только численные колонки. \n"
   ]
  },
  {
   "cell_type": "markdown",
   "metadata": {},
   "source": [
    "__добавить ячейки про то, что такое регрессия и как с ней жить__"
   ]
  },
  {
   "cell_type": "markdown",
   "metadata": {},
   "source": [
    "## Регрессия в sklearn"
   ]
  },
  {
   "cell_type": "code",
   "execution_count": 105,
   "metadata": {},
   "outputs": [
    {
     "data": {
      "text/plain": "       temp  app_temp  humidity  wind_speed  wind_bearing  visibility  \\\n0  9.472222  7.388889      0.89     14.1197         251.0     15.8263   \n1  9.355556  7.227778      0.86     14.2646         259.0     15.8263   \n2  9.377778  9.377778      0.89      3.9284         204.0     14.9569   \n\n   pressure  \n0   1015.13  \n1   1015.63  \n2   1015.94  ",
      "text/html": "<div>\n<style scoped>\n    .dataframe tbody tr th:only-of-type {\n        vertical-align: middle;\n    }\n\n    .dataframe tbody tr th {\n        vertical-align: top;\n    }\n\n    .dataframe thead th {\n        text-align: right;\n    }\n</style>\n<table border=\"1\" class=\"dataframe\">\n  <thead>\n    <tr style=\"text-align: right;\">\n      <th></th>\n      <th>temp</th>\n      <th>app_temp</th>\n      <th>humidity</th>\n      <th>wind_speed</th>\n      <th>wind_bearing</th>\n      <th>visibility</th>\n      <th>pressure</th>\n    </tr>\n  </thead>\n  <tbody>\n    <tr>\n      <th>0</th>\n      <td>9.472222</td>\n      <td>7.388889</td>\n      <td>0.89</td>\n      <td>14.1197</td>\n      <td>251.0</td>\n      <td>15.8263</td>\n      <td>1015.13</td>\n    </tr>\n    <tr>\n      <th>1</th>\n      <td>9.355556</td>\n      <td>7.227778</td>\n      <td>0.86</td>\n      <td>14.2646</td>\n      <td>259.0</td>\n      <td>15.8263</td>\n      <td>1015.63</td>\n    </tr>\n    <tr>\n      <th>2</th>\n      <td>9.377778</td>\n      <td>9.377778</td>\n      <td>0.89</td>\n      <td>3.9284</td>\n      <td>204.0</td>\n      <td>14.9569</td>\n      <td>1015.94</td>\n    </tr>\n  </tbody>\n</table>\n</div>"
     },
     "execution_count": 105,
     "metadata": {},
     "output_type": "execute_result"
    }
   ],
   "source": [
    "# можно переопределить датасет его частью\n",
    "\n",
    "# weather = weather[['temp','app_temp', 'humidity', 'wind_speed', 'visibility']]\n",
    "\n",
    "weather.head(3)"
   ]
  },
  {
   "cell_type": "markdown",
   "metadata": {},
   "source": [
    "Попробуем несколько базовых регрессоров в sklearn."
   ]
  },
  {
   "cell_type": "code",
   "execution_count": 106,
   "metadata": {},
   "outputs": [],
   "source": [
    "# ! pip3 install sklearn\n",
    "\n",
    "from sklearn.linear_model import LinearRegression, Ridge, Lasso, ElasticNet\n",
    "# from sklearn.svm import LinearSVR"
   ]
  },
  {
   "cell_type": "markdown",
   "metadata": {},
   "source": [
    "а вот [объяснение разницы между ними](https://www.geeksforgeeks.org/lasso-vs-ridge-vs-elastic-net-ml/)\n",
    "\n",
    "Sklearn умееть работать с dataframe из pandas (если там только числа), но часто матрицу объекты-признаки и целевую переменную (то, что мы хотим предсказать) удобно вынести в отдельные переменные в виде numpy массива. \n",
    "\n",
    "Давайте предугадаем скорость ветра по остальным параметрам датафрейма. Тогда значения скорости ветра станут целевой переменной, а остальные параметры (температура, влажность, и тд) попадут в матрицу объекты-признаки"
   ]
  },
  {
   "cell_type": "code",
   "execution_count": 107,
   "metadata": {},
   "outputs": [
    {
     "data": {
      "text/plain": "array([[   9.47222222,    7.38888889,   14.1197    ,  251.        ,\n          15.8263    , 1015.13      ],\n       [   9.35555556,    7.22777778,   14.2646    ,  259.        ,\n          15.8263    , 1015.63      ],\n       [   9.37777778,    9.37777778,    3.9284    ,  204.        ,\n          14.9569    , 1015.94      ],\n       ...,\n       [  22.03888889,   22.03888889,    8.9838    ,   30.        ,\n          16.1       , 1015.66      ],\n       [  21.52222222,   21.52222222,   10.5294    ,   20.        ,\n          16.1       , 1015.95      ],\n       [  20.43888889,   20.43888889,    5.8765    ,   39.        ,\n          15.5204    , 1016.16      ]])"
     },
     "metadata": {},
     "output_type": "display_data"
    },
    {
     "data": {
      "text/plain": "(96453, 6)"
     },
     "metadata": {},
     "output_type": "display_data"
    }
   ],
   "source": [
    "humidity = weather[\"humidity\"]\n",
    "weather_no_h = weather.drop('humidity', axis=1)\n",
    "X = weather_no_h.values # выбросили из датафрейма информацию про ветер\n",
    "\n",
    "display(X, X.shape)"
   ]
  },
  {
   "cell_type": "code",
   "execution_count": 109,
   "metadata": {},
   "outputs": [
    {
     "data": {
      "text/plain": "array([0.89, 0.86, 0.89, ..., 0.56, 0.6 , 0.61])"
     },
     "metadata": {},
     "output_type": "display_data"
    },
    {
     "data": {
      "text/plain": "(96453,)"
     },
     "metadata": {},
     "output_type": "display_data"
    }
   ],
   "source": [
    "y = humidity.values # отдельно вынесли массив со значениями скорости ветра\n",
    "display(y, y.shape)"
   ]
  },
  {
   "cell_type": "markdown",
   "metadata": {},
   "source": [
    "импортируем функцию, которая разобъет данные (матрицу \"объект-признак\" и массив со значениями целевой переменной) на 4 части:\n",
    "\n",
    "- X_train - кусочек матрицы \"объекты-признаки\" (для обучения алгоритма)\n",
    "- y_train - массив со значениями целевой переменной (для обучения)\n",
    "\n",
    "\n",
    "- X_test - кусочек матрицы \"объекты-признаки\" (для тестирования и валидации алгоритма)\n",
    "- y_test - массив со значениями целевой переменной (для тестирования и валидации алгоритма)"
   ]
  },
  {
   "cell_type": "code",
   "execution_count": 112,
   "metadata": {},
   "outputs": [],
   "source": [
    "from sklearn.model_selection import train_test_split"
   ]
  },
  {
   "cell_type": "code",
   "execution_count": 113,
   "metadata": {},
   "outputs": [],
   "source": [
    "X_train, X_test, y_train, y_test = train_test_split(X, y, random_state=42) # создали переменные, разделили данные"
   ]
  },
  {
   "cell_type": "code",
   "execution_count": 114,
   "outputs": [
    {
     "data": {
      "text/plain": "((72339, 6), (24114, 6), (72339,), (24114,))"
     },
     "execution_count": 114,
     "metadata": {},
     "output_type": "execute_result"
    }
   ],
   "source": [
    "X_train.shape, X_test.shape, y_train.shape, y_test.shape"
   ],
   "metadata": {
    "collapsed": false,
    "pycharm": {
     "name": "#%%\n"
    }
   }
  },
  {
   "cell_type": "markdown",
   "metadata": {},
   "source": [
    "Ridge - это линейная регрессия с L2 регуляризацией [что это?](https://www.youtube.com/watch?v=Q81RR3yKn30). \n",
    "\n",
    "В процессе обучения модель суммирует признаки с каким-то весами, чтобы получить предсказание. Веса подбираются во время обучения и на их значение накладывается ограничение (регуляризация), так чтобы они не получались слишком большими.\n",
    "\n",
    "Давайте попробуем **регрессию** [Lasso](https://scikit-learn.org/stable/modules/generated/sklearn.linear_model.Lasso.html)"
   ]
  },
  {
   "cell_type": "code",
   "execution_count": 115,
   "metadata": {},
   "outputs": [
    {
     "data": {
      "text/plain": "Ridge(alpha=0.01)"
     },
     "execution_count": 115,
     "metadata": {},
     "output_type": "execute_result"
    }
   ],
   "source": [
    "# силу регуляризации можно варьировать параметром alpha\n",
    "ridge_regressor = Ridge(alpha=0.01)\n",
    "\n",
    "ridge_regressor.fit(X_train, y_train)"
   ]
  },
  {
   "cell_type": "code",
   "execution_count": 118,
   "outputs": [
    {
     "data": {
      "text/plain": "array([0.9790327, 0.7126792])"
     },
     "execution_count": 118,
     "metadata": {},
     "output_type": "execute_result"
    }
   ],
   "source": [
    "ridge_regressor.predict([[1,2,3,4,5,6],[9.472222,7.388889,14.1197,251.0,15.8263,1015.13]])"
   ],
   "metadata": {
    "collapsed": false,
    "pycharm": {
     "name": "#%%\n"
    }
   }
  },
  {
   "cell_type": "markdown",
   "metadata": {
    "tags": []
   },
   "source": [
    "### оценка результатов алгоритма\n",
    "\n",
    "В качестве метрики будем использовать [среднюю абсолютную ошибку](https://www.youtube.com/watch?v=ZejnwbcU8nw). Она показывает отклонение от правильного ответа в тех же единах измерения\n",
    "\n",
    "*(а вообще есть [разные способы](https://towardsdatascience.com/what-are-the-best-metrics-to-evaluate-your-regression-model-418ca481755b))*"
   ]
  },
  {
   "cell_type": "code",
   "execution_count": 119,
   "metadata": {},
   "outputs": [],
   "source": [
    "from sklearn.metrics import mean_absolute_error, mean_squared_error, r2_score"
   ]
  },
  {
   "cell_type": "markdown",
   "metadata": {},
   "source": [
    "Чтобы оценить качество модели, предскажем значения целевой переменной на тестовой выборке и сравним с настоящими значениями."
   ]
  },
  {
   "cell_type": "code",
   "execution_count": 120,
   "metadata": {},
   "outputs": [],
   "source": [
    "preds = ridge_regressor.predict(X_test)"
   ]
  },
  {
   "cell_type": "code",
   "execution_count": 121,
   "metadata": {},
   "outputs": [
    {
     "data": {
      "text/plain": "24114"
     },
     "execution_count": 121,
     "metadata": {},
     "output_type": "execute_result"
    }
   ],
   "source": [
    "len(preds)"
   ]
  },
  {
   "cell_type": "code",
   "execution_count": 122,
   "metadata": {},
   "outputs": [
    {
     "data": {
      "text/plain": "0.11408693460978378"
     },
     "execution_count": 122,
     "metadata": {},
     "output_type": "execute_result"
    }
   ],
   "source": [
    "mean_absolute_error(y_test, preds)"
   ]
  },
  {
   "cell_type": "code",
   "execution_count": 123,
   "metadata": {},
   "outputs": [
    {
     "data": {
      "text/plain": "0.020296675177113095"
     },
     "execution_count": 123,
     "metadata": {},
     "output_type": "execute_result"
    }
   ],
   "source": [
    "mean_squared_error(y_test, preds)"
   ]
  },
  {
   "cell_type": "code",
   "execution_count": 124,
   "metadata": {},
   "outputs": [
    {
     "data": {
      "text/plain": "0.46844801845749784"
     },
     "execution_count": 124,
     "metadata": {},
     "output_type": "execute_result"
    }
   ],
   "source": [
    "r2_score(y_test, preds)"
   ]
  },
  {
   "cell_type": "markdown",
   "metadata": {},
   "source": [
    "Т.е. в среднем мы ошибаемся в скорости ветра на 4 км/ч"
   ]
  },
  {
   "cell_type": "markdown",
   "metadata": {},
   "source": [
    "Попробуем другие алгоритмы."
   ]
  },
  {
   "cell_type": "markdown",
   "metadata": {},
   "source": [
    "Иногда бывает полезно [нормализовать](https://en.wikipedia.org/wiki/Normalization_(statistics)) данные (вычесть среднее и разделить на стандартное отклонение). После нормализации среднее всех колонок будет равно 0, а стандартное отклонение 1. Это позволяет исправить ситуацию, когда признаки представлены в разных единацах измерения. \n",
    "Для этого используется StandardScaler. "
   ]
  },
  {
   "cell_type": "code",
   "execution_count": 125,
   "metadata": {},
   "outputs": [],
   "source": [
    "from sklearn.preprocessing import StandardScaler"
   ]
  },
  {
   "cell_type": "code",
   "execution_count": 126,
   "metadata": {},
   "outputs": [],
   "source": [
    "sc = StandardScaler()\n",
    "X_train, X_test, y_train, y_test = train_test_split(sc.fit_transform(X), y, random_state=42)"
   ]
  },
  {
   "cell_type": "code",
   "execution_count": 135,
   "outputs": [
    {
     "data": {
      "text/plain": "array([0.62, 0.45, 0.46, ..., 0.81, 0.82, 0.9 ])"
     },
     "execution_count": 135,
     "metadata": {},
     "output_type": "execute_result"
    }
   ],
   "source": [
    "y_train"
   ],
   "metadata": {
    "collapsed": false,
    "pycharm": {
     "name": "#%%\n"
    }
   }
  },
  {
   "cell_type": "markdown",
   "metadata": {},
   "source": [
    "До стандартизации:"
   ]
  },
  {
   "cell_type": "code",
   "execution_count": 127,
   "metadata": {},
   "outputs": [
    {
     "data": {
      "text/plain": "[9.47222222222222,\n 7.388888888888887,\n 14.1197,\n 251.0,\n 15.826300000000002,\n 1015.13]"
     },
     "execution_count": 127,
     "metadata": {},
     "output_type": "execute_result"
    }
   ],
   "source": [
    "list(X[0])"
   ]
  },
  {
   "cell_type": "markdown",
   "metadata": {},
   "source": [
    "После:"
   ]
  },
  {
   "cell_type": "code",
   "execution_count": 128,
   "metadata": {},
   "outputs": [
    {
     "data": {
      "text/plain": "[-0.2575990198317457,\n -0.3240354682443153,\n 0.4786349929804726,\n 0.5912560030170744,\n 1.3069757788836067,\n 0.1016851790563222]"
     },
     "execution_count": 128,
     "metadata": {},
     "output_type": "execute_result"
    }
   ],
   "source": [
    "list(sc.fit_transform(X)[0])"
   ]
  },
  {
   "cell_type": "markdown",
   "metadata": {},
   "source": [
    "теперь с данными удобнее работать"
   ]
  },
  {
   "cell_type": "code",
   "execution_count": 129,
   "metadata": {},
   "outputs": [
    {
     "name": "stdout",
     "output_type": "stream",
     "text": [
      "0.11514294513944444\n",
      "0.45767561708276494\n"
     ]
    }
   ],
   "source": [
    "lasso_regressor = Lasso(alpha=0.001)\n",
    "lasso_regressor.fit(X_train, y_train)\n",
    "preds = lasso_regressor.predict(X_test)\n",
    "\n",
    "\n",
    "print(mean_absolute_error(y_test, preds))\n",
    "print(r2_score(y_test, preds))"
   ]
  },
  {
   "cell_type": "code",
   "execution_count": 130,
   "metadata": {},
   "outputs": [
    {
     "name": "stdout",
     "output_type": "stream",
     "text": [
      "0.15110093672040453\n",
      "0.13858867761920335\n"
     ]
    }
   ],
   "source": [
    "# добавим параметр нормализации\n",
    "\n",
    "lasso_regressor = Lasso(alpha=0.1) # попробуйте его поменять\n",
    "lasso_regressor.fit(X_train, y_train)\n",
    "preds = lasso_regressor.predict(X_test)\n",
    "print(mean_absolute_error(y_test, preds))\n",
    "print(r2_score(y_test, preds))"
   ]
  },
  {
   "cell_type": "markdown",
   "metadata": {},
   "source": [
    "Lasso - линейная регрессия с L1 регуляризацией. Она немного медленее Ridge и обычно работает немного хуже, но она позволяет проводить отбор признаков."
   ]
  },
  {
   "cell_type": "code",
   "execution_count": 78,
   "metadata": {},
   "outputs": [
    {
     "data": {
      "text/plain": "5.163204761310105"
     },
     "execution_count": 78,
     "metadata": {},
     "output_type": "execute_result"
    }
   ],
   "source": [
    "regressor = Lasso(alpha=1)\n",
    "regressor.fit(X_train, y_train)\n",
    "preds = regressor.predict(X_test)\n",
    "mean_absolute_error(y_test, preds)"
   ]
  },
  {
   "cell_type": "markdown",
   "metadata": {},
   "source": [
    "Такая модель использует для предсказания только влажность. В реальной задаче, нулевые признаки можно выбросить, для того, чтобы упросить модель."
   ]
  }
 ],
 "metadata": {
  "kernelspec": {
   "display_name": "Python 3 (ipykernel)",
   "language": "python",
   "name": "python3"
  },
  "language_info": {
   "codemirror_mode": {
    "name": "ipython",
    "version": 3
   },
   "file_extension": ".py",
   "mimetype": "text/x-python",
   "name": "python",
   "nbconvert_exporter": "python",
   "pygments_lexer": "ipython3",
   "version": "3.10.0"
  }
 },
 "nbformat": 4,
 "nbformat_minor": 4
}