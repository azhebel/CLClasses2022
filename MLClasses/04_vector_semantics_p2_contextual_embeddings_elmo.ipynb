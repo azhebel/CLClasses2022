{
 "nbformat": 4,
 "nbformat_minor": 0,
 "metadata": {
  "colab": {
   "name": "Векторная_семантика_2_контекст_эмбеддинги,_ELMo.ipynb",
   "provenance": [],
   "collapsed_sections": []
  },
  "kernelspec": {
   "name": "python3",
   "display_name": "Python 3"
  },
  "language_info": {
   "name": "python"
  }
 },
 "cells": [
  {
   "cell_type": "markdown",
   "metadata": {
    "id": "cer9yStBWMSr"
   },
   "source": [
    "# Контекстуализированные эмбеддинги\n",
    "\n",
    "## 🐴 рабочая лошадь современной компьютерной лингвистики (с 2018 года)"
   ]
  },
  {
   "cell_type": "markdown",
   "metadata": {
    "id": "CavHPqchoEwm"
   },
   "source": [
    "До сих пор мы с вами говорили о **\"статических\" моделях** (‘static word embeddings’). И word2vec, и fastText и GloVe — статические модели. Т.е. в них **один раз обучается набор эмбеддингов** для каких-то текстовых единиц (слово или часть слова... условно назовем это токеном). И дальше мы работаем с таблицей эмбеддингов. \n",
    "\n",
    "У такого подхода есть очевидные **проблемы**: например, **полисемия**. Скорее всего, на этапе обучения мы смешаем разные значения слова в один вектор — и дальше всегда будем пихать именно его. В идеале нужно, чтобы эмбеддинг слова \"мышь\" частично зависел от того, как в принципе употребляется слово, но частично — и от текущего контекста. \n",
    "\n",
    "<img src='http://ai.stanford.edu/blog/assets/img/posts/2020-03-24-contextual/contextual_mouse_transparent_1.png'>\n",
    "\n",
    "В районе 2018-2019 произошел бум т.н. \"контекстуализированных\" моделей: ELMo, BERT, GPT-3, которые реализуют этот подход. В них эмбеддинг каждого слова зависит еще и от контекста, в котором оно употреблено. Следовательно, у нас уже нет никакой готовой единой таблицы эмбеддингов. Есть модель, которая на лету генерирует эмбеддинги каждого слова с учетом текущего контекста. \n",
    "\n",
    "<img src='http://ai.stanford.edu/blog/assets/img/posts/2020-03-24-contextual/contextual_mouse_transparent_2.png'>\n",
    "\n",
    "Посмотрим [это в работе](https://rusvectores.org/ru/contextual/) на русском языке.\n",
    "\n",
    "🚀 И это оказалось просто killer feature с точки зрения инженерии: на контекстуализированных эмбеддингах станадртные задачи NLP стали решаться гораздо лучше, чем на статических до этого!📈  BERT вообще стал универсальным швейцарским ножом* всея компьютерной лингвистики... \n",
    "\n",
    "**это связано не только с использвоанием контекстуализированных эмбеддингов, там сыграла свою роль удачная неросетевая архитектура Transformer, позволяющая обучить сеть на очень большом корпусе, а также наличие такового корпуса*"
   ]
  },
  {
   "cell_type": "markdown",
   "metadata": {
    "id": "3n_oZV6FTkxd"
   },
   "source": [
    "## Работаем  с ELMo"
   ]
  },
  {
   "cell_type": "markdown",
   "metadata": {
    "id": "LRhivLf0rCiV"
   },
   "source": [
    "К сожалению, библиотека gensim не поддерживает контекстуализированные модели (т.к. они принципиально отличаются от статическийх). Поэтому делать все так же, как раньше с word2vec и fastText, не получится\n",
    "\n",
    "Поэтому ниже мы будем генерировать контекстуализированные эмбеддинги при помощи ELMo в обертке под названием simple-elmo, которую сделал все тот же Андрей Кутузов со товарищи. "
   ]
  },
  {
   "cell_type": "code",
   "metadata": {
    "id": "DyvmvPluPbDU",
    "colab": {
     "base_uri": "https://localhost:8080/"
    },
    "outputId": "35810cd2-51f6-4235-bf3c-e201d331a813"
   },
   "source": [
    "!pip3 install simple_elmo"
   ],
   "execution_count": 4,
   "outputs": [
    {
     "name": "stdout",
     "output_type": "stream",
     "text": [
      "Requirement already satisfied: simple_elmo in /Users/Alexey.Zhebel/IdeaProjects/CompLing/venv/lib/python3.8/site-packages (0.9.0)\r\n",
      "Requirement already satisfied: scipy in /Users/Alexey.Zhebel/IdeaProjects/CompLing/venv/lib/python3.8/site-packages (from simple_elmo) (1.7.3)\r\n",
      "Requirement already satisfied: h5py in /Users/Alexey.Zhebel/IdeaProjects/CompLing/venv/lib/python3.8/site-packages (from simple_elmo) (3.6.0)\r\n",
      "Requirement already satisfied: smart-open>1.8.1 in /Users/Alexey.Zhebel/IdeaProjects/CompLing/venv/lib/python3.8/site-packages (from simple_elmo) (5.2.1)\r\n",
      "Requirement already satisfied: pandas in /Users/Alexey.Zhebel/IdeaProjects/CompLing/venv/lib/python3.8/site-packages (from simple_elmo) (1.3.5)\r\n",
      "Requirement already satisfied: numpy in /Users/Alexey.Zhebel/IdeaProjects/CompLing/venv/lib/python3.8/site-packages (from simple_elmo) (1.21.5)\r\n",
      "Requirement already satisfied: pytz>=2017.3 in /Users/Alexey.Zhebel/IdeaProjects/CompLing/venv/lib/python3.8/site-packages (from pandas->simple_elmo) (2021.3)\r\n",
      "Requirement already satisfied: python-dateutil>=2.7.3 in /Users/Alexey.Zhebel/IdeaProjects/CompLing/venv/lib/python3.8/site-packages (from pandas->simple_elmo) (2.8.2)\r\n",
      "Requirement already satisfied: six>=1.5 in /Users/Alexey.Zhebel/IdeaProjects/CompLing/venv/lib/python3.8/site-packages (from python-dateutil>=2.7.3->pandas->simple_elmo) (1.16.0)\r\n",
      "\u001B[33mWARNING: You are using pip version 21.3.1; however, version 22.0.4 is available.\r\n",
      "You should consider upgrading via the '/Users/Alexey.Zhebel/IdeaProjects/CompLing/venv/bin/python -m pip install --upgrade pip' command.\u001B[0m\r\n"
     ]
    }
   ]
  },
  {
   "cell_type": "markdown",
   "metadata": {
    "id": "naUOX-xWgTDS"
   },
   "source": [
    "Возьмем **модель ELMo**, обученную командой RusVectores **на НКРЯ и русской Википедии** :"
   ]
  },
  {
   "cell_type": "code",
   "metadata": {
    "id": "wuBwzasoPl4y",
    "colab": {
     "base_uri": "https://localhost:8080/"
    },
    "outputId": "8d6e5417-530b-4350-c1c6-5ce2175488bd"
   },
   "source": [
    "!wget 'http://vectors.nlpl.eu/repository/20/195.zip'"
   ],
   "execution_count": 2,
   "outputs": [
    {
     "name": "stdout",
     "output_type": "stream",
     "text": [
      "--2022-03-19 12:07:55--  http://vectors.nlpl.eu/repository/20/195.zip\r\n",
      "Resolving vectors.nlpl.eu (vectors.nlpl.eu)... 129.240.189.181\r\n",
      "Connecting to vectors.nlpl.eu (vectors.nlpl.eu)|129.240.189.181|:80... connected.\r\n",
      "HTTP request sent, awaiting response... 200 OK\r\n",
      "Length: 206977027 (197M) [application/zip]\r\n",
      "Saving to: ‘195.zip’\r\n",
      "\r\n",
      "195.zip             100%[===================>] 197.39M  7.28MB/s    in 27s     \r\n",
      "\r\n",
      "2022-03-19 12:08:21 (7.40 MB/s) - ‘195.zip’ saved [206977027/206977027]\r\n",
      "\r\n"
     ]
    }
   ]
  },
  {
   "cell_type": "code",
   "execution_count": 8,
   "outputs": [
    {
     "name": "stdout",
     "output_type": "stream",
     "text": [
      "Collecting tensorflow\r\n",
      "  Downloading tensorflow-2.8.0-cp38-cp38-macosx_10_14_x86_64.whl (217.4 MB)\r\n",
      "     |████████████████████████████████| 217.4 MB 10.7 MB/s            \r\n",
      "\u001B[?25hRequirement already satisfied: setuptools in /Users/Alexey.Zhebel/IdeaProjects/CompLing/venv/lib/python3.8/site-packages (from tensorflow) (57.0.0)\r\n",
      "Collecting libclang>=9.0.1\r\n",
      "  Downloading libclang-13.0.0-py2.py3-none-macosx_10_9_x86_64.whl (13.0 MB)\r\n",
      "     |████████████████████████████████| 13.0 MB 12.3 MB/s            \r\n",
      "\u001B[?25hCollecting astunparse>=1.6.0\r\n",
      "  Downloading astunparse-1.6.3-py2.py3-none-any.whl (12 kB)\r\n",
      "Requirement already satisfied: six>=1.12.0 in /Users/Alexey.Zhebel/IdeaProjects/CompLing/venv/lib/python3.8/site-packages (from tensorflow) (1.16.0)\r\n",
      "Collecting keras-preprocessing>=1.1.1\r\n",
      "  Downloading Keras_Preprocessing-1.1.2-py2.py3-none-any.whl (42 kB)\r\n",
      "     |████████████████████████████████| 42 kB 5.1 MB/s             \r\n",
      "\u001B[?25hCollecting opt-einsum>=2.3.2\r\n",
      "  Downloading opt_einsum-3.3.0-py3-none-any.whl (65 kB)\r\n",
      "     |████████████████████████████████| 65 kB 7.6 MB/s             \r\n",
      "\u001B[?25hRequirement already satisfied: h5py>=2.9.0 in /Users/Alexey.Zhebel/IdeaProjects/CompLing/venv/lib/python3.8/site-packages (from tensorflow) (3.6.0)\r\n",
      "Collecting gast>=0.2.1\r\n",
      "  Downloading gast-0.5.3-py3-none-any.whl (19 kB)\r\n",
      "Collecting tensorboard<2.9,>=2.8\r\n",
      "  Downloading tensorboard-2.8.0-py3-none-any.whl (5.8 MB)\r\n",
      "     |████████████████████████████████| 5.8 MB 10.0 MB/s            \r\n",
      "\u001B[?25hCollecting absl-py>=0.4.0\r\n",
      "  Downloading absl_py-1.0.0-py3-none-any.whl (126 kB)\r\n",
      "     |████████████████████████████████| 126 kB 10.7 MB/s            \r\n",
      "\u001B[?25hCollecting keras<2.9,>=2.8.0rc0\r\n",
      "  Downloading keras-2.8.0-py2.py3-none-any.whl (1.4 MB)\r\n",
      "     |████████████████████████████████| 1.4 MB 11.9 MB/s            \r\n",
      "\u001B[?25hCollecting termcolor>=1.1.0\r\n",
      "  Downloading termcolor-1.1.0.tar.gz (3.9 kB)\r\n",
      "  Preparing metadata (setup.py) ... \u001B[?25ldone\r\n",
      "\u001B[?25hCollecting wrapt>=1.11.0\r\n",
      "  Downloading wrapt-1.14.0-cp38-cp38-macosx_10_9_x86_64.whl (35 kB)\r\n",
      "Collecting tensorflow-io-gcs-filesystem>=0.23.1\r\n",
      "  Downloading tensorflow_io_gcs_filesystem-0.24.0-cp38-cp38-macosx_10_14_x86_64.whl (1.6 MB)\r\n",
      "     |████████████████████████████████| 1.6 MB 11.3 MB/s            \r\n",
      "\u001B[?25hRequirement already satisfied: numpy>=1.20 in /Users/Alexey.Zhebel/IdeaProjects/CompLing/venv/lib/python3.8/site-packages (from tensorflow) (1.21.5)\r\n",
      "Collecting google-pasta>=0.1.1\r\n",
      "  Downloading google_pasta-0.2.0-py3-none-any.whl (57 kB)\r\n",
      "     |████████████████████████████████| 57 kB 9.3 MB/s             \r\n",
      "\u001B[?25hCollecting tf-estimator-nightly==2.8.0.dev2021122109\r\n",
      "  Downloading tf_estimator_nightly-2.8.0.dev2021122109-py2.py3-none-any.whl (462 kB)\r\n",
      "     |████████████████████████████████| 462 kB 11.6 MB/s            \r\n",
      "\u001B[?25hCollecting flatbuffers>=1.12\r\n",
      "  Downloading flatbuffers-2.0-py2.py3-none-any.whl (26 kB)\r\n",
      "Collecting protobuf>=3.9.2\r\n",
      "  Downloading protobuf-3.19.4-cp38-cp38-macosx_10_9_x86_64.whl (961 kB)\r\n",
      "     |████████████████████████████████| 961 kB 11.8 MB/s            \r\n",
      "\u001B[?25hCollecting grpcio<2.0,>=1.24.3\r\n",
      "  Downloading grpcio-1.44.0-cp38-cp38-macosx_10_10_x86_64.whl (4.3 MB)\r\n",
      "     |████████████████████████████████| 4.3 MB 10.5 MB/s            \r\n",
      "\u001B[?25hRequirement already satisfied: typing-extensions>=3.6.6 in /Users/Alexey.Zhebel/IdeaProjects/CompLing/venv/lib/python3.8/site-packages (from tensorflow) (4.0.1)\r\n",
      "Requirement already satisfied: wheel<1.0,>=0.23.0 in /Users/Alexey.Zhebel/IdeaProjects/CompLing/venv/lib/python3.8/site-packages (from astunparse>=1.6.0->tensorflow) (0.36.2)\r\n",
      "Collecting google-auth-oauthlib<0.5,>=0.4.1\r\n",
      "  Downloading google_auth_oauthlib-0.4.6-py2.py3-none-any.whl (18 kB)\r\n",
      "Collecting werkzeug>=0.11.15\r\n",
      "  Downloading Werkzeug-2.0.3-py3-none-any.whl (289 kB)\r\n",
      "     |████████████████████████████████| 289 kB 11.2 MB/s            \r\n",
      "\u001B[?25hRequirement already satisfied: requests<3,>=2.21.0 in /Users/Alexey.Zhebel/IdeaProjects/CompLing/venv/lib/python3.8/site-packages (from tensorboard<2.9,>=2.8->tensorflow) (2.26.0)\r\n",
      "Collecting tensorboard-data-server<0.7.0,>=0.6.0\r\n",
      "  Downloading tensorboard_data_server-0.6.1-py3-none-macosx_10_9_x86_64.whl (3.5 MB)\r\n",
      "     |████████████████████████████████| 3.5 MB 11.5 MB/s            \r\n",
      "\u001B[?25hCollecting tensorboard-plugin-wit>=1.6.0\r\n",
      "  Downloading tensorboard_plugin_wit-1.8.1-py3-none-any.whl (781 kB)\r\n",
      "     |████████████████████████████████| 781 kB 11.5 MB/s            \r\n",
      "\u001B[?25hCollecting google-auth<3,>=1.6.3\r\n",
      "  Downloading google_auth-2.6.2-py2.py3-none-any.whl (156 kB)\r\n",
      "     |████████████████████████████████| 156 kB 11.0 MB/s            \r\n",
      "\u001B[?25hCollecting markdown>=2.6.8\r\n",
      "  Downloading Markdown-3.3.6-py3-none-any.whl (97 kB)\r\n",
      "     |████████████████████████████████| 97 kB 9.8 MB/s             \r\n",
      "\u001B[?25hCollecting rsa<5,>=3.1.4\r\n",
      "  Downloading rsa-4.8-py3-none-any.whl (39 kB)\r\n",
      "Collecting cachetools<6.0,>=2.0.0\r\n",
      "  Downloading cachetools-5.0.0-py3-none-any.whl (9.1 kB)\r\n",
      "Collecting pyasn1-modules>=0.2.1\r\n",
      "  Downloading pyasn1_modules-0.2.8-py2.py3-none-any.whl (155 kB)\r\n",
      "     |████████████████████████████████| 155 kB 11.1 MB/s            \r\n",
      "\u001B[?25hCollecting requests-oauthlib>=0.7.0\r\n",
      "  Downloading requests_oauthlib-1.3.1-py2.py3-none-any.whl (23 kB)\r\n",
      "Requirement already satisfied: importlib-metadata>=4.4 in /Users/Alexey.Zhebel/IdeaProjects/CompLing/venv/lib/python3.8/site-packages (from markdown>=2.6.8->tensorboard<2.9,>=2.8->tensorflow) (4.10.0)\r\n",
      "Requirement already satisfied: charset-normalizer~=2.0.0 in /Users/Alexey.Zhebel/IdeaProjects/CompLing/venv/lib/python3.8/site-packages (from requests<3,>=2.21.0->tensorboard<2.9,>=2.8->tensorflow) (2.0.9)\r\n",
      "Requirement already satisfied: urllib3<1.27,>=1.21.1 in /Users/Alexey.Zhebel/IdeaProjects/CompLing/venv/lib/python3.8/site-packages (from requests<3,>=2.21.0->tensorboard<2.9,>=2.8->tensorflow) (1.26.7)\r\n",
      "Requirement already satisfied: idna<4,>=2.5 in /Users/Alexey.Zhebel/IdeaProjects/CompLing/venv/lib/python3.8/site-packages (from requests<3,>=2.21.0->tensorboard<2.9,>=2.8->tensorflow) (3.3)\r\n",
      "Requirement already satisfied: certifi>=2017.4.17 in /Users/Alexey.Zhebel/IdeaProjects/CompLing/venv/lib/python3.8/site-packages (from requests<3,>=2.21.0->tensorboard<2.9,>=2.8->tensorflow) (2021.10.8)\r\n",
      "Requirement already satisfied: zipp>=0.5 in /Users/Alexey.Zhebel/IdeaProjects/CompLing/venv/lib/python3.8/site-packages (from importlib-metadata>=4.4->markdown>=2.6.8->tensorboard<2.9,>=2.8->tensorflow) (3.6.0)\r\n",
      "Collecting pyasn1<0.5.0,>=0.4.6\r\n",
      "  Downloading pyasn1-0.4.8-py2.py3-none-any.whl (77 kB)\r\n",
      "     |████████████████████████████████| 77 kB 8.6 MB/s             \r\n",
      "\u001B[?25hCollecting oauthlib>=3.0.0\r\n",
      "  Downloading oauthlib-3.2.0-py3-none-any.whl (151 kB)\r\n",
      "     |████████████████████████████████| 151 kB 11.2 MB/s            \r\n",
      "\u001B[?25hBuilding wheels for collected packages: termcolor\r\n",
      "  Building wheel for termcolor (setup.py) ... \u001B[?25ldone\r\n",
      "\u001B[?25h  Created wheel for termcolor: filename=termcolor-1.1.0-py3-none-any.whl size=4847 sha256=94be57e65601977cca14083c72765ffe2710d6350a9a72ac19af95b2fdb70cdc\r\n",
      "  Stored in directory: /Users/Alexey.Zhebel/Library/Caches/pip/wheels/a0/16/9c/5473df82468f958445479c59e784896fa24f4a5fc024b0f501\r\n",
      "Successfully built termcolor\r\n",
      "Installing collected packages: pyasn1, rsa, pyasn1-modules, oauthlib, cachetools, requests-oauthlib, google-auth, werkzeug, tensorboard-plugin-wit, tensorboard-data-server, protobuf, markdown, grpcio, google-auth-oauthlib, absl-py, wrapt, tf-estimator-nightly, termcolor, tensorflow-io-gcs-filesystem, tensorboard, opt-einsum, libclang, keras-preprocessing, keras, google-pasta, gast, flatbuffers, astunparse, tensorflow\r\n",
      "Successfully installed absl-py-1.0.0 astunparse-1.6.3 cachetools-5.0.0 flatbuffers-2.0 gast-0.5.3 google-auth-2.6.2 google-auth-oauthlib-0.4.6 google-pasta-0.2.0 grpcio-1.44.0 keras-2.8.0 keras-preprocessing-1.1.2 libclang-13.0.0 markdown-3.3.6 oauthlib-3.2.0 opt-einsum-3.3.0 protobuf-3.19.4 pyasn1-0.4.8 pyasn1-modules-0.2.8 requests-oauthlib-1.3.1 rsa-4.8 tensorboard-2.8.0 tensorboard-data-server-0.6.1 tensorboard-plugin-wit-1.8.1 tensorflow-2.8.0 tensorflow-io-gcs-filesystem-0.24.0 termcolor-1.1.0 tf-estimator-nightly-2.8.0.dev2021122109 werkzeug-2.0.3 wrapt-1.14.0\r\n",
      "\u001B[33mWARNING: You are using pip version 21.3.1; however, version 22.0.4 is available.\r\n",
      "You should consider upgrading via the '/Users/Alexey.Zhebel/IdeaProjects/CompLing/venv/bin/python -m pip install --upgrade pip' command.\u001B[0m\r\n"
     ]
    }
   ],
   "source": [
    "!pip3 install tensorflow"
   ],
   "metadata": {
    "collapsed": false,
    "pycharm": {
     "name": "#%%\n"
    }
   }
  },
  {
   "cell_type": "code",
   "metadata": {
    "id": "thO2ZAaZVPYy"
   },
   "source": [
    "from simple_elmo import ElmoModel"
   ],
   "execution_count": 10,
   "outputs": []
  },
  {
   "cell_type": "code",
   "metadata": {
    "id": "vuO-_b4RVYx9"
   },
   "source": [
    "model = ElmoModel()"
   ],
   "execution_count": 11,
   "outputs": []
  },
  {
   "cell_type": "markdown",
   "metadata": {
    "id": "cA52M8_HV8ql"
   },
   "source": [
    "Распакуем модель в наш объект ElmoModel, это займет прилично времени, минуты 3 ⌛  "
   ]
  },
  {
   "cell_type": "code",
   "metadata": {
    "id": "U9tmNUxcVcIO",
    "colab": {
     "base_uri": "https://localhost:8080/",
     "height": 263
    },
    "outputId": "c6d9e7b6-1c75-47ef-c509-f68f49480ab8"
   },
   "source": [
    "model.load(\"195.zip\")"
   ],
   "execution_count": 12,
   "outputs": [
    {
     "name": "stderr",
     "output_type": "stream",
     "text": [
      "2022-03-19 12:15:21,339 : INFO : Loading model from 195.zip...\n",
      "2022-03-19 12:15:21,340 : INFO : \n",
      "            Assuming the model is a ZIP archive downloaded from the NLPL vector repository.\n",
      "            Loading a model from a ZIP archive directly is slower than from the extracted files,\n",
      "            but does not require additional disk space\n",
      "            and allows to load from directories without write permissions.\n",
      "            \n",
      "2022-03-19 12:15:21,344 : INFO : We will cache the vocabulary of 100 tokens.\n",
      "/Users/Alexey.Zhebel/IdeaProjects/CompLing/venv/lib/python3.8/site-packages/simple_elmo/model.py:529: UserWarning: `tf.nn.rnn_cell.LSTMCell` is deprecated and will be removed in a future version. This class is equivalent as `tf.keras.layers.LSTMCell`, and will be replaced by that in Tensorflow 2.0.\n",
      "  lstm_cell = tf.compat.v1.nn.rnn_cell.LSTMCell(\n",
      "/Users/Alexey.Zhebel/IdeaProjects/CompLing/venv/lib/python3.8/site-packages/keras/layers/legacy_rnn/rnn_cell_impl.py:984: UserWarning: `layer.add_variable` is deprecated and will be removed in a future version. Please use `layer.add_weight` method instead.\n",
      "  self._kernel = self.add_variable(\n",
      "/Users/Alexey.Zhebel/IdeaProjects/CompLing/venv/lib/python3.8/site-packages/keras/layers/legacy_rnn/rnn_cell_impl.py:993: UserWarning: `layer.add_variable` is deprecated and will be removed in a future version. Please use `layer.add_weight` method instead.\n",
      "  self._bias = self.add_variable(\n",
      "/Users/Alexey.Zhebel/IdeaProjects/CompLing/venv/lib/python3.8/site-packages/keras/layers/legacy_rnn/rnn_cell_impl.py:1009: UserWarning: `layer.add_variable` is deprecated and will be removed in a future version. Please use `layer.add_weight` method instead.\n",
      "  self._proj_kernel = self.add_variable(\n"
     ]
    },
    {
     "data": {
      "text/plain": "'The model is now loaded.'"
     },
     "execution_count": 12,
     "metadata": {},
     "output_type": "execute_result"
    }
   ]
  },
  {
   "cell_type": "markdown",
   "metadata": {
    "id": "V2S8MgsJa7wF"
   },
   "source": [
    "Все, мы с вами загрузили модель. **Можно кормить ей тексты** (просто в виде списков токенов). Возьмем такой небольшой набор текстов:"
   ]
  },
  {
   "cell_type": "code",
   "metadata": {
    "id": "7jyTlZfKVfC0"
   },
   "source": [
    "texts = ['у нас лук растет на грядке',\n",
    "         'составной лук — оружие кочевников',\n",
    "         'у маши модный лук в инсте',\n",
    "         'есть зеленый лук полезно для здоровья',\n",
    "         'кликни мышь по всплывающему окну на экране',\n",
    "         'домовая мышь очень плодовита и размножается круглый год',\n",
    "         'серая мышь грызет сыр']\n",
    "tokenized_texts = [text.split() for text in texts]"
   ],
   "execution_count": 13,
   "outputs": []
  },
  {
   "cell_type": "code",
   "metadata": {
    "id": "LOyPx1nL9jmH",
    "colab": {
     "base_uri": "https://localhost:8080/"
    },
    "outputId": "8caf4aea-b2af-4ce6-b4f1-2e58cc5b2f4e"
   },
   "source": [
    "tokenized_texts"
   ],
   "execution_count": 14,
   "outputs": [
    {
     "data": {
      "text/plain": "[['у', 'нас', 'лук', 'растет', 'на', 'грядке'],\n ['составной', 'лук', '—', 'оружие', 'кочевников'],\n ['у', 'маши', 'модный', 'лук', 'в', 'инсте'],\n ['есть', 'зеленый', 'лук', 'полезно', 'для', 'здоровья'],\n ['кликни', 'мышь', 'по', 'всплывающему', 'окну', 'на', 'экране'],\n ['домовая',\n  'мышь',\n  'очень',\n  'плодовита',\n  'и',\n  'размножается',\n  'круглый',\n  'год'],\n ['серая', 'мышь', 'грызет', 'сыр']]"
     },
     "execution_count": 14,
     "metadata": {},
     "output_type": "execute_result"
    }
   ]
  },
  {
   "cell_type": "code",
   "metadata": {
    "id": "aT7e1xNbaR4h",
    "colab": {
     "base_uri": "https://localhost:8080/"
    },
    "outputId": "44e95dae-d5be-4603-fb67-fd8e776f0693"
   },
   "source": [
    "vectors = model.get_elmo_vectors(tokenized_texts)"
   ],
   "execution_count": 15,
   "outputs": [
    {
     "name": "stderr",
     "output_type": "stream",
     "text": [
      "2022-03-19 12:35:21.227875: I tensorflow/core/platform/cpu_feature_guard.cc:151] This TensorFlow binary is optimized with oneAPI Deep Neural Network Library (oneDNN) to use the following CPU instructions in performance-critical operations:  AVX2 FMA\n",
      "To enable them in other operations, rebuild TensorFlow with the appropriate compiler flags.\n",
      "2022-03-19 12:35:25,694 : INFO : Warming up ELMo on 7 sentences...\n",
      "2022-03-19 12:35:26,111 : INFO : Warming up finished.\n",
      "2022-03-19 12:35:26,112 : INFO : Texts in the current batch: 7\n"
     ]
    }
   ]
  },
  {
   "cell_type": "code",
   "metadata": {
    "id": "1aZfQktua4Vo",
    "colab": {
     "base_uri": "https://localhost:8080/"
    },
    "outputId": "3a8e7377-4926-46b8-def8-b4da0792f412"
   },
   "source": [
    "vectors.shape"
   ],
   "execution_count": 16,
   "outputs": [
    {
     "data": {
      "text/plain": "(7, 8, 1024)"
     },
     "execution_count": 16,
     "metadata": {},
     "output_type": "execute_result"
    }
   ]
  },
  {
   "cell_type": "markdown",
   "metadata": {
    "id": "DGJwCwC7hy2U"
   },
   "source": [
    "7 - это число наших предложений, 8 - максимальное количество слов в предложении, а 1024 - это размерность ELMo-вектора для каждого слова в данной модели"
   ]
  },
  {
   "cell_type": "code",
   "metadata": {
    "id": "gUydyz44ilyz",
    "colab": {
     "base_uri": "https://localhost:8080/"
    },
    "outputId": "eeedc31d-ece8-407f-e5c1-10cee1b91253"
   },
   "source": [
    "luk1 = vectors[0][2] # эмбеддинг слова лук из первого предложения (овощь), оно третье по счету 🌰"
   ],
   "execution_count": 20,
   "outputs": [
    {
     "data": {
      "text/plain": "array([ 0.35561791,  1.32152891, -0.71108735, ...,  0.72540075,\n       -0.09444952, -0.09786901])"
     },
     "execution_count": 20,
     "metadata": {},
     "output_type": "execute_result"
    }
   ]
  },
  {
   "cell_type": "markdown",
   "metadata": {
    "id": "S_rye82vhf7b"
   },
   "source": [
    "Удостоверимся, что это он :)"
   ]
  },
  {
   "cell_type": "code",
   "metadata": {
    "id": "aq0vRGQYhXuD",
    "colab": {
     "base_uri": "https://localhost:8080/",
     "height": 35
    },
    "outputId": "f10b98de-dec6-4fc0-9af7-bf7159493956"
   },
   "source": [
    "tokenized_texts[0][2] # третье слово первого предложения"
   ],
   "execution_count": 21,
   "outputs": [
    {
     "data": {
      "text/plain": "'лук'"
     },
     "execution_count": 21,
     "metadata": {},
     "output_type": "execute_result"
    }
   ]
  },
  {
   "cell_type": "code",
   "metadata": {
    "id": "PSE61AFCi1xC",
    "colab": {
     "base_uri": "https://localhost:8080/"
    },
    "outputId": "52548cd7-7ee1-4f5d-c352-7f6cf207ffb7"
   },
   "source": [
    "luk2 = vectors[1][1] # эмбеддинг слова лук из второго предложения (оружие) 🏹"
   ],
   "execution_count": 22,
   "outputs": [
    {
     "data": {
      "text/plain": "array([-0.26929757,  0.99860305,  0.03584291, ...,  0.1599817 ,\n       -0.03888318,  0.45887589])"
     },
     "execution_count": 22,
     "metadata": {},
     "output_type": "execute_result"
    }
   ]
  },
  {
   "cell_type": "code",
   "metadata": {
    "id": "XU-QrErUi57F",
    "colab": {
     "base_uri": "https://localhost:8080/",
     "height": 35
    },
    "outputId": "88aeb808-5d66-4f31-f359-d7ee3e62c297"
   },
   "source": [
    "tokenized_texts[1][1]"
   ],
   "execution_count": 23,
   "outputs": [
    {
     "data": {
      "text/plain": "'лук'"
     },
     "execution_count": 23,
     "metadata": {},
     "output_type": "execute_result"
    }
   ]
  },
  {
   "cell_type": "markdown",
   "metadata": {
    "id": "MSemy3sslPQK"
   },
   "source": [
    "Циферки у двух луков разные, ура! Посмотрим и на третий:\n"
   ]
  },
  {
   "cell_type": "code",
   "metadata": {
    "id": "h1k7wFLEj2RV",
    "colab": {
     "base_uri": "https://localhost:8080/"
    },
    "outputId": "fcc4e47e-7906-472f-ac37-4ff7cc652c7b"
   },
   "source": [
    "luk3 = vectors[2][3] # эмбеддинг слова лук из третьего предложения (внешний вид) 🤳"
   ],
   "execution_count": 24,
   "outputs": [
    {
     "data": {
      "text/plain": "array([ 0.29420644,  1.11927128, -0.27903554, ...,  0.20286256,\n       -0.19678341,  0.14220197])"
     },
     "execution_count": 24,
     "metadata": {},
     "output_type": "execute_result"
    }
   ]
  },
  {
   "cell_type": "markdown",
   "metadata": {
    "id": "d24mXqeuk2KB"
   },
   "source": [
    "NB: Здесь нам показывают не весь вектор, только начало и конец. Потому что всего в нем 1024 компонента:"
   ]
  },
  {
   "cell_type": "code",
   "metadata": {
    "id": "6N4HC79BkAx7",
    "colab": {
     "base_uri": "https://localhost:8080/"
    },
    "outputId": "c61ec883-a22a-4c57-f8c7-869ff1e8c3c0"
   },
   "source": [
    "vectors[2][3].shape"
   ],
   "execution_count": 25,
   "outputs": [
    {
     "data": {
      "text/plain": "(1024,)"
     },
     "execution_count": 25,
     "metadata": {},
     "output_type": "execute_result"
    }
   ]
  },
  {
   "cell_type": "markdown",
   "metadata": {
    "id": "KdJFJ64Eb1Nw"
   },
   "source": [
    "Но как же их все сравнить?"
   ]
  },
  {
   "cell_type": "code",
   "metadata": {
    "id": "YsgphLRyudHn"
   },
   "source": [
    "#\n",
    "\n",
    "\n",
    "\n",
    "\n",
    "\n",
    "\n",
    "\n",
    "\n",
    "\n",
    "\n",
    "\n",
    "\n",
    "\n",
    "\n",
    "\n",
    "\n",
    "\n",
    "\n",
    "\n",
    "\n",
    "\n",
    "#"
   ],
   "execution_count": null,
   "outputs": []
  },
  {
   "cell_type": "markdown",
   "metadata": {
    "id": "MgcrTZ23s255"
   },
   "source": [
    "<img src = 'https://github.com/dhhse/dh2020/raw/master/pics/distances.png'>"
   ]
  },
  {
   "cell_type": "code",
   "metadata": {
    "id": "7BuVS51OlBlA"
   },
   "source": [
    "from scipy import spatial # для подсчета косинусного расстояния"
   ],
   "execution_count": 26,
   "outputs": []
  },
  {
   "cell_type": "code",
   "metadata": {
    "id": "zQ8PmCzil568"
   },
   "source": [
    "onion = vectors[0][2] # 🌰\n",
    "onion2 = vectors[3][2] # 🌰 еще один лук-растение из 4-го предложения\n",
    "bow = vectors[1][1] # 🏹\n",
    "look = vectors[2][3] # 🤳\n",
    "\n",
    "\n",
    "mouse_computer = vectors[4][1] # 🖱️ \n",
    "mouse_rodent = vectors[5][1] # 🐁\n",
    "mouse_rodent_2 = vectors[6][1] # 🐁"
   ],
   "execution_count": 27,
   "outputs": []
  },
  {
   "cell_type": "code",
   "metadata": {
    "id": "IzyuvPdMXv6W",
    "colab": {
     "base_uri": "https://localhost:8080/"
    },
    "outputId": "4299ea94-9411-4cab-bbcb-8be60b0d2c61"
   },
   "source": [
    "# смотрим расстояния\n",
    "spatial.distance.cosine(onion, onion)"
   ],
   "execution_count": 28,
   "outputs": [
    {
     "data": {
      "text/plain": "0"
     },
     "execution_count": 28,
     "metadata": {},
     "output_type": "execute_result"
    }
   ]
  },
  {
   "cell_type": "code",
   "metadata": {
    "id": "g7EGiVMjltbP",
    "colab": {
     "base_uri": "https://localhost:8080/"
    },
    "outputId": "00761552-b2aa-4702-a349-ab8f639b317f"
   },
   "source": [
    "print(spatial.distance.cosine(onion, bow))\n",
    "print(spatial.distance.cosine(onion, look))\n",
    "print(spatial.distance.cosine(look, bow))"
   ],
   "execution_count": 34,
   "outputs": [
    {
     "name": "stdout",
     "output_type": "stream",
     "text": [
      "0.2998322309172946\n",
      "0.164876955928851\n",
      "0.22719377200210045\n"
     ]
    }
   ]
  },
  {
   "cell_type": "code",
   "metadata": {
    "id": "7xfnyfw8mpie",
    "colab": {
     "base_uri": "https://localhost:8080/"
    },
    "outputId": "669d90fa-cf3f-4e81-f524-5c99f04b766f"
   },
   "source": [
    "spatial.distance.cosine(onion, onion2)"
   ],
   "execution_count": 30,
   "outputs": [
    {
     "data": {
      "text/plain": "0.18639859506727308"
     },
     "execution_count": 30,
     "metadata": {},
     "output_type": "execute_result"
    }
   ]
  },
  {
   "cell_type": "markdown",
   "metadata": {
    "id": "gixumS7Un03a"
   },
   "source": [
    "Ну вот, луки в одном значении ближе друг другу. В принципе это все, что нам нужно. "
   ]
  },
  {
   "cell_type": "code",
   "metadata": {
    "colab": {
     "base_uri": "https://localhost:8080/"
    },
    "id": "SDkmiUoczaHH",
    "outputId": "59638816-03ba-45a6-983e-a553cee2e074"
   },
   "source": [
    "spatial.distance.cosine(mouse_computer,mouse_computer)"
   ],
   "execution_count": 31,
   "outputs": [
    {
     "data": {
      "text/plain": "0"
     },
     "execution_count": 31,
     "metadata": {},
     "output_type": "execute_result"
    }
   ]
  },
  {
   "cell_type": "code",
   "metadata": {
    "id": "YeZlPX2S7OeS",
    "colab": {
     "base_uri": "https://localhost:8080/"
    },
    "outputId": "8a622c24-5257-4d1d-a845-9b19621d1518"
   },
   "source": [
    "spatial.distance.cosine(mouse_computer, mouse_rodent)"
   ],
   "execution_count": 32,
   "outputs": [
    {
     "data": {
      "text/plain": "0.3378224339999929"
     },
     "execution_count": 32,
     "metadata": {},
     "output_type": "execute_result"
    }
   ]
  },
  {
   "cell_type": "code",
   "metadata": {
    "id": "UFN8GjCnX2Hv",
    "colab": {
     "base_uri": "https://localhost:8080/"
    },
    "outputId": "fff66c9e-2328-47c5-b517-76691fae2944"
   },
   "source": [
    "spatial.distance.cosine(mouse_computer, mouse_rodent_2)"
   ],
   "execution_count": 36,
   "outputs": [
    {
     "data": {
      "text/plain": "0.34320236086359535"
     },
     "execution_count": 36,
     "metadata": {},
     "output_type": "execute_result"
    }
   ]
  },
  {
   "cell_type": "code",
   "metadata": {
    "id": "3u2UiLlsX4g_",
    "colab": {
     "base_uri": "https://localhost:8080/"
    },
    "outputId": "a82f2aa9-77e0-4fa8-d822-0ec6ecddd660"
   },
   "source": [
    "spatial.distance.cosine(mouse_rodent, mouse_rodent_2)"
   ],
   "execution_count": 37,
   "outputs": [
    {
     "data": {
      "text/plain": "0.1664347754690476"
     },
     "execution_count": 37,
     "metadata": {},
     "output_type": "execute_result"
    }
   ]
  },
  {
   "cell_type": "markdown",
   "metadata": {
    "id": "vVQmng-ldt2O"
   },
   "source": [
    "Мыши тоже! "
   ]
  },
  {
   "cell_type": "markdown",
   "metadata": {
    "id": "qLiFFb2Z4VlI"
   },
   "source": [
    "## Визуализируем это\n",
    "\n",
    "Мы измерили расстояния между векторами в пространстве 1024 измерений. Напрямую такое визуализировать сложно. Но есть много методов понижения размерности до 2-3 измерений, что уже можно визуализировать. Воспользуемся одним из классических методов — PCA (вот [его шикарное объяснение](http://math-info.hse.ru/f/2015-16/ling-mag-quant/lecture-pca.html) от Ильи Щурова) "
   ]
  },
  {
   "cell_type": "code",
   "metadata": {
    "id": "V27Zwe162F7Y"
   },
   "source": [
    "from sklearn.decomposition import PCA"
   ],
   "execution_count": 38,
   "outputs": []
  },
  {
   "cell_type": "markdown",
   "metadata": {
    "id": "zBubzlmn_Stb"
   },
   "source": [
    "Засунем наши данные в PCA (подсмотрено [тут](https://stackoverflow.com/questions/14432557/matplotlib-scatter-plot-with-different-text-at-each-data-point), [тут](https://matplotlib.org/stable/gallery/lines_bars_and_markers/scatter_with_legend.html) и [тут](https://towardsdatascience.com/pca-using-python-scikit-learn-e653f8989e60))"
   ]
  },
  {
   "cell_type": "code",
   "metadata": {
    "id": "TekwYL0W2H9V"
   },
   "source": [
    "pca_for_words = PCA().fit_transform([onion, bow, look, onion2, mouse_computer, mouse_rodent, mouse_rodent_2])"
   ],
   "execution_count": 39,
   "outputs": []
  },
  {
   "cell_type": "code",
   "execution_count": 51,
   "outputs": [
    {
     "data": {
      "text/plain": "array([-6.10072651, -7.34809275, -6.53314625, -5.53837319,  8.59012632,\n        8.97331185,  7.95690053])"
     },
     "execution_count": 51,
     "metadata": {},
     "output_type": "execute_result"
    }
   ],
   "source": [
    "pca_for_words.shape\n",
    "pca_for_words[:,0]"
   ],
   "metadata": {
    "collapsed": false,
    "pycharm": {
     "name": "#%%\n"
    }
   }
  },
  {
   "cell_type": "markdown",
   "metadata": {
    "id": "2hToeo3J_tNt"
   },
   "source": [
    "Визуализируем матплотлибом (это сейчас вникать не нужно, про матплотлиб будет отдельная пара)"
   ]
  },
  {
   "cell_type": "code",
   "metadata": {
    "id": "6qsTyMye7V-X"
   },
   "source": [
    "from matplotlib import pyplot as plt"
   ],
   "execution_count": 40,
   "outputs": []
  },
  {
   "cell_type": "code",
   "metadata": {
    "id": "0sE6DTfp2Nez"
   },
   "source": [
    "plt.scatter(pca_for_words[:,0], pca_for_words[:,1])"
   ],
   "execution_count": 53,
   "outputs": [
    {
     "data": {
      "text/plain": "<matplotlib.collections.PathCollection at 0x1606b7700>"
     },
     "execution_count": 53,
     "metadata": {},
     "output_type": "execute_result"
    },
    {
     "data": {
      "text/plain": "<Figure size 432x288 with 1 Axes>",
      "image/png": "[encoded data removed]"
     },
     "metadata": {
      "needs_background": "light"
     },
     "output_type": "display_data"
    }
   ]
  },
  {
   "cell_type": "markdown",
   "metadata": {
    "id": "LFhOWhfv44hP"
   },
   "source": [
    "Это расстояния между нашими словами. Хорошо бы еще подписи:"
   ]
  },
  {
   "cell_type": "code",
   "metadata": {
    "id": "Tar79or_23WN",
    "colab": {
     "base_uri": "https://localhost:8080/",
     "height": 265
    },
    "outputId": "9b21bb11-dc45-4948-8ae7-1d21af1a9c0e"
   },
   "source": [
    "selected_vectors = [onion, bow, look, onion2, mouse_computer, mouse_rodent, mouse_rodent_2]\n",
    "labels = ['onion', 'bow', 'look', 'onion2', 'mouse_computer', 'mouse_rodent', 'mouse_rodent_2']\n",
    "\n",
    "for vector_index in range (len(selected_vectors)):\n",
    "    plt.scatter(pca_for_words[vector_index][0], pca_for_words[vector_index][1], linewidth=2)\n",
    "    plt.text(pca_for_words[vector_index][0], pca_for_words[vector_index][1], labels[vector_index], fontsize=11)"
   ],
   "execution_count": 45,
   "outputs": [
    {
     "data": {
      "text/plain": "<Figure size 432x288 with 1 Axes>",
      "image/png": "[encoded data removed]"
     },
     "metadata": {
      "needs_background": "light"
     },
     "output_type": "display_data"
    }
   ]
  },
  {
   "cell_type": "markdown",
   "metadata": {
    "id": "sCgdbfSc7tMo"
   },
   "source": [
    "C мышью работает получше. На луках плохо видно расстояния -- кажется, что они все примерно близки. Но мы же знаем уже, что onion и onion2 ближе, чем onion и bow. Просто визуализация наша тоже не без проблем -- ведь тут 1024 измерения сжаты в 2. Давайте посмотрим отдельно на луки:"
   ]
  },
  {
   "cell_type": "code",
   "metadata": {
    "id": "G07tpzcq733b",
    "colab": {
     "base_uri": "https://localhost:8080/",
     "height": 267
    },
    "outputId": "028be64a-da02-4873-d98d-e02eba40d749"
   },
   "source": [
    "selected_vectors = [onion, bow, look, onion2]\n",
    "labels = ['onion', 'bow', 'look', 'onion2']\n",
    "\n",
    "for vector_index in range (len(selected_vectors)):\n",
    "  plt.scatter (pca_for_words[vector_index][0], pca_for_words[vector_index][1], linewidth=2)\n",
    "  plt.text(pca_for_words[vector_index][0], pca_for_words[vector_index][1], labels[vector_index], fontsize=15)"
   ],
   "execution_count": 54,
   "outputs": [
    {
     "data": {
      "text/plain": "<Figure size 432x288 with 1 Axes>",
      "image/png": "[encoded data removed]"
     },
     "metadata": {
      "needs_background": "light"
     },
     "output_type": "display_data"
    }
   ]
  },
  {
   "cell_type": "markdown",
   "metadata": {
    "id": "FeGH5Gj38UBW"
   },
   "source": [
    "Так чуть лучше. \n",
    "\n",
    "Еще продвинутые люди используют t-SNE или uMAP вместо  PCA."
   ]
  },
  {
   "cell_type": "markdown",
   "metadata": {
    "id": "uNUzGXRseEQJ"
   },
   "source": [
    "## Стоп, а что там с предобработкой? Не надо ли лемматизировать? "
   ]
  },
  {
   "cell_type": "markdown",
   "metadata": {
    "id": "sR8Dxr_heykU"
   },
   "source": [
    "В западном NLP генеральный тренд — все меньше и меньше предобработки. Типа \"сделайте нейронку помощнее -- и она вообще все сможет сама\". \n",
    "\n",
    "🔎 Проверим — поменяем одинаковые формы слов на разные:"
   ]
  },
  {
   "cell_type": "code",
   "metadata": {
    "id": "oOWugR3Qd5u3"
   },
   "source": [
    "texts = ['у нас лук растет на грядке',\n",
    "         'составные луки — оружие кочевников',\n",
    "         'у маши модный лук в инсте',\n",
    "         'питаться зеленым луком полезно для здоровья',\n",
    "         'кликни мышью по всплывающему окну на экране',\n",
    "         'домовые мыши очень плодовиты и размножаются круглый год',\n",
    "         'серая мышь грызет сыр']\n",
    "tokenized_texts = [text.split() for text in texts]"
   ],
   "execution_count": 55,
   "outputs": []
  },
  {
   "cell_type": "code",
   "metadata": {
    "id": "6OjEn8uVeOaU",
    "colab": {
     "base_uri": "https://localhost:8080/"
    },
    "outputId": "313a1eea-bece-44c9-86a4-b92119c86c3f"
   },
   "source": [
    "vectors = model.get_elmo_vectors(tokenized_texts)"
   ],
   "execution_count": 56,
   "outputs": [
    {
     "name": "stderr",
     "output_type": "stream",
     "text": [
      "2022-03-19 13:24:27,424 : INFO : Warming up ELMo on 7 sentences...\n",
      "2022-03-19 13:24:27,835 : INFO : Warming up finished.\n",
      "2022-03-19 13:24:27,836 : INFO : Texts in the current batch: 7\n"
     ]
    }
   ]
  },
  {
   "cell_type": "code",
   "metadata": {
    "id": "SJuamtAneC9Z"
   },
   "source": [
    "onion = vectors[0][2] # 🌰\n",
    "bow = vectors[1][1] # 🏹\n",
    "look = vectors[2][3] # 🤳\n",
    "onion2 = vectors[3][2] # 🌰 \n",
    "mouse_computer = vectors[4][1] # 🖱️ \n",
    "mouse_rodent = vectors[5][1] # 🐁\n",
    "mouse_rodent_2 = vectors[6][1] # 🐁"
   ],
   "execution_count": 57,
   "outputs": []
  },
  {
   "cell_type": "code",
   "metadata": {
    "id": "_UvIBAeseTGM",
    "colab": {
     "base_uri": "https://localhost:8080/"
    },
    "outputId": "fb6adfbd-fd80-48e7-cb4b-ea019940eb91"
   },
   "source": [
    "# 🖱️ vs 🐁 \n",
    "spatial.distance.cosine(mouse_computer, mouse_rodent)"
   ],
   "execution_count": 58,
   "outputs": [
    {
     "data": {
      "text/plain": "0.5886785799822483"
     },
     "execution_count": 58,
     "metadata": {},
     "output_type": "execute_result"
    }
   ]
  },
  {
   "cell_type": "code",
   "metadata": {
    "id": "O7K3jqbVeUj5",
    "colab": {
     "base_uri": "https://localhost:8080/"
    },
    "outputId": "409521ea-8b27-4cb5-9dce-7f794e062cb6"
   },
   "source": [
    "# 🖱️ vs 🐁 \n",
    "spatial.distance.cosine(mouse_computer, mouse_rodent_2)"
   ],
   "execution_count": 59,
   "outputs": [
    {
     "data": {
      "text/plain": "0.619559449001402"
     },
     "execution_count": 59,
     "metadata": {},
     "output_type": "execute_result"
    }
   ]
  },
  {
   "cell_type": "code",
   "metadata": {
    "id": "8Zt0z0H2eWh0",
    "colab": {
     "base_uri": "https://localhost:8080/"
    },
    "outputId": "a7cf10d4-a8ca-4916-bdcb-88675f4a8a85"
   },
   "source": [
    "# 🐁  vs 🐁 \n",
    "spatial.distance.cosine(mouse_rodent, mouse_rodent_2)"
   ],
   "execution_count": 60,
   "outputs": [
    {
     "data": {
      "text/plain": "0.3978628120730081"
     },
     "execution_count": 60,
     "metadata": {},
     "output_type": "execute_result"
    }
   ]
  },
  {
   "cell_type": "markdown",
   "metadata": {
    "id": "ymPXroa_hEUX"
   },
   "source": [
    "Вроде и так срабатывает.\n"
   ]
  },
  {
   "cell_type": "code",
   "metadata": {
    "id": "QAEnc9w2eYUE",
    "colab": {
     "base_uri": "https://localhost:8080/"
    },
    "outputId": "a023030a-0aff-410d-8c3f-69a6aabcddaa"
   },
   "source": [
    "spatial.distance.cosine(onion, bow)"
   ],
   "execution_count": 61,
   "outputs": [
    {
     "data": {
      "text/plain": "0.5429966820406887"
     },
     "execution_count": 61,
     "metadata": {},
     "output_type": "execute_result"
    }
   ]
  },
  {
   "cell_type": "code",
   "metadata": {
    "id": "4H-QW8v7hSHM",
    "colab": {
     "base_uri": "https://localhost:8080/"
    },
    "outputId": "20b28f8c-837d-4e37-f621-918421764f13"
   },
   "source": [
    "spatial.distance.cosine(onion, onion2)"
   ],
   "execution_count": 62,
   "outputs": [
    {
     "data": {
      "text/plain": "0.4953683156207479"
     },
     "execution_count": 62,
     "metadata": {},
     "output_type": "execute_result"
    }
   ]
  },
  {
   "cell_type": "markdown",
   "metadata": {
    "id": "PVjr8eZ_i9VE"
   },
   "source": [
    "Тут тоже вроде срабатывает, но хуже\n"
   ]
  },
  {
   "cell_type": "markdown",
   "metadata": {
    "id": "GbAfL0JSAqYw"
   },
   "source": [
    "## Ломаем модель"
   ]
  },
  {
   "cell_type": "markdown",
   "metadata": {
    "id": "7vuchVJ_i2El"
   },
   "source": [
    "Но легко может поломаться. Особенно если слова в разных значениях стоят в одной форме:"
   ]
  },
  {
   "cell_type": "code",
   "metadata": {
    "id": "DnmhnxgAiGdM"
   },
   "source": [
    "texts = ['у нас лук растет на грядке',\n",
    "         'составной лук — оружие кочевников',\n",
    "         'у маши модный лук в инсте',\n",
    "         'питаться зеленым луком полезно для здоровья',\n",
    "         'кликни мышью по всплывающему окну на экране',\n",
    "         'домовые мыши очень плодовиты и размножаются круглый год',\n",
    "         'серая мышь грызет сыр']\n",
    "tokenized_texts = [text.split() for text in texts]"
   ],
   "execution_count": null,
   "outputs": []
  },
  {
   "cell_type": "code",
   "metadata": {
    "id": "Aw0qgZ0Si-yg",
    "colab": {
     "base_uri": "https://localhost:8080/"
    },
    "outputId": "88d2b158-8ba3-4834-f342-1f4ab6e61958"
   },
   "source": [
    "vectors = model.get_elmo_vectors(tokenized_texts)"
   ],
   "execution_count": null,
   "outputs": [
    {
     "output_type": "stream",
     "text": [
      "2021-05-13 17:47:06,979 : INFO : Warming up ELMo on 7 sentences...\n",
      "2021-05-13 17:47:07,962 : INFO : Warming up finished.\n",
      "2021-05-13 17:47:07,965 : INFO : Texts in the current batch: 7\n"
     ],
     "name": "stderr"
    }
   ]
  },
  {
   "cell_type": "code",
   "metadata": {
    "id": "BBMPWYY8jC9V"
   },
   "source": [
    "onion = vectors[0][2] # 🌰\n",
    "bow = vectors[1][1] # 🏹\n",
    "look = vectors[2][3] # 🤳\n",
    "onion2 = vectors[3][2] # 🌰 \n",
    "mouse_computer = vectors[4][1] # 🖱️ \n",
    "mouse_rodent = vectors[5][1] # 🐁\n",
    "mouse_rodent_2 = vectors[6][1] # 🐁"
   ],
   "execution_count": null,
   "outputs": []
  },
  {
   "cell_type": "code",
   "metadata": {
    "id": "8AkMfOYYjH-J",
    "colab": {
     "base_uri": "https://localhost:8080/"
    },
    "outputId": "e1796fa8-9174-4ca0-f2c1-36ef22ea7cb4"
   },
   "source": [
    "spatial.distance.cosine(onion, bow)"
   ],
   "execution_count": null,
   "outputs": [
    {
     "output_type": "execute_result",
     "data": {
      "text/plain": [
       "0.2998322061974956"
      ]
     },
     "metadata": {
      "tags": []
     },
     "execution_count": 66
    }
   ]
  },
  {
   "cell_type": "code",
   "metadata": {
    "id": "CXQsQJwhjMDs",
    "colab": {
     "base_uri": "https://localhost:8080/"
    },
    "outputId": "30ebb076-2f7e-4ec6-a8fc-b9c68c4d1957"
   },
   "source": [
    "spatial.distance.cosine(onion, onion2)"
   ],
   "execution_count": null,
   "outputs": [
    {
     "output_type": "execute_result",
     "data": {
      "text/plain": [
       "0.49536833364179045"
      ]
     },
     "metadata": {
      "tags": []
     },
     "execution_count": 67
    }
   ]
  },
  {
   "cell_type": "code",
   "metadata": {
    "id": "nCcgwTl3-MVq",
    "colab": {
     "base_uri": "https://localhost:8080/",
     "height": 265
    },
    "outputId": "52430b48-8781-436b-a3b6-b34d3c833a67"
   },
   "source": [
    "pca_for_words = PCA ().fit_transform ([onion, bow, look, onion2, mouse_computer, mouse_rodent, mouse_rodent_2])\n",
    "selected_vectors = [onion, bow, look, onion2, mouse_computer, mouse_rodent, mouse_rodent_2]\n",
    "labels = ['onion', 'bow', 'look', 'onion2', 'mouse_computer', 'mouse_rodent', 'mouse_rodent_2']\n",
    "\n",
    "for vector_index in range (len(selected_vectors)):\n",
    "  plt.scatter (pca_for_words[vector_index][0], pca_for_words[vector_index][1])\n",
    "  plt.text(pca_for_words[vector_index][0], pca_for_words[vector_index][1], labels[vector_index], fontsize=9)"
   ],
   "execution_count": null,
   "outputs": [
    {
     "output_type": "display_data",
     "data": {
      "image/png": "[encoded data removed]",
      "text/plain": [
       "<Figure size 432x288 with 1 Axes>"
      ]
     },
     "metadata": {
      "tags": [],
      "needs_background": "light"
     }
    }
   ]
  },
  {
   "cell_type": "markdown",
   "metadata": {
    "id": "jVDRncOvjCjn"
   },
   "source": [
    "Здесь против нас явно играет то, что модель обучалась на словоформах (а не на леммах) и считает, что лук и лук все-таки больше похожи, чем лук и луком, даже несмотря на контекст. \n",
    "\n",
    "И исследования показывают, что целом для русского языка лучше все-таки пользоваться предобработкой даже с контекстуализированными моделями (либо использовать модели, которые не со словами работают). \n",
    "\n",
    "Вот статья снова же Андрея Кутузова, где он показывает, что для русского лемматизация **таки нужна**: \n",
    "\n",
    " [To lemmatize or not to lemmatize: how word normalisation affects ELMo performance in word sense disambiguation](https://arxiv.org/abs/1909.03135)\n"
   ]
  },
  {
   "cell_type": "markdown",
   "metadata": {
    "id": "CXcBNwlapgPw"
   },
   "source": [
    "## Попробуем лемматизировать"
   ]
  },
  {
   "cell_type": "code",
   "metadata": {
    "id": "AUOYEobGjthD",
    "colab": {
     "base_uri": "https://localhost:8080/"
    },
    "outputId": "7d82447d-f093-489a-8a4f-3f482fef9cc8"
   },
   "source": [
    "!pip install pymorphy2"
   ],
   "execution_count": 63,
   "outputs": [
    {
     "name": "stdout",
     "output_type": "stream",
     "text": [
      "Requirement already satisfied: pymorphy2 in /Users/Alexey.Zhebel/IdeaProjects/CompLing/venv/lib/python3.8/site-packages (0.9.1)\r\n",
      "Requirement already satisfied: docopt>=0.6 in /Users/Alexey.Zhebel/IdeaProjects/CompLing/venv/lib/python3.8/site-packages (from pymorphy2) (0.6.2)\r\n",
      "Requirement already satisfied: pymorphy2-dicts-ru<3.0,>=2.4 in /Users/Alexey.Zhebel/IdeaProjects/CompLing/venv/lib/python3.8/site-packages (from pymorphy2) (2.4.417127.4579844)\r\n",
      "Requirement already satisfied: dawg-python>=0.7.1 in /Users/Alexey.Zhebel/IdeaProjects/CompLing/venv/lib/python3.8/site-packages (from pymorphy2) (0.7.2)\r\n",
      "\u001B[33mWARNING: You are using pip version 21.3.1; however, version 22.0.4 is available.\r\n",
      "You should consider upgrading via the '/Users/Alexey.Zhebel/IdeaProjects/CompLing/venv/bin/python -m pip install --upgrade pip' command.\u001B[0m\r\n"
     ]
    }
   ]
  },
  {
   "cell_type": "code",
   "metadata": {
    "id": "HEDsNYj3j0MI",
    "colab": {
     "base_uri": "https://localhost:8080/"
    },
    "outputId": "f1f269a1-f710-4390-f187-5620ebcd4064"
   },
   "source": [
    "from pymorphy2 import MorphAnalyzer\n",
    "parser = MorphAnalyzer ()"
   ],
   "execution_count": 64,
   "outputs": [
    {
     "name": "stderr",
     "output_type": "stream",
     "text": [
      "2022-03-19 13:28:11,261 : INFO : Loading dictionaries from /Users/Alexey.Zhebel/IdeaProjects/CompLing/venv/lib/python3.8/site-packages/pymorphy2_dicts_ru/data\n",
      "2022-03-19 13:28:11,313 : INFO : format: 2.4, revision: 417127, updated: 2020-10-11T15:05:51.070345\n"
     ]
    }
   ]
  },
  {
   "cell_type": "markdown",
   "metadata": {
    "id": "8SPyJMXtpkRK"
   },
   "source": [
    "Напишем функцию для лемматизации — такую же, как уже использованые нами ранее в других темах"
   ]
  },
  {
   "cell_type": "code",
   "metadata": {
    "id": "OIcpaDKmj2EC"
   },
   "source": [
    "def lemmatize_text (some_tokens):\n",
    "  lemmatized = []\n",
    "  for token in some_tokens:\n",
    "    lemmatized_token = parser.parse(token)[0].normal_form\n",
    "    lemmatized.append (lemmatized_token)\n",
    "  return lemmatized"
   ],
   "execution_count": 65,
   "outputs": []
  },
  {
   "cell_type": "code",
   "metadata": {
    "id": "vlhNsqb8kKDa"
   },
   "source": [
    "texts = ['у нас лук растет на грядке',\n",
    "         'составной лук — оружие кочевников',\n",
    "         'у маши модный лук в инсте',\n",
    "         'питаться зеленым луком полезно для здоровья',\n",
    "         'кликни мышью по всплывающему окну на экране',\n",
    "         'домовые мыши очень плодовиты и размножаются круглый год',\n",
    "         'серая мышь грызет сыр']\n",
    "lemmatized_texts = [lemmatize_text (text.split()) for text in texts]"
   ],
   "execution_count": 66,
   "outputs": []
  },
  {
   "cell_type": "code",
   "metadata": {
    "id": "GLQYHa1BkXyr",
    "colab": {
     "base_uri": "https://localhost:8080/"
    },
    "outputId": "f38515d8-c6c4-486a-f76e-48ed756c0502"
   },
   "source": [
    "lemmatized_texts"
   ],
   "execution_count": 67,
   "outputs": [
    {
     "data": {
      "text/plain": "[['у', 'мы', 'лук', 'расти', 'на', 'грядка'],\n ['составной', 'лук', '—', 'оружие', 'кочевник'],\n ['у', 'маша', 'модный', 'лук', 'в', 'инст'],\n ['питаться', 'зелёный', 'лук', 'полезно', 'для', 'здоровье'],\n ['кликнуть', 'мыший', 'по', 'всплывать', 'окно', 'на', 'экран'],\n ['домовый',\n  'мышь',\n  'очень',\n  'плодовитый',\n  'и',\n  'размножаться',\n  'круглый',\n  'год'],\n ['серый', 'мышь', 'грызть', 'сыр']]"
     },
     "execution_count": 67,
     "metadata": {},
     "output_type": "execute_result"
    }
   ]
  },
  {
   "cell_type": "code",
   "metadata": {
    "id": "YFIVAWgrkeOt",
    "colab": {
     "base_uri": "https://localhost:8080/"
    },
    "outputId": "0a44a1a3-f304-40d2-ac5c-a80f556e1b64"
   },
   "source": [
    "vectors = model.get_elmo_vectors(lemmatized_texts)"
   ],
   "execution_count": 68,
   "outputs": [
    {
     "name": "stderr",
     "output_type": "stream",
     "text": [
      "2022-03-19 13:28:40,235 : INFO : Warming up ELMo on 7 sentences...\n",
      "2022-03-19 13:28:40,671 : INFO : Warming up finished.\n",
      "2022-03-19 13:28:40,672 : INFO : Texts in the current batch: 7\n"
     ]
    }
   ]
  },
  {
   "cell_type": "markdown",
   "metadata": {
    "id": "kejQJSyp2T3X"
   },
   "source": [
    "еще можно загрузить Elmo-модель, обученную на леммах (например, №196)"
   ]
  },
  {
   "cell_type": "code",
   "metadata": {
    "id": "FekXzRSekh32"
   },
   "source": [
    "onion = vectors[0][2] # 🌰\n",
    "bow = vectors[1][1] # 🏹\n",
    "look = vectors[2][3] # 🤳\n",
    "onion2 = vectors[3][2] # 🌰 \n",
    "mouse_computer = vectors[4][1] # 🖱️ \n",
    "mouse_rodent = vectors[5][1] # 🐁\n",
    "mouse_rodent_2 = vectors[6][1] # 🐁"
   ],
   "execution_count": 69,
   "outputs": []
  },
  {
   "cell_type": "code",
   "metadata": {
    "id": "msUdidheklKP",
    "colab": {
     "base_uri": "https://localhost:8080/"
    },
    "outputId": "4b7eac6e-b2d3-4020-f6fa-2dd86be6f5da"
   },
   "source": [
    "spatial.distance.cosine(onion, bow)"
   ],
   "execution_count": 70,
   "outputs": [
    {
     "data": {
      "text/plain": "0.31874558785023366"
     },
     "execution_count": 70,
     "metadata": {},
     "output_type": "execute_result"
    }
   ]
  },
  {
   "cell_type": "code",
   "metadata": {
    "id": "ovvlPd4skmCT",
    "colab": {
     "base_uri": "https://localhost:8080/"
    },
    "outputId": "159eb578-b517-4295-9540-c07f6e3a1be0"
   },
   "source": [
    "spatial.distance.cosine(onion, onion2)"
   ],
   "execution_count": 71,
   "outputs": [
    {
     "data": {
      "text/plain": "0.2951277347773277"
     },
     "execution_count": 71,
     "metadata": {},
     "output_type": "execute_result"
    }
   ]
  },
  {
   "cell_type": "markdown",
   "metadata": {
    "id": "PujbvDLkk89X"
   },
   "source": [
    "Лук исправился, хотя еле-еле"
   ]
  },
  {
   "cell_type": "code",
   "metadata": {
    "id": "uTk85Umwk62R",
    "colab": {
     "base_uri": "https://localhost:8080/"
    },
    "outputId": "e0c2f619-f448-4ef3-8118-419d9e6998c1"
   },
   "source": [
    "spatial.distance.cosine(mouse_computer, mouse_rodent)"
   ],
   "execution_count": 72,
   "outputs": [
    {
     "data": {
      "text/plain": "0.5913918074803732"
     },
     "execution_count": 72,
     "metadata": {},
     "output_type": "execute_result"
    }
   ]
  },
  {
   "cell_type": "code",
   "metadata": {
    "id": "M2FQPXrKk791",
    "colab": {
     "base_uri": "https://localhost:8080/"
    },
    "outputId": "bc335978-60b6-4873-cdaf-774eca8da625"
   },
   "source": [
    "spatial.distance.cosine(mouse_computer, mouse_rodent_2)"
   ],
   "execution_count": 73,
   "outputs": [
    {
     "data": {
      "text/plain": "0.49190929956363305"
     },
     "execution_count": 73,
     "metadata": {},
     "output_type": "execute_result"
    }
   ]
  },
  {
   "cell_type": "code",
   "metadata": {
    "id": "vZ-tza9DlCdm",
    "colab": {
     "base_uri": "https://localhost:8080/"
    },
    "outputId": "10d2c599-14d3-4e4f-9dfa-09ef6f22761b"
   },
   "source": [
    "spatial.distance.cosine(mouse_rodent, mouse_rodent_2)"
   ],
   "execution_count": 74,
   "outputs": [
    {
     "data": {
      "text/plain": "0.18694259161078364"
     },
     "execution_count": 74,
     "metadata": {},
     "output_type": "execute_result"
    }
   ]
  },
  {
   "cell_type": "markdown",
   "metadata": {
    "id": "5ATppaPRlEgj"
   },
   "source": [
    "А вот с мышью прям ощутимо лучше. "
   ]
  },
  {
   "cell_type": "code",
   "metadata": {
    "id": "2pnAx-u7-wJu",
    "colab": {
     "base_uri": "https://localhost:8080/",
     "height": 265
    },
    "outputId": "4c27785d-7962-4dca-90e9-b74cf625b722"
   },
   "source": [
    "pca_for_words = PCA ().fit_transform ([onion, bow, look, onion2, mouse_computer, mouse_rodent, mouse_rodent_2])\n",
    "selected_vectors = [onion, bow, look, onion2, mouse_computer, mouse_rodent, mouse_rodent_2]\n",
    "labels = ['onion', 'bow', 'look', 'onion2', 'mouse_computer', 'mouse_rodent', 'mouse_rodent_2']\n",
    "\n",
    "for vector_index in range (len(selected_vectors)):\n",
    "  plt.scatter (pca_for_words[vector_index][0], pca_for_words[vector_index][1])\n",
    "  plt.text(pca_for_words[vector_index][0], pca_for_words[vector_index][1], labels[vector_index], fontsize=9)"
   ],
   "execution_count": 75,
   "outputs": [
    {
     "data": {
      "text/plain": "<Figure size 432x288 with 1 Axes>",
      "image/png": "[encoded data removed]"
     },
     "metadata": {
      "needs_background": "light"
     },
     "output_type": "display_data"
    }
   ]
  },
  {
   "cell_type": "markdown",
   "metadata": {
    "id": "AoYU5FA7_DbH"
   },
   "source": [
    "## P.S.: Пробуем лемматизированную модель (не обязательно)"
   ]
  },
  {
   "cell_type": "markdown",
   "metadata": {
    "id": "IJ-QAC1Rjqqr"
   },
   "source": [
    "Кстати, кроме этой модели все [остальные](https://rusvectores.org/ru/models/) контекстуализированные модели в RusVectores — лемматизированные (т.е. обучены только на леммах, и подавать им надо лемматизированный текст). Можем воспользоваться одной из них: "
   ]
  },
  {
   "cell_type": "code",
   "metadata": {
    "id": "dzwdGNQolNkt"
   },
   "source": [
    "!wget 'http://vectors.nlpl.eu/repository/20/196.zip'"
   ],
   "execution_count": null,
   "outputs": []
  },
  {
   "cell_type": "markdown",
   "metadata": {
    "id": "3dH6z3Zeq6LP"
   },
   "source": [
    "Правда, из-за особенностей работ ELMo нам придется перезагрузить среду выполнения, чтобы загрузка новой модели сработала.\n",
    "\n",
    "<img src='https://github.com/dhhse/dh2020/raw/master/pics/restart_env.png'>"
   ]
  },
  {
   "cell_type": "markdown",
   "metadata": {
    "id": "Xhcex6KTtAhm"
   },
   "source": [
    "Из-за этого придется заново импортировать все библиотеки и определять функции. Но скачанные файлы сохранились, модели перезагружать не понадобится. "
   ]
  },
  {
   "cell_type": "code",
   "metadata": {
    "id": "BVmYXVyPnOEv"
   },
   "source": [
    "from  import ElmoModel"
   ],
   "execution_count": null,
   "outputs": []
  },
  {
   "cell_type": "code",
   "metadata": {
    "id": "62Ql0XjklO9a"
   },
   "source": [
    "model_lemmas = ElmoModel()"
   ],
   "execution_count": null,
   "outputs": []
  },
  {
   "cell_type": "code",
   "metadata": {
    "id": "HmRzEcZHmukJ"
   },
   "source": [
    "model_lemmas.load(\"196.zip\")"
   ],
   "execution_count": null,
   "outputs": []
  },
  {
   "cell_type": "code",
   "metadata": {
    "id": "34ZxyHdYqByG"
   },
   "source": [
    "from pymorphy2 import MorphAnalyzer\n",
    "parser = MorphAnalyzer ()"
   ],
   "execution_count": null,
   "outputs": []
  },
  {
   "cell_type": "code",
   "metadata": {
    "id": "y-JK-W_SqK1V"
   },
   "source": [
    "def lemmatize_text (some_tokens):\n",
    "  lemmatized = []\n",
    "  for token in some_tokens:\n",
    "    lemmatized_token = parser.parse(token)[0].normal_form\n",
    "    lemmatized.append (lemmatized_token)\n",
    "  return lemmatized"
   ],
   "execution_count": null,
   "outputs": []
  },
  {
   "cell_type": "code",
   "metadata": {
    "id": "3c4NVDK4p6LZ"
   },
   "source": [
    "texts = ['у нас лук растет на грядке',\n",
    "         'составной лук — оружие кочевников',\n",
    "         'у маши модный лук в инсте',\n",
    "         'питаться зеленым луком полезно для здоровья',\n",
    "         'кликни мышью по всплывающему окну на экране',\n",
    "         'домовые мыши очень плодовиты и размножаются круглый год',\n",
    "         'серая мышь грызет сыр']\n",
    "lemmatized_texts = [lemmatize_text (text.split()) for text in texts]"
   ],
   "execution_count": null,
   "outputs": []
  },
  {
   "cell_type": "code",
   "metadata": {
    "id": "foX63zD2mw2Q"
   },
   "source": [
    "vectors = model_lemmas.get_elmo_vectors(lemmatized_texts)"
   ],
   "execution_count": null,
   "outputs": []
  },
  {
   "cell_type": "code",
   "metadata": {
    "id": "PsUHKklbp0XQ"
   },
   "source": [
    "onion = vectors[0][2] # 🌰\n",
    "bow = vectors[1][1] # 🏹\n",
    "look = vectors[2][3] # 🤳\n",
    "onion2 = vectors[3][2] # 🌰 \n",
    "mouse_computer = vectors[4][1] # 🖱️ \n",
    "mouse_rodent = vectors[5][1] # 🐁\n",
    "mouse_rodent_2 = vectors[6][1] # 🐁"
   ],
   "execution_count": null,
   "outputs": []
  },
  {
   "cell_type": "code",
   "metadata": {
    "id": "8MT2VlV4qRD-"
   },
   "source": [
    "from scipy import spatial"
   ],
   "execution_count": null,
   "outputs": []
  },
  {
   "cell_type": "code",
   "metadata": {
    "id": "VrJtrLCFqavJ"
   },
   "source": [
    "spatial.distance.cosine(onion, onion)"
   ],
   "execution_count": null,
   "outputs": []
  },
  {
   "cell_type": "code",
   "metadata": {
    "id": "9TQOVpMgqdUP"
   },
   "source": [
    "spatial.distance.cosine(onion, bow)"
   ],
   "execution_count": null,
   "outputs": []
  },
  {
   "cell_type": "code",
   "metadata": {
    "id": "JQFYGX_BqfN6"
   },
   "source": [
    "spatial.distance.cosine(onion, onion2)"
   ],
   "execution_count": null,
   "outputs": []
  },
  {
   "cell_type": "code",
   "metadata": {
    "id": "lEtxFp4otUGS"
   },
   "source": [
    "spatial.distance.cosine(bow, onion2)"
   ],
   "execution_count": null,
   "outputs": []
  },
  {
   "cell_type": "code",
   "metadata": {
    "id": "QyTl9Fk7qOmy"
   },
   "source": [
    "spatial.distance.cosine(mouse_computer, mouse_rodent)"
   ],
   "execution_count": null,
   "outputs": []
  },
  {
   "cell_type": "code",
   "metadata": {
    "id": "Uoyw6vjHqVxQ"
   },
   "source": [
    "spatial.distance.cosine(mouse_computer, mouse_rodent_2)"
   ],
   "execution_count": null,
   "outputs": []
  },
  {
   "cell_type": "code",
   "metadata": {
    "id": "CMmzBWZ6qjTb"
   },
   "source": [
    "spatial.distance.cosine(mouse_rodent, mouse_rodent_2)"
   ],
   "execution_count": null,
   "outputs": []
  },
  {
   "cell_type": "markdown",
   "metadata": {
    "id": "aIwHFAUX_IqX"
   },
   "source": [
    "# Как это использовать в практических задачах?"
   ]
  },
  {
   "cell_type": "markdown",
   "metadata": {
    "id": "g-wOLbhs8ezF"
   },
   "source": [
    "Окей, про ELMo мы поняли, а как это все использовать кроме векторной математики со словами?\n",
    "\n",
    "Как и в случае со статическими моделями: раз мы можем превратить в вектор слово — можем и предложение, и целый текст. Дальше на таких векторах можно решать любые задачи NLP.\n",
    "\n",
    "Для удобства для векторизации предложения в simple elmo есть специальный метод `get_elmo_vector_average()`, который генерирует средний вектор для каждого предложения. Но вы можете и сами усреднить векторы. "
   ]
  },
  {
   "cell_type": "markdown",
   "metadata": {
    "id": "0PhZPXjvQJ62"
   },
   "source": [
    "А вот несколько ссылок от команды RusVectores с практическим применением ELMo:\n",
    "\n",
    "\n",
    "\n",
    "*   [Генерация векторов слов для корпуса из файла на диске](https://github.com/ltgoslo/simple_elmo/blob/master/simple_elmo/examples/get_elmo_vectors.py)\n",
    "*   [Оценка качества модели на задаче классификации текстов](https://github.com/ltgoslo/simple_elmo/blob/master/simple_elmo/examples/text_classification.py)\n",
    "*   [Оценка качества модели на задаче word sense disambiguation](https://github.com/ltgoslo/simple_elmo/blob/master/simple_elmo/examples/wsd_eval.py)\n",
    "\n"
   ]
  }
 ]
}