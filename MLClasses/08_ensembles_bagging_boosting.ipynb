{
 "cells": [
  {
   "cell_type": "markdown",
   "metadata": {},
   "source": [
    "# Теория"
   ]
  },
  {
   "cell_type": "markdown",
   "metadata": {},
   "source": [
    "\n",
    "### где сегодня используются ансамбли\n",
    "- Везде, где можно применять классические алгоритмы (ансамбли дают более точные результаты)\n",
    "- Поисковые системы (ранжирование реультатов)\n",
    "- Компьютерное зрение (распознавание объектов)"
   ]
  },
  {
   "cell_type": "markdown",
   "metadata": {},
   "source": [
    "### Идея\n",
    "Если взять несколько методов научить их последовательно исправлять ошибки друг друга, качество такой системы будет выше, чем каждого из методов по отдельности.\n",
    "\n",
    "Лучше, если алгоритмы неустойчивы к аномалиям в данных: поэтому для ансамблей берут Регрессию и Деревья Решений.\n",
    "\n",
    "### Как собрать ансамбль?\n",
    "- ансамбль собирают из supervised-алгоритмов, потому что важно знать, в чем/где ошибаются модели\n",
    "- в плане последовательности можно собрать как угодно, но опытным путем нашлись три способа: *стэкинг*, *бэггинг* и *бустинг*\n"
   ]
  },
  {
   "cell_type": "markdown",
   "metadata": {},
   "source": [
    "## Stacking"
   ]
  },
  {
   "cell_type": "markdown",
   "metadata": {},
   "source": [
    "Идея: на одних и тех же данных обучаем несколько разных алгоритмов (например, классификации). Передаем реультаты финальному, он принимает решение (обычно это регрессия).\n",
    "\n",
    "![](ML-stacking.png)\n",
    "\n",
    "*С добавлением новых моделей в ансамбль, мы не повысим качество предсказаний*"
   ]
  },
  {
   "cell_type": "markdown",
   "metadata": {},
   "source": [
    "## Bagging"
   ]
  },
  {
   "cell_type": "markdown",
   "metadata": {},
   "source": [
    "Идея: несколько раз тренируем один и тот же алгоритм на разных подвыборках из данных. В результате усредняем ответы и определяем финальный.\n",
    "\n",
    "![](ML-bagging.jpeg)\n",
    "\n",
    "Самый популярный бэггинг - это [Random Forest](https://ru.wikipedia.org/wiki/Random_forest) (набор решающих деревьев)<br>\n",
    "Бэггинг -- эффективный метод, если у вас небольшой датасет.<br>\n",
    "[Чем бэггинг отличается от кросс-валидации?](https://www.kaggle.com/questions-and-answers/120778)"
   ]
  },
  {
   "cell_type": "markdown",
   "metadata": {},
   "source": [
    "## Boosting"
   ]
  },
  {
   "cell_type": "markdown",
   "metadata": {},
   "source": [
    "Идея: обучаем алгоритмы последовательно, каждый следующий уделяет внимание ошибкам предыдущего. Продолжаем, пока метрики не станут хорошими\n",
    "\n",
    "![](ML-boosting.jpg)\n",
    "\n",
    "[статья про популярные типы бустинга](https://towardsdatascience.com/catboost-vs-light-gbm-vs-xgboost-5f93620723db)"
   ]
  },
  {
   "cell_type": "markdown",
   "metadata": {},
   "source": [
    "### разница между бэггингом и бустингом\n",
    "\n",
    "![](ML-bagging-vs-boosting.jpg)\n",
    "\n",
    "**Когда что использовать?**\n",
    "- Бэггинг, если у данных высокая дисперсия\n",
    "- Бустинг, если данные неравномерно распределены\n",
    "\n",
    "**Bagging VS Boosting**\n",
    "\n",
    "Нет одноначного ответа, что лучше, это зависит от задачи и данных. Если модель хорошо работает на обучающих данных, но плохо на тестовых, то в данных может быть высокая диспрерсия. Если модель плохо работает на обучающих данных, стоит проверить распределение классов/параметров.\n",
    "Предварительно стоит проаналиировать данные, затем попробовать несколько моделей, постепенно изменяя параметры."
   ]
  },
  {
   "cell_type": "markdown",
   "metadata": {},
   "source": [
    "# Практика"
   ]
  },
  {
   "cell_type": "markdown",
   "metadata": {},
   "source": [
    "Поработаем с датасетом [спам-сообщений](https://www.kaggle.com/uciml/sms-spam-collection-dataset)"
   ]
  },
  {
   "cell_type": "code",
   "execution_count": 1,
   "metadata": {},
   "outputs": [],
   "source": [
    "import numpy as np\n",
    "import pandas as pd\n",
    "# from sklearn.datasets import load_wine\n",
    "import matplotlib.pyplot as plt\n",
    "%matplotlib inline\n",
    "import seaborn as sns"
   ]
  },
  {
   "cell_type": "markdown",
   "metadata": {},
   "source": [
    "## подготовим данные"
   ]
  },
  {
   "cell_type": "code",
   "execution_count": 6,
   "metadata": {},
   "outputs": [],
   "source": [
    "data = pd.read_csv('spam.csv', encoding = \"latin-1\")"
   ]
  },
  {
   "cell_type": "code",
   "execution_count": 7,
   "metadata": {},
   "outputs": [
    {
     "data": {
      "text/plain": "        v1                                                 v2 Unnamed: 2  \\\n0      ham  Go until jurong point, crazy.. Available only ...        NaN   \n1      ham                      Ok lar... Joking wif u oni...        NaN   \n2     spam  Free entry in 2 a wkly comp to win FA Cup fina...        NaN   \n3      ham  U dun say so early hor... U c already then say...        NaN   \n4      ham  Nah I don't think he goes to usf, he lives aro...        NaN   \n...    ...                                                ...        ...   \n5567  spam  This is the 2nd time we have tried 2 contact u...        NaN   \n5568   ham              Will Ì_ b going to esplanade fr home?        NaN   \n5569   ham  Pity, * was in mood for that. So...any other s...        NaN   \n5570   ham  The guy did some bitching but I acted like i'd...        NaN   \n5571   ham                         Rofl. Its true to its name        NaN   \n\n     Unnamed: 3 Unnamed: 4  \n0           NaN        NaN  \n1           NaN        NaN  \n2           NaN        NaN  \n3           NaN        NaN  \n4           NaN        NaN  \n...         ...        ...  \n5567        NaN        NaN  \n5568        NaN        NaN  \n5569        NaN        NaN  \n5570        NaN        NaN  \n5571        NaN        NaN  \n\n[5572 rows x 5 columns]",
      "text/html": "<div>\n<style scoped>\n    .dataframe tbody tr th:only-of-type {\n        vertical-align: middle;\n    }\n\n    .dataframe tbody tr th {\n        vertical-align: top;\n    }\n\n    .dataframe thead th {\n        text-align: right;\n    }\n</style>\n<table border=\"1\" class=\"dataframe\">\n  <thead>\n    <tr style=\"text-align: right;\">\n      <th></th>\n      <th>v1</th>\n      <th>v2</th>\n      <th>Unnamed: 2</th>\n      <th>Unnamed: 3</th>\n      <th>Unnamed: 4</th>\n    </tr>\n  </thead>\n  <tbody>\n    <tr>\n      <th>0</th>\n      <td>ham</td>\n      <td>Go until jurong point, crazy.. Available only ...</td>\n      <td>NaN</td>\n      <td>NaN</td>\n      <td>NaN</td>\n    </tr>\n    <tr>\n      <th>1</th>\n      <td>ham</td>\n      <td>Ok lar... Joking wif u oni...</td>\n      <td>NaN</td>\n      <td>NaN</td>\n      <td>NaN</td>\n    </tr>\n    <tr>\n      <th>2</th>\n      <td>spam</td>\n      <td>Free entry in 2 a wkly comp to win FA Cup fina...</td>\n      <td>NaN</td>\n      <td>NaN</td>\n      <td>NaN</td>\n    </tr>\n    <tr>\n      <th>3</th>\n      <td>ham</td>\n      <td>U dun say so early hor... U c already then say...</td>\n      <td>NaN</td>\n      <td>NaN</td>\n      <td>NaN</td>\n    </tr>\n    <tr>\n      <th>4</th>\n      <td>ham</td>\n      <td>Nah I don't think he goes to usf, he lives aro...</td>\n      <td>NaN</td>\n      <td>NaN</td>\n      <td>NaN</td>\n    </tr>\n    <tr>\n      <th>...</th>\n      <td>...</td>\n      <td>...</td>\n      <td>...</td>\n      <td>...</td>\n      <td>...</td>\n    </tr>\n    <tr>\n      <th>5567</th>\n      <td>spam</td>\n      <td>This is the 2nd time we have tried 2 contact u...</td>\n      <td>NaN</td>\n      <td>NaN</td>\n      <td>NaN</td>\n    </tr>\n    <tr>\n      <th>5568</th>\n      <td>ham</td>\n      <td>Will Ì_ b going to esplanade fr home?</td>\n      <td>NaN</td>\n      <td>NaN</td>\n      <td>NaN</td>\n    </tr>\n    <tr>\n      <th>5569</th>\n      <td>ham</td>\n      <td>Pity, * was in mood for that. So...any other s...</td>\n      <td>NaN</td>\n      <td>NaN</td>\n      <td>NaN</td>\n    </tr>\n    <tr>\n      <th>5570</th>\n      <td>ham</td>\n      <td>The guy did some bitching but I acted like i'd...</td>\n      <td>NaN</td>\n      <td>NaN</td>\n      <td>NaN</td>\n    </tr>\n    <tr>\n      <th>5571</th>\n      <td>ham</td>\n      <td>Rofl. Its true to its name</td>\n      <td>NaN</td>\n      <td>NaN</td>\n      <td>NaN</td>\n    </tr>\n  </tbody>\n</table>\n<p>5572 rows × 5 columns</p>\n</div>"
     },
     "execution_count": 7,
     "metadata": {},
     "output_type": "execute_result"
    }
   ],
   "source": [
    "data"
   ]
  },
  {
   "cell_type": "code",
   "execution_count": 8,
   "metadata": {},
   "outputs": [
    {
     "data": {
      "text/plain": "      spam                                            content\n0        0  Go until jurong point, crazy.. Available only ...\n1        0                      Ok lar... Joking wif u oni...\n2        1  Free entry in 2 a wkly comp to win FA Cup fina...\n3        0  U dun say so early hor... U c already then say...\n4        0  Nah I don't think he goes to usf, he lives aro...\n...    ...                                                ...\n5567     1  This is the 2nd time we have tried 2 contact u...\n5568     0              Will Ì_ b going to esplanade fr home?\n5569     0  Pity, * was in mood for that. So...any other s...\n5570     0  The guy did some bitching but I acted like i'd...\n5571     0                         Rofl. Its true to its name\n\n[5572 rows x 2 columns]",
      "text/html": "<div>\n<style scoped>\n    .dataframe tbody tr th:only-of-type {\n        vertical-align: middle;\n    }\n\n    .dataframe tbody tr th {\n        vertical-align: top;\n    }\n\n    .dataframe thead th {\n        text-align: right;\n    }\n</style>\n<table border=\"1\" class=\"dataframe\">\n  <thead>\n    <tr style=\"text-align: right;\">\n      <th></th>\n      <th>spam</th>\n      <th>content</th>\n    </tr>\n  </thead>\n  <tbody>\n    <tr>\n      <th>0</th>\n      <td>0</td>\n      <td>Go until jurong point, crazy.. Available only ...</td>\n    </tr>\n    <tr>\n      <th>1</th>\n      <td>0</td>\n      <td>Ok lar... Joking wif u oni...</td>\n    </tr>\n    <tr>\n      <th>2</th>\n      <td>1</td>\n      <td>Free entry in 2 a wkly comp to win FA Cup fina...</td>\n    </tr>\n    <tr>\n      <th>3</th>\n      <td>0</td>\n      <td>U dun say so early hor... U c already then say...</td>\n    </tr>\n    <tr>\n      <th>4</th>\n      <td>0</td>\n      <td>Nah I don't think he goes to usf, he lives aro...</td>\n    </tr>\n    <tr>\n      <th>...</th>\n      <td>...</td>\n      <td>...</td>\n    </tr>\n    <tr>\n      <th>5567</th>\n      <td>1</td>\n      <td>This is the 2nd time we have tried 2 contact u...</td>\n    </tr>\n    <tr>\n      <th>5568</th>\n      <td>0</td>\n      <td>Will Ì_ b going to esplanade fr home?</td>\n    </tr>\n    <tr>\n      <th>5569</th>\n      <td>0</td>\n      <td>Pity, * was in mood for that. So...any other s...</td>\n    </tr>\n    <tr>\n      <th>5570</th>\n      <td>0</td>\n      <td>The guy did some bitching but I acted like i'd...</td>\n    </tr>\n    <tr>\n      <th>5571</th>\n      <td>0</td>\n      <td>Rofl. Its true to its name</td>\n    </tr>\n  </tbody>\n</table>\n<p>5572 rows × 2 columns</p>\n</div>"
     },
     "execution_count": 8,
     "metadata": {},
     "output_type": "execute_result"
    }
   ],
   "source": [
    "data.drop(['Unnamed: 2','Unnamed: 3','Unnamed: 4'], axis =1, inplace=True) # выкинем ненужные колонки\n",
    "\n",
    "data.rename(columns={\"v1\": \"spam\", \"v2\": \"content\"}, inplace=True) # переименуем колонки\n",
    "\n",
    "# изменим значения в первой колонке: 'spam' в 1  и 'ham' в 0\n",
    "data[\"spam\"]=data[\"spam\"].map({'spam':1,'ham':0}) \n",
    "\n",
    "data"
   ]
  },
  {
   "cell_type": "markdown",
   "metadata": {},
   "source": [
    "### немножко EDA"
   ]
  },
  {
   "cell_type": "code",
   "execution_count": 9,
   "metadata": {},
   "outputs": [
    {
     "data": {
      "text/plain": "<Figure size 504x504 with 1 Axes>",
      "image/png": "[encoded data removed]"
     },
     "metadata": {},
     "output_type": "display_data"
    }
   ],
   "source": [
    "classes = pd.value_counts(data[\"spam\"])\n",
    "\n",
    "classes.plot(kind='pie',figsize=(7,7),autopct='%0.f%%', legend=True, title =\"Распределение классов\") \n",
    "\n",
    "\n",
    "plt.ylabel('')\n",
    "\n",
    "plt.show()"
   ]
  },
  {
   "cell_type": "markdown",
   "source": [
    "Хорошо бы отбалансировать, что спама/не спама было поровну."
   ],
   "metadata": {
    "collapsed": false
   }
  },
  {
   "cell_type": "code",
   "execution_count": 10,
   "outputs": [
    {
     "data": {
      "text/plain": "      spam                                            content\n3973     0  Roger that. WeÛ÷re probably going to rem in a...\n1835     0                       * Will be september by then!\n998      0  Then Ì_ wait 4 me at bus stop aft ur lect lar....\n2607     0  :-) yeah! Lol. Luckily i didn't have a starrin...\n1819     0              Dunno dat's wat he told me. Ok lor...\n...    ...                                                ...\n3692     0  I was about to do it when i texted. I finished...\n3325     0  Huh so fast... Dat means u havent finished pai...\n1579     0  Why is that, princess? I bet the brothas are a...\n519      0  Usually the person is unconscious that's in ch...\n1961     0                 LOL that would be awesome payback.\n\n[747 rows x 2 columns]",
      "text/html": "<div>\n<style scoped>\n    .dataframe tbody tr th:only-of-type {\n        vertical-align: middle;\n    }\n\n    .dataframe tbody tr th {\n        vertical-align: top;\n    }\n\n    .dataframe thead th {\n        text-align: right;\n    }\n</style>\n<table border=\"1\" class=\"dataframe\">\n  <thead>\n    <tr style=\"text-align: right;\">\n      <th></th>\n      <th>spam</th>\n      <th>content</th>\n    </tr>\n  </thead>\n  <tbody>\n    <tr>\n      <th>3973</th>\n      <td>0</td>\n      <td>Roger that. WeÛ÷re probably going to rem in a...</td>\n    </tr>\n    <tr>\n      <th>1835</th>\n      <td>0</td>\n      <td>* Will be september by then!</td>\n    </tr>\n    <tr>\n      <th>998</th>\n      <td>0</td>\n      <td>Then Ì_ wait 4 me at bus stop aft ur lect lar....</td>\n    </tr>\n    <tr>\n      <th>2607</th>\n      <td>0</td>\n      <td>:-) yeah! Lol. Luckily i didn't have a starrin...</td>\n    </tr>\n    <tr>\n      <th>1819</th>\n      <td>0</td>\n      <td>Dunno dat's wat he told me. Ok lor...</td>\n    </tr>\n    <tr>\n      <th>...</th>\n      <td>...</td>\n      <td>...</td>\n    </tr>\n    <tr>\n      <th>3692</th>\n      <td>0</td>\n      <td>I was about to do it when i texted. I finished...</td>\n    </tr>\n    <tr>\n      <th>3325</th>\n      <td>0</td>\n      <td>Huh so fast... Dat means u havent finished pai...</td>\n    </tr>\n    <tr>\n      <th>1579</th>\n      <td>0</td>\n      <td>Why is that, princess? I bet the brothas are a...</td>\n    </tr>\n    <tr>\n      <th>519</th>\n      <td>0</td>\n      <td>Usually the person is unconscious that's in ch...</td>\n    </tr>\n    <tr>\n      <th>1961</th>\n      <td>0</td>\n      <td>LOL that would be awesome payback.</td>\n    </tr>\n  </tbody>\n</table>\n<p>747 rows × 2 columns</p>\n</div>"
     },
     "execution_count": 10,
     "metadata": {},
     "output_type": "execute_result"
    }
   ],
   "source": [
    "data[data.spam == 0].sample(n=747)"
   ],
   "metadata": {
    "collapsed": false,
    "pycharm": {
     "name": "#%%\n"
    }
   }
  },
  {
   "cell_type": "code",
   "execution_count": 13,
   "outputs": [
    {
     "data": {
      "text/plain": "(5572, 2)"
     },
     "execution_count": 13,
     "metadata": {},
     "output_type": "execute_result"
    }
   ],
   "source": [
    "data.shape"
   ],
   "metadata": {
    "collapsed": false,
    "pycharm": {
     "name": "#%%\n"
    }
   }
  },
  {
   "cell_type": "code",
   "execution_count": 11,
   "outputs": [],
   "source": [
    "data_balanced = data[data.spam == 1].append(data[data.spam == 0].sample(n=747))"
   ],
   "metadata": {
    "collapsed": false,
    "pycharm": {
     "name": "#%%\n"
    }
   }
  },
  {
   "cell_type": "code",
   "execution_count": 12,
   "outputs": [
    {
     "data": {
      "text/plain": "(1494, 2)"
     },
     "execution_count": 12,
     "metadata": {},
     "output_type": "execute_result"
    }
   ],
   "source": [
    "data_balanced.shape"
   ],
   "metadata": {
    "collapsed": false,
    "pycharm": {
     "name": "#%%\n"
    }
   }
  },
  {
   "cell_type": "code",
   "execution_count": 14,
   "outputs": [
    {
     "data": {
      "text/plain": "<Figure size 504x504 with 1 Axes>",
      "image/png": "[encoded data removed]"
     },
     "metadata": {},
     "output_type": "display_data"
    }
   ],
   "source": [
    "classes = pd.value_counts(data_balanced[\"spam\"])\n",
    "\n",
    "classes.plot(kind='pie',figsize=(7,7),autopct='%0.f%%', legend=True, title =\"Распределение классов\")\n",
    "\n",
    "\n",
    "plt.ylabel('')\n",
    "\n",
    "plt.show()"
   ],
   "metadata": {
    "collapsed": false,
    "pycharm": {
     "name": "#%%\n"
    }
   }
  },
  {
   "cell_type": "markdown",
   "metadata": {},
   "source": [
    "### векторизуем тексты\n",
    "\n",
    "Здесь TfidfVectorizer. Можно doc2vec."
   ]
  },
  {
   "cell_type": "code",
   "execution_count": 19,
   "metadata": {},
   "outputs": [],
   "source": [
    "from sklearn.feature_extraction.text import TfidfVectorizer\n",
    "vectorizer = TfidfVectorizer(stop_words=\"english\")\n",
    "\n",
    "X = vectorizer.fit_transform(data_balanced['content'])"
   ]
  },
  {
   "cell_type": "code",
   "execution_count": 20,
   "metadata": {},
   "outputs": [],
   "source": [
    "# разделение на обучающую и тестовую выборку\n",
    "\n",
    "from sklearn.model_selection import train_test_split\n",
    "X_train, X_test, y_train, y_test = train_test_split( X, data_balanced[\"spam\"], test_size=0.15, random_state=25)"
   ]
  },
  {
   "cell_type": "code",
   "execution_count": 21,
   "outputs": [
    {
     "name": "stdout",
     "output_type": "stream",
     "text": [
      "(1269, 4442) (225, 4442)\n"
     ]
    }
   ],
   "source": [
    "print(X_train.shape, X_test.shape)"
   ],
   "metadata": {
    "collapsed": false,
    "pycharm": {
     "name": "#%%\n"
    }
   }
  },
  {
   "cell_type": "markdown",
   "metadata": {},
   "source": [
    "## Bagging"
   ]
  },
  {
   "cell_type": "markdown",
   "metadata": {},
   "source": [
    "сначала обучим одно решающее дерево"
   ]
  },
  {
   "cell_type": "code",
   "execution_count": 22,
   "metadata": {},
   "outputs": [],
   "source": [
    "from sklearn.tree import DecisionTreeClassifier\n",
    "from sklearn.metrics import classification_report"
   ]
  },
  {
   "cell_type": "code",
   "execution_count": 23,
   "metadata": {},
   "outputs": [],
   "source": [
    "tree_clf = DecisionTreeClassifier()"
   ]
  },
  {
   "cell_type": "code",
   "execution_count": 24,
   "metadata": {},
   "outputs": [
    {
     "data": {
      "text/plain": "DecisionTreeClassifier()"
     },
     "execution_count": 24,
     "metadata": {},
     "output_type": "execute_result"
    }
   ],
   "source": [
    "tree_clf.fit(X_train, y_train)"
   ]
  },
  {
   "cell_type": "code",
   "execution_count": 25,
   "metadata": {},
   "outputs": [],
   "source": [
    "tree_y_pred = tree_clf.predict(X_test)"
   ]
  },
  {
   "cell_type": "code",
   "execution_count": 32,
   "metadata": {},
   "outputs": [
    {
     "name": "stdout",
     "output_type": "stream",
     "text": [
      "225\n",
      "[1 0 0 1 1 0 0 0 1 0 0 0 1 1 1 1 0 0 0 1 0 1 1 1 1 1 1 0 0 0 0 0 1 1 1 0 0\n",
      " 1 1 1 1 0 1 1 1 1 0 1 0 1 1 1 0 1 0 1 0 0 1 0 1 1 0 0 1 1 0 0 1 1 1 1 1 0\n",
      " 0 1 1 1 1 0 0 0 1 1 0 0 0 0 1 0 0 0 0 0 1 0 1 1 1 1 1 0 1 1 1 0 1 0 0 0 0\n",
      " 0 0 1 1 1 1 0 0 0 0 1 1 1 0 1 1 1 1 1 0 0 1 0 0 0 0 0 0 1 0 1 0 1 0 0 1 1\n",
      " 1 0 1 0 0 1 1 1 1 0 1 0 0 1 0 1 1 0 0 0 1 0 1 0 1 0 1 1 1 1 1 1 1 0 1 0 1\n",
      " 1 1 0 0 0 0 1 0 0 1 1 0 1 1 1 1 1 1 1 1 1 0 0 0 1 0 1 1 0 0 0 1 0 0 1 0 0\n",
      " 1 0 1]\n"
     ]
    }
   ],
   "source": [
    "print(len(tree_y_pred))\n",
    "print(tree_y_pred)"
   ]
  },
  {
   "cell_type": "code",
   "execution_count": 33,
   "metadata": {},
   "outputs": [
    {
     "name": "stdout",
     "output_type": "stream",
     "text": [
      "              precision    recall  f1-score   support\n",
      "\n",
      "           0       0.93      0.92      0.93       106\n",
      "           1       0.93      0.94      0.94       119\n",
      "\n",
      "    accuracy                           0.93       225\n",
      "   macro avg       0.93      0.93      0.93       225\n",
      "weighted avg       0.93      0.93      0.93       225\n",
      "\n"
     ]
    }
   ],
   "source": [
    "print(classification_report(y_test, tree_y_pred))"
   ]
  },
  {
   "cell_type": "markdown",
   "metadata": {},
   "source": [
    "теперь обучим набор деревьев: Random Forest"
   ]
  },
  {
   "cell_type": "code",
   "execution_count": 46,
   "metadata": {},
   "outputs": [],
   "source": [
    "from sklearn.ensemble import RandomForestClassifier \n",
    "forest = RandomForestClassifier(n_estimators=100, verbose=1)"
   ]
  },
  {
   "cell_type": "markdown",
   "metadata": {},
   "source": [
    "используемые параметры модели: \n",
    "- n_estimators : число деревьев в ансамбле (лесе)\n",
    "- max_depth : глубина дерева \n",
    "- verbose : пояснения о процессе обучения"
   ]
  },
  {
   "cell_type": "code",
   "execution_count": 47,
   "metadata": {},
   "outputs": [
    {
     "name": "stderr",
     "output_type": "stream",
     "text": [
      "[Parallel(n_jobs=1)]: Using backend SequentialBackend with 1 concurrent workers.\n",
      "[Parallel(n_jobs=1)]: Done 100 out of 100 | elapsed:    0.8s finished\n"
     ]
    },
    {
     "data": {
      "text/plain": "RandomForestClassifier(verbose=1)"
     },
     "execution_count": 47,
     "metadata": {},
     "output_type": "execute_result"
    }
   ],
   "source": [
    "forest.fit(X_train, y_train)"
   ]
  },
  {
   "cell_type": "code",
   "execution_count": 48,
   "metadata": {},
   "outputs": [
    {
     "name": "stderr",
     "output_type": "stream",
     "text": [
      "[Parallel(n_jobs=1)]: Using backend SequentialBackend with 1 concurrent workers.\n",
      "[Parallel(n_jobs=1)]: Done 100 out of 100 | elapsed:    0.0s finished\n"
     ]
    }
   ],
   "source": [
    "forest_y_pred = forest.predict(X_test)"
   ]
  },
  {
   "cell_type": "code",
   "execution_count": 49,
   "metadata": {},
   "outputs": [
    {
     "name": "stdout",
     "output_type": "stream",
     "text": [
      "              precision    recall  f1-score   support\n",
      "\n",
      "           0       0.91      0.97      0.94       106\n",
      "           1       0.97      0.92      0.94       119\n",
      "\n",
      "    accuracy                           0.94       225\n",
      "   macro avg       0.94      0.94      0.94       225\n",
      "weighted avg       0.94      0.94      0.94       225\n",
      "\n"
     ]
    }
   ],
   "source": [
    "print(classification_report(y_test, forest_y_pred))"
   ]
  },
  {
   "cell_type": "markdown",
   "metadata": {},
   "source": [
    "## Boosting"
   ]
  },
  {
   "cell_type": "code",
   "execution_count": 50,
   "metadata": {},
   "outputs": [],
   "source": [
    "from sklearn.ensemble import GradientBoostingClassifier"
   ]
  },
  {
   "cell_type": "code",
   "execution_count": 51,
   "metadata": {},
   "outputs": [],
   "source": [
    "gb_clf = GradientBoostingClassifier(n_estimators=1000, random_state=10, verbose=1)"
   ]
  },
  {
   "cell_type": "markdown",
   "metadata": {},
   "source": [
    "используемые параметры [модели](https://scikit-learn.org/stable/modules/generated/sklearn.ensemble.GradientBoostingClassifier.html#sklearn.ensemble.GradientBoostingClassifier):\n",
    "- loss : The loss function to be optimized. ‘deviance’ refers to deviance (= logistic regression) for classification with probabilistic outputs. For loss ‘exponential’ gradient boosting recovers the AdaBoost algorithm.\n",
    "- n_estimators : The number of boosting stages to perform. Gradient boosting is fairly robust to over-fitting so a large number usually results in better performance.\n",
    "- random_state : Controls the random seed given to each Tree estimator at each boosting iteration. In addition, it controls the random permutation of the features at each split (see Notes for more details). It also controls the random spliting of the training data to obtain a validation set if n_iter_no_change is not None. Pass an int for reproducible output across multiple function calls. See Glossary.\n",
    "- verbose : Enable verbose output. If 1 then it prints progress and performance once in a while (the more trees the lower the frequency). If greater than 1 then it prints progress and performance for every tree.\n"
   ]
  },
  {
   "cell_type": "code",
   "execution_count": 52,
   "metadata": {},
   "outputs": [
    {
     "name": "stdout",
     "output_type": "stream",
     "text": [
      "      Iter       Train Loss   Remaining Time \n",
      "         1           1.3316           10.58s\n",
      "         2           1.2868            9.83s\n",
      "         3           1.2455            9.34s\n",
      "         4           1.2095            9.11s\n",
      "         5           1.1772            9.15s\n",
      "         6           1.1482            8.83s\n",
      "         7           1.1212            8.69s\n",
      "         8           1.0961            8.47s\n",
      "         9           1.0710            8.47s\n",
      "        10           1.0487            8.38s\n",
      "        20           0.8844            8.65s\n",
      "        30           0.7740            8.31s\n",
      "        40           0.6933            8.59s\n",
      "        50           0.6297            8.90s\n",
      "        60           0.5802            9.10s\n",
      "        70           0.5391            9.05s\n",
      "        80           0.5053            9.29s\n",
      "        90           0.4753            9.46s\n",
      "       100           0.4488            9.59s\n",
      "       200           0.2881            8.31s\n",
      "       300           0.2090            6.77s\n",
      "       400           0.1563            5.68s\n",
      "       500           0.1188            4.56s\n",
      "       600           0.0916            3.53s\n",
      "       700           0.0717            2.59s\n",
      "       800           0.0563            1.72s\n",
      "       900           0.0446            0.88s\n",
      "      1000           0.0352            0.00s\n"
     ]
    },
    {
     "data": {
      "text/plain": "GradientBoostingClassifier(n_estimators=1000, random_state=10, verbose=1)"
     },
     "execution_count": 52,
     "metadata": {},
     "output_type": "execute_result"
    }
   ],
   "source": [
    "gb_clf.fit(X_train, y_train)"
   ]
  },
  {
   "cell_type": "code",
   "execution_count": 53,
   "metadata": {},
   "outputs": [],
   "source": [
    "gb_y_pred = gb_clf.predict(X_test)"
   ]
  },
  {
   "cell_type": "code",
   "execution_count": 54,
   "metadata": {},
   "outputs": [
    {
     "name": "stdout",
     "output_type": "stream",
     "text": [
      "              precision    recall  f1-score   support\n",
      "\n",
      "           0       0.87      0.98      0.92       106\n",
      "           1       0.98      0.87      0.92       119\n",
      "\n",
      "    accuracy                           0.92       225\n",
      "   macro avg       0.93      0.93      0.92       225\n",
      "weighted avg       0.93      0.92      0.92       225\n",
      "\n"
     ]
    }
   ],
   "source": [
    "print(classification_report(y_test, gb_y_pred))"
   ]
  },
  {
   "cell_type": "markdown",
   "metadata": {},
   "source": [
    "Сколько деревьев мы обучили? Сколько было бы достаточно для получения текущего качества?\n",
    "(подсказка: посмотрите на loss и n_estimators)\n",
    "\n",
    "**Early stopping** - метод, при котором перестаем обучаться, если ошибка не уменьшается/ уменьшается незначительно. За это отвечают следующие параметры модели:\n",
    "\n",
    "- tol : tolerance for the early stopping, оставим значение дефолтным\n",
    "- n_iter_no_change :  останавливаем ли обучение, если validation score больше не увеличивается<br>\n",
    "(если функция ошибки(train loss) не уменьшается хотя бы на tol в течение n_iter_no_change итераций, то прекращаем обучение)"
   ]
  },
  {
   "cell_type": "code",
   "execution_count": 55,
   "metadata": {},
   "outputs": [],
   "source": [
    "gb_clf_es = GradientBoostingClassifier(n_iter_no_change=5, verbose=10)"
   ]
  },
  {
   "cell_type": "code",
   "execution_count": 56,
   "metadata": {},
   "outputs": [
    {
     "name": "stdout",
     "output_type": "stream",
     "text": [
      "      Iter       Train Loss   Remaining Time \n",
      "         1           1.3335            0.73s\n",
      "         2           1.2889            0.80s\n",
      "         3           1.2477            0.78s\n",
      "         4           1.2122            0.78s\n",
      "         5           1.1794            0.76s\n",
      "         6           1.1504            0.74s\n",
      "         7           1.1235            0.74s\n",
      "         8           1.0988            0.73s\n",
      "         9           1.0752            0.72s\n",
      "        10           1.0531            0.72s\n",
      "        11           1.0322            0.74s\n",
      "        12           1.0122            0.76s\n",
      "        13           0.9943            0.77s\n",
      "        14           0.9766            0.77s\n",
      "        15           0.9593            0.76s\n",
      "        16           0.9439            0.75s\n",
      "        17           0.9284            0.74s\n",
      "        18           0.9143            0.72s\n",
      "        19           0.9004            0.71s\n",
      "        20           0.8879            0.70s\n",
      "        21           0.8749            0.68s\n",
      "        22           0.8616            0.67s\n",
      "        23           0.8494            0.66s\n",
      "        24           0.8388            0.65s\n",
      "        25           0.8282            0.64s\n",
      "        26           0.8171            0.63s\n",
      "        27           0.8062            0.62s\n",
      "        28           0.7962            0.62s\n",
      "        29           0.7865            0.61s\n",
      "        30           0.7767            0.60s\n",
      "        31           0.7684            0.60s\n",
      "        32           0.7580            0.60s\n",
      "        33           0.7507            0.59s\n",
      "        34           0.7417            0.59s\n",
      "        35           0.7336            0.59s\n",
      "        36           0.7254            0.58s\n",
      "        37           0.7175            0.57s\n",
      "        38           0.7095            0.56s\n",
      "        39           0.7016            0.56s\n",
      "        40           0.6935            0.55s\n",
      "        41           0.6878            0.55s\n",
      "        42           0.6807            0.54s\n",
      "        43           0.6738            0.53s\n",
      "        44           0.6671            0.53s\n",
      "        45           0.6605            0.52s\n",
      "        46           0.6536            0.51s\n",
      "        47           0.6483            0.50s\n",
      "        48           0.6426            0.50s\n",
      "        49           0.6368            0.49s\n",
      "        50           0.6301            0.48s\n",
      "        51           0.6251            0.47s\n",
      "        52           0.6205            0.47s\n",
      "        53           0.6150            0.46s\n",
      "        54           0.6108            0.45s\n",
      "        55           0.6052            0.44s\n",
      "        56           0.5998            0.44s\n",
      "        57           0.5938            0.43s\n",
      "        58           0.5895            0.42s\n",
      "        59           0.5844            0.41s\n",
      "        60           0.5797            0.41s\n",
      "        61           0.5748            0.40s\n",
      "        62           0.5713            0.38s\n",
      "        63           0.5670            0.37s\n",
      "        64           0.5633            0.37s\n",
      "        65           0.5585            0.36s\n",
      "        66           0.5547            0.34s\n",
      "        67           0.5497            0.33s\n",
      "        68           0.5459            0.32s\n",
      "        69           0.5421            0.31s\n",
      "        70           0.5378            0.30s\n",
      "        71           0.5317            0.30s\n",
      "        72           0.5291            0.29s\n",
      "        73           0.5262            0.28s\n",
      "        74           0.5222            0.27s\n",
      "        75           0.5187            0.26s\n",
      "        76           0.5157            0.25s\n",
      "        77           0.5127            0.24s\n",
      "        78           0.5091            0.23s\n",
      "        79           0.5062            0.22s\n",
      "        80           0.5028            0.21s\n",
      "        81           0.4993            0.20s\n",
      "        82           0.4958            0.19s\n",
      "        83           0.4919            0.18s\n",
      "        84           0.4900            0.17s\n",
      "        85           0.4871            0.16s\n",
      "        86           0.4841            0.15s\n",
      "        87           0.4806            0.14s\n",
      "        88           0.4776            0.13s\n",
      "        89           0.4740            0.12s\n",
      "        90           0.4708            0.10s\n",
      "        91           0.4682            0.09s\n",
      "        92           0.4657            0.08s\n",
      "        93           0.4634            0.07s\n",
      "        94           0.4601            0.06s\n",
      "        95           0.4573            0.05s\n",
      "        96           0.4555            0.04s\n",
      "        97           0.4533            0.03s\n",
      "        98           0.4510            0.02s\n",
      "        99           0.4489            0.01s\n",
      "       100           0.4462            0.00s\n"
     ]
    },
    {
     "data": {
      "text/plain": "GradientBoostingClassifier(n_iter_no_change=5, verbose=10)"
     },
     "execution_count": 56,
     "metadata": {},
     "output_type": "execute_result"
    }
   ],
   "source": [
    "gb_clf_es.fit(X_train, y_train)"
   ]
  },
  {
   "cell_type": "code",
   "execution_count": 57,
   "metadata": {},
   "outputs": [],
   "source": [
    "es_y_pred = gb_clf_es.predict(X_test)"
   ]
  },
  {
   "cell_type": "code",
   "execution_count": 58,
   "metadata": {},
   "outputs": [
    {
     "name": "stdout",
     "output_type": "stream",
     "text": [
      "              precision    recall  f1-score   support\n",
      "\n",
      "           0       0.88      0.98      0.93       106\n",
      "           1       0.98      0.88      0.93       119\n",
      "\n",
      "    accuracy                           0.93       225\n",
      "   macro avg       0.93      0.93      0.93       225\n",
      "weighted avg       0.93      0.93      0.93       225\n",
      "\n"
     ]
    }
   ],
   "source": [
    "print(classification_report(y_test, es_y_pred))"
   ]
  },
  {
   "cell_type": "markdown",
   "metadata": {},
   "source": [
    "Сравнивая метрики, какой алгоритм оказался лучше?\n",
    "\n",
    "Можно посмотреть коэффициенты важности признаков для разных моделей."
   ]
  },
  {
   "cell_type": "code",
   "execution_count": 59,
   "metadata": {},
   "outputs": [
    {
     "name": "stderr",
     "output_type": "stream",
     "text": [
      "/Users/Alexey.Zhebel/IdeaProjects/CompLing/venv/lib/python3.8/site-packages/sklearn/utils/deprecation.py:87: FutureWarning: Function get_feature_names is deprecated; get_feature_names is deprecated in 1.0 and will be removed in 1.2. Please use get_feature_names_out instead.\n",
      "  warnings.warn(msg, category=FutureWarning)\n"
     ]
    }
   ],
   "source": [
    "# Decision Tree Classifier\n",
    "df1 = pd.DataFrame(tree_clf.feature_importances_)\n",
    "\n",
    "df1[\"feature\"] = vectorizer.get_feature_names()"
   ]
  },
  {
   "cell_type": "code",
   "execution_count": 62,
   "metadata": {},
   "outputs": [
    {
     "data": {
      "text/plain": "             0  feature\n4050  0.105110      txt\n1876  0.092325     free\n1280  0.083809    claim\n4366  0.061943      www\n2716  0.051401   mobile\n3497  0.046801  service\n2682  0.042869      min\n1199  0.042263     cash\n3883  0.041062     text\n3340  0.034465    reply",
      "text/html": "<div>\n<style scoped>\n    .dataframe tbody tr th:only-of-type {\n        vertical-align: middle;\n    }\n\n    .dataframe tbody tr th {\n        vertical-align: top;\n    }\n\n    .dataframe thead th {\n        text-align: right;\n    }\n</style>\n<table border=\"1\" class=\"dataframe\">\n  <thead>\n    <tr style=\"text-align: right;\">\n      <th></th>\n      <th>0</th>\n      <th>feature</th>\n    </tr>\n  </thead>\n  <tbody>\n    <tr>\n      <th>4050</th>\n      <td>0.105110</td>\n      <td>txt</td>\n    </tr>\n    <tr>\n      <th>1876</th>\n      <td>0.092325</td>\n      <td>free</td>\n    </tr>\n    <tr>\n      <th>1280</th>\n      <td>0.083809</td>\n      <td>claim</td>\n    </tr>\n    <tr>\n      <th>4366</th>\n      <td>0.061943</td>\n      <td>www</td>\n    </tr>\n    <tr>\n      <th>2716</th>\n      <td>0.051401</td>\n      <td>mobile</td>\n    </tr>\n    <tr>\n      <th>3497</th>\n      <td>0.046801</td>\n      <td>service</td>\n    </tr>\n    <tr>\n      <th>2682</th>\n      <td>0.042869</td>\n      <td>min</td>\n    </tr>\n    <tr>\n      <th>1199</th>\n      <td>0.042263</td>\n      <td>cash</td>\n    </tr>\n    <tr>\n      <th>3883</th>\n      <td>0.041062</td>\n      <td>text</td>\n    </tr>\n    <tr>\n      <th>3340</th>\n      <td>0.034465</td>\n      <td>reply</td>\n    </tr>\n  </tbody>\n</table>\n</div>"
     },
     "execution_count": 62,
     "metadata": {},
     "output_type": "execute_result"
    }
   ],
   "source": [
    "df1.nlargest(10,0)"
   ]
  },
  {
   "cell_type": "code",
   "execution_count": 63,
   "metadata": {},
   "outputs": [
    {
     "name": "stderr",
     "output_type": "stream",
     "text": [
      "/Users/Alexey.Zhebel/IdeaProjects/CompLing/venv/lib/python3.8/site-packages/sklearn/utils/deprecation.py:87: FutureWarning: Function get_feature_names is deprecated; get_feature_names is deprecated in 1.0 and will be removed in 1.2. Please use get_feature_names_out instead.\n",
      "  warnings.warn(msg, category=FutureWarning)\n"
     ]
    },
    {
     "data": {
      "text/plain": "             0  feature\n1876  0.031169     free\n2716  0.024316   mobile\n4050  0.024205      txt\n3883  0.023172     text\n1280  0.019970    claim\n3723  0.019727     stop\n4072  0.019121       uk\n4366  0.016204      www\n4292  0.015246      win\n3497  0.014814  service",
      "text/html": "<div>\n<style scoped>\n    .dataframe tbody tr th:only-of-type {\n        vertical-align: middle;\n    }\n\n    .dataframe tbody tr th {\n        vertical-align: top;\n    }\n\n    .dataframe thead th {\n        text-align: right;\n    }\n</style>\n<table border=\"1\" class=\"dataframe\">\n  <thead>\n    <tr style=\"text-align: right;\">\n      <th></th>\n      <th>0</th>\n      <th>feature</th>\n    </tr>\n  </thead>\n  <tbody>\n    <tr>\n      <th>1876</th>\n      <td>0.031169</td>\n      <td>free</td>\n    </tr>\n    <tr>\n      <th>2716</th>\n      <td>0.024316</td>\n      <td>mobile</td>\n    </tr>\n    <tr>\n      <th>4050</th>\n      <td>0.024205</td>\n      <td>txt</td>\n    </tr>\n    <tr>\n      <th>3883</th>\n      <td>0.023172</td>\n      <td>text</td>\n    </tr>\n    <tr>\n      <th>1280</th>\n      <td>0.019970</td>\n      <td>claim</td>\n    </tr>\n    <tr>\n      <th>3723</th>\n      <td>0.019727</td>\n      <td>stop</td>\n    </tr>\n    <tr>\n      <th>4072</th>\n      <td>0.019121</td>\n      <td>uk</td>\n    </tr>\n    <tr>\n      <th>4366</th>\n      <td>0.016204</td>\n      <td>www</td>\n    </tr>\n    <tr>\n      <th>4292</th>\n      <td>0.015246</td>\n      <td>win</td>\n    </tr>\n    <tr>\n      <th>3497</th>\n      <td>0.014814</td>\n      <td>service</td>\n    </tr>\n  </tbody>\n</table>\n</div>"
     },
     "execution_count": 63,
     "metadata": {},
     "output_type": "execute_result"
    }
   ],
   "source": [
    "# Random Forest\n",
    "df2 = pd.DataFrame(forest.feature_importances_)\n",
    "\n",
    "df2[\"feature\"] = vectorizer.get_feature_names()\n",
    "\n",
    "df2.nlargest(10,0)"
   ]
  },
  {
   "cell_type": "code",
   "execution_count": 64,
   "metadata": {},
   "outputs": [
    {
     "name": "stderr",
     "output_type": "stream",
     "text": [
      "/Users/Alexey.Zhebel/IdeaProjects/CompLing/venv/lib/python3.8/site-packages/sklearn/utils/deprecation.py:87: FutureWarning: Function get_feature_names is deprecated; get_feature_names is deprecated in 1.0 and will be removed in 1.2. Please use get_feature_names_out instead.\n",
      "  warnings.warn(msg, category=FutureWarning)\n"
     ]
    },
    {
     "data": {
      "text/plain": "             0  feature\n4050  0.085554      txt\n1876  0.077800     free\n1280  0.068502    claim\n2716  0.054043   mobile\n4366  0.042934      www\n3883  0.041374     text\n2682  0.031125      min\n1199  0.030266     cash\n3497  0.025552  service\n3340  0.024854    reply",
      "text/html": "<div>\n<style scoped>\n    .dataframe tbody tr th:only-of-type {\n        vertical-align: middle;\n    }\n\n    .dataframe tbody tr th {\n        vertical-align: top;\n    }\n\n    .dataframe thead th {\n        text-align: right;\n    }\n</style>\n<table border=\"1\" class=\"dataframe\">\n  <thead>\n    <tr style=\"text-align: right;\">\n      <th></th>\n      <th>0</th>\n      <th>feature</th>\n    </tr>\n  </thead>\n  <tbody>\n    <tr>\n      <th>4050</th>\n      <td>0.085554</td>\n      <td>txt</td>\n    </tr>\n    <tr>\n      <th>1876</th>\n      <td>0.077800</td>\n      <td>free</td>\n    </tr>\n    <tr>\n      <th>1280</th>\n      <td>0.068502</td>\n      <td>claim</td>\n    </tr>\n    <tr>\n      <th>2716</th>\n      <td>0.054043</td>\n      <td>mobile</td>\n    </tr>\n    <tr>\n      <th>4366</th>\n      <td>0.042934</td>\n      <td>www</td>\n    </tr>\n    <tr>\n      <th>3883</th>\n      <td>0.041374</td>\n      <td>text</td>\n    </tr>\n    <tr>\n      <th>2682</th>\n      <td>0.031125</td>\n      <td>min</td>\n    </tr>\n    <tr>\n      <th>1199</th>\n      <td>0.030266</td>\n      <td>cash</td>\n    </tr>\n    <tr>\n      <th>3497</th>\n      <td>0.025552</td>\n      <td>service</td>\n    </tr>\n    <tr>\n      <th>3340</th>\n      <td>0.024854</td>\n      <td>reply</td>\n    </tr>\n  </tbody>\n</table>\n</div>"
     },
     "execution_count": 64,
     "metadata": {},
     "output_type": "execute_result"
    }
   ],
   "source": [
    "# GradientBoostingClassifier\n",
    "df3 = pd.DataFrame(gb_clf.feature_importances_)\n",
    "\n",
    "df3[\"feature\"] = vectorizer.get_feature_names()\n",
    "\n",
    "df3.nlargest(10,0)"
   ]
  },
  {
   "cell_type": "code",
   "execution_count": 65,
   "metadata": {},
   "outputs": [
    {
     "name": "stderr",
     "output_type": "stream",
     "text": [
      "/Users/Alexey.Zhebel/IdeaProjects/CompLing/venv/lib/python3.8/site-packages/sklearn/utils/deprecation.py:87: FutureWarning: Function get_feature_names is deprecated; get_feature_names is deprecated in 1.0 and will be removed in 1.2. Please use get_feature_names_out instead.\n",
      "  warnings.warn(msg, category=FutureWarning)\n"
     ]
    },
    {
     "data": {
      "text/plain": "             0  feature\n1876  0.095727     free\n4050  0.094716      txt\n1280  0.079160    claim\n2716  0.068953   mobile\n4366  0.059218      www\n3883  0.048066     text\n3340  0.040210    reply\n2682  0.038190      min\n1199  0.031662     cash\n3497  0.029416  service",
      "text/html": "<div>\n<style scoped>\n    .dataframe tbody tr th:only-of-type {\n        vertical-align: middle;\n    }\n\n    .dataframe tbody tr th {\n        vertical-align: top;\n    }\n\n    .dataframe thead th {\n        text-align: right;\n    }\n</style>\n<table border=\"1\" class=\"dataframe\">\n  <thead>\n    <tr style=\"text-align: right;\">\n      <th></th>\n      <th>0</th>\n      <th>feature</th>\n    </tr>\n  </thead>\n  <tbody>\n    <tr>\n      <th>1876</th>\n      <td>0.095727</td>\n      <td>free</td>\n    </tr>\n    <tr>\n      <th>4050</th>\n      <td>0.094716</td>\n      <td>txt</td>\n    </tr>\n    <tr>\n      <th>1280</th>\n      <td>0.079160</td>\n      <td>claim</td>\n    </tr>\n    <tr>\n      <th>2716</th>\n      <td>0.068953</td>\n      <td>mobile</td>\n    </tr>\n    <tr>\n      <th>4366</th>\n      <td>0.059218</td>\n      <td>www</td>\n    </tr>\n    <tr>\n      <th>3883</th>\n      <td>0.048066</td>\n      <td>text</td>\n    </tr>\n    <tr>\n      <th>3340</th>\n      <td>0.040210</td>\n      <td>reply</td>\n    </tr>\n    <tr>\n      <th>2682</th>\n      <td>0.038190</td>\n      <td>min</td>\n    </tr>\n    <tr>\n      <th>1199</th>\n      <td>0.031662</td>\n      <td>cash</td>\n    </tr>\n    <tr>\n      <th>3497</th>\n      <td>0.029416</td>\n      <td>service</td>\n    </tr>\n  </tbody>\n</table>\n</div>"
     },
     "execution_count": 65,
     "metadata": {},
     "output_type": "execute_result"
    }
   ],
   "source": [
    "# GradientBoostingClassifier + Early stopping\n",
    "\n",
    "df4 = pd.DataFrame(gb_clf_es.feature_importances_)\n",
    "\n",
    "df4[\"feature\"] = vectorizer.get_feature_names()\n",
    "\n",
    "df4.nlargest(10,0)"
   ]
  },
  {
   "cell_type": "code",
   "execution_count": 34,
   "metadata": {},
   "outputs": [
    {
     "ename": "NameError",
     "evalue": "name 'abc' is not defined",
     "output_type": "error",
     "traceback": [
      "\u001B[0;31m---------------------------------------------------------------------------\u001B[0m",
      "\u001B[0;31mNameError\u001B[0m                                 Traceback (most recent call last)",
      "\u001B[0;32m<ipython-input-34-1633634ee3ad>\u001B[0m in \u001B[0;36m<module>\u001B[0;34m\u001B[0m\n\u001B[0;32m----> 1\u001B[0;31m \u001B[0mdf5\u001B[0m \u001B[0;34m=\u001B[0m \u001B[0mpd\u001B[0m\u001B[0;34m.\u001B[0m\u001B[0mDataFrame\u001B[0m\u001B[0;34m(\u001B[0m\u001B[0mabc\u001B[0m\u001B[0;34m.\u001B[0m\u001B[0mfeature_importances_\u001B[0m\u001B[0;34m)\u001B[0m\u001B[0;34m\u001B[0m\u001B[0;34m\u001B[0m\u001B[0m\n\u001B[0m\u001B[1;32m      2\u001B[0m \u001B[0;34m\u001B[0m\u001B[0m\n\u001B[1;32m      3\u001B[0m \u001B[0mdf5\u001B[0m\u001B[0;34m[\u001B[0m\u001B[0;34m\"feature\"\u001B[0m\u001B[0;34m]\u001B[0m \u001B[0;34m=\u001B[0m \u001B[0mvectorizer\u001B[0m\u001B[0;34m.\u001B[0m\u001B[0mget_feature_names\u001B[0m\u001B[0;34m(\u001B[0m\u001B[0;34m)\u001B[0m\u001B[0;34m\u001B[0m\u001B[0;34m\u001B[0m\u001B[0m\n\u001B[1;32m      4\u001B[0m \u001B[0;34m\u001B[0m\u001B[0m\n\u001B[1;32m      5\u001B[0m \u001B[0mdf5\u001B[0m\u001B[0;34m.\u001B[0m\u001B[0mnlargest\u001B[0m\u001B[0;34m(\u001B[0m\u001B[0;36m10\u001B[0m\u001B[0;34m,\u001B[0m\u001B[0;36m0\u001B[0m\u001B[0;34m)\u001B[0m\u001B[0;34m\u001B[0m\u001B[0;34m\u001B[0m\u001B[0m\n",
      "\u001B[0;31mNameError\u001B[0m: name 'abc' is not defined"
     ]
    }
   ],
   "source": [
    "df5 = pd.DataFrame(abc.feature_importances_)\n",
    "\n",
    "df5[\"feature\"] = vectorizer.get_feature_names()\n",
    "\n",
    "df5.nlargest(10,0)"
   ]
  },
  {
   "cell_type": "code",
   "execution_count": null,
   "metadata": {},
   "outputs": [],
   "source": []
  }
 ],
 "metadata": {
  "kernelspec": {
   "display_name": "Python 3",
   "language": "python",
   "name": "python3"
  },
  "language_info": {
   "codemirror_mode": {
    "name": "ipython",
    "version": 3
   },
   "file_extension": ".py",
   "mimetype": "text/x-python",
   "name": "python",
   "nbconvert_exporter": "python",
   "pygments_lexer": "ipython3",
   "version": "3.8.2"
  }
 },
 "nbformat": 4,
 "nbformat_minor": 4
}