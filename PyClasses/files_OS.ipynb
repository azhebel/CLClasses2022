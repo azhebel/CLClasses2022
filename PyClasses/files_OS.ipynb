{
 "cells": [
  {
   "cell_type": "markdown",
   "metadata": {
    "colab_type": "text",
    "id": "kIZidEDRSGBg"
   },
   "source": [
    "Часто, чтобы поработать над какой-то задачей, нам нужно работать с файлами, в которых хранятся данные, перемещаться среди папок и тд. Для решениях этих задач, в питоне существует [модуль  os](https://pythonworld.ru/moduli/modul-os.html)."
   ]
  },
  {
   "cell_type": "code",
   "execution_count": 3,
   "metadata": {
    "colab": {},
    "colab_type": "code",
    "id": "0321FMiWSGBp"
   },
   "outputs": [],
   "source": [
    "import os"
   ]
  },
  {
   "cell_type": "markdown",
   "metadata": {},
   "source": [
    "### Рассмотрим основные методы"
   ]
  },
  {
   "cell_type": "code",
   "execution_count": 52,
   "metadata": {
    "colab": {
     "base_uri": "https://localhost:8080/",
     "height": 34
    },
    "colab_type": "code",
    "id": "RYsCZGBGSGB2",
    "outputId": "d29e7922-82b6-4e35-c474-8f24873398a2"
   },
   "outputs": [
    {
     "data": {
      "text/plain": "'/Users/azhebel/temp'"
     },
     "execution_count": 52,
     "metadata": {},
     "output_type": "execute_result"
    }
   ],
   "source": [
    "os.getcwd()"
   ]
  },
  {
   "cell_type": "code",
   "execution_count": 51,
   "metadata": {
    "colab": {},
    "colab_type": "code",
    "id": "Dt59vqBHSGB6"
   },
   "outputs": [],
   "source": [
    "os.chdir(\"/Users/azhebel/temp\")\n",
    "! touch \"new.txt\"\n",
    "\n",
    "#x = \"/content\""
   ]
  },
  {
   "cell_type": "markdown",
   "metadata": {},
   "source": [
    "Для следующих методов в скобках нужно указывать желаемый путь"
   ]
  },
  {
   "cell_type": "code",
   "execution_count": 36,
   "metadata": {},
   "outputs": [
    {
     "data": {
      "text/plain": "'/usr/bin'"
     },
     "execution_count": 36,
     "metadata": {},
     "output_type": "execute_result"
    }
   ],
   "source": [
    "x = os.walk(\"/usr/bin\") # перечисляет все папки от топа вниз, в виде кортежа\n",
    "list(x)[0][0]\n"
   ]
  },
  {
   "cell_type": "code",
   "execution_count": 37,
   "metadata": {
    "colab": {
     "base_uri": "https://localhost:8080/",
     "height": 34
    },
    "colab_type": "code",
    "id": "-6u6RCLESGCA",
    "outputId": "c1a73ca5-c105-45d8-fafb-288a9a852c17"
   },
   "outputs": [
    {
     "name": "stdout",
     "output_type": "stream",
     "text": [
      "['.config', 'Music', '.bash_history.swp', '.skiko', '.docker']\n"
     ]
    }
   ],
   "source": [
    "x = os.listdir(\"/Users/azhebel\") # список файлов и директорий в папке\n",
    "\n",
    "print(x[0:5])"
   ]
  },
  {
   "cell_type": "code",
   "execution_count": 41,
   "metadata": {
    "colab": {},
    "colab_type": "code",
    "id": "o192KEJHSGCE"
   },
   "outputs": [
    {
     "data": {
      "text/plain": "'/Users/azhebel/temp'"
     },
     "execution_count": 41,
     "metadata": {},
     "output_type": "execute_result"
    }
   ],
   "source": [
    "os.chdir(\"/Users/azhebel/temp\")\n",
    "os.listdir()\n",
    "# os.mkdir(\"new\") # создаёт новую директорию\n",
    "os.listdir()\n",
    "os.getcwd()"
   ]
  },
  {
   "cell_type": "code",
   "execution_count": 45,
   "metadata": {
    "colab": {},
    "colab_type": "code",
    "id": "pj9svtYtSGB9"
   },
   "outputs": [
    {
     "data": {
      "text/plain": "['.localized', 'Shared', 'jetbrains', 'Guest', 'jsmith', 'azhebel']"
     },
     "execution_count": 45,
     "metadata": {},
     "output_type": "execute_result"
    }
   ],
   "source": [
    "# os.chdir(\"new\") # сменяет текущую рабочую директорию\n",
    "os.getcwd()\n",
    "os.listdir(\"/Users\")"
   ]
  },
  {
   "cell_type": "code",
   "execution_count": null,
   "metadata": {
    "colab": {
     "base_uri": "https://localhost:8080/",
     "height": 34
    },
    "colab_type": "code",
    "id": "L0VYBoD6TF64",
    "outputId": "ae26aab1-aaad-4d13-d287-25e58a04a182"
   },
   "outputs": [],
   "source": [
    "os.getcwd() #  проверим текущую директорию"
   ]
  },
  {
   "cell_type": "code",
   "execution_count": null,
   "metadata": {
    "colab": {
     "base_uri": "https://localhost:8080/",
     "height": 34
    },
    "colab_type": "code",
    "id": "L8WzXb7USGCL",
    "outputId": "bc9ea53f-c98b-4569-eb2e-f4535b38bf55"
   },
   "outputs": [],
   "source": [
    "os.listdir(\"/content/new\") # посмотрим, что в новой директории"
   ]
  },
  {
   "cell_type": "code",
   "execution_count": 46,
   "metadata": {
    "colab": {
     "base_uri": "https://localhost:8080/",
     "height": 34
    },
    "colab_type": "code",
    "id": "MwRp_Bt6SGCa",
    "outputId": "17ce6ead-4734-49ee-b93f-084e9b2d8821"
   },
   "outputs": [
    {
     "data": {
      "text/plain": "['.DS_Store']"
     },
     "execution_count": 46,
     "metadata": {},
     "output_type": "execute_result"
    }
   ],
   "source": [
    "#os.chdir(\"/content\")\n",
    "os.rmdir('/Users/azhebel/temp/new/') # удаляет пустую директорию. Чтобы удалить, из нее сначала надо выйти\n",
    "# (например, на шаг назад, это делает предыдущая строка)\n",
    "os.listdir(\"/Users/azhebel/temp\") # посмотрим на список файлов снова,  new уже нет"
   ]
  },
  {
   "cell_type": "code",
   "execution_count": null,
   "metadata": {
    "colab": {},
    "colab_type": "code",
    "id": "CihvMLrkSGCV"
   },
   "outputs": [],
   "source": [
    "os.remove('new') # удаляет путь к файлу."
   ]
  },
  {
   "cell_type": "code",
   "execution_count": null,
   "metadata": {
    "colab": {},
    "colab_type": "code",
    "id": "ppZeXif6SGCd",
    "outputId": "e21ef6ae-242e-4072-a65d-dfd2c5bed512"
   },
   "outputs": [],
   "source": [
    "os.listdir(x) # посмотрим на список еще раз, исчез ли new2\n",
    "os.utime()"
   ]
  },
  {
   "cell_type": "markdown",
   "metadata": {
    "colab_type": "text",
    "id": "EKBeg_6NSGCn"
   },
   "source": [
    "### в модуле os есть свой под-модуль: os.path ( реализует некоторые полезные функции для работы с путями)"
   ]
  },
  {
   "cell_type": "code",
   "execution_count": 64,
   "metadata": {
    "colab": {},
    "colab_type": "code",
    "id": "LQ_mGKAj5gzo"
   },
   "outputs": [
    {
     "name": "stdout",
     "output_type": "stream",
     "text": [
      "<class 'str'>\n",
      "/Users/azhebel/temp/new.txt\n"
     ]
    }
   ],
   "source": [
    "import os.path #  импортим модуль\n",
    "print(type(os.getcwd()))\n",
    "print(os.path.abspath(\"new.txt\"))"
   ]
  },
  {
   "cell_type": "code",
   "execution_count": null,
   "metadata": {
    "colab": {
     "base_uri": "https://localhost:8080/",
     "height": 34
    },
    "colab_type": "code",
    "id": "CWEZNUXoSGCo",
    "outputId": "8f7fd8a2-7898-4bdd-da91-e5b6f4fab965"
   },
   "outputs": [],
   "source": [
    "os.path.abspath(\"new.txt\") # возвращает нормализованный абсолютный путь"
   ]
  },
  {
   "cell_type": "code",
   "execution_count": 65,
   "metadata": {
    "colab": {
     "base_uri": "https://localhost:8080/",
     "height": 34
    },
    "colab_type": "code",
    "id": "YBcWrovC6yRj",
    "outputId": "16aca1a5-08cb-4a1a-e2b1-d08f2eb26f36"
   },
   "outputs": [
    {
     "data": {
      "text/plain": "False"
     },
     "execution_count": 65,
     "metadata": {},
     "output_type": "execute_result"
    }
   ],
   "source": [
    "os.path.isabs(\"new.txt\") # является ли путь абсолютным"
   ]
  },
  {
   "cell_type": "code",
   "execution_count": 66,
   "metadata": {
    "colab": {
     "base_uri": "https://localhost:8080/",
     "height": 34
    },
    "colab_type": "code",
    "id": "olWeC3bf6yHg",
    "outputId": "2d0bc56d-68dd-4c0c-ddc6-368197e0aced"
   },
   "outputs": [
    {
     "data": {
      "text/plain": "True"
     },
     "execution_count": 66,
     "metadata": {},
     "output_type": "execute_result"
    }
   ],
   "source": [
    "os.path.isfile(\"new.txt\") # является ли путь файлом"
   ]
  },
  {
   "cell_type": "code",
   "execution_count": 67,
   "metadata": {
    "colab": {
     "base_uri": "https://localhost:8080/",
     "height": 34
    },
    "colab_type": "code",
    "id": "-FdpVPhx6x-G",
    "outputId": "65477a3c-86a6-44c0-c8fb-d2fb1c648c17"
   },
   "outputs": [
    {
     "data": {
      "text/plain": "False"
     },
     "execution_count": 67,
     "metadata": {},
     "output_type": "execute_result"
    }
   ],
   "source": [
    "os.path.isdir(\"new.txt\") # является ли путь директорией(папкой)"
   ]
  },
  {
   "cell_type": "code",
   "execution_count": 76,
   "metadata": {
    "colab": {
     "base_uri": "https://localhost:8080/",
     "height": 34
    },
    "colab_type": "code",
    "id": "0qKfXUzASGCw",
    "outputId": "c6b4a06b-6ba0-402c-f5c3-9cd4eaae2535"
   },
   "outputs": [
    {
     "data": {
      "text/plain": "'tempworld'"
     },
     "execution_count": 76,
     "metadata": {},
     "output_type": "execute_result"
    }
   ],
   "source": [
    "os.path.split(\"/Users/azhebel/temp\")[1] + \"world\" #разбивает путь на кортеж (голова, хвост), где хвост - последний компонент пути, а голова - всё остальное.\n",
    "#Хвост никогда не начинается со слеша (если путь заканчивается слешем, то хвост пустой).\n",
    "#Если слешей в пути нет, то пустой будет голова."
   ]
  },
  {
   "cell_type": "markdown",
   "metadata": {
    "colab_type": "text",
    "id": "ovviRXtCSGC8"
   },
   "source": [
    "**А также:**\n",
    "1. [shutil](https://www.journaldev.com/20536/python-shutil-module)\n",
    "(модуль для работы с  файлами, их копирования, перемещения, удаления и тд)\n",
    "\n",
    "2. [piclke](https://www.datacamp.com/community/tutorials/pickle-python-tutorial) (модуль для сохранения и загрузки объектов)\n"
   ]
  },
  {
   "cell_type": "markdown",
   "metadata": {
    "colab_type": "text",
    "id": "pilnXnWUAgaI"
   },
   "source": [
    "## загрузка данных в колаб"
   ]
  },
  {
   "cell_type": "markdown",
   "metadata": {
    "colab_type": "text",
    "id": "hrWIEDeAAkQ_"
   },
   "source": [
    "в колабе есть смециальный модуль ```google.colab```, который позволяет загрузить файлы с компьютера. Вызовем его:"
   ]
  },
  {
   "cell_type": "code",
   "execution_count": null,
   "metadata": {
    "colab": {
     "base_uri": "https://localhost:8080/",
     "height": 344
    },
    "colab_type": "code",
    "id": "vpNBfG9oEo9c",
    "outputId": "72f37d0a-6ca7-41a0-9c02-8332fa36087c",
    "tags": []
   },
   "outputs": [],
   "source": [
    "from google.colab import files #строка импорта\n",
    "files.upload() # откроется окно загрузки"
   ]
  },
  {
   "cell_type": "code",
   "execution_count": null,
   "metadata": {
    "colab": {
     "base_uri": "https://localhost:8080/",
     "height": 34
    },
    "colab_type": "code",
    "id": "Nzc6W_CkFBSC",
    "outputId": "8b1843b2-8c29-4451-a324-88e5eee14efa"
   },
   "outputs": [],
   "source": [
    "! ls #проверяем, что файл действительно на месте"
   ]
  },
  {
   "cell_type": "markdown",
   "metadata": {
    "colab_type": "text",
    "id": "B1WOL-zjAFKU"
   },
   "source": [
    "## работа с файлами\n",
    "\n",
    "Мы оказались в нужной директории, нашли нужный файл. Давайте его прочитаем"
   ]
  },
  {
   "cell_type": "code",
   "execution_count": 94,
   "metadata": {
    "colab": {},
    "colab_type": "code",
    "id": "_f5fP_CX91RK"
   },
   "outputs": [
    {
     "data": {
      "text/plain": "['Помните запах свежевыпеченного хлеба на дождливой улочке из той булочной, в которую вы заходили в прошлом месяце?\\nА как он смешался с запахом смолотого кофе?\\nА запах свежескошенной травы в парке освежающим вечером после жаркого дня?\\nЗапахи ежеминутно сопровождают нас в городе, но они мимолетны и невидимы, поэтому часто ускользают от внимания урбанистов и исследователей городской среды',\n '\\nГруппа ученых из разных университетов мира в рамках проекта Smelly Maps решила исправить эту несправедливость и занялась исследованием городских запахов',\n '\\nСамый первый и важный вопрос, с которым они столкнулись — откуда брать данные для работы? Один из очевидных ответов — собирать данные на месте при помощи так называемых «smell walks»']"
     },
     "execution_count": 94,
     "metadata": {},
     "output_type": "execute_result"
    }
   ],
   "source": [
    "os.chdir(\"/Users/azhebel/IdeaProjects/CompLing\")\n",
    "my_file = open('city_smells.txt', 'r') # воспользуемся встроенной функцией open()\n",
    "# print(my_file.readlines()[0:3])\n",
    "my_file.read().split(\".\")[0:3]"
   ]
  },
  {
   "cell_type": "markdown",
   "metadata": {
    "colab_type": "text",
    "id": "AM7jQ6BKGtNQ"
   },
   "source": [
    "давайте посмотрим на аргументы функции: \n",
    "* первый = путь к файлу, который хотим открыть.\n",
    "\n",
    "* второй аргумент - это режим открытия файла: для чтения, записи, дозаписи, все вместе и тд. \n",
    "\n",
    "\n",
    "<div class=\"table-wrapper\"><table border=\"1\" class=\"docutils\"><tbody valign=\"top\"><tr><td>Режим</td><td>Обозначение</td></tr><tr><td>'r'</td><td>открытие на чтение (является значением по умолчанию).</td></tr><tr><td>'w'</td><td>открытие на запись, содержимое файла удаляется, если файла не существует, создается новый.</td></tr><tr><td>'x'</td><td>открытие на запись, если файла не существует, иначе исключение.</td></tr><tr><td>'a'</td><td>открытие на дозапись, информация добавляется в конец файла.</td></tr><tr><td>'b'</td><td>открытие в двоичном режиме.</td></tr><tr><td>'t'</td><td>открытие в текстовом режиме (является значением по умолчанию).</td></tr><tr><td>'+'</td><td>открытие на чтение и запись</td></tr></tbody></table></div>\n",
    "\n",
    "\n",
    "\n",
    "Режимы могут быть объединять: например,'ra' - открытие для чтения и  дозаписи.\n",
    "\n",
    "По умолчанию режим равен 'rt'\n",
    "\n",
    "Последний аргумент (опциональный, его можно не указывать), encoding, нужен только в текстовом режиме чтения файла. Этот аргумент задает кодировку. Чтобы стандантные .txt-файлы читались без проблем, ставим ```encoding = utf-8```\n",
    "\n",
    "\n",
    "Мы открыли файл с режимом для чтения (пока еще не читали его), сохранили в переменную значение. Давайте прочтем содержимое. Читать тоже можно несколькими методами: \n",
    "* .read()\n",
    "* .readline()\n",
    "* readlines()"
   ]
  },
  {
   "cell_type": "code",
   "execution_count": null,
   "metadata": {},
   "outputs": [],
   "source": [
    "with open(\"city_smells.txt\", \"r\") as file:\n",
    "    file.read()\n",
    "    # file.readline()\n",
    "    # file.readlines()"
   ]
  },
  {
   "cell_type": "markdown",
   "metadata": {
    "colab_type": "text",
    "id": "rgJ-oIYzUGLX"
   },
   "source": [
    "С прочитанным текстом, который мы сохранили в переменную,  теперь можем делать любые операции: измерять длину слов, заменять слова, убирать пунктуацию, проводить подсчеты элементов и тд (это попробуем позже)\n",
    "\n",
    "### Часть2\n",
    "Теперь попробуем создать файл и записать в него что-то:"
   ]
  },
  {
   "cell_type": "code",
   "execution_count": null,
   "metadata": {
    "colab": {},
    "colab_type": "code",
    "id": "7xkPeSW1TPL4"
   },
   "outputs": [],
   "source": [
    "with open('new_text.txt', 'w') as file: \n",
    "    file.write(\"hi this is a test\"+ '\\n')\n",
    "    \n",
    "# если такого файла не существовало, но создастся автоматически"
   ]
  },
  {
   "cell_type": "code",
   "execution_count": null,
   "metadata": {
    "colab": {
     "base_uri": "https://localhost:8080/",
     "height": 34
    },
    "colab_type": "code",
    "id": "b_UFW6kdVr6C",
    "outputId": "baec79bc-913e-46fc-fe43-c2d2ea3ecf34"
   },
   "outputs": [],
   "source": [
    "# откроем и проверим, что в нем дейсвительно записан текст:\n",
    "\n",
    "with open(\"new_text.txt\",'r') as file:\n",
    "    file.read()"
   ]
  }
 ],
 "metadata": {
  "colab": {
   "collapsed_sections": [
    "pilnXnWUAgaI"
   ],
   "include_colab_link": true,
   "name": "09Nov_19.ipynb",
   "provenance": []
  },
  "kernelspec": {
   "name": "pycharm-67d2a6e7",
   "language": "python",
   "display_name": "PyCharm (CompLing)"
  },
  "language_info": {
   "codemirror_mode": {
    "name": "ipython",
    "version": 3
   },
   "file_extension": ".py",
   "mimetype": "text/x-python",
   "name": "python",
   "nbconvert_exporter": "python",
   "pygments_lexer": "ipython3",
   "version": "3.8.2"
  }
 },
 "nbformat": 4,
 "nbformat_minor": 4
}