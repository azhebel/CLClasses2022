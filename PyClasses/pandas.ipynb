{
 "cells": [
  {
   "cell_type": "markdown",
   "metadata": {
    "colab_type": "text",
    "id": "LchzhkUv1OnX"
   },
   "source": [
    "Сегодня мы поговорим о библиотеке, которая позволяет работать с табличными данными. Она называется pandas"
   ]
  },
  {
   "cell_type": "code",
   "execution_count": 1,
   "metadata": {
    "colab": {
     "base_uri": "https://localhost:8080/",
     "height": 101
    },
    "colab_type": "code",
    "id": "dy_UDg8kL5Vc",
    "outputId": "03e45008-9ea3-4b54-db6e-3099955cec94"
   },
   "outputs": [
    {
     "name": "stdout",
     "output_type": "stream",
     "text": [
      "Defaulting to user installation because normal site-packages is not writeable\r\n",
      "Collecting pandas\r\n",
      "  Downloading pandas-1.3.5-cp38-cp38-macosx_10_9_x86_64.whl (11.2 MB)\r\n",
      "     |████████████████████████████████| 11.2 MB 6.0 MB/s            \r\n",
      "\u001B[?25hRequirement already satisfied: numpy>=1.17.3 in /Library/Python/3.8/site-packages (from pandas) (1.21.4)\r\n",
      "Requirement already satisfied: python-dateutil>=2.7.3 in /Library/Python/3.8/site-packages (from pandas) (2.8.2)\r\n",
      "Collecting pytz>=2017.3\r\n",
      "  Downloading pytz-2021.3-py2.py3-none-any.whl (503 kB)\r\n",
      "     |████████████████████████████████| 503 kB 18.0 MB/s            \r\n",
      "\u001B[?25hRequirement already satisfied: six>=1.5 in /Library/Developer/CommandLineTools/Library/Frameworks/Python3.framework/Versions/3.8/lib/python3.8/site-packages (from python-dateutil>=2.7.3->pandas) (1.15.0)\r\n",
      "Installing collected packages: pytz, pandas\r\n",
      "Successfully installed pandas-1.3.5 pytz-2021.3\r\n"
     ]
    }
   ],
   "source": [
    "! pip3 install pandas # если pandas не установлен, следует запустить эту ячейку"
   ]
  },
  {
   "cell_type": "code",
   "execution_count": 1,
   "metadata": {
    "colab": {},
    "colab_type": "code",
    "id": "mu_R9WN2MFeQ"
   },
   "outputs": [],
   "source": [
    "import pandas as pd # теперь импортируем pandas в эту тетрадку"
   ]
  },
  {
   "cell_type": "markdown",
   "metadata": {
    "colab_type": "text",
    "id": "dDSmXeLaTh4U"
   },
   "source": [
    "документация для pandas [лежит здесь](https://pandas.pydata.org/pandas-docs/stable/getting_started/tutorials.html)\n",
    "\n",
    "Основные элементы \"табличек в pandas\" - это Series и Dataframe\n",
    "\n",
    "Series - это объект, похожий на одномерный массив (как обычный список в питоне) с элементами и  индексами вдоль каждого элемента из списка. \n",
    "\n",
    "DataFrame \"собирается\" из таких Series"
   ]
  },
  {
   "cell_type": "markdown",
   "metadata": {
    "colab_type": "text",
    "id": "YwQGRoCkO4y1"
   },
   "source": [
    "<img alt=\"Series vs DataFrame\" height=\"300\" width=\"700\" src=\"https://storage.googleapis.com/lds-media/images/series-and-dataframe.width-1200.png\" >"
   ]
  },
  {
   "cell_type": "markdown",
   "metadata": {
    "jp-MarkdownHeadingCollapsed": true,
    "tags": []
   },
   "source": [
    "# Создание датафрейма"
   ]
  },
  {
   "cell_type": "markdown",
   "metadata": {},
   "source": [
    "Создать дф можно двумя способами:\n",
    "- из словаря методом pd.DataFrame.from_dict()\n",
    "- прочитав .csv файл\n",
    "\n",
    "попробуем оба способа\n",
    "\n",
    "### Первый"
   ]
  },
  {
   "cell_type": "code",
   "execution_count": 59,
   "metadata": {
    "colab": {
     "base_uri": "https://localhost:8080/",
     "height": 166
    },
    "colab_type": "code",
    "id": "6Vy_M6tPMQCE",
    "outputId": "306f8933-4b0d-46f5-8523-6926b235af5c"
   },
   "outputs": [
    {
     "data": {
      "text/plain": "             city  age\nMaria      London   37\nLorenzo     Milan   28\nOleg     Canberra   31\nHans      Calgary   80\nMark        Milan   55\nAlex       Krakow   35\nJulia    Murmansk   43",
      "text/html": "<div>\n<style scoped>\n    .dataframe tbody tr th:only-of-type {\n        vertical-align: middle;\n    }\n\n    .dataframe tbody tr th {\n        vertical-align: top;\n    }\n\n    .dataframe thead th {\n        text-align: right;\n    }\n</style>\n<table border=\"1\" class=\"dataframe\">\n  <thead>\n    <tr style=\"text-align: right;\">\n      <th></th>\n      <th>city</th>\n      <th>age</th>\n    </tr>\n  </thead>\n  <tbody>\n    <tr>\n      <th>Maria</th>\n      <td>London</td>\n      <td>37</td>\n    </tr>\n    <tr>\n      <th>Lorenzo</th>\n      <td>Milan</td>\n      <td>28</td>\n    </tr>\n    <tr>\n      <th>Oleg</th>\n      <td>Canberra</td>\n      <td>31</td>\n    </tr>\n    <tr>\n      <th>Hans</th>\n      <td>Calgary</td>\n      <td>80</td>\n    </tr>\n    <tr>\n      <th>Mark</th>\n      <td>Milan</td>\n      <td>55</td>\n    </tr>\n    <tr>\n      <th>Alex</th>\n      <td>Krakow</td>\n      <td>35</td>\n    </tr>\n    <tr>\n      <th>Julia</th>\n      <td>Murmansk</td>\n      <td>43</td>\n    </tr>\n  </tbody>\n</table>\n</div>"
     },
     "metadata": {},
     "output_type": "display_data"
    }
   ],
   "source": [
    "# шаг 1 создадим словарь\n",
    "\n",
    "data = {\n",
    "    \"Maria\":[\"London\",37],\n",
    "    \"Lorenzo\":[\"Milan\",28],\n",
    "    \"Oleg\":[\"Canberra\",31],\n",
    "    \"Hans\":[\"Calgary\",80],\n",
    "    \"Mark\":[\"Milan\",55],\n",
    "    \"Alex\":[\"Krakow\",35],\n",
    "    \"Julia\":[\"Murmansk\",43]\n",
    "    \n",
    "}\n",
    "\n",
    "# шаг 2 используем метод pd.DataFrame.from_dict()\n",
    "# аргументом подадим созданный словарь\n",
    "\n",
    "postcards = pd.DataFrame.from_dict(data, orient=\"index\",columns=[\"city\",\"age\"])\n",
    "\n",
    "\n",
    "display(postcards)"
   ]
  },
  {
   "cell_type": "markdown",
   "metadata": {},
   "source": [
    "### Второй способ"
   ]
  },
  {
   "cell_type": "code",
   "execution_count": 4,
   "metadata": {
    "collapsed": true,
    "jupyter": {
     "outputs_hidden": true
    },
    "tags": []
   },
   "outputs": [
    {
     "data": {
      "text/plain": "                                                Title  Time       Servings  \\\n0                                Perfect roast turkey   180  10 serving(s)   \n1                         Stuffed roast turkey breast   180   8 serving(s)   \n2     Nigella's turkey breast with Christmas stuffing   150  12 serving(s)   \n3                  Gordon Ramsay's roast turkey crown   120   8 serving(s)   \n4                                  Roast turkey crown   180   8 serving(s)   \n5                                   Roast turkey roll   150   8 serving(s)   \n6                           Roast turkey and stuffing   150  12 serving(s)   \n7                        Perfect roast chicken dinner   150   4 serving(s)   \n8   Venison Wellington with caramelised onions and...   120   6 serving(s)   \n9                                          Roast beef   120   6 serving(s)   \n10                  The ultimate Christmas roast beef   120   8 serving(s)   \n11                                    Beef Wellington   120   8 serving(s)   \n12  Roast pork belly with apple bread sauce and ri...   150   6 serving(s)   \n13            Honey and marmalade-glazed gammon joint   150  20 serving(s)   \n14                                Honey-glazed gammon   150  10 serving(s)   \n15              Slow cooked gammon with mustard sauce   150  12 serving(s)   \n16                               Christmas roast duck   180   6 serving(s)   \n17                                        Roast goose   150   6 serving(s)   \n18                                          Porchetta   120   6 serving(s)   \n19                                   Salmon en croûte    60  12 serving(s)   \n20            Christmas nut roast with mushroom gravy    30   8 serving(s)   \n21          Vegetarian nut roast pie with cranberries    60  10 serving(s)   \n22                                     Easy nut roast    30  10 serving(s)   \n23  Baked stuffed aubergine with walnut and Roquefort    60   8 serving(s)   \n24                     Brussels sprouts with pancetta    30   8 serving(s)   \n25                                Best roast potatoes    60   8 serving(s)   \n26                                  Christmas carrots    30   4 serving(s)   \n27                              Christmas red cabbage    60   4 serving(s)   \n28                    Mary Berry's Christmas stuffing    30     16 item(s)   \n29                                   Pigs in blankets    30   8 serving(s)   \n30                                Honey roast carrots    60   6 serving(s)   \n31                            Creamy Brussels sprouts    30   6 serving(s)   \n32                         Make-ahead Christmas gravy    30   8 serving(s)   \n33                                Braised red cabbage    30   8 serving(s)   \n34                             Perfect roast potatoes    60   8 serving(s)   \n35                                  Chestnut stuffing    30   6 serving(s)   \n36                               Maple-roast parsnips    60   8 serving(s)   \n37                     Hasselback potatoes with bacon    60     30 item(s)   \n38                            Sage and onion stuffing    60   6 serving(s)   \n39                          Sticky cranberry sausages    30  10 serving(s)   \n40                                   Easy bread sauce    30   8 serving(s)   \n41                        Slow cooker honey roast ham   150  10 serving(s)   \n\n                                          Ingredients  \\\n0   ['20ml/¾fl oz rapeseed oil', '1 x 5kg/11lb goo...   \n1   ['1 tbsp sunflower oil', '1 onion, finely chop...   \n2   ['100g/3½oz dried cranberries', '100ml/3½fl oz...   \n3   ['125g/4½oz pack unsalted butter, softened', '...   \n4   ['1 turkey breast crown (a wingless, legless t...   \n5   ['100g/3½oz pork scratchings', '100g/3½oz sour...   \n6   ['4.5-5.5kg/10-12lb whole turkey, with giblets...   \n7   ['500ml/18fl oz milk', '75g/2½oz butter', '8 c...   \n8   ['1 tbsp olive oil', '750g/1lb 10oz venison fi...   \n9   ['225g/8oz plain flour', '8 free-range eggs', ...   \n10  ['225g/8oz plain flour', '8 free-range eggs', ...   \n11  ['1.3kg/2lb 14oz middle-cut fillet of beef', '...   \n12  ['1.8kg/4lb pork belly', '4 tbsp sea salt flak...   \n13  ['6kg/13lb 3½oz gammon joint', 'fresh orange j...   \n14  ['2kg/4lb 8oz unsmoked boneless gammon joint, ...   \n15  ['3kg/6lb 8oz unsmoked gammon joint, off the b...   \n16  ['1.5kg/3lb 5oz potatoes, peeled and thinly sl...   \n17  ['1 x 5kg/11lb oven-ready goose', '1 onion, pe...   \n18  ['3 tbsp finely chopped rosemary', 'sprig thym...   \n19  ['2 medium cucumbers, peeled', '5 tbsp Dijon m...   \n20  ['300g/10½oz spinach or chard leaves', '50g/1¾...   \n21  ['drizzle olive oil', '4 leeks, finely sliced'...   \n22  ['butter, for greasing and frying', '2 tbsp oi...   \n23  ['4 large aubergines', '2 garlic cloves, chopp...   \n24  ['salt', '900g/2lb 4oz Brussels sprouts, trimm...   \n25  ['10 large King Edward potatoes, peeled, cut i...   \n26  ['9 medium carrots, peeled, topped and tailed'...   \n27  ['1 tbsp walnut oil', '15g/½oz butter', '2 red...   \n28  ['40g/1½oz butter, plus extra for greasing', '...   \n29  ['8 thin slices streaky bacon', '16 chipolata ...   \n30  ['1 kg/2lb 4oz small carrots, such as Chantena...   \n31  ['500g/1lb 2oz Brussels sprouts, trimmed and h...   \n32  ['1 tbsp light olive oil or vegetable oil', '3...   \n33  ['1 red cabbage, quartered, cored and sliced',...   \n34  ['5 tbsp duck fat', '16 medium-sized Maris Pip...   \n35  ['1 large onion, coarsely chopped', '225g/8oz ...   \n36  ['1kg/2¼lb parsnips', '125ml/4fl oz vegetable ...   \n37  ['1kg/2lb 4oz small baby potatoes', '300g/10½o...   \n38  ['1 onion, peeled and finely chopped', '1 tbsp...   \n39  ['2 red onions, sliced', '2 tbsp olive oil', '...   \n40  ['1 large onion, peeled', '6 cloves', '1 bay l...   \n41  ['1.6kg/3lb 8oz boneless, rolled smoked or uns...   \n\n                                         Instructions  \\\n0   Remove the turkey from the fridge and bring to...   \n1   To make the stuffing, heat the oil and gently ...   \n2   Put the cranberries and Marsala into a small s...   \n3   Pre-heat the oven to 200C/180C Fan/Gas 6.\\nFor...   \n4   Preheat the oven to 220C/200C Fan/Gas 7.\\nRub ...   \n5   For the crumble topping, crush the pork scratc...   \n6   For the stock, put the giblets, onion, carrot,...   \n7   For the bread sauce, heat together the first e...   \n8   Heat the oil in a large frying pan over a high...   \n9   For the Yorkshire puddings, put the flour in a...   \n10  First prepare the Yorkshire pudding batter. Po...   \n11  Preheat the oven to 220C/200C Fan/Gas 7.\\nSeas...   \n12  Preheat the oven to 230C/210C fan/Gas 8.\\nFor ...   \n13  For the gammon, place the gammon into a large,...   \n14  Place the gammon joint into a large lidded sau...   \n15  Preheat the oven to 160C/140C Fan/Gas 3.\\nTo m...   \n16  Arrange the shelves of your oven so that there...   \n17  Preheat the oven to 200C/180C Fan/Gas 6.\\nPlac...   \n18  For the paste filling, either put all the ingr...   \n19  Preheat the oven to 180C/350F/Gas 4. Line a la...   \n20  Preheat the oven to 200C/180C Fan/Gas 6. Line ...   \n21  Preheat the oven to 200C/400F/Gas 6 and grease...   \n22  Pre-heat the oven to 180C/160C Fan/Gas 4. Butt...   \n23  Preheat the oven to 200C/440F/Gas 6.\\nCut the ...   \n24  Bring a saucepan of salted water to the boil a...   \n25  Preheat the oven to 200C/180C Fan/Gas 6.\\nSimm...   \n26  Use a clean scourer to smooth the carrots and ...   \n27  Heat the oil and butter in a large heavy-based...   \n28  Melt the butter in a saucepan over a medium he...   \n29  Preheat the oven to 200C/180C Fan/Gas 6.\\nPlac...   \n30  Preheat the oven to 200C/ 180C Fan/Gas 6. Trim...   \n31  Half-fill a medium saucepan with water and bri...   \n32  Preheat the oven to 200C/180C Fan/Gas 6.\\nMix ...   \n33  Preheat the oven to 170C/150C Fan/Gas 3.\\nMix ...   \n34  Preheat the oven to 190C/170C Fan/Gas 5.\\nParb...   \n35  Preheat oven 200C/400F/Gas 6. Butter a shallow...   \n36  Preheat the oven to 200C/180C Fan/Gas 6.\\nPeel...   \n37  Preheat the oven to 200C/180C Fan/Gas 6\\nCut n...   \n38  Sweat the onion in the oil, until soft but not...   \n39  Fry the sliced red onions in a pan with the oi...   \n40  Press all the cloves into the whole peeled oni...   \n41  Put the gammon, onion and 100ml/3½fl oz water ...   \n\n                                                Image  \n0   https://ichef.bbci.co.uk/food/ic/food_16x9_832...  \n1   https://ichef.bbci.co.uk/food/ic/food_16x9_832...  \n2   https://ichef.bbci.co.uk/food/ic/food_16x9_832...  \n3   https://ichef.bbci.co.uk/food/ic/food_16x9_832...  \n4   https://ichef.bbci.co.uk/food/ic/food_16x9_832...  \n5   https://ichef.bbci.co.uk/food/ic/food_16x9_832...  \n6   https://ichef.bbci.co.uk/food/ic/food_16x9_832...  \n7   https://ichef.bbci.co.uk/food/ic/food_16x9_832...  \n8   https://ichef.bbci.co.uk/food/ic/food_16x9_832...  \n9   https://ichef.bbci.co.uk/food/ic/food_16x9_832...  \n10  https://ichef.bbci.co.uk/food/ic/food_16x9_832...  \n11  https://ichef.bbci.co.uk/food/ic/food_16x9_832...  \n12  https://ichef.bbci.co.uk/food/ic/food_16x9_832...  \n13  https://ichef.bbci.co.uk/food/ic/food_16x9_832...  \n14  https://ichef.bbci.co.uk/food/ic/food_16x9_832...  \n15  https://ichef.bbci.co.uk/food/ic/food_16x9_832...  \n16  https://ichef.bbci.co.uk/food/ic/food_16x9_832...  \n17  https://ichef.bbci.co.uk/food/ic/food_16x9_832...  \n18  https://ichef.bbci.co.uk/food/ic/food_16x9_832...  \n19  https://ichef.bbci.co.uk/food/ic/food_16x9_832...  \n20  https://ichef.bbci.co.uk/food/ic/food_16x9_832...  \n21  https://ichef.bbci.co.uk/food/ic/food_16x9_832...  \n22  https://ichef.bbci.co.uk/food/ic/food_16x9_832...  \n23  https://ichef.bbci.co.uk/food/ic/food_16x9_832...  \n24  https://ichef.bbci.co.uk/food/ic/food_16x9_832...  \n25  https://ichef.bbci.co.uk/food/ic/food_16x9_832...  \n26  https://ichef.bbci.co.uk/food/ic/food_16x9_832...  \n27  https://ichef.bbci.co.uk/food/ic/food_16x9_832...  \n28  https://ichef.bbci.co.uk/food/ic/food_16x9_832...  \n29  https://ichef.bbci.co.uk/food/ic/food_16x9_832...  \n30  https://ichef.bbci.co.uk/food/ic/food_16x9_832...  \n31  https://ichef.bbci.co.uk/food/ic/food_16x9_832...  \n32  https://ichef.bbci.co.uk/food/ic/food_16x9_832...  \n33  https://ichef.bbci.co.uk/food/ic/food_16x9_832...  \n34  https://ichef.bbci.co.uk/food/ic/food_16x9_832...  \n35  https://ichef.bbci.co.uk/food/ic/food_16x9_832...  \n36  https://ichef.bbci.co.uk/food/ic/food_16x9_832...  \n37  https://ichef.bbci.co.uk/food/ic/food_16x9_832...  \n38  https://ichef.bbci.co.uk/food/ic/food_16x9_832...  \n39  https://ichef.bbci.co.uk/food/ic/food_16x9_832...  \n40  https://ichef.bbci.co.uk/food/ic/food_16x9_832...  \n41  https://ichef.bbci.co.uk/food/ic/food_16x9_832...  ",
      "text/html": "<div>\n<style scoped>\n    .dataframe tbody tr th:only-of-type {\n        vertical-align: middle;\n    }\n\n    .dataframe tbody tr th {\n        vertical-align: top;\n    }\n\n    .dataframe thead th {\n        text-align: right;\n    }\n</style>\n<table border=\"1\" class=\"dataframe\">\n  <thead>\n    <tr style=\"text-align: right;\">\n      <th></th>\n      <th>Title</th>\n      <th>Time</th>\n      <th>Servings</th>\n      <th>Ingredients</th>\n      <th>Instructions</th>\n      <th>Image</th>\n    </tr>\n  </thead>\n  <tbody>\n    <tr>\n      <th>0</th>\n      <td>Perfect roast turkey</td>\n      <td>180</td>\n      <td>10 serving(s)</td>\n      <td>['20ml/¾fl oz rapeseed oil', '1 x 5kg/11lb goo...</td>\n      <td>Remove the turkey from the fridge and bring to...</td>\n      <td>https://ichef.bbci.co.uk/food/ic/food_16x9_832...</td>\n    </tr>\n    <tr>\n      <th>1</th>\n      <td>Stuffed roast turkey breast</td>\n      <td>180</td>\n      <td>8 serving(s)</td>\n      <td>['1 tbsp sunflower oil', '1 onion, finely chop...</td>\n      <td>To make the stuffing, heat the oil and gently ...</td>\n      <td>https://ichef.bbci.co.uk/food/ic/food_16x9_832...</td>\n    </tr>\n    <tr>\n      <th>2</th>\n      <td>Nigella's turkey breast with Christmas stuffing</td>\n      <td>150</td>\n      <td>12 serving(s)</td>\n      <td>['100g/3½oz dried cranberries', '100ml/3½fl oz...</td>\n      <td>Put the cranberries and Marsala into a small s...</td>\n      <td>https://ichef.bbci.co.uk/food/ic/food_16x9_832...</td>\n    </tr>\n    <tr>\n      <th>3</th>\n      <td>Gordon Ramsay's roast turkey crown</td>\n      <td>120</td>\n      <td>8 serving(s)</td>\n      <td>['125g/4½oz pack unsalted butter, softened', '...</td>\n      <td>Pre-heat the oven to 200C/180C Fan/Gas 6.\\nFor...</td>\n      <td>https://ichef.bbci.co.uk/food/ic/food_16x9_832...</td>\n    </tr>\n    <tr>\n      <th>4</th>\n      <td>Roast turkey crown</td>\n      <td>180</td>\n      <td>8 serving(s)</td>\n      <td>['1 turkey breast crown (a wingless, legless t...</td>\n      <td>Preheat the oven to 220C/200C Fan/Gas 7.\\nRub ...</td>\n      <td>https://ichef.bbci.co.uk/food/ic/food_16x9_832...</td>\n    </tr>\n    <tr>\n      <th>5</th>\n      <td>Roast turkey roll</td>\n      <td>150</td>\n      <td>8 serving(s)</td>\n      <td>['100g/3½oz pork scratchings', '100g/3½oz sour...</td>\n      <td>For the crumble topping, crush the pork scratc...</td>\n      <td>https://ichef.bbci.co.uk/food/ic/food_16x9_832...</td>\n    </tr>\n    <tr>\n      <th>6</th>\n      <td>Roast turkey and stuffing</td>\n      <td>150</td>\n      <td>12 serving(s)</td>\n      <td>['4.5-5.5kg/10-12lb whole turkey, with giblets...</td>\n      <td>For the stock, put the giblets, onion, carrot,...</td>\n      <td>https://ichef.bbci.co.uk/food/ic/food_16x9_832...</td>\n    </tr>\n    <tr>\n      <th>7</th>\n      <td>Perfect roast chicken dinner</td>\n      <td>150</td>\n      <td>4 serving(s)</td>\n      <td>['500ml/18fl oz milk', '75g/2½oz butter', '8 c...</td>\n      <td>For the bread sauce, heat together the first e...</td>\n      <td>https://ichef.bbci.co.uk/food/ic/food_16x9_832...</td>\n    </tr>\n    <tr>\n      <th>8</th>\n      <td>Venison Wellington with caramelised onions and...</td>\n      <td>120</td>\n      <td>6 serving(s)</td>\n      <td>['1 tbsp olive oil', '750g/1lb 10oz venison fi...</td>\n      <td>Heat the oil in a large frying pan over a high...</td>\n      <td>https://ichef.bbci.co.uk/food/ic/food_16x9_832...</td>\n    </tr>\n    <tr>\n      <th>9</th>\n      <td>Roast beef</td>\n      <td>120</td>\n      <td>6 serving(s)</td>\n      <td>['225g/8oz plain flour', '8 free-range eggs', ...</td>\n      <td>For the Yorkshire puddings, put the flour in a...</td>\n      <td>https://ichef.bbci.co.uk/food/ic/food_16x9_832...</td>\n    </tr>\n    <tr>\n      <th>10</th>\n      <td>The ultimate Christmas roast beef</td>\n      <td>120</td>\n      <td>8 serving(s)</td>\n      <td>['225g/8oz plain flour', '8 free-range eggs', ...</td>\n      <td>First prepare the Yorkshire pudding batter. Po...</td>\n      <td>https://ichef.bbci.co.uk/food/ic/food_16x9_832...</td>\n    </tr>\n    <tr>\n      <th>11</th>\n      <td>Beef Wellington</td>\n      <td>120</td>\n      <td>8 serving(s)</td>\n      <td>['1.3kg/2lb 14oz middle-cut fillet of beef', '...</td>\n      <td>Preheat the oven to 220C/200C Fan/Gas 7.\\nSeas...</td>\n      <td>https://ichef.bbci.co.uk/food/ic/food_16x9_832...</td>\n    </tr>\n    <tr>\n      <th>12</th>\n      <td>Roast pork belly with apple bread sauce and ri...</td>\n      <td>150</td>\n      <td>6 serving(s)</td>\n      <td>['1.8kg/4lb pork belly', '4 tbsp sea salt flak...</td>\n      <td>Preheat the oven to 230C/210C fan/Gas 8.\\nFor ...</td>\n      <td>https://ichef.bbci.co.uk/food/ic/food_16x9_832...</td>\n    </tr>\n    <tr>\n      <th>13</th>\n      <td>Honey and marmalade-glazed gammon joint</td>\n      <td>150</td>\n      <td>20 serving(s)</td>\n      <td>['6kg/13lb 3½oz gammon joint', 'fresh orange j...</td>\n      <td>For the gammon, place the gammon into a large,...</td>\n      <td>https://ichef.bbci.co.uk/food/ic/food_16x9_832...</td>\n    </tr>\n    <tr>\n      <th>14</th>\n      <td>Honey-glazed gammon</td>\n      <td>150</td>\n      <td>10 serving(s)</td>\n      <td>['2kg/4lb 8oz unsmoked boneless gammon joint, ...</td>\n      <td>Place the gammon joint into a large lidded sau...</td>\n      <td>https://ichef.bbci.co.uk/food/ic/food_16x9_832...</td>\n    </tr>\n    <tr>\n      <th>15</th>\n      <td>Slow cooked gammon with mustard sauce</td>\n      <td>150</td>\n      <td>12 serving(s)</td>\n      <td>['3kg/6lb 8oz unsmoked gammon joint, off the b...</td>\n      <td>Preheat the oven to 160C/140C Fan/Gas 3.\\nTo m...</td>\n      <td>https://ichef.bbci.co.uk/food/ic/food_16x9_832...</td>\n    </tr>\n    <tr>\n      <th>16</th>\n      <td>Christmas roast duck</td>\n      <td>180</td>\n      <td>6 serving(s)</td>\n      <td>['1.5kg/3lb 5oz potatoes, peeled and thinly sl...</td>\n      <td>Arrange the shelves of your oven so that there...</td>\n      <td>https://ichef.bbci.co.uk/food/ic/food_16x9_832...</td>\n    </tr>\n    <tr>\n      <th>17</th>\n      <td>Roast goose</td>\n      <td>150</td>\n      <td>6 serving(s)</td>\n      <td>['1 x 5kg/11lb oven-ready goose', '1 onion, pe...</td>\n      <td>Preheat the oven to 200C/180C Fan/Gas 6.\\nPlac...</td>\n      <td>https://ichef.bbci.co.uk/food/ic/food_16x9_832...</td>\n    </tr>\n    <tr>\n      <th>18</th>\n      <td>Porchetta</td>\n      <td>120</td>\n      <td>6 serving(s)</td>\n      <td>['3 tbsp finely chopped rosemary', 'sprig thym...</td>\n      <td>For the paste filling, either put all the ingr...</td>\n      <td>https://ichef.bbci.co.uk/food/ic/food_16x9_832...</td>\n    </tr>\n    <tr>\n      <th>19</th>\n      <td>Salmon en croûte</td>\n      <td>60</td>\n      <td>12 serving(s)</td>\n      <td>['2 medium cucumbers, peeled', '5 tbsp Dijon m...</td>\n      <td>Preheat the oven to 180C/350F/Gas 4. Line a la...</td>\n      <td>https://ichef.bbci.co.uk/food/ic/food_16x9_832...</td>\n    </tr>\n    <tr>\n      <th>20</th>\n      <td>Christmas nut roast with mushroom gravy</td>\n      <td>30</td>\n      <td>8 serving(s)</td>\n      <td>['300g/10½oz spinach or chard leaves', '50g/1¾...</td>\n      <td>Preheat the oven to 200C/180C Fan/Gas 6. Line ...</td>\n      <td>https://ichef.bbci.co.uk/food/ic/food_16x9_832...</td>\n    </tr>\n    <tr>\n      <th>21</th>\n      <td>Vegetarian nut roast pie with cranberries</td>\n      <td>60</td>\n      <td>10 serving(s)</td>\n      <td>['drizzle olive oil', '4 leeks, finely sliced'...</td>\n      <td>Preheat the oven to 200C/400F/Gas 6 and grease...</td>\n      <td>https://ichef.bbci.co.uk/food/ic/food_16x9_832...</td>\n    </tr>\n    <tr>\n      <th>22</th>\n      <td>Easy nut roast</td>\n      <td>30</td>\n      <td>10 serving(s)</td>\n      <td>['butter, for greasing and frying', '2 tbsp oi...</td>\n      <td>Pre-heat the oven to 180C/160C Fan/Gas 4. Butt...</td>\n      <td>https://ichef.bbci.co.uk/food/ic/food_16x9_832...</td>\n    </tr>\n    <tr>\n      <th>23</th>\n      <td>Baked stuffed aubergine with walnut and Roquefort</td>\n      <td>60</td>\n      <td>8 serving(s)</td>\n      <td>['4 large aubergines', '2 garlic cloves, chopp...</td>\n      <td>Preheat the oven to 200C/440F/Gas 6.\\nCut the ...</td>\n      <td>https://ichef.bbci.co.uk/food/ic/food_16x9_832...</td>\n    </tr>\n    <tr>\n      <th>24</th>\n      <td>Brussels sprouts with pancetta</td>\n      <td>30</td>\n      <td>8 serving(s)</td>\n      <td>['salt', '900g/2lb 4oz Brussels sprouts, trimm...</td>\n      <td>Bring a saucepan of salted water to the boil a...</td>\n      <td>https://ichef.bbci.co.uk/food/ic/food_16x9_832...</td>\n    </tr>\n    <tr>\n      <th>25</th>\n      <td>Best roast potatoes</td>\n      <td>60</td>\n      <td>8 serving(s)</td>\n      <td>['10 large King Edward potatoes, peeled, cut i...</td>\n      <td>Preheat the oven to 200C/180C Fan/Gas 6.\\nSimm...</td>\n      <td>https://ichef.bbci.co.uk/food/ic/food_16x9_832...</td>\n    </tr>\n    <tr>\n      <th>26</th>\n      <td>Christmas carrots</td>\n      <td>30</td>\n      <td>4 serving(s)</td>\n      <td>['9 medium carrots, peeled, topped and tailed'...</td>\n      <td>Use a clean scourer to smooth the carrots and ...</td>\n      <td>https://ichef.bbci.co.uk/food/ic/food_16x9_832...</td>\n    </tr>\n    <tr>\n      <th>27</th>\n      <td>Christmas red cabbage</td>\n      <td>60</td>\n      <td>4 serving(s)</td>\n      <td>['1 tbsp walnut oil', '15g/½oz butter', '2 red...</td>\n      <td>Heat the oil and butter in a large heavy-based...</td>\n      <td>https://ichef.bbci.co.uk/food/ic/food_16x9_832...</td>\n    </tr>\n    <tr>\n      <th>28</th>\n      <td>Mary Berry's Christmas stuffing</td>\n      <td>30</td>\n      <td>16 item(s)</td>\n      <td>['40g/1½oz butter, plus extra for greasing', '...</td>\n      <td>Melt the butter in a saucepan over a medium he...</td>\n      <td>https://ichef.bbci.co.uk/food/ic/food_16x9_832...</td>\n    </tr>\n    <tr>\n      <th>29</th>\n      <td>Pigs in blankets</td>\n      <td>30</td>\n      <td>8 serving(s)</td>\n      <td>['8 thin slices streaky bacon', '16 chipolata ...</td>\n      <td>Preheat the oven to 200C/180C Fan/Gas 6.\\nPlac...</td>\n      <td>https://ichef.bbci.co.uk/food/ic/food_16x9_832...</td>\n    </tr>\n    <tr>\n      <th>30</th>\n      <td>Honey roast carrots</td>\n      <td>60</td>\n      <td>6 serving(s)</td>\n      <td>['1 kg/2lb 4oz small carrots, such as Chantena...</td>\n      <td>Preheat the oven to 200C/ 180C Fan/Gas 6. Trim...</td>\n      <td>https://ichef.bbci.co.uk/food/ic/food_16x9_832...</td>\n    </tr>\n    <tr>\n      <th>31</th>\n      <td>Creamy Brussels sprouts</td>\n      <td>30</td>\n      <td>6 serving(s)</td>\n      <td>['500g/1lb 2oz Brussels sprouts, trimmed and h...</td>\n      <td>Half-fill a medium saucepan with water and bri...</td>\n      <td>https://ichef.bbci.co.uk/food/ic/food_16x9_832...</td>\n    </tr>\n    <tr>\n      <th>32</th>\n      <td>Make-ahead Christmas gravy</td>\n      <td>30</td>\n      <td>8 serving(s)</td>\n      <td>['1 tbsp light olive oil or vegetable oil', '3...</td>\n      <td>Preheat the oven to 200C/180C Fan/Gas 6.\\nMix ...</td>\n      <td>https://ichef.bbci.co.uk/food/ic/food_16x9_832...</td>\n    </tr>\n    <tr>\n      <th>33</th>\n      <td>Braised red cabbage</td>\n      <td>30</td>\n      <td>8 serving(s)</td>\n      <td>['1 red cabbage, quartered, cored and sliced',...</td>\n      <td>Preheat the oven to 170C/150C Fan/Gas 3.\\nMix ...</td>\n      <td>https://ichef.bbci.co.uk/food/ic/food_16x9_832...</td>\n    </tr>\n    <tr>\n      <th>34</th>\n      <td>Perfect roast potatoes</td>\n      <td>60</td>\n      <td>8 serving(s)</td>\n      <td>['5 tbsp duck fat', '16 medium-sized Maris Pip...</td>\n      <td>Preheat the oven to 190C/170C Fan/Gas 5.\\nParb...</td>\n      <td>https://ichef.bbci.co.uk/food/ic/food_16x9_832...</td>\n    </tr>\n    <tr>\n      <th>35</th>\n      <td>Chestnut stuffing</td>\n      <td>30</td>\n      <td>6 serving(s)</td>\n      <td>['1 large onion, coarsely chopped', '225g/8oz ...</td>\n      <td>Preheat oven 200C/400F/Gas 6. Butter a shallow...</td>\n      <td>https://ichef.bbci.co.uk/food/ic/food_16x9_832...</td>\n    </tr>\n    <tr>\n      <th>36</th>\n      <td>Maple-roast parsnips</td>\n      <td>60</td>\n      <td>8 serving(s)</td>\n      <td>['1kg/2¼lb parsnips', '125ml/4fl oz vegetable ...</td>\n      <td>Preheat the oven to 200C/180C Fan/Gas 6.\\nPeel...</td>\n      <td>https://ichef.bbci.co.uk/food/ic/food_16x9_832...</td>\n    </tr>\n    <tr>\n      <th>37</th>\n      <td>Hasselback potatoes with bacon</td>\n      <td>60</td>\n      <td>30 item(s)</td>\n      <td>['1kg/2lb 4oz small baby potatoes', '300g/10½o...</td>\n      <td>Preheat the oven to 200C/180C Fan/Gas 6\\nCut n...</td>\n      <td>https://ichef.bbci.co.uk/food/ic/food_16x9_832...</td>\n    </tr>\n    <tr>\n      <th>38</th>\n      <td>Sage and onion stuffing</td>\n      <td>60</td>\n      <td>6 serving(s)</td>\n      <td>['1 onion, peeled and finely chopped', '1 tbsp...</td>\n      <td>Sweat the onion in the oil, until soft but not...</td>\n      <td>https://ichef.bbci.co.uk/food/ic/food_16x9_832...</td>\n    </tr>\n    <tr>\n      <th>39</th>\n      <td>Sticky cranberry sausages</td>\n      <td>30</td>\n      <td>10 serving(s)</td>\n      <td>['2 red onions, sliced', '2 tbsp olive oil', '...</td>\n      <td>Fry the sliced red onions in a pan with the oi...</td>\n      <td>https://ichef.bbci.co.uk/food/ic/food_16x9_832...</td>\n    </tr>\n    <tr>\n      <th>40</th>\n      <td>Easy bread sauce</td>\n      <td>30</td>\n      <td>8 serving(s)</td>\n      <td>['1 large onion, peeled', '6 cloves', '1 bay l...</td>\n      <td>Press all the cloves into the whole peeled oni...</td>\n      <td>https://ichef.bbci.co.uk/food/ic/food_16x9_832...</td>\n    </tr>\n    <tr>\n      <th>41</th>\n      <td>Slow cooker honey roast ham</td>\n      <td>150</td>\n      <td>10 serving(s)</td>\n      <td>['1.6kg/3lb 8oz boneless, rolled smoked or uns...</td>\n      <td>Put the gammon, onion and 100ml/3½fl oz water ...</td>\n      <td>https://ichef.bbci.co.uk/food/ic/food_16x9_832...</td>\n    </tr>\n  </tbody>\n</table>\n</div>"
     },
     "execution_count": 4,
     "metadata": {},
     "output_type": "execute_result"
    }
   ],
   "source": [
    "# прочитаем какой-нибудь .csv файл методом pd.read_csv()\n",
    "\n",
    "recipes = pd.read_csv(\"./christmas_recipes.csv\")\n",
    "recipes"
   ]
  },
  {
   "cell_type": "markdown",
   "metadata": {},
   "source": [
    "### Как посмотреть на часть датафрейма\n",
    "\n",
    "понадобятся методы ```.head()```, ```.tail()``` или индексация"
   ]
  },
  {
   "cell_type": "code",
   "execution_count": 5,
   "metadata": {
    "collapsed": true,
    "jupyter": {
     "outputs_hidden": true
    },
    "tags": []
   },
   "outputs": [
    {
     "data": {
      "text/plain": "                                             Title  Time       Servings  \\\n0                             Perfect roast turkey   180  10 serving(s)   \n1                      Stuffed roast turkey breast   180   8 serving(s)   \n2  Nigella's turkey breast with Christmas stuffing   150  12 serving(s)   \n\n                                         Ingredients  \\\n0  ['20ml/¾fl oz rapeseed oil', '1 x 5kg/11lb goo...   \n1  ['1 tbsp sunflower oil', '1 onion, finely chop...   \n2  ['100g/3½oz dried cranberries', '100ml/3½fl oz...   \n\n                                        Instructions  \\\n0  Remove the turkey from the fridge and bring to...   \n1  To make the stuffing, heat the oil and gently ...   \n2  Put the cranberries and Marsala into a small s...   \n\n                                               Image  \n0  https://ichef.bbci.co.uk/food/ic/food_16x9_832...  \n1  https://ichef.bbci.co.uk/food/ic/food_16x9_832...  \n2  https://ichef.bbci.co.uk/food/ic/food_16x9_832...  ",
      "text/html": "<div>\n<style scoped>\n    .dataframe tbody tr th:only-of-type {\n        vertical-align: middle;\n    }\n\n    .dataframe tbody tr th {\n        vertical-align: top;\n    }\n\n    .dataframe thead th {\n        text-align: right;\n    }\n</style>\n<table border=\"1\" class=\"dataframe\">\n  <thead>\n    <tr style=\"text-align: right;\">\n      <th></th>\n      <th>Title</th>\n      <th>Time</th>\n      <th>Servings</th>\n      <th>Ingredients</th>\n      <th>Instructions</th>\n      <th>Image</th>\n    </tr>\n  </thead>\n  <tbody>\n    <tr>\n      <th>0</th>\n      <td>Perfect roast turkey</td>\n      <td>180</td>\n      <td>10 serving(s)</td>\n      <td>['20ml/¾fl oz rapeseed oil', '1 x 5kg/11lb goo...</td>\n      <td>Remove the turkey from the fridge and bring to...</td>\n      <td>https://ichef.bbci.co.uk/food/ic/food_16x9_832...</td>\n    </tr>\n    <tr>\n      <th>1</th>\n      <td>Stuffed roast turkey breast</td>\n      <td>180</td>\n      <td>8 serving(s)</td>\n      <td>['1 tbsp sunflower oil', '1 onion, finely chop...</td>\n      <td>To make the stuffing, heat the oil and gently ...</td>\n      <td>https://ichef.bbci.co.uk/food/ic/food_16x9_832...</td>\n    </tr>\n    <tr>\n      <th>2</th>\n      <td>Nigella's turkey breast with Christmas stuffing</td>\n      <td>150</td>\n      <td>12 serving(s)</td>\n      <td>['100g/3½oz dried cranberries', '100ml/3½fl oz...</td>\n      <td>Put the cranberries and Marsala into a small s...</td>\n      <td>https://ichef.bbci.co.uk/food/ic/food_16x9_832...</td>\n    </tr>\n  </tbody>\n</table>\n</div>"
     },
     "execution_count": 5,
     "metadata": {},
     "output_type": "execute_result"
    }
   ],
   "source": [
    "# первые строки\n",
    "recipes.head(3)"
   ]
  },
  {
   "cell_type": "code",
   "execution_count": 6,
   "metadata": {
    "collapsed": true,
    "jupyter": {
     "outputs_hidden": true
    },
    "tags": []
   },
   "outputs": [
    {
     "data": {
      "text/plain": "                          Title  Time       Servings  \\\n39    Sticky cranberry sausages    30  10 serving(s)   \n40             Easy bread sauce    30   8 serving(s)   \n41  Slow cooker honey roast ham   150  10 serving(s)   \n\n                                          Ingredients  \\\n39  ['2 red onions, sliced', '2 tbsp olive oil', '...   \n40  ['1 large onion, peeled', '6 cloves', '1 bay l...   \n41  ['1.6kg/3lb 8oz boneless, rolled smoked or uns...   \n\n                                         Instructions  \\\n39  Fry the sliced red onions in a pan with the oi...   \n40  Press all the cloves into the whole peeled oni...   \n41  Put the gammon, onion and 100ml/3½fl oz water ...   \n\n                                                Image  \n39  https://ichef.bbci.co.uk/food/ic/food_16x9_832...  \n40  https://ichef.bbci.co.uk/food/ic/food_16x9_832...  \n41  https://ichef.bbci.co.uk/food/ic/food_16x9_832...  ",
      "text/html": "<div>\n<style scoped>\n    .dataframe tbody tr th:only-of-type {\n        vertical-align: middle;\n    }\n\n    .dataframe tbody tr th {\n        vertical-align: top;\n    }\n\n    .dataframe thead th {\n        text-align: right;\n    }\n</style>\n<table border=\"1\" class=\"dataframe\">\n  <thead>\n    <tr style=\"text-align: right;\">\n      <th></th>\n      <th>Title</th>\n      <th>Time</th>\n      <th>Servings</th>\n      <th>Ingredients</th>\n      <th>Instructions</th>\n      <th>Image</th>\n    </tr>\n  </thead>\n  <tbody>\n    <tr>\n      <th>39</th>\n      <td>Sticky cranberry sausages</td>\n      <td>30</td>\n      <td>10 serving(s)</td>\n      <td>['2 red onions, sliced', '2 tbsp olive oil', '...</td>\n      <td>Fry the sliced red onions in a pan with the oi...</td>\n      <td>https://ichef.bbci.co.uk/food/ic/food_16x9_832...</td>\n    </tr>\n    <tr>\n      <th>40</th>\n      <td>Easy bread sauce</td>\n      <td>30</td>\n      <td>8 serving(s)</td>\n      <td>['1 large onion, peeled', '6 cloves', '1 bay l...</td>\n      <td>Press all the cloves into the whole peeled oni...</td>\n      <td>https://ichef.bbci.co.uk/food/ic/food_16x9_832...</td>\n    </tr>\n    <tr>\n      <th>41</th>\n      <td>Slow cooker honey roast ham</td>\n      <td>150</td>\n      <td>10 serving(s)</td>\n      <td>['1.6kg/3lb 8oz boneless, rolled smoked or uns...</td>\n      <td>Put the gammon, onion and 100ml/3½fl oz water ...</td>\n      <td>https://ichef.bbci.co.uk/food/ic/food_16x9_832...</td>\n    </tr>\n  </tbody>\n</table>\n</div>"
     },
     "execution_count": 6,
     "metadata": {},
     "output_type": "execute_result"
    }
   ],
   "source": [
    "# последние строки\n",
    "recipes.tail(3)"
   ]
  },
  {
   "cell_type": "code",
   "execution_count": 7,
   "metadata": {
    "collapsed": true,
    "jupyter": {
     "outputs_hidden": true
    },
    "tags": []
   },
   "outputs": [
    {
     "data": {
      "text/plain": "                                                Title  Time       Servings  \\\n12  Roast pork belly with apple bread sauce and ri...   150   6 serving(s)   \n13            Honey and marmalade-glazed gammon joint   150  20 serving(s)   \n14                                Honey-glazed gammon   150  10 serving(s)   \n\n                                          Ingredients  \\\n12  ['1.8kg/4lb pork belly', '4 tbsp sea salt flak...   \n13  ['6kg/13lb 3½oz gammon joint', 'fresh orange j...   \n14  ['2kg/4lb 8oz unsmoked boneless gammon joint, ...   \n\n                                         Instructions  \\\n12  Preheat the oven to 230C/210C fan/Gas 8.\\nFor ...   \n13  For the gammon, place the gammon into a large,...   \n14  Place the gammon joint into a large lidded sau...   \n\n                                                Image  \n12  https://ichef.bbci.co.uk/food/ic/food_16x9_832...  \n13  https://ichef.bbci.co.uk/food/ic/food_16x9_832...  \n14  https://ichef.bbci.co.uk/food/ic/food_16x9_832...  ",
      "text/html": "<div>\n<style scoped>\n    .dataframe tbody tr th:only-of-type {\n        vertical-align: middle;\n    }\n\n    .dataframe tbody tr th {\n        vertical-align: top;\n    }\n\n    .dataframe thead th {\n        text-align: right;\n    }\n</style>\n<table border=\"1\" class=\"dataframe\">\n  <thead>\n    <tr style=\"text-align: right;\">\n      <th></th>\n      <th>Title</th>\n      <th>Time</th>\n      <th>Servings</th>\n      <th>Ingredients</th>\n      <th>Instructions</th>\n      <th>Image</th>\n    </tr>\n  </thead>\n  <tbody>\n    <tr>\n      <th>12</th>\n      <td>Roast pork belly with apple bread sauce and ri...</td>\n      <td>150</td>\n      <td>6 serving(s)</td>\n      <td>['1.8kg/4lb pork belly', '4 tbsp sea salt flak...</td>\n      <td>Preheat the oven to 230C/210C fan/Gas 8.\\nFor ...</td>\n      <td>https://ichef.bbci.co.uk/food/ic/food_16x9_832...</td>\n    </tr>\n    <tr>\n      <th>13</th>\n      <td>Honey and marmalade-glazed gammon joint</td>\n      <td>150</td>\n      <td>20 serving(s)</td>\n      <td>['6kg/13lb 3½oz gammon joint', 'fresh orange j...</td>\n      <td>For the gammon, place the gammon into a large,...</td>\n      <td>https://ichef.bbci.co.uk/food/ic/food_16x9_832...</td>\n    </tr>\n    <tr>\n      <th>14</th>\n      <td>Honey-glazed gammon</td>\n      <td>150</td>\n      <td>10 serving(s)</td>\n      <td>['2kg/4lb 8oz unsmoked boneless gammon joint, ...</td>\n      <td>Place the gammon joint into a large lidded sau...</td>\n      <td>https://ichef.bbci.co.uk/food/ic/food_16x9_832...</td>\n    </tr>\n  </tbody>\n</table>\n</div>"
     },
     "execution_count": 7,
     "metadata": {},
     "output_type": "execute_result"
    }
   ],
   "source": [
    "# часть датафрейма по  индексам строчек\n",
    "recipes[12:15] "
   ]
  },
  {
   "cell_type": "markdown",
   "metadata": {
    "jp-MarkdownHeadingCollapsed": true,
    "tags": []
   },
   "source": [
    "# Характеристики датафрейма"
   ]
  },
  {
   "cell_type": "code",
   "execution_count": 8,
   "metadata": {
    "colab": {
     "base_uri": "https://localhost:8080/",
     "height": 34
    },
    "colab_type": "code",
    "id": "JdqZWwligQB8",
    "outputId": "20ce9fe4-9483-4706-8796-55bde062142e"
   },
   "outputs": [
    {
     "data": {
      "text/plain": "(7, 2)"
     },
     "execution_count": 8,
     "metadata": {},
     "output_type": "execute_result"
    }
   ],
   "source": [
    "#размеры датафрейма\n",
    "postcards.shape "
   ]
  },
  {
   "cell_type": "code",
   "execution_count": 10,
   "metadata": {},
   "outputs": [
    {
     "name": "stdout",
     "output_type": "stream",
     "text": [
      "<class 'pandas.core.frame.DataFrame'>\n",
      "Index: 7 entries, Maria to Julia\n",
      "Data columns (total 2 columns):\n",
      " #   Column  Non-Null Count  Dtype \n",
      "---  ------  --------------  ----- \n",
      " 0   city    7 non-null      object\n",
      " 1   age     7 non-null      int64 \n",
      "dtypes: int64(1), object(1)\n",
      "memory usage: 168.0+ bytes\n"
     ]
    }
   ],
   "source": [
    "# описание датафрейма\n",
    "postcards.info()"
   ]
  },
  {
   "cell_type": "code",
   "execution_count": 11,
   "metadata": {},
   "outputs": [],
   "source": [
    "# изменим тип колонки age на числовой\n",
    "postcards.age = postcards.age.astype(\"int64\")"
   ]
  },
  {
   "cell_type": "markdown",
   "metadata": {},
   "source": [
    "### Как посмотреть, где живет конкретный человек?\n",
    "\n",
    "Чтобы найти нужную строку, нам нужны индексы. У датафрейма есть две оси: по строкам(нулевая, она же  index) и столбцам(первая, она же columns)\n"
   ]
  },
  {
   "cell_type": "code",
   "execution_count": 28,
   "metadata": {},
   "outputs": [
    {
     "data": {
      "text/plain": "Index(['Maria', 'Lorenzo', 'Oleg', 'Hans', 'Mark', 'Alex', 'Julia'], dtype='object')"
     },
     "execution_count": 28,
     "metadata": {},
     "output_type": "execute_result"
    }
   ],
   "source": [
    "postcards.index"
   ]
  },
  {
   "cell_type": "code",
   "execution_count": 29,
   "outputs": [
    {
     "data": {
      "text/plain": "Index(['city', 'age'], dtype='object')"
     },
     "execution_count": 29,
     "metadata": {},
     "output_type": "execute_result"
    }
   ],
   "source": [
    "postcards.columns"
   ],
   "metadata": {
    "collapsed": false,
    "pycharm": {
     "name": "#%%\n"
    }
   }
  },
  {
   "cell_type": "code",
   "execution_count": 30,
   "metadata": {
    "colab": {
     "base_uri": "https://localhost:8080/",
     "height": 34
    },
    "colab_type": "code",
    "id": "eIGCunCwro1O",
    "outputId": "48de43dc-2d4b-47ec-d416-da3d6cad8f42"
   },
   "outputs": [
    {
     "data": {
      "text/plain": "37"
     },
     "metadata": {},
     "output_type": "display_data"
    }
   ],
   "source": [
    "from IPython.core.display import display\n",
    "\n",
    "# пересечение индексов выдаст конкретную ячейку: ищем где живет Мария\n",
    "\n",
    "display(postcards.loc['Maria']['age'])\n"
   ]
  },
  {
   "cell_type": "markdown",
   "metadata": {},
   "source": [
    "**Получить строку по индексу** можно сделать двумя способами:\n",
    "\n",
    "- именной индекс, по \"названию\" строки в колонке \"Index\", (первая колонка датафрейма, у нас это имена людей)\n",
    "- порядковый индекс, по номеру строки в датафрейме (нумерация с 0)\n",
    "\n",
    "Для именного поиска понадобится метод ```.loc[]```, для порядкового -- ```.iloc[]```"
   ]
  },
  {
   "cell_type": "code",
   "execution_count": 17,
   "metadata": {},
   "outputs": [
    {
     "data": {
      "text/plain": "city    Murmansk\nage           43\nName: Julia, dtype: object"
     },
     "execution_count": 17,
     "metadata": {},
     "output_type": "execute_result"
    }
   ],
   "source": [
    "postcards\n",
    "# postcards.iloc[3]\n",
    "\n",
    "postcards.loc[\"Julia\"]"
   ]
  },
  {
   "cell_type": "markdown",
   "metadata": {},
   "source": [
    "**Указав название колонки**,  можно аналогично посмотреть все значения в ней"
   ]
  },
  {
   "cell_type": "code",
   "execution_count": 18,
   "metadata": {},
   "outputs": [
    {
     "data": {
      "text/plain": "Maria        London\nLorenzo       Milan\nOleg       Canberra\nHans        Calgary\nMark          Milan\nAlex         Krakow\nJulia      Murmansk\nName: city, dtype: object"
     },
     "execution_count": 18,
     "metadata": {},
     "output_type": "execute_result"
    }
   ],
   "source": [
    "postcards[\"city\"]"
   ]
  },
  {
   "cell_type": "code",
   "execution_count": 62,
   "outputs": [
    {
     "data": {
      "text/plain": "             city  age\nMaria      London   37\nLorenzo     Milan   28\nOleg     Canberra   31\nHans      Calgary   80\nMark        Milan   55\nAlex       Krakow   35\nJulia    Murmansk   43",
      "text/html": "<div>\n<style scoped>\n    .dataframe tbody tr th:only-of-type {\n        vertical-align: middle;\n    }\n\n    .dataframe tbody tr th {\n        vertical-align: top;\n    }\n\n    .dataframe thead th {\n        text-align: right;\n    }\n</style>\n<table border=\"1\" class=\"dataframe\">\n  <thead>\n    <tr style=\"text-align: right;\">\n      <th></th>\n      <th>city</th>\n      <th>age</th>\n    </tr>\n  </thead>\n  <tbody>\n    <tr>\n      <th>Maria</th>\n      <td>London</td>\n      <td>37</td>\n    </tr>\n    <tr>\n      <th>Lorenzo</th>\n      <td>Milan</td>\n      <td>28</td>\n    </tr>\n    <tr>\n      <th>Oleg</th>\n      <td>Canberra</td>\n      <td>31</td>\n    </tr>\n    <tr>\n      <th>Hans</th>\n      <td>Calgary</td>\n      <td>80</td>\n    </tr>\n    <tr>\n      <th>Mark</th>\n      <td>Milan</td>\n      <td>55</td>\n    </tr>\n    <tr>\n      <th>Alex</th>\n      <td>Krakow</td>\n      <td>35</td>\n    </tr>\n    <tr>\n      <th>Julia</th>\n      <td>Murmansk</td>\n      <td>43</td>\n    </tr>\n  </tbody>\n</table>\n</div>"
     },
     "execution_count": 62,
     "metadata": {},
     "output_type": "execute_result"
    }
   ],
   "source": [
    "postcards"
   ],
   "metadata": {
    "collapsed": false,
    "pycharm": {
     "name": "#%%\n"
    }
   }
  },
  {
   "cell_type": "markdown",
   "metadata": {
    "jp-MarkdownHeadingCollapsed": true,
    "tags": []
   },
   "source": [
    "# Операции с датафреймами"
   ]
  },
  {
   "cell_type": "markdown",
   "metadata": {
    "tags": []
   },
   "source": [
    "### Добавление колонок и строк в датафрейм"
   ]
  },
  {
   "cell_type": "markdown",
   "metadata": {
    "colab_type": "text",
    "id": "6xG3z4Vov0Lq"
   },
   "source": [
    "В датафрейм можно добавить новые колонки: понадобится метод ```.assign()```"
   ]
  },
  {
   "cell_type": "code",
   "execution_count": 74,
   "metadata": {
    "colab": {
     "base_uri": "https://localhost:8080/",
     "height": 166
    },
    "colab_type": "code",
    "id": "q68INlyOv3wA",
    "outputId": "0609deea-e988-4368-dd64-355ebd87531c"
   },
   "outputs": [
    {
     "data": {
      "text/plain": "             city  age       job\nMaria      London   37    Artist\nLorenzo     Milan   28   Teacher\nOleg     Canberra   31      Chef\nHans      Calgary   80    Artist\nMark        Milan   55   Manager\nAlex       Krakow   35      Chef\nJulia    Murmansk   43  Engineer",
      "text/html": "<div>\n<style scoped>\n    .dataframe tbody tr th:only-of-type {\n        vertical-align: middle;\n    }\n\n    .dataframe tbody tr th {\n        vertical-align: top;\n    }\n\n    .dataframe thead th {\n        text-align: right;\n    }\n</style>\n<table border=\"1\" class=\"dataframe\">\n  <thead>\n    <tr style=\"text-align: right;\">\n      <th></th>\n      <th>city</th>\n      <th>age</th>\n      <th>job</th>\n    </tr>\n  </thead>\n  <tbody>\n    <tr>\n      <th>Maria</th>\n      <td>London</td>\n      <td>37</td>\n      <td>Artist</td>\n    </tr>\n    <tr>\n      <th>Lorenzo</th>\n      <td>Milan</td>\n      <td>28</td>\n      <td>Teacher</td>\n    </tr>\n    <tr>\n      <th>Oleg</th>\n      <td>Canberra</td>\n      <td>31</td>\n      <td>Chef</td>\n    </tr>\n    <tr>\n      <th>Hans</th>\n      <td>Calgary</td>\n      <td>80</td>\n      <td>Artist</td>\n    </tr>\n    <tr>\n      <th>Mark</th>\n      <td>Milan</td>\n      <td>55</td>\n      <td>Manager</td>\n    </tr>\n    <tr>\n      <th>Alex</th>\n      <td>Krakow</td>\n      <td>35</td>\n      <td>Chef</td>\n    </tr>\n    <tr>\n      <th>Julia</th>\n      <td>Murmansk</td>\n      <td>43</td>\n      <td>Engineer</td>\n    </tr>\n  </tbody>\n</table>\n</div>"
     },
     "metadata": {},
     "output_type": "display_data"
    }
   ],
   "source": [
    "postcards = postcards.assign(job=['Artist',\"Teacher\",\"Chef\",\"Artist\",\"Manager\",\"Chef\",\"Engineer\"])\n",
    "\n",
    "display(postcards)"
   ]
  },
  {
   "cell_type": "markdown",
   "metadata": {
    "colab_type": "text",
    "id": "8wI7nnyOx8kt"
   },
   "source": [
    "Добавить строки тоже можно: методом ```.append()```"
   ]
  },
  {
   "cell_type": "code",
   "execution_count": 75,
   "metadata": {
    "colab": {},
    "colab_type": "code",
    "id": "nWBEDV_X0rVB"
   },
   "outputs": [
    {
     "data": {
      "text/plain": "      city age       job\nAlice   NY  36  Engineer",
      "text/html": "<div>\n<style scoped>\n    .dataframe tbody tr th:only-of-type {\n        vertical-align: middle;\n    }\n\n    .dataframe tbody tr th {\n        vertical-align: top;\n    }\n\n    .dataframe thead th {\n        text-align: right;\n    }\n</style>\n<table border=\"1\" class=\"dataframe\">\n  <thead>\n    <tr style=\"text-align: right;\">\n      <th></th>\n      <th>city</th>\n      <th>age</th>\n      <th>job</th>\n    </tr>\n  </thead>\n  <tbody>\n    <tr>\n      <th>Alice</th>\n      <td>NY</td>\n      <td>36</td>\n      <td>Engineer</td>\n    </tr>\n  </tbody>\n</table>\n</div>"
     },
     "execution_count": 75,
     "metadata": {},
     "output_type": "execute_result"
    }
   ],
   "source": [
    "df= pd.DataFrame.from_dict({\"Alice\":[\"NY\",\"36\",\"Engineer\"]},\n",
    "                           orient=\"index\",\n",
    "                           columns=postcards.columns)\n",
    "df"
   ]
  },
  {
   "cell_type": "code",
   "execution_count": 77,
   "metadata": {},
   "outputs": [
    {
     "data": {
      "text/plain": "             city age       job\nMaria      London  37    Artist\nLorenzo     Milan  28   Teacher\nOleg     Canberra  31      Chef\nHans      Calgary  80    Artist\nMark        Milan  55   Manager\nAlex       Krakow  35      Chef\nJulia    Murmansk  43  Engineer\nAlice          NY  36  Engineer\nAlice          NY  36  Engineer",
      "text/html": "<div>\n<style scoped>\n    .dataframe tbody tr th:only-of-type {\n        vertical-align: middle;\n    }\n\n    .dataframe tbody tr th {\n        vertical-align: top;\n    }\n\n    .dataframe thead th {\n        text-align: right;\n    }\n</style>\n<table border=\"1\" class=\"dataframe\">\n  <thead>\n    <tr style=\"text-align: right;\">\n      <th></th>\n      <th>city</th>\n      <th>age</th>\n      <th>job</th>\n    </tr>\n  </thead>\n  <tbody>\n    <tr>\n      <th>Maria</th>\n      <td>London</td>\n      <td>37</td>\n      <td>Artist</td>\n    </tr>\n    <tr>\n      <th>Lorenzo</th>\n      <td>Milan</td>\n      <td>28</td>\n      <td>Teacher</td>\n    </tr>\n    <tr>\n      <th>Oleg</th>\n      <td>Canberra</td>\n      <td>31</td>\n      <td>Chef</td>\n    </tr>\n    <tr>\n      <th>Hans</th>\n      <td>Calgary</td>\n      <td>80</td>\n      <td>Artist</td>\n    </tr>\n    <tr>\n      <th>Mark</th>\n      <td>Milan</td>\n      <td>55</td>\n      <td>Manager</td>\n    </tr>\n    <tr>\n      <th>Alex</th>\n      <td>Krakow</td>\n      <td>35</td>\n      <td>Chef</td>\n    </tr>\n    <tr>\n      <th>Julia</th>\n      <td>Murmansk</td>\n      <td>43</td>\n      <td>Engineer</td>\n    </tr>\n    <tr>\n      <th>Alice</th>\n      <td>NY</td>\n      <td>36</td>\n      <td>Engineer</td>\n    </tr>\n    <tr>\n      <th>Alice</th>\n      <td>NY</td>\n      <td>36</td>\n      <td>Engineer</td>\n    </tr>\n  </tbody>\n</table>\n</div>"
     },
     "execution_count": 77,
     "metadata": {},
     "output_type": "execute_result"
    }
   ],
   "source": [
    "# # шаг2 добавим новый df к старому\n",
    "postcards = postcards.append(df)\n",
    "postcards\n",
    "\n",
    "# что будет, если запустить .append() несколько раз?"
   ]
  },
  {
   "cell_type": "markdown",
   "metadata": {
    "colab_type": "text",
    "id": "ZESKs95y71Wy"
   },
   "source": [
    "### что делать, если добавились ненужные строки? "
   ]
  },
  {
   "cell_type": "code",
   "execution_count": 78,
   "metadata": {
    "colab": {
     "base_uri": "https://localhost:8080/",
     "height": 254
    },
    "colab_type": "code",
    "id": "hrM7ZOtz-f8J",
    "outputId": "07a24754-088b-4914-a717-622bec6e20d4"
   },
   "outputs": [
    {
     "data": {
      "text/plain": "             city age       job\nMaria      London  37    Artist\nLorenzo     Milan  28   Teacher\nOleg     Canberra  31      Chef\nHans      Calgary  80    Artist\nMark        Milan  55   Manager\nAlex       Krakow  35      Chef\nJulia    Murmansk  43  Engineer\nAlice          NY  36  Engineer\nAlice          NY  36  Engineer",
      "text/html": "<div>\n<style scoped>\n    .dataframe tbody tr th:only-of-type {\n        vertical-align: middle;\n    }\n\n    .dataframe tbody tr th {\n        vertical-align: top;\n    }\n\n    .dataframe thead th {\n        text-align: right;\n    }\n</style>\n<table border=\"1\" class=\"dataframe\">\n  <thead>\n    <tr style=\"text-align: right;\">\n      <th></th>\n      <th>city</th>\n      <th>age</th>\n      <th>job</th>\n    </tr>\n  </thead>\n  <tbody>\n    <tr>\n      <th>Maria</th>\n      <td>London</td>\n      <td>37</td>\n      <td>Artist</td>\n    </tr>\n    <tr>\n      <th>Lorenzo</th>\n      <td>Milan</td>\n      <td>28</td>\n      <td>Teacher</td>\n    </tr>\n    <tr>\n      <th>Oleg</th>\n      <td>Canberra</td>\n      <td>31</td>\n      <td>Chef</td>\n    </tr>\n    <tr>\n      <th>Hans</th>\n      <td>Calgary</td>\n      <td>80</td>\n      <td>Artist</td>\n    </tr>\n    <tr>\n      <th>Mark</th>\n      <td>Milan</td>\n      <td>55</td>\n      <td>Manager</td>\n    </tr>\n    <tr>\n      <th>Alex</th>\n      <td>Krakow</td>\n      <td>35</td>\n      <td>Chef</td>\n    </tr>\n    <tr>\n      <th>Julia</th>\n      <td>Murmansk</td>\n      <td>43</td>\n      <td>Engineer</td>\n    </tr>\n    <tr>\n      <th>Alice</th>\n      <td>NY</td>\n      <td>36</td>\n      <td>Engineer</td>\n    </tr>\n    <tr>\n      <th>Alice</th>\n      <td>NY</td>\n      <td>36</td>\n      <td>Engineer</td>\n    </tr>\n  </tbody>\n</table>\n</div>"
     },
     "execution_count": 78,
     "metadata": {},
     "output_type": "execute_result"
    }
   ],
   "source": [
    "postcards"
   ]
  },
  {
   "cell_type": "markdown",
   "metadata": {},
   "source": [
    "Если есть дубликаты уже существующих строк, понадобится метод ```.drop_duplicates()```"
   ]
  },
  {
   "cell_type": "code",
   "execution_count": 81,
   "metadata": {
    "colab": {},
    "colab_type": "code",
    "id": "WB8VMk5P6Kmy",
    "tags": []
   },
   "outputs": [],
   "source": [
    "postcards = postcards.drop_duplicates()"
   ]
  },
  {
   "cell_type": "code",
   "execution_count": 166,
   "outputs": [
    {
     "data": {
      "text/plain": "    name      city age       job\n0  Maria    London  37    Artist\n2   Oleg  Canberra  31      Chef\n3   Hans   Calgary  80    Artist\n4   Mark     Milan  55   Manager\n5   Alex    Krakow  35      Chef\n6  Julia  Murmansk  43  Engineer\n7  Alice        NY  36  Engineer",
      "text/html": "<div>\n<style scoped>\n    .dataframe tbody tr th:only-of-type {\n        vertical-align: middle;\n    }\n\n    .dataframe tbody tr th {\n        vertical-align: top;\n    }\n\n    .dataframe thead th {\n        text-align: right;\n    }\n</style>\n<table border=\"1\" class=\"dataframe\">\n  <thead>\n    <tr style=\"text-align: right;\">\n      <th></th>\n      <th>name</th>\n      <th>city</th>\n      <th>age</th>\n      <th>job</th>\n    </tr>\n  </thead>\n  <tbody>\n    <tr>\n      <th>0</th>\n      <td>Maria</td>\n      <td>London</td>\n      <td>37</td>\n      <td>Artist</td>\n    </tr>\n    <tr>\n      <th>2</th>\n      <td>Oleg</td>\n      <td>Canberra</td>\n      <td>31</td>\n      <td>Chef</td>\n    </tr>\n    <tr>\n      <th>3</th>\n      <td>Hans</td>\n      <td>Calgary</td>\n      <td>80</td>\n      <td>Artist</td>\n    </tr>\n    <tr>\n      <th>4</th>\n      <td>Mark</td>\n      <td>Milan</td>\n      <td>55</td>\n      <td>Manager</td>\n    </tr>\n    <tr>\n      <th>5</th>\n      <td>Alex</td>\n      <td>Krakow</td>\n      <td>35</td>\n      <td>Chef</td>\n    </tr>\n    <tr>\n      <th>6</th>\n      <td>Julia</td>\n      <td>Murmansk</td>\n      <td>43</td>\n      <td>Engineer</td>\n    </tr>\n    <tr>\n      <th>7</th>\n      <td>Alice</td>\n      <td>NY</td>\n      <td>36</td>\n      <td>Engineer</td>\n    </tr>\n  </tbody>\n</table>\n</div>"
     },
     "execution_count": 166,
     "metadata": {},
     "output_type": "execute_result"
    }
   ],
   "source": [
    "new = postcards.reset_index().rename(columns={\"index\":\"name\"})\n",
    "# new[\"age\"][7] = 36\n",
    "new.at[7, \"age\"] = 36\n",
    "new[(new[\"age\"] > 32) | (new[\"job\"] == \"Chef\")]"
   ],
   "metadata": {
    "collapsed": false,
    "pycharm": {
     "name": "#%%\n"
    }
   }
  },
  {
   "cell_type": "markdown",
   "metadata": {
    "colab_type": "text",
    "id": "ZDTCdrD6uhXl"
   },
   "source": [
    "### Сохранение датафрейма в файл "
   ]
  },
  {
   "cell_type": "code",
   "execution_count": 84,
   "metadata": {
    "colab": {},
    "colab_type": "code",
    "id": "u-tvDza7T8ad"
   },
   "outputs": [],
   "source": [
    "# сохраним в .csv файл\n",
    "\n",
    "postcards.to_csv('./postcards.csv')"
   ]
  },
  {
   "cell_type": "markdown",
   "metadata": {
    "colab_type": "text",
    "id": "IgtDJfqPKYiu"
   },
   "source": [
    "### Фильтры и прочие манипуляции"
   ]
  },
  {
   "cell_type": "code",
   "execution_count": 120,
   "metadata": {},
   "outputs": [
    {
     "data": {
      "text/plain": "          city age   job\nOleg  Canberra  31  Chef\nAlex    Krakow  35  Chef",
      "text/html": "<div>\n<style scoped>\n    .dataframe tbody tr th:only-of-type {\n        vertical-align: middle;\n    }\n\n    .dataframe tbody tr th {\n        vertical-align: top;\n    }\n\n    .dataframe thead th {\n        text-align: right;\n    }\n</style>\n<table border=\"1\" class=\"dataframe\">\n  <thead>\n    <tr style=\"text-align: right;\">\n      <th></th>\n      <th>city</th>\n      <th>age</th>\n      <th>job</th>\n    </tr>\n  </thead>\n  <tbody>\n    <tr>\n      <th>Oleg</th>\n      <td>Canberra</td>\n      <td>31</td>\n      <td>Chef</td>\n    </tr>\n    <tr>\n      <th>Alex</th>\n      <td>Krakow</td>\n      <td>35</td>\n      <td>Chef</td>\n    </tr>\n  </tbody>\n</table>\n</div>"
     },
     "execution_count": 120,
     "metadata": {},
     "output_type": "execute_result"
    }
   ],
   "source": [
    "# посмотрим, кто работает шеф-поваром\n",
    "# квадратные скобки создают подвыборку из датасета, удовлетворяющую условиям\n",
    "\n",
    "postcards[postcards['job'] =='Chef'] "
   ]
  },
  {
   "cell_type": "code",
   "execution_count": 126,
   "metadata": {
    "colab": {
     "base_uri": "https://localhost:8080/",
     "height": 106
    },
    "colab_type": "code",
    "id": "IZas6n3v3KOH",
    "outputId": "e4276eef-f417-4785-fa6a-24e99e84feac",
    "tags": []
   },
   "outputs": [
    {
     "data": {
      "text/html": [
       "<div>\n",
       "<style scoped>\n",
       "    .dataframe tbody tr th:only-of-type {\n",
       "        vertical-align: middle;\n",
       "    }\n",
       "\n",
       "    .dataframe tbody tr th {\n",
       "        vertical-align: top;\n",
       "    }\n",
       "\n",
       "    .dataframe thead th {\n",
       "        text-align: right;\n",
       "    }\n",
       "</style>\n",
       "<table border=\"1\" class=\"dataframe\">\n",
       "  <thead>\n",
       "    <tr style=\"text-align: right;\">\n",
       "      <th></th>\n",
       "      <th>city</th>\n",
       "      <th>age</th>\n",
       "      <th>job</th>\n",
       "    </tr>\n",
       "  </thead>\n",
       "  <tbody>\n",
       "    <tr>\n",
       "      <th>Hans</th>\n",
       "      <td>Calgary</td>\n",
       "      <td>80</td>\n",
       "      <td>Artist</td>\n",
       "    </tr>\n",
       "    <tr>\n",
       "      <th>Mark</th>\n",
       "      <td>Milan</td>\n",
       "      <td>55</td>\n",
       "      <td>Manager</td>\n",
       "    </tr>\n",
       "    <tr>\n",
       "      <th>Julia</th>\n",
       "      <td>Murmansk</td>\n",
       "      <td>43</td>\n",
       "      <td>Engineer</td>\n",
       "    </tr>\n",
       "  </tbody>\n",
       "</table>\n",
       "</div>"
      ],
      "text/plain": [
       "           city  age       job\n",
       "Hans    Calgary   80    Artist\n",
       "Mark      Milan   55   Manager\n",
       "Julia  Murmansk   43  Engineer"
      ]
     },
     "execution_count": 126,
     "metadata": {},
     "output_type": "execute_result"
    }
   ],
   "source": [
    "# поищем всех людей старше 40\n",
    "\n",
    "postcards[postcards[\"age\"]>40]"
   ]
  },
  {
   "cell_type": "code",
   "execution_count": 165,
   "metadata": {
    "colab": {
     "base_uri": "https://localhost:8080/",
     "height": 136
    },
    "colab_type": "code",
    "id": "hGKBGJL13r_K",
    "outputId": "ea05a1cf-4bde-4ae1-d5aa-8cfdc239dd19"
   },
   "outputs": [
    {
     "ename": "TypeError",
     "evalue": "'>' not supported between instances of 'str' and 'int'",
     "output_type": "error",
     "traceback": [
      "\u001B[0;31m---------------------------------------------------------------------------\u001B[0m",
      "\u001B[0;31mTypeError\u001B[0m                                 Traceback (most recent call last)",
      "\u001B[0;32m/var/folders/jg/tl1hn43d4mzgkfx4zby339x40000gp/T/ipykernel_60724/1033545124.py\u001B[0m in \u001B[0;36m<module>\u001B[0;34m\u001B[0m\n\u001B[1;32m      5\u001B[0m \u001B[0;34m\u001B[0m\u001B[0m\n\u001B[1;32m      6\u001B[0m \u001B[0;34m\u001B[0m\u001B[0m\n\u001B[0;32m----> 7\u001B[0;31m \u001B[0mpostcards\u001B[0m\u001B[0;34m[\u001B[0m \u001B[0;34m(\u001B[0m\u001B[0mpostcards\u001B[0m\u001B[0;34m[\u001B[0m\u001B[0;34m'age'\u001B[0m\u001B[0;34m]\u001B[0m \u001B[0;34m>\u001B[0m \u001B[0;36m30\u001B[0m\u001B[0;34m)\u001B[0m \u001B[0;34m&\u001B[0m \u001B[0;34m(\u001B[0m\u001B[0mpostcards\u001B[0m\u001B[0;34m[\u001B[0m\u001B[0;34m'job'\u001B[0m\u001B[0;34m]\u001B[0m \u001B[0;34m!=\u001B[0m\u001B[0;34m\"Chef\"\u001B[0m\u001B[0;34m)\u001B[0m \u001B[0;34m]\u001B[0m\u001B[0;34m\u001B[0m\u001B[0;34m\u001B[0m\u001B[0m\n\u001B[0m",
      "\u001B[0;32m~/Library/Python/3.8/lib/python/site-packages/pandas/core/ops/common.py\u001B[0m in \u001B[0;36mnew_method\u001B[0;34m(self, other)\u001B[0m\n\u001B[1;32m     67\u001B[0m         \u001B[0mother\u001B[0m \u001B[0;34m=\u001B[0m \u001B[0mitem_from_zerodim\u001B[0m\u001B[0;34m(\u001B[0m\u001B[0mother\u001B[0m\u001B[0;34m)\u001B[0m\u001B[0;34m\u001B[0m\u001B[0;34m\u001B[0m\u001B[0m\n\u001B[1;32m     68\u001B[0m \u001B[0;34m\u001B[0m\u001B[0m\n\u001B[0;32m---> 69\u001B[0;31m         \u001B[0;32mreturn\u001B[0m \u001B[0mmethod\u001B[0m\u001B[0;34m(\u001B[0m\u001B[0mself\u001B[0m\u001B[0;34m,\u001B[0m \u001B[0mother\u001B[0m\u001B[0;34m)\u001B[0m\u001B[0;34m\u001B[0m\u001B[0;34m\u001B[0m\u001B[0m\n\u001B[0m\u001B[1;32m     70\u001B[0m \u001B[0;34m\u001B[0m\u001B[0m\n\u001B[1;32m     71\u001B[0m     \u001B[0;32mreturn\u001B[0m \u001B[0mnew_method\u001B[0m\u001B[0;34m\u001B[0m\u001B[0;34m\u001B[0m\u001B[0m\n",
      "\u001B[0;32m~/Library/Python/3.8/lib/python/site-packages/pandas/core/arraylike.py\u001B[0m in \u001B[0;36m__gt__\u001B[0;34m(self, other)\u001B[0m\n\u001B[1;32m     46\u001B[0m     \u001B[0;34m@\u001B[0m\u001B[0munpack_zerodim_and_defer\u001B[0m\u001B[0;34m(\u001B[0m\u001B[0;34m\"__gt__\"\u001B[0m\u001B[0;34m)\u001B[0m\u001B[0;34m\u001B[0m\u001B[0;34m\u001B[0m\u001B[0m\n\u001B[1;32m     47\u001B[0m     \u001B[0;32mdef\u001B[0m \u001B[0m__gt__\u001B[0m\u001B[0;34m(\u001B[0m\u001B[0mself\u001B[0m\u001B[0;34m,\u001B[0m \u001B[0mother\u001B[0m\u001B[0;34m)\u001B[0m\u001B[0;34m:\u001B[0m\u001B[0;34m\u001B[0m\u001B[0;34m\u001B[0m\u001B[0m\n\u001B[0;32m---> 48\u001B[0;31m         \u001B[0;32mreturn\u001B[0m \u001B[0mself\u001B[0m\u001B[0;34m.\u001B[0m\u001B[0m_cmp_method\u001B[0m\u001B[0;34m(\u001B[0m\u001B[0mother\u001B[0m\u001B[0;34m,\u001B[0m \u001B[0moperator\u001B[0m\u001B[0;34m.\u001B[0m\u001B[0mgt\u001B[0m\u001B[0;34m)\u001B[0m\u001B[0;34m\u001B[0m\u001B[0;34m\u001B[0m\u001B[0m\n\u001B[0m\u001B[1;32m     49\u001B[0m \u001B[0;34m\u001B[0m\u001B[0m\n\u001B[1;32m     50\u001B[0m     \u001B[0;34m@\u001B[0m\u001B[0munpack_zerodim_and_defer\u001B[0m\u001B[0;34m(\u001B[0m\u001B[0;34m\"__ge__\"\u001B[0m\u001B[0;34m)\u001B[0m\u001B[0;34m\u001B[0m\u001B[0;34m\u001B[0m\u001B[0m\n",
      "\u001B[0;32m~/Library/Python/3.8/lib/python/site-packages/pandas/core/series.py\u001B[0m in \u001B[0;36m_cmp_method\u001B[0;34m(self, other, op)\u001B[0m\n\u001B[1;32m   5500\u001B[0m \u001B[0;34m\u001B[0m\u001B[0m\n\u001B[1;32m   5501\u001B[0m         \u001B[0;32mwith\u001B[0m \u001B[0mnp\u001B[0m\u001B[0;34m.\u001B[0m\u001B[0merrstate\u001B[0m\u001B[0;34m(\u001B[0m\u001B[0mall\u001B[0m\u001B[0;34m=\u001B[0m\u001B[0;34m\"ignore\"\u001B[0m\u001B[0;34m)\u001B[0m\u001B[0;34m:\u001B[0m\u001B[0;34m\u001B[0m\u001B[0;34m\u001B[0m\u001B[0m\n\u001B[0;32m-> 5502\u001B[0;31m             \u001B[0mres_values\u001B[0m \u001B[0;34m=\u001B[0m \u001B[0mops\u001B[0m\u001B[0;34m.\u001B[0m\u001B[0mcomparison_op\u001B[0m\u001B[0;34m(\u001B[0m\u001B[0mlvalues\u001B[0m\u001B[0;34m,\u001B[0m \u001B[0mrvalues\u001B[0m\u001B[0;34m,\u001B[0m \u001B[0mop\u001B[0m\u001B[0;34m)\u001B[0m\u001B[0;34m\u001B[0m\u001B[0;34m\u001B[0m\u001B[0m\n\u001B[0m\u001B[1;32m   5503\u001B[0m \u001B[0;34m\u001B[0m\u001B[0m\n\u001B[1;32m   5504\u001B[0m         \u001B[0;32mreturn\u001B[0m \u001B[0mself\u001B[0m\u001B[0;34m.\u001B[0m\u001B[0m_construct_result\u001B[0m\u001B[0;34m(\u001B[0m\u001B[0mres_values\u001B[0m\u001B[0;34m,\u001B[0m \u001B[0mname\u001B[0m\u001B[0;34m=\u001B[0m\u001B[0mres_name\u001B[0m\u001B[0;34m)\u001B[0m\u001B[0;34m\u001B[0m\u001B[0;34m\u001B[0m\u001B[0m\n",
      "\u001B[0;32m~/Library/Python/3.8/lib/python/site-packages/pandas/core/ops/array_ops.py\u001B[0m in \u001B[0;36mcomparison_op\u001B[0;34m(left, right, op)\u001B[0m\n\u001B[1;32m    282\u001B[0m \u001B[0;34m\u001B[0m\u001B[0m\n\u001B[1;32m    283\u001B[0m     \u001B[0;32melif\u001B[0m \u001B[0mis_object_dtype\u001B[0m\u001B[0;34m(\u001B[0m\u001B[0mlvalues\u001B[0m\u001B[0;34m.\u001B[0m\u001B[0mdtype\u001B[0m\u001B[0;34m)\u001B[0m \u001B[0;32mor\u001B[0m \u001B[0misinstance\u001B[0m\u001B[0;34m(\u001B[0m\u001B[0mrvalues\u001B[0m\u001B[0;34m,\u001B[0m \u001B[0mstr\u001B[0m\u001B[0;34m)\u001B[0m\u001B[0;34m:\u001B[0m\u001B[0;34m\u001B[0m\u001B[0;34m\u001B[0m\u001B[0m\n\u001B[0;32m--> 284\u001B[0;31m         \u001B[0mres_values\u001B[0m \u001B[0;34m=\u001B[0m \u001B[0mcomp_method_OBJECT_ARRAY\u001B[0m\u001B[0;34m(\u001B[0m\u001B[0mop\u001B[0m\u001B[0;34m,\u001B[0m \u001B[0mlvalues\u001B[0m\u001B[0;34m,\u001B[0m \u001B[0mrvalues\u001B[0m\u001B[0;34m)\u001B[0m\u001B[0;34m\u001B[0m\u001B[0;34m\u001B[0m\u001B[0m\n\u001B[0m\u001B[1;32m    285\u001B[0m \u001B[0;34m\u001B[0m\u001B[0m\n\u001B[1;32m    286\u001B[0m     \u001B[0;32melse\u001B[0m\u001B[0;34m:\u001B[0m\u001B[0;34m\u001B[0m\u001B[0;34m\u001B[0m\u001B[0m\n",
      "\u001B[0;32m~/Library/Python/3.8/lib/python/site-packages/pandas/core/ops/array_ops.py\u001B[0m in \u001B[0;36mcomp_method_OBJECT_ARRAY\u001B[0;34m(op, x, y)\u001B[0m\n\u001B[1;32m     71\u001B[0m         \u001B[0mresult\u001B[0m \u001B[0;34m=\u001B[0m \u001B[0mlibops\u001B[0m\u001B[0;34m.\u001B[0m\u001B[0mvec_compare\u001B[0m\u001B[0;34m(\u001B[0m\u001B[0mx\u001B[0m\u001B[0;34m.\u001B[0m\u001B[0mravel\u001B[0m\u001B[0;34m(\u001B[0m\u001B[0;34m)\u001B[0m\u001B[0;34m,\u001B[0m \u001B[0my\u001B[0m\u001B[0;34m.\u001B[0m\u001B[0mravel\u001B[0m\u001B[0;34m(\u001B[0m\u001B[0;34m)\u001B[0m\u001B[0;34m,\u001B[0m \u001B[0mop\u001B[0m\u001B[0;34m)\u001B[0m\u001B[0;34m\u001B[0m\u001B[0;34m\u001B[0m\u001B[0m\n\u001B[1;32m     72\u001B[0m     \u001B[0;32melse\u001B[0m\u001B[0;34m:\u001B[0m\u001B[0;34m\u001B[0m\u001B[0;34m\u001B[0m\u001B[0m\n\u001B[0;32m---> 73\u001B[0;31m         \u001B[0mresult\u001B[0m \u001B[0;34m=\u001B[0m \u001B[0mlibops\u001B[0m\u001B[0;34m.\u001B[0m\u001B[0mscalar_compare\u001B[0m\u001B[0;34m(\u001B[0m\u001B[0mx\u001B[0m\u001B[0;34m.\u001B[0m\u001B[0mravel\u001B[0m\u001B[0;34m(\u001B[0m\u001B[0;34m)\u001B[0m\u001B[0;34m,\u001B[0m \u001B[0my\u001B[0m\u001B[0;34m,\u001B[0m \u001B[0mop\u001B[0m\u001B[0;34m)\u001B[0m\u001B[0;34m\u001B[0m\u001B[0;34m\u001B[0m\u001B[0m\n\u001B[0m\u001B[1;32m     74\u001B[0m     \u001B[0;32mreturn\u001B[0m \u001B[0mresult\u001B[0m\u001B[0;34m.\u001B[0m\u001B[0mreshape\u001B[0m\u001B[0;34m(\u001B[0m\u001B[0mx\u001B[0m\u001B[0;34m.\u001B[0m\u001B[0mshape\u001B[0m\u001B[0;34m)\u001B[0m\u001B[0;34m\u001B[0m\u001B[0;34m\u001B[0m\u001B[0m\n\u001B[1;32m     75\u001B[0m \u001B[0;34m\u001B[0m\u001B[0m\n",
      "\u001B[0;32m~/Library/Python/3.8/lib/python/site-packages/pandas/_libs/ops.pyx\u001B[0m in \u001B[0;36mpandas._libs.ops.scalar_compare\u001B[0;34m()\u001B[0m\n",
      "\u001B[0;31mTypeError\u001B[0m: '>' not supported between instances of 'str' and 'int'"
     ]
    }
   ],
   "source": [
    "# условия можно компоновать логическими операторами\n",
    "# синтаксис: df[(условие1) оператор (условие2)]\n",
    "\n",
    "#ищем, кто старше 30 и не работает шеф-поваром\n",
    "\n",
    "\n",
    "postcards[ (postcards['age'] > 30) & (postcards['job'] !=\"Chef\") ]"
   ]
  },
  {
   "cell_type": "markdown",
   "metadata": {},
   "source": [
    "Над значениями в колонках можно производить различные операции:\n",
    "* например, арифметические (если данные количественные):"
   ]
  },
  {
   "cell_type": "code",
   "execution_count": 137,
   "metadata": {
    "colab": {
     "base_uri": "https://localhost:8080/",
     "height": 34
    },
    "colab_type": "code",
    "id": "pqvjgc9-4c5G",
    "outputId": "2d94487f-67a1-412f-80ad-e28d8662bc78"
   },
   "outputs": [
    {
     "data": {
      "text/plain": [
       "80"
      ]
     },
     "execution_count": 137,
     "metadata": {},
     "output_type": "execute_result"
    }
   ],
   "source": [
    "postcards.age.sum()\n",
    "postcards.age.mean()\n",
    "postcards.age.min()\n",
    "postcards.age.max()"
   ]
  },
  {
   "cell_type": "markdown",
   "metadata": {},
   "source": [
    "Если данные категориальные, можно искать уникальные значения, упорядочивать по алфавиту и тд"
   ]
  },
  {
   "cell_type": "code",
   "execution_count": 176,
   "metadata": {},
   "outputs": [
    {
     "data": {
      "text/plain": "array(['London', 'Milan', 'Canberra', 'Calgary', 'Milan', 'Krakow',\n       'Murmansk', 'NY'], dtype=object)"
     },
     "execution_count": 176,
     "metadata": {},
     "output_type": "execute_result"
    }
   ],
   "source": [
    "postcards.city.values # все значения\n",
    "# postcards.job.value_counts() # число повторов\n",
    "# postcards.city.sort_values(ascending=True) # сортировка\n",
    "#\n",
    "# postcards.job.unique() # все уникальные в колонке\n",
    "# postcards.city.nunique() # сколько уникальных в колонке"
   ]
  },
  {
   "cell_type": "markdown",
   "metadata": {
    "colab_type": "text",
    "id": "sTcd4PvP9_B4",
    "jp-MarkdownHeadingCollapsed": true,
    "tags": []
   },
   "source": [
    "# Практическая часть\n",
    "\n",
    "давайте поизвлекаем текст из датасетов и поисследуем его,  например, составив частотный список (с токенизацией и удалением стоп-слов)"
   ]
  },
  {
   "cell_type": "code",
   "execution_count": 107,
   "metadata": {
    "colab": {},
    "colab_type": "code",
    "id": "_Wk6pwXh714y"
   },
   "outputs": [
    {
     "data": {
      "text/html": [
       "<div>\n",
       "<style scoped>\n",
       "    .dataframe tbody tr th:only-of-type {\n",
       "        vertical-align: middle;\n",
       "    }\n",
       "\n",
       "    .dataframe tbody tr th {\n",
       "        vertical-align: top;\n",
       "    }\n",
       "\n",
       "    .dataframe thead th {\n",
       "        text-align: right;\n",
       "    }\n",
       "</style>\n",
       "<table border=\"1\" class=\"dataframe\">\n",
       "  <thead>\n",
       "    <tr style=\"text-align: right;\">\n",
       "      <th></th>\n",
       "      <th>id</th>\n",
       "      <th>conversation_id</th>\n",
       "      <th>created_at</th>\n",
       "      <th>date</th>\n",
       "      <th>time</th>\n",
       "      <th>timezone</th>\n",
       "      <th>user_id</th>\n",
       "      <th>username</th>\n",
       "      <th>name</th>\n",
       "      <th>place</th>\n",
       "      <th>...</th>\n",
       "      <th>geo</th>\n",
       "      <th>source</th>\n",
       "      <th>user_rt_id</th>\n",
       "      <th>user_rt</th>\n",
       "      <th>retweet_id</th>\n",
       "      <th>reply_to</th>\n",
       "      <th>retweet_date</th>\n",
       "      <th>translate</th>\n",
       "      <th>trans_src</th>\n",
       "      <th>trans_dest</th>\n",
       "    </tr>\n",
       "  </thead>\n",
       "  <tbody>\n",
       "    <tr>\n",
       "      <th>0</th>\n",
       "      <td>1282939902531796993</td>\n",
       "      <td>1282933079431151618</td>\n",
       "      <td>1594711683000</td>\n",
       "      <td>2020-07-14</td>\n",
       "      <td>07:28:03</td>\n",
       "      <td>UTC</td>\n",
       "      <td>44196397</td>\n",
       "      <td>elonmusk</td>\n",
       "      <td>Elon Musk</td>\n",
       "      <td>NaN</td>\n",
       "      <td>...</td>\n",
       "      <td>NaN</td>\n",
       "      <td>NaN</td>\n",
       "      <td>NaN</td>\n",
       "      <td>NaN</td>\n",
       "      <td>NaN</td>\n",
       "      <td>[{'user_id': '44196397', 'username': 'elonmusk...</td>\n",
       "      <td>NaN</td>\n",
       "      <td>NaN</td>\n",
       "      <td>NaN</td>\n",
       "      <td>NaN</td>\n",
       "    </tr>\n",
       "    <tr>\n",
       "      <th>1</th>\n",
       "      <td>1282844872571904000</td>\n",
       "      <td>1282801938111791104</td>\n",
       "      <td>1594689026000</td>\n",
       "      <td>2020-07-14</td>\n",
       "      <td>01:10:26</td>\n",
       "      <td>UTC</td>\n",
       "      <td>44196397</td>\n",
       "      <td>elonmusk</td>\n",
       "      <td>Elon Musk</td>\n",
       "      <td>NaN</td>\n",
       "      <td>...</td>\n",
       "      <td>NaN</td>\n",
       "      <td>NaN</td>\n",
       "      <td>NaN</td>\n",
       "      <td>NaN</td>\n",
       "      <td>NaN</td>\n",
       "      <td>[{'user_id': '44196397', 'username': 'elonmusk...</td>\n",
       "      <td>NaN</td>\n",
       "      <td>NaN</td>\n",
       "      <td>NaN</td>\n",
       "      <td>NaN</td>\n",
       "    </tr>\n",
       "    <tr>\n",
       "      <th>2</th>\n",
       "      <td>1282805559834492929</td>\n",
       "      <td>1282758532312584193</td>\n",
       "      <td>1594679653000</td>\n",
       "      <td>2020-07-13</td>\n",
       "      <td>22:34:13</td>\n",
       "      <td>UTC</td>\n",
       "      <td>44196397</td>\n",
       "      <td>elonmusk</td>\n",
       "      <td>Elon Musk</td>\n",
       "      <td>NaN</td>\n",
       "      <td>...</td>\n",
       "      <td>NaN</td>\n",
       "      <td>NaN</td>\n",
       "      <td>NaN</td>\n",
       "      <td>NaN</td>\n",
       "      <td>NaN</td>\n",
       "      <td>[{'user_id': '44196397', 'username': 'elonmusk...</td>\n",
       "      <td>NaN</td>\n",
       "      <td>NaN</td>\n",
       "      <td>NaN</td>\n",
       "      <td>NaN</td>\n",
       "    </tr>\n",
       "  </tbody>\n",
       "</table>\n",
       "<p>3 rows × 34 columns</p>\n",
       "</div>"
      ],
      "text/plain": [
       "                    id      conversation_id     created_at        date  \\\n",
       "0  1282939902531796993  1282933079431151618  1594711683000  2020-07-14   \n",
       "1  1282844872571904000  1282801938111791104  1594689026000  2020-07-14   \n",
       "2  1282805559834492929  1282758532312584193  1594679653000  2020-07-13   \n",
       "\n",
       "       time timezone   user_id  username       name  place  ... geo source  \\\n",
       "0  07:28:03      UTC  44196397  elonmusk  Elon Musk    NaN  ... NaN    NaN   \n",
       "1  01:10:26      UTC  44196397  elonmusk  Elon Musk    NaN  ... NaN    NaN   \n",
       "2  22:34:13      UTC  44196397  elonmusk  Elon Musk    NaN  ... NaN    NaN   \n",
       "\n",
       "  user_rt_id user_rt  retweet_id  \\\n",
       "0        NaN     NaN         NaN   \n",
       "1        NaN     NaN         NaN   \n",
       "2        NaN     NaN         NaN   \n",
       "\n",
       "                                            reply_to  retweet_date translate  \\\n",
       "0  [{'user_id': '44196397', 'username': 'elonmusk...           NaN       NaN   \n",
       "1  [{'user_id': '44196397', 'username': 'elonmusk...           NaN       NaN   \n",
       "2  [{'user_id': '44196397', 'username': 'elonmusk...           NaN       NaN   \n",
       "\n",
       "  trans_src trans_dest  \n",
       "0       NaN        NaN  \n",
       "1       NaN        NaN  \n",
       "2       NaN        NaN  \n",
       "\n",
       "[3 rows x 34 columns]"
      ]
     },
     "execution_count": 107,
     "metadata": {},
     "output_type": "execute_result"
    }
   ],
   "source": [
    "df = pd.read_csv('../data/elonmusk.csv', encoding=\"utf-8\")\n",
    "df.head(3)"
   ]
  },
  {
   "cell_type": "markdown",
   "metadata": {
    "colab_type": "text",
    "id": "6tNlQH7UA5D3"
   },
   "source": [
    "### подсказка: как достать текст из колонок датафрейма"
   ]
  },
  {
   "cell_type": "code",
   "execution_count": 119,
   "metadata": {
    "colab": {
     "base_uri": "https://localhost:8080/",
     "height": 84
    },
    "colab_type": "code",
    "id": "Qa4-GgDZAcr2",
    "outputId": "0153293c-fe8e-412a-9fa0-646c3175f035",
    "tags": []
   },
   "outputs": [
    {
     "data": {
      "text/plain": [
       "['Awesome!!',\n",
       " 'Thank you. Angie …',\n",
       " 'bs pic.twitter.com/1kOQeH5mvF',\n",
       " 'You cherry-picked one state out of fifty, which saw a minor uptick. Show the whole country.',\n",
       " 'I tried to warn them … 😢',\n",
       " 'Yup',\n",
       " 'Something’s messed up about medicine that’s anti-science. In science, you question everyone, no matter who they are. Facts & reasoning are everything, but in medicine too much emphasis is on credentials, often by people who’ve accomplished nothing but a PhD thesis used by no one.',\n",
       " 'Here’s one: pic.twitter.com/9ujxCClFCg',\n",
       " 'Yes, Angela, please show us the graphs/data that prove your point',\n",
       " 'I’m not building anything on ethereum. Not for or against it, just don’t use it or own any.']"
      ]
     },
     "execution_count": 119,
     "metadata": {},
     "output_type": "execute_result"
    }
   ],
   "source": [
    "# выбираем нужную колонку, складываем в список, сохраняем в удобную переменную\n",
    "tweets = df[\"tweet\"].to_list()\n",
    "tweets[170:180]"
   ]
  },
  {
   "cell_type": "markdown",
   "metadata": {},
   "source": [
    "Теперь текст сохранен в переменную в виде списка, с ним можно работать стандартным образом"
   ]
  },
  {
   "cell_type": "code",
   "execution_count": null,
   "metadata": {},
   "outputs": [],
   "source": []
  }
 ],
 "metadata": {
  "colab": {
   "collapsed_sections": [
    "ZESKs95y71Wy"
   ],
   "include_colab_link": true,
   "name": "18Nov2019.ipynb",
   "provenance": []
  },
  "kernelspec": {
   "name": "pycharm-67d2a6e7",
   "language": "python",
   "display_name": "PyCharm (CompLing)"
  },
  "language_info": {
   "codemirror_mode": {
    "name": "ipython",
    "version": 3
   },
   "file_extension": ".py",
   "mimetype": "text/x-python",
   "name": "python",
   "nbconvert_exporter": "python",
   "pygments_lexer": "ipython3",
   "version": "3.10.0"
  }
 },
 "nbformat": 4,
 "nbformat_minor": 4
}