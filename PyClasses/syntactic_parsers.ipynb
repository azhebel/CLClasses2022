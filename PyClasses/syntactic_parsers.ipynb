{
 "cells": [
  {
   "cell_type": "markdown",
   "metadata": {
    "id": "FJQqpfFoYWLc"
   },
   "source": [
    "сегодня мы поговорим о синтаксических анализаторах: посмотрим на их функции в деталях на примере UDPipe, но в конце тетрадки вспомним про другие(обзорно) и попробуем на парктике"
   ]
  },
  {
   "cell_type": "markdown",
   "metadata": {
    "id": "IJ3Cu1K-TwLW"
   },
   "source": [
    "## UDPipe"
   ]
  },
  {
   "cell_type": "code",
   "execution_count": 1,
   "metadata": {
    "id": "jNPHxwb0j0OE"
   },
   "outputs": [
    {
     "name": "stdout",
     "output_type": "stream",
     "text": [
      "Collecting ufal.udpipe\r\n",
      "  Downloading ufal.udpipe-1.2.0.3-cp38-cp38-macosx_10_9_x86_64.whl (863 kB)\r\n",
      "     |████████████████████████████████| 863 kB 968 kB/s            \r\n",
      "\u001B[?25hInstalling collected packages: ufal.udpipe\r\n",
      "Successfully installed ufal.udpipe-1.2.0.3\r\n"
     ]
    }
   ],
   "source": [
    "# ячейка может выполняться долго, это нормально\n",
    "! pip3 install ufal.udpipe"
   ]
  },
  {
   "cell_type": "markdown",
   "metadata": {
    "id": "iiOE0dwxhtv_"
   },
   "source": [
    "UDPipe - это готовый пайплайн* для токенизации, частеречной разметки, лемматизации и синтаксической разметки. Работает с файлами в формате [CoNLL-U](https://universaldependencies.org/format.html#syntactic-annotation)\n",
    "<br>\n",
    "Есть как готовые [предобученные модели](https://github.com/jwijffels/udpipe.models.ud.2.0/tree/master/inst/udpipe-ud-2.0-170801), так и возможность обучить модель на своих данных (но это небыстро). \n",
    "\n",
    "Использует теги [UD-формата](https://universaldependencies.org/)\n",
    "______\n",
    "*пайплайном называют цепочку из нескольких инструментов, используемых один за другим (pipeline, от англ. pipe- труба)*"
   ]
  },
  {
   "cell_type": "markdown",
   "metadata": {
    "id": "Oocef9uLdgHC"
   },
   "source": [
    "поля в CoNLL-U формате:\n",
    "\n",
    "* ID: Word index, integer starting at 1 for each new sentence; may be a range for multiword tokens; may be a decimal number for empty nodes (decimal numbers can be lower than 1 but must be greater than 0)\n",
    "* FORM: Word form or punctuation symbol.\n",
    "* LEMMA: Lemma or stem of word form.\n",
    "* UPOS: Universal part-of-speech tag.\n",
    "* XPOS: Language-specific part-of-speech tag; underscore if not available.\n",
    "* FEATS: List of morphological features from the universal feature inventory or from a defined language-specific extension; underscore if not available.\n",
    "* HEAD: Head of the current word, which is either a value of ID or zero (0).\n",
    "* DEPREL: Universal dependency relation to the HEAD (root iff HEAD = 0) or a defined language-specific subtype of one.\n",
    "* DEPS: Enhanced dependency graph in the form of a list of head-deprel pairs.\n",
    "* MISC: Any other annotation."
   ]
  },
  {
   "cell_type": "markdown",
   "metadata": {
    "id": "fcqE7FFbitjo"
   },
   "source": [
    "Так выглядит текст в CoNLL-U формате\n",
    "\n",
    "    1\tМэр\t_\tNOUN\t_\tAnimacy=Anim|Case=Nom|Gender=Masc|Number=Sing|fPOS=NOUN++\t2\tnsubj\t_\t_\n",
    "    2\tоткрыл\t_\tVERB\t_\tAspect=Perf|Gender=Masc|Mood=Ind|Number=Sing|Tense=Past|VerbForm=Fin|Voice=Act|fPOS=VERB++\t0\tROOT\t_\t_\n",
    "    3\tновый\t_\tADJ\t_\tAnimacy=Inan|Case=Acc|Degree=Pos|Gender=Masc|Number=Sing|fPOS=ADJ++\t4\tamod\t_\t_\n",
    "    4\tпарк\t_\tNOUN\t_\tAnimacy=Inan|Case=Acc|Gender=Masc|Number=Sing|fPOS=NOUN++\t2\tdobj\t_\t_\n",
    "    5\tи\t_\tCONJ\t_\tfPOS=CONJ++\t4\tcc\t_\t_\n",
    "    6\tдетскую\t_\tADJ\t_\tCase=Acc|Degree=Pos|Gender=Fem|Number=Sing|fPOS=ADJ++\t7\tamod\t_\t_\n",
    "    7\tплощадку\t_\tNOUN\t_\tAnimacy=Inan|Case=Acc|Gender=Fem|Number=Sing|fPOS=NOUN++\t4\tconj\t_\t_\n",
    "    8\t.\t_\tPUNCT\t.\tfPOS=PUNCT++.\t2\tpunct\t_\t_"
   ]
  },
  {
   "cell_type": "markdown",
   "metadata": {
    "id": "6TzMKf_jT1Fm"
   },
   "source": [
    "**всякое про UDPipe**\n",
    "* [общая информация](http://ufal.mff.cuni.cz/udpipe#language_models)\n",
    "* [мануал](http://ufal.mff.cuni.cz/udpipe/users-manual)\n",
    "* [репозиторий](https://github.com/ufal/udpipe)\n",
    "* [статья с описанием архитектуры](http://ufal.mff.cuni.cz/~straka/papers/2017-conll_udpipe.pdf)\n",
    "* [онлайн-версия](http://lindat.mff.cuni.cz/services/udpipe/)\n",
    "\n"
   ]
  },
  {
   "cell_type": "markdown",
   "metadata": {
    "id": "apvl_B96VdkP"
   },
   "source": [
    "### шаг1: установка библиотеки\n",
    "полная информация о разных способах установки UDPipe [здесь](http://ufal.mff.cuni.cz/udpipe/install)\n",
    "<br>\n",
    "Мы попробуем простую, установив UPpipe как специальную библиотеку для питона, через ```pip3```\n",
    "\n",
    "[документация для питонской библиотеки](https://pypi.org/project/ufal.udpipe/)"
   ]
  },
  {
   "cell_type": "code",
   "source": [
    "from ufal.udpipe import Model, Pipeline #импортируем нужные части из модуля"
   ],
   "metadata": {
    "id": "UDVV8Bouqog1"
   },
   "execution_count": 2,
   "outputs": []
  },
  {
   "cell_type": "markdown",
   "metadata": {
    "id": "79x1gVQd9tD7"
   },
   "source": [
    "### шаг2: выбор модели\n",
    "\n",
    "Чтобы работать с UDPipe, нужно выбрать модель: уже готовую, или обучить на своих данных.\n",
    "<br>\n",
    "Мы сегодня не будем обучать новые модели (это слишком долго), а используем [готовую модель для русского](https://github.com/jwijffels/udpipe.models.ud.2.0/blob/master/inst/udpipe-ud-2.0-170801/russian-ud-2.0-170801.udpipe)"
   ]
  },
  {
   "cell_type": "code",
   "execution_count": 85,
   "metadata": {
    "id": "1LIzqOtHAybz"
   },
   "outputs": [
    {
     "name": "stdout",
     "output_type": "stream",
     "text": [
      "--2022-01-19 21:36:14--  https://github.com/jwijffels/udpipe.models.ud.2.0/blob/master/inst/udpipe-ud-2.0-170801/english-ud-2.0-170801.udpipe?raw=true\r\n",
      "Resolving github.com (github.com)... 140.82.121.4\r\n",
      "Connecting to github.com (github.com)|140.82.121.4|:443... connected.\r\n",
      "HTTP request sent, awaiting response... 302 Found\r\n",
      "Location: https://github.com/jwijffels/udpipe.models.ud.2.0/raw/master/inst/udpipe-ud-2.0-170801/english-ud-2.0-170801.udpipe [following]\r\n",
      "--2022-01-19 21:36:14--  https://github.com/jwijffels/udpipe.models.ud.2.0/raw/master/inst/udpipe-ud-2.0-170801/english-ud-2.0-170801.udpipe\r\n",
      "Reusing existing connection to github.com:443.\r\n",
      "HTTP request sent, awaiting response... 302 Found\r\n",
      "Location: https://raw.githubusercontent.com/jwijffels/udpipe.models.ud.2.0/master/inst/udpipe-ud-2.0-170801/english-ud-2.0-170801.udpipe [following]\r\n",
      "--2022-01-19 21:36:14--  https://raw.githubusercontent.com/jwijffels/udpipe.models.ud.2.0/master/inst/udpipe-ud-2.0-170801/english-ud-2.0-170801.udpipe\r\n",
      "Resolving raw.githubusercontent.com (raw.githubusercontent.com)... 185.199.108.133, 185.199.109.133, 185.199.110.133, ...\r\n",
      "Connecting to raw.githubusercontent.com (raw.githubusercontent.com)|185.199.108.133|:443... connected.\r\n",
      "HTTP request sent, awaiting response... 200 OK\r\n",
      "Length: 16741882 (16M) [application/octet-stream]\r\n",
      "Saving to: ‘model_en.udpipe’\r\n",
      "\r\n",
      "model_en.udpipe     100%[===================>]  15.97M  6.64MB/s    in 2.4s    \r\n",
      "\r\n",
      "2022-01-19 21:36:18 (6.64 MB/s) - ‘model_en.udpipe’ saved [16741882/16741882]\r\n",
      "\r\n"
     ]
    }
   ],
   "source": [
    "# сохраняем в переменную UDPIPE_MODEL_FN модель, которую загружаем из репозитория UD \n",
    "UDPIPE_MODEL_FN = \"model_en.udpipe\"\n",
    "!wget -O {UDPIPE_MODEL_FN} \"https://github.com/jwijffels/udpipe.models.ud.2.0/blob/master/inst/udpipe-ud-2.0-170801/english-ud-2.0-170801.udpipe?raw=true\""
   ]
  },
  {
   "cell_type": "code",
   "execution_count": 86,
   "metadata": {
    "id": "4sZzFw689tEf"
   },
   "outputs": [],
   "source": [
    "model = Model.load(UDPIPE_MODEL_FN) # загружаем модель, сохраняем в переменную model\n"
   ]
  },
  {
   "cell_type": "code",
   "execution_count": 87,
   "outputs": [
    {
     "data": {
      "text/plain": "<Swig Object of type 'model *' at 0x1312bc030>"
     },
     "execution_count": 87,
     "metadata": {},
     "output_type": "execute_result"
    }
   ],
   "source": [
    "model"
   ],
   "metadata": {
    "collapsed": false,
    "pycharm": {
     "name": "#%%\n"
    }
   }
  },
  {
   "cell_type": "markdown",
   "metadata": {
    "id": "P6ce0Xf6dgHH"
   },
   "source": [
    " ### шаг3 текст"
   ]
  },
  {
   "cell_type": "code",
   "execution_count": 78,
   "metadata": {
    "colab": {
     "base_uri": "https://localhost:8080/"
    },
    "id": "upWpD0TX9tHR",
    "outputId": "fdad00f9-7373-4d78-d941-2aa8bf53fdfb"
   },
   "outputs": [
    {
     "name": "stdout",
     "output_type": "stream",
     "text": [
      "Недавно избранный мэр открыл новый парк и детскую площадку с качелями. Это освещалось в новостях. Петя смотрел все новости, которые сняли корреспонденты.\n"
     ]
    }
   ],
   "source": [
    "sent = \"Недавно избранный мэр открыл новый парк и детскую площадку с качелями. Это освещалось в новостях. Петя смотрел все новости, которые сняли корреспонденты.\"\n",
    "print(sent)"
   ]
  },
  {
   "cell_type": "code",
   "execution_count": 151,
   "outputs": [
    {
     "name": "stdout",
     "output_type": "stream",
     "text": [
      "Predefined keymaps do not cover every possible platform, version, and configuration. Some shortcuts can conflict with global system actions and shortcuts for third-party software. To fix these conflicts, you can reassign or disable the conflicting shortcut.\n"
     ]
    }
   ],
   "source": [
    "sent = \"Predefined keymaps do not cover every possible platform, version, and configuration. Some shortcuts can conflict with global system actions and shortcuts for third-party software. To fix these conflicts, you can reassign or disable the conflicting shortcut.\"\n",
    "print(sent)"
   ],
   "metadata": {
    "collapsed": false,
    "pycharm": {
     "name": "#%%\n"
    }
   }
  },
  {
   "cell_type": "markdown",
   "metadata": {
    "id": "IJch2wMgi3Jd"
   },
   "source": [
    "### шаг4: анализируем"
   ]
  },
  {
   "cell_type": "code",
   "execution_count": 89,
   "metadata": {
    "id": "XzvlAv_RdgHI"
   },
   "outputs": [],
   "source": [
    "pipeline = Pipeline(model, 'generic_tokenizer', '','','')\n",
    "\n",
    "#функции нужно 5 аргументов,но нам важны только 2\n",
    "#сохраняем в переменную результат токенизации"
   ]
  },
  {
   "cell_type": "code",
   "execution_count": 152,
   "metadata": {
    "id": "34aHBI1Y6yDr"
   },
   "outputs": [
    {
     "name": "stdout",
     "output_type": "stream",
     "text": [
      "# newdoc\n",
      "# newpar\n",
      "# sent_id = 1\n",
      "# text = Predefined keymaps do not cover every possible platform, version, and configuration.\n",
      "1\tPredefined\tPredefined\tADJ\tJJ\tDegree=Pos\t2\tamod\t_\t_\n",
      "2\tkeymaps\tkeymaps\tNOUN\tNNS\tNumber=Plur\t5\tnsubj\t_\t_\n",
      "3\tdo\tdo\tAUX\tVBP\tMood=Ind|Tense=Pres|VerbForm=Fin\t5\taux\t_\t_\n",
      "4\tnot\tnot\tPART\tRB\t_\t5\tadvmod\t_\t_\n",
      "5\tcover\tcover\tVERB\tVB\tVerbForm=Inf\t0\troot\t_\t_\n",
      "6\tevery\tevery\tDET\tDT\t_\t8\tdet\t_\t_\n",
      "7\tpossible\tpossible\tADJ\tJJ\tDegree=Pos\t8\tamod\t_\t_\n",
      "8\tplatform\tplatform\tNOUN\tNN\tNumber=Sing\t5\tobj\t_\tSpaceAfter=No\n",
      "9\t,\t,\tPUNCT\t,\t_\t10\tpunct\t_\t_\n",
      "10\tversion\tversion\tNOUN\tNN\tNumber=Sing\t8\tconj\t_\tSpaceAfter=No\n",
      "11\t,\t,\tPUNCT\t,\t_\t13\tpunct\t_\t_\n",
      "12\tand\tand\tCCONJ\tCC\t_\t13\tcc\t_\t_\n",
      "13\tconfiguration\tconfiguration\tNOUN\tNN\tNumber=Sing\t8\tconj\t_\tSpaceAfter=No\n",
      "14\t.\t.\tPUNCT\t.\t_\t5\tpunct\t_\t_\n",
      "\n",
      "# sent_id = 2\n",
      "# text = Some shortcuts can conflict with global system actions and shortcuts for third-party software.\n",
      "1\tSome\tsome\tDET\tDT\t_\t2\tdet\t_\t_\n",
      "2\tshortcuts\tshortcut\tNOUN\tNNS\tNumber=Plur\t4\tnsubj\t_\t_\n",
      "3\tcan\tcan\tAUX\tMD\tVerbForm=Fin\t4\taux\t_\t_\n",
      "4\tconflict\tconflict\tVERB\tVB\tVerbForm=Inf\t0\troot\t_\t_\n",
      "5\twith\twith\tADP\tIN\t_\t8\tcase\t_\t_\n",
      "6\tglobal\tglobal\tADJ\tJJ\tDegree=Pos\t8\tamod\t_\t_\n",
      "7\tsystem\tsystem\tNOUN\tNN\tNumber=Sing\t8\tcompound\t_\t_\n",
      "8\tactions\taction\tNOUN\tNNS\tNumber=Plur\t4\tobl\t_\t_\n",
      "9\tand\tand\tCCONJ\tCC\t_\t10\tcc\t_\t_\n",
      "10\tshortcuts\tshortcut\tNOUN\tNNS\tNumber=Plur\t8\tconj\t_\t_\n",
      "11\tfor\tfor\tADP\tIN\t_\t15\tcase\t_\t_\n",
      "12\tthird\tthird\tADJ\tJJ\tDegree=Pos|NumType=Ord\t14\tamod\t_\tSpaceAfter=No\n",
      "13\t-\t-\tPUNCT\tHYPH\t_\t14\tpunct\t_\tSpaceAfter=No\n",
      "14\tparty\tparty\tNOUN\tNN\tNumber=Sing\t15\tcompound\t_\t_\n",
      "15\tsoftware\tsoftware\tNOUN\tNN\tNumber=Sing\t8\tnmod\t_\tSpaceAfter=No\n",
      "16\t.\t.\tPUNCT\t.\t_\t4\tpunct\t_\t_\n",
      "\n",
      "# sent_id = 3\n",
      "# text = To fix these conflicts, you can reassign or disable the conflicting shortcut.\n",
      "1\tTo\tto\tPART\tTO\t_\t2\tmark\t_\t_\n",
      "2\tfix\tfix\tVERB\tVB\tVerbForm=Inf\t8\tadvcl\t_\t_\n",
      "3\tthese\tthese\tDET\tDT\tNumber=Plur|PronType=Dem\t4\tdet\t_\t_\n",
      "4\tconflicts\tconflict\tNOUN\tNNS\tNumber=Plur\t2\tobj\t_\tSpaceAfter=No\n",
      "5\t,\t,\tPUNCT\t,\t_\t8\tpunct\t_\t_\n",
      "6\tyou\tyou\tPRON\tPRP\tCase=Nom|Person=2|PronType=Prs\t8\tnsubj\t_\t_\n",
      "7\tcan\tcan\tAUX\tMD\tVerbForm=Fin\t8\taux\t_\t_\n",
      "8\treassign\treassign\tVERB\tVB\tVerbForm=Inf\t0\troot\t_\t_\n",
      "9\tor\tor\tCCONJ\tCC\t_\t10\tcc\t_\t_\n",
      "10\tdisable\tdisable\tVERB\tVB\tVerbForm=Inf\t8\tconj\t_\t_\n",
      "11\tthe\tthe\tDET\tDT\tDefinite=Def|PronType=Art\t13\tdet\t_\t_\n",
      "12\tconflicting\tconflict\tVERB\tVBG\tVerbForm=Ger\t13\tamod\t_\t_\n",
      "13\tshortcut\tshortcut\tNOUN\tNN\tNumber=Sing\t8\tobj\t_\tSpaceAfter=No\n",
      "14\t.\t.\tPUNCT\t.\t_\t8\tpunct\t_\tSpacesAfter=\\n\n",
      "\n",
      "\n"
     ]
    }
   ],
   "source": [
    "# ud_res = []\n",
    "\n",
    "parsed = pipeline.process(sent) # функция process сделает синтаксический анализ\n",
    "\n",
    "print(parsed) # печатаем результат\n"
   ]
  },
  {
   "cell_type": "markdown",
   "metadata": {
    "id": "W2_EPaHpqrmH"
   },
   "source": [
    "дефолтный теггинг иногда может быть ошибочным: теггер предсказывает морфологические свойства токена по последним четырем символам каждого слова. Он генерирует гипотезы относительно части речи и морфологических тегов этого слова, а затем отбирает лучший вариант. \n",
    "<br>\n",
    "*(можно улучшать качество, например, используя сторонний морфоанализатор и токенизатор, но это тема для отдельной пары, сегодня мы попробуем \"ванильный\" UDPipe)*"
   ]
  },
  {
   "cell_type": "markdown",
   "metadata": {
    "collapsed": true,
    "id": "ffOK_R3a9tHL"
   },
   "source": [
    "# способы применения\n",
    "Зачем нужен синтаксический парсинг? \n",
    "\n",
    "Например, с помощью него можно находить в предложениях тройки субъект-глагол-объект, которые можно использовать для извлечения информации из текста."
   ]
  },
  {
   "cell_type": "markdown",
   "metadata": {
    "id": "C2TajWLrJBUh"
   },
   "source": [
    "**визуализация**"
   ]
  },
  {
   "cell_type": "markdown",
   "metadata": {
    "id": "ciX5remQJAkY"
   },
   "source": [
    "В nltk есть DependencyGraph, который умеет рисовать деревья (и ещё многое другое). Для того, чтобы визуализация работала корректно, ему нужна зависимость: graphviz."
   ]
  },
  {
   "cell_type": "code",
   "execution_count": 15,
   "metadata": {
    "id": "htYoQ77NI-q-"
   },
   "outputs": [
    {
     "name": "stdout",
     "output_type": "stream",
     "text": [
      "Collecting graphviz\r\n",
      "  Downloading graphviz-0.19.1-py3-none-any.whl (46 kB)\r\n",
      "     |████████████████████████████████| 46 kB 665 kB/s            \r\n",
      "\u001B[?25hInstalling collected packages: graphviz\r\n",
      "Successfully installed graphviz-0.19.1\r\n",
      "Collecting pydot\r\n",
      "  Downloading pydot-1.4.2-py2.py3-none-any.whl (21 kB)\r\n",
      "Requirement already satisfied: pyparsing>=2.1.4 in /Users/Alexey.Zhebel/IdeaProjects/CompLing/venv/lib/python3.8/site-packages (from pydot) (3.0.6)\r\n",
      "Installing collected packages: pydot\r\n",
      "Successfully installed pydot-1.4.2\r\n"
     ]
    }
   ],
   "source": [
    "! pip3 install graphviz\n",
    "! pip3 install pydot \n",
    "# ! brew install graphviz #команда установки для MacOS"
   ]
  },
  {
   "cell_type": "markdown",
   "metadata": {
    "id": "IoK9FdctdgHJ"
   },
   "source": [
    "Бибилиотеку grapghviz нужно поставить не только через pip, но и добавить в систему ([см этот тред](https://stackoverflow.com/questions/35064304/runtimeerror-make-sure-the-graphviz-executables-are-on-your-systems-path-aft))\n",
    "\n",
    "Если возникает ошибка, попробуйте следующие команды:\n",
    "* (Win) запустите в ячейке код  \n",
    "```import os\n",
    "os.environ[\"PATH\"] += os.pathsep + 'D:/Program Files (x86)/Graphviz2.38/bin/' ```\n",
    "\n",
    "* (Mac) в терминале: ```brew install graphviz ``` (проверьте, что у Вас стоит [homebrew](https://brew.sh/))\n",
    "\n",
    "* (Linux) в терминале: ```sudo apt-get install graphviz```"
   ]
  },
  {
   "cell_type": "code",
   "execution_count": 16,
   "metadata": {
    "id": "YHUFaDxzI99o"
   },
   "outputs": [],
   "source": [
    "from nltk import DependencyGraph, Tree \n",
    "# части библиотеки, которые нарисуют нам деревья зависимостей"
   ]
  },
  {
   "cell_type": "markdown",
   "metadata": {
    "id": "grvoBcepI9PJ"
   },
   "source": [
    "Для построения дерева нам нужно превратить файл в conllu-формате в список.\n",
    "<br> \n",
    "Еще нужно сделать тег ROOT в верхнем регистре, иначе он не находится 🤷‍♂️\n",
    "\n",
    "Создадим функцию, которую попробуем на результате UDPipe"
   ]
  },
  {
   "cell_type": "code",
   "execution_count": 17,
   "metadata": {
    "id": "-I8xJDF9KVKZ"
   },
   "outputs": [],
   "source": [
    "def conllu_to_list(parser_result): \n",
    "# аргумент - это conllu-файл, который получили в результате синтаксического анализа \n",
    "    sents = []\n",
    "    for sent in parser_result.split('\\n\\n'):\n",
    "\n",
    "        # убираем коменты\n",
    "        sent = '\\n'.join([line for line in sent.split('\\n') if not line.startswith('#')])\n",
    "        \n",
    "        # заменяем регистр для root\n",
    "        sent = sent.replace('\\troot\\t', '\\tROOT\\t')\n",
    "        sents.append(sent)\n",
    "    return sents"
   ]
  },
  {
   "cell_type": "markdown",
   "metadata": {
    "id": "j4KQhGTXQhbc"
   },
   "source": [
    "## для UDPipe"
   ]
  },
  {
   "cell_type": "code",
   "execution_count": 153,
   "metadata": {
    "id": "fDB1dSkDLtSw"
   },
   "outputs": [
    {
     "name": "stdout",
     "output_type": "stream",
     "text": [
      "1\tPredefined\tPredefined\tADJ\tJJ\tDegree=Pos\t2\tamod\t_\t_\n",
      "2\tkeymaps\tkeymaps\tNOUN\tNNS\tNumber=Plur\t5\tnsubj\t_\t_\n",
      "3\tdo\tdo\tAUX\tVBP\tMood=Ind|Tense=Pres|VerbForm=Fin\t5\taux\t_\t_\n",
      "4\tnot\tnot\tPART\tRB\t_\t5\tadvmod\t_\t_\n",
      "5\tcover\tcover\tVERB\tVB\tVerbForm=Inf\t0\tROOT\t_\t_\n",
      "6\tevery\tevery\tDET\tDT\t_\t8\tdet\t_\t_\n",
      "7\tpossible\tpossible\tADJ\tJJ\tDegree=Pos\t8\tamod\t_\t_\n",
      "8\tplatform\tplatform\tNOUN\tNN\tNumber=Sing\t5\tobj\t_\tSpaceAfter=No\n",
      "9\t,\t,\tPUNCT\t,\t_\t10\tpunct\t_\t_\n",
      "10\tversion\tversion\tNOUN\tNN\tNumber=Sing\t8\tconj\t_\tSpaceAfter=No\n",
      "11\t,\t,\tPUNCT\t,\t_\t13\tpunct\t_\t_\n",
      "12\tand\tand\tCCONJ\tCC\t_\t13\tcc\t_\t_\n",
      "13\tconfiguration\tconfiguration\tNOUN\tNN\tNumber=Sing\t8\tconj\t_\tSpaceAfter=No\n",
      "14\t.\t.\tPUNCT\t.\t_\t5\tpunct\t_\t_\n"
     ]
    }
   ],
   "source": [
    "# вызовем для результата UDPipe:\n",
    "\n",
    "ud = conllu_to_list(parsed) # превратили в лист\n",
    "\n",
    "print(ud[0])"
   ]
  },
  {
   "cell_type": "markdown",
   "source": [
    "Сейчас нарисуем дерево зависимости [с помощью модуля NLTK](https://www.nltk.org/api/nltk.parse.dependencygraph.html)\n",
    "\n"
   ],
   "metadata": {
    "id": "2Bozgpajw86d"
   }
  },
  {
   "cell_type": "code",
   "execution_count": 154,
   "metadata": {
    "id": "QEomREGuI7dT"
   },
   "outputs": [
    {
     "data": {
      "text/plain": "<DependencyGraph with 15 nodes>"
     },
     "execution_count": 154,
     "metadata": {},
     "output_type": "execute_result"
    }
   ],
   "source": [
    "ud_graph = DependencyGraph(tree_str=ud[0])\n",
    "ud_graph"
   ]
  },
  {
   "cell_type": "markdown",
   "metadata": {
    "id": "cuDV5KNTdgHK"
   },
   "source": [
    "а вот еще один способ визуализации дерева"
   ]
  },
  {
   "cell_type": "code",
   "source": [
    "ud_tree = ud_graph.tree()\n",
    "print(ud_tree.pretty_print())"
   ],
   "metadata": {
    "id": "4_ZTsqS3yZRw"
   },
   "execution_count": 155,
   "outputs": [
    {
     "name": "stdout",
     "output_type": "stream",
     "text": [
      "                       cover                                        \n",
      "  _______________________|_______________                            \n",
      " |   |   |      |                     platform                      \n",
      " |   |   |      |         _______________|_______________            \n",
      " |   |   |   keymaps     |      |     version      configuration    \n",
      " |   |   |      |        |      |        |       ________|________   \n",
      " do not  .  Predefined every possible    ,      ,                and\n",
      "\n",
      "None\n"
     ]
    }
   ]
  },
  {
   "cell_type": "code",
   "execution_count": 156,
   "metadata": {
    "id": "zIG1or5OI6ck"
   },
   "outputs": [
    {
     "data": {
      "text/plain": "[(('cover', 'VERB'), 'nsubj', ('keymaps', 'NOUN')),\n (('keymaps', 'NOUN'), 'amod', ('Predefined', 'ADJ')),\n (('cover', 'VERB'), 'aux', ('do', 'AUX')),\n (('cover', 'VERB'), 'advmod', ('not', 'PART')),\n (('cover', 'VERB'), 'obj', ('platform', 'NOUN')),\n (('platform', 'NOUN'), 'det', ('every', 'DET')),\n (('platform', 'NOUN'), 'amod', ('possible', 'ADJ')),\n (('platform', 'NOUN'), 'conj', ('version', 'NOUN')),\n (('version', 'NOUN'), 'punct', (',', 'PUNCT')),\n (('platform', 'NOUN'), 'conj', ('configuration', 'NOUN')),\n (('configuration', 'NOUN'), 'punct', (',', 'PUNCT')),\n (('configuration', 'NOUN'), 'cc', ('and', 'CCONJ')),\n (('cover', 'VERB'), 'punct', ('.', 'PUNCT'))]"
     },
     "execution_count": 156,
     "metadata": {},
     "output_type": "execute_result"
    }
   ],
   "source": [
    "# посмотрим, на что вообще можно разбить предложение\n",
    "list(ud_graph.triples())"
   ]
  },
  {
   "cell_type": "markdown",
   "metadata": {
    "id": "mw-xsbbRReBb"
   },
   "source": [
    "**Тройки глагол-объект-субьект:**"
   ]
  },
  {
   "cell_type": "markdown",
   "metadata": {
    "id": "ZbyRYI1NReBd"
   },
   "source": [
    "Предположим, нам нужно вытащить только ту тройку, которая расскажет о предикате (сказуемом), субъекте (подлежащем) и объекте (дополнении)."
   ]
  },
  {
   "cell_type": "code",
   "execution_count": 40,
   "metadata": {
    "id": "eiNpunK7ReBe"
   },
   "outputs": [],
   "source": [
    "def get_sov(ud, elem): # зададим функцию, которая будет вытаскивать нужную тройку\n",
    "     \n",
    "    graph = DependencyGraph(tree_str=ud[elem])\n",
    "\n",
    "    sov = {} # пустой словарь, будем в него складывать ключи и значения\n",
    "    \n",
    "    for triple in graph.triples(): # для каждого триплета из всех\n",
    "        if triple[0][1] == 'VERB': # если тег первого элемента - VERB\n",
    "            sov[triple[0][0]] = {'subj':'','obj':''}\n",
    "            \n",
    "    for triple in graph.triples(): # почему\n",
    "        \n",
    "        if triple[1] == 'nsubj': # если второй элемент -- существительное\n",
    "            if triple[0][1] == 'VERB': # при этом если тег первого элемента - VERB\n",
    "                sov[triple[0][0]]['subj']  = triple[2][0] # сохраняем значение \n",
    "        elif triple[1] == 'obj': # соответственно для дополнения\n",
    "            if triple[0][1] == 'VERB':\n",
    "                sov[triple[0][0]]['obj'] = triple[2][0]\n",
    "    return sov"
   ]
  },
  {
   "cell_type": "code",
   "source": [
    "get_sov(ud,2)"
   ],
   "metadata": {
    "id": "NrIRaa3PzeHM"
   },
   "execution_count": 159,
   "outputs": [
    {
     "data": {
      "text/plain": "{'reassign': {'subj': 'you', 'obj': 'shortcut'},\n 'fix': {'subj': '', 'obj': 'conflicts'},\n 'disable': {'subj': '', 'obj': ''}}"
     },
     "execution_count": 159,
     "metadata": {},
     "output_type": "execute_result"
    }
   ]
  },
  {
   "cell_type": "markdown",
   "metadata": {
    "id": "2fhNcFP0zYYq"
   },
   "source": [
    "## идеи дальше:\n",
    "(на выбор)\n",
    "1. Выбрать текст (на русском), с которым было бы интересно поработать. Попробовать вытащить все тройки предикат-субъект-объект из выбранного текста, посмотреть на результат, проинтерпретировать\n",
    "2. Написать функцию,которая бы учитывала сложные сказуемые*(начинает уходить, устал думать)* как единый элемент (она похожа на функцию, которая собирает однородные дополнения, нам также нужно что-то сделать с тегами)\n",
    "3. попробовать предобученные модели для других языков\n",
    "4. Попробовать парсеры на предложениях с [синтаксической омонимией](https://github.com/sjut/DPO_Materials/blob/ff1341f1d82ca11a763e15d76601bd6898958323/%D0%9F%D1%80%D0%B0%D0%BA%D1%82%D0%B8%D1%87%D0%B5%D1%81%D0%BA%D0%B8%D0%B5%20%D0%B7%D0%B0%D0%BD%D1%8F%D1%82%D0%B8%D1%8F/%D1%81%D0%B8%D0%BD%D1%82_%D0%BD%D0%B5%D0%BE%D0%B4%D0%BD%D0%BE%D0%B7%D0%BD%D0%B0%D1%87%D0%BD%D0%BE%D1%81%D1%82%D1%8C.txt), проинтерпретировать результаты \n",
    "(для этого текст, который вы хотите анализировать, необходимо сохранить в переменную одним из удобных способов)"
   ]
  },
  {
   "cell_type": "markdown",
   "metadata": {
    "id": "v_ZO2RZM-7ZJ"
   },
   "source": [
    "# что есть еще? \n",
    "\n",
    "более немейнстримные парсеры"
   ]
  },
  {
   "cell_type": "markdown",
   "metadata": {
    "id": "HFcnKsN8dgHM"
   },
   "source": [
    "## DeepPavlov\n",
    "\n",
    "[ссылка на тетрадку с подробностями](https://github.com/nstsj/python_for_CL/blob/master/syntax_parsing/syntax_analysis_DeepPavlov.ipynb)\n"
   ]
  },
  {
   "cell_type": "markdown",
   "metadata": {
    "id": "pq6mKkYnV-nE"
   },
   "source": [
    "## SyntaxNet"
   ]
  },
  {
   "cell_type": "markdown",
   "metadata": {
    "id": "XhUfIPQ5ef8F"
   },
   "source": [
    "SyntaxNet — это гугловская библиотека для определения синтаксических связей (использует нейронную сеть на TensorFlow). Поддерживает 40 языков, в том числе  русский.\n",
    "\n",
    "* [документация](https://github.com/tensorflow/models/blob/master/research/syntaxnet/README.md)\n",
    "* [репозиторий на гитхабе](https://github.com/tensorflow/models/tree/master/research/syntaxnet)\n",
    "* [тьюториал](https://github.com/tensorflow/models/blob/master/research/syntaxnet/g3doc/syntaxnet-tutorial.md)\n",
    "* [ссылка на обученные модели](https://github.com/tensorflow/models/blob/master/research/syntaxnet/g3doc/universal.md)"
   ]
  },
  {
   "cell_type": "markdown",
   "metadata": {
    "id": "mpzSzxbf_K2l"
   },
   "source": [
    "## Stanford Parser"
   ]
  },
  {
   "cell_type": "markdown",
   "metadata": {
    "id": "LK9TRxO5_OhV"
   },
   "source": [
    "* [о проекте](https://nlp.stanford.edu/software/stanford-dependencies.shtml#Languages)\n",
    "* [о парсере](https://nlp.stanford.edu/software/lex-parser.html)\n",
    "* [питонская обертка](http://projects.csail.mit.edu/spatial/Stanford_Parser)"
   ]
  },
  {
   "cell_type": "markdown",
   "metadata": {
    "id": "aIysPR4DdgHN"
   },
   "source": [
    "## SpaCy\n",
    "\n",
    "библиотека для различных NLP-задач от (токенизации до NER и др), в том числе умеет делать [синтаксический анализ предложения в грамматике зависимостей](https://spacy.io/usage/linguistic-features#dependency-parse)"
   ]
  },
  {
   "cell_type": "code",
   "execution_count": null,
   "metadata": {
    "id": "MvLaXdw5dgHN"
   },
   "outputs": [],
   "source": [
    ""
   ]
  }
 ],
 "metadata": {
  "colab": {
   "collapsed_sections": [],
   "machine_shape": "hm",
   "name": "syntactic_parsers.ipynb",
   "provenance": []
  },
  "kernelspec": {
   "display_name": "Python 3",
   "language": "python",
   "name": "python3"
  },
  "language_info": {
   "codemirror_mode": {
    "name": "ipython",
    "version": 3
   },
   "file_extension": ".py",
   "mimetype": "text/x-python",
   "name": "python",
   "nbconvert_exporter": "python",
   "pygments_lexer": "ipython3",
   "version": "3.8.2"
  }
 },
 "nbformat": 4,
 "nbformat_minor": 0
}