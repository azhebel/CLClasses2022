{
 "cells": [
  {
   "cell_type": "markdown",
   "metadata": {
    "colab_type": "text",
    "id": "qUCeat3VZWY6"
   },
   "source": [
    "Сегодня мы поговорим о морфологических анализаторах для русского языка. Важно отметить, что (в основном) для каждого естественного языка нужен свой морфоанализатор.\n",
    "\n",
    "* шаг 1: установим пайморфи и майстем"
   ]
  },
  {
   "cell_type": "code",
   "execution_count": null,
   "metadata": {
    "colab": {
     "base_uri": "https://localhost:8080/",
     "height": 326
    },
    "colab_type": "code",
    "id": "tP2ugs4qYMIO",
    "outputId": "21a7fa9d-c127-43b8-9f60-2f804e38aa9d",
    "tags": []
   },
   "outputs": [],
   "source": [
    "# !pip3 install pymystem3==0.1.10\n",
    "# !pip3 install pymorphy2[fast]\n",
    "\n",
    "# ! pip3 install gensim"
   ]
  },
  {
   "cell_type": "code",
   "execution_count": 22,
   "metadata": {
    "colab": {
     "base_uri": "https://localhost:8080/",
     "height": 54
    },
    "colab_type": "code",
    "id": "K_EYd7mJanYb",
    "outputId": "41b8f3a1-b8fd-42e9-a8a5-020f05b952df"
   },
   "outputs": [
    {
     "name": "stderr",
     "output_type": "stream",
     "text": [
      "Installing mystem to /Users/azhebel/.local/bin/mystem from http://download.cdn.yandex.net/mystem/mystem-3.1-macosx.tar.gz\n"
     ]
    },
    {
     "name": "stdout",
     "output_type": "stream",
     "text": [
      "Hello\n"
     ]
    }
   ],
   "source": [
    "# импортируем нужные части библиотек\n",
    "from pymorphy2 import MorphAnalyzer\n",
    "from pymystem3 import Mystem\n",
    "\n",
    "# сохраняем класс в переменную\n",
    "mystem = Mystem()\n",
    "morph = MorphAnalyzer()\n",
    "print(\"Hello\")\n"
   ]
  },
  {
   "cell_type": "code",
   "execution_count": 5,
   "metadata": {
    "colab": {},
    "colab_type": "code",
    "id": "sAm6HB5hfS-A"
   },
   "outputs": [],
   "source": [
    "# сэмпл-текст, на котором все будем пробовать\n",
    "text = \"\"\"Зрелый фрукт на вкус очень сладок и обладает приятным сладковатым ароматом. В нём много витаминов и сахаров, но мало кислот.\"\"\""
   ]
  },
  {
   "cell_type": "markdown",
   "metadata": {
    "colab_type": "text",
    "id": "BBDkyu6kdeQO"
   },
   "source": [
    "## нормализация"
   ]
  },
  {
   "cell_type": "markdown",
   "metadata": {
    "colab_type": "text",
    "id": "YJ05gNGxkY4I"
   },
   "source": [
    "давайте приведем текст к нижнему регистру"
   ]
  },
  {
   "cell_type": "code",
   "execution_count": 15,
   "metadata": {
    "colab": {
     "base_uri": "https://localhost:8080/",
     "height": 54
    },
    "colab_type": "code",
    "id": "y1dUzBYcdiNk",
    "outputId": "0c1efc14-36f9-4361-b796-52a4aacf31f8"
   },
   "outputs": [
    {
     "data": {
      "text/plain": "'зрелый фрукт на вкус очень сладок и обладает приятным сладковатым ароматом. в нём много витаминов и сахаров, но мало кислот.'"
     },
     "execution_count": 15,
     "metadata": {},
     "output_type": "execute_result"
    }
   ],
   "source": [
    "text = text.lower()\n",
    "text"
   ]
  },
  {
   "cell_type": "markdown",
   "metadata": {
    "colab_type": "text",
    "id": "hr9pnX59bD3Q"
   },
   "source": [
    "## токенизация"
   ]
  },
  {
   "cell_type": "markdown",
   "metadata": {
    "colab_type": "text",
    "id": "5evdBA7CkeRC"
   },
   "source": [
    "иногда текст нужно предварительно разбить на токены, отдельные элементы. Токенизаторов много, каждый делает это, руководствуясь своими правилами\n",
    "\n",
    "* токенизация нужна, если морофоанализатор не умеет токенизировать сам (Mystem умеет, Pymorphy не умеет)"
   ]
  },
  {
   "cell_type": "code",
   "execution_count": 20,
   "metadata": {
    "colab": {},
    "colab_type": "code",
    "id": "VTGeMdVzb1h9"
   },
   "outputs": [],
   "source": [
    "# два примера токенизации\n",
    "from nltk.tokenize import word_tokenize\n",
    "from gensim.utils import tokenize"
   ]
  },
  {
   "cell_type": "code",
   "execution_count": 21,
   "metadata": {
    "tags": []
   },
   "outputs": [
    {
     "data": {
      "text/plain": "['зрелый',\n 'фрукт',\n 'на',\n 'вкус',\n 'очень',\n 'сладок',\n 'и',\n 'обладает',\n 'приятным',\n 'сладковатым',\n 'ароматом',\n 'в',\n 'нём',\n 'много',\n 'витаминов',\n 'и',\n 'сахаров',\n 'но',\n 'мало',\n 'кислот']"
     },
     "execution_count": 21,
     "metadata": {},
     "output_type": "execute_result"
    }
   ],
   "source": [
    "list(tokenize(text))"
   ]
  },
  {
   "cell_type": "code",
   "metadata": {
    "pycharm": {
     "name": "#%%\n"
    }
   },
   "source": [
    "word_tokenize(text)"
   ],
   "execution_count": 23,
   "outputs": [
    {
     "data": {
      "text/plain": "['зрелый',\n 'фрукт',\n 'на',\n 'вкус',\n 'очень',\n 'сладок',\n 'и',\n 'обладает',\n 'приятным',\n 'сладковатым',\n 'ароматом',\n '.',\n 'в',\n 'нём',\n 'много',\n 'витаминов',\n 'и',\n 'сахаров',\n ',',\n 'но',\n 'мало',\n 'кислот',\n '.']"
     },
     "execution_count": 23,
     "metadata": {},
     "output_type": "execute_result"
    }
   ]
  },
  {
   "cell_type": "markdown",
   "metadata": {
    "colab_type": "text",
    "id": "myoMhGgKjk1d"
   },
   "source": [
    "## лемматизация и морфоанализ"
   ]
  },
  {
   "cell_type": "markdown",
   "metadata": {
    "colab_type": "text",
    "id": "FK0Zwx3FSfug"
   },
   "source": [
    "### Mystem"
   ]
  },
  {
   "cell_type": "markdown",
   "metadata": {
    "colab_type": "text",
    "id": "Uei-SLNwSfuh"
   },
   "source": [
    "\n",
    "Майстем работает немного лучше и сам токенизирует,\n",
    "поэтому можно ему подавать сырой текст."
   ]
  },
  {
   "cell_type": "code",
   "execution_count": 6,
   "metadata": {
    "colab": {
     "base_uri": "https://localhost:8080/",
     "height": 88
    },
    "colab_type": "code",
    "id": "uDQbEwUaSfui",
    "outputId": "2397f16d-2559-40d5-dddc-e5dcb37bb524"
   },
   "outputs": [
    {
     "name": "stdout",
     "output_type": "stream",
     "text": [
      "зрелый фрукт на вкус очень сладок и обладает приятным сладковатым ароматом. в нём много витаминов и сахаров, но мало кислот. \n",
      "\n",
      "['зрелый', ' ', 'фрукт', ' ', 'на', ' ', 'вкус', ' ', 'очень', ' ', 'сладкий', ' ', 'и', ' ', 'обладать', ' ', 'приятный', ' ', 'сладковатый', ' ', 'аромат', '.', ' ', 'в', ' ', 'он', ' ', 'много', ' ', 'витамин', ' ', 'и', ' ', 'сахаров', ', ', 'но', ' ', 'мало', ' ', 'кислота', '.', '\\n']\n"
     ]
    }
   ],
   "source": [
    "# сначала лемматизируем слова методом .lemmatize()\n",
    "print(text, \"\\n\")\n",
    "\n",
    "print(mystem.lemmatize(text))\n"
   ]
  },
  {
   "cell_type": "code",
   "execution_count": 24,
   "metadata": {
    "colab": {},
    "colab_type": "code",
    "id": "4foA60oJSfur"
   },
   "outputs": [],
   "source": [
    "# метод .analyze() даст грамматическую информацию о словах\n",
    "\n",
    "ms_analyzed = mystem.analyze(text)"
   ]
  },
  {
   "cell_type": "markdown",
   "metadata": {
    "colab_type": "text",
    "id": "I-AaAvpyLcsI"
   },
   "source": [
    "этот метод возвращает список словарей\n",
    "\n",
    "\n",
    "каждый словарь имеет либо одно поле 'text' (когда попался пробел или пунктуация) или text и analysis\n",
    "\n",
    "* в analysis снова список словарей с вариантами разбора (первый самый вероятный)\n",
    "* поля в analysis - 'gr' - грамматическая информация, 'lex' - лемма\n",
    "* analysis - может быть пустым списком"
   ]
  },
  {
   "cell_type": "code",
   "execution_count": 25,
   "metadata": {
    "colab": {},
    "colab_type": "code",
    "id": "j8dvucDvL9Be"
   },
   "outputs": [
    {
     "name": "stdout",
     "output_type": "stream",
     "text": [
      "[{'analysis': [{'lex': 'зрелый', 'wt': 1, 'gr': 'A=(вин,ед,полн,муж,неод|им,ед,полн,муж)'}], 'text': 'зрелый'}, {'text': ' '}, {'analysis': [{'lex': 'фрукт', 'wt': 0.9485761648, 'gr': 'S,муж,неод=(вин,ед|им,ед)'}], 'text': 'фрукт'}, {'text': ' '}, {'analysis': [{'lex': 'на', 'wt': 0.9989522965, 'gr': 'PR='}], 'text': 'на'}, {'text': ' '}, {'analysis': [{'lex': 'вкус', 'wt': 1, 'gr': 'S,муж,неод=(вин,ед|им,ед)'}], 'text': 'вкус'}, {'text': ' '}, {'analysis': [{'lex': 'очень', 'wt': 1, 'gr': 'ADV='}], 'text': 'очень'}, {'text': ' '}, {'analysis': [{'lex': 'сладкий', 'wt': 1, 'gr': 'A=ед,кр,муж'}], 'text': 'сладок'}, {'text': ' '}, {'analysis': [{'lex': 'и', 'wt': 0.9999770357, 'gr': 'CONJ='}], 'text': 'и'}, {'text': ' '}, {'analysis': [{'lex': 'обладать', 'wt': 1, 'gr': 'V,несов,нп=непрош,ед,изъяв,3-л'}], 'text': 'обладает'}, {'text': ' '}, {'analysis': [{'lex': 'приятный', 'wt': 1, 'gr': 'A=(дат,мн,полн|твор,ед,полн,муж|твор,ед,полн,сред)'}], 'text': 'приятным'}, {'text': ' '}, {'analysis': [{'lex': 'сладковатый', 'wt': 1, 'gr': 'A=(дат,мн,полн|твор,ед,полн,муж|твор,ед,полн,сред)'}], 'text': 'сладковатым'}, {'text': ' '}, {'analysis': [{'lex': 'аромат', 'wt': 1, 'gr': 'S,муж,неод=твор,ед'}], 'text': 'ароматом'}, {'text': '.'}, {'text': ' '}, {'analysis': [{'lex': 'в', 'wt': 0.9999917878, 'gr': 'PR='}], 'text': 'в'}, {'text': ' '}, {'analysis': [{'lex': 'он', 'wt': 0.8501841275, 'gr': 'SPRO,ед,3-л,муж=пр'}], 'text': 'нём'}, {'text': ' '}, {'analysis': [{'lex': 'много', 'wt': 0.9866397499, 'gr': 'ADV,прдк='}], 'text': 'много'}, {'text': ' '}, {'analysis': [{'lex': 'витамин', 'wt': 0.9982945842, 'gr': 'S,муж,неод=род,мн'}], 'text': 'витаминов'}, {'text': ' '}, {'analysis': [{'lex': 'и', 'wt': 0.9999770357, 'gr': 'CONJ='}], 'text': 'и'}, {'text': ' '}, {'analysis': [{'lex': 'сахаров', 'wt': 0.3631867498, 'gr': 'S,фам,муж,од=им,ед'}], 'text': 'сахаров'}, {'text': ', '}, {'analysis': [{'lex': 'но', 'wt': 0.9998906299, 'gr': 'CONJ='}], 'text': 'но'}, {'text': ' '}, {'analysis': [{'lex': 'мало', 'wt': 0.6694873782, 'gr': 'ADV='}], 'text': 'мало'}, {'text': ' '}, {'analysis': [{'lex': 'кислота', 'wt': 1, 'gr': 'S,жен,неод=род,мн'}], 'text': 'кислот'}, {'text': '.'}, {'text': '\\n'}]\n"
     ]
    }
   ],
   "source": [
    "print(ms_analyzed) # попробуйте разные индексы"
   ]
  },
  {
   "cell_type": "code",
   "execution_count": 26,
   "metadata": {
    "colab": {
     "base_uri": "https://localhost:8080/",
     "height": 85
    },
    "colab_type": "code",
    "id": "zbbCXnFbSfuw",
    "outputId": "cd7f46c2-9582-470f-a874-7156a090d98f"
   },
   "outputs": [
    {
     "name": "stdout",
     "output_type": "stream",
     "text": [
      "Слово -  зрелый\n",
      "Разбор слова -  {'lex': 'зрелый', 'wt': 1, 'gr': 'A=(вин,ед,полн,муж,неод|им,ед,полн,муж)'}\n",
      "Лемма слова -  зрелый\n",
      "Грамматическая информация слова -  A=(вин,ед,полн,муж,неод|им,ед,полн,муж)\n"
     ]
    }
   ],
   "source": [
    "# сделаем все красиво с индексами и доступом по ключам\n",
    "\n",
    "print('Слово - ',ms_analyzed[0]['text'])\n",
    "print('Разбор слова - ', ms_analyzed[0]['analysis'][0])\n",
    "print('Лемма слова - ', ms_analyzed[0]['analysis'][0]['lex'])\n",
    "print('Грамматическая информация слова - ', ms_analyzed[0]['analysis'][0]['gr'])"
   ]
  },
  {
   "cell_type": "code",
   "execution_count": 27,
   "metadata": {
    "colab": {
     "base_uri": "https://localhost:8080/",
     "height": 187
    },
    "colab_type": "code",
    "id": "FHs_zUYySfuz",
    "outputId": "f5472fb6-d873-45a1-bc09-34d14eca00c6"
   },
   "outputs": [
    {
     "data": {
      "text/plain": "['зрелый',\n 'фрукт',\n 'на',\n 'вкус',\n 'очень',\n 'сладкий',\n 'и',\n 'обладать',\n 'приятный',\n 'сладковатый',\n 'аромат',\n 'в',\n 'он',\n 'много',\n 'витамин',\n 'и',\n 'сахаров',\n 'но',\n 'мало',\n 'кислота']"
     },
     "execution_count": 27,
     "metadata": {},
     "output_type": "execute_result"
    }
   ],
   "source": [
    "# леммы можно достать в одну строчку\n",
    "[elem['analysis'][0]['lex'] for elem in ms_analyzed if elem.get('analysis')]"
   ]
  },
  {
   "cell_type": "code",
   "execution_count": null,
   "metadata": {
    "colab": {},
    "colab_type": "code",
    "id": "G_9QmDvEi-2y",
    "tags": []
   },
   "outputs": [],
   "source": [
    "# # то же самое, что в предыдущей ячейке, но циклом\n",
    "# res = []\n",
    "# for elem in ms_analyzed:\n",
    "#     if elem.get('analysis'):\n",
    "#         res.append(elem['analysis'][0]['lex'])\n",
    "\n",
    "# res[:10]"
   ]
  },
  {
   "cell_type": "markdown",
   "metadata": {
    "colab_type": "text",
    "id": "prpnW0kWjtdg"
   },
   "source": [
    "#### дополнительные возможности Mystem"
   ]
  },
  {
   "cell_type": "markdown",
   "metadata": {
    "colab_type": "text",
    "id": "U8fThMyuSfu2"
   },
   "source": [
    "Mystem умеет разбивать текст на предложения, но через питоновский интерфейс это сделать не получится. Нужно скачать mystem отсюда - https://yandex.ru/dev/mystem/ и использовать в командной строке"
   ]
  },
  {
   "cell_type": "markdown",
   "metadata": {
    "colab_type": "text",
    "id": "iInXST2ASfvF"
   },
   "source": [
    "Недостатки Mystem: это продукт Яндекса с некоторыми ограничениями на использование, больше он не развивается."
   ]
  },
  {
   "cell_type": "markdown",
   "metadata": {
    "colab_type": "text",
    "id": "xmGbPTt9SfvH"
   },
   "source": [
    "### Pymorphy"
   ]
  },
  {
   "cell_type": "markdown",
   "metadata": {
    "colab_type": "text",
    "id": "AmEOXgExSfvK"
   },
   "source": [
    "Pymorphy - открытый и развивается ([можно поучаствовать на гитхабе](https://github.com/kmike/pymorphy2))\n",
    "\n",
    "\n",
    "* [документация pymorphy](https://pythonhosted.org/pymorphy/)"
   ]
  },
  {
   "cell_type": "markdown",
   "metadata": {
    "colab_type": "text",
    "id": "kacinkpvSfvL"
   },
   "source": [
    "У него нет встроенной токенизации и он расценивает всё как слово. Когда есть несколько вариантов, он выдает их с вероятностостями, которые расчитатны на корпусе со снятой неоднозначностью. Это лучше стемминга, но хуже майстема."
   ]
  },
  {
   "cell_type": "code",
   "execution_count": 28,
   "metadata": {
    "colab": {},
    "colab_type": "code",
    "id": "vLAH4hFGSfvM"
   },
   "outputs": [],
   "source": [
    "# основная функция - pymorphy.parse\n",
    "\n",
    "pm_analyzed = [morph.parse(token) for token in word_tokenize(text)]"
   ]
  },
  {
   "cell_type": "code",
   "execution_count": 29,
   "metadata": {
    "colab": {},
    "colab_type": "code",
    "id": "Xczi9QqikC3w",
    "tags": []
   },
   "outputs": [
    {
     "data": {
      "text/plain": "[[Parse(word='зрелый', tag=OpencorporaTag('ADJF,Qual masc,sing,nomn'), normal_form='зрелый', score=0.5, methods_stack=((DictionaryAnalyzer(), 'зрелый', 4, 0),)),\n  Parse(word='зрелый', tag=OpencorporaTag('ADJF,Qual inan,masc,sing,accs'), normal_form='зрелый', score=0.5, methods_stack=((DictionaryAnalyzer(), 'зрелый', 4, 4),))],\n [Parse(word='фрукт', tag=OpencorporaTag('NOUN,inan,masc sing,nomn'), normal_form='фрукт', score=0.3333333333333333, methods_stack=((DictionaryAnalyzer(), 'фрукт', 34, 0),)),\n  Parse(word='фрукт', tag=OpencorporaTag('NOUN,inan,masc sing,accs'), normal_form='фрукт', score=0.3333333333333333, methods_stack=((DictionaryAnalyzer(), 'фрукт', 34, 3),)),\n  Parse(word='фрукт', tag=OpencorporaTag('NOUN,anim,masc sing,nomn'), normal_form='фрукт', score=0.3333333333333333, methods_stack=((DictionaryAnalyzer(), 'фрукт', 52, 0),))],\n [Parse(word='на', tag=OpencorporaTag('PREP'), normal_form='на', score=0.998961, methods_stack=((DictionaryAnalyzer(), 'на', 24, 0),)),\n  Parse(word='на', tag=OpencorporaTag('PRCL'), normal_form='на', score=0.000849, methods_stack=((DictionaryAnalyzer(), 'на', 22, 0),)),\n  Parse(word='на', tag=OpencorporaTag('INTJ'), normal_form='на', score=0.000188, methods_stack=((DictionaryAnalyzer(), 'на', 21, 0),))],\n [Parse(word='вкус', tag=OpencorporaTag('NOUN,inan,masc sing,accs'), normal_form='вкус', score=0.714285, methods_stack=((DictionaryAnalyzer(), 'вкус', 34, 3),)),\n  Parse(word='вкус', tag=OpencorporaTag('NOUN,inan,masc sing,nomn'), normal_form='вкус', score=0.285714, methods_stack=((DictionaryAnalyzer(), 'вкус', 34, 0),))],\n [Parse(word='очень', tag=OpencorporaTag('ADVB'), normal_form='очень', score=1.0, methods_stack=((DictionaryAnalyzer(), 'очень', 3, 0),))],\n [Parse(word='сладок', tag=OpencorporaTag('ADJS,Qual masc,sing'), normal_form='сладкий', score=1.0, methods_stack=((DictionaryAnalyzer(), 'сладок', 2892, 54),))],\n [Parse(word='и', tag=OpencorporaTag('CONJ'), normal_form='и', score=0.998263, methods_stack=((DictionaryAnalyzer(), 'и', 20, 0),)),\n  Parse(word='и', tag=OpencorporaTag('PRCL'), normal_form='и', score=0.000306, methods_stack=((DictionaryAnalyzer(), 'и', 22, 0),)),\n  Parse(word='и', tag=OpencorporaTag('INTJ'), normal_form='и', score=0.000204, methods_stack=((DictionaryAnalyzer(), 'и', 21, 0),)),\n  Parse(word='и', tag=OpencorporaTag('NOUN,anim,masc,Fixd,Abbr sing,nomn'), normal_form='и', score=0.000102, methods_stack=((DictionaryAnalyzer(), 'и', 3289, 0),)),\n  Parse(word='и', tag=OpencorporaTag('NOUN,anim,masc,Fixd,Abbr sing,gent'), normal_form='и', score=0.000102, methods_stack=((DictionaryAnalyzer(), 'и', 3289, 1),)),\n  Parse(word='и', tag=OpencorporaTag('NOUN,anim,masc,Fixd,Abbr sing,datv'), normal_form='и', score=0.000102, methods_stack=((DictionaryAnalyzer(), 'и', 3289, 2),)),\n  Parse(word='и', tag=OpencorporaTag('NOUN,anim,masc,Fixd,Abbr sing,accs'), normal_form='и', score=0.000102, methods_stack=((DictionaryAnalyzer(), 'и', 3289, 3),)),\n  Parse(word='и', tag=OpencorporaTag('NOUN,anim,masc,Fixd,Abbr sing,ablt'), normal_form='и', score=0.000102, methods_stack=((DictionaryAnalyzer(), 'и', 3289, 4),)),\n  Parse(word='и', tag=OpencorporaTag('NOUN,anim,masc,Fixd,Abbr sing,loct'), normal_form='и', score=0.000102, methods_stack=((DictionaryAnalyzer(), 'и', 3289, 5),)),\n  Parse(word='и', tag=OpencorporaTag('NOUN,anim,masc,Fixd,Abbr plur,nomn'), normal_form='и', score=0.000102, methods_stack=((DictionaryAnalyzer(), 'и', 3289, 6),)),\n  Parse(word='и', tag=OpencorporaTag('NOUN,anim,masc,Fixd,Abbr plur,gent'), normal_form='и', score=0.000102, methods_stack=((DictionaryAnalyzer(), 'и', 3289, 7),)),\n  Parse(word='и', tag=OpencorporaTag('NOUN,anim,masc,Fixd,Abbr plur,datv'), normal_form='и', score=0.000102, methods_stack=((DictionaryAnalyzer(), 'и', 3289, 8),)),\n  Parse(word='и', tag=OpencorporaTag('NOUN,anim,masc,Fixd,Abbr plur,accs'), normal_form='и', score=0.000102, methods_stack=((DictionaryAnalyzer(), 'и', 3289, 9),)),\n  Parse(word='и', tag=OpencorporaTag('NOUN,anim,masc,Fixd,Abbr plur,ablt'), normal_form='и', score=0.000102, methods_stack=((DictionaryAnalyzer(), 'и', 3289, 10),)),\n  Parse(word='и', tag=OpencorporaTag('NOUN,anim,masc,Fixd,Abbr plur,loct'), normal_form='и', score=0.000102, methods_stack=((DictionaryAnalyzer(), 'и', 3289, 11),))],\n [Parse(word='обладает', tag=OpencorporaTag('VERB,impf,intr sing,3per,pres,indc'), normal_form='обладать', score=1.0, methods_stack=((DictionaryAnalyzer(), 'обладает', 15, 5),))],\n [Parse(word='приятным', tag=OpencorporaTag('ADJF,Qual masc,sing,ablt'), normal_form='приятный', score=0.454545, methods_stack=((DictionaryAnalyzer(), 'приятным', 223, 5),)),\n  Parse(word='приятным', tag=OpencorporaTag('ADJF,Qual neut,sing,ablt'), normal_form='приятный', score=0.454545, methods_stack=((DictionaryAnalyzer(), 'приятным', 223, 18),)),\n  Parse(word='приятным', tag=OpencorporaTag('ADJF,Qual plur,datv'), normal_form='приятный', score=0.090909, methods_stack=((DictionaryAnalyzer(), 'приятным', 223, 22),))],\n [Parse(word='сладковатым', tag=OpencorporaTag('ADJF masc,sing,ablt'), normal_form='сладковатый', score=0.3333333333333333, methods_stack=((DictionaryAnalyzer(), 'сладковатым', 73, 5),)),\n  Parse(word='сладковатым', tag=OpencorporaTag('ADJF neut,sing,ablt'), normal_form='сладковатый', score=0.3333333333333333, methods_stack=((DictionaryAnalyzer(), 'сладковатым', 73, 18),)),\n  Parse(word='сладковатым', tag=OpencorporaTag('ADJF plur,datv'), normal_form='сладковатый', score=0.3333333333333333, methods_stack=((DictionaryAnalyzer(), 'сладковатым', 73, 22),))],\n [Parse(word='ароматом', tag=OpencorporaTag('NOUN,inan,masc sing,ablt'), normal_form='аромат', score=1.0, methods_stack=((DictionaryAnalyzer(), 'ароматом', 34, 4),))],\n [Parse(word='.', tag=OpencorporaTag('PNCT'), normal_form='.', score=1.0, methods_stack=((PunctuationAnalyzer(score=0.9), '.'),))],\n [Parse(word='в', tag=OpencorporaTag('PREP'), normal_form='в', score=0.999327, methods_stack=((DictionaryAnalyzer(), 'в', 393, 0),)),\n  Parse(word='в', tag=OpencorporaTag('NOUN,inan,masc,Fixd,Abbr sing,gent'), normal_form='в', score=0.000249, methods_stack=((DictionaryAnalyzer(), 'в', 349, 1),)),\n  Parse(word='в', tag=OpencorporaTag('NOUN,inan,masc,Fixd,Abbr sing,loct'), normal_form='в', score=5.7e-05, methods_stack=((DictionaryAnalyzer(), 'в', 349, 5),)),\n  Parse(word='в', tag=OpencorporaTag('NOUN,inan,masc,Fixd,Abbr sing,nomn'), normal_form='в', score=1.9e-05, methods_stack=((DictionaryAnalyzer(), 'в', 349, 0),)),\n  Parse(word='в', tag=OpencorporaTag('NOUN,inan,masc,Fixd,Abbr sing,datv'), normal_form='в', score=1.9e-05, methods_stack=((DictionaryAnalyzer(), 'в', 349, 2),)),\n  Parse(word='в', tag=OpencorporaTag('NOUN,inan,masc,Fixd,Abbr sing,accs'), normal_form='в', score=1.9e-05, methods_stack=((DictionaryAnalyzer(), 'в', 349, 3),)),\n  Parse(word='в', tag=OpencorporaTag('NOUN,inan,masc,Fixd,Abbr sing,ablt'), normal_form='в', score=1.9e-05, methods_stack=((DictionaryAnalyzer(), 'в', 349, 4),)),\n  Parse(word='в', tag=OpencorporaTag('NOUN,inan,masc,Fixd,Abbr plur,nomn'), normal_form='в', score=1.9e-05, methods_stack=((DictionaryAnalyzer(), 'в', 349, 6),)),\n  Parse(word='в', tag=OpencorporaTag('NOUN,inan,masc,Fixd,Abbr plur,gent'), normal_form='в', score=1.9e-05, methods_stack=((DictionaryAnalyzer(), 'в', 349, 7),)),\n  Parse(word='в', tag=OpencorporaTag('NOUN,inan,masc,Fixd,Abbr plur,datv'), normal_form='в', score=1.9e-05, methods_stack=((DictionaryAnalyzer(), 'в', 349, 8),)),\n  Parse(word='в', tag=OpencorporaTag('NOUN,inan,masc,Fixd,Abbr plur,accs'), normal_form='в', score=1.9e-05, methods_stack=((DictionaryAnalyzer(), 'в', 349, 9),)),\n  Parse(word='в', tag=OpencorporaTag('NOUN,inan,masc,Fixd,Abbr plur,ablt'), normal_form='в', score=1.9e-05, methods_stack=((DictionaryAnalyzer(), 'в', 349, 10),)),\n  Parse(word='в', tag=OpencorporaTag('NOUN,inan,masc,Fixd,Abbr plur,loct'), normal_form='в', score=1.9e-05, methods_stack=((DictionaryAnalyzer(), 'в', 349, 11),))],\n [Parse(word='нём', tag=OpencorporaTag('NPRO,masc,3per,Anph sing,loct,Af-p'), normal_form='он', score=0.5, methods_stack=((DictionaryAnalyzer(), 'нём', 2304, 9),)),\n  Parse(word='нём', tag=OpencorporaTag('NPRO,neut,3per,Anph sing,loct,Af-p'), normal_form='оно', score=0.5, methods_stack=((DictionaryAnalyzer(), 'нём', 2307, 9),))],\n [Parse(word='много', tag=OpencorporaTag('ADVB,Prdx'), normal_form='много', score=0.984732, methods_stack=((DictionaryAnalyzer(), 'много', 404, 0),)),\n  Parse(word='много', tag=OpencorporaTag('NUMR nomn'), normal_form='много', score=0.007633, methods_stack=((DictionaryAnalyzer(), 'много', 3277, 0),)),\n  Parse(word='много', tag=OpencorporaTag('NUMR accs'), normal_form='много', score=0.007633, methods_stack=((DictionaryAnalyzer(), 'много', 3277, 3),))],\n [Parse(word='витаминов', tag=OpencorporaTag('NOUN,inan,masc plur,gent'), normal_form='витамин', score=0.666666, methods_stack=((DictionaryAnalyzer(), 'витаминов', 34, 7),)),\n  Parse(word='витаминов', tag=OpencorporaTag('ADJS masc,sing'), normal_form='витаминовый', score=0.333333, methods_stack=((DictionaryAnalyzer(), 'витаминов', 73, 27),))],\n [Parse(word='и', tag=OpencorporaTag('CONJ'), normal_form='и', score=0.998263, methods_stack=((DictionaryAnalyzer(), 'и', 20, 0),)),\n  Parse(word='и', tag=OpencorporaTag('PRCL'), normal_form='и', score=0.000306, methods_stack=((DictionaryAnalyzer(), 'и', 22, 0),)),\n  Parse(word='и', tag=OpencorporaTag('INTJ'), normal_form='и', score=0.000204, methods_stack=((DictionaryAnalyzer(), 'и', 21, 0),)),\n  Parse(word='и', tag=OpencorporaTag('NOUN,anim,masc,Fixd,Abbr sing,nomn'), normal_form='и', score=0.000102, methods_stack=((DictionaryAnalyzer(), 'и', 3289, 0),)),\n  Parse(word='и', tag=OpencorporaTag('NOUN,anim,masc,Fixd,Abbr sing,gent'), normal_form='и', score=0.000102, methods_stack=((DictionaryAnalyzer(), 'и', 3289, 1),)),\n  Parse(word='и', tag=OpencorporaTag('NOUN,anim,masc,Fixd,Abbr sing,datv'), normal_form='и', score=0.000102, methods_stack=((DictionaryAnalyzer(), 'и', 3289, 2),)),\n  Parse(word='и', tag=OpencorporaTag('NOUN,anim,masc,Fixd,Abbr sing,accs'), normal_form='и', score=0.000102, methods_stack=((DictionaryAnalyzer(), 'и', 3289, 3),)),\n  Parse(word='и', tag=OpencorporaTag('NOUN,anim,masc,Fixd,Abbr sing,ablt'), normal_form='и', score=0.000102, methods_stack=((DictionaryAnalyzer(), 'и', 3289, 4),)),\n  Parse(word='и', tag=OpencorporaTag('NOUN,anim,masc,Fixd,Abbr sing,loct'), normal_form='и', score=0.000102, methods_stack=((DictionaryAnalyzer(), 'и', 3289, 5),)),\n  Parse(word='и', tag=OpencorporaTag('NOUN,anim,masc,Fixd,Abbr plur,nomn'), normal_form='и', score=0.000102, methods_stack=((DictionaryAnalyzer(), 'и', 3289, 6),)),\n  Parse(word='и', tag=OpencorporaTag('NOUN,anim,masc,Fixd,Abbr plur,gent'), normal_form='и', score=0.000102, methods_stack=((DictionaryAnalyzer(), 'и', 3289, 7),)),\n  Parse(word='и', tag=OpencorporaTag('NOUN,anim,masc,Fixd,Abbr plur,datv'), normal_form='и', score=0.000102, methods_stack=((DictionaryAnalyzer(), 'и', 3289, 8),)),\n  Parse(word='и', tag=OpencorporaTag('NOUN,anim,masc,Fixd,Abbr plur,accs'), normal_form='и', score=0.000102, methods_stack=((DictionaryAnalyzer(), 'и', 3289, 9),)),\n  Parse(word='и', tag=OpencorporaTag('NOUN,anim,masc,Fixd,Abbr plur,ablt'), normal_form='и', score=0.000102, methods_stack=((DictionaryAnalyzer(), 'и', 3289, 10),)),\n  Parse(word='и', tag=OpencorporaTag('NOUN,anim,masc,Fixd,Abbr plur,loct'), normal_form='и', score=0.000102, methods_stack=((DictionaryAnalyzer(), 'и', 3289, 11),))],\n [Parse(word='сахаров', tag=OpencorporaTag('NOUN,anim,masc,Sgtm,Surn sing,nomn'), normal_form='сахаров', score=0.5, methods_stack=((DictionaryAnalyzer(), 'сахаров', 37, 0),)),\n  Parse(word='сахаров', tag=OpencorporaTag('NOUN,inan,masc plur,gent'), normal_form='сахар', score=0.5, methods_stack=((DictionaryAnalyzer(), 'сахаров', 1228, 8),))],\n [Parse(word=',', tag=OpencorporaTag('PNCT'), normal_form=',', score=1.0, methods_stack=((PunctuationAnalyzer(score=0.9), ','),))],\n [Parse(word='но', tag=OpencorporaTag('CONJ'), normal_form='но', score=0.999185, methods_stack=((DictionaryAnalyzer(), 'но', 20, 0),)),\n  Parse(word='но', tag=OpencorporaTag('INTJ'), normal_form='но', score=0.000814, methods_stack=((DictionaryAnalyzer(), 'но', 21, 0),))],\n [Parse(word='мало', tag=OpencorporaTag('NUMR nomn'), normal_form='мало', score=0.428571, methods_stack=((DictionaryAnalyzer(), 'мало', 3277, 0),)),\n  Parse(word='мало', tag=OpencorporaTag('ADVB,Prdx'), normal_form='мало', score=0.357142, methods_stack=((DictionaryAnalyzer(), 'мало', 404, 0),)),\n  Parse(word='мало', tag=OpencorporaTag('NUMR accs'), normal_form='мало', score=0.142857, methods_stack=((DictionaryAnalyzer(), 'мало', 3277, 3),)),\n  Parse(word='мало', tag=OpencorporaTag('ADJS,Qual neut,sing'), normal_form='маленький', score=0.071428, methods_stack=((DictionaryAnalyzer(), 'мало', 1983, 29),))],\n [Parse(word='кислот', tag=OpencorporaTag('NOUN,inan,femn plur,gent'), normal_form='кислота', score=1.0, methods_stack=((DictionaryAnalyzer(), 'кислот', 55, 8),))],\n [Parse(word='.', tag=OpencorporaTag('PNCT'), normal_form='.', score=1.0, methods_stack=((PunctuationAnalyzer(score=0.9), '.'),))]]"
     },
     "execution_count": 29,
     "metadata": {},
     "output_type": "execute_result"
    }
   ],
   "source": [
    "pm_analyzed"
   ]
  },
  {
   "cell_type": "code",
   "execution_count": 30,
   "metadata": {
    "colab": {
     "base_uri": "https://localhost:8080/",
     "height": 88
    },
    "colab_type": "code",
    "id": "7EmhCkUfSfvT",
    "outputId": "2bcfb5e1-05f5-4312-a988-88cec85b0806"
   },
   "outputs": [
    {
     "data": {
      "text/plain": "[Parse(word='сахаров', tag=OpencorporaTag('NOUN,anim,masc,Sgtm,Surn sing,nomn'), normal_form='сахаров', score=0.5, methods_stack=((DictionaryAnalyzer(), 'сахаров', 37, 0),)),\n Parse(word='сахаров', tag=OpencorporaTag('NOUN,inan,masc plur,gent'), normal_form='сахар', score=0.5, methods_stack=((DictionaryAnalyzer(), 'сахаров', 1228, 8),))]"
     },
     "execution_count": 30,
     "metadata": {},
     "output_type": "execute_result"
    }
   ],
   "source": [
    "# пример с морфологической неоднозначностью\n",
    "\n",
    "morph.parse(\"сахаров\") "
   ]
  },
  {
   "cell_type": "markdown",
   "metadata": {
    "colab_type": "text",
    "id": "LpQ98mZtNf2w"
   },
   "source": [
    "Она похожа на analyze в майстеме только возвращает список объектов Parse\n",
    "* Первый в списке - самый вероятный разбор (у каждого есть score)\n",
    "* Информация достается через атрибут (Parse.word)\n",
    "* Грамматическая информация хранится в объекте OpencorporaTag и из него удобно доставать\n",
    "части речи или другие категории"
   ]
  },
  {
   "cell_type": "code",
   "execution_count": 31,
   "metadata": {
    "colab": {
     "base_uri": "https://localhost:8080/",
     "height": 173
    },
    "colab_type": "code",
    "id": "2MVvEeqmSfvX",
    "outputId": "cd878f2e-44ed-4c03-93f8-c44fca964d58"
   },
   "outputs": [
    {
     "name": "stdout",
     "output_type": "stream",
     "text": [
      "Первое слово -  зрелый\n",
      "Разбор первого слова -  Parse(word='зрелый', tag=OpencorporaTag('ADJF,Qual masc,sing,nomn'), normal_form='зрелый', score=0.5, methods_stack=((DictionaryAnalyzer(), 'зрелый', 4, 0),))\n",
      "Лемма первого слова -  зрелый\n",
      "Грамматическая информация первого слова -  ADJF,Qual masc,sing,nomn\n",
      "Часть речи первого слова -  ADJF\n",
      "Род первого слова -  masc\n",
      "Число первого слова -  sing\n",
      "Падеж первого слова -  nomn\n"
     ]
    }
   ],
   "source": [
    "# сделаем красиво\n",
    "print('Первое слово - ', pm_analyzed[0][0].word)\n",
    "print('Разбор первого слова - ', pm_analyzed[0][0])\n",
    "print('Лемма первого слова - ', pm_analyzed[0][0].normal_form)\n",
    "print('Грамматическая информация первого слова - ', pm_analyzed[0][0].tag)\n",
    "print('Часть речи первого слова - ', pm_analyzed[0][0].tag.POS)\n",
    "print('Род первого слова - ', pm_analyzed[0][0].tag.gender)\n",
    "print('Число первого слова - ',pm_analyzed[0][0].tag.number)\n",
    "print('Падеж первого слова - ', pm_analyzed[0][0].tag.case)"
   ]
  },
  {
   "cell_type": "markdown",
   "metadata": {
    "colab_type": "text",
    "id": "lY4sSWT-UCE7"
   },
   "source": [
    "### что можно дальше"
   ]
  },
  {
   "cell_type": "markdown",
   "metadata": {
    "colab_type": "text",
    "id": "HRYDeot6UKym"
   },
   "source": [
    "Pymorphy и Mystem - не единственные морфоанализаторы для русского языка. Можно, например, посмотреть на [RNNmorph](https://github.com/IlyaGusev/rnnmorph) и [deeppavlov](http://docs.deeppavlov.ai/en/master/features/models/morphotagger.html).\n",
    "\n",
    "А еще есть исследование, где сравнивали морфоанализаторы для русского  ([краткая версия](http://web-corpora.net/wsgi/mystemplus.wsgi/mystemplus/compare_table/), [статья](http://www.dialog-21.ru/media/3473/dereza.pdf))\n",
    "\n",
    " \n",
    "И на последок, морфо-анализаторы для других яззыков:\n",
    "- [UralicNLP](https://github.com/mikahama/uralicNLP)\n",
    "- [hfst от Apertium](https://wiki.apertium.org/wiki/Hfst)\n",
    "- [Stanza](https://stanfordnlp.github.io/stanza/)\n",
    "- [SpaCy](https://spacy.io/usage/linguistic-features#morphology)\n",
    "- [Trankit](https://trankit.readthedocs.io/en/latest/posdep.html)"
   ]
  },
  {
   "cell_type": "code",
   "execution_count": null,
   "metadata": {},
   "outputs": [],
   "source": []
  }
 ],
 "metadata": {
  "colab": {
   "collapsed_sections": [
    "prpnW0kWjtdg"
   ],
   "include_colab_link": true,
   "name": "morphology.ipynb",
   "provenance": []
  },
  "kernelspec": {
   "display_name": "Python 3 (ipykernel)",
   "language": "python",
   "name": "python3"
  },
  "language_info": {
   "codemirror_mode": {
    "name": "ipython",
    "version": 3
   },
   "file_extension": ".py",
   "mimetype": "text/x-python",
   "name": "python",
   "nbconvert_exporter": "python",
   "pygments_lexer": "ipython3",
   "version": "3.10.0"
  }
 },
 "nbformat": 4,
 "nbformat_minor": 4
}