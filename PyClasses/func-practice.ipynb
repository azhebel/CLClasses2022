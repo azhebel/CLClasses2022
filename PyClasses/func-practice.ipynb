{
 "cells": [
  {
   "cell_type": "code",
   "execution_count": null,
   "metadata": {},
   "outputs": [],
   "source": []
  },
  {
   "cell_type": "markdown",
   "metadata": {
    "colab_type": "text",
    "id": "ylixGHVOvAqB"
   },
   "source": [
    "## Classwork\n",
    "\n",
    "*Сделайте одну задачу на выбор. Выполнение больше одной приветствуется*"
   ]
  },
  {
   "cell_type": "markdown",
   "metadata": {
    "colab_type": "text",
    "id": "WbpgWXdHvgV8"
   },
   "source": [
    "**Задача 1.**  Напишите генератор названий компаний (почти как генератор паролей). \n",
    "Пусть в названии компании будет 6 частей, рандомно выбирающихся из списка names.\n",
    "\n",
    "Сделайте это функцией"
   ]
  },
  {
   "cell_type": "code",
   "execution_count": 23,
   "metadata": {
    "colab": {
     "base_uri": "https://localhost:8080/",
     "height": 34
    },
    "colab_type": "code",
    "id": "lIwa6cOqvcTs",
    "outputId": "9ab23b6b-f4ce-4597-ec6c-88c3f1d29ff8"
   },
   "outputs": [
    {
     "name": "stdout",
     "output_type": "stream",
     "text": [
      "НефтьКубаньТекстильКредитОнлайн-девелопмент\n"
     ]
    }
   ],
   "source": [
    "# генератор названий компаний\n",
    "\n",
    "import random\n",
    "\n",
    "names = [\"пром\",\"агро\",\"торг\",\"урал\",\"север\",\"юг\",\"техно\",\n",
    "\"экспо\",\"метал\",\"нефть\",\"сельхоз\",\"фарм\",\"строй\",\n",
    "\"кредит\",\"алмаз\",\"-девелопмент\",\"развитие\",\"мос\",\n",
    "\"рос\",\"кубань\",\"сибирь\",\"восток\",\"нано\",\"софт\",\n",
    "\"микро\",\"онлайн\",\"инвест\",\"текстиль\",\"цемент\"]\n",
    "\n",
    "# Ваш код ниже\n",
    "\n",
    "def getname(n):\n",
    "    name = \"\"\n",
    "    end = \"\"\n",
    "\n",
    "    for i in range(6):\n",
    "        part = random.choice(n)\n",
    "        if part == \"-девелопмент\":\n",
    "            end = part\n",
    "        else:\n",
    "            name += part.capitalize()\n",
    "        n.remove(part)\n",
    "\n",
    "    return name + end\n",
    "\n",
    "print(getname(names))"
   ]
  },
  {
   "cell_type": "markdown",
   "metadata": {},
   "source": [
    "**Задача 2.** Генератор паролей\n",
    "\n",
    "Пароли, получаемые в результате, должны удовлетворять следующим условиям: \n",
    "     - в пароле есть 3 заглавные буквы (любые, в любом месте пароля)\n",
    "     - в пароле есть 4 цифры (любые, в любом месте)\n",
    "     - оставшиеся символы пароля - строчные латинские буквы\n",
    "     \n",
    "Создайте функцию, которая генерирует пароли, пользователь задает число символов в пароле (как аргумент функции)"
   ]
  },
  {
   "cell_type": "code",
   "execution_count": 22,
   "metadata": {
    "colab": {},
    "colab_type": "code",
    "id": "Mm3FYaIJ99GJ"
   },
   "outputs": [
    {
     "name": "stdout",
     "output_type": "stream",
     "text": [
      "d6JR2R49\n"
     ]
    }
   ],
   "source": [
    "import random\n",
    "import string\n",
    "\n",
    "def passgen(l):\n",
    "    if l < 0:\n",
    "        print(\"Can't be negative!\")\n",
    "    elif l < 8:\n",
    "        print(\"Too short!\")\n",
    "    else:\n",
    "        password = \"\"\n",
    "\n",
    "        for i in range(3):\n",
    "            password += random.choice(string.ascii_uppercase)\n",
    "        for i in range(4):\n",
    "            password += random.choice(string.digits)\n",
    "        for i in range(l - 7):\n",
    "            password += random.choice(string.ascii_lowercase)\n",
    "\n",
    "        return ''.join(random.sample(password,len(password)))\n",
    "\n",
    "length = int(input(\"How long?\"))\n",
    "print(passgen(length))"
   ]
  }
 ],
 "metadata": {
  "kernelspec": {
   "display_name": "Python 3",
   "language": "python",
   "name": "python3"
  },
  "language_info": {
   "codemirror_mode": {
    "name": "ipython",
    "version": 3
   },
   "file_extension": ".py",
   "mimetype": "text/x-python",
   "name": "python",
   "nbconvert_exporter": "python",
   "pygments_lexer": "ipython3",
   "version": "3.8.2"
  }
 },
 "nbformat": 4,
 "nbformat_minor": 4
}