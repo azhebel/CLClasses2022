{
 "cells": [
  {
   "cell_type": "markdown",
   "metadata": {
    "id": "3PK6XiSZiGEE"
   },
   "source": [
    "## Введение в ООП в питоне\n",
    "\n",
    "ООП (объектно-ориентированное программирование) -- это парадигма, которая фокусируется на создании кода как набора взаимосвязанных \"блоков\" и описании их работы. \n",
    "\n",
    "Два основных термина в парадигме ООП -- это объекты и классы. Классы -- это такие \"шаблоны\", по которым создаются объекты *(представьте план построения дома и готовый дом)*\n",
    "\n",
    "Объекты удобны, потому что ими можно управлять, масштабировать и изменять при необходимости \n",
    "\n",
    "Чтобы создать объект, сначала нужен его \"шаблон\", класс. Класс описывает, что объект умеет делать и какими характеристиками обладает.\n",
    "\n",
    "Объект -- это некоторая абстракция, объектом может быть что угодно. Например, виртуальный котик.\n",
    "\n",
    "Давайте создадим класс, который опишет его умения и характеристики:\n",
    "\n"
   ]
  },
  {
   "cell_type": "code",
   "execution_count": 7,
   "metadata": {
    "id": "93tj76rHiGEV"
   },
   "outputs": [],
   "source": [
    "# Simple Virtual Cat\n",
    "# Demonstrates a basic class and object\n",
    "\n",
    "#создаем класс:\n",
    "class Cat(object): # в скобках указывается класс-родитель, или универсальный встроенный тип object\n",
    "    \"\"\"A virtual pet\"\"\" # здесь идет документация класса, какого рода объекты можно создавать с помощью класса\n",
    "    \n",
    "    # самое время определить методы (= что объекты этого класса смогут делать). Метод = функция, принадлежащая объекту\n",
    "\n",
    "    # первый навык \n",
    "    def talk(self): # объявляем метод\n",
    "\n",
    "        print(\"\\nHi. I'm an instance of class Cat.\\n\")\n",
    "\n",
    "        self.sleep()\n",
    "\n",
    "        # return # методы могут что-то возвращать, при необходимости\n",
    "\n",
    "    # второй навык \n",
    "    def sleep(self):\n",
    "        try:\n",
    "            x = float(input('insert a number:')) # условие, напишем через try-except чтобы исключить неверные типы ввода\n",
    "            print(\"\\nI'm off to sleep for\", x, \"hours, bye!\\n\") #what to do if no exceptions arise\n",
    "        except:\n",
    "            print('\\nthis is not a number, I need a number\\n') # ветка для ситуаций, если пользователь ввел не число\n",
    "        print(\"*sleeping*\") #what to do if no exceptions arise\n",
    "    \n",
    "           "
   ]
  },
  {
   "cell_type": "markdown",
   "metadata": {
    "id": "RZe8SQxy7Akj"
   },
   "source": [
    "ссылочка на try-except"
   ]
  },
  {
   "cell_type": "markdown",
   "metadata": {
    "id": "7GT5nQqmcWbT"
   },
   "source": [
    "**про self** \n",
    "\n",
    "Как первый параметр любого метода, self автоматически\n",
    "становится ссылкой на объект, по отношению к которому вызван\n",
    "метод. Это значит, что через self метод получает доступ к вызывающему объекту,\n",
    "к его атрибутам и методам (он может, в частности, создавать у объекта новые атрибуты).\n",
    "\n",
    "Мы прописали два начальных метода для класса. Теперь все котики (=объекты), созданные от этого класса, будут уметь говорить (```.talk()```) и спать(```.sleep()```)\n",
    "\n",
    "Самое время создать первый объект:"
   ]
  },
  {
   "cell_type": "code",
   "execution_count": 8,
   "metadata": {
    "colab": {
     "base_uri": "https://localhost:8080/"
    },
    "id": "DzKmQF-DiGFI",
    "outputId": "2d435b45-ff94-43d7-bf61-5b6433f8882a"
   },
   "outputs": [
    {
     "name": "stdout",
     "output_type": "stream",
     "text": [
      "\n",
      "Hi. I'm an instance of class Cat.\n",
      "\n",
      "\n",
      "this is not a number, I need a number\n",
      "\n",
      "\n",
      "this is not a number, I need a number\n",
      "\n",
      "\n",
      "I'm off to sleep for 2.0 hours, bye!\n",
      "\n",
      "*sleeping*\n",
      "*sleeping*\n",
      "*sleeping*\n"
     ]
    }
   ],
   "source": [
    "# создаем объект класса Cat, сохраняем в какую-нибудь переменную\n",
    "gatto = Cat()\n",
    "\n",
    "# у этого объекта есть все методы родительского класса \n",
    "gatto.talk()"
   ]
  },
  {
   "cell_type": "code",
   "execution_count": 3,
   "metadata": {
    "colab": {
     "base_uri": "https://localhost:8080/"
    },
    "id": "0elZeUIydU3I",
    "outputId": "45052153-47ca-4846-9762-9263d39e441b"
   },
   "outputs": [
    {
     "name": "stdout",
     "output_type": "stream",
     "text": [
      "*sleeping*\n"
     ]
    }
   ],
   "source": [
    "gatto.sleep()"
   ]
  },
  {
   "cell_type": "markdown",
   "metadata": {
    "id": "VnZldnosiGF5"
   },
   "source": [
    "### метод-конструктор aka метод ```__init__``` (метод инициализации)\n",
    "\n",
    "Иногда методы удобно вызывать не вручную, а сразу при создании нового объекта (обычно это нужно, чтобы установить начальные значения атрибутов объекта) <br>\n",
    "В Python есть специальный синтаксис*, метод-конструктор ```__init__``` . \n",
    "\n",
    " ```__init__()``` будет автоматически вызываться при возникновении каждого очередного объекта заданного класса. \n",
    " \n",
    "------------------\n",
    "*В Python есть [набор встроенных «специальных методов»](https://www.tutorialsteacher.com/python/magic-methods-in-python), имена которых начинаются и заканчиваются\n",
    "двумя знаками подчеркивания. Метод-конструктор __init__ - один из них.*"
   ]
  },
  {
   "cell_type": "code",
   "execution_count": null,
   "metadata": {
    "id": "kSOjBE5diGGJ"
   },
   "outputs": [],
   "source": [
    "\n",
    "# вот так работает метод-конструктор\n",
    "\n",
    "class Cat(object): # задали класс\n",
    "    \"\"\"A virtual pet\"\"\"\n",
    "    \n",
    "    def __init__ (self): #init-метод, он вызовется автоматом\n",
    "        print(\"New cat is created!\")\n",
    "        \n",
    "    # задаем остальные методы\n",
    "    def talk(self): # объявляем метод\n",
    "        print(\"\\nHi. I'm an instance of class Cat.\\n\")\n",
    "        \n",
    "    def sleep(self):\n",
    "        try:\n",
    "            x = float(input('insert a number:')) #a piece of code where eceptions may appear\n",
    "        except:\n",
    "            print('\\nthis is not a number, I need a number\\n') #what to do in cade of exception\n",
    "        else:\n",
    "            print(\"\\nI'm off to sleep for\", x, \"hours, bye!\\n\") #what to do if no exceptions arise"
   ]
  },
  {
   "cell_type": "code",
   "execution_count": null,
   "metadata": {
    "colab": {
     "base_uri": "https://localhost:8080/"
    },
    "id": "djMJ77mGiGHE",
    "outputId": "8b4e4bd5-2d74-46e0-ea65-83d56ac896fc"
   },
   "outputs": [
    {
     "name": "stdout",
     "output_type": "stream",
     "text": [
      "New cat is created!\n"
     ]
    }
   ],
   "source": [
    "# основная часть - создаем объекты\n",
    "gatto2 = Cat()\n"
   ]
  },
  {
   "cell_type": "code",
   "execution_count": null,
   "metadata": {
    "colab": {
     "base_uri": "https://localhost:8080/"
    },
    "id": "BDv5cFdUiGIT",
    "outputId": "a1a096c5-0c79-4aea-9420-b139e59f25a6",
    "scrolled": true
   },
   "outputs": [
    {
     "name": "stdout",
     "output_type": "stream",
     "text": [
      "\n",
      "Hi. I'm an instance of class Cat.\n",
      "\n",
      "insert a number:14\n",
      "\n",
      "I'm off to sleep for 14.0 hours, bye!\n",
      "\n"
     ]
    }
   ],
   "source": [
    "#методы в классах, которые мы вызываем вручную\n",
    "gatto2.talk()\n",
    "gatto2.sleep()"
   ]
  },
  {
   "cell_type": "markdown",
   "metadata": {
    "id": "kLsehRTziGJT"
   },
   "source": [
    "**У классов, помимо методов, есть свойства**\n",
    "\n",
    "Свойства (иногда \"аттрибуты\", в английском -- \"class properties\") -- это информация, которая характеризует объекты заданного класса\n",
    "\n"
   ]
  },
  {
   "cell_type": "code",
   "execution_count": null,
   "metadata": {
    "id": "N3qphMj9iGJZ"
   },
   "outputs": [],
   "source": [
    "# creating and accessing object attributes\n",
    "\n",
    "class Cat(object): # задали класс\n",
    "    \"\"\"A virtual pet class\"\"\" \n",
    "    \n",
    "    def __init__(self, name): # метод-конструктор \n",
    "        self.name = name # self.name -- это свойство для объекта класса \n",
    "        # Его значение будет равно параметру \"name\" который запрашивается при вызове метода\n",
    "        # так как метод обращается к объекту, значение для параметра name передаем сразу в скобочках при создании объекта\n",
    "        print(\"A new cat is created, called \",name)\n",
    "\n",
    " \n",
    "    def talk(self): # the talk() method receives the automatically sent reference to the object into its self parameter\n",
    "        print(\"Hi. I'm\", self.name, \"\\n\") # the print function displays the text \n",
    "        # by accessing the attribute name of the object through self.name\n",
    "\n",
    "    def sleep(self):\n",
    "        try:\n",
    "            x = float(input('insert a number:')) #a piece of code where eceptions may appear\n",
    "        except:\n",
    "            print('\\nthis is not a number, I need a number\\n') #what to do in cade of exception\n",
    "        else:\n",
    "            print(\"\\nI'm off to sleep for\", x, \"hours, bye!\\n\") #what to do if no exceptions arise   \n",
    "  "
   ]
  },
  {
   "cell_type": "code",
   "execution_count": null,
   "metadata": {
    "colab": {
     "base_uri": "https://localhost:8080/",
     "height": 52
    },
    "id": "RhiDdDv8pM9f",
    "outputId": "f3d0843d-20f2-4c68-fba6-4b148cba6e33"
   },
   "outputs": [
    {
     "name": "stdout",
     "output_type": "stream",
     "text": [
      "A new cat is created, called  Python\n"
     ]
    },
    {
     "data": {
      "application/vnd.google.colaboratory.intrinsic+json": {
       "type": "string"
      },
      "text/plain": [
       "'Python'"
      ]
     },
     "execution_count": 39,
     "metadata": {
      "tags": []
     },
     "output_type": "execute_result"
    }
   ],
   "source": [
    "# main\n",
    "\n",
    "gatto2 = Cat(\"Python\") # создали объект, передали значение имени\n",
    "# gatto2.talk() # вызовем метод, теперь он подскажет имя конкретного объекта\n",
    "\n",
    "# а так осуществляется прямой доступ к свойству\n",
    "gatto2.name # свойства вызываются без скобочек \n"
   ]
  },
  {
   "cell_type": "code",
   "execution_count": null,
   "metadata": {
    "colab": {
     "base_uri": "https://localhost:8080/"
    },
    "id": "ot53ZtknAin4",
    "outputId": "063b1abe-d0d7-4d54-c046-9462ed519aeb"
   },
   "outputs": [
    {
     "name": "stdout",
     "output_type": "stream",
     "text": [
      "Hi. I'm Python \n",
      "\n"
     ]
    }
   ],
   "source": [
    "gatto2.talk()"
   ]
  },
  {
   "cell_type": "markdown",
   "metadata": {
    "id": "apwoF4GStaGA"
   },
   "source": [
    "котики -- это конечно хорошо, но как это связано с комплингом?"
   ]
  },
  {
   "cell_type": "code",
   "execution_count": 1,
   "metadata": {
    "id": "SXN8s8GYtYW8"
   },
   "outputs": [],
   "source": [
    "example = \"TODAY I have received a lot of telephone calls!\""
   ]
  },
  {
   "cell_type": "code",
   "execution_count": 2,
   "metadata": {
    "id": "gr5-mBgxHqzc"
   },
   "outputs": [],
   "source": [
    "class NLP(object):\n",
    "    def __init__(self,text):\n",
    "        self.text = text\n",
    "\n",
    "    def preprocess(self):\n",
    "        return self.text.lower().strip().split()\n",
    "    \n"
   ]
  },
  {
   "cell_type": "code",
   "execution_count": 4,
   "metadata": {
    "colab": {
     "base_uri": "https://localhost:8080/"
    },
    "id": "L50fDzcRCXtJ",
    "outputId": "1e18de2e-b45b-47b5-8748-d42fd39c172c"
   },
   "outputs": [
    {
     "data": {
      "text/plain": [
       "['today', 'i', 'have', 'received', 'a', 'lot', 'of', 'telephone', 'calls!']"
      ]
     },
     "execution_count": 4,
     "metadata": {},
     "output_type": "execute_result"
    }
   ],
   "source": [
    "# from my_classes.py import NLP() as nlp \n",
    "\n",
    "# from nltk import *\n",
    "\n",
    "\n",
    "\n",
    "res = NLP(example)\n",
    "\n",
    "\n",
    "# res.text\n",
    "res.preprocess()"
   ]
  },
  {
   "cell_type": "markdown",
   "metadata": {
    "id": "nkXTSanaC24n"
   },
   "source": [
    "### дополнительные возможности\n",
    "\n",
    "Аттрибуты позволяют определять уникальные характеристики объектов: наприер, можно создать 10 котиков, каждый с уникальным именем\n",
    "\n",
    "Однако иногда нам может потребоваться информация о чем-то внутри класса. Например, общее количество созданных объектов. Нам понадобится class attribute и static method\n",
    "\n",
    "Аттрибут класса (**class attribute**)  -- это такой специальный аттрибут, универсальный для всех объектов класса (о нем можно думать как об универсальной печати)\n",
    "\n",
    "**Static method**  -- метод, связанный с классом, недоступный объектам класса\n",
    "\n"
   ]
  },
  {
   "cell_type": "code",
   "execution_count": null,
   "metadata": {
    "id": "AKkWsYDePyxQ"
   },
   "outputs": [],
   "source": [
    "# class attributes and static methods\n",
    "\n",
    "class Cat(object):\n",
    "    \"\"\"A virtual pet\"\"\"\n",
    "    total = 0 # count objects for the 1st time (there're no objects yet)\n",
    "    \"\"\"create a class attribute total and assign value of 0 to it.\n",
    "    !!! any new variable assigned a value outside of a method creates a class attribute\n",
    "    The assignment statement is executed only once, when Python first sees the class definition. \n",
    "    This means that the class attribute exists even before a single object is created. \n",
    "    \"\"\"\n",
    "\n",
    "    @staticmethod # a decorator for a static method. \n",
    "    # Static method appears in all the objects of a class\n",
    "    def status(): # no self here\n",
    "        \"\"\"\n",
    "    doesn't have 'self' because, like all static methods, it’s designed to be invoked through a class and\n",
    "    not an object. So, the method won’t be passed a reference to an object\n",
    "    and therefore won’t need a parameter, like self , to receive such a reference.\n",
    "    Self is only needed in object methods to denote reference to which object the method is applied\n",
    "    Static methods can have parameters in general\"\"\"\n",
    "        \n",
    "        print(\"\\nThe total number of cats now is\", Cat.total) # count objects again \n",
    "        # this func prints the value of the Critter class attribute 'total'\n",
    "        \n",
    "        \n",
    "    def __init__(self, name): #a constructor method, is called automatically when a new object is created\n",
    "        print(\"A new cat is created!\") #this line will be printed automatically\n",
    "        self.name = name # Wut is here\n",
    "        Cat.total += 1 \n",
    "        # In the constructor method, we also increment the value of this class attribute \n",
    "        # works whenever a new object of this class is created"
   ]
  },
  {
   "cell_type": "code",
   "execution_count": null,
   "metadata": {
    "colab": {
     "base_uri": "https://localhost:8080/"
    },
    "id": "0wpS1nNm88D_",
    "outputId": "7eeb9031-4c85-4d0d-830d-3f4cb9f64548"
   },
   "outputs": [
    {
     "name": "stdout",
     "output_type": "stream",
     "text": [
      "Counting cats. Current amount of cats is  0\n",
      "\tCreating cats.\n",
      "A new cat is created!\n",
      "A new cat is created!\n",
      "A new cat is created!\n",
      "\n",
      "The total number of cats now is 3\n"
     ]
    }
   ],
   "source": [
    "#main\n",
    "print(\"Counting cats. Current amount of cats is \", Cat.total) #initial count\n",
    "\n",
    "print(\"\\tCreating cats.\")\n",
    "\n",
    "gatto1 = Cat(\"Pusheen\")\n",
    "gatto2 = Cat(\"Daisy\")\n",
    "gatto3 = Cat(\"Bob\")\n",
    "\n",
    "Cat.status() # invoke the static method 'status' for a class Cat (shows current number of objects)"
   ]
  },
  {
   "cell_type": "code",
   "execution_count": null,
   "metadata": {
    "colab": {
     "base_uri": "https://localhost:8080/"
    },
    "id": "yOsPoiUMsGec",
    "outputId": "ab2cb29c-79f2-43fa-eb02-e7e142fe9d6d"
   },
   "outputs": [
    {
     "name": "stdout",
     "output_type": "stream",
     "text": [
      "3\n"
     ]
    }
   ],
   "source": [
    "# а вот альтернативный метод просмотра этого же параметра\n",
    "print(gatto1.total) # вызов через аттрибут класса"
   ]
  },
  {
   "cell_type": "markdown",
   "metadata": {
    "id": "MMAqkZstxoru"
   },
   "source": [
    "\n",
    "Сегодня мы начали знакомиться с ООП, задав класс, его методы, и создав объекты этого класса. ООП -- это целая парадигма, впереди нас ждет много нового (наследование, инкапсуляция и тд)\n",
    "([а здесь более развернутый гайд](https://www.datacamp.com/community/tutorials/python-oop-tutorial))"
   ]
  },
  {
   "cell_type": "code",
   "execution_count": null,
   "metadata": {
    "id": "HR-W7bEwyosJ"
   },
   "outputs": [],
   "source": []
  }
 ],
 "metadata": {
  "colab": {
   "collapsed_sections": [],
   "name": "OOP.ipynb",
   "provenance": []
  },
  "kernelspec": {
   "display_name": "Python 3",
   "language": "python",
   "name": "python3"
  },
  "language_info": {
   "codemirror_mode": {
    "name": "ipython",
    "version": 3
   },
   "file_extension": ".py",
   "mimetype": "text/x-python",
   "name": "python",
   "nbconvert_exporter": "python",
   "pygments_lexer": "ipython3",
   "version": "3.8.2"
  }
 },
 "nbformat": 4,
 "nbformat_minor": 1
}