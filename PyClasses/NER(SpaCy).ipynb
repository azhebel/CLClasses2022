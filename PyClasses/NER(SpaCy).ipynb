{
 "cells": [
  {
   "cell_type": "markdown",
   "metadata": {
    "id": "h2WP2htLsYNv"
   },
   "source": [
    "Сегодня мы поговорим о том, как доставать из сырого текста связи между объектами"
   ]
  },
  {
   "cell_type": "markdown",
   "metadata": {
    "id": "vTI-BoOUlB59"
   },
   "source": [
    "## предустановка всего необходимого"
   ]
  },
  {
   "cell_type": "code",
   "execution_count": 1,
   "metadata": {
    "collapsed": true,
    "id": "N6lC30j_oulm",
    "jupyter": {
     "outputs_hidden": true
    },
    "tags": []
   },
   "outputs": [
    {
     "name": "stdout",
     "output_type": "stream",
     "text": [
      "Requirement already satisfied: spacy in /Users/Alexey.Zhebel/IdeaProjects/CompLing/venv/lib/python3.8/site-packages (3.2.1)\r\n",
      "Requirement already satisfied: catalogue<2.1.0,>=2.0.6 in /Users/Alexey.Zhebel/IdeaProjects/CompLing/venv/lib/python3.8/site-packages (from spacy) (2.0.6)\r\n",
      "Requirement already satisfied: pydantic!=1.8,!=1.8.1,<1.9.0,>=1.7.4 in /Users/Alexey.Zhebel/IdeaProjects/CompLing/venv/lib/python3.8/site-packages (from spacy) (1.8.2)\r\n",
      "Requirement already satisfied: blis<0.8.0,>=0.4.0 in /Users/Alexey.Zhebel/IdeaProjects/CompLing/venv/lib/python3.8/site-packages (from spacy) (0.7.5)\r\n",
      "Requirement already satisfied: murmurhash<1.1.0,>=0.28.0 in /Users/Alexey.Zhebel/IdeaProjects/CompLing/venv/lib/python3.8/site-packages (from spacy) (1.0.6)\r\n",
      "Requirement already satisfied: typer<0.5.0,>=0.3.0 in /Users/Alexey.Zhebel/IdeaProjects/CompLing/venv/lib/python3.8/site-packages (from spacy) (0.4.0)\r\n",
      "Requirement already satisfied: wasabi<1.1.0,>=0.8.1 in /Users/Alexey.Zhebel/IdeaProjects/CompLing/venv/lib/python3.8/site-packages (from spacy) (0.9.0)\r\n",
      "Requirement already satisfied: requests<3.0.0,>=2.13.0 in /Users/Alexey.Zhebel/IdeaProjects/CompLing/venv/lib/python3.8/site-packages (from spacy) (2.26.0)\r\n",
      "Requirement already satisfied: srsly<3.0.0,>=2.4.1 in /Users/Alexey.Zhebel/IdeaProjects/CompLing/venv/lib/python3.8/site-packages (from spacy) (2.4.2)\r\n",
      "Requirement already satisfied: setuptools in /Users/Alexey.Zhebel/IdeaProjects/CompLing/venv/lib/python3.8/site-packages (from spacy) (57.0.0)\r\n",
      "Requirement already satisfied: cymem<2.1.0,>=2.0.2 in /Users/Alexey.Zhebel/IdeaProjects/CompLing/venv/lib/python3.8/site-packages (from spacy) (2.0.6)\r\n",
      "Requirement already satisfied: numpy>=1.15.0 in /Users/Alexey.Zhebel/IdeaProjects/CompLing/venv/lib/python3.8/site-packages (from spacy) (1.21.5)\r\n",
      "Requirement already satisfied: langcodes<4.0.0,>=3.2.0 in /Users/Alexey.Zhebel/IdeaProjects/CompLing/venv/lib/python3.8/site-packages (from spacy) (3.3.0)\r\n",
      "Requirement already satisfied: tqdm<5.0.0,>=4.38.0 in /Users/Alexey.Zhebel/IdeaProjects/CompLing/venv/lib/python3.8/site-packages (from spacy) (4.62.3)\r\n",
      "Requirement already satisfied: packaging>=20.0 in /Users/Alexey.Zhebel/IdeaProjects/CompLing/venv/lib/python3.8/site-packages (from spacy) (21.3)\r\n",
      "Requirement already satisfied: spacy-loggers<2.0.0,>=1.0.0 in /Users/Alexey.Zhebel/IdeaProjects/CompLing/venv/lib/python3.8/site-packages (from spacy) (1.0.1)\r\n",
      "Requirement already satisfied: spacy-legacy<3.1.0,>=3.0.8 in /Users/Alexey.Zhebel/IdeaProjects/CompLing/venv/lib/python3.8/site-packages (from spacy) (3.0.8)\r\n",
      "Requirement already satisfied: thinc<8.1.0,>=8.0.12 in /Users/Alexey.Zhebel/IdeaProjects/CompLing/venv/lib/python3.8/site-packages (from spacy) (8.0.13)\r\n",
      "Requirement already satisfied: jinja2 in /Users/Alexey.Zhebel/IdeaProjects/CompLing/venv/lib/python3.8/site-packages (from spacy) (3.0.3)\r\n",
      "Requirement already satisfied: preshed<3.1.0,>=3.0.2 in /Users/Alexey.Zhebel/IdeaProjects/CompLing/venv/lib/python3.8/site-packages (from spacy) (3.0.6)\r\n",
      "Requirement already satisfied: pathy>=0.3.5 in /Users/Alexey.Zhebel/IdeaProjects/CompLing/venv/lib/python3.8/site-packages (from spacy) (0.6.1)\r\n",
      "Requirement already satisfied: pyparsing!=3.0.5,>=2.0.2 in /Users/Alexey.Zhebel/IdeaProjects/CompLing/venv/lib/python3.8/site-packages (from packaging>=20.0->spacy) (3.0.6)\r\n",
      "Requirement already satisfied: smart-open<6.0.0,>=5.0.0 in /Users/Alexey.Zhebel/IdeaProjects/CompLing/venv/lib/python3.8/site-packages (from pathy>=0.3.5->spacy) (5.2.1)\r\n",
      "Requirement already satisfied: typing-extensions>=3.7.4.3 in /Users/Alexey.Zhebel/IdeaProjects/CompLing/venv/lib/python3.8/site-packages (from pydantic!=1.8,!=1.8.1,<1.9.0,>=1.7.4->spacy) (4.0.1)\r\n",
      "Requirement already satisfied: charset-normalizer~=2.0.0 in /Users/Alexey.Zhebel/IdeaProjects/CompLing/venv/lib/python3.8/site-packages (from requests<3.0.0,>=2.13.0->spacy) (2.0.9)\r\n",
      "Requirement already satisfied: urllib3<1.27,>=1.21.1 in /Users/Alexey.Zhebel/IdeaProjects/CompLing/venv/lib/python3.8/site-packages (from requests<3.0.0,>=2.13.0->spacy) (1.26.7)\r\n",
      "Requirement already satisfied: idna<4,>=2.5 in /Users/Alexey.Zhebel/IdeaProjects/CompLing/venv/lib/python3.8/site-packages (from requests<3.0.0,>=2.13.0->spacy) (3.3)\r\n",
      "Requirement already satisfied: certifi>=2017.4.17 in /Users/Alexey.Zhebel/IdeaProjects/CompLing/venv/lib/python3.8/site-packages (from requests<3.0.0,>=2.13.0->spacy) (2021.10.8)\r\n",
      "Requirement already satisfied: click<9.0.0,>=7.1.1 in /Users/Alexey.Zhebel/IdeaProjects/CompLing/venv/lib/python3.8/site-packages (from typer<0.5.0,>=0.3.0->spacy) (8.0.3)\r\n",
      "Requirement already satisfied: MarkupSafe>=2.0 in /Users/Alexey.Zhebel/IdeaProjects/CompLing/venv/lib/python3.8/site-packages (from jinja2->spacy) (2.0.1)\r\n",
      "\u001B[33mWARNING: You are using pip version 21.3.1; however, version 22.0.2 is available.\r\n",
      "You should consider upgrading via the '/Users/Alexey.Zhebel/IdeaProjects/CompLing/venv/bin/python -m pip install --upgrade pip' command.\u001B[0m\r\n",
      "\u001B[38;5;3m⚠ As of spaCy v3.0, shortcuts like 'en' are deprecated. Please use the\r\n",
      "full pipeline package name 'en_core_web_sm' instead.\u001B[0m\r\n",
      "Collecting en-core-web-sm==3.2.0\r\n",
      "  Downloading https://github.com/explosion/spacy-models/releases/download/en_core_web_sm-3.2.0/en_core_web_sm-3.2.0-py3-none-any.whl (13.9 MB)\r\n",
      "     |████████████████████████████████| 13.9 MB 5.5 MB/s            \r\n",
      "\u001B[?25hRequirement already satisfied: spacy<3.3.0,>=3.2.0 in /Users/Alexey.Zhebel/IdeaProjects/CompLing/venv/lib/python3.8/site-packages (from en-core-web-sm==3.2.0) (3.2.1)\r\n",
      "Requirement already satisfied: requests<3.0.0,>=2.13.0 in /Users/Alexey.Zhebel/IdeaProjects/CompLing/venv/lib/python3.8/site-packages (from spacy<3.3.0,>=3.2.0->en-core-web-sm==3.2.0) (2.26.0)\r\n",
      "Requirement already satisfied: pathy>=0.3.5 in /Users/Alexey.Zhebel/IdeaProjects/CompLing/venv/lib/python3.8/site-packages (from spacy<3.3.0,>=3.2.0->en-core-web-sm==3.2.0) (0.6.1)\r\n",
      "Requirement already satisfied: tqdm<5.0.0,>=4.38.0 in /Users/Alexey.Zhebel/IdeaProjects/CompLing/venv/lib/python3.8/site-packages (from spacy<3.3.0,>=3.2.0->en-core-web-sm==3.2.0) (4.62.3)\r\n",
      "Requirement already satisfied: blis<0.8.0,>=0.4.0 in /Users/Alexey.Zhebel/IdeaProjects/CompLing/venv/lib/python3.8/site-packages (from spacy<3.3.0,>=3.2.0->en-core-web-sm==3.2.0) (0.7.5)\r\n",
      "Requirement already satisfied: murmurhash<1.1.0,>=0.28.0 in /Users/Alexey.Zhebel/IdeaProjects/CompLing/venv/lib/python3.8/site-packages (from spacy<3.3.0,>=3.2.0->en-core-web-sm==3.2.0) (1.0.6)\r\n",
      "Requirement already satisfied: thinc<8.1.0,>=8.0.12 in /Users/Alexey.Zhebel/IdeaProjects/CompLing/venv/lib/python3.8/site-packages (from spacy<3.3.0,>=3.2.0->en-core-web-sm==3.2.0) (8.0.13)\r\n",
      "Requirement already satisfied: spacy-legacy<3.1.0,>=3.0.8 in /Users/Alexey.Zhebel/IdeaProjects/CompLing/venv/lib/python3.8/site-packages (from spacy<3.3.0,>=3.2.0->en-core-web-sm==3.2.0) (3.0.8)\r\n",
      "Requirement already satisfied: packaging>=20.0 in /Users/Alexey.Zhebel/IdeaProjects/CompLing/venv/lib/python3.8/site-packages (from spacy<3.3.0,>=3.2.0->en-core-web-sm==3.2.0) (21.3)\r\n",
      "Requirement already satisfied: jinja2 in /Users/Alexey.Zhebel/IdeaProjects/CompLing/venv/lib/python3.8/site-packages (from spacy<3.3.0,>=3.2.0->en-core-web-sm==3.2.0) (3.0.3)\r\n",
      "Requirement already satisfied: srsly<3.0.0,>=2.4.1 in /Users/Alexey.Zhebel/IdeaProjects/CompLing/venv/lib/python3.8/site-packages (from spacy<3.3.0,>=3.2.0->en-core-web-sm==3.2.0) (2.4.2)\r\n",
      "Requirement already satisfied: catalogue<2.1.0,>=2.0.6 in /Users/Alexey.Zhebel/IdeaProjects/CompLing/venv/lib/python3.8/site-packages (from spacy<3.3.0,>=3.2.0->en-core-web-sm==3.2.0) (2.0.6)\r\n",
      "Requirement already satisfied: spacy-loggers<2.0.0,>=1.0.0 in /Users/Alexey.Zhebel/IdeaProjects/CompLing/venv/lib/python3.8/site-packages (from spacy<3.3.0,>=3.2.0->en-core-web-sm==3.2.0) (1.0.1)\r\n",
      "Requirement already satisfied: pydantic!=1.8,!=1.8.1,<1.9.0,>=1.7.4 in /Users/Alexey.Zhebel/IdeaProjects/CompLing/venv/lib/python3.8/site-packages (from spacy<3.3.0,>=3.2.0->en-core-web-sm==3.2.0) (1.8.2)\r\n",
      "Requirement already satisfied: setuptools in /Users/Alexey.Zhebel/IdeaProjects/CompLing/venv/lib/python3.8/site-packages (from spacy<3.3.0,>=3.2.0->en-core-web-sm==3.2.0) (57.0.0)\r\n",
      "Requirement already satisfied: cymem<2.1.0,>=2.0.2 in /Users/Alexey.Zhebel/IdeaProjects/CompLing/venv/lib/python3.8/site-packages (from spacy<3.3.0,>=3.2.0->en-core-web-sm==3.2.0) (2.0.6)\r\n",
      "Requirement already satisfied: preshed<3.1.0,>=3.0.2 in /Users/Alexey.Zhebel/IdeaProjects/CompLing/venv/lib/python3.8/site-packages (from spacy<3.3.0,>=3.2.0->en-core-web-sm==3.2.0) (3.0.6)\r\n",
      "Requirement already satisfied: numpy>=1.15.0 in /Users/Alexey.Zhebel/IdeaProjects/CompLing/venv/lib/python3.8/site-packages (from spacy<3.3.0,>=3.2.0->en-core-web-sm==3.2.0) (1.21.5)\r\n",
      "Requirement already satisfied: wasabi<1.1.0,>=0.8.1 in /Users/Alexey.Zhebel/IdeaProjects/CompLing/venv/lib/python3.8/site-packages (from spacy<3.3.0,>=3.2.0->en-core-web-sm==3.2.0) (0.9.0)\r\n",
      "Requirement already satisfied: typer<0.5.0,>=0.3.0 in /Users/Alexey.Zhebel/IdeaProjects/CompLing/venv/lib/python3.8/site-packages (from spacy<3.3.0,>=3.2.0->en-core-web-sm==3.2.0) (0.4.0)\r\n",
      "Requirement already satisfied: langcodes<4.0.0,>=3.2.0 in /Users/Alexey.Zhebel/IdeaProjects/CompLing/venv/lib/python3.8/site-packages (from spacy<3.3.0,>=3.2.0->en-core-web-sm==3.2.0) (3.3.0)\r\n",
      "Requirement already satisfied: pyparsing!=3.0.5,>=2.0.2 in /Users/Alexey.Zhebel/IdeaProjects/CompLing/venv/lib/python3.8/site-packages (from packaging>=20.0->spacy<3.3.0,>=3.2.0->en-core-web-sm==3.2.0) (3.0.6)\r\n",
      "Requirement already satisfied: smart-open<6.0.0,>=5.0.0 in /Users/Alexey.Zhebel/IdeaProjects/CompLing/venv/lib/python3.8/site-packages (from pathy>=0.3.5->spacy<3.3.0,>=3.2.0->en-core-web-sm==3.2.0) (5.2.1)\r\n",
      "Requirement already satisfied: typing-extensions>=3.7.4.3 in /Users/Alexey.Zhebel/IdeaProjects/CompLing/venv/lib/python3.8/site-packages (from pydantic!=1.8,!=1.8.1,<1.9.0,>=1.7.4->spacy<3.3.0,>=3.2.0->en-core-web-sm==3.2.0) (4.0.1)\r\n",
      "Requirement already satisfied: idna<4,>=2.5 in /Users/Alexey.Zhebel/IdeaProjects/CompLing/venv/lib/python3.8/site-packages (from requests<3.0.0,>=2.13.0->spacy<3.3.0,>=3.2.0->en-core-web-sm==3.2.0) (3.3)\r\n",
      "Requirement already satisfied: certifi>=2017.4.17 in /Users/Alexey.Zhebel/IdeaProjects/CompLing/venv/lib/python3.8/site-packages (from requests<3.0.0,>=2.13.0->spacy<3.3.0,>=3.2.0->en-core-web-sm==3.2.0) (2021.10.8)\r\n",
      "Requirement already satisfied: charset-normalizer~=2.0.0 in /Users/Alexey.Zhebel/IdeaProjects/CompLing/venv/lib/python3.8/site-packages (from requests<3.0.0,>=2.13.0->spacy<3.3.0,>=3.2.0->en-core-web-sm==3.2.0) (2.0.9)\r\n",
      "Requirement already satisfied: urllib3<1.27,>=1.21.1 in /Users/Alexey.Zhebel/IdeaProjects/CompLing/venv/lib/python3.8/site-packages (from requests<3.0.0,>=2.13.0->spacy<3.3.0,>=3.2.0->en-core-web-sm==3.2.0) (1.26.7)\r\n",
      "Requirement already satisfied: click<9.0.0,>=7.1.1 in /Users/Alexey.Zhebel/IdeaProjects/CompLing/venv/lib/python3.8/site-packages (from typer<0.5.0,>=0.3.0->spacy<3.3.0,>=3.2.0->en-core-web-sm==3.2.0) (8.0.3)\r\n",
      "Requirement already satisfied: MarkupSafe>=2.0 in /Users/Alexey.Zhebel/IdeaProjects/CompLing/venv/lib/python3.8/site-packages (from jinja2->spacy<3.3.0,>=3.2.0->en-core-web-sm==3.2.0) (2.0.1)\r\n",
      "\u001B[33mWARNING: You are using pip version 21.3.1; however, version 22.0.2 is available.\r\n",
      "You should consider upgrading via the '/Users/Alexey.Zhebel/IdeaProjects/CompLing/venv/bin/python3 -m pip install --upgrade pip' command.\u001B[0m\r\n",
      "\u001B[38;5;2m✔ Download and installation successful\u001B[0m\r\n",
      "You can now load the package via spacy.load('en_core_web_sm')\r\n"
     ]
    }
   ],
   "source": [
    "# поставим Spacy, оттуда будем загружать модели NER\n",
    "# ! pip3 install -U spacy==2.1.0\n",
    "\n",
    "!pip3 install spacy\n",
    "!python3 -m spacy download en"
   ]
  },
  {
   "cell_type": "code",
   "execution_count": 2,
   "outputs": [
    {
     "name": "stdout",
     "output_type": "stream",
     "text": [
      "Package              Version\r\n",
      "-------------------- ------------------\r\n",
      "appdirs              1.4.4\r\n",
      "appnope              0.1.2\r\n",
      "argon2-cffi          21.3.0\r\n",
      "argon2-cffi-bindings 21.2.0\r\n",
      "attrs                21.2.0\r\n",
      "backcall             0.2.0\r\n",
      "beautifulsoup4       4.10.0\r\n",
      "bleach               4.1.0\r\n",
      "blis                 0.7.5\r\n",
      "bs4                  0.0.1\r\n",
      "catalogue            2.0.6\r\n",
      "certifi              2021.10.8\r\n",
      "cffi                 1.15.0\r\n",
      "charset-normalizer   2.0.9\r\n",
      "click                8.0.3\r\n",
      "cssselect            1.1.0\r\n",
      "cycler               0.11.0\r\n",
      "cymem                2.0.6\r\n",
      "DAWG-Python          0.7.2\r\n",
      "debugpy              1.5.1\r\n",
      "decorator            5.1.0\r\n",
      "defusedxml           0.7.1\r\n",
      "docopt               0.6.2\r\n",
      "en-core-web-sm       3.2.0\r\n",
      "entrypoints          0.3\r\n",
      "fake-useragent       0.1.11\r\n",
      "fonttools            4.28.5\r\n",
      "graphviz             0.19.1\r\n",
      "idna                 3.3\r\n",
      "imageio              2.13.5\r\n",
      "importlib-metadata   4.10.0\r\n",
      "importlib-resources  5.4.0\r\n",
      "ipykernel            6.6.0\r\n",
      "ipython              7.30.1\r\n",
      "ipython-genutils     0.2.0\r\n",
      "ipywidgets           7.6.5\r\n",
      "jedi                 0.18.1\r\n",
      "Jinja2               3.0.3\r\n",
      "joblib               1.1.0\r\n",
      "jsonschema           4.3.2\r\n",
      "jupyter              1.0.0\r\n",
      "jupyter-client       7.1.0\r\n",
      "jupyter-console      6.4.0\r\n",
      "jupyter-core         4.9.1\r\n",
      "jupyterlab-pygments  0.1.2\r\n",
      "jupyterlab-widgets   1.0.2\r\n",
      "kiwisolver           1.3.2\r\n",
      "langcodes            3.3.0\r\n",
      "lxml                 4.7.1\r\n",
      "MarkupSafe           2.0.1\r\n",
      "matplotlib           3.5.1\r\n",
      "matplotlib-inline    0.1.3\r\n",
      "mistune              0.8.4\r\n",
      "murmurhash           1.0.6\r\n",
      "nbclient             0.5.9\r\n",
      "nbconvert            6.3.0\r\n",
      "nbformat             5.1.3\r\n",
      "nest-asyncio         1.5.4\r\n",
      "nltk                 3.6.6\r\n",
      "notebook             6.4.6\r\n",
      "numpy                1.21.5\r\n",
      "packaging            21.3\r\n",
      "pandas               1.3.5\r\n",
      "pandocfilters        1.5.0\r\n",
      "parse                1.19.0\r\n",
      "parso                0.8.3\r\n",
      "pathy                0.6.1\r\n",
      "pexpect              4.8.0\r\n",
      "pickleshare          0.7.5\r\n",
      "Pillow               8.4.0\r\n",
      "pip                  21.3.1\r\n",
      "preshed              3.0.6\r\n",
      "prometheus-client    0.12.0\r\n",
      "prompt-toolkit       3.0.24\r\n",
      "ptyprocess           0.7.0\r\n",
      "pycparser            2.21\r\n",
      "pydantic             1.8.2\r\n",
      "pydot                1.4.2\r\n",
      "pyee                 8.2.2\r\n",
      "Pygments             2.10.0\r\n",
      "pymorphy2            0.9.1\r\n",
      "pymorphy2-dicts-ru   2.4.417127.4579844\r\n",
      "pyparsing            3.0.6\r\n",
      "pyppeteer            0.2.6\r\n",
      "pyquery              1.4.3\r\n",
      "pyrsistent           0.18.0\r\n",
      "python-dateutil      2.8.2\r\n",
      "pytz                 2021.3\r\n",
      "pyzmq                22.3.0\r\n",
      "qtconsole            5.2.2\r\n",
      "QtPy                 1.11.3\r\n",
      "regex                2021.11.10\r\n",
      "requests             2.26.0\r\n",
      "requests-html        0.10.0\r\n",
      "scikit-learn         1.0.2\r\n",
      "scipy                1.7.3\r\n",
      "seaborn              0.11.2\r\n",
      "Send2Trash           1.8.0\r\n",
      "setuptools           57.0.0\r\n",
      "six                  1.16.0\r\n",
      "smart-open           5.2.1\r\n",
      "soupsieve            2.3.1\r\n",
      "spacy                3.2.1\r\n",
      "spacy-legacy         3.0.8\r\n",
      "spacy-loggers        1.0.1\r\n",
      "srsly                2.4.2\r\n",
      "terminado            0.12.1\r\n",
      "testpath             0.5.0\r\n",
      "thinc                8.0.13\r\n",
      "threadpoolctl        3.0.0\r\n",
      "tornado              6.1\r\n",
      "tqdm                 4.62.3\r\n",
      "traitlets            5.1.1\r\n",
      "typer                0.4.0\r\n",
      "typing_extensions    4.0.1\r\n",
      "ufal.udpipe          1.2.0.3\r\n",
      "urllib3              1.26.7\r\n",
      "w3lib                1.22.0\r\n",
      "wasabi               0.9.0\r\n",
      "wcwidth              0.2.5\r\n",
      "webencodings         0.5.1\r\n",
      "websockets           9.1\r\n",
      "wheel                0.36.2\r\n",
      "widgetsnbextension   3.5.2\r\n",
      "wordcloud            1.8.1\r\n",
      "zipp                 3.6.0\r\n",
      "\u001B[33mWARNING: You are using pip version 21.3.1; however, version 22.0.2 is available.\r\n",
      "You should consider upgrading via the '/Users/Alexey.Zhebel/IdeaProjects/CompLing/venv/bin/python -m pip install --upgrade pip' command.\u001B[0m\r\n"
     ]
    }
   ],
   "source": [
    "!pip3 list"
   ],
   "metadata": {
    "collapsed": false,
    "pycharm": {
     "name": "#%%\n"
    }
   }
  },
  {
   "cell_type": "code",
   "execution_count": 3,
   "metadata": {
    "colab": {
     "base_uri": "https://localhost:8080/"
    },
    "id": "bxQEXhY9pR5y",
    "outputId": "b0120138-0aaf-4589-e2e0-03cf61b86ca2"
   },
   "outputs": [],
   "source": [
    "# сделаем еще импорты нужных библиотек\n",
    "\n",
    "from tqdm.notebook import tqdm # визуализация прогресс-баров\n",
    "\n",
    "import re # регулярки\n",
    "from spacy.lang.en import English\n",
    "\n",
    "# для датафреймов\n",
    "import pandas as pd\n",
    "import numpy as np\n",
    "\n",
    "# визуализации\n",
    "%matplotlib inline\n",
    "\n",
    "# импортируем Spacy и нужные части оттуда\n",
    "import spacy\n",
    "from spacy import displacy\n",
    "nlp = spacy.load(\"en_core_web_sm\") # загрузили обученную ML-модель\n",
    "\n"
   ]
  },
  {
   "cell_type": "markdown",
   "metadata": {
    "id": "42TAplQHmfgd"
   },
   "source": [
    "## Шаг 1: из сырого текста вытащим упоминание сущностей\n",
    "*(такая задача называется Named Entity Recognition  или NER)*"
   ]
  },
  {
   "cell_type": "code",
   "execution_count": 50,
   "metadata": {
    "colab": {
     "base_uri": "https://localhost:8080/",
     "height": 86
    },
    "id": "LPqvsPvDmy92",
    "outputId": "bb790424-f5c4-4138-ab2e-cdd7ba04cd06"
   },
   "outputs": [
    {
     "data": {
      "text/plain": "<IPython.core.display.HTML object>",
      "text/html": "<span class=\"tex2jax_ignore\"><div class=\"entities\" style=\"line-height: 2.5; direction: ltr\">I ate \n<mark class=\"entity\" style=\"background: #e4e7d2; padding: 0.45em 0.6em; margin: 0 0.25em; line-height: 1; border-radius: 0.35em;\">\n    two\n    <span style=\"font-size: 0.8em; font-weight: bold; line-height: 1; border-radius: 0.35em; vertical-align: middle; margin-left: 0.5rem\">CARDINAL</span>\n</mark>\n chocolate \n<mark class=\"entity\" style=\"background: #ff9561; padding: 0.45em 0.6em; margin: 0 0.25em; line-height: 1; border-radius: 0.35em;\">\n    Mars\n    <span style=\"font-size: 0.8em; font-weight: bold; line-height: 1; border-radius: 0.35em; vertical-align: middle; margin-left: 0.5rem\">LOC</span>\n</mark>\n bars and \n<mark class=\"entity\" style=\"background: #e4e7d2; padding: 0.45em 0.6em; margin: 0 0.25em; line-height: 1; border-radius: 0.35em;\">\n    one\n    <span style=\"font-size: 0.8em; font-weight: bold; line-height: 1; border-radius: 0.35em; vertical-align: middle; margin-left: 0.5rem\">CARDINAL</span>\n</mark>\n \n<mark class=\"entity\" style=\"background: #7aecec; padding: 0.45em 0.6em; margin: 0 0.25em; line-height: 1; border-radius: 0.35em;\">\n    Twix\n    <span style=\"font-size: 0.8em; font-weight: bold; line-height: 1; border-radius: 0.35em; vertical-align: middle; margin-left: 0.5rem\">ORG</span>\n</mark>\n.</div></span>"
     },
     "metadata": {},
     "output_type": "display_data"
    }
   ],
   "source": [
    "# text = \"When Sebastian Thrun started working on self-driving cars at Google in 2007,\\\n",
    "#  few people outside of the company took him seriously.\"\n",
    "\n",
    "text = \"I ate two chocolate Mars bars and one Twix.\"\n",
    "\n",
    "doc = nlp(text) # обрабатываем текст\n",
    "displacy.render(doc, style = \"ent\", jupyter = True)"
   ]
  },
  {
   "cell_type": "markdown",
   "metadata": {
    "id": "sW3H3fIOw9IL"
   },
   "source": [
    "[здесь подробнее про  параметры визуализации](https://spacy.io/usage/visualizers)"
   ]
  },
  {
   "cell_type": "code",
   "execution_count": 5,
   "metadata": {
    "colab": {
     "base_uri": "https://localhost:8080/"
    },
    "id": "9_icbfR_dsJt",
    "outputId": "debb6080-bfa0-44fc-d1f7-b8ed788ee429"
   },
   "outputs": [
    {
     "data": {
      "text/plain": "(Sebastian Thrun, Google, 2007)"
     },
     "execution_count": 5,
     "metadata": {},
     "output_type": "execute_result"
    }
   ],
   "source": [
    "# посмотрим на список сущностей в документе\n",
    "doc.ents"
   ]
  },
  {
   "cell_type": "markdown",
   "metadata": {
    "id": "gpqI0K8cxAJ9"
   },
   "source": [
    "## экспериментальная часть: попробуем на большом датасете\n",
    "\n",
    "*(давайте его подготовим)*"
   ]
  },
  {
   "cell_type": "code",
   "execution_count": null,
   "metadata": {
    "id": "iyLS8GE8zDci"
   },
   "outputs": [],
   "source": [
    "# !unzip elonmusk.csv.zip # запустите ячейку если загружаете файл в заархивированном виде"
   ]
  },
  {
   "cell_type": "code",
   "execution_count": 21,
   "metadata": {
    "id": "bVU-OLAPv7ni"
   },
   "outputs": [],
   "source": [
    "# откроем датафрейм\n",
    "df = pd.read_csv(\"Twitter- Oscars(2).csv\", encoding=\"latin-1\")"
   ]
  },
  {
   "cell_type": "code",
   "execution_count": 24,
   "metadata": {
    "colab": {
     "base_uri": "https://localhost:8080/",
     "height": 341
    },
    "id": "9K9zITIlyus4",
    "outputId": "3b671961-7e11-4074-b7fa-d598357f3bfd"
   },
   "outputs": [
    {
     "data": {
      "text/plain": "0                Date   Screen Name      Full Name  \\\n0                Date   Screen Name      Full Name   \n1  2/27/2017 23:48:13     @caileonn  ???i?i? ?eo??   \n2  2/27/2017 23:48:13  @luisdemdiaz      Luis Diaz   \n\n0                                         Tweet Text            Tweet ID  \\\n0                                         Tweet Text            Tweet ID   \n1  RT @deray: How Far I'll Go, Moana. feat. Auli'...  836452929183731712   \n2  RT @cosmos212: Será la foto de la década?? #os...  836452930601484288   \n\n0                 App  Followers  Follows  Retweets  Favorites  Verfied  \\\n0                 App  Followers  Follows  Retweets  Favorites  Verfied   \n1  Twitter for iPhone        397      295      6777          0       No   \n2  Twitter Web Client         67      119        77          0       No   \n\n0  User Since           Location                       Bio  Profile Image  \\\n0  User Since           Location                       Bio  Profile Image   \n1   8/16/2009         West Coast  { Instagram: @caileonn }           View   \n2   2/23/2016  Culiacán, Sinaloa                  25 años.           View   \n\n0  Google Maps  \n0  Google Maps  \n1          NaN  \n2          NaN  ",
      "text/html": "<div>\n<style scoped>\n    .dataframe tbody tr th:only-of-type {\n        vertical-align: middle;\n    }\n\n    .dataframe tbody tr th {\n        vertical-align: top;\n    }\n\n    .dataframe thead th {\n        text-align: right;\n    }\n</style>\n<table border=\"1\" class=\"dataframe\">\n  <thead>\n    <tr style=\"text-align: right;\">\n      <th></th>\n      <th>Date</th>\n      <th>Screen Name</th>\n      <th>Full Name</th>\n      <th>Tweet Text</th>\n      <th>Tweet ID</th>\n      <th>App</th>\n      <th>Followers</th>\n      <th>Follows</th>\n      <th>Retweets</th>\n      <th>Favorites</th>\n      <th>Verfied</th>\n      <th>User Since</th>\n      <th>Location</th>\n      <th>Bio</th>\n      <th>Profile Image</th>\n      <th>Google Maps</th>\n    </tr>\n  </thead>\n  <tbody>\n    <tr>\n      <th>0</th>\n      <td>Date</td>\n      <td>Screen Name</td>\n      <td>Full Name</td>\n      <td>Tweet Text</td>\n      <td>Tweet ID</td>\n      <td>App</td>\n      <td>Followers</td>\n      <td>Follows</td>\n      <td>Retweets</td>\n      <td>Favorites</td>\n      <td>Verfied</td>\n      <td>User Since</td>\n      <td>Location</td>\n      <td>Bio</td>\n      <td>Profile Image</td>\n      <td>Google Maps</td>\n    </tr>\n    <tr>\n      <th>1</th>\n      <td>2/27/2017 23:48:13</td>\n      <td>@caileonn</td>\n      <td>???i?i? ?eo??</td>\n      <td>RT @deray: How Far I'll Go, Moana. feat. Auli'...</td>\n      <td>836452929183731712</td>\n      <td>Twitter for iPhone</td>\n      <td>397</td>\n      <td>295</td>\n      <td>6777</td>\n      <td>0</td>\n      <td>No</td>\n      <td>8/16/2009</td>\n      <td>West Coast</td>\n      <td>{ Instagram: @caileonn }</td>\n      <td>View</td>\n      <td>NaN</td>\n    </tr>\n    <tr>\n      <th>2</th>\n      <td>2/27/2017 23:48:13</td>\n      <td>@luisdemdiaz</td>\n      <td>Luis Diaz</td>\n      <td>RT @cosmos212: Será la foto de la década?? #os...</td>\n      <td>836452930601484288</td>\n      <td>Twitter Web Client</td>\n      <td>67</td>\n      <td>119</td>\n      <td>77</td>\n      <td>0</td>\n      <td>No</td>\n      <td>2/23/2016</td>\n      <td>Culiacán, Sinaloa</td>\n      <td>25 años.</td>\n      <td>View</td>\n      <td>NaN</td>\n    </tr>\n  </tbody>\n</table>\n</div>"
     },
     "execution_count": 24,
     "metadata": {},
     "output_type": "execute_result"
    }
   ],
   "source": [
    "df.columns = df.iloc[0]\n",
    "df.head(3)"
   ]
  },
  {
   "cell_type": "code",
   "execution_count": 25,
   "metadata": {
    "colab": {
     "base_uri": "https://localhost:8080/"
    },
    "id": "kBn27wWUrICO",
    "outputId": "fb65f1d0-ec3c-4f34-d0eb-cba695176791"
   },
   "outputs": [
    {
     "ename": "AttributeError",
     "evalue": "'DataFrame' object has no attribute 'tweet'",
     "output_type": "error",
     "traceback": [
      "\u001B[0;31m---------------------------------------------------------------------------\u001B[0m",
      "\u001B[0;31mAttributeError\u001B[0m                            Traceback (most recent call last)",
      "\u001B[0;32m/var/folders/b6/jlv0gzhn72vdj8t4yttnz9cw0000kt/T/ipykernel_17940/2197787376.py\u001B[0m in \u001B[0;36m<module>\u001B[0;34m\u001B[0m\n\u001B[0;32m----> 1\u001B[0;31m \u001B[0mdf\u001B[0m\u001B[0;34m.\u001B[0m\u001B[0mtweet\u001B[0m\u001B[0;34m[\u001B[0m\u001B[0;34m-\u001B[0m\u001B[0;36m2\u001B[0m\u001B[0;34m:\u001B[0m\u001B[0;34m]\u001B[0m \u001B[0;31m# посмотрим на содержимое колонки с твитами\u001B[0m\u001B[0;34m\u001B[0m\u001B[0;34m\u001B[0m\u001B[0m\n\u001B[0m",
      "\u001B[0;32m~/IdeaProjects/CompLing/venv/lib/python3.8/site-packages/pandas/core/generic.py\u001B[0m in \u001B[0;36m__getattr__\u001B[0;34m(self, name)\u001B[0m\n\u001B[1;32m   5485\u001B[0m         ):\n\u001B[1;32m   5486\u001B[0m             \u001B[0;32mreturn\u001B[0m \u001B[0mself\u001B[0m\u001B[0;34m[\u001B[0m\u001B[0mname\u001B[0m\u001B[0;34m]\u001B[0m\u001B[0;34m\u001B[0m\u001B[0;34m\u001B[0m\u001B[0m\n\u001B[0;32m-> 5487\u001B[0;31m         \u001B[0;32mreturn\u001B[0m \u001B[0mobject\u001B[0m\u001B[0;34m.\u001B[0m\u001B[0m__getattribute__\u001B[0m\u001B[0;34m(\u001B[0m\u001B[0mself\u001B[0m\u001B[0;34m,\u001B[0m \u001B[0mname\u001B[0m\u001B[0;34m)\u001B[0m\u001B[0;34m\u001B[0m\u001B[0;34m\u001B[0m\u001B[0m\n\u001B[0m\u001B[1;32m   5488\u001B[0m \u001B[0;34m\u001B[0m\u001B[0m\n\u001B[1;32m   5489\u001B[0m     \u001B[0;32mdef\u001B[0m \u001B[0m__setattr__\u001B[0m\u001B[0;34m(\u001B[0m\u001B[0mself\u001B[0m\u001B[0;34m,\u001B[0m \u001B[0mname\u001B[0m\u001B[0;34m:\u001B[0m \u001B[0mstr\u001B[0m\u001B[0;34m,\u001B[0m \u001B[0mvalue\u001B[0m\u001B[0;34m)\u001B[0m \u001B[0;34m->\u001B[0m \u001B[0;32mNone\u001B[0m\u001B[0;34m:\u001B[0m\u001B[0;34m\u001B[0m\u001B[0;34m\u001B[0m\u001B[0m\n",
      "\u001B[0;31mAttributeError\u001B[0m: 'DataFrame' object has no attribute 'tweet'"
     ]
    }
   ],
   "source": [
    "df.tweet[-2:] # посмотрим на содержимое колонки с твитами"
   ]
  },
  {
   "cell_type": "code",
   "execution_count": 52,
   "outputs": [
    {
     "data": {
      "text/plain": "0  index                                               text            name\n0      1  RT @deray: How Far I'll Go, Moana. feat. Auli'...       @caileonn\n1      2  RT @cosmos212: Será la foto de la década?? #os...    @luisdemdiaz\n2      3  RT @Muh_Sadam: #Oscars Ryan Gosling & Justin T...       @tamilu40\n3      4  RT @Essence: Class. Excellence. Unmatched. #De...      @mariaglow\n4      5  RT @rayliotta: Just heard what happened last n...  @LostinMemphis",
      "text/html": "<div>\n<style scoped>\n    .dataframe tbody tr th:only-of-type {\n        vertical-align: middle;\n    }\n\n    .dataframe tbody tr th {\n        vertical-align: top;\n    }\n\n    .dataframe thead th {\n        text-align: right;\n    }\n</style>\n<table border=\"1\" class=\"dataframe\">\n  <thead>\n    <tr style=\"text-align: right;\">\n      <th></th>\n      <th>index</th>\n      <th>text</th>\n      <th>name</th>\n    </tr>\n  </thead>\n  <tbody>\n    <tr>\n      <th>0</th>\n      <td>1</td>\n      <td>RT @deray: How Far I'll Go, Moana. feat. Auli'...</td>\n      <td>@caileonn</td>\n    </tr>\n    <tr>\n      <th>1</th>\n      <td>2</td>\n      <td>RT @cosmos212: Será la foto de la década?? #os...</td>\n      <td>@luisdemdiaz</td>\n    </tr>\n    <tr>\n      <th>2</th>\n      <td>3</td>\n      <td>RT @Muh_Sadam: #Oscars Ryan Gosling &amp; Justin T...</td>\n      <td>@tamilu40</td>\n    </tr>\n    <tr>\n      <th>3</th>\n      <td>4</td>\n      <td>RT @Essence: Class. Excellence. Unmatched. #De...</td>\n      <td>@mariaglow</td>\n    </tr>\n    <tr>\n      <th>4</th>\n      <td>5</td>\n      <td>RT @rayliotta: Just heard what happened last n...</td>\n      <td>@LostinMemphis</td>\n    </tr>\n  </tbody>\n</table>\n</div>"
     },
     "execution_count": 52,
     "metadata": {},
     "output_type": "execute_result"
    }
   ],
   "source": [
    "df_small = df[[\"Tweet Text\",\"Screen Name\"]].rename(columns={\"Tweet Text\":\"text\",\"Screen Name\":\"name\"}).drop(0).reset_index()\n",
    "\n",
    "df_small.head(5)"
   ],
   "metadata": {
    "collapsed": false,
    "pycharm": {
     "name": "#%%\n"
    }
   }
  },
  {
   "cell_type": "code",
   "execution_count": 18,
   "metadata": {
    "colab": {
     "base_uri": "https://localhost:8080/"
    },
    "id": "QqW_PzbiUJdy",
    "outputId": "9d987d25-d235-4a7b-aaaa-9127e0e049d2"
   },
   "outputs": [
    {
     "name": "stdout",
     "output_type": "stream",
     "text": [
      "9286\n"
     ]
    }
   ],
   "source": [
    "print(len(df.tweet.to_list()))\n",
    "elon = df.tweet.to_list()"
   ]
  },
  {
   "cell_type": "code",
   "execution_count": 45,
   "outputs": [],
   "source": [
    "oscar = df_small.text.to_list()"
   ],
   "metadata": {
    "collapsed": false,
    "pycharm": {
     "name": "#%%\n"
    }
   }
  },
  {
   "cell_type": "code",
   "execution_count": 51,
   "metadata": {
    "colab": {
     "base_uri": "https://localhost:8080/",
     "height": 1000
    },
    "collapsed": true,
    "id": "fJJQw7g5WqwW",
    "jupyter": {
     "outputs_hidden": true
    },
    "outputId": "b92fc9f3-a9c3-487a-f0f4-ab327e961c77",
    "tags": []
   },
   "outputs": [
    {
     "data": {
      "text/plain": "<IPython.core.display.HTML object>",
      "text/html": "<span class=\"tex2jax_ignore\"><div class=\"entities\" style=\"line-height: 2.5; direction: ltr\">\n<mark class=\"entity\" style=\"background: #7aecec; padding: 0.45em 0.6em; margin: 0 0.25em; line-height: 1; border-radius: 0.35em;\">\n    RT @KarmaJonez\n    <span style=\"font-size: 0.8em; font-weight: bold; line-height: 1; border-radius: 0.35em; vertical-align: middle; margin-left: 0.5rem\">ORG</span>\n</mark>\n: Now this is a look, baby. #Oscars https://t.co/yXzwvOvvpZ</div></span>"
     },
     "metadata": {},
     "output_type": "display_data"
    },
    {
     "name": "stdout",
     "output_type": "stream",
     "text": [
      "\n",
      "Entities found: (RT @KarmaJonez,)\n"
     ]
    },
    {
     "name": "stderr",
     "output_type": "stream",
     "text": [
      "/Users/Alexey.Zhebel/IdeaProjects/CompLing/venv/lib/python3.8/site-packages/spacy/displacy/__init__.py:200: UserWarning: [W006] No entities to visualize found in Doc object. If this is surprising to you, make sure the Doc was processed using a model that supports named entity recognition, and check the `doc.ents` property manually if necessary.\n",
      "  warnings.warn(Warnings.W006)\n"
     ]
    },
    {
     "data": {
      "text/plain": "<IPython.core.display.HTML object>",
      "text/html": "<span class=\"tex2jax_ignore\"><div class=\"entities\" style=\"line-height: 2.5; direction: ltr\">@KORANISBURNING Can't decide who I hate more.. ????? #Oscars https://t.co/eEBmd7oVoJ</div></span>"
     },
     "metadata": {},
     "output_type": "display_data"
    },
    {
     "name": "stdout",
     "output_type": "stream",
     "text": [
      "\n",
      "Entities found: ()\n"
     ]
    },
    {
     "data": {
      "text/plain": "<IPython.core.display.HTML object>",
      "text/html": "<span class=\"tex2jax_ignore\"><div class=\"entities\" style=\"line-height: 2.5; direction: ltr\">RT @celiacernadas: Segon comunicat de disculpa de PWC per pifiada dels sobres als #Oscars. Assumeixen tot l'error \n<mark class=\"entity\" style=\"background: #7aecec; padding: 0.45em 0.6em; margin: 0 0.25em; line-height: 1; border-radius: 0.35em;\">\n    https://t.co/OhHkMRs9kN v\n    <span style=\"font-size: 0.8em; font-weight: bold; line-height: 1; border-radius: 0.35em; vertical-align: middle; margin-left: 0.5rem\">ORG</span>\n</mark>\n</div></span>"
     },
     "metadata": {},
     "output_type": "display_data"
    },
    {
     "name": "stdout",
     "output_type": "stream",
     "text": [
      "\n",
      "Entities found: (https://t.co/OhHkMRs9kN v,)\n"
     ]
    },
    {
     "data": {
      "text/plain": "<IPython.core.display.HTML object>",
      "text/html": "<span class=\"tex2jax_ignore\"><div class=\"entities\" style=\"line-height: 2.5; direction: ltr\">\n<mark class=\"entity\" style=\"background: #7aecec; padding: 0.45em 0.6em; margin: 0 0.25em; line-height: 1; border-radius: 0.35em;\">\n    RT @girlposts\n    <span style=\"font-size: 0.8em; font-weight: bold; line-height: 1; border-radius: 0.35em; vertical-align: middle; margin-left: 0.5rem\">ORG</span>\n</mark>\n: \n<mark class=\"entity\" style=\"background: #aa9cfc; padding: 0.45em 0.6em; margin: 0 0.25em; line-height: 1; border-radius: 0.35em;\">\n    jimmy kimmel\n    <span style=\"font-size: 0.8em; font-weight: bold; line-height: 1; border-radius: 0.35em; vertical-align: middle; margin-left: 0.5rem\">PERSON</span>\n</mark>\n lifting sunny pawar to the lion king's circle of life is my favorite moment of the #Oscars so far \n<mark class=\"entity\" style=\"background: #aa9cfc; padding: 0.45em 0.6em; margin: 0 0.25em; line-height: 1; border-radius: 0.35em;\">\n    https://t.co\n    <span style=\"font-size: 0.8em; font-weight: bold; line-height: 1; border-radius: 0.35em; vertical-align: middle; margin-left: 0.5rem\">PERSON</span>\n</mark>\n</div></span>"
     },
     "metadata": {},
     "output_type": "display_data"
    },
    {
     "name": "stdout",
     "output_type": "stream",
     "text": [
      "\n",
      "Entities found: (RT @girlposts, jimmy kimmel, https://t.co)\n"
     ]
    },
    {
     "data": {
      "text/plain": "<IPython.core.display.HTML object>",
      "text/html": "<span class=\"tex2jax_ignore\"><div class=\"entities\" style=\"line-height: 2.5; direction: ltr\">\n<mark class=\"entity\" style=\"background: #7aecec; padding: 0.45em 0.6em; margin: 0 0.25em; line-height: 1; border-radius: 0.35em;\">\n    RT @neontaster\n    <span style=\"font-size: 0.8em; font-weight: bold; line-height: 1; border-radius: 0.35em; vertical-align: middle; margin-left: 0.5rem\">ORG</span>\n</mark>\n: \n<mark class=\"entity\" style=\"background: #e4e7d2; padding: 0.45em 0.6em; margin: 0 0.25em; line-height: 1; border-radius: 0.35em;\">\n    #BestPicture #\n    <span style=\"font-size: 0.8em; font-weight: bold; line-height: 1; border-radius: 0.35em; vertical-align: middle; margin-left: 0.5rem\">MONEY</span>\n</mark>\nOscars https://t.co/LDe4x4KwwD</div></span>"
     },
     "metadata": {},
     "output_type": "display_data"
    },
    {
     "name": "stdout",
     "output_type": "stream",
     "text": [
      "\n",
      "Entities found: (RT @neontaster, #BestPicture #)\n"
     ]
    }
   ],
   "source": [
    "# функция которая покажет твиты с сущностями и кореференцией\n",
    "\n",
    "for doc in oscar[100:105]: # для твитов выбранного диапазона (его можно менять)\n",
    "\n",
    "    if len(doc) > 50: # если длина твита больше 50 символов\n",
    "        doc = nlp(doc) # обрабатываем текст spacy-функцией\n",
    "\n",
    "        if True: #len(doc.ents) >0: # если найдены именованные сущности\n",
    "            displacy.render(doc, style = \"ent\",jupyter =True) # отображаем такие твиты \n",
    "            print('\\nEntities found:',doc.ents) # покажите сами сущности тоже\n"
   ]
  },
  {
   "cell_type": "markdown",
   "metadata": {
    "id": "Gdi10m0duuAr"
   },
   "source": [
    "# Как еще можно извлекать информацию?\n",
    "- не через сущности, а через POS-тэги, как мы делали на прошлых парах([1](https://colab.research.google.com/drive/1l4MUvWtQFpRfrl-afGKKbuFTEJ0-2JI4?usp=sharing),  [2](https://colab.research.google.com/drive/1WaO4hQxzqhPA5Lvc23bPLKM3O6smH4iA?usp=sharing))\n",
    "\n",
    "- из русскоязычных текстов, при помощи [natasha](https://github.com/mannefedov/compling_nlp_hse_course/blob/master/notebooks/NER.ipynb)\n",
    "\n",
    "- с помощью [этой библиотеки](https://github.com/fhamborg/Giveme5W1H) (работает с json-файлами)\n",
    "\n",
    "- можно построить [граф знаний в neo4j](http://blog.bruggen.com/2016/03/the-neo4j-knowledge-graph.html)\n"
   ]
  }
 ],
 "metadata": {
  "accelerator": "TPU",
  "colab": {
   "collapsed_sections": [
    "vTI-BoOUlB59",
    "42TAplQHmfgd",
    "gpqI0K8cxAJ9"
   ],
   "name": "KE_семинар5: Info Extraction(NER+coref)",
   "provenance": []
  },
  "kernelspec": {
   "display_name": "Python 3 (ipykernel)",
   "language": "python",
   "name": "python3"
  },
  "language_info": {
   "codemirror_mode": {
    "name": "ipython",
    "version": 3
   },
   "file_extension": ".py",
   "mimetype": "text/x-python",
   "name": "python",
   "nbconvert_exporter": "python",
   "pygments_lexer": "ipython3",
   "version": "3.10.2"
  }
 },
 "nbformat": 4,
 "nbformat_minor": 4
}