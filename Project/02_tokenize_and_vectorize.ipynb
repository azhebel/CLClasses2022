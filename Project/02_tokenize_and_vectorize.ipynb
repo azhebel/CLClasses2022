{
 "cells": [
  {
   "cell_type": "code",
   "execution_count": 85,
   "metadata": {
    "collapsed": true
   },
   "outputs": [],
   "source": [
    "import pandas\n",
    "import nltk\n",
    "import string\n",
    "import numpy\n",
    "from collections import defaultdict as dd\n",
    "\n",
    "from nltk.corpus import wordnet\n",
    "from nltk.stem import WordNetLemmatizer\n",
    "\n",
    "stop_words = nltk.corpus.stopwords.words(\"english\")\n",
    "\n",
    "import gensim"
   ]
  },
  {
   "cell_type": "code",
   "execution_count": 65,
   "outputs": [
    {
     "data": {
      "text/plain": "                                         topic  \\\n0                  settings-notifications.html   \n1    configuring-project-and-ide-settings.html   \n2                 php-built-in-web-server.html   \n3  work-with-scala-worksheet-and-ammonite.html   \n4   finding-and-replacing-text-in-project.html   \n\n                                                text  \n0  Notifications\\nUse this page to enable and dis...  \n1  Configuring the IDE\\nIntelliJ IDEA allows you ...  \n2  Built-in web server\\nThe following is only val...  \n3  Scala worksheet and Ammonite\\nYou can quickly ...  \n4  Search and replace a target within a project\\n...  ",
      "text/html": "<div>\n<style scoped>\n    .dataframe tbody tr th:only-of-type {\n        vertical-align: middle;\n    }\n\n    .dataframe tbody tr th {\n        vertical-align: top;\n    }\n\n    .dataframe thead th {\n        text-align: right;\n    }\n</style>\n<table border=\"1\" class=\"dataframe\">\n  <thead>\n    <tr style=\"text-align: right;\">\n      <th></th>\n      <th>topic</th>\n      <th>text</th>\n    </tr>\n  </thead>\n  <tbody>\n    <tr>\n      <th>0</th>\n      <td>settings-notifications.html</td>\n      <td>Notifications\\nUse this page to enable and dis...</td>\n    </tr>\n    <tr>\n      <th>1</th>\n      <td>configuring-project-and-ide-settings.html</td>\n      <td>Configuring the IDE\\nIntelliJ IDEA allows you ...</td>\n    </tr>\n    <tr>\n      <th>2</th>\n      <td>php-built-in-web-server.html</td>\n      <td>Built-in web server\\nThe following is only val...</td>\n    </tr>\n    <tr>\n      <th>3</th>\n      <td>work-with-scala-worksheet-and-ammonite.html</td>\n      <td>Scala worksheet and Ammonite\\nYou can quickly ...</td>\n    </tr>\n    <tr>\n      <th>4</th>\n      <td>finding-and-replacing-text-in-project.html</td>\n      <td>Search and replace a target within a project\\n...</td>\n    </tr>\n  </tbody>\n</table>\n</div>"
     },
     "execution_count": 65,
     "metadata": {},
     "output_type": "execute_result"
    }
   ],
   "source": [
    "colnames = [\"topic\", \"text\"]\n",
    "df = pandas.read_csv(\"01_topic_text.csv\", names=colnames, header=0)\n",
    "\n",
    "df.head(5)"
   ],
   "metadata": {
    "collapsed": false,
    "pycharm": {
     "name": "#%%\n"
    }
   }
  },
  {
   "cell_type": "code",
   "execution_count": 66,
   "outputs": [
    {
     "name": "stdout",
     "output_type": "stream",
     "text": [
      "Lets make a list of all topic names...\n",
      "First 10: ['settings-notifications.html', 'configuring-project-and-ide-settings.html', 'php-built-in-web-server.html', 'work-with-scala-worksheet-and-ammonite.html', 'finding-and-replacing-text-in-project.html', 'using-postfix-templates.html', 'extract-constant-refactoring-dialog.html', 'edit-log-files-aliases-dialog.html', 'run-debug-configuration-attests.html', 'symbols.html']\n",
      "And now a list of topic texts...\n",
      "Here is the first one: 'Notifications\\nUse this page to enable and disable notifications about certain events, change their p'\n"
     ]
    }
   ],
   "source": [
    "print(\"Lets make a list of all topic names...\")\n",
    "topic_names = list(df[\"topic\"])\n",
    "print(\"First 10:\", topic_names[:10])\n",
    "\n",
    "print(\"And now a list of topic texts...\")\n",
    "topic_texts = list(df[\"text\"])\n",
    "print(\"Here is the first one:\", repr(topic_texts[0][:100]))"
   ],
   "metadata": {
    "collapsed": false,
    "pycharm": {
     "name": "#%%\n"
    }
   }
  },
  {
   "cell_type": "code",
   "execution_count": 67,
   "outputs": [
    {
     "name": "stdout",
     "output_type": "stream",
     "text": [
      "Tokenizing and removing punctuation and stopwords...\n",
      "Created a list of bags of words\n"
     ]
    }
   ],
   "source": [
    "print(\"Tokenizing and removing punctuation and stopwords...\")\n",
    "all_tokens = [[word for word in nltk.word_tokenize(doc.lower().replace(\"/\", \" \").replace(\"\\\\\", \" \")) if word not in stop_words and word not in string.punctuation] for doc in topic_texts]\n",
    "print(\"Created a list of bags of words\")"
   ],
   "metadata": {
    "collapsed": false,
    "pycharm": {
     "name": "#%%\n"
    }
   }
  },
  {
   "cell_type": "code",
   "execution_count": 68,
   "outputs": [
    {
     "name": "stdout",
     "output_type": "stream",
     "text": [
      "First topic:\n",
      "171 tokens\n",
      "['notifications', 'use', 'page', 'enable', 'disable', 'notifications', 'certain', 'events', 'change', 'presentation', 'optionally', 'enable', 'logging', 'item', 'description', 'display', 'balloon', 'notifications', 'select', 'checkbox', 'enable', 'event', 'notifications', 'intellij', 'idea', 'notifications', 'generally', 'shown', 'balloons', 'appear', 'screen', 'corresponding', 'events', 'take', 'place', 'regardless', 'state', 'option', 'always', 'find', 'notifications', 'current', 'session', 'event', 'log', 'enable', 'system', 'notifications', 'select', 'checkbox', 'allow', 'showing', 'system', 'notification', 'windows', 'may', 'want', 'disable', 'option', 'hide', 'intellij', 'idea', 'icon', 'system', 'tray', 'group', 'column', 'lists', 'groups', 'events', 'may', 'notified', 'may', 'logged', 'popup', 'display', 'balloon', 'notification', 'checkbox', 'selected', 'settings', 'column', 'specify', 'notifications', 'corresponding', 'group', 'events', 'shown', 'available', 'display', 'options', 'balloon', 'balloons', 'notification', 'messages', 'appear', 'screen', 'short', 'period', 'time', 'disappear', 'automatically', 'notifications', 'also', 'shown', 'status', 'bar', 'added', 'list', 'notifications', 'sticky', 'balloon', 'notification', 'balloons', 'stay', 'screen', 'unless', 'close', 'tool', 'window', 'balloon', 'notification', 'balloons', 'shown', 'appropriate', 'tool', 'window', 'open', 'popup', 'notifications', 'corresponding', 'group', 'events', 'shown', 'log', 'checkbox', 'group', 'events', 'selected', 'corresponding', 'events', 'logged', 'seen', 'event', 'log', 'tool', 'window', 'read', 'aloud', 'read', 'selected', 'notifications', 'loud', 'read', 'aloud', 'column', 'available', 'macos', 'configure', 'voice', 'settings', 'macos', 'preferences', 'learn', 'accessibility', 'features', 'macos', 'see', 'official', 'apple', 'documentation']\n"
     ]
    }
   ],
   "source": [
    "print(\"First topic:\")\n",
    "print(len(all_tokens[0]), \"tokens\")\n",
    "print(all_tokens[0])"
   ],
   "metadata": {
    "collapsed": false,
    "pycharm": {
     "name": "#%%\n"
    }
   }
  },
  {
   "cell_type": "code",
   "execution_count": 69,
   "outputs": [
    {
     "name": "stdout",
     "output_type": "stream",
     "text": [
      "Counting term frequencies...\n",
      "There are 12879 tokens in total.\n",
      "The 10 most frequent are: {'select': 12012, 'run': 9247, 'click': 7625, 'intellij': 7462, 'idea': 7443, 'file': 7379, 'project': 6497, 'configuration': 6449, 'code': 5493, 'dialog': 5449}\n"
     ]
    }
   ],
   "source": [
    "print(\"Counting term frequencies...\")\n",
    "\n",
    "frequency = dd(int)\n",
    "\n",
    "for doc in all_tokens:\n",
    "    for token in doc:\n",
    "        frequency[token] += 1\n",
    "\n",
    "print(\"There are\", len(frequency), \"tokens in total.\")\n",
    "\n",
    "print(\"The 10 most frequent are:\", dict(sorted(frequency.items(), key=lambda item: item[1], reverse=True)[:10]))"
   ],
   "metadata": {
    "collapsed": false,
    "pycharm": {
     "name": "#%%\n"
    }
   }
  },
  {
   "cell_type": "code",
   "execution_count": 70,
   "outputs": [
    {
     "name": "stdout",
     "output_type": "stream",
     "text": [
      "The word PERMISSIONS appears 50 times.\n"
     ]
    }
   ],
   "source": [
    "word = \"permissions\"\n",
    "print(\"The word\", word.upper(), \"appears\", frequency[word], \"times.\")"
   ],
   "metadata": {
    "collapsed": false,
    "pycharm": {
     "name": "#%%\n"
    }
   }
  },
  {
   "cell_type": "code",
   "execution_count": 71,
   "outputs": [
    {
     "name": "stdout",
     "output_type": "stream",
     "text": [
      "Lets get rid of tokens that appear only once...\n",
      "Now we have 8260 tokens left.\n",
      "First topic:\n",
      "170\n",
      "['notifications', 'use', 'page', 'enable', 'disable', 'notifications', 'certain', 'events', 'change', 'presentation', 'optionally', 'enable', 'logging', 'item', 'description', 'display', 'balloon', 'notifications', 'select', 'checkbox', 'enable', 'event', 'notifications', 'intellij', 'idea', 'notifications', 'generally', 'shown', 'balloons', 'appear', 'screen', 'corresponding', 'events', 'take', 'place', 'regardless', 'state', 'option', 'always', 'find', 'notifications', 'current', 'session', 'event', 'log', 'enable', 'system', 'notifications', 'select', 'checkbox', 'allow', 'showing', 'system', 'notification', 'windows', 'may', 'want', 'disable', 'option', 'hide', 'intellij', 'idea', 'icon', 'system', 'tray', 'group', 'column', 'lists', 'groups', 'events', 'may', 'notified', 'may', 'logged', 'popup', 'display', 'balloon', 'notification', 'checkbox', 'selected', 'settings', 'column', 'specify', 'notifications', 'corresponding', 'group', 'events', 'shown', 'available', 'display', 'options', 'balloon', 'balloons', 'notification', 'messages', 'appear', 'screen', 'short', 'period', 'time', 'disappear', 'automatically', 'notifications', 'also', 'shown', 'status', 'bar', 'added', 'list', 'notifications', 'sticky', 'balloon', 'notification', 'balloons', 'stay', 'screen', 'unless', 'close', 'tool', 'window', 'balloon', 'notification', 'balloons', 'shown', 'appropriate', 'tool', 'window', 'open', 'popup', 'notifications', 'corresponding', 'group', 'events', 'shown', 'log', 'checkbox', 'group', 'events', 'selected', 'corresponding', 'events', 'logged', 'seen', 'event', 'log', 'tool', 'window', 'read', 'aloud', 'read', 'selected', 'notifications', 'read', 'aloud', 'column', 'available', 'macos', 'configure', 'voice', 'settings', 'macos', 'preferences', 'learn', 'accessibility', 'features', 'macos', 'see', 'official', 'apple', 'documentation']\n"
     ]
    }
   ],
   "source": [
    "print(\"Lets get rid of tokens that appear only once...\")\n",
    "\n",
    "corpus = [[token for token in doc if frequency[token] > 1] for doc in all_tokens]\n",
    "\n",
    "unique = set()\n",
    "\n",
    "for doc in corpus:\n",
    "    for token in doc:\n",
    "        unique.add(token)\n",
    "\n",
    "print(\"Now we have\", len(unique), \"tokens left.\")\n",
    "\n",
    "print(\"First topic:\")\n",
    "print(len(corpus[0]))\n",
    "print(corpus[0])"
   ],
   "metadata": {
    "collapsed": false,
    "pycharm": {
     "name": "#%%\n"
    }
   }
  },
  {
   "cell_type": "code",
   "execution_count": 72,
   "outputs": [
    {
     "name": "stdout",
     "output_type": "stream",
     "text": [
      "Here is how to get some topic file name: navigation-in-groovy.html\n",
      "And its bag of words from the corpus:\n",
      "['navigation', 'groovy', 'intellij', 'idea', 'offers', 'standard', 'navigation', 'actions', 'work', 'groovy', 'recent', 'files', 'time', 'work', 'finite', 'set', 'files', 'need', 'switch', 'quickly', 'real', 'time-saver', 'action', 'called', 'recent', 'files', 'invoked', 'pressing', 'ctrl+e', 'default', 'focus', 'last', 'accessed', 'file', 'note', 'also', 'open', 'tool', 'window', 'action', 'navigate', 'class', 'available', 'pressing', 'ctrl+n', 'supports', 'sophisticated', 'expressions', 'including', 'camel', 'humps', 'paths', 'line', 'navigate', 'middle', 'name', 'matching', 'many', 'call', 'twice', 'shows', 'results', 'project', 'classes', 'navigate', 'file', 'works', 'similarly', 'pressing', 'ctrl+shift+n', 'used', 'files', 'folders', 'navigate', 'folder', 'end', 'expression', 'slash', 'character', 'navigate', 'symbol', 'available', 'pressing', 'ctrl+alt+shift+n', 'allows', 'find', 'method', 'field', 'name', 'recent', 'locations', 'popup', 'lets', 'check', 'recently', 'visited', 'changed', 'code', 'locations', 'available', 'pressing', 'ctrl+shift+e', 'structure', 'switching', 'files', 'probably', 'navigating', 'within', 'file', 'simplest', 'way', 'press', 'ctrl+f12', 'popup', 'shows', 'structure', 'file', 'allows', 'quickly', 'navigate', 'select', 'need', 'open', 'file', 'particular', 'tool', 'window', 'finder', 'explorer', 'via', 'select', 'action', 'pressing', 'alt+f1', 'navigation', 'shortcuts', 'include', 'action', 'shortcut', 'search', 'everywhere', 'double', 'shift', 'navigate', 'class', 'ctrl+n', 'navigate', 'file', 'ctrl+shift+n', 'navigate', 'symbol', 'ctrl+alt+shift+n', 'recent', 'files', 'ctrl+e', 'file', 'structure', 'ctrl+f12', 'select', 'alt+f1', 'navigate', 'declaration', 'ctrl+b', 'navigate', 'type', 'hierarchy', 'ctrl+h', 'quick', 'popups', 'quick', 'popups', 'helpful', 'checking', 'additional', 'information', 'related', 'symbol', 'caret', 'list', 'popups', 'know', 'want', 'productive', 'action', 'shortcut', 'documentation', 'ctrl+q', 'quick', 'definition', 'ctrl+shift+i', 'show', 'usages', 'ctrl+alt+f7', 'show', 'implementation', 'ctrl+alt+b', 'quick', 'popups', 'available', 'symbols', 'editor', 'however', 'also', 'available', 'items', 'list', 'via', 'shortcuts', 'finding', 'usages', 'find', 'usages', 'helps', 'quickly', 'find', 'pieces', 'code', 'referencing', 'symbol', 'caret', 'matter', 'symbol', 'class', 'method', 'field', 'parameter', 'another', 'statement', 'press', 'alt+f7', 'get', 'list', 'references', 'grouped', 'usage', 'type', 'module', 'file', 'want', 'set', 'custom', 'options', 'find', 'usages', 'algorithm', 'press', 'ctrl+alt+shift+f7', 'click', 'first', 'button', 'right', 'panel', 'search', 'results', \"'re\", 'looking', 'plain', 'text', 'use', 'find', 'files', 'pressing', 'ctrl+shift+f', 'details', 'refer', 'search', 'usages']\n"
     ]
    }
   ],
   "source": [
    "print(\"Here is how to get some topic file name:\", topic_names[101])\n",
    "\n",
    "print(\"And its bag of words from the corpus:\")\n",
    "print(corpus[101])"
   ],
   "metadata": {
    "collapsed": false,
    "pycharm": {
     "name": "#%%\n"
    }
   }
  },
  {
   "cell_type": "code",
   "execution_count": 73,
   "outputs": [
    {
     "name": "stdout",
     "output_type": "stream",
     "text": [
      "Lets create a dictionary...\n",
      "Dictionary(8260 unique tokens: ['accessibility', 'added', 'allow', 'aloud', 'also']...)\n"
     ]
    }
   ],
   "source": [
    "print(\"Lets create a dictionary...\")\n",
    "dictionary = gensim.corpora.Dictionary(corpus)\n",
    "print(dictionary)"
   ],
   "metadata": {
    "collapsed": false,
    "pycharm": {
     "name": "#%%\n"
    }
   }
  },
  {
   "cell_type": "code",
   "execution_count": 175,
   "outputs": [
    {
     "name": "stdout",
     "output_type": "stream",
     "text": [
      "Here is how to get a word by its ID: ssh\n"
     ]
    },
    {
     "ename": "KeyError",
     "evalue": "'commandline'",
     "output_type": "error",
     "traceback": [
      "\u001B[0;31m---------------------------------------------------------------------------\u001B[0m",
      "\u001B[0;31mKeyError\u001B[0m                                  Traceback (most recent call last)",
      "\u001B[0;32m/var/folders/b6/jlv0gzhn72vdj8t4yttnz9cw0000kt/T/ipykernel_98541/3215823854.py\u001B[0m in \u001B[0;36m<module>\u001B[0;34m\u001B[0m\n\u001B[1;32m      1\u001B[0m \u001B[0mprint\u001B[0m\u001B[0;34m(\u001B[0m\u001B[0;34m\"Here is how to get a word by its ID:\"\u001B[0m\u001B[0;34m,\u001B[0m \u001B[0mdictionary\u001B[0m\u001B[0;34m[\u001B[0m\u001B[0;36m807\u001B[0m\u001B[0;34m]\u001B[0m\u001B[0;34m)\u001B[0m\u001B[0;34m\u001B[0m\u001B[0;34m\u001B[0m\u001B[0m\n\u001B[0;32m----> 2\u001B[0;31m \u001B[0mprint\u001B[0m\u001B[0;34m(\u001B[0m\u001B[0;34m\"And this is how to find the ID of a word:\"\u001B[0m\u001B[0;34m,\u001B[0m \u001B[0mdictionary\u001B[0m\u001B[0;34m.\u001B[0m\u001B[0mtoken2id\u001B[0m\u001B[0;34m[\u001B[0m\u001B[0;34m\"commandline\"\u001B[0m\u001B[0;34m]\u001B[0m\u001B[0;34m)\u001B[0m\u001B[0;34m\u001B[0m\u001B[0;34m\u001B[0m\u001B[0m\n\u001B[0m",
      "\u001B[0;31mKeyError\u001B[0m: 'commandline'"
     ]
    }
   ],
   "source": [
    "print(\"Here is how to get a word by its ID:\", dictionary[807])\n",
    "print(\"And this is how to find the ID of a word:\", dictionary.token2id[\"commandline\"])"
   ],
   "metadata": {
    "collapsed": false,
    "pycharm": {
     "name": "#%%\n"
    }
   }
  },
  {
   "cell_type": "code",
   "execution_count": 75,
   "outputs": [
    {
     "name": "stdout",
     "output_type": "stream",
     "text": [
      "Now we can vectorize all topics based on the term frequencies...\n"
     ]
    }
   ],
   "source": [
    "print(\"Now we can vectorize all topics based on the term frequencies...\")\n",
    "freq_vectors = [dictionary.doc2bow(doc) for doc in corpus]"
   ],
   "metadata": {
    "collapsed": false,
    "pycharm": {
     "name": "#%%\n"
    }
   }
  },
  {
   "cell_type": "code",
   "execution_count": 76,
   "outputs": [
    {
     "name": "stdout",
     "output_type": "stream",
     "text": [
      "Here is a frequency vector of create-ssh-configurations.html\n",
      "[(6, 1), (9, 1), (10, 1), (16, 5), (19, 1), (20, 1), (21, 2), (37, 6), (38, 6), (41, 1), (42, 1), (46, 1), (61, 1), (66, 1), (68, 3), (69, 1), (71, 3), (75, 2), (86, 4), (90, 1), (96, 2), (98, 2), (104, 1), (105, 1), (110, 2), (114, 6), (115, 1), (118, 1), (122, 1), (123, 2), (125, 1), (126, 1), (128, 1), (145, 1), (157, 1), (164, 5), (165, 3), (174, 1), (183, 1), (211, 1), (213, 1), (222, 1), (228, 1), (231, 1), (234, 1), (245, 1), (248, 1), (250, 1), (264, 1), (271, 1), (277, 1), (280, 1), (282, 1), (285, 2), (292, 4), (313, 4), (318, 5), (319, 1), (339, 1), (346, 1), (352, 1), (372, 1), (385, 1), (402, 1), (406, 1), (407, 1), (412, 1), (439, 1), (440, 1), (463, 1), (497, 2), (532, 1), (537, 1), (552, 1), (571, 6), (577, 1), (614, 1), (638, 2), (680, 6), (710, 2), (731, 3), (754, 1), (757, 1), (780, 1), (793, 3), (807, 15), (819, 1), (823, 2), (827, 1), (910, 2), (918, 1), (974, 1), (1048, 1), (1136, 3), (1162, 1), (1170, 1), (1227, 1), (1326, 1), (1334, 3), (1342, 1), (1350, 1), (1352, 3), (1355, 1), (1380, 1), (1385, 1), (1389, 1), (1406, 3), (1411, 1), (1412, 1), (1419, 4), (1422, 1), (1423, 2), (1425, 3), (1427, 4), (1434, 3), (1442, 1), (1448, 1), (1462, 2), (1474, 1), (1480, 1), (1489, 2), (1624, 2), (2587, 1), (2669, 1), (2726, 2), (2756, 1), (2842, 1), (3396, 1), (3397, 1), (3398, 1), (3399, 1), (3400, 2), (3401, 1)]\n"
     ]
    }
   ],
   "source": [
    "id = 100\n",
    "print(\"Here is a frequency vector of\", topic_names[id])\n",
    "print(freq_vectors[id])"
   ],
   "metadata": {
    "collapsed": false,
    "pycharm": {
     "name": "#%%\n"
    }
   }
  },
  {
   "cell_type": "code",
   "execution_count": 78,
   "outputs": [
    {
     "name": "stdout",
     "output_type": "stream",
     "text": [
      "Lets train a TFIDF model...\n"
     ]
    }
   ],
   "source": [
    "print(\"Lets train a TFIDF model...\")\n",
    "\n",
    "tfidf = gensim.models.TfidfModel(freq_vectors)"
   ],
   "metadata": {
    "collapsed": false,
    "pycharm": {
     "name": "#%%\n"
    }
   }
  },
  {
   "cell_type": "code",
   "execution_count": 79,
   "outputs": [
    {
     "name": "stdout",
     "output_type": "stream",
     "text": [
      "We can pass a topic's frequency vector to calculate the topic's TFIDF vector.\n",
      "For example, here is the TFIDF vector of create-ssh-configurations.html\n",
      "[(6, 0.030019874966861534), (9, 0.016188457942874147), (10, 0.010621707322915893), (16, 0.07341767441315639), (19, 0.011140490704105091), (20, 0.016846304909399732), (21, 0.03237691588574829), (37, 0.02402113060999782), (38, 0.02402113060999782), (41, 0.007863515772167057), (42, 0.036096700976314434), (46, 0.04122380851836431), (61, 0.02032701045496918), (66, 0.011225139278530517), (68, 0.008555118362237227), (69, 0.010560609563914249), (71, 0.023693053431385794), (75, 0.013584653522109209), (86, 0.018508801283859018), (90, 0.0235981736647283), (96, 0.0531261172586214), (98, 0.06839422569369911), (104, 0.01872841636470138), (105, 0.023645568983061954), (110, 0.009700360751982105), (114, 0.09765917716416737), (115, 0.03448193011775401), (118, 0.020442282453173845), (122, 0.004934635864199034), (123, 0.03214361172712941), (125, 0.010298613545667922), (126, 0.022414388838035506), (128, 0.006872136375075848), (145, 0.040358507118585026), (157, 0.01645419556755273), (164, 0.04370646559364038), (165, 0.08144247236049901), (174, 0.025944765302164177), (183, 0.0110773076916226), (211, 0.0171548584744652), (213, 0.031290625851756515), (222, 0.010318609872490364), (228, 0.03259052399006333), (231, 0.03373379982897214), (234, 0.021770602910902874), (245, 0.00948134694541302), (248, 0.024176760123572314), (250, 0.023933039983884786), (264, 0.04527134504974544), (271, 0.019398501388258382), (277, 0.017092652083794534), (280, 0.010318609872490364), (282, 0.04262018295551109), (285, 0.04855067317332852), (292, 0.14655224208577783), (313, 0.09345342757654759), (318, 0.11520252304845932), (319, 0.04415564234415286), (339, 0.014446391911112936), (346, 0.023933039983884786), (352, 0.05050077362038264), (372, 0.01965290090542986), (385, 0.011568456122164767), (402, 0.016042780146660603), (406, 0.00890473723240055), (407, 0.0097682832513981), (412, 0.027693105514443078), (439, 0.03429146888400858), (440, 0.024625400708298294), (463, 0.051623244110239774), (497, 0.06552198324981176), (532, 0.03267552235375245), (537, 0.0234568551438646), (552, 0.013781104309734532), (571, 0.22388286458464798), (577, 0.026335347277643553), (614, 0.048007105983388275), (638, 0.07240692756583386), (680, 0.15083812278235925), (710, 0.05850021242145522), (731, 0.10344579035326203), (754, 0.024225969619790174), (757, 0.03496863180594454), (780, 0.027570179254615947), (793, 0.07653050569090994), (807, 0.5414505146447165), (819, 0.0213968444528853), (823, 0.07073871978848371), (827, 0.020872472060123447), (910, 0.07394447196883662), (918, 0.037085256006269274), (974, 0.04311521464605499), (1048, 0.04049939544009332), (1136, 0.09363872093142203), (1162, 0.03016405511895601), (1170, 0.027631519947691835), (1227, 0.052216669732410056), (1326, 0.07010040764631703), (1334, 0.15232148369620732), (1342, 0.04489040806612984), (1350, 0.04262018295551109), (1352, 0.10287440665202574), (1355, 0.04945446330486989), (1380, 0.05050077362038264), (1385, 0.07453852615317755), (1389, 0.07735123070758626), (1406, 0.129345643938165), (1411, 0.03652825817902608), (1412, 0.061467123118016054), (1419, 0.31590657864015215), (1422, 0.09148699808487758), (1423, 0.12080551755177245), (1425, 0.22764259480331067), (1427, 0.17807460474526401), (1434, 0.1491283906698178), (1442, 0.07735123070758626), (1448, 0.061467123118016054), (1462, 0.17608905185373308), (1474, 0.043977291641185974), (1480, 0.06261039895692487), (1489, 0.09791353938635301), (1624, 0.08623042929210999), (2587, 0.07735123070758626), (2669, 0.05893239300273685), (2726, 0.1290036101692311), (2756, 0.05847184644482983), (2842, 0.08523182137245781), (3396, 0.06518756971515662), (3397, 0.05191710373764459), (3398, 0.08804452592686654), (3399, 0.07010040764631703), (3400, 0.142192107990333), (3401, 0.05847184644482983)]\n"
     ]
    }
   ],
   "source": [
    "print(\"We can pass a topic's frequency vector to calculate the topic's TFIDF vector.\")\n",
    "print(\"For example, here is the TFIDF vector of\", topic_names[id])\n",
    "print(tfidf[freq_vectors[id]])"
   ],
   "metadata": {
    "collapsed": false,
    "pycharm": {
     "name": "#%%\n"
    }
   }
  },
  {
   "cell_type": "code",
   "execution_count": 81,
   "outputs": [
    {
     "name": "stdout",
     "output_type": "stream",
     "text": [
      "We can similarly pass any bag of words from our dictionary and count the TFIDF values for it.\n",
      "For example, lets try: ['notifications', 'template', 'notification', 'use', 'templates', 'file', 'code']\n",
      "Frequency vector: [(49, 1), (50, 1), (86, 1), (111, 1), (128, 1), (589, 1), (590, 1)]\n",
      "TFIDF vector: [(49, 0.4822266231359381), (50, 0.7594217659277688), (86, 0.04714336089537494), (111, 0.09259541587067503), (128, 0.07001546999912177), (589, 0.28468116526805004), (590, 0.30658461468200177)]\n",
      "file\n",
      "5115\n"
     ]
    }
   ],
   "source": [
    "print(\"We can similarly pass any bag of words from our dictionary and count the TFIDF values for it.\")\n",
    "words = [\"notifications\", \"template\", \"notification\", \"use\", \"templates\", \"file\", \"code\"]\n",
    "print(\"For example, lets try:\", words)\n",
    "\n",
    "print(\"Frequency vector:\", dictionary.doc2bow(words))\n",
    "print(\"TFIDF vector:\", tfidf[dictionary.doc2bow(words)])\n",
    "\n",
    "print(dictionary[128])\n",
    "print(frequency[\"use\"])"
   ],
   "metadata": {
    "collapsed": false,
    "pycharm": {
     "name": "#%%\n"
    }
   }
  },
  {
   "cell_type": "code",
   "execution_count": 82,
   "outputs": [
    {
     "name": "stdout",
     "output_type": "stream",
     "text": [
      "Now lets create a search index...\n",
      "Done!\n"
     ]
    }
   ],
   "source": [
    "print(\"Now lets create a search index...\")\n",
    "index = gensim.similarities.SparseMatrixSimilarity(tfidf[freq_vectors], num_features=len(dictionary))\n",
    "print(\"Done!\")"
   ],
   "metadata": {
    "collapsed": false,
    "pycharm": {
     "name": "#%%\n"
    }
   }
  },
  {
   "cell_type": "code",
   "execution_count": 83,
   "outputs": [
    {
     "name": "stdout",
     "output_type": "stream",
     "text": [
      "[1.         0.019305   0.01967547 ... 0.00200838 0.04250559 0.01035289]\n",
      "[0.019305   1.0000002  0.03063431 ... 0.01134181 0.03088375 0.00672705]\n",
      "[0.01967547 0.03063431 1.0000001  ... 0.00540346 0.03195567 0.01674758]\n",
      "[0.00660839 0.01717903 0.01599788 ... 0.00604091 0.02111693 0.0063573 ]\n",
      "[0.01766419 0.01828648 0.03795993 ... 0.0099074  0.06784267 0.2588701 ]\n",
      "[0.00746643 0.0169356  0.01098995 ... 0.06841523 0.02251978 0.02968446]\n",
      "[0.00773716 0.01083436 0.00931545 ... 0.00590314 0.01860577 0.05157303]\n",
      "[0.0499848  0.01648132 0.04019947 ... 0.01179612 0.03844546 0.0135881 ]\n",
      "[0.03873462 0.05766625 0.12147315 ... 0.02255065 0.08779094 0.02183409]\n",
      "[0.01681823 0.03081714 0.05142988 ... 0.00656184 0.05717475 0.00953472]\n",
      "[0.01761781 0.03568901 0.12317863 ... 0.01559065 0.033058   0.0118446 ]\n",
      "[0.00590193 0.0479845  0.0223975  ... 0.0034165  0.03232911 0.00215604]\n",
      "[0.00766483 0.01852947 0.02436591 ... 0.00908439 0.08896468 0.01369652]\n",
      "[0.01268977 0.01815884 0.03373889 ... 0.02974984 0.04212256 0.00627566]\n",
      "[0.01299064 0.02831149 0.063408   ... 0.02309416 0.3053537  0.01041128]\n",
      "[0.00522219 0.00492961 0.01445411 ... 0.01995055 0.03002376 0.02154248]\n",
      "[0.0100856  0.02538426 0.031981   ... 0.00240887 0.06101799 0.01203421]\n",
      "[0.00718677 0.03108867 0.03421781 ... 0.01341274 0.0526409  0.07875869]\n",
      "[0.00308242 0.01441312 0.01476785 ... 0.00024667 0.00368389 0.02358471]\n",
      "[0.15867245 0.01221454 0.10664172 ... 0.00316993 0.00878874 0.00029018]\n",
      "[0.0076786  0.00879545 0.00966903 ... 0.10025465 0.03927097 0.05742081]\n",
      "[0.03455063 0.05032082 0.07489847 ... 0.02581812 0.05068456 0.00748754]\n",
      "[0.00140599 0.01796049 0.01953434 ... 0.00437986 0.01201497 0.00433216]\n",
      "[0.00439848 0.0046848  0.00946153 ... 0.0098473  0.03104912 0.00504367]\n",
      "[0.02623053 0.07617725 0.07896176 ... 0.0402276  0.06739982 0.023204  ]\n",
      "[0.01027173 0.01448208 0.0415705  ... 0.07398161 0.01755289 0.00665804]\n",
      "[0.03468019 0.03114729 0.05234034 ... 0.02178081 0.11698262 0.11220138]\n",
      "[0.00089678 0.01079548 0.00364244 ... 0.00120502 0.01101418 0.00382242]\n",
      "[0.00527373 0.00529077 0.01586331 ... 0.00012159 0.02279165 0.00234002]\n",
      "[0.00558707 0.04714062 0.01278925 ... 0.00975859 0.01233254 0.00196628]\n",
      "[0.01581666 0.04331695 0.02300439 ... 0.0050778  0.02109436 0.01068621]\n",
      "[0.00596644 0.01137925 0.02043903 ... 0.07489416 0.01481093 0.4952048 ]\n",
      "[0.00496042 0.00456774 0.01061997 ... 0.00538895 0.01543884 0.13135685]\n",
      "[0.00257136 0.0024609  0.01146088 ... 0.01842947 0.17068626 0.00329362]\n",
      "[0.00709845 0.00556106 0.13524269 ... 0.01251392 0.04444382 0.00119715]\n",
      "[0.01895874 0.01970854 0.04800101 ... 0.01905289 0.12296441 0.05157754]\n",
      "[0.00420344 0.02113915 0.01698572 ... 0.01136419 0.03521341 0.0111    ]\n",
      "[0.00260919 0.00577694 0.00959867 ... 0.0169051  0.01743096 0.00585608]\n",
      "[0.02061366 0.02167811 0.02056533 ... 0.00638394 0.02031512 0.01226957]\n",
      "[0.01037345 0.03789098 0.02076964 ... 0.05174747 0.02158673 0.0105786 ]\n",
      "[0.026325   0.06296527 0.15266305 ... 0.02472642 0.06592944 0.01647389]\n",
      "[0.00316306 0.00823031 0.01277    ... 0.00415759 0.0137073  0.00950905]\n",
      "[0.00709147 0.0266951  0.02539026 ... 0.00784989 0.0186894  0.00347815]\n",
      "[0.0161414  0.06107258 0.09748488 ... 0.02161715 0.05353608 0.01766887]\n",
      "[0.00986682 0.04596318 0.01953534 ... 0.0108095  0.2678331  0.00563165]\n",
      "[0.01669701 0.01573775 0.0376086  ... 0.01854397 0.03093971 0.02656774]\n",
      "[0.00231361 0.01917967 0.01888032 ... 0.11996696 0.3988317  0.00451404]\n",
      "[0.0030692  0.01202115 0.0158556  ... 0.00040831 0.01157048 0.00475784]\n",
      "[0.02264383 0.04032129 0.04914573 ... 0.03662359 0.06447899 0.03939229]\n",
      "[0.00786732 0.00770943 0.0149464  ... 0.00486041 0.03059988 0.01254856]\n",
      "[0.00424846 0.01910637 0.05230185 ... 0.00915908 0.0051627  0.00087379]\n",
      "[0.00518951 0.00612261 0.03516597 ... 0.00375256 0.24034573 0.01390928]\n",
      "[0.00759409 0.022465   0.03910438 ... 0.00657176 0.01777204 0.00904217]\n",
      "[0.00035887 0.00409317 0.00515125 ... 0.004901   0.00651398 0.00352824]\n",
      "[0.03164771 0.0476969  0.14967743 ... 0.01837382 0.06754983 0.0134673 ]\n",
      "[0.00250562 0.02331808 0.0564569  ... 0.03520684 0.14892516 0.00318412]\n",
      "[0.00958821 0.03024363 0.01380954 ... 0.00449735 0.02327673 0.00990074]\n",
      "[0.00694498 0.05013177 0.02221585 ... 0.01775695 0.05315121 0.0029735 ]\n",
      "[0.00687739 0.02134622 0.00591901 ... 0.         0.01130243 0.0019853 ]\n",
      "[0.00331069 0.02535006 0.2868571  ... 0.00680783 0.02087006 0.00383324]\n",
      "[0.01315998 0.02834251 0.04290779 ... 0.01950394 0.01611525 0.00663689]\n",
      "[0.00307476 0.0096866  0.25274053 ... 0.00577467 0.01485282 0.01292531]\n",
      "[0.00946019 0.01400672 0.02280622 ... 0.00350115 0.01943796 0.00557251]\n",
      "[0.00963295 0.01816855 0.02092954 ... 0.00748253 0.0300745  0.01055644]\n",
      "[2.3234073e-02 8.8836383e-03 1.4075095e-02 ... 1.2383367e-03 1.0231909e-01\n",
      " 3.4966084e-05]\n",
      "[0.00154545 0.03688463 0.03581525 ... 0.00978536 0.02124307 0.01000544]\n",
      "[0.00953081 0.02786971 0.06151427 ... 0.01345828 0.02382883 0.02326451]\n",
      "[0.00914188 0.00867571 0.01394911 ... 0.00746536 0.02598709 0.00232911]\n",
      "[0.00713506 0.00701819 0.03586219 ... 0.07054116 0.05388532 0.14295612]\n",
      "[0.00259691 0.0115462  0.02134681 ... 0.003584   0.0192664  0.01015056]\n",
      "[0.01505597 0.00528726 0.0186267  ... 0.00496421 0.07197432 0.00590382]\n",
      "[0.02451744 0.02301122 0.05172455 ... 0.02074671 0.08250481 0.0060284 ]\n",
      "[0.04134382 0.02316626 0.02373034 ... 0.01403479 0.05907966 0.01315707]\n",
      "[0.01254089 0.0303427  0.03975014 ... 0.01391795 0.04254847 0.00756542]\n",
      "[0.00222959 0.01753874 0.01250717 ... 0.0173435  0.05941954 0.00549866]\n",
      "[0.00798049 0.05012433 0.01857499 ... 0.00637479 0.02102485 0.00585323]\n",
      "[0.00116685 0.04090273 0.04461451 ... 0.01062302 0.01172347 0.0060871 ]\n",
      "[0.00560315 0.01086294 0.01848537 ... 0.0077146  0.01217191 0.00151121]\n",
      "[0.01845555 0.03553013 0.05769009 ... 0.0060709  0.03380357 0.01551473]\n",
      "[0.01953479 0.01084545 0.02051935 ... 0.01255909 0.02011456 0.00419828]\n",
      "[0.02194274 0.03704679 0.01765046 ... 0.01220687 0.03145538 0.01505956]\n",
      "[0.00011996 0.00388641 0.00349886 ... 0.06452727 0.07597358 0.        ]\n",
      "[0.01272306 0.01268563 0.06671728 ... 0.00360736 0.00885609 0.00322216]\n",
      "[0.0143142  0.00347146 0.01532932 ... 0.00230569 0.07157394 0.00305113]\n",
      "[0.05424853 0.10430501 0.03769286 ... 0.01661818 0.06456593 0.00542357]\n",
      "[0.01587577 0.04729462 0.04182605 ... 0.02349945 0.05764407 0.05002271]\n",
      "[0.00788154 0.07094879 0.01466968 ... 0.01074161 0.01337084 0.00639059]\n",
      "[0.0125291  0.04752798 0.06123581 ... 0.01432354 0.04170744 0.02273008]\n",
      "[0.00652626 0.01032496 0.01372902 ... 0.01919659 0.03862875 0.00534091]\n",
      "[0.01833734 0.01737191 0.04255815 ... 0.02918274 0.09147434 0.0736646 ]\n",
      "[0.00167029 0.00414153 0.00346779 ... 0.00149377 0.00853224 0.00394702]\n",
      "[0.00630993 0.00214612 0.02095844 ... 0.00986214 0.0365238  0.0367217 ]\n",
      "[7.0740789e-05 2.5448646e-02 2.4644839e-02 ... 1.5879267e-04 1.2445214e-03\n",
      " 4.7723996e-03]\n",
      "[0.00358452 0.03418143 0.01864794 ... 0.01142883 0.2718465  0.00618536]\n",
      "[0.00994484 0.01502965 0.03835887 ... 0.00801759 0.02650095 0.00241505]\n",
      "[0.00405914 0.01149612 0.02466525 ... 0.0008773  0.02022352 0.00712012]\n",
      "[0.01939144 0.02203833 0.02873216 ... 0.01178431 0.03285218 0.0068522 ]\n",
      "[0.01594623 0.01071727 0.02212194 ... 0.04744081 0.02042587 0.1574873 ]\n",
      "[0.01235985 0.02964802 0.0305521  ... 0.00597721 0.02128248 0.00671982]\n",
      "[0.00870124 0.00899851 0.01544805 ... 0.04276587 0.03588781 0.02437659]\n",
      "[0.01292932 0.03921029 0.09088548 ... 0.02411944 0.03965497 0.0023013 ]\n",
      "[0.00794975 0.02034682 0.03220121 ... 0.01127886 0.03954526 0.08197413]\n",
      "[0.00774796 0.03074341 0.04330747 ... 0.01807473 0.02819564 0.006822  ]\n",
      "[9.828306e-03 7.163377e-03 8.649242e-03 ... 8.704316e-01 2.769250e-01\n",
      " 7.044081e-04]\n",
      "[0.01800411 0.03515077 0.03749749 ... 0.04548207 0.04739205 0.01527721]\n",
      "[0.03137953 0.05026548 0.08441351 ... 0.01900255 0.07841378 0.03224275]\n",
      "[0.00782879 0.0084603  0.01379745 ... 0.00406404 0.05482458 0.00825733]\n",
      "[0.00164061 0.01625122 0.00998853 ... 0.00147968 0.09332257 0.0026807 ]\n",
      "[0.00092072 0.01050652 0.01843635 ... 0.01295946 0.01015079 0.00123565]\n",
      "[0.00253435 0.02146278 0.00669761 ... 0.         0.00285341 0.02005601]\n",
      "[0.00307107 0.020037   0.03708822 ... 0.00510712 0.02119223 0.00524883]\n",
      "[0.00585221 0.04120017 0.04349592 ... 0.00432183 0.02343914 0.00647323]\n",
      "[0.0030205  0.02557989 0.02165442 ... 0.         0.00340077 0.02390327]\n",
      "[0.00968304 0.02550511 0.02782515 ... 0.005206   0.06925058 0.03718697]\n",
      "[0.00379661 0.0022462  0.01140119 ... 0.0239716  0.00985755 0.00085336]\n",
      "[0.00284461 0.01454123 0.0189466  ... 0.0068333  0.01112087 0.01134555]\n",
      "[0.03059944 0.07279975 0.05686799 ... 0.02256788 0.08553457 0.03377074]\n",
      "[0.00348166 0.00311429 0.00573577 ... 0.00702451 0.00337394 0.00868464]\n",
      "[0.02197762 0.06097972 0.01108832 ... 0.08963095 0.03034617 0.01613816]\n",
      "[0.00678674 0.04781482 0.0992085  ... 0.01176415 0.02239637 0.01276696]\n",
      "[0.00030533 0.01742822 0.02367674 ... 0.00383606 0.01814749 0.00544682]\n",
      "[0.00594143 0.03403522 0.03786674 ... 0.03775148 0.02251764 0.03896462]\n",
      "[0.03987318 0.07200508 0.03315747 ... 0.00421149 0.0235722  0.0328541 ]\n",
      "[0.00613482 0.04164029 0.24653855 ... 0.01195713 0.05160027 0.0117725 ]\n",
      "[0.04375068 0.0740543  0.04909663 ... 0.00857408 0.10105573 0.01731266]\n",
      "[0.02721328 0.07383741 0.14792734 ... 0.00819687 0.08711404 0.02705296]\n",
      "[0.00315636 0.01001469 0.01452846 ... 0.01059696 0.01011944 0.00343561]\n",
      "[0.02076232 0.04173183 0.0293805  ... 0.01859644 0.02609923 0.0803254 ]\n",
      "[0.01630752 0.06346684 0.14688677 ... 0.01342546 0.05452119 0.01575002]\n",
      "[0.02177524 0.00427099 0.03553234 ... 0.02637482 0.07644582 0.23921832]\n",
      "[0.00429313 0.01922317 0.01561923 ... 0.00412246 0.01435368 0.00956607]\n",
      "[0.01266023 0.02523389 0.02461269 ... 0.017465   0.02405729 0.04606214]\n",
      "[0.01447256 0.00400185 0.01681918 ... 0.0070228  0.02500429 0.00747399]\n",
      "[0.01210831 0.01506486 0.05448471 ... 0.01262722 0.05443664 0.0179234 ]\n",
      "[0.0194202  0.02938461 0.03332333 ... 0.01102417 0.08221205 0.01091456]\n",
      "[0.0055103  0.02144535 0.03967288 ... 0.01033484 0.01733602 0.00987394]\n",
      "[0.0031146  0.01551606 0.01802284 ... 0.0085126  0.14098702 0.00748301]\n",
      "[0.0088153  0.08620343 0.05288021 ... 0.00705323 0.0104081  0.00143722]\n",
      "[0.0047396  0.0192322  0.01777458 ... 0.01464698 0.0191771  0.00519776]\n",
      "[0.0456791  0.00560431 0.0329579  ... 0.13619336 0.2317875  0.09441429]\n",
      "[0.05300424 0.04736295 0.04722359 ... 0.02208298 0.0800006  0.006921  ]\n",
      "[0.00355006 0.01377844 0.00943399 ... 0.00951462 0.00729976 0.00886758]\n",
      "[0.00502727 0.01323007 0.03540879 ... 0.00315322 0.01988193 0.00434189]\n",
      "[0.0067308  0.00653098 0.01550717 ... 0.01780049 0.02761955 0.01020719]\n",
      "[0.01656376 0.04984745 0.12001949 ... 0.00749981 0.05452673 0.01242996]\n",
      "[0.00471062 0.00512725 0.00609356 ... 0.00548659 0.03492177 0.        ]\n",
      "[0.00616958 0.02460235 0.04388838 ... 0.00968162 0.04604525 0.00312854]\n",
      "[0.00971635 0.02801854 0.02584764 ... 0.01130394 0.04394342 0.00754327]\n",
      "[0.00509289 0.00938739 0.01220855 ... 0.04570252 0.04637979 0.00120223]\n",
      "[0.0215366  0.032246   0.0419749  ... 0.06546089 0.04882981 0.00407259]\n",
      "[0.00146703 0.03432578 0.00655388 ... 0.00696142 0.05985099 0.01780924]\n",
      "[0.01321126 0.01044074 0.03837419 ... 0.00580616 0.03736803 0.01078032]\n",
      "[0.00724892 0.00683071 0.01097455 ... 0.09685634 0.04864616 0.09780775]\n",
      "[0.00446134 0.00888024 0.01910533 ... 0.00941429 0.02618188 0.02018088]\n",
      "[0.03904838 0.05627587 0.06821643 ... 0.01154872 0.0324975  0.00969926]\n",
      "[0.00512202 0.0241082  0.02419913 ... 0.00528471 0.22146669 0.00354947]\n",
      "[0.         0.00727232 0.23992585 ... 0.         0.01972187 0.        ]\n",
      "[0.0267394  0.05479629 0.01476839 ... 0.06003722 0.03338178 0.01656138]\n",
      "[0.00612347 0.02366073 0.11564831 ... 0.01099468 0.01602755 0.01205914]\n",
      "[0.01780553 0.02051759 0.02056563 ... 0.00411374 0.05472152 0.00202361]\n",
      "[0.00873029 0.01676231 0.03690763 ... 0.00434861 0.02988991 0.00698623]\n",
      "[0.01670594 0.00349911 0.00550854 ... 0.35918856 0.2790721  0.00116909]\n",
      "[0.00856592 0.02371906 0.04642573 ... 0.00862636 0.00485458 0.00319316]\n",
      "[0.01686331 0.02831659 0.02858354 ... 0.01471084 0.02415268 0.00706434]\n",
      "[0.02057179 0.03048436 0.04191109 ... 0.06119289 0.05170551 0.00502987]\n",
      "[0.01831002 0.02671162 0.0553025  ... 0.01539033 0.01658491 0.00699446]\n",
      "[0.00909932 0.00394637 0.01796969 ... 0.00404762 0.02309925 0.        ]\n",
      "[0.01353152 0.02955632 0.0709953  ... 0.03062518 0.0658686  0.0034698 ]\n",
      "[0.03116087 0.02082387 0.34073117 ... 0.00608119 0.04773451 0.00321726]\n",
      "[0.0084241  0.03615669 0.03289603 ... 0.00938778 0.01328619 0.0008758 ]\n",
      "[0.02616046 0.01911118 0.02353046 ... 0.0695316  0.3043256  0.00740709]\n",
      "[2.3535252e-02 2.4028951e-02 2.5797147e-02 ... 3.8183560e-03 4.9668610e-02\n",
      " 4.9025672e-05]\n",
      "[0.00859668 0.01738655 0.03670149 ... 0.01533002 0.01282828 0.02122047]\n",
      "[0.00122793 0.01079683 0.02494708 ... 0.00909892 0.01459527 0.00108347]\n",
      "[0.0028605  0.00706781 0.00777967 ... 0.00673251 0.0295443  0.011279  ]\n",
      "[0.01027404 0.01291608 0.01628516 ... 0.06283946 0.03511858 0.11926319]\n",
      "[0.02147646 0.02807791 0.03268486 ... 0.07387097 0.04682191 0.00488707]\n",
      "[0.00322746 0.0232171  0.11435448 ... 0.00407907 0.0210795  0.00183073]\n",
      "[0.00910523 0.02845038 0.02247224 ... 0.01462315 0.02385737 0.00287698]\n",
      "[0.00325336 0.00253141 0.01741462 ... 0.00824476 0.05816029 0.00813624]\n",
      "[0.01731674 0.04815177 0.09034957 ... 0.02130406 0.02235839 0.01995387]\n",
      "[0.03254239 0.01209466 0.03859938 ... 0.00915792 0.02267928 0.01194216]\n",
      "[0.00931153 0.02207379 0.02332513 ... 0.00905395 0.01939682 0.06288218]\n",
      "[0.00498284 0.00626644 0.01073031 ... 0.0203959  0.01382367 0.01912548]\n",
      "[0.01972425 0.0309238  0.06196515 ... 0.0297213  0.04564547 0.00397252]\n",
      "[0.01382575 0.11662352 0.02160649 ... 0.00843442 0.0560119  0.00927792]\n",
      "[0.00990773 0.00764771 0.01004791 ... 0.00698344 0.01576387 0.00264151]\n",
      "[0.00393764 0.01286256 0.00838824 ... 0.01213911 0.01075107 0.0728915 ]\n",
      "[0.00512782 0.02355163 0.01378992 ... 0.01792412 0.01124616 0.02946239]\n",
      "[0.00677286 0.01184756 0.04044798 ... 0.05868284 0.09338699 0.00727798]\n",
      "[0.01010214 0.00827186 0.01307765 ... 0.05835205 0.01320285 0.01617672]\n",
      "[0.00143282 0.01205276 0.00850162 ... 0.00656276 0.0049219  0.00077245]\n",
      "[0.01894458 0.02190373 0.02318252 ... 0.0057116  0.01933832 0.00915438]\n",
      "[0.00962661 0.03091001 0.0186008  ... 0.00965982 0.03536288 0.00591886]\n",
      "[0.01609248 0.07038065 0.07542758 ... 0.01771383 0.05252309 0.02623219]\n",
      "[0.0107691  0.06068935 0.02339759 ... 0.00431068 0.0137316  0.00339644]\n",
      "[0.00740998 0.06532141 0.0276224  ... 0.0079726  0.02328197 0.03137055]\n",
      "[0.00976657 0.01750379 0.02756992 ... 0.01118204 0.01919091 0.00702943]\n",
      "[0.02260817 0.00663406 0.02088298 ... 0.07061988 0.05684536 0.12188935]\n",
      "[0.01172942 0.01856695 0.01853798 ... 0.00367586 0.03002338 0.03748012]\n",
      "[0.00580043 0.01843656 0.11833184 ... 0.01442257 0.03839212 0.01099099]\n",
      "[0.01190137 0.03433536 0.02470387 ... 0.01227554 0.01510777 0.0072317 ]\n",
      "[0.01085561 0.01983112 0.03147695 ... 0.03436345 0.04168406 0.0065216 ]\n",
      "[0.02183067 0.00476189 0.02545217 ... 0.02426272 0.0668602  0.23550102]\n",
      "[0.03021456 0.04730017 0.04026488 ... 0.01512832 0.05276499 0.00905755]\n",
      "[0.00782348 0.01078622 0.01547357 ... 0.03870973 0.22381361 0.01901985]\n",
      "[0.01023341 0.01872513 0.01782246 ... 0.01029588 0.0210511  0.00509323]\n",
      "[0.01088414 0.0170159  0.09710941 ... 0.00738586 0.03510028 0.00052875]\n",
      "[0.00041677 0.00316642 0.00910936 ... 0.         0.02035516 0.        ]\n",
      "[0.03487161 0.05403943 0.14440021 ... 0.03347146 0.09164461 0.01678266]\n",
      "[0.02467144 0.01625452 0.01966833 ... 0.08827416 0.28826576 0.00160477]\n",
      "[0.01963627 0.04624312 0.02303341 ... 0.04193958 0.02366568 0.01505248]\n",
      "[0.00078947 0.00161858 0.01957671 ... 0.01014746 0.00784321 0.00330011]\n",
      "[0.01973498 0.00917092 0.02976525 ... 0.21048483 0.48309556 0.00212075]\n",
      "[0.00333116 0.01067358 0.01130299 ... 0.00502472 0.01251005 0.0008234 ]\n",
      "[0.00270193 0.01947444 0.0406692  ... 0.00758218 0.1748293  0.00545731]\n",
      "[0.00172387 0.01247647 0.0763699  ... 0.01058588 0.01442868 0.00168691]\n",
      "[0.01057161 0.0086507  0.01317887 ... 0.05919541 0.0140425  0.01721778]\n",
      "[0.02407574 0.04241367 0.06327857 ... 0.01751145 0.07449032 0.06380194]\n",
      "[0.03859401 0.05739499 0.11940972 ... 0.03666775 0.09043829 0.02127522]\n",
      "[0.00326268 0.01617305 0.08748871 ... 0.00233084 0.00658172 0.00513391]\n",
      "[0.01352372 0.02572137 0.0260403  ... 0.01709661 0.02204145 0.00503648]\n",
      "[0.01550684 0.03340096 0.04155611 ... 0.12014928 0.0286035  0.00682104]\n",
      "[0.00559031 0.02953287 0.00872364 ... 0.00354678 0.00655104 0.00155541]\n",
      "[0.01165553 0.01038398 0.09516945 ... 0.03738691 0.04133186 0.00821747]\n",
      "[0.01237203 0.02468159 0.05630587 ... 0.00817678 0.02592036 0.00680113]\n",
      "[0.00461475 0.00739559 0.01200031 ... 0.01012862 0.01474777 0.01897931]\n",
      "[0.00704927 0.00088514 0.01814133 ... 0.0079882  0.02674645 0.00088422]\n",
      "[0.001085   0.00656015 0.01213059 ... 0.00309653 0.02820161 0.00712189]\n",
      "[0.00997091 0.03986765 0.40170708 ... 0.00758026 0.02485948 0.01164714]\n",
      "[0.00597373 0.01460312 0.01047045 ... 0.02500956 0.02263995 0.02539881]\n",
      "[0.03436685 0.05181345 0.15558618 ... 0.02039389 0.07261845 0.01648679]\n",
      "[0.00222559 0.01204514 0.04448661 ... 0.01710809 0.12324053 0.1071403 ]\n",
      "[0.00592925 0.00385059 0.00877258 ... 0.04044899 0.01236626 0.00854494]\n",
      "[0.00306063 0.00497808 0.00785038 ... 0.00527175 0.03316352 0.00929552]\n",
      "[0.02144636 0.02514916 0.02410516 ... 0.01779111 0.03755221 0.00486181]\n",
      "[0.00127345 0.0135989  0.0067963  ... 0.00262267 0.00286517 0.00159467]\n",
      "[0.00506359 0.01130262 0.01325058 ... 0.00195935 0.00906973 0.00123524]\n",
      "[0.00482591 0.01975664 0.02145278 ... 0.00302892 0.00610026 0.00347909]\n",
      "[0.01593832 0.05881034 0.10455782 ... 0.02430307 0.0605015  0.0155133 ]\n",
      "[0.03444357 0.02646083 0.02098603 ... 0.0088472  0.06971712 0.01612248]\n",
      "[0.05066006 0.06077905 0.04104523 ... 0.00863664 0.1273445  0.025026  ]\n",
      "[0.01890168 0.02418761 0.03547521 ... 0.00739307 0.0724926  0.00644571]\n",
      "[0.00995468 0.01029458 0.01589904 ... 0.00314865 0.02494862 0.01278799]\n",
      "[0.0148227  0.00326316 0.00967772 ... 0.00246428 0.07958614 0.00922134]\n",
      "[0.00237295 0.02528563 0.3313164  ... 0.00729334 0.01713174 0.00687962]\n",
      "[0.00316398 0.00423628 0.01420825 ... 0.00450276 0.02320282 0.00964459]\n",
      "[0.00670189 0.03788864 0.0427499  ... 0.00691291 0.01615096 0.00426539]\n",
      "[0.00565512 0.02346536 0.24919073 ... 0.00846459 0.0624163  0.0098127 ]\n",
      "[0.00316089 0.01582361 0.00867452 ... 0.00367504 0.00705789 0.00556312]\n",
      "[0.01069305 0.02216807 0.0296609  ... 0.00642874 0.02956986 0.00308464]\n",
      "[8.9192879e-05 1.2981741e-03 4.6343738e-03 ... 8.7813549e-03 2.8462220e-02\n",
      " 6.2976880e-03]\n",
      "[0.00641907 0.03950687 0.24939467 ... 0.00495797 0.02455267 0.01232703]\n",
      "[0.00884858 0.00897296 0.00819805 ... 0.00866289 0.02387349 0.0105767 ]\n",
      "[0.01427151 0.03006039 0.04531606 ... 0.01835879 0.09743997 0.01367074]\n",
      "[0.00702095 0.03960999 0.05995317 ... 0.00924027 0.03931582 0.02404645]\n",
      "[0.02809729 0.06082439 0.06800721 ... 0.03332134 0.06489896 0.0503312 ]\n",
      "[7.9545844e-03 5.1793512e-03 9.2509454e-03 ... 5.4389134e-02 3.3395833e-01\n",
      " 2.6558153e-04]\n",
      "[0.00215698 0.00169982 0.00667304 ... 0.00277258 0.05274434 0.00561908]\n",
      "[0.00329096 0.02255729 0.01283312 ... 0.00966459 0.18732426 0.00389147]\n",
      "[0.00119419 0.00377113 0.00531073 ... 0.00631679 0.00900296 0.01777477]\n",
      "[0.00953685 0.02033285 0.01289439 ... 0.01944165 0.01966391 0.01186692]\n",
      "[0.00607529 0.00500687 0.01222569 ... 0.01538138 0.03068149 0.00600025]\n",
      "[0.01590433 0.02231422 0.01077715 ... 0.00495392 0.04721591 0.00343854]\n",
      "[0.00411975 0.00457545 0.01257767 ... 0.00758914 0.04602193 0.0198425 ]\n",
      "[0.00836238 0.00943435 0.00526449 ... 0.00560492 0.02560657 0.00485127]\n",
      "[0.01264633 0.01808205 0.01992652 ... 0.00907208 0.04073415 0.12032212]\n",
      "[0.00618697 0.03380419 0.07918438 ... 0.01171903 0.129767   0.00563268]\n",
      "[0.01117522 0.00449851 0.01203487 ... 0.00885731 0.01983315 0.00677478]\n",
      "[0.00710328 0.02868803 0.05616747 ... 0.01807009 0.01972506 0.01356045]\n",
      "[0.00876258 0.02703892 0.05008952 ... 0.02480692 0.02447323 0.04799071]\n",
      "[0.00452336 0.01431539 0.01936829 ... 0.0430672  0.16948685 0.00132914]\n",
      "[0.00230545 0.00722259 0.01912726 ... 0.00766311 0.01475538 0.02041599]\n",
      "[0.00563961 0.02011813 0.07869018 ... 0.00783113 0.01232624 0.00725335]\n",
      "[0.01559291 0.01365808 0.01821876 ... 0.00988122 0.28964528 0.00608006]\n",
      "[0.         0.         0.         ... 0.         0.00274852 0.        ]\n",
      "[0.02478897 0.08940218 0.01769801 ... 0.00444131 0.0288691  0.00686097]\n",
      "[0.03607452 0.06011473 0.11754473 ... 0.03485194 0.09030652 0.02103014]\n",
      "[0.0037012  0.01491528 0.01404924 ... 0.03518165 0.00998315 0.00585809]\n",
      "[0.01787781 0.01092496 0.02238207 ... 0.00510182 0.03034553 0.00468353]\n",
      "[9.3580529e-05 4.2937128e-03 1.2623417e-02 ... 2.1006131e-04 3.0740227e-03\n",
      " 6.3132420e-03]\n",
      "[0.04000841 0.0621936  0.13908866 ... 0.03068956 0.0889083  0.01627586]\n",
      "[0.01225754 0.00716061 0.02298005 ... 0.0202142  0.12958707 0.04111929]\n",
      "[0.009937   0.02395857 0.0571543  ... 0.04472035 0.05129754 0.00362159]\n",
      "[0.00024472 0.02112507 0.01983553 ... 0.00038567 0.00460641 0.00067248]\n",
      "[0.0020392  0.0260059  0.02042397 ... 0.01099678 0.01777675 0.00681045]\n",
      "[0.00860073 0.0257015  0.04436822 ... 0.00789606 0.02604775 0.0041526 ]\n",
      "[0.00158694 0.02590833 0.03368882 ... 0.01108999 0.02344145 0.00198042]\n",
      "[0.00993514 0.01122381 0.02903434 ... 0.00584359 0.01024367 0.00122443]\n",
      "[0.00747441 0.0099356  0.01006138 ... 0.00600018 0.02242736 0.01943791]\n",
      "[0.00971811 0.02422857 0.02015487 ... 0.06515121 0.499147   0.00712177]\n",
      "[0.01223768 0.01114953 0.03673103 ... 0.01291181 0.02310434 0.04496182]\n",
      "[0.01057695 0.01756836 0.03933242 ... 0.01395595 0.04747232 0.03751286]\n",
      "[0.00794864 0.02212024 0.06853975 ... 0.01856647 0.04892396 0.0281954 ]\n",
      "[0.01006847 0.02871476 0.38887882 ... 0.0065155  0.06459314 0.00240755]\n",
      "[0.00815801 0.01112368 0.01651508 ... 0.00115959 0.02955109 0.00511666]\n",
      "[0.00639065 0.01290196 0.01906087 ... 0.01121145 0.0210346  0.01299286]\n",
      "[0.00053691 0.00497633 0.02514291 ... 0.03128893 0.01283541 0.02965671]\n",
      "[0.01734676 0.05768659 0.10632148 ... 0.01444292 0.06444959 0.01286199]\n",
      "[0.0243434  0.03737463 0.05372427 ... 0.01184316 0.33443803 0.01854301]\n",
      "[0.0070047  0.02580648 0.05327517 ... 0.01250492 0.21213758 0.00499745]\n",
      "[0.01805649 0.03543426 0.09511603 ... 0.01341063 0.04621998 0.02159548]\n",
      "[0.0107355  0.02663318 0.18973126 ... 0.00666178 0.01560805 0.00929877]\n",
      "[0.00390895 0.03727518 0.02033576 ... 0.01246325 0.2964512  0.0067452 ]\n",
      "[0.0143991  0.03415858 0.05196752 ... 0.00646201 0.02336324 0.01000637]\n",
      "[0.00936896 0.02348813 0.03395823 ... 0.00744393 0.02663251 0.00703382]\n",
      "[0.00905833 0.02691772 0.03225461 ... 0.01047809 0.03961865 0.01174014]\n",
      "[0.01213541 0.0305444  0.19923948 ... 0.00947716 0.02318303 0.00589817]\n",
      "[0.01604302 0.03291437 0.03281867 ... 0.0086532  0.0712615  0.01955434]\n",
      "[0.00645257 0.02453132 0.04193135 ... 0.00311806 0.03113167 0.01600879]\n",
      "[0.0322047  0.00859381 0.01852747 ... 0.01772166 0.03753157 0.00370258]\n",
      "[0.00268236 0.06930767 0.00762697 ... 0.00922057 0.06072357 0.01024723]\n",
      "[0.0005561  0.0184624  0.01499504 ... 0.02773642 0.00516115 0.00520965]\n",
      "[0.00147078 0.00118605 0.0043825  ... 0.0010322  0.00634882 0.00347422]\n",
      "[0.01733719 0.07699911 0.10348641 ... 0.02329618 0.05771248 0.01598339]\n",
      "[0.00466579 0.02865483 0.06403523 ... 0.00429907 0.01414904 0.00295822]\n",
      "[4.4980850e-03 5.7491724e-04 4.9696392e-03 ... 9.4018171e-05 2.1138126e-02\n",
      " 4.9855036e-04]\n",
      "[0.00223728 0.01269351 0.05350896 ... 0.00375286 0.05455704 0.06141449]\n",
      "[0.01582921 0.02172777 0.04666816 ... 0.0147548  0.00965554 0.00578478]\n",
      "[0.02433006 0.03024455 0.04014351 ... 0.02804616 0.1682278  0.01973117]\n",
      "[0.00432912 0.01990433 0.02296112 ... 0.06952067 0.0296308  0.01141943]\n",
      "[0.01138362 0.02210266 0.03460991 ... 0.04023514 0.04592022 0.03481746]\n",
      "[0.03155094 0.02000688 0.03435511 ... 0.01517194 0.40753368 0.00940343]\n",
      "[0.00623002 0.0093395  0.0086681  ... 0.00860119 0.01304039 0.07415742]\n",
      "[0.00606918 0.02686187 0.01858494 ... 0.0100168  0.01135802 0.00701772]\n",
      "[0.02270542 0.03677754 0.04823618 ... 0.01600881 0.0643927  0.00404204]\n",
      "[0.00573621 0.01837009 0.22434926 ... 0.00262414 0.06885222 0.02855873]\n",
      "[0.01472697 0.04459441 0.22195067 ... 0.0062916  0.10323717 0.00988144]\n",
      "[0.00775459 0.00719052 0.02305377 ... 0.0280582  0.05943149 0.09468978]\n",
      "[0.00055265 0.00233962 0.00731065 ... 0.0017748  0.01063715 0.00111601]\n",
      "[0.00435776 0.02230276 0.04603175 ... 0.00674819 0.02865402 0.01440805]\n",
      "[0.01866659 0.01850534 0.03785238 ... 0.03390941 0.04103778 0.00338278]\n",
      "[0.01726671 0.15643233 0.03406508 ... 0.02083968 0.0343461  0.00814919]\n",
      "[0.01901374 0.02142216 0.11939152 ... 0.01085239 0.05235058 0.02169985]\n",
      "[0.01163152 0.03795989 0.0235641  ... 0.04437625 0.22382726 0.00829417]\n",
      "[0.02603021 0.05210473 0.24806172 ... 0.01648957 0.07163191 0.01291039]\n",
      "[0.00805784 0.02591103 0.00960957 ... 0.06193046 0.02527298 0.01504385]\n",
      "[0.00251056 0.02126131 0.00663474 ... 0.         0.00282663 0.01986774]\n",
      "[0.01459461 0.01171535 0.01200739 ... 0.01230913 0.0225251  0.00707382]\n",
      "[0.02231223 0.0146339  0.02023961 ... 0.01735673 0.42300862 0.01936245]\n",
      "[0.03818512 0.05523895 0.09740928 ... 0.01851724 0.0829592  0.0246804 ]\n",
      "[0.01344849 0.02559101 0.03174711 ... 0.00495055 0.01416202 0.00035848]\n",
      "[0.0044191  0.00116854 0.01080975 ... 0.02237293 0.0725529  0.01807773]\n",
      "[0.00718649 0.01855376 0.03144766 ... 0.00936897 0.00584604 0.00352967]\n",
      "[0.00933183 0.01393681 0.0130023  ... 0.04803871 0.03504938 0.11532278]\n",
      "[0.0124575  0.01254791 0.05146192 ... 0.00653794 0.03365921 0.03442508]\n",
      "[0.01250385 0.00717632 0.04197399 ... 0.00819065 0.04374805 0.00867514]\n",
      "[0.02490893 0.03559064 0.04707089 ... 0.01250091 0.05120442 0.02276812]\n",
      "[0.0052737  0.00732557 0.00414702 ... 0.12871446 0.0198144  0.01516893]\n",
      "[0.0209748  0.08849122 0.01763883 ... 0.00309277 0.04993957 0.0201063 ]\n",
      "[0.00420411 0.00341056 0.0122722  ... 0.00660866 0.01715596 0.05300135]\n",
      "[0.01076511 0.04537398 0.04374171 ... 0.01519934 0.00989183 0.01181381]\n",
      "[0.06374568 0.01822578 0.02312884 ... 0.03978006 0.03457137 0.04927076]\n",
      "[0.02001205 0.01166355 0.02716213 ... 0.00772872 0.11670309 0.01606182]\n",
      "[0.03190149 0.04887415 0.15173143 ... 0.01892845 0.07063232 0.0145382 ]\n",
      "[0.00900845 0.01791428 0.02407707 ... 0.00784153 0.14005369 0.0186659 ]\n",
      "[0.004061   0.02721983 0.00671269 ... 0.00986961 0.3253835  0.00502688]\n",
      "[0.00981895 0.01565598 0.02991786 ... 0.02582453 0.0285248  0.00586585]\n",
      "[0.00010705 0.00624267 0.00580709 ... 0.00462584 0.03628367 0.00851927]\n",
      "[0.01765126 0.01463004 0.01979561 ... 0.04306243 0.33934525 0.00443411]\n",
      "[0.04512609 0.104306   0.02568148 ... 0.01197993 0.02496913 0.01851461]\n",
      "[0.00703085 0.04190915 0.05893378 ... 0.01273072 0.07625646 0.04955135]\n",
      "[0.00605975 0.02415073 0.01031106 ... 0.0234582  0.02423339 0.00038817]\n",
      "[0.00537892 0.02976468 0.02888909 ... 0.00609153 0.0105699  0.01249613]\n",
      "[0.02220715 0.07234594 0.03965153 ... 0.01482993 0.06752579 0.01012077]\n",
      "[0.0079861  0.00764194 0.01451018 ... 0.01604698 0.02515255 0.00991695]\n",
      "[0.00411585 0.02234166 0.13671526 ... 0.0152372  0.01685848 0.00338773]\n",
      "[0.00751689 0.040295   0.02291923 ... 0.00543285 0.03208755 0.00982946]\n",
      "[0.00689853 0.02166831 0.02727679 ... 0.01964386 0.0426809  0.0773175 ]\n",
      "[0.00606111 0.02194902 0.03446494 ... 0.00347481 0.0645902  0.0093964 ]\n",
      "[0.01926179 0.03954298 0.03853869 ... 0.06835905 0.07032733 0.05352152]\n",
      "[0.00768768 0.02609829 0.02916361 ... 0.00393712 0.01040945 0.01678296]\n",
      "[0.00323554 0.02755304 0.01055889 ... 0.00228627 0.054818   0.00128673]\n",
      "[0.0079748  0.03631638 0.25675645 ... 0.00874652 0.02470329 0.01336449]\n",
      "[0.01324586 0.04572846 0.2789822  ... 0.00747983 0.02814469 0.0059419 ]\n",
      "[0.01634178 0.06816613 0.24720071 ... 0.01677564 0.06103676 0.01592226]\n",
      "[0.01147834 0.03102624 0.03079111 ... 0.04891246 0.03116316 0.03980328]\n",
      "[0.0158245  0.01077826 0.07798292 ... 0.00338786 0.02450877 0.00135121]\n",
      "[0.01299363 0.03576999 0.0690768  ... 0.00882875 0.02517446 0.00843021]\n",
      "[0.01051719 0.0551264  0.06904251 ... 0.00983117 0.0195486  0.00946003]\n",
      "[0.00460889 0.01403716 0.0088301  ... 0.01801813 0.26821277 0.00153749]\n",
      "[0.02856529 0.01425623 0.04165474 ... 0.00999733 0.0998902  0.00890913]\n",
      "[0.02042326 0.04778873 0.04523166 ... 0.02202695 0.06538361 0.02543233]\n",
      "[0.00324992 0.02195224 0.13503818 ... 0.02254935 0.03717765 0.02098456]\n",
      "[0.00349538 0.01517112 0.01562307 ... 0.00782819 0.02317639 0.00902431]\n",
      "[7.4965676e-05 3.4396159e-03 5.4342791e-02 ... 1.6827632e-04 1.3188485e-03\n",
      " 5.0574243e-03]\n",
      "[0.01089122 0.01541369 0.02349559 ... 0.0125727  0.01527083 0.02642402]\n",
      "[0.02889215 0.01371967 0.02672505 ... 0.00085988 0.07161009 0.00840086]\n",
      "[0.00562705 0.02007151 0.0293284  ... 0.0279586  0.01635741 0.00323669]\n",
      "[0.00503572 0.01653825 0.00882433 ... 0.01326059 0.01418754 0.00440889]\n",
      "[0.00546511 0.01693438 0.02821362 ... 0.00979271 0.01086394 0.00629013]\n",
      "[0.01300344 0.01531857 0.03441573 ... 0.08219879 0.02125775 0.00467698]\n",
      "[0.02845486 0.05058142 0.08150978 ... 0.04551489 0.08089196 0.03927904]\n",
      "[0.00475857 0.10957216 0.02286847 ... 0.00618583 0.02798023 0.00883847]\n",
      "[0.00445685 0.0175156  0.02053941 ... 0.01408922 0.00872705 0.00820183]\n",
      "[0.00309895 0.02880659 0.01646434 ... 0.00971565 0.22970031 0.00523668]\n",
      "[0.00842723 0.03041941 0.0266228  ... 0.0125374  0.02109354 0.02076097]\n",
      "[0.22245987 0.00973463 0.00538016 ... 0.01296024 0.00866901 0.00623822]\n",
      "[0.09270764 0.03600546 0.03945134 ... 0.00721795 0.03166292 0.00158097]\n",
      "[0.00453621 0.01903395 0.12094533 ... 0.00227961 0.05683056 0.00463804]\n",
      "[0.0147419  0.03217489 0.04007541 ... 0.0215242  0.03812601 0.04326566]\n",
      "[0.01020765 0.10811215 0.01701157 ... 0.00267072 0.03267185 0.04108528]\n",
      "[0.00834105 0.00364678 0.00426509 ... 0.02452379 0.07344582 0.01547262]\n",
      "[0.00539222 0.00805377 0.04182325 ... 0.00061118 0.01862771 0.00617985]\n",
      "[0.00299616 0.0144359  0.01334273 ... 0.02393681 0.0174573  0.00561474]\n",
      "[0.00835473 0.00980751 0.02824583 ... 0.03022968 0.06482166 0.10201796]\n",
      "[0.04108442 0.07377962 0.16763929 ... 0.01368244 0.05324253 0.01616737]\n",
      "[0.00997621 0.02988606 0.09249996 ... 0.02463866 0.08234552 0.03223924]\n",
      "[0.00494858 0.02704343 0.04606409 ... 0.0045758  0.04810655 0.01262818]\n",
      "[0.01094715 0.02814632 0.03613529 ... 0.01262134 0.07358357 0.01661438]\n",
      "[0.00233459 0.00435705 0.08793394 ... 0.00356214 0.01152316 0.00490421]\n",
      "[0.02037153 0.0582833  0.12322062 ... 0.02030632 0.06669968 0.03479385]\n",
      "[0.03035881 0.00717953 0.01791121 ... 0.1454546  0.37215742 0.00845965]\n",
      "[0.02715018 0.03905838 0.03544958 ... 0.01405472 0.02999092 0.02642861]\n",
      "[0.00516676 0.02132897 0.01666443 ... 0.01145278 0.10716708 0.01369532]\n",
      "[0.05503204 0.01664696 0.03082131 ... 0.00900756 0.08655584 0.00837447]\n",
      "[0.00172649 0.00052515 0.01343049 ... 0.00761325 0.00984295 0.00058546]\n",
      "[0.00770551 0.04159281 0.06367862 ... 0.00812722 0.02944832 0.00705961]\n",
      "[0.00959062 0.01687472 0.09879301 ... 0.16122474 0.02260367 0.01406897]\n",
      "[0.01242783 0.03929064 0.23789692 ... 0.01344369 0.04851948 0.01006884]\n",
      "[0.00653757 0.01221578 0.01097429 ... 0.01900545 0.00519443 0.00378073]\n",
      "[0.00713489 0.04028837 0.01678478 ... 0.04859899 0.01780134 0.01451101]\n",
      "[0.01444809 0.01992051 0.10343829 ... 0.05198858 0.05192396 0.00455936]\n",
      "[0.00765239 0.00592072 0.01427095 ... 0.0058252  0.00897968 0.04451055]\n",
      "[0.03140127 0.06211309 0.23149046 ... 0.01973958 0.07186815 0.01430229]\n",
      "[0.02946333 0.00539134 0.01119587 ... 0.00444353 0.03257038 0.0195378 ]\n",
      "[0.01519862 0.04752514 0.10505898 ... 0.00969009 0.05636363 0.01169381]\n",
      "[0.01155453 0.07709734 0.02635643 ... 0.00716336 0.01387635 0.02116697]\n",
      "[0.01915559 0.02632253 0.0438458  ... 0.05755248 0.03941825 0.01619039]\n",
      "[0.00364378 0.01990902 0.03619004 ... 0.00960366 0.08148912 0.0022114 ]\n",
      "[0.02665052 0.03175006 0.03598591 ... 0.0038771  0.02506268 0.02403944]\n",
      "[0.02335833 0.05558268 0.0414097  ... 0.02072714 0.03789846 0.01474133]\n",
      "[0.00145179 0.00393211 0.00531472 ... 0.02865994 0.00909638 0.04180557]\n",
      "[0.00879036 0.02541539 0.09470763 ... 0.0078698  0.01937549 0.00714355]\n",
      "[0.00456139 0.01683764 0.01080641 ... 0.01231219 0.01487692 0.01003419]\n",
      "[0.00618616 0.01983983 0.01532566 ... 0.05757625 0.02021979 0.06764923]\n",
      "[0.01554297 0.02502557 0.06126356 ... 0.01401541 0.02205711 0.00479542]\n",
      "[0.00415319 0.01858774 0.04774985 ... 0.0072683  0.14136054 0.01797211]\n",
      "[0.01030847 0.02903419 0.12179127 ... 0.00362306 0.02511009 0.0060786 ]\n",
      "[0.00462159 0.01167785 0.01339376 ... 0.00207211 0.00897424 0.00188158]\n",
      "[0.02380284 0.04047399 0.05274986 ... 0.00294557 0.05553706 0.0014337 ]\n",
      "[0.00160214 0.01082909 0.00831584 ... 0.14006492 0.31640747 0.00345113]\n",
      "[0.0103037  0.0084369  0.04355127 ... 0.05951631 0.01346628 0.01649948]\n",
      "[0.01140932 0.02318308 0.02191098 ... 0.0047176  0.06518485 0.00933857]\n",
      "[0.01203926 0.01096876 0.03613548 ... 0.01270247 0.02356265 0.04423283]\n",
      "[0.01056248 0.00632071 0.00620614 ... 0.01253947 0.02886733 0.00509805]\n",
      "[0.01054352 0.0089055  0.01892143 ... 0.00413871 0.06669542 0.02320244]\n",
      "[0.02659563 0.03949214 0.04594414 ... 0.05556187 0.07235226 0.00831623]\n",
      "[0.00854566 0.0268453  0.02254281 ... 0.01197229 0.02921438 0.01623391]\n",
      "[0.00745496 0.00155945 0.00465673 ... 0.00589848 0.04820367 0.00042591]\n",
      "[0.0288395  0.04216462 0.02823192 ... 0.00829418 0.07629634 0.16744879]\n",
      "[0.00403882 0.01617584 0.17230585 ... 0.00643288 0.01021265 0.00612672]\n",
      "[0.00648867 0.01913987 0.03498026 ... 0.00339415 0.01072218 0.01600431]\n",
      "[0.18865837 0.01575136 0.03641925 ... 0.00802299 0.0634962  0.01689306]\n",
      "[0.00878526 0.01548924 0.01050938 ... 0.00385134 0.00846803 0.02087684]\n",
      "[0.03192995 0.06069195 0.21865438 ... 0.01870146 0.07217646 0.01471347]\n",
      "[0.01021164 0.03190764 0.02248719 ... 0.01167651 0.02889572 0.04770119]\n",
      "[5.5121414e-05 2.0471450e-03 1.4699487e-03 ... 1.1819364e-03 4.7593340e-03\n",
      " 1.0102837e-04]\n",
      "[0.00636407 0.01706841 0.04348522 ... 0.00494569 0.00874396 0.00278336]\n",
      "[0.00666462 0.03416117 0.0180062  ... 0.01147818 0.2625799  0.00641942]\n",
      "[0.02729785 0.08897803 0.03635406 ... 0.0149911  0.02212767 0.00737382]\n",
      "[0.02654151 0.05854582 0.0662021  ... 0.00580205 0.13641447 0.0088821 ]\n",
      "[0.01089429 0.03641949 0.07942021 ... 0.03766348 0.05752167 0.00511312]\n",
      "[0.02294231 0.00384629 0.02094446 ... 0.02295456 0.06508835 0.19130911]\n",
      "[0.00206349 0.00192278 0.00205614 ... 0.00048089 0.01019936 0.05760498]\n",
      "[0.00954949 0.00748086 0.02032586 ... 0.04655241 0.02203561 0.18061176]\n",
      "[0.03448358 0.0523957  0.05885384 ... 0.0183808  0.06156182 0.01805358]\n",
      "[0.00853265 0.02433189 0.02603618 ... 0.02862653 0.06495908 0.09663669]\n",
      "[0.01075706 0.04496218 0.3116122  ... 0.01432224 0.04516584 0.0174712 ]\n",
      "[0.00627975 0.01841912 0.1452261  ... 0.00333788 0.01454453 0.01135789]\n",
      "[0.01045748 0.01157318 0.01215931 ... 0.00594904 0.01273569 0.00467354]\n",
      "[0.00370337 0.00985675 0.05210048 ... 0.00309487 0.04272529 0.00348351]\n",
      "[0.00579815 0.02478746 0.08998889 ... 0.00807184 0.0177728  0.00883192]\n",
      "[0.00288688 0.00901484 0.02980935 ... 0.00823061 0.01936226 0.01732005]\n",
      "[0.00129201 0.02135682 0.01865526 ... 0.00911154 0.05489124 0.00531066]\n",
      "[0.00230032 0.01175765 0.00932593 ... 0.00099084 0.00274562 0.00114861]\n",
      "[0.01818595 0.01399045 0.0253826  ... 0.02518344 0.0720956  0.02423669]\n",
      "[0.00705461 0.01813191 0.01319015 ... 0.00346338 0.03966266 0.00391118]\n",
      "[0.00248244 0.00255823 0.00471512 ... 0.00537559 0.10589516 0.00255124]\n",
      "[0.00866542 0.03258951 0.06594079 ... 0.00860139 0.05291733 0.04366145]\n",
      "[0.01724726 0.07109636 0.06146815 ... 0.03600407 0.04053519 0.03239285]\n",
      "[0.01753593 0.04935707 0.06364407 ... 0.01289092 0.04962463 0.00733296]\n",
      "[0.00477267 0.00486094 0.03553453 ... 0.00369004 0.01532084 0.0164066 ]\n",
      "[0.00267055 0.05248666 0.2532467  ... 0.00219255 0.02663719 0.00490862]\n",
      "[0.00335637 0.01184034 0.01064708 ... 0.04645961 0.02035836 0.00440506]\n",
      "[0.00387436 0.02708848 0.02065676 ... 0.0062968  0.01224319 0.04792884]\n",
      "[0.01034253 0.01839863 0.1097872  ... 0.02195522 0.02379682 0.01086955]\n",
      "[0.00449125 0.00255059 0.02300411 ... 0.00357708 0.02452657 0.00292502]\n",
      "[0.02097953 0.07649821 0.03706257 ... 0.00786014 0.03633605 0.01508273]\n",
      "[0.00302076 0.00763417 0.00890886 ... 0.00653157 0.01799786 0.00397697]\n",
      "[0.02415613 0.06075672 0.05275139 ... 0.01408501 0.04942652 0.00613895]\n",
      "[0.0126604  0.0583108  0.04181791 ... 0.00816211 0.02668153 0.01009337]\n",
      "[2.3313886e-03 7.8102066e-03 9.6192490e-03 ... 6.9689471e-03 3.3053298e-02\n",
      " 9.4336217e-05]\n",
      "[0.00560272 0.02248307 0.05001386 ... 0.00898321 0.01579154 0.00646516]\n",
      "[0.0050997  0.02062606 0.03152426 ... 0.10325019 0.06810576 0.00720141]\n",
      "[0.0054306  0.03412741 0.04554138 ... 0.0027291  0.02151109 0.00672286]\n",
      "[0.00649494 0.00783681 0.00607247 ... 0.06047485 0.0375711  0.00158676]\n",
      "[0.00407512 0.00965951 0.03095927 ... 0.01678548 0.07888854 0.09130717]\n",
      "[0.01101292 0.02890552 0.03442593 ... 0.02004349 0.02091041 0.00316532]\n",
      "[0.01080113 0.0204609  0.03716609 ... 0.01174408 0.10608921 0.00318106]\n",
      "[0.00303368 0.01508929 0.02882292 ... 0.00309332 0.02519652 0.02548027]\n",
      "[0.01097438 0.03077818 0.0352232  ... 0.01532267 0.03736351 0.00991844]\n",
      "[0.007901   0.00732628 0.02348904 ... 0.02858797 0.06287581 0.09647758]\n",
      "[0.00735383 0.01186669 0.01319777 ... 0.0182439  0.40704674 0.00679705]\n",
      "[0.00880411 0.03391969 0.01842609 ... 0.12329993 0.03813739 0.00718093]\n",
      "[0.00896972 0.0379622  0.02160313 ... 0.01459995 0.01806686 0.00655767]\n",
      "[0.00456885 0.01078834 0.13748679 ... 0.00147746 0.02855157 0.02189926]\n",
      "[0.00044314 0.00524581 0.10783833 ... 0.01965647 0.02606799 0.00389374]\n",
      "[0.01600234 0.00554726 0.00767737 ... 0.00040167 0.02599422 0.01190498]\n",
      "[0.01157501 0.00843676 0.03791977 ... 0.00906967 0.02653687 0.00242113]\n",
      "[0.00404586 0.00408314 0.01268565 ... 0.05588338 0.02050718 0.13278326]\n",
      "[0.03523796 0.02780722 0.03272309 ... 0.00987698 0.09826656 0.00450638]\n",
      "[0.04022582 0.07740244 0.08954924 ... 0.00908819 0.01553511 0.00316787]\n",
      "[0.01998404 0.01791562 0.03537854 ... 0.06422085 0.0368747  0.005889  ]\n",
      "[0.0106742  0.0083979  0.01666172 ... 0.07998354 0.04560809 0.03494464]\n",
      "[0.00597538 0.00996921 0.01169209 ... 0.0135555  0.01535628 0.03485592]\n",
      "[0.00979098 0.04706765 0.19670969 ... 0.01042705 0.02203941 0.00154954]\n",
      "[0.01897937 0.03221309 0.06287663 ... 0.00605345 0.02877661 0.00653236]\n",
      "[0.00477651 0.05180902 0.0212545  ... 0.03414773 0.01186589 0.00256224]\n",
      "[0.02518256 0.05949315 0.09958352 ... 0.03383029 0.05392128 0.01766692]\n",
      "[0.02000596 0.01004083 0.01367038 ... 0.3859915  0.36901188 0.03959228]\n",
      "[0.00462085 0.012919   0.0308863  ... 0.00117897 0.00721325 0.00294747]\n",
      "[0.0116928  0.04911311 0.03990822 ... 0.00707771 0.03586827 0.01668664]\n",
      "[0.06236496 0.02160262 0.03108831 ... 0.03322248 0.08606475 0.00779883]\n",
      "[0.02510561 0.03023734 0.03273359 ... 0.02336208 0.04903061 0.04251019]\n",
      "[0.0354185  0.05323872 0.1884812  ... 0.01825562 0.08035903 0.01664499]\n",
      "[0.02128332 0.02022354 0.03674009 ... 0.016379   0.05459438 0.00390416]\n",
      "[0.14459816 0.02595954 0.06700661 ... 0.00959972 0.05168712 0.01917384]\n",
      "[0.00192075 0.01748372 0.02948447 ... 0.01550774 0.13399906 0.08263507]\n",
      "[0.00325078 0.03538927 0.02126209 ... 0.00273872 0.0245842  0.00626007]\n",
      "[0.01389206 0.01884908 0.03814445 ... 0.07337036 0.03462163 0.02783722]\n",
      "[0.01064952 0.1010614  0.04168972 ... 0.00675237 0.03116471 0.01564786]\n",
      "[0.0012963  0.0047779  0.00407055 ... 0.00080395 0.00400926 0.00208038]\n",
      "[0.01945035 0.06699777 0.03620573 ... 0.01611402 0.03706194 0.0184809 ]\n",
      "[0.0200737  0.01903707 0.04871345 ... 0.01522154 0.08622283 0.00340417]\n",
      "[0.0111338  0.02588229 0.025511   ... 0.00661391 0.02732904 0.00323071]\n",
      "[0.00377674 0.01246314 0.04519696 ... 0.02883709 0.07536856 0.01567579]\n",
      "[0.02297668 0.00999334 0.01943601 ... 0.01870836 0.07677315 0.07084403]\n",
      "[0.02050438 0.05486619 0.09654141 ... 0.01771992 0.05817733 0.02477068]\n",
      "[0.01820976 0.10852292 0.04955886 ... 0.00633575 0.08310649 0.01761642]\n",
      "[0.00571991 0.00501921 0.00847385 ... 0.00378646 0.02191063 0.00867401]\n",
      "[0.01825475 0.01724417 0.0127633  ... 0.00929688 0.0551547  0.0013841 ]\n",
      "[0.01758485 0.01926168 0.03554749 ... 0.05339047 0.04855708 0.00628556]\n",
      "[0.02081959 0.02339563 0.02837922 ... 0.00941735 0.0796742  0.00455699]\n",
      "[0.0147993  0.02836571 0.04642906 ... 0.01484931 0.02432661 0.0029709 ]\n",
      "[2.7399018e-04 2.0799026e-02 2.2711287e-01 ... 1.4399938e-04 5.8498532e-03\n",
      " 3.9369348e-03]\n",
      "[0.01031161 0.01137533 0.02181113 ... 0.00818288 0.01723322 0.06526256]\n",
      "[0.00331504 0.01711229 0.01617087 ... 0.0208529  0.02085756 0.00853052]\n",
      "[0.01104654 0.01039911 0.01728134 ... 0.13746011 0.16666724 0.01450742]\n",
      "[0.00332196 0.01384591 0.02886421 ... 0.0061206  0.02246306 0.01227844]\n",
      "[0.0100371  0.01196832 0.02428061 ... 0.00687389 0.02948949 0.06021698]\n",
      "[0.00729632 0.05821718 0.01729793 ... 0.00643339 0.03463157 0.0062944 ]\n",
      "[0.03172944 0.04923331 0.15978114 ... 0.01880701 0.06924588 0.01376508]\n",
      "[3.6700449e-03 1.4134870e-02 1.1774396e-02 ... 1.9352846e-01 3.5185045e-01\n",
      " 2.7666803e-04]\n",
      "[0.00817546 0.02625831 0.03464534 ... 0.00851866 0.03210045 0.01193865]\n",
      "[0.00755296 0.01933333 0.02941995 ... 0.02034769 0.01280133 0.00442853]\n",
      "[0.03533646 0.04220401 0.02227402 ... 0.01997067 0.05929349 0.00999251]\n",
      "[8.0155476e-04 1.2053182e-02 1.0975118e-01 ... 2.1003098e-03 1.6354596e-02\n",
      " 9.0743859e-05]\n",
      "[0.02014596 0.04431659 0.03768799 ... 0.00802169 0.04340303 0.00865523]\n",
      "[0.03086829 0.00857725 0.04036262 ... 0.02278645 0.09917862 0.2711495 ]\n",
      "[0.01584459 0.03610874 0.02024097 ... 0.003546   0.01846475 0.00890742]\n",
      "[0.01419608 0.0084825  0.01998702 ... 0.0138766  0.11146516 0.01347288]\n",
      "[0.00384101 0.03662728 0.01998229 ... 0.01224662 0.29129848 0.00662796]\n",
      "[0.00562635 0.00772581 0.01111719 ... 0.01104034 0.0206901  0.00683249]\n",
      "[6.9565162e-05 3.5079892e-03 2.5099833e-02 ... 7.1704562e-04 1.4117247e-02\n",
      " 2.5500273e-04]\n",
      "[0.01555637 0.06755562 0.02917914 ... 0.03252587 0.03081785 0.01115604]\n",
      "[0.00886823 0.0236075  0.04536268 ... 0.0073106  0.02223632 0.00888843]\n",
      "[0.01662704 0.06901412 0.01875329 ... 0.01590097 0.5823181  0.02484601]\n",
      "[0.00273069 0.02312562 0.00663454 ... 0.         0.00307448 0.02160986]\n",
      "[0.02159019 0.02711641 0.02504034 ... 0.00781845 0.01478086 0.01519447]\n",
      "[0.01857878 0.01265307 0.03129222 ... 0.04618483 0.04583202 0.01551621]\n",
      "[0.01871652 0.01258511 0.01969652 ... 0.00515885 0.04266332 0.00662097]\n",
      "[0.0052603  0.00898061 0.04860029 ... 0.10248186 0.01704261 0.        ]\n",
      "[0.00746904 0.01382923 0.07870953 ... 0.02320641 0.05568707 0.00262545]\n",
      "[0.0062653  0.00557503 0.01288498 ... 0.0014875  0.04808643 0.00482505]\n",
      "[0.01341039 0.03117817 0.03796816 ... 0.00815928 0.01712579 0.01757842]\n",
      "[0.00415896 0.00748289 0.08609281 ... 0.00986687 0.02067545 0.00041463]\n",
      "[0.02666321 0.03331986 0.02835512 ... 0.00896993 0.05275599 0.02367397]\n",
      "[0.00678237 0.00387651 0.00511998 ... 0.02270021 0.03100056 0.00101445]\n",
      "[0.00951499 0.01282256 0.01463532 ... 0.0382227  0.09065313 0.04484421]\n",
      "[0.01208006 0.02690644 0.01288715 ... 0.01010721 0.01416665 0.00453954]\n",
      "[0.02670539 0.04929006 0.05696147 ... 0.02667077 0.05986976 0.01744642]\n",
      "[0.0051753  0.04323305 0.07525688 ... 0.00516139 0.02381501 0.01827041]\n",
      "[0.01008029 0.03854311 0.01093996 ... 0.0033063  0.02077959 0.00691564]\n",
      "[0.02451042 0.06145497 0.09375197 ... 0.01820662 0.06328134 0.01230662]\n",
      "[0.00419856 0.0006086  0.00541927 ... 0.00010918 0.01090524 0.00053437]\n",
      "[0.00914245 0.04723649 0.07459079 ... 0.02466729 0.07091703 0.01069814]\n",
      "[0.00324384 0.03732231 0.07970475 ... 0.00806123 0.01308889 0.00533697]\n",
      "[0.00377179 0.00741903 0.03556179 ... 0.00788415 0.01763633 0.00384651]\n",
      "[0.00792315 0.01771466 0.03472494 ... 0.02951455 0.11389631 0.07811785]\n",
      "[0.00644348 0.01639997 0.03874168 ... 0.00308621 0.04972666 0.01379936]\n",
      "[0.00835274 0.02494077 0.17976286 ... 0.01053555 0.06913769 0.00717751]\n",
      "[0.01481406 0.00752171 0.02128653 ... 0.01145423 0.02633228 0.00422241]\n",
      "[0.0111507  0.01507071 0.05995678 ... 0.01015321 0.02032716 0.00148567]\n",
      "[0.00515211 0.00973795 0.00641215 ... 0.06383803 0.02853691 0.21274912]\n",
      "[0.02591534 0.01924326 0.07154279 ... 0.0308546  0.0894989  0.00413766]\n",
      "[0.00324053 0.02380471 0.20378563 ... 0.00567571 0.02032706 0.0104946 ]\n",
      "[0.02156352 0.00279354 0.02721646 ... 0.02740493 0.03889316 0.24661511]\n",
      "[0.01113429 0.01157169 0.01204614 ... 0.00366588 0.01729337 0.00635581]\n",
      "[0.02961713 0.03887711 0.06217791 ... 0.0240545  0.08492833 0.01538737]\n",
      "[0.01028578 0.00954678 0.01254669 ... 0.01403083 0.0385274  0.01787187]\n",
      "[0.01130848 0.01571841 0.01924966 ... 0.12002639 0.5865162  0.01401048]\n",
      "[0.01272648 0.03309008 0.10504887 ... 0.00799101 0.02994792 0.04386656]\n",
      "[0.00315754 0.02843311 0.02251379 ... 0.00944134 0.23339248 0.00561142]\n",
      "[0.01398612 0.0235827  0.04755332 ... 0.02607577 0.22946778 0.00796968]\n",
      "[0.00527383 0.01290962 0.00911465 ... 0.0210846  0.01583973 0.00194247]\n",
      "[0.00394014 0.01318348 0.02031509 ... 0.0343054  0.1292503  0.05895875]\n",
      "[0.00804728 0.05253985 0.03723014 ... 0.02135187 0.05295907 0.01876537]\n",
      "[0.01130969 0.03259834 0.05833313 ... 0.02259371 0.04483424 0.00978015]\n",
      "[0.0128273  0.056384   0.022173   ... 0.00670282 0.03694351 0.00205448]\n",
      "[0.0126834  0.02594218 0.01843669 ... 0.01034447 0.0375061  0.13996828]\n",
      "[0.01533838 0.03180986 0.03222625 ... 0.00154024 0.01470353 0.04172561]\n",
      "[0.01950461 0.03726976 0.05517165 ... 0.03897497 0.03105253 0.00486949]\n",
      "[0.00789361 0.02341511 0.11471299 ... 0.00760178 0.02277672 0.00889113]\n",
      "[0.01210534 0.0267188  0.2370005  ... 0.00754675 0.02232134 0.00262738]\n",
      "[0.00150291 0.01418306 0.03825668 ... 0.02246329 0.13965604 0.10024414]\n",
      "[0.01000139 0.03035994 0.012664   ... 0.04267868 0.03303306 0.0089146 ]\n",
      "[0.01102115 0.06257929 0.02250828 ... 0.01275164 0.02851484 0.        ]\n",
      "[0.00969378 0.0112278  0.0208114  ... 0.01479067 0.03458337 0.01998007]\n",
      "[0.00068884 0.01425057 0.01133624 ... 0.00233968 0.00935398 0.0041324 ]\n",
      "[0.00483476 0.02714839 0.07453519 ... 0.00318782 0.02114761 0.00835898]\n",
      "[0.01977625 0.00622358 0.02836789 ... 0.02068997 0.15810364 0.00298365]\n",
      "[0.01715307 0.06142252 0.12511043 ... 0.01303611 0.05937968 0.01366268]\n",
      "[0.06400094 0.04013676 0.1939364  ... 0.01160596 0.06312349 0.00959152]\n",
      "[0.01495516 0.05006908 0.02722336 ... 0.02536185 0.02615486 0.00348209]\n",
      "[0.00516406 0.05219534 0.04327979 ... 0.03339415 0.01495886 0.00115822]\n",
      "[0.0066582  0.0038473  0.03772558 ... 0.00113699 0.01315161 0.00098095]\n",
      "[0.0030218  0.00909004 0.01587455 ... 0.00994468 0.01766645 0.00046153]\n",
      "[0.00618032 0.02882632 0.01990247 ... 0.01256301 0.01704455 0.00782725]\n",
      "[0.01667013 0.08870824 0.09440693 ... 0.07457145 0.03839579 0.00620399]\n",
      "[0.00306496 0.01238034 0.0172162  ... 0.00549515 0.29010522 0.00708821]\n",
      "[0.01356954 0.05744964 0.08863865 ... 0.01243973 0.04749619 0.01236995]\n",
      "[0.01772492 0.02201962 0.02483478 ... 0.0068212  0.05957788 0.08228232]\n",
      "[0.00731967 0.03637436 0.0185851  ... 0.02019716 0.0385422  0.04465141]\n",
      "[0.00773446 0.02566271 0.04351395 ... 0.00734847 0.02494892 0.01102618]\n",
      "[0.01967326 0.02991471 0.04322859 ... 0.00190742 0.02785013 0.00649749]\n",
      "[0.00963304 0.03908658 0.10695788 ... 0.0106156  0.02274267 0.01045073]\n",
      "[0.01181442 0.02991476 0.05095525 ... 0.03677069 0.02743689 0.00892657]\n",
      "[0.00512344 0.01348974 0.01727515 ... 0.00439384 0.04466076 0.01301939]\n",
      "[0.0143515  0.03823614 0.03271873 ... 0.00383975 0.01064879 0.01005175]\n",
      "[2.9927543e-03 6.0197117e-04 1.8912671e-02 ... 6.7274937e-05 1.1615582e-02\n",
      " 1.6448124e-04]\n",
      "[0.00384101 0.03662728 0.01998229 ... 0.01224662 0.29129848 0.00662796]\n",
      "[0.00929384 0.03777857 0.15091217 ... 0.00884339 0.01327539 0.00559952]\n",
      "[0.02379881 0.03619808 0.03440977 ... 0.02595057 0.06348472 0.05966252]\n",
      "[0.00504787 0.01290934 0.02921283 ... 0.01236534 0.01540157 0.0019254 ]\n",
      "[0.01813512 0.0682679  0.19670305 ... 0.018642   0.07080486 0.02572156]\n",
      "[0.00023642 0.0065387  0.00184072 ... 0.00039079 0.00298717 0.0002421 ]\n",
      "[0.01524969 0.02083795 0.05577569 ... 0.0178243  0.02910762 0.02600419]\n",
      "[0.0230024  0.02124316 0.0540459  ... 0.06096575 0.0582358  0.01329949]\n",
      "[0.037831   0.0309545  0.0280204  ... 0.00359977 0.134483   0.00792823]\n",
      "[0.00325415 0.00414104 0.01048782 ... 0.00620831 0.0086319  0.00639379]\n",
      "[0.01427187 0.00844528 0.01605061 ... 0.00662256 0.05490908 0.00611676]\n",
      "[0.04554468 0.0160755  0.02516428 ... 0.01041361 0.03034342 0.01716307]\n",
      "[0.01099159 0.0255818  0.03833388 ... 0.01306522 0.03533598 0.007534  ]\n",
      "[0.02225464 0.04369515 0.16830881 ... 0.01555761 0.02979233 0.00939237]\n",
      "[0.00288197 0.00256132 0.03577118 ... 0.00397917 0.02761843 0.00355505]\n",
      "[0.00697362 0.01528264 0.02769229 ... 0.14505208 0.03439571 0.00854647]\n",
      "[0.0055737  0.02371998 0.04962091 ... 0.0178521  0.04428607 0.00151524]\n",
      "[0.01144409 0.02493437 0.1212436  ... 0.00168579 0.05457031 0.0062919 ]\n",
      "[0.02267281 0.09692875 0.02099576 ... 0.02683978 0.03823613 0.06676279]\n",
      "[0.02168355 0.02805406 0.05150017 ... 0.0153027  0.06638052 0.01464291]\n",
      "[0.00053592 0.01305837 0.00900698 ... 0.00049883 0.00300145 0.00262029]\n",
      "[0.01524296 0.02880992 0.01822437 ... 0.02933625 0.02453823 0.00818122]\n",
      "[0.00910645 0.00876309 0.01287871 ... 0.0371456  0.30318466 0.00095165]\n",
      "[0.01512813 0.03111824 0.05065064 ... 0.01618282 0.03060021 0.00987909]\n",
      "[0.01311676 0.01902951 0.11008667 ... 0.04783102 0.17854935 0.00845805]\n",
      "[0.03421397 0.10058688 0.09808352 ... 0.04028829 0.07060523 0.06841156]\n",
      "[0.00439187 0.00471761 0.00773365 ... 0.00129282 0.05837264 0.0200001 ]\n",
      "[0.0058931  0.04144304 0.089051   ... 0.00914359 0.01658463 0.01050706]\n",
      "[0.01029276 0.05356648 0.0323465  ... 0.01542828 0.01920817 0.00223667]\n",
      "[0.00985942 0.06927701 0.01378973 ... 0.01293373 0.03200382 0.00261656]\n",
      "[0.01080514 0.01666244 0.03306877 ... 0.06002276 0.04349201 0.00384626]\n",
      "[0.0108564  0.02960658 0.03856613 ... 0.01074778 0.03732756 0.00847023]\n",
      "[0.00792318 0.04995956 0.27592504 ... 0.02525787 0.03500781 0.03117764]\n",
      "[0.01849416 0.01975586 0.0330224  ... 0.14498594 0.03137786 0.00807802]\n",
      "[0.00246977 0.02091591 0.02888539 ... 0.         0.00278071 0.01954499]\n",
      "[0.04005035 0.01241798 0.02583507 ... 0.04556157 0.02337911 0.0044368 ]\n",
      "[0.00341521 0.01468131 0.00909564 ... 0.0007589  0.01332068 0.00287208]\n",
      "[0.01497203 0.0134681  0.02208208 ... 0.00336742 0.01351526 0.00234087]\n",
      "[0.00419586 0.00026742 0.00056386 ... 0.00111882 0.00916676 0.00161743]\n",
      "[0.01777278 0.3088241  0.01803607 ... 0.01183569 0.02627529 0.0117883 ]\n",
      "[0.01026699 0.01719967 0.10060979 ... 0.00297715 0.01743785 0.00056654]\n",
      "[0.00810793 0.00751815 0.03551618 ... 0.02933667 0.06346332 0.09900428]\n",
      "[0.03428717 0.06177389 0.05512039 ... 0.01389742 0.04167135 0.02915917]\n",
      "[0.00379713 0.03620891 0.01975404 ... 0.01210674 0.2879711  0.00655225]\n",
      "[0.01584311 0.03428399 0.14019848 ... 0.00778656 0.08309625 0.02723044]\n",
      "[0.00800828 0.02227185 0.07610904 ... 0.00557609 0.03807385 0.01381482]\n",
      "[0.00762048 0.03204306 0.02177138 ... 0.00947937 0.01027702 0.01029213]\n",
      "[0.00563535 0.03517369 0.13092497 ... 0.00989664 0.02239221 0.00780916]\n",
      "[0.00386509 0.02025903 0.03066097 ... 0.07600133 0.06306369 0.00900561]\n",
      "[0.00780569 0.02181021 0.02900193 ... 0.00547945 0.10229514 0.00291739]\n",
      "[0.01226049 0.02325305 0.05580879 ... 0.00930771 0.04746968 0.03395369]\n",
      "[0.00225057 0.00957805 0.01762184 ... 0.01721516 0.01797413 0.00432537]\n",
      "[0.00467774 0.01153845 0.02327241 ... 0.01565146 0.271693   0.00567105]\n",
      "[0.03806959 0.05726208 0.14560652 ... 0.03448228 0.09135363 0.01765196]\n",
      "[0.06111175 0.01424702 0.01701215 ... 0.15265359 0.26777604 0.01110573]\n",
      "[1.5777303e-02 3.8452116e-03 5.8879144e-02 ... 4.6746503e-05 5.8293855e-03\n",
      " 3.8749219e-03]\n",
      "[0.         0.00294984 0.00409726 ... 0.00141846 0.01112691 0.        ]\n",
      "[0.01526306 0.05686326 0.09763204 ... 0.01249664 0.05642102 0.01474353]\n",
      "[0.0327499  0.00604666 0.01360274 ... 0.03675998 0.14655493 0.01451757]\n",
      "[0.01035856 0.01331188 0.02424804 ... 0.07555199 0.05151064 0.1548215 ]\n",
      "[0.00327402 0.00968378 0.02890426 ... 0.00542113 0.00495834 0.00103506]\n",
      "[0.00542693 0.00523186 0.02003703 ... 0.01470157 0.04682703 0.00407203]\n",
      "[0.01509552 0.03872352 0.03319018 ... 0.01140078 0.02062284 0.01273229]\n",
      "[0.02238939 0.02555227 0.04094609 ... 0.05731434 0.04288951 0.01593655]\n",
      "[0.01788468 0.03949812 0.02659518 ... 0.0136986  0.01861164 0.00184902]\n",
      "[0.00258584 0.02189888 0.0068337  ... 0.         0.00291139 0.02046353]\n",
      "[0.01840968 0.02182168 0.04417501 ... 0.00926977 0.02268626 0.00282546]\n",
      "[0.00421072 0.04375002 0.01912409 ... 0.07115899 0.13272753 0.00948829]\n",
      "[0.01784107 0.00705415 0.02830882 ... 0.00627828 0.03027523 0.00640604]\n",
      "[0.00233422 0.01535213 0.02165704 ... 0.00053042 0.04423893 0.00461097]\n",
      "[0.00692533 0.09588569 0.01456139 ... 0.13280219 0.48808232 0.00318903]\n",
      "[0.01122672 0.00504263 0.00695722 ... 0.00574302 0.01959898 0.00211531]\n",
      "[0.0099043  0.02758979 0.02248844 ... 0.00527742 0.12551466 0.00363229]\n",
      "[0.01242623 0.04427132 0.03087871 ... 0.00871978 0.04935677 0.04822033]\n",
      "[0.00029034 0.00464188 0.01112692 ... 0.00193255 0.01850732 0.00390136]\n",
      "[0.00748095 0.01714231 0.17020392 ... 0.00500361 0.01949719 0.00220469]\n",
      "[0.00513051 0.0126582  0.03016502 ... 0.03051387 0.13675655 0.10407545]\n",
      "[0.01591221 0.04951475 0.03129181 ... 0.10963546 0.36713988 0.00205211]\n",
      "[0.0110932  0.01725678 0.01471498 ... 0.00790854 0.0294089  0.00253748]\n",
      "[0.00383903 0.02678924 0.22674856 ... 0.02198754 0.04952798 0.01292249]\n",
      "[0.02643198 0.04083333 0.09171306 ... 0.02386046 0.04379195 0.01517784]\n",
      "[0.01505596 0.10604554 0.08233874 ... 0.01034899 0.0229412  0.01122233]\n",
      "[0.04259854 0.00356326 0.00650428 ... 0.00182821 0.05356714 0.00343188]\n",
      "[0.02404981 0.00753397 0.02331634 ... 0.00065513 0.111929   0.02314954]\n",
      "[0.00682625 0.05624421 0.02125484 ... 0.05986927 0.08859593 0.0226814 ]\n",
      "[0.00151788 0.0068037  0.00924839 ... 0.00234297 0.00827687 0.00772777]\n",
      "[0.00309558 0.02516931 0.03255306 ... 0.03895897 0.2142217  0.00494313]\n",
      "[0.00348908 0.01667815 0.045063   ... 0.04854156 0.02680761 0.00720161]\n",
      "[0.01018924 0.03683384 0.0137246  ... 0.03279219 0.04565217 0.00798682]\n",
      "[0.01071768 0.01389076 0.03077446 ... 0.00500058 0.01593703 0.00069215]\n",
      "[0.00758939 0.02752899 0.07098525 ... 0.01039032 0.01908772 0.00234703]\n",
      "[0.01092596 0.02545074 0.03470546 ... 0.0177919  0.03672223 0.0266544 ]\n",
      "[0.0210055  0.00327471 0.00568288 ... 0.03593257 0.04301595 0.00052809]\n",
      "[0.00066419 0.00221061 0.00397856 ... 0.001867   0.01372585 0.00946538]\n",
      "[0.03230684 0.04455132 0.0368721  ... 0.00762429 0.02397802 0.00927916]\n",
      "[0.01205791 0.02014001 0.0710771  ... 0.09669954 0.02639827 0.01614498]\n",
      "[0.00605291 0.00849562 0.01029108 ... 0.00306441 0.00776906 0.00051475]\n",
      "[0.00513151 0.00852697 0.01454249 ... 0.02174535 0.02782385 0.00517314]\n",
      "[0.00317166 0.00812018 0.10587586 ... 0.00828112 0.15320651 0.0088087 ]\n",
      "[0.00099366 0.00033498 0.00092894 ... 0.00286488 0.00712671 0.00083705]\n",
      "[0.01121755 0.08408952 0.0362341  ... 0.01224665 0.02789255 0.05556008]\n",
      "[0.00986121 0.05239127 0.31290582 ... 0.00906951 0.03079881 0.01235462]\n",
      "[0.0079828  0.04642465 0.16998158 ... 0.01160001 0.04077249 0.01336178]\n",
      "[0.00280952 0.0187476  0.03942813 ... 0.00430357 0.01294714 0.00218738]\n",
      "[0.01586439 0.05385105 0.09875922 ... 0.01198408 0.05706642 0.01223296]\n",
      "[0.07058297 0.0884466  0.06802972 ... 0.02286558 0.11348742 0.01328248]\n",
      "[0.00877635 0.03818638 0.00527408 ... 0.00323139 0.00498047 0.01301053]\n",
      "[0.00949932 0.04425121 0.01880771 ... 0.01040688 0.24656352 0.00542189]\n",
      "[0.00830866 0.04749649 0.0295784  ... 0.00765122 0.03771904 0.00854501]\n",
      "[0.00728868 0.03840271 0.01361098 ... 0.00542591 0.03105938 0.00207336]\n",
      "[0.00800627 0.02629841 0.04298586 ... 0.13734895 0.02405608 0.01747023]\n",
      "[0.01205364 0.0206165  0.03911902 ... 0.00710743 0.02772402 0.00876867]\n",
      "[0.00659338 0.02504782 0.04219053 ... 0.00710241 0.02437942 0.00826966]\n",
      "[0.00534686 0.034681   0.2538523  ... 0.00777066 0.1009487  0.00294351]\n",
      "[0.00642094 0.01717308 0.02818463 ... 0.01368056 0.02190232 0.00415673]\n",
      "[0.0062243  0.03289265 0.02712126 ... 0.01415847 0.03219603 0.00990657]\n",
      "[0.01798953 0.02440133 0.05898713 ... 0.00818116 0.05673319 0.00927166]\n",
      "[0.00281631 0.01316882 0.01349293 ... 0.00022538 0.00336586 0.02154863]\n",
      "[0.00576638 0.01653719 0.01733624 ... 0.01108047 0.02198794 0.00449064]\n",
      "[0.0032401  0.03142592 0.01366475 ... 0.00863037 0.01031174 0.00203273]\n",
      "[0.0023807  0.0201616  0.01706762 ... 0.         0.00268043 0.01884012]\n",
      "[0.00823911 0.03237438 0.02309404 ... 0.00502963 0.02341322 0.00536542]\n",
      "[0.00703549 0.04353221 0.02206841 ... 0.00632288 0.01926192 0.0062593 ]\n",
      "[0.0064364  0.00679374 0.02189891 ... 0.0312164  0.04250316 0.02809741]\n",
      "[0.02799027 0.00920379 0.02516619 ... 0.00119351 0.06522983 0.00655755]\n",
      "[0.01496417 0.01787203 0.03895852 ... 0.01348633 0.02698792 0.0076275 ]\n",
      "[0.0494981  0.13243413 0.05058129 ... 0.01082608 0.03535413 0.0201665 ]\n",
      "[0.01408372 0.00836023 0.01210022 ... 0.00237174 0.01252032 0.00194607]\n",
      "[0.00710173 0.01304228 0.02662894 ... 0.01121952 0.03610251 0.03600609]\n",
      "[0.00377438 0.00495234 0.00375495 ... 0.0035361  0.01542562 0.01032942]\n",
      "[0.00153161 0.01362217 0.0083234  ... 0.00472701 0.01042078 0.00164831]\n",
      "[0.01545541 0.04268811 0.05601855 ... 0.01607313 0.05220458 0.01354104]\n",
      "[0.00396068 0.04526175 0.02508213 ... 0.01086981 0.0166157  0.01687243]\n",
      "[0.00963832 0.00923487 0.02010132 ... 0.00825997 0.03487327 0.01648222]\n",
      "[0.01536433 0.07853773 0.01826514 ... 0.04647643 0.03805735 0.01208365]\n",
      "[0.00712975 0.02647885 0.01380047 ... 0.0105781  0.02363411 0.00468505]\n",
      "[0.01454313 0.05566804 0.09374139 ... 0.02022258 0.05333787 0.01457185]\n",
      "[0.01154269 0.09395834 0.02769835 ... 0.02586694 0.05111588 0.03028159]\n",
      "[0.02296873 0.06266601 0.03200272 ... 0.0042107  0.05064941 0.02317594]\n",
      "[0.01216798 0.09198953 0.07301278 ... 0.0247343  0.02940734 0.00616303]\n",
      "[0.0157946  0.02560118 0.14695905 ... 0.01899947 0.05099317 0.01355224]\n",
      "[0.00392418 0.00948776 0.01140155 ... 0.00362092 0.01116137 0.00062655]\n",
      "[0.04032359 0.05319931 0.09387115 ... 0.02005996 0.08625378 0.03005156]\n",
      "[0.01705239 0.06078986 0.1737392  ... 0.01476209 0.06054237 0.01682163]\n",
      "[0.0257014  0.03215814 0.01459807 ... 0.02055592 0.0597274  0.01521677]\n",
      "[0.0047122  0.0107272  0.01955639 ... 0.0108208  0.01554975 0.00200694]\n",
      "[0.00562728 0.00505712 0.0250327  ... 0.00048619 0.01139281 0.00036813]\n",
      "[0.00336422 0.01348316 0.1222035  ... 0.00124617 0.00913717 0.00503397]\n",
      "[0.01119002 0.0083796  0.03580929 ... 0.00110362 0.02691524 0.05773254]\n",
      "[0.0060261  0.03406558 0.01329507 ... 0.0042332  0.00538385 0.00380029]\n",
      "[0.00458857 0.00887199 0.02017677 ... 0.02889972 0.02718006 0.00205064]\n",
      "[0.46135572 0.02120737 0.01944455 ... 0.00743022 0.08730029 0.00446189]\n",
      "[0.0051587  0.00811909 0.01147045 ... 0.00461192 0.03506492 0.018531  ]\n",
      "[0.00979504 0.02442289 0.06391072 ... 0.00642089 0.03352435 0.026988  ]\n",
      "[0.0046452  0.02011005 0.04476041 ... 0.00357837 0.03014927 0.0069662 ]\n",
      "[0.01105904 0.05093568 0.07496727 ... 0.01446384 0.03788073 0.00719612]\n",
      "[0.01160549 0.05141284 0.06210227 ... 0.030683   0.07165974 0.00821084]\n",
      "[0.03654985 0.02923024 0.04027449 ... 0.00978963 0.09648677 0.00417156]\n",
      "[0.00981549 0.01997937 0.02621216 ... 0.02815565 0.00888933 0.00676503]\n",
      "[0.03685639 0.06082502 0.12038121 ... 0.02588189 0.08753642 0.0219378 ]\n",
      "[0.00650431 0.0080653  0.01451808 ... 0.00391793 0.01530356 0.00636622]\n",
      "[0.00254506 0.04250412 0.23216595 ... 0.00481142 0.0410743  0.01135253]\n",
      "[0.02956515 0.04612758 0.14306396 ... 0.01990055 0.06557027 0.01547296]\n",
      "[0.00866823 0.00151704 0.01545299 ... 0.00987482 0.03007715 0.04182813]\n",
      "[0.00427046 0.0679054  0.11424299 ... 0.01272378 0.03026737 0.01622179]\n",
      "[0.00499488 0.01638062 0.05180635 ... 0.00247874 0.00909056 0.00308967]\n",
      "[0.02412219 0.0232021  0.03327412 ... 0.01895056 0.03893788 0.02285517]\n",
      "[0.01147237 0.02184613 0.03693003 ... 0.02264357 0.03233436 0.03201848]\n",
      "[0.00694609 0.02947421 0.01546079 ... 0.0041695  0.01013701 0.00533176]\n",
      "[0.0273735  0.02148622 0.02496289 ... 0.15327437 0.4541488  0.01552065]\n",
      "[0.01578589 0.0350618  0.04480782 ... 0.02028261 0.04519951 0.00615103]\n",
      "[0.00400587 0.00926901 0.00907481 ... 0.00797146 0.01846851 0.00976258]\n",
      "[0.01080151 0.03333461 0.07536124 ... 0.02073486 0.07006669 0.05908392]\n",
      "[0.01742579 0.06904627 0.21771738 ... 0.0140113  0.06232085 0.01347132]\n",
      "[0.00647003 0.00063292 0.01270885 ... 0.05872048 0.02214275 0.10345413]\n",
      "[0.00987029 0.01270144 0.02541248 ... 0.         0.03760363 0.00378337]\n",
      "[0.00275271 0.01411163 0.01819161 ... 0.00619666 0.07969008 0.00642721]\n",
      "[0.00804516 0.00927048 0.00607256 ... 0.0027197  0.02484829 0.00515066]\n",
      "[0.00496913 0.02069919 0.02081398 ... 0.02152703 0.03396766 0.01253173]\n",
      "[0.00393982 0.01647754 0.01210886 ... 0.0041749  0.01871217 0.0027422 ]\n",
      "[0.01327534 0.04410385 0.03624972 ... 0.00876896 0.09820874 0.03267391]\n",
      "[0.00480169 0.04277205 0.09069963 ... 0.00343338 0.01074347 0.00934755]\n",
      "[0.00121766 0.00294818 0.00659094 ... 0.00287002 0.01370994 0.00124209]\n",
      "[0.03725535 0.0567468  0.11725413 ... 0.02350246 0.08592001 0.03874689]\n",
      "[0.00443447 0.04135235 0.1483464  ... 0.016657   0.03554822 0.00546997]\n",
      "[0.01428577 0.01691333 0.0269296  ... 0.123873   0.05871552 0.09342389]\n",
      "[0.00124309 0.00229731 0.00758212 ... 0.01747408 0.05165367 0.00159217]\n",
      "[0.01386502 0.03044548 0.04238144 ... 0.01824217 0.08090598 0.01396864]\n",
      "[0.01584369 0.03211022 0.21402517 ... 0.00954091 0.04560636 0.00775712]\n",
      "[0.02019577 0.03320354 0.04658222 ... 0.01109787 0.07069059 0.01934261]\n",
      "[0.0068938  0.06554947 0.02515368 ... 0.01455096 0.0589052  0.00991582]\n",
      "[0.01559133 0.02272594 0.02931796 ... 0.00641554 0.12960623 0.00506454]\n",
      "[0.00573837 0.0268269  0.06218961 ... 0.00750311 0.2233811  0.00398978]\n",
      "[0.00513843 0.00998195 0.03206953 ... 0.00766086 0.03089608 0.03674518]\n",
      "[0.00862406 0.01454231 0.02481503 ... 0.00417901 0.02193574 0.00182151]\n",
      "[0.01387758 0.0529115  0.00975409 ... 0.0173458  0.3422356  0.00473257]\n",
      "[0.00766822 0.00803382 0.00919791 ... 0.03174364 0.03982855 0.01600869]\n",
      "[0.00605597 0.03402434 0.03036152 ... 0.00956538 0.01630245 0.01732831]\n",
      "[0.00450535 0.00740889 0.09804107 ... 0.01809196 0.02002176 0.01059506]\n",
      "[0.00441189 0.02128146 0.05815068 ... 0.00786294 0.11097237 0.01323089]\n",
      "[0.00898171 0.00725247 0.0263917  ... 0.00179154 0.01725357 0.0093057 ]\n",
      "[0.01704653 0.04850313 0.08994751 ... 0.01053375 0.01481838 0.01356556]\n",
      "[0.02880367 0.04898604 0.07605948 ... 0.02507165 0.07664062 0.07189384]\n",
      "[0.01386836 0.01635034 0.01871943 ... 0.0208467  0.03752178 0.02875059]\n",
      "[0.00818965 0.11015785 0.08205032 ... 0.00980832 0.01323732 0.00745039]\n",
      "[0.00744766 0.01341943 0.03479409 ... 0.01380744 0.04127835 0.00298501]\n",
      "[0.01595501 0.02682607 0.03969844 ... 0.02427071 0.03554013 0.00614531]\n",
      "[0.02526222 0.02080478 0.02446047 ... 0.01798427 0.5299932  0.01769377]\n",
      "[0.01628072 0.05923608 0.10792686 ... 0.01552711 0.05532436 0.01425347]\n",
      "[0.00431453 0.00846234 0.01460084 ... 0.01932626 0.01736732 0.00095807]\n",
      "[0.00727517 0.00646885 0.02130548 ... 0.0087021  0.0221285  0.01426247]\n",
      "[0.07920726 0.00609534 0.00885062 ... 0.00457543 0.02726866 0.00778621]\n",
      "[0.01616699 0.08025838 0.04519027 ... 0.00663697 0.02073043 0.01176423]\n",
      "[0.00493544 0.08152494 0.0242498  ... 0.08004333 0.03174519 0.01003277]\n",
      "[0.03705367 0.14141038 0.06126939 ... 0.01418463 0.04146877 0.00041519]\n",
      "[0.01086278 0.03052716 0.05126811 ... 0.03704027 0.05433181 0.02939284]\n",
      "[0.02661549 0.06495041 0.26184142 ... 0.01814114 0.07074416 0.01289112]\n",
      "[0.00183356 0.00388355 0.03125654 ... 0.00784687 0.00343209 0.0017915 ]\n",
      "[0.00820561 0.0099208  0.02924361 ... 0.01418172 0.05287621 0.00265478]\n",
      "[0.0141367  0.02286645 0.02490103 ... 0.00808197 0.04366045 0.0064538 ]\n",
      "[0.01201216 0.0256325  0.02014584 ... 0.03568542 0.0314164  0.05240867]\n",
      "[0.00333358 0.02823133 0.00947635 ... 0.         0.00543836 0.02638092]\n",
      "[0.01728657 0.02922642 0.07411534 ... 0.00821914 0.02382704 0.00517111]\n",
      "[0.00975691 0.03042598 0.08774664 ... 0.04110896 0.03081646 0.01011562]\n",
      "[0.01391242 0.01629147 0.05444494 ... 0.00700379 0.10564336 0.00817412]\n",
      "[0.02055921 0.02967191 0.02441338 ... 0.00540919 0.01407871 0.00334903]\n",
      "[0.00465956 0.0064459  0.0130587  ... 0.04295912 0.033656   0.00716142]\n",
      "[0.00816986 0.01284872 0.01217551 ... 0.14160778 0.4091698  0.0014677 ]\n",
      "[0.00301585 0.03366104 0.03531354 ... 0.00252662 0.03603248 0.01327202]\n",
      "[0.0018789  0.01058861 0.02462307 ... 0.00345427 0.02462446 0.07340953]\n",
      "[0.01195039 0.02674783 0.1459664  ... 0.01453361 0.04956704 0.00557826]\n",
      "[0.01388211 0.06117493 0.09557042 ... 0.01543766 0.04981214 0.01228444]\n",
      "[0.002614   0.01520487 0.03130847 ... 0.00755306 0.01032977 0.00600642]\n",
      "[0.00531417 0.01542453 0.03952435 ... 0.00635125 0.03526193 0.01897317]\n",
      "[0.03890004 0.05396461 0.09146576 ... 0.0177915  0.08137793 0.01778452]\n",
      "[0.00243068 0.01421896 0.02621556 ... 0.00385267 0.01601123 0.0003069 ]\n",
      "[0.00322568 0.00652992 0.02763209 ... 0.01271488 0.0199331  0.00675984]\n",
      "[0.00347495 0.08171617 0.03854212 ... 0.018545   0.02582565 0.00897293]\n",
      "[0.00573263 0.02470391 0.02235802 ... 0.03674411 0.03411926 0.0228488 ]\n",
      "[0.01799763 0.01986824 0.0280398  ... 0.01032371 0.06526572 0.1581943 ]\n",
      "[0.00941961 0.00735979 0.0076352  ... 0.00658867 0.0225228  0.00125146]\n",
      "[0.00390107 0.01776062 0.10460716 ... 0.00278691 0.00786953 0.0013752 ]\n",
      "[0.04101514 0.01526857 0.03071622 ... 0.00812333 0.11353243 0.0072841 ]\n",
      "[0.01149174 0.04054552 0.01737687 ... 0.00113338 0.03051663 0.06128165]\n",
      "[0.02988699 0.04874875 0.14348584 ... 0.01727173 0.06604943 0.01287295]\n",
      "[0.02565341 0.02822448 0.04886403 ... 0.04521812 0.5404529  0.01758788]\n",
      "[0.01271745 0.05044011 0.05953668 ... 0.02655188 0.03867001 0.02126165]\n",
      "[0.02768499 0.14480226 0.03340971 ... 0.0070118  0.02611821 0.00906183]\n",
      "[0.00790462 0.03660813 0.02015458 ... 0.01145385 0.02103269 0.00077737]\n",
      "[0.01134381 0.01219772 0.0121353  ... 0.0064534  0.01586531 0.00971211]\n",
      "[0.02175365 0.02748792 0.0315509  ... 0.01719501 0.07434928 0.0263564 ]\n",
      "[0.0060101  0.02522338 0.01080322 ... 0.00456031 0.01260032 0.01079482]\n",
      "[0.00443771 0.02610643 0.00950619 ... 0.00950034 0.01554296 0.03513087]\n",
      "[0.00888944 0.03558489 0.12977572 ... 0.01115833 0.19979614 0.0077005 ]\n",
      "[0.01533989 0.03304136 0.03578119 ... 0.11885574 0.02829555 0.0067476 ]\n",
      "[0.04518947 0.00469352 0.00672424 ... 0.01038674 0.0513671  0.0050572 ]\n",
      "[0.0015549  0.00807    0.00913189 ... 0.00354626 0.0145064  0.01094344]\n",
      "[0.00491642 0.02067848 0.0757602  ... 0.00156485 0.00637967 0.00289107]\n",
      "[0.00923569 0.03258067 0.06862067 ... 0.17250627 0.0300406  0.02011329]\n",
      "[0.02406967 0.01727677 0.01096877 ... 0.05030004 0.21712646 0.00052312]\n",
      "[0.00773884 0.02358168 0.01825395 ... 0.00490385 0.05348068 0.4402538 ]\n",
      "[0.0039345  0.01817075 0.01679297 ... 0.02353988 0.0252976  0.00042868]\n",
      "[0.01092543 0.00584642 0.03089732 ... 0.01091612 0.02721816 0.11343444]\n",
      "[0.04213914 0.0289613  0.12738548 ... 0.00797024 0.01752679 0.01258842]\n",
      "[0.01710688 0.01853673 0.01667251 ... 0.01739205 0.016402   0.01028464]\n",
      "[0.0458043  0.05121882 0.05093746 ... 0.01715677 0.07206097 0.01828178]\n",
      "[0.00415644 0.0529542  0.29506037 ... 0.00631385 0.04955815 0.01168809]\n",
      "[0.01278656 0.05005622 0.03455784 ... 0.0091464  0.0919814  0.11482593]\n",
      "[0.01483457 0.01137023 0.01363571 ... 0.01515176 0.32274863 0.02991373]\n",
      "[0.02807639 0.00821453 0.00960953 ... 0.00403373 0.02792553 0.00988862]\n",
      "[0.01415817 0.02100893 0.02716945 ... 0.00307947 0.04007164 0.00790822]\n",
      "[0.01365896 0.02140349 0.01502216 ... 0.00709537 0.11052477 0.00129847]\n",
      "[0.00807937 0.03174386 0.01124817 ... 0.00091898 0.035002   0.00145304]\n",
      "[0.00543813 0.03829257 0.03994004 ... 0.00713282 0.0206112  0.00728561]\n",
      "[0.02624395 0.02644864 0.19593693 ... 0.00447231 0.0398364  0.02050343]\n",
      "[0.00741688 0.00610679 0.018306   ... 0.00185788 0.00576931 0.00156139]\n",
      "[0.00156851 0.02127355 0.01837993 ... 0.01173346 0.01894475 0.00502596]\n",
      "[0.00719759 0.00863266 0.0143011  ... 0.04625324 0.03918703 0.00939078]\n",
      "[0.03405352 0.04235224 0.06069778 ... 0.00949295 0.04087338 0.01109778]\n",
      "[0.00464046 0.00571508 0.02392142 ... 0.01821426 0.01279298 0.00708687]\n",
      "[0.00108483 0.00862168 0.0118277  ... 0.00234905 0.02295233 0.00764189]\n",
      "[0.00772884 0.03289508 0.11269835 ... 0.00589477 0.02780449 0.01293775]\n",
      "[0.00734912 0.00950571 0.02145668 ... 0.0104846  0.02901768 0.00418596]\n",
      "[0.01157064 0.02469685 0.01619323 ... 0.00869566 0.01198945 0.00475349]\n",
      "[0.03214358 0.0561052  0.23672538 ... 0.01161308 0.03027319 0.01296977]\n",
      "[0.00822452 0.03652572 0.24488734 ... 0.01394501 0.06035567 0.0161815 ]\n",
      "[0.00122685 0.01302919 0.00785261 ... 0.00249381 0.03031926 0.00758766]\n",
      "[0.01969606 0.00893084 0.03578387 ... 0.01397317 0.09023973 0.00293956]\n",
      "[0.01115533 0.02531825 0.01421341 ... 0.00673899 0.0091108  0.00079201]\n",
      "[0.03760551 0.02370979 0.02747396 ... 0.0399582  0.07875349 0.00418934]\n",
      "[0.01616699 0.03600802 0.02866915 ... 0.00733134 0.03266411 0.01582904]\n",
      "[0.00638337 0.01069629 0.07341549 ... 0.05480552 0.01309665 0.00846279]\n",
      "[0.00928543 0.03061061 0.20589525 ... 0.00277929 0.02256967 0.00590586]\n",
      "[0.03658428 0.00335294 0.02290756 ... 0.00349648 0.03211837 0.01293324]\n",
      "[0.01831427 0.05686976 0.24203137 ... 0.01763637 0.064152   0.01603825]\n",
      "[0.00104269 0.00978328 0.03545631 ... 0.01336254 0.10691604 0.0818589 ]\n",
      "[0.01215157 0.02934751 0.03408109 ... 0.04842548 0.02411992 0.01154447]\n",
      "[0.00829832 0.0167945  0.06524627 ... 0.01226266 0.03246454 0.01148387]\n",
      "[0.00412812 0.00350862 0.0085491  ... 0.00160966 0.00909237 0.        ]\n",
      "[0.00224891 0.03369653 0.01665992 ... 0.00626513 0.02154461 0.00827984]\n",
      "[0.00458814 0.01824328 0.01872613 ... 0.01440533 0.01548962 0.00225583]\n",
      "[0.00705135 0.00476699 0.01811205 ... 0.00186569 0.00517088 0.00095691]\n",
      "[0.0256751  0.03148239 0.29217184 ... 0.00826242 0.04358454 0.02930977]\n",
      "[0.01816926 0.04874936 0.08348645 ... 0.00637823 0.02484793 0.01553258]\n",
      "[0.01504087 0.04042619 0.07138268 ... 0.01336339 0.06567154 0.03284149]\n",
      "[0.00954866 0.02231517 0.0127247  ... 0.00532598 0.013164   0.00072141]\n",
      "[0.0092227  0.03655799 0.02864051 ... 0.00902229 0.02818132 0.00704222]\n",
      "[0.00559514 0.02848501 0.01952071 ... 0.00809355 0.02496993 0.00359612]\n",
      "[0.00716307 0.01779974 0.01497081 ... 0.06799632 0.10619773 0.02105481]\n",
      "[0.01680434 0.05801428 0.12206566 ... 0.0127067  0.06299982 0.01375242]\n",
      "[0.00864992 0.02965447 0.03977198 ... 0.00864458 0.03265315 0.00522189]\n",
      "[0.02280762 0.00872829 0.02256726 ... 0.0046843  0.01924913 0.01192499]\n",
      "[0.00792194 0.01043517 0.03164154 ... 0.01376183 0.15618244 0.00105508]\n",
      "[0.0045014  0.00808053 0.02224839 ... 0.00968696 0.05443177 0.00229472]\n",
      "[0.02057904 0.022091   0.0338079  ... 0.02901558 0.03734242 0.01130742]\n",
      "[0.00504377 0.02025891 0.026445   ... 0.01153536 0.01568393 0.01126674]\n",
      "[0.02428395 0.06095665 0.01992497 ... 0.01037993 0.06060179 0.00698256]\n",
      "[0.00539612 0.0160928  0.03084098 ... 0.02206151 0.10296654 0.11124171]\n",
      "[0.01675941 0.03058069 0.03149507 ... 0.00722985 0.07175067 0.01863046]\n",
      "[0.01107464 0.00894359 0.0155249  ... 0.07395563 0.05105324 0.0361179 ]\n",
      "[0.01740819 0.06552925 0.10745808 ... 0.01819638 0.05403405 0.01301392]\n",
      "[0.0047066  0.00335991 0.00611601 ... 0.0029205  0.02364307 0.05849482]\n",
      "[0.01909063 0.01119373 0.02636454 ... 0.14157121 0.26204634 0.00315495]\n",
      "[0.03269883 0.04810869 0.17672378 ... 0.0185768  0.06796595 0.01351307]\n",
      "[0.0281946  0.02883065 0.04166201 ... 0.11539725 0.44985947 0.00928681]\n",
      "[0.03118848 0.03340868 0.03198423 ... 0.01627307 0.06257668 0.01644702]\n",
      "[5.0614697e-05 3.6788268e-03 2.2885794e-02 ... 5.1810560e-03 9.3968157e-03\n",
      " 4.5668380e-03]\n",
      "[0.03927503 0.05540415 0.10812395 ... 0.0338461  0.09330709 0.01680289]\n",
      "[0.01648819 0.00894169 0.03009962 ... 0.00102948 0.01681557 0.00827227]\n",
      "[0.02192391 0.02031823 0.02561459 ... 0.0137301  0.05744972 0.01444781]\n",
      "[0.00319738 0.01335883 0.01665198 ... 0.02528215 0.01244371 0.00734738]\n",
      "[0.00529713 0.01525783 0.0128302  ... 0.00525747 0.01896584 0.00390036]\n",
      "[0.0161951  0.01881315 0.03279787 ... 0.09098627 0.02893718 0.00786598]\n",
      "[0.02147003 0.01867204 0.02395356 ... 0.01482527 0.02386868 0.01228997]\n",
      "[0.00423318 0.02761044 0.08296686 ... 0.00637223 0.00887277 0.0113381 ]\n",
      "[0.00469092 0.00662897 0.01333576 ... 0.00956164 0.01019027 0.00286427]\n",
      "[9.3820074e-04 1.4828922e-02 1.0771424e-02 ... 4.4413184e-05 1.4024314e-02\n",
      " 3.5088831e-03]\n",
      "[0.00344968 0.00428727 0.0053792  ... 0.02006663 0.00429801 0.07166593]\n",
      "[0.01129889 0.03013955 0.04228592 ... 0.01565346 0.02676651 0.01928712]\n",
      "[0.01625356 0.05915223 0.11747537 ... 0.01893015 0.05917457 0.01407176]\n",
      "[0.01529782 0.01524529 0.02712661 ... 0.00335476 0.11708928 0.00506446]\n",
      "[0.01689832 0.08413367 0.07233134 ... 0.01757893 0.04461313 0.00486833]\n",
      "[0.02975211 0.04472673 0.01568379 ... 0.02031751 0.03374884 0.01071428]\n",
      "[0.00595035 0.00272261 0.01207139 ... 0.00785881 0.02267202 0.00848527]\n",
      "[0.00421678 0.01478386 0.02317286 ... 0.00437919 0.02024224 0.01737664]\n",
      "[0.00127362 0.02172346 0.02708508 ... 0.01142249 0.03288141 0.00577243]\n",
      "[0.00478739 0.26870054 0.01607982 ... 0.00220228 0.01469955 0.00146027]\n",
      "[0.0170791  0.02754843 0.0678862  ... 0.00833744 0.11167949 0.02973939]\n",
      "[0.01760738 0.05755165 0.1040794  ... 0.01632879 0.06205241 0.01279126]\n",
      "[0.01076765 0.00944517 0.01934718 ... 0.00732687 0.02156153 0.01156719]\n",
      "[0.00710131 0.00658476 0.02111162 ... 0.02569446 0.05786289 0.08671269]\n",
      "[0.01513269 0.03690077 0.05314622 ... 0.03671007 0.05379408 0.00648392]\n",
      "[0.01889974 0.03062251 0.05909263 ... 0.01600833 0.07955536 0.01200916]\n",
      "[0.02485913 0.04424641 0.02680437 ... 0.02591203 0.08043361 0.04001223]\n",
      "[0.00536302 0.00857624 0.01510316 ... 0.00948866 0.03824775 0.05403724]\n",
      "[0.03880063 0.05918814 0.12599093 ... 0.02353002 0.09162021 0.01867111]\n",
      "[0.01066345 0.03639872 0.01759572 ... 0.01239714 0.01245352 0.04152271]\n",
      "[0.01610742 0.03098679 0.19159557 ... 0.01415288 0.06468812 0.00611879]\n",
      "[0.01102763 0.05000281 0.02379561 ... 0.02188891 0.02824163 0.00480492]\n",
      "[0.00115935 0.00028922 0.00108879 ... 0.00349028 0.00299019 0.0006493 ]\n",
      "[0.05489124 0.09728249 0.05357627 ... 0.01214819 0.02410084 0.04516462]\n",
      "[0.00743499 0.02057441 0.01984757 ... 0.00446049 0.01539062 0.00210017]\n",
      "[0.00516323 0.00352402 0.05156257 ... 0.01853155 0.02674998 0.01860325]\n",
      "[0.0148259  0.04302063 0.059703   ... 0.02790168 0.04713265 0.01423758]\n",
      "[0.00960545 0.01021023 0.01560686 ... 0.00786377 0.01333921 0.02958238]\n",
      "[0.02494657 0.01551701 0.03812699 ... 0.0179417  0.05431547 0.03998416]\n",
      "[0.03793093 0.05928187 0.11966474 ... 0.02362095 0.0887057  0.01896105]\n",
      "[0.00901261 0.01073586 0.01992308 ... 0.01156727 0.02794523 0.00396507]\n",
      "[0.02563948 0.00034044 0.00150821 ... 0.0032975  0.03375149 0.        ]\n",
      "[0.00290388 0.013242   0.034179   ... 0.01340591 0.02244088 0.00810892]\n",
      "[0.0356448  0.18106207 0.03841709 ... 0.02921408 0.03222786 0.02804876]\n",
      "[0.02947695 0.03046542 0.02865529 ... 0.01157773 0.05497005 0.00648361]\n",
      "[0.003069   0.00563091 0.00821903 ... 0.01600872 0.01365384 0.00236888]\n",
      "[0.00533682 0.00587179 0.05033962 ... 0.02660092 0.03805084 0.01779966]\n",
      "[0.01181551 0.02417834 0.02996502 ... 0.0020082  0.01309245 0.00283238]\n",
      "[0.01600919 0.02578377 0.02148128 ... 0.01180166 0.01214321 0.00015491]\n",
      "[0.0008077  0.0085228  0.01705805 ... 0.00137005 0.0072705  0.00207528]\n",
      "[0.01862539 0.01351429 0.0234723  ... 0.01688848 0.03024621 0.02380444]\n",
      "[0.01279674 0.008735   0.02209928 ... 0.00685626 0.02051748 0.00229737]\n",
      "[0.00401209 0.0084682  0.01217222 ... 0.0152444  0.01936692 0.00089431]\n",
      "[0.00631831 0.02278574 0.01247324 ... 0.01421694 0.02379232 0.00070584]\n",
      "[0.02748367 0.01741306 0.05040037 ... 0.02298381 0.20384271 0.00407292]\n",
      "[0.0155441  0.05541069 0.09927013 ... 0.02343281 0.05630475 0.01442799]\n",
      "[0.00143374 0.0228254  0.01061635 ... 0.09761323 0.01202236 0.0003158 ]\n",
      "[0.02171868 0.08132167 0.01768514 ... 0.00276779 0.04333121 0.02713485]\n",
      "[0.01299208 0.02149086 0.02688176 ... 0.00608104 0.03158102 0.00666911]\n",
      "[0.00674672 0.01757636 0.02469184 ... 0.00570034 0.01434393 0.01492148]\n",
      "[0.00594008 0.01291059 0.01268075 ... 0.00892087 0.03031795 0.00147762]\n",
      "[0.01541943 0.07646485 0.19318724 ... 0.01498456 0.05410756 0.02313855]\n",
      "[0.02364577 0.03236315 0.08988363 ... 0.00948738 0.03517681 0.011563  ]\n",
      "[0.00566502 0.06160567 0.01360052 ... 0.00795111 0.01103727 0.00687094]\n",
      "[0.01341493 0.00886278 0.02814593 ... 0.01109605 0.07245149 0.        ]\n",
      "[0.01019261 0.02170344 0.02206277 ... 0.00509493 0.01309321 0.00469754]\n",
      "[0.00607648 0.01743221 0.0407798  ... 0.00351253 0.03388526 0.00662323]\n",
      "[0.01781289 0.02054186 0.0353007  ... 0.15006192 0.02106111 0.00163835]\n",
      "[0.00633972 0.01698404 0.05484449 ... 0.00525538 0.3165437  0.01125796]\n",
      "[0.00589079 0.00851462 0.01240599 ... 0.00336022 0.02150207 0.00020091]\n",
      "[0.00510391 0.01135377 0.01896059 ... 0.0031015  0.00818997 0.00453018]\n",
      "[0.00681944 0.04980844 0.03181125 ... 0.020868   0.03215542 0.00155707]\n",
      "[0.00896896 0.02009682 0.03364888 ... 0.01039183 0.058741   0.00158161]\n",
      "[0.0038774  0.03697432 0.02017163 ... 0.01236266 0.2940585  0.00669076]\n",
      "[0.0056031  0.03254705 0.13394788 ... 0.02124692 0.02563984 0.01779094]\n",
      "[0.         0.00557355 0.07284892 ... 0.         0.02357532 0.        ]\n",
      "[0.00374841 0.01692408 0.02356208 ... 0.04342018 0.02958306 0.45956472]\n",
      "[0.00476877 0.03310749 0.11241791 ... 0.01408195 0.02090952 0.00966238]\n",
      "[0.00794942 0.00554078 0.01902816 ... 0.03713646 0.03204173 0.00174196]\n",
      "[0.01981953 0.02332193 0.03054895 ... 0.00451993 0.05180039 0.00037658]\n",
      "[0.01103882 0.03523718 0.03068714 ... 0.01215358 0.02247243 0.00725229]\n",
      "[0.00913907 0.03618126 0.22952804 ... 0.00995737 0.03211017 0.00616822]\n",
      "[0.03215548 0.0531551  0.12305409 ... 0.02344259 0.05820331 0.01487502]\n",
      "[0.00367766 0.01739158 0.00880461 ... 0.00200816 0.01315319 0.01148017]\n",
      "[0.00233357 0.01069705 0.02021628 ... 0.00069688 0.01072793 0.00751271]\n",
      "[0.01366092 0.05107875 0.07005678 ... 0.01874988 0.03150932 0.00983798]\n",
      "[0.00488026 0.04928834 0.04414714 ... 0.03700596 0.03353846 0.0038619 ]\n",
      "[0.01868843 0.02359256 0.03171662 ... 0.03567582 0.0342596  0.00504998]\n",
      "[0.02434457 0.05755882 0.40576515 ... 0.02798033 0.05955629 0.01595324]\n",
      "[0.00096873 0.01828472 0.16839835 ... 0.0061566  0.00806469 0.01499107]\n",
      "[0.00526239 0.01032142 0.01780848 ... 0.02357202 0.03027505 0.00116855]\n",
      "[0.01341296 0.01984965 0.019163   ... 0.00711909 0.04009124 0.00946401]\n",
      "[0.00494267 0.01003504 0.06244445 ... 0.01982153 0.02771348 0.00901017]\n",
      "[0.00602898 0.01134368 0.02013029 ... 0.00184215 0.00688576 0.0048455 ]\n",
      "[0.00748697 0.0118796  0.05453998 ... 0.00404334 0.05160076 0.00517812]\n",
      "[0.00576703 0.01735439 0.02744373 ... 0.00582062 0.02441953 0.01181639]\n",
      "[0.00816154 0.00386112 0.02199547 ... 0.01869703 0.04498315 0.01959001]\n",
      "[0.03729966 0.05709387 0.11909658 ... 0.03336322 0.0891872  0.01739812]\n",
      "[0.00398271 0.03797854 0.02071949 ... 0.01269843 0.31512368 0.00687248]\n",
      "[0.02597191 0.01969166 0.03169809 ... 0.01365959 0.07974    0.12483582]\n",
      "[0.01737733 0.02003957 0.03443753 ... 0.14639261 0.02054613 0.00159829]\n",
      "[0.02725192 0.03917867 0.2528639  ... 0.0140305  0.0468117  0.02048795]\n",
      "[0.01834043 0.05630584 0.1048118  ... 0.02220652 0.06269751 0.01825985]\n",
      "[0.01271385 0.09865498 0.01477405 ... 0.00616271 0.03306517 0.01710669]\n",
      "[0.00581432 0.00694553 0.03582469 ... 0.00337545 0.01355473 0.05816428]\n",
      "[0.00179118 0.00511217 0.0053103  ... 0.00115453 0.00447681 0.00331067]\n",
      "[0.01528932 0.01401669 0.03058625 ... 0.09131363 0.02841787 0.00796224]\n",
      "[0.00419543 0.01744174 0.01567278 ... 0.00731271 0.03736965 0.00772722]\n",
      "[0.00836743 0.01202875 0.01013357 ... 0.02246969 0.01251943 0.01223791]\n",
      "[0.0076306  0.02044646 0.03445489 ... 0.07157201 0.06289043 0.01005056]\n",
      "[0.02150935 0.02673652 0.03133711 ... 0.0231149  0.12273097 0.03987774]\n",
      "[0.00538927 0.01583343 0.03664115 ... 0.08076779 0.06775548 0.00239569]\n",
      "[0.00462008 0.02511883 0.03487759 ... 0.00214268 0.01459164 0.00599571]\n",
      "[0.01372107 0.04133713 0.0705063  ... 0.00421456 0.01798875 0.00949704]\n",
      "[0.01483794 0.05989375 0.0830268  ... 0.120637   0.02403731 0.01944632]\n",
      "[0.0163608  0.01857416 0.01402554 ... 0.00736878 0.08821631 0.01731729]\n",
      "[0.00078997 0.01106602 0.1447384  ... 0.01320118 0.01645133 0.00190417]\n",
      "[0.00581493 0.0213897  0.02847522 ... 0.00803228 0.04671105 0.0029639 ]\n",
      "[0.00231925 0.00901523 0.0159331  ... 0.01425433 0.03593946 0.00316226]\n",
      "[0.010225   0.01953934 0.01325979 ... 0.04140294 0.01161229 0.00665705]\n",
      "[0.00687063 0.01961741 0.0709417  ... 0.00872951 0.01784677 0.00394786]\n",
      "[0.00640436 0.00732852 0.0084582  ... 0.01295528 0.02183504 0.00751697]\n",
      "[0.03871384 0.02870474 0.06589071 ... 0.05311183 0.09106409 0.00155148]\n",
      "[0.00967644 0.00792329 0.01163876 ... 0.05589313 0.01880373 0.01549504]\n",
      "[0.00329588 0.01766099 0.07914291 ... 0.00473785 0.01730912 0.00277549]\n",
      "[0.0044632  0.00385427 0.03730822 ... 0.03362518 0.03317752 0.00846167]\n",
      "[0.03083003 0.04553463 0.17261778 ... 0.01580848 0.06277098 0.01241605]\n",
      "[0.00125522 0.0044201  0.00585391 ... 0.01395016 0.00551733 0.00223764]\n",
      "[0.00954018 0.02037187 0.04656523 ... 0.00535036 0.01081178 0.00551532]\n",
      "[1.0368039e-03 3.2905792e-03 8.6068911e-03 ... 5.3458288e-03 1.6989022e-02\n",
      " 7.3168107e-05]\n",
      "[0.00108884 0.0086803  0.00794831 ... 0.00643269 0.00755175 0.02087047]\n",
      "[0.01035619 0.03542368 0.065974   ... 0.01067654 0.02613893 0.00963557]\n",
      "[0.01766092 0.01648711 0.01890435 ... 0.02022277 0.0318465  0.02892956]\n",
      "[0.03313462 0.04802707 0.14332315 ... 0.0181093  0.06658819 0.01272277]\n",
      "[0.0089888  0.03170842 0.02014648 ... 0.03261755 0.17989631 0.00564994]\n",
      "[0.00784291 0.01498807 0.02387914 ... 0.0128847  0.06533796 0.00723402]\n",
      "[0.03675538 0.03563038 0.25358912 ... 0.00333517 0.07651726 0.00998698]\n",
      "[0.0074528  0.01165247 0.01879189 ... 0.00250463 0.01095611 0.00952524]\n",
      "[0.00502057 0.02739777 0.03745129 ... 0.02351114 0.01003518 0.        ]\n",
      "[0.00387807 0.02669407 0.03314852 ... 0.02244802 0.01605556 0.00738372]\n",
      "[0.00454497 0.01791749 0.02339314 ... 0.01387656 0.01732308 0.07141313]\n",
      "[0.01620357 0.0167411  0.02319862 ... 0.02922419 0.11263409 0.01070739]\n",
      "[0.02257287 0.03029213 0.06267992 ... 0.04109391 0.0509346  0.0270477 ]\n",
      "[0.00193726 0.0111538  0.02528545 ... 0.00643433 0.03697295 0.0126345 ]\n",
      "[4.61168820e-05 1.11931426e-04 6.28815033e-04 ... 2.23238999e-03\n",
      " 2.07669288e-02 2.42709536e-02]\n",
      "[0.00467339 0.04529455 0.01748926 ... 0.01086009 0.25505987 0.00575815]\n",
      "[0.01456596 0.00729458 0.02266765 ... 0.00344171 0.01494549 0.00258809]\n",
      "[0.00301046 0.00276242 0.0071566  ... 0.00892595 0.01312151 0.03556976]\n",
      "[0.00342571 0.02329141 0.04003407 ... 0.00282112 0.01098894 0.00012107]\n",
      "[0.00655148 0.01627756 0.02728614 ... 0.00939759 0.02567828 0.03912129]\n",
      "[0.01714277 0.0553381  0.02180875 ... 0.18422574 0.05380658 0.0179283 ]\n",
      "[0.00744541 0.00726615 0.01823894 ... 0.01465906 0.02912541 0.02151665]\n",
      "[0.01258735 0.01494874 0.03133801 ... 0.07143873 0.01965004 0.0024691 ]\n",
      "[0.0034845  0.04256953 0.04545178 ... 0.00909271 0.03330277 0.0146045 ]\n",
      "[0.00655885 0.01450847 0.02840381 ... 0.02546315 0.01998377 0.00359641]\n",
      "[0.00598551 0.03650245 0.00803116 ... 0.00921004 0.22461085 0.004252  ]\n",
      "[0.013784   0.04524329 0.07868992 ... 0.00945753 0.04338222 0.00890046]\n",
      "[0.00480697 0.04974607 0.20277804 ... 0.00945544 0.03139891 0.00556366]\n",
      "[0.00491001 0.01765453 0.03145145 ... 0.00351545 0.00587999 0.0022104 ]\n",
      "[0.01263644 0.01486373 0.01891117 ... 0.02884347 0.24133322 0.00640826]\n",
      "[0.00178435 0.01266388 0.00406177 ... 0.         0.0022791  0.01160355]\n",
      "[0.00565341 0.00201758 0.010746   ... 0.00256353 0.02024779 0.00339532]\n",
      "[0.00723769 0.03478606 0.01813555 ... 0.00492508 0.01858162 0.00117281]\n",
      "[0.0361085  0.03282931 0.05890885 ... 0.02252469 0.06574697 0.01114991]\n",
      "[0.04274261 0.0014453  0.00668724 ... 0.01132253 0.05172068 0.00567201]\n",
      "[0.00831055 0.00770604 0.02470659 ... 0.03186374 0.06369237 0.10147846]\n",
      "[0.0121021  0.02414473 0.04571649 ... 0.00434594 0.00995948 0.00115035]\n",
      "[0.00266343 0.0220206  0.01239241 ... 0.0010469  0.01292477 0.00111284]\n",
      "[0.02153715 0.02440264 0.03479263 ... 0.00802581 0.02514113 0.00226579]\n",
      "[0.00042278 0.05191496 0.01504857 ... 0.00133062 0.00622663 0.00475256]\n",
      "[0.03498594 0.03602794 0.05576854 ... 0.0136844  0.07201507 0.01587131]\n",
      "[0.00731998 0.01052506 0.01361053 ... 0.00890361 0.10897988 0.0200869 ]\n",
      "[0.01044418 0.01549621 0.01449914 ... 0.00492596 0.01494955 0.01454805]\n",
      "[0.02222269 0.06791538 0.0399923  ... 0.00916717 0.04053175 0.02029347]\n",
      "[0.00508397 0.01588985 0.00306335 ... 0.00299675 0.00233592 0.00038794]\n",
      "[0.00363804 0.14727397 0.04406156 ... 0.02530139 0.03147949 0.00764075]\n",
      "[0.03123006 0.05738831 0.06034588 ... 0.0246767  0.07576901 0.04416967]\n",
      "[0.003168   0.02480485 0.01407744 ... 0.00853414 0.00754616 0.00861316]\n",
      "[0.00744214 0.0186708  0.0117937  ... 0.0036824  0.09284408 0.00052037]\n",
      "[0.03848667 0.05793628 0.1198962  ... 0.03660682 0.09038007 0.02121605]\n",
      "[0.00202331 0.00874574 0.0166207  ... 0.04282637 0.02676974 0.0187242 ]\n",
      "[0.01097478 0.02632823 0.01090892 ... 0.00286137 0.01187438 0.00267869]\n",
      "[0.00974642 0.04540231 0.01929696 ... 0.01067759 0.2529774  0.00556293]\n",
      "[0.00670441 0.0428287  0.06834269 ... 0.01222052 0.0235572  0.01245211]\n",
      "[0.01742258 0.0338367  0.06459479 ... 0.0152051  0.03915687 0.02291598]\n",
      "[0.00913249 0.02137151 0.05957594 ... 0.00479732 0.01610305 0.00230361]\n",
      "[0.01455968 0.00768451 0.05583624 ... 0.1461633  0.37151936 0.00104301]\n",
      "[0.00755782 0.02287652 0.02100428 ... 0.00312141 0.02668375 0.00490655]\n",
      "[0.00998488 0.00601603 0.01169498 ... 0.00086365 0.04944175 0.00204725]\n",
      "[0.00413955 0.02206622 0.02026897 ... 0.03309801 0.03062813 0.02349894]\n",
      "[0.00546267 0.0417203  0.02025392 ... 0.02623066 0.03274075 0.00346552]\n",
      "[0.00973169 0.01080103 0.04126158 ... 0.00265498 0.09134346 0.05296842]\n",
      "[0.02858322 0.05973125 0.22088368 ... 0.01889664 0.07010997 0.01378125]\n",
      "[0.00513846 0.01167027 0.01668626 ... 0.00115369 0.05292823 0.00630273]\n",
      "[0.00969833 0.00800774 0.01194325 ... 0.0257485  0.03951487 0.11196248]\n",
      "[0.00230821 0.03011177 0.02894187 ... 0.04109151 0.02974471 0.07005008]\n",
      "[0.01051737 0.00865891 0.01266752 ... 0.06077959 0.01379368 0.0169127 ]\n",
      "[0.01558957 0.26136816 0.06659354 ... 0.0055936  0.03995804 0.01112939]\n",
      "[0.01176872 0.00751833 0.02444798 ... 0.00472083 0.01550681 0.00772284]\n",
      "[0.02031679 0.02373056 0.03917911 ... 0.05557061 0.2285948  0.01844031]\n",
      "[0.00559939 0.02335795 0.39085832 ... 0.00302334 0.07178278 0.0120081 ]\n",
      "[0.00812497 0.0174781  0.0582791  ... 0.00077948 0.01366237 0.00405173]\n",
      "[0.00461118 0.02265501 0.12154989 ... 0.00164562 0.07811399 0.00611759]\n",
      "[0.00443746 0.01223765 0.03102554 ... 0.0102477  0.02277711 0.02101237]\n",
      "[0.01351937 0.02956143 0.02498942 ... 0.00388631 0.01753255 0.00497359]\n",
      "[0.01635183 0.05617602 0.39692527 ... 0.01583559 0.06275621 0.01617109]\n",
      "[0.00460523 0.0070163  0.02121166 ... 0.01596222 0.04792907 0.00249051]\n",
      "[0.00642493 0.02624597 0.01599862 ... 0.00158267 0.00514807 0.03281553]\n",
      "[0.00758642 0.03025694 0.03740048 ... 0.01296691 0.02055276 0.01161427]\n",
      "[0.00684255 0.01397315 0.00900949 ... 0.00427207 0.00882977 0.0278591 ]\n",
      "[0.00833502 0.03045487 0.03444587 ... 0.00587009 0.02879488 0.01048457]\n",
      "[0.00157957 0.00727524 0.00898129 ... 0.06025946 0.06194958 0.00215587]\n",
      "[0.00676672 0.06589504 0.23285973 ... 0.00682229 0.02718733 0.00841939]\n",
      "[0.01047776 0.01768058 0.01954525 ... 0.02475826 0.02955175 0.02017638]\n",
      "[0.00315403 0.00740909 0.01124785 ... 0.0416881  0.0264611  0.00858011]\n",
      "[0.0098896  0.01051396 0.02984708 ... 0.0070482  0.06811304 0.06328761]\n",
      "[0.00124975 0.01600421 0.10900515 ... 0.00243868 0.03931383 0.00639601]\n",
      "[0.00557821 0.00686109 0.01324137 ... 0.00017793 0.00828979 0.0016306 ]\n",
      "[0.00922833 0.01745214 0.02624018 ... 0.00472959 0.02772331 0.00758004]\n",
      "[0.00229261 0.00593417 0.02172793 ... 0.00878007 0.02480975 0.06407936]\n",
      "[0.00983124 0.01866362 0.02950519 ... 0.00442692 0.0449253  0.00128111]\n",
      "[0.00441171 0.04824489 0.01987484 ... 0.01393482 0.01395765 0.0341903 ]\n",
      "[0.0013044  0.00331955 0.00516699 ... 0.00191465 0.0106176  0.00478614]\n",
      "[0.01760321 0.06252883 0.10038677 ... 0.02128522 0.05525531 0.02494295]\n",
      "[0.00458064 0.04623472 0.02163691 ... 0.00741978 0.01343916 0.00388722]\n",
      "[0.00107276 0.01002851 0.0163949  ... 0.0045754  0.01855898 0.0057208 ]\n",
      "[0.         0.         0.10678226 ... 0.         0.00487517 0.        ]\n",
      "[0.0367819  0.02222399 0.02534209 ... 0.01131643 0.09057248 0.00475314]\n",
      "[0.0013401  0.00690865 0.00899864 ... 0.06177194 0.06479838 0.00182903]\n",
      "[0.01948316 0.03338391 0.01635853 ... 0.00951208 0.02778934 0.00455383]\n",
      "[0.00253052 0.02143035 0.01814166 ... 0.         0.0028491  0.02002571]\n",
      "[0.01298551 0.04319432 0.2770525  ... 0.00692074 0.02253706 0.00985323]\n",
      "[0.00414064 0.04064456 0.10094254 ... 0.00741674 0.01959351 0.00383727]\n",
      "[0.02040831 0.05755254 0.07124916 ... 0.05731749 0.0681546  0.03183789]\n",
      "[0.0036298  0.03029253 0.02967878 ... 0.01072826 0.01267265 0.00537786]\n",
      "[0.00480921 0.02182583 0.0871997  ... 0.00751152 0.01306693 0.00767579]\n",
      "[0.00061652 0.01953161 0.01370678 ... 0.0020625  0.00498369 0.00102108]\n",
      "[0.00992757 0.01120525 0.0155555  ... 0.00863235 0.0273452  0.01336649]\n",
      "[0.00703919 0.01241944 0.01850365 ... 0.00667874 0.0294684  0.00189891]\n",
      "[0.00565084 0.00557052 0.03774029 ... 0.00297457 0.08470497 0.00324879]\n",
      "[0.00936259 0.01156485 0.0265081  ... 0.00220485 0.02578264 0.00614335]\n",
      "[0.04539524 0.0562127  0.08353008 ... 0.02686515 0.03212505 0.03498049]\n",
      "[0.00738449 0.00671162 0.02777806 ... 0.02535314 0.03137821 0.0020065 ]\n",
      "[0.00623582 0.01687985 0.01290059 ... 0.00030783 0.00315126 0.00262389]\n",
      "[0.00240633 0.00154125 0.02021607 ... 0.00434759 0.01463604 0.01088216]\n",
      "[0.01005738 0.0328091  0.0343151  ... 0.00420946 0.0255303  0.00273012]\n",
      "[0.00220561 0.00430084 0.02728198 ... 0.29678    0.06321466 0.36643767]\n",
      "[0.01007331 0.03756851 0.05547095 ... 0.01670661 0.03292407 0.01156374]\n",
      "[0.02884376 0.03248191 0.04549673 ... 0.11714329 0.47593278 0.01187161]\n",
      "[0.01567295 0.02178463 0.01783384 ... 0.00624895 0.03044921 0.00431753]\n",
      "[0.02260756 0.04757988 0.22549964 ... 0.00900216 0.0716322  0.03570085]\n",
      "[0.00508291 0.03456404 0.01345396 ... 0.00910177 0.06420974 0.01120061]\n",
      "[0.00178188 0.0054662  0.03549334 ... 0.0097975  0.08186579 0.0026801 ]\n",
      "[0.00220005 0.01575618 0.01268977 ... 0.00294132 0.02893869 0.00421614]\n",
      "[0.00645426 0.0230426  0.0156078  ... 0.01087997 0.01135918 0.00706958]\n",
      "[0.0012763  0.02049869 0.02467721 ... 0.00829326 0.01669251 0.05015206]\n",
      "[0.00217481 0.07238857 0.16937    ... 0.00463926 0.01478283 0.00412295]\n",
      "[0.00508555 0.03057392 0.1521773  ... 0.00585855 0.02927468 0.00799372]\n",
      "[0.03845713 0.05466337 0.09749628 ... 0.01894545 0.0818334  0.02909253]\n",
      "[3.0017394e-05 7.7373073e-03 1.0741172e-02 ... 1.8374346e-03 6.3310573e-03\n",
      " 6.9124186e-03]\n",
      "[0.00103407 0.00029737 0.0007635  ... 0.00576178 0.02095092 0.00057935]\n",
      "[0.01017513 0.00404002 0.08877815 ... 0.00362158 0.00626637 0.00072218]\n",
      "[0.01783035 0.01657052 0.02712537 ... 0.04071266 0.03936023 0.04309369]\n",
      "[0.00961258 0.01935166 0.02225066 ... 0.00817039 0.04140935 0.03797046]\n",
      "[0.00768105 0.02759036 0.02317277 ... 0.01161317 0.01081759 0.0033142 ]\n",
      "[0.01897375 0.06395706 0.15413606 ... 0.01767525 0.06968982 0.01378607]\n",
      "[0.01674406 0.05677624 0.09440388 ... 0.01583602 0.05369624 0.01547928]\n",
      "[0.01320727 0.03674709 0.11110351 ... 0.01872228 0.0213689  0.00594129]\n",
      "[0.01919424 0.00485317 0.00808012 ... 0.00371648 0.05010441 0.00516074]\n",
      "[0.0103439  0.0820932  0.01522441 ... 0.03893213 0.040369   0.00243966]\n",
      "[0.01094547 0.0051744  0.01159926 ... 0.00923076 0.01853995 0.06772406]\n",
      "[0.00185333 0.0029418  0.00417587 ... 0.00980918 0.00723654 0.00870687]\n",
      "[0.00842062 0.00642833 0.00973119 ... 0.00208074 0.01699401 0.01117135]\n",
      "[0.00359808 0.01909224 0.06202912 ... 0.00572197 0.00811315 0.00214635]\n",
      "[0.0043464  0.00149724 0.00543779 ... 0.00242227 0.01253667 0.00044949]\n",
      "[0.03640886 0.06056035 0.11922249 ... 0.02434766 0.09289741 0.02452517]\n",
      "[0.01769888 0.05165527 0.01572753 ... 0.1311715  0.02688371 0.02055931]\n",
      "[0.01424002 0.03518317 0.05507698 ... 0.00782165 0.02124272 0.00570382]\n",
      "[0.01571477 0.0780398  0.19433998 ... 0.01522939 0.05498432 0.02464096]\n",
      "[0.01504424 0.03171375 0.10146159 ... 0.05902185 0.03268769 0.00416626]\n",
      "[0.05880961 0.08500025 0.04891307 ... 0.00779447 0.04920142 0.02328165]\n",
      "[0.00611791 0.01029721 0.01845695 ... 0.12603964 0.25933865 0.09273215]\n",
      "[0.01095252 0.04272398 0.29567128 ... 0.0145202  0.02669869 0.00579738]\n",
      "[0.01614519 0.04131271 0.08851314 ... 0.01858422 0.04333707 0.00126711]\n",
      "[0.00587988 0.01172591 0.02514861 ... 0.00554735 0.01029537 0.01131289]\n",
      "[0.00816064 0.01826679 0.01633894 ... 0.00889325 0.02057165 0.0117562 ]\n",
      "[0.00879971 0.02869085 0.02003707 ... 0.00465503 0.05771053 0.3456098 ]\n",
      "[0.00795291 0.07576637 0.01924163 ... 0.00996727 0.07199599 0.01669141]\n",
      "[0.00916724 0.04952514 0.03999394 ... 0.164101   0.05052906 0.00940893]\n",
      "[0.00175419 0.02669039 0.10292328 ... 0.00634373 0.00766569 0.00226834]\n",
      "[0.00447305 0.01062299 0.01159566 ... 0.01089345 0.01209955 0.01574074]\n",
      "[0.00681574 0.01640073 0.01010165 ... 0.00694562 0.01050954 0.00706383]\n",
      "[0.01676679 0.02115951 0.01430941 ... 0.13891326 0.03468554 0.01605953]\n",
      "[0.00751083 0.02925362 0.0275989  ... 0.00868242 0.02653487 0.00844483]\n",
      "[0.00905954 0.00556548 0.00960118 ... 0.02145096 0.02868179 0.00463297]\n",
      "[0.00552799 0.09135787 0.06198768 ... 0.00241047 0.01724868 0.00260639]\n",
      "[0.00253087 0.01693426 0.01822109 ... 0.01532549 0.0280422  0.0032306 ]\n",
      "[0.03920316 0.05478701 0.09698649 ... 0.01969161 0.08493546 0.02933024]\n",
      "[0.00878941 0.01701083 0.0114922  ... 0.00703537 0.24099469 0.00359082]\n",
      "[0.02272147 0.00621107 0.01871561 ... 0.00558332 0.01929932 0.00111907]\n",
      "[0.03667178 0.05562212 0.12134426 ... 0.02246261 0.08002742 0.03004076]\n",
      "[0.00326288 0.02763252 0.02339206 ... 0.         0.00367366 0.02582137]\n",
      "[0.0041045  0.01681004 0.1629489  ... 0.00647096 0.01107556 0.00637356]\n",
      "[0.02158598 0.04489116 0.07604418 ... 0.05612234 0.03959423 0.02097466]\n",
      "[0.00665185 0.03769805 0.05022068 ... 0.00945001 0.02321438 0.00678032]\n",
      "[0.00420272 0.01309546 0.01709216 ... 0.00299548 0.02779126 0.00350941]\n",
      "[0.00335476 0.01219751 0.00740933 ... 0.         0.00081843 0.00529398]\n",
      "[0.08019374 0.02417344 0.03945433 ... 0.04816278 0.26421326 0.01261536]\n",
      "[0.00655007 0.01943593 0.02103411 ... 0.02336805 0.01757538 0.01684503]\n",
      "[0.01688993 0.06174848 0.10927511 ... 0.01644668 0.07098609 0.01316493]\n",
      "[0.01685494 0.05534226 0.10398035 ... 0.01313688 0.09249568 0.01437513]\n",
      "[0.01206195 0.02378677 0.02379469 ... 0.00413655 0.04957638 0.00709329]\n",
      "[0.00964733 0.01198782 0.01425915 ... 0.05983752 0.05238336 0.00128198]\n",
      "[0.01909109 0.03955442 0.04791341 ... 0.00905034 0.03733599 0.01021937]\n",
      "[0.01096544 0.02215013 0.08514292 ... 0.01649714 0.0429325  0.00513907]\n",
      "[0.00796552 0.05658263 0.02721476 ... 0.00689772 0.01357397 0.00162665]\n",
      "[0.00882037 0.01498961 0.02243099 ... 0.03242021 0.04150306 0.04613231]\n",
      "[0.03185047 0.01532446 0.09144745 ... 0.0085758  0.15686378 0.01122024]\n",
      "[0.00876687 0.06547302 0.04337619 ... 0.00886865 0.05284368 0.00756153]\n",
      "[0.00121814 0.00428773 0.00726402 ... 0.00428799 0.01110375 0.00439592]\n",
      "[0.01324934 0.03783949 0.13153903 ... 0.00681382 0.0451612  0.00970634]\n",
      "[0.01663077 0.05848775 0.13621649 ... 0.01301103 0.0629393  0.01445168]\n",
      "[0.00266461 0.00729372 0.01382919 ... 0.00294704 0.01062044 0.00840343]\n",
      "[0.01887777 0.04349237 0.01240921 ... 0.00213539 0.01825802 0.00051812]\n",
      "[0.00430547 0.01182674 0.04271886 ... 0.00879738 0.00717585 0.00142467]\n",
      "[0.0258047  0.00727532 0.03176161 ... 0.02727377 0.04992654 0.23927277]\n",
      "[0.00859634 0.01410109 0.03541413 ... 0.01167709 0.02694595 0.00874059]\n",
      "[0.03084918 0.04936542 0.15724243 ... 0.01729115 0.06849063 0.01333677]\n",
      "[0.03893816 0.05610267 0.09609756 ... 0.02055118 0.08193026 0.02943621]\n",
      "[0.00409777 0.02311094 0.04807865 ... 0.01188066 0.06309844 0.00247485]\n",
      "[0.00820006 0.01564179 0.01510933 ... 0.11355534 0.28741536 0.00313772]\n",
      "[0.03217191 0.06580957 0.19906232 ... 0.01870647 0.07077396 0.01919899]\n",
      "[0.00679241 0.03664969 0.42503557 ... 0.00889996 0.05526083 0.00448822]\n",
      "[0.0049699  0.05549099 0.02096713 ... 0.01031138 0.01952599 0.03503403]\n",
      "[0.0030138  0.0086237  0.01030595 ... 0.0123068  0.01978646 0.00619491]\n",
      "[0.00861511 0.01154695 0.03052272 ... 0.04362374 0.10194313 0.04036637]\n",
      "[0.00793355 0.04583406 0.03222929 ... 0.0055827  0.02269373 0.02350214]\n",
      "[0.00194133 0.00334485 0.01034529 ... 0.00756469 0.02103742 0.0008035 ]\n",
      "[0.01594028 0.07513011 0.15563297 ... 0.01760574 0.06755974 0.01160088]\n",
      "[0.01775716 0.02116603 0.11155766 ... 0.00603389 0.0395656  0.00651361]\n",
      "[0.00187134 0.01180996 0.01445121 ... 0.00883649 0.01751513 0.00212872]\n",
      "[0.0041792  0.00883493 0.02236474 ... 0.02031029 0.10507801 0.09191746]\n",
      "[0.01418691 0.04046727 0.02430855 ... 0.01766282 0.03387292 0.07748739]\n",
      "[0.00938236 0.01399577 0.0277381  ... 0.05125205 0.12243447 0.08727704]\n",
      "[0.00863194 0.03326331 0.04559724 ... 0.01025295 0.02362345 0.03368127]\n",
      "[0.01584845 0.02944744 0.03409806 ... 0.00722486 0.03276856 0.00524591]\n",
      "[0.01150264 0.0600294  0.01252557 ... 0.00779819 0.02273956 0.00904611]\n",
      "[0.01503795 0.02565197 0.02755114 ... 0.00572079 0.0795759  0.01557158]\n",
      "[0.00812922 0.01170601 0.03474214 ... 0.02079122 0.03915606 0.00783474]\n",
      "[0.00978647 0.03628957 0.04148739 ... 0.00588994 0.03427486 0.01223856]\n",
      "[0.00358538 0.00570582 0.02529866 ... 0.0083133  0.02969956 0.00564508]\n",
      "[0.00563961 0.02387938 0.19740495 ... 0.00445116 0.01694794 0.02729361]\n",
      "[0.00974939 0.03239793 0.00838377 ... 0.00725089 0.02895977 0.00235938]\n",
      "[0.00010341 0.00335027 0.00301619 ... 0.05562564 0.06549291 0.        ]\n",
      "[0.02093111 0.03258935 0.02481982 ... 0.00726636 0.02685373 0.00164534]\n",
      "[0.00463602 0.00477334 0.00205507 ... 0.00506872 0.00921208 0.00280299]\n",
      "[0.00441312 0.01614294 0.05282851 ... 0.00524801 0.01679492 0.004888  ]\n",
      "[0.01503161 0.00779767 0.01310477 ... 0.00202979 0.03253547 0.02580542]\n",
      "[0.02573967 0.03040403 0.03380652 ... 0.01591681 0.02313763 0.00950126]\n",
      "[0.00991219 0.00897676 0.01645503 ... 0.00251601 0.0425781  0.02825619]\n",
      "[0.01694857 0.06111665 0.18636137 ... 0.0145223  0.08036233 0.016532  ]\n",
      "[0.00047636 0.00271967 0.00345761 ... 0.001794   0.00643068 0.00032548]\n",
      "[0.01033864 0.00609808 0.01677977 ... 0.02931733 0.06319141 0.0058973 ]\n",
      "[0.01473245 0.01500611 0.02311362 ... 0.01394316 0.0410703  0.03090923]\n",
      "[0.00625313 0.00957993 0.01531917 ... 0.02238577 0.04693737 0.01094035]\n",
      "[0.01182121 0.02124764 0.01576601 ... 0.00992018 0.0173145  0.01294026]\n",
      "[0.00737772 0.01893823 0.02025594 ... 0.02241278 0.03263894 0.01057412]\n",
      "[0.0081389  0.0197576  0.01986537 ... 0.01578696 0.01379763 0.00431988]\n",
      "[0.01003946 0.00561054 0.01532082 ... 0.16285679 0.5275787  0.00312711]\n",
      "[0.01259006 0.03345859 0.03096006 ... 0.02023167 0.02521241 0.01633001]\n",
      "[0.0043927  0.01677097 0.01386275 ... 0.00140693 0.01536511 0.00266729]\n",
      "[0.02195905 0.0209116  0.07712951 ... 0.0423441  0.0512105  0.0250841 ]\n",
      "[0.02356851 0.00825577 0.01201677 ... 0.04963342 0.10369882 0.02277364]\n",
      "[0.00713389 0.04864652 0.29778743 ... 0.01104165 0.05973131 0.02181393]\n",
      "[0.0068186  0.0056996  0.01623498 ... 0.05211403 0.07312119 0.00260223]\n",
      "[0.01161526 0.01337935 0.0140322  ... 0.06198371 0.05492709 0.00323038]\n",
      "[0.01825254 0.02565517 0.0321123  ... 0.03642754 0.05491531 0.00895096]\n",
      "[0.00471329 0.02294033 0.0281345  ... 0.00215569 0.06249072 0.01348722]\n",
      "[0.0034503  0.01198626 0.01956148 ... 0.03892014 0.00972554 0.00074127]\n",
      "[0.00807452 0.02742445 0.01088899 ... 0.00429072 0.01739373 0.00926126]\n",
      "[0.0391692  0.05413271 0.09668437 ... 0.01966175 0.08558236 0.02810372]\n",
      "[0.00163494 0.01107064 0.15684491 ... 0.00288551 0.01649901 0.00635856]\n",
      "[0.00659099 0.00610697 0.03450154 ... 0.00260204 0.02657599 0.00060698]\n",
      "[0.0206985  0.01752707 0.01890754 ... 0.01426821 0.5505991  0.01389418]\n",
      "[0.00447014 0.00851752 0.0213506  ... 0.05047038 0.03560843 0.32459083]\n",
      "[0.00496702 0.03265822 0.12945849 ... 0.00398103 0.02740258 0.00458841]\n",
      "[0.01115518 0.01813921 0.02309839 ... 0.01267979 0.02989677 0.00624924]\n",
      "[0.00777994 0.01242684 0.02965509 ... 0.00094164 0.01771226 0.00552585]\n",
      "[0.00344456 0.02536867 0.13750973 ... 0.00334815 0.00991056 0.00017901]\n",
      "[8.3468614e-05 5.1604951e-04 2.2124771e-02 ... 1.5564736e-03 3.4207741e-03\n",
      " 3.0596813e-04]\n",
      "[0.0065751  0.05209055 0.2685621  ... 0.0111508  0.03167249 0.01976804]\n",
      "[0.00484453 0.04646157 0.01754655 ... 0.01172536 0.02124055 0.00673711]\n",
      "[0.00533047 0.0050442  0.01474432 ... 0.01010714 0.01187996 0.00912715]\n",
      "[0.01043663 0.00635962 0.01896482 ... 0.01392916 0.02331888 0.01516398]\n",
      "[0.01028335 0.00890013 0.01412321 ... 0.01169461 0.02936372 0.01025223]\n",
      "[0.01084513 0.03017579 0.03171062 ... 0.00946018 0.07887913 0.00694939]\n",
      "[0.00753951 0.02639443 0.04961462 ... 0.00684575 0.01760436 0.00361379]\n",
      "[0.00281802 0.01267403 0.02062241 ... 0.0116606  0.0177382  0.00720951]\n",
      "[0.00794267 0.00576242 0.0121309  ... 0.01674379 0.04941289 0.5198548 ]\n",
      "[0.01608403 0.02359605 0.02889488 ... 0.00719932 0.03390961 0.01001833]\n",
      "[0.01269638 0.00811409 0.00432607 ... 0.00208044 0.02288713 0.00041375]\n",
      "[0.03148825 0.04890816 0.15499848 ... 0.01882477 0.07301441 0.02132853]\n",
      "[0.00225537 0.01141072 0.0188928  ... 0.00409422 0.01701097 0.00757419]\n",
      "[0.00512459 0.00752857 0.05357857 ... 0.00109037 0.01978709 0.03315866]\n",
      "[0.01849196 0.02496909 0.02757438 ... 0.04094388 0.04204121 0.05625778]\n",
      "[0.00106678 0.00418774 0.00720961 ... 0.00209218 0.00769773 0.00473626]\n",
      "[0.01307167 0.03518705 0.02307559 ... 0.01144394 0.01989543 0.00436185]\n",
      "[0.03546856 0.04649224 0.05204409 ... 0.014161   0.06787927 0.00630072]\n",
      "[0.00588574 0.00271568 0.01244313 ... 0.0055032  0.0153895  0.00244977]\n",
      "[0.00160718 0.01862925 0.01796267 ... 0.00605494 0.01241437 0.00755674]\n",
      "[0.01693019 0.05696531 0.10271035 ... 0.01313237 0.06077688 0.01360095]\n",
      "[0.01656988 0.00867309 0.01922319 ... 0.00660394 0.01408049 0.02154698]\n",
      "[0.0101396  0.05441912 0.12934029 ... 0.00707646 0.01992442 0.01485789]\n",
      "[0.00231312 0.00741908 0.00864177 ... 0.0068523  0.01121015 0.00095071]\n",
      "[0.03157562 0.04811236 0.15074854 ... 0.01822539 0.07105728 0.01370896]\n",
      "[0.0074281  0.00807834 0.03116197 ... 0.00248475 0.00557241 0.00442943]\n",
      "[0.01179339 0.01238168 0.01489806 ... 0.00533979 0.02669181 0.0068177 ]\n",
      "[0.00034751 0.01467692 0.00922318 ... 0.00296151 0.0016409  0.00041851]\n",
      "[0.00364133 0.02552771 0.10115502 ... 0.03173239 0.02172172 0.00838611]\n",
      "[0.0101748  0.02560735 0.05751514 ... 0.0457833  0.05202639 0.00359772]\n",
      "[0.00626363 0.00632551 0.01739993 ... 0.0120095  0.01452757 0.01192313]\n",
      "[0.00244788 0.03257224 0.03198732 ... 0.00291262 0.01482901 0.00328053]\n",
      "[0.01074164 0.01740694 0.02807692 ... 0.00791247 0.03147535 0.00668536]\n",
      "[0.0093445  0.00846067 0.06052647 ... 0.00672385 0.04006833 0.00152087]\n",
      "[0.00821493 0.02130743 0.05398806 ... 0.00686365 0.02968025 0.0026872 ]\n",
      "[0.01506939 0.07188317 0.0917163  ... 0.0093394  0.01932496 0.00942321]\n",
      "[0.01768187 0.06926681 0.19130026 ... 0.01494025 0.05887075 0.02364687]\n",
      "[0.00900245 0.00598494 0.03967929 ... 0.00491806 0.02179947 0.04030636]\n",
      "[0.00098438 0.02077536 0.03179292 ... 0.00338031 0.02076467 0.04472289]\n",
      "[0.00842517 0.02576711 0.02813886 ... 0.02472296 0.02805765 0.00318289]\n",
      "[0.00507977 0.02354764 0.01665654 ... 0.02565019 0.09269623 0.02075275]\n",
      "[0.01603155 0.06851628 0.06737438 ... 0.00785683 0.01853399 0.00843858]\n",
      "[0.00433852 0.05858363 0.27800298 ... 0.01022233 0.03366321 0.00783098]\n",
      "[0.00385661 0.00713607 0.06101799 ... 0.01877785 0.03090253 0.02033124]\n",
      "[0.00854954 0.01652179 0.00958843 ... 0.01117391 0.09232325 0.01093464]\n",
      "[0.00280703 0.01178486 0.01257002 ... 0.05053826 0.02738205 0.00249265]\n",
      "[0.01117021 0.01462733 0.02085507 ... 0.08935441 0.09642845 0.00670732]\n",
      "[0.01329826 0.01923625 0.07237899 ... 0.02223443 0.04528722 0.00340953]\n",
      "[0.00794979 0.03960235 0.04738611 ... 0.02561818 0.02783232 0.02229296]\n",
      "[0.01881225 0.06434733 0.05543407 ... 0.04861521 0.04030007 0.03454515]\n",
      "[0.00570383 0.02651508 0.1303591  ... 0.00730546 0.0103555  0.00286613]\n",
      "[0.00826443 0.02145759 0.0957761  ... 0.00319098 0.0225623  0.0254053 ]\n",
      "[0.00529049 0.0371467  0.0147089  ... 0.00711194 0.2982881  0.01043295]\n",
      "[9.1078960e-05 4.1789343e-03 6.2968805e-03 ... 2.0444601e-04 1.8264731e-02\n",
      " 6.1444780e-03]\n",
      "[0.00597098 0.01181723 0.01196473 ... 0.01406767 0.01625988 0.00612078]\n",
      "[0.00448193 0.01473001 0.151348   ... 0.01966887 0.02680071 0.00604835]\n",
      "[0.0443124  0.07362776 0.07028961 ... 0.01900278 0.15938354 0.0298706 ]\n",
      "[0.00309114 0.00744033 0.02882205 ... 0.00818256 0.00908281 0.0048945 ]\n",
      "[0.00531515 0.00139711 0.0014488  ... 0.00023664 0.00550097 0.01255289]\n",
      "[0.02371682 0.02987555 0.0378525  ... 0.04715959 0.06579836 0.01343585]\n",
      "[0.00050903 0.00493474 0.00872079 ... 0.03923782 0.0071512  0.02154198]\n",
      "[0.00278368 0.02357432 0.00735653 ... 0.         0.00313414 0.02202915]\n",
      "[0.01002185 0.00613746 0.01202021 ... 0.00096247 0.02486739 0.00437986]\n",
      "[0.01125    0.00985607 0.01506976 ... 0.00760194 0.04479369 0.01054301]\n",
      "[0.01633756 0.05819539 0.0988159  ... 0.01829337 0.05604287 0.01228721]\n",
      "[0.00168504 0.01632538 0.02988351 ... 0.01058254 0.01918416 0.00664081]\n",
      "[0.00598929 0.0086667  0.0221471  ... 0.0180404  0.0090801  0.0302778 ]\n",
      "[0.00818007 0.04639382 0.32127964 ... 0.00777419 0.02858055 0.01598222]\n",
      "[0.00254316 0.00788812 0.02557507 ... 0.00232545 0.02570438 0.00544269]\n",
      "[0.00253136 0.01383589 0.02233897 ... 0.00377489 0.02653807 0.01977084]\n",
      "[0.01835984 0.06292512 0.03620072 ... 0.00672016 0.03480727 0.01700811]\n",
      "[0.00734    0.01864291 0.11337744 ... 0.007916   0.0277755  0.00243565]\n",
      "[0.00595491 0.00495516 0.0149918  ... 0.02074953 0.01672014 0.00121283]\n",
      "[0.00738212 0.0228686  0.03202969 ... 0.01233088 0.07085183 0.05864281]\n",
      "[0.01710249 0.06225392 0.26419634 ... 0.01552076 0.05965638 0.01207359]\n",
      "[0.02163956 0.00774846 0.00913589 ... 0.00140695 0.04128728 0.00297879]\n",
      "[0.00031208 0.00313806 0.02695712 ... 0.00189662 0.26854655 0.00659852]\n",
      "[0.01061919 0.02267199 0.16650118 ... 0.02178479 0.02707589 0.00808482]\n",
      "[0.04598144 0.03203554 0.02631246 ... 0.00859833 0.02046604 0.00213021]\n",
      "[0.01770048 0.02872579 0.02722862 ... 0.00581065 0.10666599 0.01663176]\n",
      "[0.00281461 0.03704682 0.07446419 ... 0.04265339 0.04112905 0.00268984]\n",
      "[0.01067539 0.03411344 0.03636932 ... 0.02053313 0.01791743 0.01112588]\n",
      "[0.02182522 0.03942327 0.14251404 ... 0.00777683 0.02945639 0.0112058 ]\n",
      "[0.00835632 0.01784739 0.02403923 ... 0.00640574 0.0122414  0.00409896]\n",
      "[0.00315778 0.01790046 0.01715517 ... 0.00275133 0.00540788 0.00013543]\n",
      "[0.01418531 0.02755601 0.05245314 ... 0.00520743 0.04082621 0.00989458]\n",
      "[0.04007147 0.03399384 0.03327499 ... 0.0030227  0.11199513 0.00839776]\n",
      "[0.01264467 0.0260634  0.02278375 ... 0.1354025  0.13571604 0.0190993 ]\n",
      "[0.00338066 0.01788263 0.01826817 ... 0.00245491 0.02590603 0.00638176]\n",
      "[0.03359964 0.05600639 0.11329991 ... 0.03455367 0.08381385 0.01808236]\n",
      "[0.01589987 0.02353301 0.02960252 ... 0.04861901 0.03300227 0.00510478]\n",
      "[0.00657654 0.01568951 0.02738847 ... 0.00609743 0.04039567 0.00832156]\n",
      "[0.0027298  0.01212562 0.01748833 ... 0.0159527  0.03141299 0.00428749]\n",
      "[0.01733366 0.0588399  0.11769243 ... 0.01408486 0.06317977 0.02138727]\n",
      "[0.00778633 0.02825481 0.04530166 ... 0.00657264 0.0219711  0.03106969]\n",
      "[0.00230622 0.00521987 0.00785676 ... 0.01175303 0.01593576 0.00077134]\n",
      "[0.0150228  0.08306542 0.04892359 ... 0.0246132  0.05080814 0.00834628]\n",
      "[0.00313841 0.01994131 0.0111683  ... 0.01583543 0.02108376 0.0101681 ]\n",
      "[0.00768064 0.008343   0.00699078 ... 0.09119332 0.10773388 0.01948276]\n",
      "[0.00724434 0.03925339 0.13457718 ... 0.00656081 0.01118378 0.01340247]\n",
      "[0.00985184 0.05990347 0.07386352 ... 0.00695462 0.05807196 0.015277  ]\n",
      "[0.00910812 0.01592463 0.18424454 ... 0.00428798 0.01982508 0.00149247]\n",
      "[0.00957636 0.02120906 0.02785384 ... 0.02549101 0.04321924 0.0714411 ]\n",
      "[0.00797147 0.00739162 0.02369852 ... 0.02884292 0.06265616 0.09733801]\n",
      "[0.01299904 0.04722434 0.04772721 ... 0.01538357 0.04191051 0.02222363]\n",
      "[0.00668895 0.02212207 0.0487345  ... 0.01634737 0.02288521 0.00338837]\n",
      "[0.00801056 0.00900108 0.0116041  ... 0.01409603 0.02274694 0.00094088]\n",
      "[0.00148559 0.00785689 0.0130836  ... 0.01425842 0.01307541 0.00298247]\n",
      "[0.01891796 0.00477631 0.02216277 ... 0.03303157 0.06309266 0.0021968 ]\n",
      "[0.01141603 0.02922381 0.03972496 ... 0.01499109 0.02549689 0.00440776]\n",
      "[0.00557837 0.0307334  0.10804571 ... 0.01283135 0.01734935 0.00967292]\n",
      "[0.00960943 0.03316972 0.03498353 ... 0.0158068  0.03492405 0.02614182]\n",
      "[0.0166569  0.01813217 0.01133478 ... 0.00866016 0.03601406 0.02529131]\n",
      "[0.02462223 0.02619543 0.02472386 ... 0.01351724 0.0202223  0.00798169]\n",
      "[0.0051136  0.00600478 0.01366797 ... 0.02126684 0.1122165  0.02154648]\n",
      "[0.00928815 0.0585831  0.01574627 ... 0.07264528 0.02687464 0.01328596]\n",
      "[0.01810695 0.0582727  0.06892638 ... 0.02288187 0.06431951 0.07586559]\n",
      "[0.00264312 0.00691207 0.0043646  ... 0.00228874 0.00557926 0.00029605]\n",
      "[0.00905556 0.04949813 0.03193988 ... 0.00546193 0.02125641 0.00502465]\n",
      "[0.0049594  0.01107985 0.00412995 ... 0.00300048 0.0149555  0.00109548]\n",
      "[0.01005686 0.04982479 0.01925612 ... 0.00351618 0.01663737 0.00306172]\n",
      "[0.0022914  0.00585598 0.03370261 ... 0.00400561 0.01495501 0.00681608]\n",
      "[0.02165048 0.02718192 0.08123229 ... 0.02284656 0.10441703 0.00515844]\n",
      "[0.08430529 0.00890507 0.03190846 ... 0.00603774 0.01503018 0.00239009]\n",
      "[0.0158334  0.06451092 0.06286477 ... 0.0437712  0.0373834  0.01483551]\n",
      "[0.01587904 0.0241217  0.022541   ... 0.00968108 0.04748661 0.16011246]\n",
      "[0.02863258 0.03666396 0.20853242 ... 0.01221834 0.04428228 0.01200061]\n",
      "[0.00458467 0.02753971 0.01795771 ... 0.00942042 0.02761777 0.00088931]\n",
      "[0.0136715  0.01309987 0.02526133 ... 0.04662848 0.01586315 0.00990723]\n",
      "[0.01084798 0.02024415 0.02043734 ... 0.00920154 0.04742619 0.18404801]\n",
      "[0.00823295 0.02380611 0.03864842 ... 0.00871927 0.02180916 0.00829365]\n",
      "[0.00873513 0.05483297 0.31292707 ... 0.01527664 0.02596364 0.01284877]\n",
      "[0.01089189 0.05545362 0.25339574 ... 0.01478485 0.03541082 0.01689176]\n",
      "[0.01053457 0.05268916 0.03102492 ... 0.04024565 0.03878239 0.00835397]\n",
      "[0.06100971 0.03117109 0.0953692  ... 0.0197339  0.05026399 0.01698926]\n",
      "[0.01623341 0.05629957 0.10142799 ... 0.01618366 0.06078862 0.0148293 ]\n",
      "[0.00515869 0.01699177 0.04708549 ... 0.0043434  0.03780631 0.00364186]\n",
      "[0.00271461 0.02746234 0.03875589 ... 0.00942579 0.25174892 0.00479984]\n",
      "[0.00408042 0.03211198 0.23565075 ... 0.00364589 0.01294443 0.00315111]\n",
      "[0.01582009 0.02361613 0.02587524 ... 0.02000961 0.03653762 0.00640973]\n",
      "[0.00976616 0.0379731  0.19796622 ... 0.00237814 0.03647805 0.00247396]\n",
      "[0.00057272 0.00282404 0.00535939 ... 0.00155616 0.01453986 0.00320151]\n",
      "[0.0127014  0.01833917 0.03826388 ... 0.03326008 0.09784143 0.04658896]\n",
      "[0.01666379 0.05220524 0.06765718 ... 0.00372052 0.03159807 0.00123371]\n",
      "[2.0083792e-03 1.1341809e-02 5.4034591e-03 ... 9.9999976e-01 1.6223855e-01\n",
      " 7.5054108e-05]\n",
      "[0.04250559 0.03088375 0.03195567 ... 0.16223855 1.         0.02155257]\n",
      "[1.0352895e-02 6.7270468e-03 1.6747579e-02 ... 7.5054108e-05 2.1552574e-02\n",
      " 1.0000000e+00]\n"
     ]
    }
   ],
   "source": [
    "for sim in index:\n",
    "    print(sim)"
   ],
   "metadata": {
    "collapsed": false,
    "pycharm": {
     "name": "#%%\n"
    }
   }
  },
  {
   "cell_type": "code",
   "execution_count": 170,
   "outputs": [
    {
     "name": "stdout",
     "output_type": "stream",
     "text": [
      "We can pass a TFIDF vector to the index and it will count how close it is to the TFIDF vectors of every topic.\n",
      "For example, we can pass a TFIDF vector of a search query:\n",
      "flutter\n",
      "Frequency vector of the query: []\n",
      "TFIDF vector of the query: []\n",
      "Distance to TFIDF vectors of the first 10 topics: [0. 0. 0. 0. 0. 0. 0. 0. 0. 0.]\n"
     ]
    }
   ],
   "source": [
    "print(\"We can pass a TFIDF vector to the index and it will count how close it is to the TFIDF vectors of every topic.\")\n",
    "print(\"For example, we can pass a TFIDF vector of a search query:\")\n",
    "\n",
    "query = \"flutter\"\n",
    "print(query)\n",
    "\n",
    "q_bow = dictionary.doc2bow(query.split())\n",
    "print(\"Frequency vector of the query:\", q_bow)\n",
    "\n",
    "q_tfidf = tfidf[q_bow]\n",
    "print(\"TFIDF vector of the query:\", q_tfidf)\n",
    "\n",
    "distance = index[q_tfidf]\n",
    "print(\"Distance to TFIDF vectors of the first 10 topics:\", distance[:10])"
   ],
   "metadata": {
    "collapsed": false,
    "pycharm": {
     "name": "#%%\n"
    }
   }
  },
  {
   "cell_type": "code",
   "execution_count": 86,
   "outputs": [
    {
     "data": {
      "text/plain": "899"
     },
     "execution_count": 86,
     "metadata": {},
     "output_type": "execute_result"
    }
   ],
   "source": [
    "numpy.argmax(distance)"
   ],
   "metadata": {
    "collapsed": false,
    "pycharm": {
     "name": "#%%\n"
    }
   }
  },
  {
   "cell_type": "code",
   "execution_count": 87,
   "outputs": [
    {
     "data": {
      "text/plain": "'settings-file-and-code-templates.html'"
     },
     "execution_count": 87,
     "metadata": {},
     "output_type": "execute_result"
    }
   ],
   "source": [
    "topic_names[899]"
   ],
   "metadata": {
    "collapsed": false,
    "pycharm": {
     "name": "#%%\n"
    }
   }
  },
  {
   "cell_type": "code",
   "execution_count": 171,
   "outputs": [
    {
     "name": "stdout",
     "output_type": "stream",
     "text": [
      "0 settings-notifications.html 0.0\n",
      "1 configuring-project-and-ide-settings.html 0.0\n",
      "2 php-built-in-web-server.html 0.0\n",
      "3 work-with-scala-worksheet-and-ammonite.html 0.0\n",
      "4 finding-and-replacing-text-in-project.html 0.0\n",
      "5 using-postfix-templates.html 0.0\n",
      "6 extract-constant-refactoring-dialog.html 0.0\n",
      "7 edit-log-files-aliases-dialog.html 0.0\n",
      "8 run-debug-configuration-attests.html 0.0\n",
      "9 symbols.html 0.0\n"
     ]
    }
   ],
   "source": [
    "for document_number, score in sorted(enumerate(distance), key=lambda x: x[1], reverse=True)[:10]:\n",
    "    print(document_number, topic_names[document_number], score)"
   ],
   "metadata": {
    "collapsed": false,
    "pycharm": {
     "name": "#%%\n"
    }
   }
  },
  {
   "cell_type": "code",
   "execution_count": 90,
   "outputs": [
    {
     "name": "stdout",
     "output_type": "stream",
     "text": [
      "1118 settings-live-templates.html 0.63922334\n",
      "1260 creating-and-editing-live-templates.html 0.6217025\n",
      "348 templates-dialog.html 0.59002995\n",
      "751 templates.html 0.5833273\n",
      "418 save-file-as-template-dialog.html 0.56446\n",
      "1082 saving-project-as-template.html 0.5490642\n",
      "899 settings-file-and-code-templates.html 0.5154492\n",
      "826 structural-search-and-replace-dialogs.html 0.50830114\n",
      "1445 template-data-languages-settings.html 0.4658313\n",
      "494 templates-with-multiple-files.html 0.4638382\n"
     ]
    }
   ],
   "source": [
    "for document_number, score in sorted(enumerate(distance), key=lambda x: x[1], reverse=True)[:10]:\n",
    "    print(document_number, topic_names[document_number], score)"
   ],
   "metadata": {
    "collapsed": false,
    "pycharm": {
     "name": "#%%\n"
    }
   }
  },
  {
   "cell_type": "markdown",
   "source": [
    "# LEMMATIZATION"
   ],
   "metadata": {
    "collapsed": false
   }
  },
  {
   "cell_type": "code",
   "execution_count": 91,
   "outputs": [
    {
     "name": "stdout",
     "output_type": "stream",
     "text": [
      "Lets try to lemmatize our tokens...\n",
      "['notification', 'use', 'page', 'enable', 'disable', 'notification', 'certain', 'event', 'change', 'presentation', 'optionally', 'enable', 'logging', 'item', 'description', 'display', 'balloon', 'notification', 'select', 'checkbox']\n"
     ]
    }
   ],
   "source": [
    "print(\"Lets try to lemmatize our tokens...\")\n",
    "\n",
    "lemmatizer = WordNetLemmatizer()\n",
    "\n",
    "def lem(token):\n",
    "    if token[1].startswith(\"V\"):\n",
    "        lemma = lemmatizer.lemmatize(token[0], wordnet.VERB)\n",
    "    if token[1].startswith(\"J\"):\n",
    "        lemma = lemmatizer.lemmatize(token[0], wordnet.ADJ)\n",
    "    if token[1].startswith(\"R\"):\n",
    "        lemma = lemmatizer.lemmatize(token[0], wordnet.ADV)\n",
    "    else:\n",
    "        lemma = lemmatizer.lemmatize(token[0], wordnet.NOUN)\n",
    "    return lemma\n",
    "\n",
    "all_lemmas = [[lem(token) for token in nltk.pos_tag(doc)] for doc in all_tokens]\n",
    "\n",
    "print(all_lemmas[0][:20])"
   ],
   "metadata": {
    "collapsed": false,
    "pycharm": {
     "name": "#%%\n"
    }
   }
  },
  {
   "cell_type": "code",
   "execution_count": 165,
   "outputs": [
    {
     "data": {
      "text/plain": "'using'"
     },
     "execution_count": 165,
     "metadata": {},
     "output_type": "execute_result"
    }
   ],
   "source": [
    "lemmatizer.lemmatize(\"using\", pos=\"r\")"
   ],
   "metadata": {
    "collapsed": false,
    "pycharm": {
     "name": "#%%\n"
    }
   }
  },
  {
   "cell_type": "code",
   "execution_count": 118,
   "outputs": [
    {
     "data": {
      "text/plain": "[('best', 'RB'), ('better', 'RBR'), ('using', 'VBG')]"
     },
     "execution_count": 118,
     "metadata": {},
     "output_type": "execute_result"
    }
   ],
   "source": [
    "nltk.pos_tag([\"best\", \"better\", \"using\"])"
   ],
   "metadata": {
    "collapsed": false,
    "pycharm": {
     "name": "#%%\n"
    }
   }
  },
  {
   "cell_type": "code",
   "execution_count": 92,
   "outputs": [
    {
     "name": "stdout",
     "output_type": "stream",
     "text": [
      "Counting lemma frequencies...\n",
      "There are 11968 tokens in total.\n",
      "The 10 most frequent are: {'select': 12012, 'file': 11431, 'run': 9497, 'configuration': 7982, 'click': 7630, 'intellij': 7462, 'idea': 7444, 'project': 7151, 'option': 6273, 'open': 5873}\n"
     ]
    }
   ],
   "source": [
    "print(\"Counting lemma frequencies...\")\n",
    "\n",
    "frequency_lemmas = dd(int)\n",
    "\n",
    "for doc in all_lemmas:\n",
    "    for token in doc:\n",
    "        frequency_lemmas[token] += 1\n",
    "\n",
    "print(\"There are\", len(frequency_lemmas), \"tokens in total.\")\n",
    "\n",
    "print(\"The 10 most frequent are:\", dict(sorted(frequency_lemmas.items(), key=lambda item: item[1], reverse=True)[:10]))"
   ],
   "metadata": {
    "collapsed": false,
    "pycharm": {
     "name": "#%%\n"
    }
   }
  },
  {
   "cell_type": "code",
   "execution_count": 93,
   "outputs": [
    {
     "name": "stdout",
     "output_type": "stream",
     "text": [
      "Lets get rid of lemmas that appear only once...\n",
      "Now we have 7528 tokens left.\n",
      "First topic:\n",
      "170\n",
      "['notification', 'use', 'page', 'enable', 'disable', 'notification', 'certain', 'event', 'change', 'presentation', 'optionally', 'enable', 'logging', 'item', 'description', 'display', 'balloon', 'notification', 'select', 'checkbox', 'enable', 'event', 'notification', 'intellij', 'idea', 'notification', 'generally', 'shown', 'balloon', 'appear', 'screen', 'corresponding', 'event', 'take', 'place', 'regardless', 'state', 'option', 'always', 'find', 'notification', 'current', 'session', 'event', 'log', 'enable', 'system', 'notification', 'select', 'checkbox', 'allow', 'showing', 'system', 'notification', 'window', 'may', 'want', 'disable', 'option', 'hide', 'intellij', 'idea', 'icon', 'system', 'tray', 'group', 'column', 'list', 'group', 'event', 'may', 'notified', 'may', 'logged', 'popup', 'display', 'balloon', 'notification', 'checkbox', 'selected', 'setting', 'column', 'specify', 'notification', 'corresponding', 'group', 'event', 'shown', 'available', 'display', 'option', 'balloon', 'balloon', 'notification', 'message', 'appear', 'screen', 'short', 'period', 'time', 'disappear', 'automatically', 'notification', 'also', 'shown', 'status', 'bar', 'added', 'list', 'notification', 'sticky', 'balloon', 'notification', 'balloon', 'stay', 'screen', 'unless', 'close', 'tool', 'window', 'balloon', 'notification', 'balloon', 'shown', 'appropriate', 'tool', 'window', 'open', 'popup', 'notification', 'corresponding', 'group', 'event', 'shown', 'log', 'checkbox', 'group', 'event', 'selected', 'corresponding', 'event', 'logged', 'seen', 'event', 'log', 'tool', 'window', 'read', 'aloud', 'read', 'selected', 'notification', 'read', 'aloud', 'column', 'available', 'macos', 'configure', 'voice', 'setting', 'macos', 'preference', 'learn', 'accessibility', 'feature', 'macos', 'see', 'official', 'apple', 'documentation']\n"
     ]
    }
   ],
   "source": [
    "print(\"Lets get rid of lemmas that appear only once...\")\n",
    "\n",
    "corpus_lemmas = [[token for token in doc if frequency_lemmas[token] > 1] for doc in all_lemmas]\n",
    "\n",
    "unique = set()\n",
    "\n",
    "for doc in corpus_lemmas:\n",
    "    for token in doc:\n",
    "        unique.add(token)\n",
    "\n",
    "print(\"Now we have\", len(unique), \"tokens left.\")\n",
    "\n",
    "print(\"First topic:\")\n",
    "print(len(corpus_lemmas[0]))\n",
    "print(corpus_lemmas[0])"
   ],
   "metadata": {
    "collapsed": false,
    "pycharm": {
     "name": "#%%\n"
    }
   }
  },
  {
   "cell_type": "code",
   "execution_count": 94,
   "outputs": [
    {
     "name": "stdout",
     "output_type": "stream",
     "text": [
      "Lets create a dictionary...\n",
      "Dictionary(7528 unique tokens: ['accessibility', 'added', 'allow', 'aloud', 'also']...)\n"
     ]
    }
   ],
   "source": [
    "print(\"Lets create a dictionary...\")\n",
    "dictionary_lemmas = gensim.corpora.Dictionary(corpus_lemmas)\n",
    "print(dictionary_lemmas)"
   ],
   "metadata": {
    "collapsed": false,
    "pycharm": {
     "name": "#%%\n"
    }
   }
  },
  {
   "cell_type": "code",
   "execution_count": 168,
   "outputs": [
    {
     "ename": "KeyError",
     "evalue": "'flutter'",
     "output_type": "error",
     "traceback": [
      "\u001B[0;31m---------------------------------------------------------------------------\u001B[0m",
      "\u001B[0;31mKeyError\u001B[0m                                  Traceback (most recent call last)",
      "\u001B[0;32m/var/folders/b6/jlv0gzhn72vdj8t4yttnz9cw0000kt/T/ipykernel_98541/1728513799.py\u001B[0m in \u001B[0;36m<module>\u001B[0;34m\u001B[0m\n\u001B[0;32m----> 1\u001B[0;31m \u001B[0mdictionary_lemmas\u001B[0m\u001B[0;34m.\u001B[0m\u001B[0mtoken2id\u001B[0m\u001B[0;34m[\u001B[0m\u001B[0;34m\"flutter\"\u001B[0m\u001B[0;34m]\u001B[0m\u001B[0;34m\u001B[0m\u001B[0;34m\u001B[0m\u001B[0m\n\u001B[0m",
      "\u001B[0;31mKeyError\u001B[0m: 'flutter'"
     ]
    }
   ],
   "source": [
    "dictionary_lemmas.token2id[\"flutter\"]"
   ],
   "metadata": {
    "collapsed": false,
    "pycharm": {
     "name": "#%%\n"
    }
   }
  },
  {
   "cell_type": "code",
   "execution_count": 124,
   "outputs": [
    {
     "name": "stdout",
     "output_type": "stream",
     "text": [
      "Now we can vectorize all topics based on the lemma frequencies...\n"
     ]
    }
   ],
   "source": [
    "print(\"Now we can vectorize all topics based on the lemma frequencies...\")\n",
    "freq_vectors_lemmas = [dictionary_lemmas.doc2bow(doc) for doc in corpus_lemmas]"
   ],
   "metadata": {
    "collapsed": false,
    "pycharm": {
     "name": "#%%\n"
    }
   }
  },
  {
   "cell_type": "code",
   "execution_count": 125,
   "outputs": [
    {
     "name": "stdout",
     "output_type": "stream",
     "text": [
      "Lets train a TFIDF model for lemmatized vectors...\n"
     ]
    }
   ],
   "source": [
    "print(\"Lets train a TFIDF model for lemmatized vectors...\")\n",
    "\n",
    "tfidf_lemmas = gensim.models.TfidfModel(freq_vectors_lemmas)"
   ],
   "metadata": {
    "collapsed": false,
    "pycharm": {
     "name": "#%%\n"
    }
   }
  },
  {
   "cell_type": "code",
   "execution_count": 126,
   "outputs": [
    {
     "name": "stdout",
     "output_type": "stream",
     "text": [
      "Now lets create a search index for the lemmatized TFIDF model...\n",
      "Done!\n"
     ]
    }
   ],
   "source": [
    "print(\"Now lets create a search index for the lemmatized TFIDF model...\")\n",
    "index_lemmas = gensim.similarities.SparseMatrixSimilarity(tfidf_lemmas[freq_vectors_lemmas], num_features=len(dictionary_lemmas))\n",
    "print(\"Done!\")"
   ],
   "metadata": {
    "collapsed": false,
    "pycharm": {
     "name": "#%%\n"
    }
   }
  },
  {
   "cell_type": "code",
   "execution_count": 166,
   "outputs": [
    {
     "name": "stdout",
     "output_type": "stream",
     "text": [
      "We can pass a TFIDF vector to the index and it will count how close it is to the TFIDF vectors of every topic.\n",
      "For example, we can pass a TFIDF vector of a search query:\n",
      "file template\n",
      "Frequency vector of the query: [(120, 1), (540, 1)]\n",
      "TFIDF vector of the query: [(120, 0.1871069791629675), (540, 0.9823395433089868)]\n",
      "Distance to TFIDF vectors of the first 10 topics: [0.         0.00348058 0.00818068 0.00566972 0.0148157  0.30278903\n",
      " 0.         0.01975496 0.02870232 0.01555367]\n"
     ]
    }
   ],
   "source": [
    "print(\"We can pass a TFIDF vector to the index and it will count how close it is to the TFIDF vectors of every topic.\")\n",
    "print(\"For example, we can pass a TFIDF vector of a search query:\")\n",
    "\n",
    "query = \"file template\"\n",
    "print(query)\n",
    "\n",
    "q_bow = dictionary_lemmas.doc2bow([lem(token) for token in nltk.pos_tag(query.split())])\n",
    "print(\"Frequency vector of the query:\", q_bow)\n",
    "\n",
    "q_tfidf = tfidf_lemmas[q_bow]\n",
    "print(\"TFIDF vector of the query:\", q_tfidf)\n",
    "\n",
    "distance = index_lemmas[q_tfidf]\n",
    "print(\"Distance to TFIDF vectors of the first 10 topics:\", distance[:10])"
   ],
   "metadata": {
    "collapsed": false,
    "pycharm": {
     "name": "#%%\n"
    }
   }
  },
  {
   "cell_type": "code",
   "execution_count": 63,
   "outputs": [
    {
     "data": {
      "text/plain": "'template'"
     },
     "execution_count": 63,
     "metadata": {},
     "output_type": "execute_result"
    }
   ],
   "source": [
    "dictionary_lemmas[540]"
   ],
   "metadata": {
    "collapsed": false,
    "pycharm": {
     "name": "#%%\n"
    }
   }
  },
  {
   "cell_type": "code",
   "execution_count": 167,
   "outputs": [
    {
     "name": "stdout",
     "output_type": "stream",
     "text": [
      "899 settings-file-and-code-templates.html 0.8874572\n",
      "418 save-file-as-template-dialog.html 0.7845077\n",
      "1256 using-file-and-code-templates.html 0.76745254\n",
      "1118 settings-live-templates.html 0.72966576\n",
      "348 templates-dialog.html 0.7154784\n",
      "751 templates.html 0.67601347\n",
      "1082 saving-project-as-template.html 0.66522175\n",
      "1260 creating-and-editing-live-templates.html 0.66313416\n",
      "826 structural-search-and-replace-dialogs.html 0.60396296\n",
      "494 templates-with-multiple-files.html 0.5787665\n"
     ]
    }
   ],
   "source": [
    "for document_number, score in sorted(enumerate(distance), key=lambda x: x[1], reverse=True)[:10]:\n",
    "    print(document_number, topic_names[document_number], score)"
   ],
   "metadata": {
    "collapsed": false,
    "pycharm": {
     "name": "#%%\n"
    }
   }
  },
  {
   "cell_type": "code",
   "execution_count": 138,
   "outputs": [
    {
     "name": "stdout",
     "output_type": "stream",
     "text": [
      "0 settings-notifications.html 0.7579207\n",
      "792 event-log-tool-window.html 0.34506154\n",
      "1481 perforce-working-offline.html 0.2000306\n",
      "676 navigating-between-text-and-message-file.html 0.08861907\n",
      "786 authentication-required.html 0.07660091\n",
      "380 database-users-and-roles.html 0.069045775\n",
      "652 compiler.html 0.06755538\n",
      "855 code-with-me-guest-ui-overview.html 0.06311048\n",
      "735 choosing-your-testing-framework.html 0.058963507\n",
      "327 configuring-javascript-debugger.html 0.056894135\n"
     ]
    }
   ],
   "source": [
    "for document_number, score in sorted(enumerate(distance), key=lambda x: x[1], reverse=True)[:10]:\n",
    "    print(document_number, topic_names[document_number], score)"
   ],
   "metadata": {
    "collapsed": false,
    "pycharm": {
     "name": "#%%\n"
    }
   }
  },
  {
   "cell_type": "markdown",
   "source": [
    "# STEMMING"
   ],
   "metadata": {
    "collapsed": false
   }
  },
  {
   "cell_type": "code",
   "execution_count": 139,
   "outputs": [
    {
     "name": "stdout",
     "output_type": "stream",
     "text": [
      "Now lets stem the lemmas...\n",
      "['notif', 'use', 'page', 'enabl', 'disabl', 'notif', 'certain', 'event', 'chang', 'present', 'option', 'enabl', 'log', 'item', 'descript', 'display', 'balloon', 'notif', 'select', 'checkbox']\n"
     ]
    }
   ],
   "source": [
    "print(\"Now lets stem the lemmas...\")\n",
    "\n",
    "stemmer = nltk.stem.porter.PorterStemmer()\n",
    "\n",
    "all_lemmas_stemmed = [[stemmer.stem(lemma) for lemma in doc] for doc in all_lemmas]\n",
    "\n",
    "print(all_lemmas_stemmed[0][:20])"
   ],
   "metadata": {
    "collapsed": false,
    "pycharm": {
     "name": "#%%\n"
    }
   }
  },
  {
   "cell_type": "code",
   "execution_count": 140,
   "outputs": [
    {
     "name": "stdout",
     "output_type": "stream",
     "text": [
      "Counting stemmed lemma frequencies...\n",
      "There are 9863 stemmed tokens in total.\n",
      "The 10 most frequent are: {'select': 16528, 'file': 11434, 'run': 11122, 'configur': 10926, 'use': 8118, 'click': 7881, 'intellij': 7462, 'idea': 7444, 'project': 7154, 'specifi': 6690}\n"
     ]
    }
   ],
   "source": [
    "print(\"Counting stemmed lemma frequencies...\")\n",
    "\n",
    "frequency_lemmas_stemmed = dd(int)\n",
    "\n",
    "for doc in all_lemmas_stemmed:\n",
    "    for token in doc:\n",
    "        frequency_lemmas_stemmed[token] += 1\n",
    "\n",
    "print(\"There are\", len(frequency_lemmas_stemmed), \"stemmed tokens in total.\")\n",
    "\n",
    "print(\"The 10 most frequent are:\", dict(sorted(frequency_lemmas_stemmed.items(), key=lambda item: item[1], reverse=True)[:10]))"
   ],
   "metadata": {
    "collapsed": false,
    "pycharm": {
     "name": "#%%\n"
    }
   }
  },
  {
   "cell_type": "code",
   "execution_count": 141,
   "outputs": [
    {
     "name": "stdout",
     "output_type": "stream",
     "text": [
      "Lets get rid of stemmed lemmas that appear only once...\n",
      "Now we have 5954 tokens left.\n",
      "First topic:\n",
      "170\n",
      "['notif', 'use', 'page', 'enabl', 'disabl', 'notif', 'certain', 'event', 'chang', 'present', 'option', 'enabl', 'log', 'item', 'descript', 'display', 'balloon', 'notif', 'select', 'checkbox', 'enabl', 'event', 'notif', 'intellij', 'idea', 'notif', 'gener', 'shown', 'balloon', 'appear', 'screen', 'correspond', 'event', 'take', 'place', 'regardless', 'state', 'option', 'alway', 'find', 'notif', 'current', 'session', 'event', 'log', 'enabl', 'system', 'notif', 'select', 'checkbox', 'allow', 'show', 'system', 'notif', 'window', 'may', 'want', 'disabl', 'option', 'hide', 'intellij', 'idea', 'icon', 'system', 'tray', 'group', 'column', 'list', 'group', 'event', 'may', 'notifi', 'may', 'log', 'popup', 'display', 'balloon', 'notif', 'checkbox', 'select', 'set', 'column', 'specifi', 'notif', 'correspond', 'group', 'event', 'shown', 'avail', 'display', 'option', 'balloon', 'balloon', 'notif', 'messag', 'appear', 'screen', 'short', 'period', 'time', 'disappear', 'automat', 'notif', 'also', 'shown', 'statu', 'bar', 'ad', 'list', 'notif', 'sticki', 'balloon', 'notif', 'balloon', 'stay', 'screen', 'unless', 'close', 'tool', 'window', 'balloon', 'notif', 'balloon', 'shown', 'appropri', 'tool', 'window', 'open', 'popup', 'notif', 'correspond', 'group', 'event', 'shown', 'log', 'checkbox', 'group', 'event', 'select', 'correspond', 'event', 'log', 'seen', 'event', 'log', 'tool', 'window', 'read', 'aloud', 'read', 'select', 'notif', 'read', 'aloud', 'column', 'avail', 'maco', 'configur', 'voic', 'set', 'maco', 'prefer', 'learn', 'access', 'featur', 'maco', 'see', 'offici', 'appl', 'document']\n"
     ]
    }
   ],
   "source": [
    "print(\"Lets get rid of stemmed lemmas that appear only once...\")\n",
    "\n",
    "corpus_lemmas_stemmed = [[token for token in doc if frequency_lemmas_stemmed[token] > 1] for doc in all_lemmas_stemmed]\n",
    "\n",
    "unique = set()\n",
    "\n",
    "for doc in corpus_lemmas_stemmed:\n",
    "    for token in doc:\n",
    "        unique.add(token)\n",
    "\n",
    "print(\"Now we have\", len(unique), \"tokens left.\")\n",
    "\n",
    "print(\"First topic:\")\n",
    "print(len(corpus_lemmas_stemmed[0]))\n",
    "print(corpus_lemmas_stemmed[0])"
   ],
   "metadata": {
    "collapsed": false,
    "pycharm": {
     "name": "#%%\n"
    }
   }
  },
  {
   "cell_type": "code",
   "execution_count": 142,
   "outputs": [
    {
     "name": "stdout",
     "output_type": "stream",
     "text": [
      "Lets create a dictionary...\n",
      "Dictionary(5954 unique tokens: ['access', 'ad', 'allow', 'aloud', 'also']...)\n"
     ]
    }
   ],
   "source": [
    "print(\"Lets create a dictionary...\")\n",
    "dictionary_lemmas_stemmed = gensim.corpora.Dictionary(corpus_lemmas_stemmed)\n",
    "print(dictionary_lemmas_stemmed)"
   ],
   "metadata": {
    "collapsed": false,
    "pycharm": {
     "name": "#%%\n"
    }
   }
  },
  {
   "cell_type": "code",
   "execution_count": 45,
   "outputs": [
    {
     "data": {
      "text/plain": "43"
     },
     "execution_count": 45,
     "metadata": {},
     "output_type": "execute_result"
    }
   ],
   "source": [
    "dictionary_lemmas_stemmed.token2id[\"notif\"]"
   ],
   "metadata": {
    "collapsed": false,
    "pycharm": {
     "name": "#%%\n"
    }
   }
  },
  {
   "cell_type": "code",
   "execution_count": 156,
   "outputs": [
    {
     "data": {
      "text/plain": "'usag'"
     },
     "execution_count": 156,
     "metadata": {},
     "output_type": "execute_result"
    }
   ],
   "source": [
    "stemmer.stem(\"usage\")"
   ],
   "metadata": {
    "collapsed": false,
    "pycharm": {
     "name": "#%%\n"
    }
   }
  },
  {
   "cell_type": "code",
   "execution_count": 143,
   "outputs": [
    {
     "name": "stdout",
     "output_type": "stream",
     "text": [
      "Now we can vectorize all topics based on the stemmed lemma frequencies...\n"
     ]
    }
   ],
   "source": [
    "print(\"Now we can vectorize all topics based on the stemmed lemma frequencies...\")\n",
    "freq_vectors_lemmas_stemmed = [dictionary_lemmas_stemmed.doc2bow(doc) for doc in corpus_lemmas_stemmed]"
   ],
   "metadata": {
    "collapsed": false,
    "pycharm": {
     "name": "#%%\n"
    }
   }
  },
  {
   "cell_type": "code",
   "execution_count": 144,
   "outputs": [
    {
     "name": "stdout",
     "output_type": "stream",
     "text": [
      "Lets train a TFIDF model for lemmatized and stemmed vectors...\n"
     ]
    }
   ],
   "source": [
    "print(\"Lets train a TFIDF model for lemmatized and stemmed vectors...\")\n",
    "\n",
    "tfidf_lemmas_stemmed = gensim.models.TfidfModel(freq_vectors_lemmas_stemmed)"
   ],
   "metadata": {
    "collapsed": false,
    "pycharm": {
     "name": "#%%\n"
    }
   }
  },
  {
   "cell_type": "code",
   "execution_count": 145,
   "outputs": [
    {
     "name": "stdout",
     "output_type": "stream",
     "text": [
      "Now lets create a search index for the lemmatized and stemmed TFIDF model...\n",
      "Done!\n"
     ]
    }
   ],
   "source": [
    "print(\"Now lets create a search index for the lemmatized and stemmed TFIDF model...\")\n",
    "index_lemmas_stemmed = gensim.similarities.SparseMatrixSimilarity(tfidf_lemmas_stemmed[freq_vectors_lemmas_stemmed], num_features=len(dictionary_lemmas_stemmed))\n",
    "print(\"Done!\")"
   ],
   "metadata": {
    "collapsed": false,
    "pycharm": {
     "name": "#%%\n"
    }
   }
  },
  {
   "cell_type": "code",
   "execution_count": 148,
   "outputs": [
    {
     "name": "stdout",
     "output_type": "stream",
     "text": [
      "We can pass a TFIDF vector to the index and it will count how close it is to the TFIDF vectors of every topic.\n",
      "For example, we can pass a TFIDF vector of a search query:\n",
      "file template\n",
      "Frequency vector of the query: [(109, 1), (463, 1)]\n",
      "TFIDF vector of the query: [(109, 0.18749390746061886), (463, 0.9822657658012666)]\n",
      "Distance to TFIDF vectors of the first 10 topics: [0.         0.00354089 0.0083671  0.00569922 0.01524156 0.30511686\n",
      " 0.         0.02035361 0.03050604 0.01584896]\n"
     ]
    }
   ],
   "source": [
    "print(\"We can pass a TFIDF vector to the index and it will count how close it is to the TFIDF vectors of every topic.\")\n",
    "print(\"For example, we can pass a TFIDF vector of a search query:\")\n",
    "\n",
    "query = \"file template\"\n",
    "print(query)\n",
    "\n",
    "q_bow = dictionary_lemmas_stemmed.doc2bow([stemmer.stem(lem(token)) for token in nltk.pos_tag(query.split())])\n",
    "print(\"Frequency vector of the query:\", q_bow)\n",
    "\n",
    "q_tfidf = tfidf_lemmas_stemmed[q_bow]\n",
    "print(\"TFIDF vector of the query:\", q_tfidf)\n",
    "\n",
    "distance = index_lemmas_stemmed[q_tfidf]\n",
    "print(\"Distance to TFIDF vectors of the first 10 topics:\", distance[:10])"
   ],
   "metadata": {
    "collapsed": false,
    "pycharm": {
     "name": "#%%\n"
    }
   }
  },
  {
   "cell_type": "code",
   "execution_count": 52,
   "outputs": [
    {
     "data": {
      "text/plain": "'templat'"
     },
     "execution_count": 52,
     "metadata": {},
     "output_type": "execute_result"
    }
   ],
   "source": [
    "dictionary_lemmas_stemmed[463]"
   ],
   "metadata": {
    "collapsed": false,
    "pycharm": {
     "name": "#%%\n"
    }
   }
  },
  {
   "cell_type": "code",
   "execution_count": 147,
   "outputs": [
    {
     "name": "stdout",
     "output_type": "stream",
     "text": [
      "899 settings-file-and-code-templates.html 0.8963451\n",
      "418 save-file-as-template-dialog.html 0.8043806\n",
      "1256 using-file-and-code-templates.html 0.7949943\n",
      "1118 settings-live-templates.html 0.73883104\n",
      "348 templates-dialog.html 0.73729944\n",
      "751 templates.html 0.68210924\n",
      "1082 saving-project-as-template.html 0.67989385\n",
      "1260 creating-and-editing-live-templates.html 0.67350936\n",
      "826 structural-search-and-replace-dialogs.html 0.64086074\n",
      "494 templates-with-multiple-files.html 0.6046936\n"
     ]
    }
   ],
   "source": [
    "for document_number, score in sorted(enumerate(distance), key=lambda x: x[1], reverse=True)[:10]:\n",
    "    print(document_number, topic_names[document_number], score)"
   ],
   "metadata": {
    "collapsed": false,
    "pycharm": {
     "name": "#%%\n"
    }
   }
  },
  {
   "cell_type": "code",
   "execution_count": 149,
   "outputs": [
    {
     "name": "stdout",
     "output_type": "stream",
     "text": [
      "899 settings-file-and-code-templates.html 0.8963451\n",
      "418 save-file-as-template-dialog.html 0.8043806\n",
      "1256 using-file-and-code-templates.html 0.7949943\n",
      "1118 settings-live-templates.html 0.73883104\n",
      "348 templates-dialog.html 0.73729944\n",
      "751 templates.html 0.68210924\n",
      "1082 saving-project-as-template.html 0.67989385\n",
      "1260 creating-and-editing-live-templates.html 0.67350936\n",
      "826 structural-search-and-replace-dialogs.html 0.64086074\n",
      "494 templates-with-multiple-files.html 0.6046936\n"
     ]
    }
   ],
   "source": [
    "for document_number, score in sorted(enumerate(distance), key=lambda x: x[1], reverse=True)[:10]:\n",
    "    print(document_number, topic_names[document_number], score)"
   ],
   "metadata": {
    "collapsed": false,
    "pycharm": {
     "name": "#%%\n"
    }
   }
  }
 ],
 "metadata": {
  "kernelspec": {
   "display_name": "Python 3",
   "language": "python",
   "name": "python3"
  },
  "language_info": {
   "codemirror_mode": {
    "name": "ipython",
    "version": 2
   },
   "file_extension": ".py",
   "mimetype": "text/x-python",
   "name": "python",
   "nbconvert_exporter": "python",
   "pygments_lexer": "ipython2",
   "version": "2.7.6"
  }
 },
 "nbformat": 4,
 "nbformat_minor": 0
}