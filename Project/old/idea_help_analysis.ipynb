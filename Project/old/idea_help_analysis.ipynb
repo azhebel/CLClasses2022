{
 "cells": [
  {
   "cell_type": "code",
   "execution_count": 1,
   "metadata": {
    "collapsed": true
   },
   "outputs": [],
   "source": [
    "import math\n",
    "import os\n",
    "import re\n",
    "import string\n",
    "from operator import itemgetter\n",
    "\n",
    "import nltk\n",
    "from bs4 import BeautifulSoup\n",
    "from collections import defaultdict as dd\n",
    "import pandas\n",
    "from sklearn.decomposition import TruncatedSVD\n",
    "from sklearn.feature_extraction.text import TfidfVectorizer"
   ]
  },
  {
   "cell_type": "code",
   "execution_count": 2,
   "outputs": [
    {
     "name": "stdout",
     "output_type": "stream",
     "text": [
      "Current directory: /Users/Alexey.Zhebel/IdeaProjects/CompLing/Project\n",
      "Getting a list of HTML files from /Users/Alexey.Zhebel/Downloads/webHelpIJ2/...\n",
      "There are 3244 HTML files\n"
     ]
    }
   ],
   "source": [
    "path_to_help_sources = os.path.expanduser(\"~/Downloads/webHelpIJ2/\")\n",
    "\n",
    "print(\"Current directory:\", os.getcwd())\n",
    "print(\"Getting a list of HTML files from\", path_to_help_sources + \"...\")\n",
    "\n",
    "html_files = []\n",
    "\n",
    "for file_name in os.listdir(path_to_help_sources)[:]:\n",
    "    if \".html\" in file_name:\n",
    "        html_files.append(file_name)\n",
    "\n",
    "print(\"There are\", len(html_files), \"HTML files\")"
   ],
   "metadata": {
    "collapsed": false,
    "pycharm": {
     "name": "#%%\n"
    }
   }
  },
  {
   "cell_type": "code",
   "execution_count": 3,
   "outputs": [
    {
     "name": "stdout",
     "output_type": "stream",
     "text": [
      "Getting sources from files that are topics (have <article>)...\n",
      "There are 1505 topics\n",
      "<article class=\"article\" data-shortcut-switcher=\"inactive\">\n",
      " <h1 data-availability-limit=\"Ultimate\" data-toc=\"PHP_Built_In_Web_Server\" id=\"PHP_Built_In_Web_Server.xml\">\n",
      "  Built-in web server\n",
      " </h1>\n",
      " <\n"
     ]
    },
    {
     "data": {
      "text/plain": "'php-built-in-web-server.html'"
     },
     "execution_count": 3,
     "metadata": {},
     "output_type": "execute_result"
    }
   ],
   "source": [
    "print(\"Getting sources from files that are topics (have <article>)...\")\n",
    "\n",
    "topic_sources = {}\n",
    "\n",
    "for file_name in html_files:\n",
    "    with open(path_to_help_sources + file_name, \"r\") as file:\n",
    "        soup = BeautifulSoup(file.read(), \"html.parser\")\n",
    "\n",
    "        article = soup.find(\"article\")\n",
    "\n",
    "        if article:\n",
    "            topic_sources[file_name] = article\n",
    "\n",
    "print(\"There are\", len(topic_sources), \"topics\")\n",
    "\n",
    "print(list(topic_sources.items())[2][1].prettify()[:200])\n",
    "\n",
    "list(topic_sources.items())[2][0]"
   ],
   "metadata": {
    "collapsed": false,
    "pycharm": {
     "name": "#%%\n"
    }
   }
  },
  {
   "cell_type": "code",
   "execution_count": 4,
   "outputs": [
    {
     "name": "stdout",
     "output_type": "stream",
     "text": [
      "Extracting text from topics (<h1-h6> and <p> tags in files that contain <article>)...\n",
      "There are 1505 topics\n",
      "Built-in web server\n",
      "The following is only valid when the PHP plugin is installed and enabled.\n",
      " IntelliJ IDEA has a built-in web server that can be used to preview and debug your application.  This ser\n"
     ]
    }
   ],
   "source": [
    "print(\"Extracting text from topics (<h1-h6> and <p> tags in files that contain <article>)...\")\n",
    "\n",
    "topic_texts = {}\n",
    "\n",
    "for item in topic_sources.items():\n",
    "    topic_file_name = item[0]\n",
    "    article = item[1]\n",
    "\n",
    "    text = \"\"\n",
    "    for tag in article.find_all(re.compile(\"^h[1-6]$|^p$\")):\n",
    "        text += tag.get_text() + \"\\n\"\n",
    "\n",
    "    topic_texts[topic_file_name] = text\n",
    "\n",
    "print(\"There are\", len(topic_texts), \"topics\")\n",
    "\n",
    "print(list(topic_texts.items())[2][1][:200])"
   ],
   "metadata": {
    "collapsed": false,
    "pycharm": {
     "name": "#%%\n"
    }
   }
  },
  {
   "cell_type": "code",
   "execution_count": 5,
   "outputs": [
    {
     "name": "stdout",
     "output_type": "stream",
     "text": [
      "Saving plain text from topics to topic_text.csv...\n",
      "(1505, 1)\n"
     ]
    }
   ],
   "source": [
    "print(\"Saving plain text from topics to topic_text.csv...\")\n",
    "\n",
    "df = pandas.DataFrame.from_dict(topic_texts, orient=\"index\")\n",
    "\n",
    "print(df.shape)\n",
    "df.to_csv(\"topic_text.csv\")"
   ],
   "metadata": {
    "collapsed": false,
    "pycharm": {
     "name": "#%%\n"
    }
   }
  },
  {
   "cell_type": "code",
   "execution_count": 16,
   "outputs": [
    {
     "data": {
      "text/plain": "'Notifications\\nUse this page to enable and disable notifications about certain events, change their presentation, and optionally enable their logging.\\nItem\\nDescription\\nDisplay balloon notifications\\nSelect this checkbox to enable event notifications for IntelliJ\\xa0IDEA. (The notifications, generally, are shown in the balloons that appear on the screen when the corresponding events take place.)\\nRegardless of the state of this option, you will always find all notifications from the current session in the Event log\\nEnable system notifications\\nSelect this checkbox to allow showing system notification.\\nOn Windows, you may want to disable this option to hide IntelliJ\\xa0IDEA icon from the system tray.\\nGroup\\nThis column lists groups of events that you may be notified of and/or that may be logged.\\nPopup\\nIf the Display balloon notification checkbox is selected, the settings in this column specify how the notifications for the corresponding group of events are shown.\\nThe available display options are:\\nBalloon: The balloons with the notification messages appear on the screen for a short period of time and then disappear automatically. The notifications are also shown in the Status bar, and added to the list of notifications.\\nSticky balloon: The notification balloons stay on the screen unless you close them.\\nTool window balloon: The notification balloons are shown only if an appropriate tool window is open.\\nNo popup: The notifications for the corresponding group of events are not shown.\\nLog\\nIf the checkbox for a group of events is selected, the corresponding events are logged and can be seen in the Event Log tool window.\\nRead aloud\\nRead the selected notifications out loud. The Read aloud column is available only on macOS. You can configure voice settings in macOS preferences. To learn more about accessibility features on macOS, see the official Apple documentation.\\n'"
     },
     "execution_count": 16,
     "metadata": {},
     "output_type": "execute_result"
    }
   ],
   "source": [
    "list(topic_texts.items())[0][1]"
   ],
   "metadata": {
    "collapsed": false,
    "pycharm": {
     "name": "#%%\n"
    }
   }
  },
  {
   "cell_type": "code",
   "execution_count": 17,
   "outputs": [
    {
     "name": "stdout",
     "output_type": "stream",
     "text": [
      "['notifications', 'use', 'this', 'page', 'to', 'enable', 'and', 'disable', 'notifications', 'about', 'certain', 'events', ',', 'change', 'their', 'presentation', ',', 'and', 'optionally', 'enable', 'their', 'logging', '.', 'item', 'description', 'display', 'balloon', 'notifications', 'select', 'this', 'checkbox', 'to', 'enable', 'event', 'notifications', 'for', 'intellij_idea', '.']\n",
      "['notifications', 'use', 'this', 'page', 'to', 'enable', 'and', 'disable', 'notifications', 'about', 'certain', 'events', 'change', 'their', 'presentation', 'and', 'optionally', 'enable', 'their', 'logging', 'item', 'description', 'display', 'balloon', 'notifications', 'select', 'this', 'checkbox', 'to', 'enable', 'event', 'notifications', 'for', 'intellij idea']\n"
     ]
    }
   ],
   "source": [
    "s = \"Notifications\\nUse this page to enable and disable notifications about certain events, change their presentation, and optionally enable their logging.\\nItem\\nDescription\\nDisplay balloon notifications\\nSelect this checkbox to enable event notifications for IntelliJ\\xa0IDEA.\"\n",
    "\n",
    "s.replace(\"\\xa0\", \"_\")\n",
    "\n",
    "tokenized = nltk.tokenize.word_tokenize(s.replace(\"\\xa0\", \"_\").lower())\n",
    "\n",
    "clean = []\n",
    "\n",
    "for word in tokenized:\n",
    "    if word not in string.punctuation:\n",
    "        clean.append(word.replace(\"_\", \" \"))\n",
    "\n",
    "print(tokenized)\n",
    "\n",
    "print(clean)\n"
   ],
   "metadata": {
    "collapsed": false,
    "pycharm": {
     "name": "#%%\n"
    }
   }
  },
  {
   "cell_type": "code",
   "execution_count": 6,
   "outputs": [
    {
     "name": "stdout",
     "output_type": "stream",
     "text": [
      "Tokenizing topics...\n",
      "There are 1505 topics\n",
      "['built-in', 'web', 'server', 'following', 'valid']\n"
     ]
    }
   ],
   "source": [
    "print(\"Tokenizing topics...\")\n",
    "\n",
    "topic_tokens = {}\n",
    "\n",
    "for item in topic_texts.items():\n",
    "    topic_file_name = item[0]\n",
    "    topic_text = item[1].replace(\"\\xa0\", \"_\").replace(\"/\", \" \")\n",
    "\n",
    "    tokens = nltk.tokenize.word_tokenize(topic_text.lower())\n",
    "\n",
    "    stop_words = nltk.corpus.stopwords.words(\"english\")\n",
    "    clean_tokens = []\n",
    "\n",
    "    for token in tokens:\n",
    "        if token not in stop_words and token not in string.punctuation:\n",
    "            clean_tokens.append(token.replace(\"_\", \" \"))\n",
    "\n",
    "    topic_tokens[topic_file_name] = clean_tokens\n",
    "\n",
    "print(\"There are\", len(topic_tokens), \"topics\")\n",
    "\n",
    "print(list(topic_tokens.items())[2][1][:5])"
   ],
   "metadata": {
    "collapsed": false,
    "pycharm": {
     "name": "#%%\n"
    }
   }
  },
  {
   "cell_type": "code",
   "execution_count": 7,
   "outputs": [
    {
     "name": "stdout",
     "output_type": "stream",
     "text": [
      "Saving tokens from topics to topic_tokens.csv...\n"
     ]
    }
   ],
   "source": [
    "print(\"Saving tokens from topics to topic_tokens.csv...\")\n",
    "\n",
    "df = pandas.DataFrame.from_dict(topic_tokens, orient=\"index\")\n",
    "\n",
    "df.to_csv(\"topic_tokens.csv\")"
   ],
   "metadata": {
    "collapsed": false,
    "pycharm": {
     "name": "#%%\n"
    }
   }
  },
  {
   "cell_type": "code",
   "execution_count": 11,
   "outputs": [
    {
     "data": {
      "text/plain": "(1505, 5691)"
     },
     "execution_count": 11,
     "metadata": {},
     "output_type": "execute_result"
    }
   ],
   "source": [
    "df.shape"
   ],
   "metadata": {
    "collapsed": false,
    "pycharm": {
     "name": "#%%\n"
    }
   }
  },
  {
   "cell_type": "code",
   "execution_count": 20,
   "outputs": [
    {
     "data": {
      "text/plain": "1505"
     },
     "execution_count": 20,
     "metadata": {},
     "output_type": "execute_result"
    }
   ],
   "source": [
    "len(df.index)"
   ],
   "metadata": {
    "collapsed": false,
    "pycharm": {
     "name": "#%%\n"
    }
   }
  },
  {
   "cell_type": "code",
   "execution_count": 22,
   "outputs": [
    {
     "name": "stdout",
     "output_type": "stream",
     "text": [
      "Creating a term frequency dataframe...\n",
      "There are 13047 terms in 1505 topics\n",
      "                             notifications       use      page\n",
      "settings-notifications.html       0.071006  0.005917  0.005917\n",
      "listeners.html                    0.020408  0.000000  0.000000\n",
      "using-file-watchers.html          0.000631  0.012626  0.004419\n"
     ]
    }
   ],
   "source": [
    "print(\"Creating a term frequency dataframe...\")\n",
    "\n",
    "term_freq_per_topic = {}\n",
    "\n",
    "for item in topic_tokens.items():\n",
    "    topic_file_name = item[0]\n",
    "    tokens = item[1]\n",
    "\n",
    "    num_of_tokens = len(tokens)\n",
    "\n",
    "    term_freq = dd(int)\n",
    "\n",
    "    for term in tokens:\n",
    "        term_freq[term] += 1 / num_of_tokens\n",
    "\n",
    "    term_freq_per_topic[topic_file_name] = term_freq\n",
    "\n",
    "df = pandas.DataFrame.from_dict(term_freq_per_topic, orient=\"index\").fillna(0)\n",
    "\n",
    "print(\"There are\", len(list(df.columns)), \"terms in\", len(list(df.index)), \"topics\")\n",
    "\n",
    "df.to_csv(\"tf.csv\")\n",
    "\n",
    "print(df.iloc[:3, :3])\n",
    "# print(\"--- --- ---\")\n",
    "# print(df[\"appdatajetbrainsproductversionbackup\"][:10])"
   ],
   "metadata": {
    "collapsed": false,
    "pycharm": {
     "name": "#%%\n"
    }
   }
  },
  {
   "cell_type": "code",
   "execution_count": 25,
   "outputs": [
    {
     "data": {
      "text/plain": "(Index(['notifications', 'use', 'page', 'enable', 'disable'], dtype='object'),\n Index(['settings-notifications.html', 'listeners.html',\n        'using-file-watchers.html', 'event-log-tool-window.html',\n        'using-webpack.html'],\n       dtype='object'))"
     },
     "execution_count": 25,
     "metadata": {},
     "output_type": "execute_result"
    }
   ],
   "source": [
    "df.columns[:5], df.index[:5]"
   ],
   "metadata": {
    "collapsed": false,
    "pycharm": {
     "name": "#%%\n"
    }
   }
  },
  {
   "cell_type": "code",
   "execution_count": null,
   "outputs": [],
   "source": [
    "t = [col for col in df.columns if \"appdata\" in col]\n",
    "print(t)"
   ],
   "metadata": {
    "collapsed": false,
    "pycharm": {
     "name": "#%%\n"
    }
   }
  },
  {
   "cell_type": "code",
   "execution_count": null,
   "outputs": [],
   "source": [
    "with open(path_to_help_sources + \"configuring-project-and-ide-settings.html\", \"r\") as file:\n",
    "    soup = BeautifulSoup(file.read(), \"html.parser\")\n",
    "\n",
    "    article = soup.find(\"article\")\n",
    "\n",
    "    print(article.find(\"span\", {\"class\":\"filepath\"}))"
   ],
   "metadata": {
    "collapsed": false,
    "pycharm": {
     "name": "#%%\n"
    }
   }
  },
  {
   "cell_type": "code",
   "execution_count": 26,
   "outputs": [
    {
     "name": "stdout",
     "output_type": "stream",
     "text": [
      "Counting tfidf per topic...\n",
      "There are 1505 documents.\n",
      "                             notifications       use      page\n",
      "settings-notifications.html       0.071006  0.005917  0.005917\n",
      "listeners.html                    0.020408  0.000000  0.000000\n",
      "using-file-watchers.html          0.000631  0.012626  0.004419\n",
      "                             notifications       use      page\n",
      "settings-notifications.html       0.148996  0.000771  0.002154\n",
      "listeners.html                    0.042824  0.000000  0.000000\n",
      "using-file-watchers.html          0.001325  0.001645  0.001608\n"
     ]
    }
   ],
   "source": [
    "print(\"Counting tfidf per topic...\")\n",
    "\n",
    "df = pandas.read_csv(\"tf.csv\", index_col=0)\n",
    "total_docs = len(df)\n",
    "\n",
    "print(\"There are\", total_docs, \"documents.\")\n",
    "\n",
    "print(df.iloc[:3, :3])\n",
    "\n",
    "for term in df.columns:\n",
    "    docs_with_term = 0\n",
    "    for tf_in_doc in df[term].tolist():\n",
    "        if tf_in_doc != 0:\n",
    "            docs_with_term += 1\n",
    "\n",
    "    idf = math.log10(total_docs / docs_with_term)\n",
    "\n",
    "    df[term] = df[term].apply(lambda tf: tf * idf)\n",
    "\n",
    "print(df.iloc[:3, :3])\n",
    "\n",
    "df.to_csv(\"tfidf.csv\")"
   ],
   "metadata": {
    "collapsed": false,
    "pycharm": {
     "name": "#%%\n"
    }
   }
  },
  {
   "cell_type": "code",
   "execution_count": 27,
   "outputs": [
    {
     "data": {
      "text/plain": "(1505, 13047)"
     },
     "execution_count": 27,
     "metadata": {},
     "output_type": "execute_result"
    }
   ],
   "source": [
    "df.shape"
   ],
   "metadata": {
    "collapsed": false,
    "pycharm": {
     "name": "#%%\n"
    }
   }
  },
  {
   "cell_type": "code",
   "execution_count": 28,
   "outputs": [
    {
     "name": "stdout",
     "output_type": "stream",
     "text": [
      "backup\t\t\t0.065250514715432\n",
      "-backup\t\t\t0.039068071720449\n",
      "restore\t\t\t0.0380489633544077\n",
      "ide\t\t\t0.0276707844539373\n",
      "intellijideagetting-started-backup\t\t\t0.026045381146966\n",
      "product\t\t\t0.022325516359577\n",
      "settings\t\t\t0.0209573325201728\n",
      "2020.1\t\t\t0.0203161188163429\n",
      ".config\t\t\t0.0203161188163429\n",
      "2019.3\t\t\t0.0196670922093952\n"
     ]
    },
    {
     "data": {
      "text/plain": "<Figure size 432x288 with 1 Axes>",
      "image/png": "[encoded data removed]"
     },
     "metadata": {
      "needs_background": "light"
     },
     "output_type": "display_data"
    }
   ],
   "source": [
    "import matplotlib.pyplot as plt\n",
    "from wordcloud import WordCloud\n",
    "\n",
    "\n",
    "def show_wordcloud_by_freq_dict(freq_dict):\n",
    "    wordcloud = WordCloud()\n",
    "    wordcloud.generate_from_frequencies(frequencies=freq_dict)\n",
    "\n",
    "    plt.figure()\n",
    "    plt.imshow(wordcloud, interpolation=\"bilinear\")\n",
    "    plt.axis(\"off\")\n",
    "    plt.show()\n",
    "\n",
    "input_data = pandas.read_csv(\"tfidf.csv\", index_col=0)\n",
    "\n",
    "topic = \"configuring-project-and-ide-settings.html\"\n",
    "\n",
    "sorted_frequency_table = sorted(dict(input_data.loc[topic]).items(), key=itemgetter(1), reverse=True)\n",
    "for word, freq in sorted_frequency_table[:10]:\n",
    "    print('\\t\\t\\t'.join((word, str(freq))))\n",
    "\n",
    "show_wordcloud_by_freq_dict(input_data.loc[topic].to_dict())"
   ],
   "metadata": {
    "collapsed": false,
    "pycharm": {
     "name": "#%%\n"
    }
   }
  },
  {
   "cell_type": "code",
   "execution_count": null,
   "outputs": [],
   "source": [
    "texts = list(topic_texts.values())\n",
    "\n",
    "# texts = [\"Hello I am your friend\", \"Everybody needs a friend\"]\n",
    "\n",
    "vectorizer = TfidfVectorizer(stop_words=stop_words, use_idf=True, ngram_range=(1, 3))\n",
    "\n",
    "vect = vectorizer.fit_transform(texts)\n",
    "\n",
    "print(vect.shape)"
   ],
   "metadata": {
    "collapsed": false,
    "pycharm": {
     "name": "#%%\n"
    }
   }
  },
  {
   "cell_type": "code",
   "execution_count": null,
   "outputs": [],
   "source": [
    "lsa = TruncatedSVD(n_components=10, n_iter=100)\n",
    "\n",
    "lsa.fit(vect)\n",
    "\n",
    "print(lsa.components_[0])"
   ],
   "metadata": {
    "collapsed": false,
    "pycharm": {
     "name": "#%%\n"
    }
   }
  },
  {
   "cell_type": "code",
   "execution_count": null,
   "outputs": [],
   "source": [
    "terms = vectorizer.get_feature_names_out()\n",
    "\n",
    "for i, comp in enumerate(lsa.components_):\n",
    "    termsInComp = zip( terms,comp )\n",
    "    sortedTerms = sorted(termsInComp, key=lambda x: x[1], reverse=True)[:10]\n",
    "    print(\"Concept %d:\" % i)\n",
    "    for term in sortedTerms:\n",
    "        print(term[0])\n",
    "    print(\"---\")"
   ],
   "metadata": {
    "collapsed": false,
    "pycharm": {
     "name": "#%%\n"
    }
   }
  },
  {
   "cell_type": "code",
   "execution_count": 29,
   "outputs": [
    {
     "name": "stdout",
     "output_type": "stream",
     "text": [
      "['file', 'template']\n",
      "(1505, 2)\n",
      "                                 file  template\n",
      "settings-notifications.html  0.000000   0.00000\n",
      "listeners.html               0.000000   0.00000\n",
      "using-file-watchers.html     0.013313   0.00149\n",
      "event-log-tool-window.html   0.000000   0.00000\n",
      "using-webpack.html           0.006839   0.00000\n",
      "(998, 2)\n",
      "                                                        file  template\n",
      "using-file-watchers.html                            0.013313   0.00149\n",
      "using-webpack.html                                  0.006839   0.00000\n",
      "installing-and-removing-external-software-using...  0.002332   0.00000\n",
      "managing-plugins.html                               0.001977   0.00000\n",
      "big-data-tools-configuration.html                   0.001670   0.00000\n",
      "212\n",
      "save-file-as-template-dialog.html 0.0012489149688259384\n",
      "settings-file-and-code-templates.html 0.0008012569784470213\n",
      "using-file-and-code-templates.html 0.0005538316817161398\n",
      "navigating-between-text-and-message-file.html 0.0005092957302222603\n",
      "template-data-languages.html 0.00042960583821833015\n",
      "parse-directive.html 0.0004222070543108633\n",
      "template-data-languages-settings.html 0.0004192162133121983\n",
      "templates-with-multiple-files.html 0.0003610432068578968\n",
      "navigating-between-templates-and-views.html 0.00030183567358478607\n",
      "file-template-variables.html 0.00028013896069067884\n",
      "templates.html 0.0002566629877421607\n",
      "saving-project-as-template.html 0.00022632914274683843\n",
      "implementing-methods-of-an-interface.html 0.00020315346043831855\n",
      "creating-and-opening-forms.html 0.00019853061035563543\n",
      "settings-tools-file-watchers.html 0.00018999317443988542\n",
      "sharing-live-templates.html 0.00017594575723474265\n",
      "liquid.html 0.00015714166077524224\n",
      "jade.html 0.00013289403723058528\n",
      "navigating-between-actions-and-views.html 0.00010538468520244405\n",
      "structural-search-and-replace-dialogs.html 0.00010442391903012143\n",
      "overriding-methods-of-a-superclass.html 9.316866455040544e-05\n",
      "i18nize-hard-coded-string.html 9.205322370197576e-05\n",
      "transpiling-sass-less-and-scss-to-css.html 8.389506865025202e-05\n",
      "getting-started-with-typesafe-activator.html 7.31495683859922e-05\n",
      "data-format-configuration-dialog.html 5.5918887357876335e-05\n",
      "creating-listeners.html 5.402679956177352e-05\n",
      "transpiling-stylus-to-css.html 5.108429991929956e-05\n",
      "xslt-navigation.html 4.68376378677521e-05\n",
      "compressing-css.html 4.331893638413051e-05\n",
      "angular.html 4.2810539913177465e-05\n",
      "create-new-project-twitter-bootstrap.html 3.930151999801825e-05\n",
      "minifying-javascript.html 3.71984519945689e-05\n",
      "import-file-name-format-dialog.html 3.675546117441402e-05\n",
      "getting-started-with-play-2-x.html 3.363675560772673e-05\n",
      "new-watcher-dialog.html 3.313445030461436e-05\n",
      "symfony-navigating-project.html 3.2350230746666214e-05\n",
      "settings-tools-database-csv-formats.html 2.6602555579335593e-05\n",
      "getting-started-with-grails3.html 2.454403726267781e-05\n",
      "template-variables.html 2.436694239877049e-05\n",
      "thymeleaf.html 2.385680421932245e-05\n",
      "structural-search-and-replace-examples.html 2.223325084846539e-05\n",
      "symfony-twig.html 2.2008291547482008e-05\n",
      "transpiling-compass-to-css.html 2.1312720075953873e-05\n",
      "edit-template-variables-dialog.html 2.1070438322399023e-05\n",
      "structural-search-and-replace.html 1.9986850872011752e-05\n",
      "copyright-profiles.html 1.9976828060324224e-05\n",
      "using-phpspec.html 1.9952976787060465e-05\n",
      "using-file-watchers.html 1.9832711480479528e-05\n",
      "preparing-for-joomla-development-in-product.html 1.9752361548814602e-05\n",
      "copyright.html 1.7288575859766977e-05\n",
      "using-codeception-framework.html 1.6824115126023647e-05\n",
      "plugin-overview.html 1.5370873001422095e-05\n",
      "creating-django-project.html 1.530863492101263e-05\n",
      "openapi.html 1.4565922153092693e-05\n",
      "vue-js.html 1.4357271266894755e-05\n",
      "kubernetes.html 1.432812988087714e-05\n",
      "using-phpunit-framework.html 1.4246127056376605e-05\n",
      "context-and-dependency-injection-cdi.html 1.3802765118577843e-05\n",
      "symfony-translations.html 1.3207057107050145e-05\n",
      "using-zen-coding-support.html 1.311549845956604e-05\n",
      "data-extractors-dialog.html 1.3001821468052003e-05\n",
      "java-flight-recorder.html 1.2750221336795832e-05\n",
      "tutorial-structural-search-and-replace-in-kotlin.html 1.1526990437998639e-05\n",
      "run-debug-configuration.html 1.0450438510629404e-05\n",
      "new-project-wizard.html 1.0184847168960028e-05\n",
      "get-started-with-kotlin.html 9.739802469413725e-06\n",
      "laravel.html 9.353948178175213e-06\n",
      "javaserver-faces-jsf.html 8.86751852644495e-06\n",
      "your-first-spring-application.html 8.227480830034769e-06\n",
      "generating-php-unit-test-class.html 7.99073122412956e-06\n",
      "coffeescript.html 7.966031348239708e-06\n",
      "spring-support-tutorial.html 7.842473444878974e-06\n",
      "hibernate.html 7.795342809524146e-06\n",
      "create-a-project-with-go-modules-integration.html 7.668074044224775e-06\n",
      "preparing-to-develop-a-google-app-for-php-application.html 7.453493164032103e-06\n",
      "pytest.html 7.313316293364217e-06\n",
      "dart.html 7.284983726398923e-06\n",
      "hard-coded-string-literals.html 7.08446483650765e-06\n",
      "exploring-http-syntax.html 6.910144287968237e-06\n",
      "angularjs.html 6.8319527746666505e-06\n",
      "viewing-and-exploring-test-results.html 6.830629014306218e-06\n",
      "selenium.html 6.684614006326559e-06\n",
      "using-phonegap-cordova.html 6.630090097150482e-06\n",
      "jakarta-persistence-jpa.html 6.452123583822789e-06\n",
      "creating-and-running-your-first-java-application.html 6.0956797979243605e-06\n",
      "generating-code.html 5.194052193088175e-06\n",
      "drupal-support.html 4.967007844511063e-06\n",
      "test-management-systems.html 4.736077103814751e-06\n",
      "editing-html-files.html 4.520940637382646e-06\n",
      "creating-empty-python-project.html 4.363384402253554e-06\n",
      "create-your-first-kotlin-app.html 4.34190685458467e-06\n",
      "using-blade-templates.html 4.295668413347448e-06\n",
      "quick-start-guide-goland.html 4.1548288880407755e-06\n",
      "creating-and-optimizing-imports.html 3.891748788295348e-06\n",
      "run-debug-configuration-xslt.html 3.251091928265766e-06\n",
      "run-debug-configuration-protractor.html 3.113232275018797e-06\n",
      "run-debug-configuration-jest.html 3.035772824761512e-06\n",
      "maven-support.html 2.9971012606807765e-06\n",
      "erlang-start-project.html 2.976679012418958e-06\n",
      "foreign-keys.html 2.8461704785182912e-06\n",
      "developing-node-js-applications.html 2.821195474941697e-06\n",
      "code-style-vue.html 2.8151321157557106e-06\n",
      "run-debug-configuration-karma.html 2.8138958105086845e-06\n",
      "generate-test-data.html 2.777913407732828e-06\n",
      "migrating-from-eclipse-to-intellij-idea.html 2.751617511550498e-06\n",
      "auto-completing-code.html 2.7361589954697807e-06\n",
      "run-debug-configuration-phpspec.html 2.64984056195966e-06\n",
      "run-debug-configuration-behat.html 2.6453321143507434e-06\n",
      "run-debug-configuration-mxunit.html 2.613940031714338e-06\n",
      "run-debug-configuration-codeception.html 2.4084618219972557e-06\n",
      "run-debug-configuration-phpunit.html 2.3402612138762154e-06\n",
      "run-debug-configuration-spy-js-for-node-js.html 2.2113044452970738e-06\n",
      "creating-and-running-your-first-java-ee-application.html 1.985586116476985e-06\n",
      "run-debug-configuration-mocha.html 1.9732524187939056e-06\n",
      "data-sources-and-drivers-dialog.html 1.609208922420977e-06\n",
      "create-your-first-android-application.html 1.5174440486879184e-06\n",
      "creating-and-running-your-first-restful-web-service.html 1.5146812926862796e-06\n",
      "using-psalm.html 1.5028856825534143e-06\n",
      "run-debug-configuration-spy-js.html 1.4087482039534296e-06\n",
      "run-debug-configuration-docutil-task.html 1.3856277090166473e-06\n",
      "edit-scala-code.html 1.3362409587154971e-06\n",
      "run-debug-configuration-javascript-debug.html 1.2992238015872636e-06\n",
      "work-with-maven-dependencies.html 1.2602963037415001e-06\n",
      "run-debug-configuration-php-script.html 1.2446352582742325e-06\n",
      "run-debug-configuration-pyramid-server.html 1.2289056207986062e-06\n",
      "run-debug-configuration-npm.html 1.2053205449948765e-06\n",
      "run-debug-configuration-sphinx-task.html 1.1848326752383353e-06\n",
      "run-debug-configuration-cucumberjs.html 1.1753544042905245e-06\n",
      "tdd-with-kotlin.html 1.1701306069379582e-06\n",
      "xpath-inspections.html 1.167697342963049e-06\n",
      "run-debug-configuration-dart-command-line-application.html 1.153991584304273e-06\n",
      "run-debug-configuration-grunt.html 1.1322524598015775e-06\n",
      "symfony-support.html 1.0937725810743716e-06\n",
      "run-debug-configuration-node-webkit.html 1.068144003899202e-06\n",
      "run-debug-configuration-python-unit-test.html 1.0636208016607615e-06\n",
      "run-debug-configuration-jar.html 1.0185088050102249e-06\n",
      "run-debug-configuration-dartunit.html 1.012223708423971e-06\n",
      "run-debug-configuration-nodeunit.html 1.007446632249021e-06\n",
      "run-debug-configuration-gulp-js.html 9.90725816616553e-07\n",
      "run-targets.html 9.903131861224143e-07\n",
      "run-debug-configuration-php-web-application.html 9.630978865222613e-07\n",
      "run-debug-configuration-node-js.html 9.488823298146878e-07\n",
      "run-debug-configuration-scala.html 9.477360902363794e-07\n",
      "commit-and-push-changes.html 9.018122735105327e-07\n",
      "run-debug-configuration-cucumber-java.html 9.010433158026558e-07\n",
      "run-debug-configuration-testng.html 8.892698354788112e-07\n",
      "run-debug-configuration-php-built-in-web-server.html 8.430774816193807e-07\n",
      "run-debug-configuration-lettuce.html 8.231866713722438e-07\n",
      "run-debug-configuration-utest.html 8.179278980505283e-07\n",
      "run-debug-configuration-behave.html 8.163029106043509e-07\n",
      "using-product-with-zend-server.html 8.137962737085214e-07\n",
      "run-debug-configuration-nose-test.html 7.994665892426196e-07\n",
      "run-debug-configuration-ammonite.html 7.966621637886342e-07\n",
      "run-debug-configuration-jruby-cucumber.html 7.877915882183736e-07\n",
      "run-debug-configuration-py-test.html 7.810075415413765e-07\n",
      "run-debug-configuration-tox.html 7.665186209524041e-07\n",
      "run-debug-configuration-appengineserver.html 7.58958779367248e-07\n",
      "run-debug-configuration-python.html 7.568193617438916e-07\n",
      "run-debug-configuration-specs2.html 7.430443624624147e-07\n",
      "run-debug-configuration-scala-test.html 7.372731659576351e-07\n",
      "run-debug-configuration-jetty.html 7.031911418404522e-07\n",
      "run-debug-configuration-java-scratch.html 6.923849745195938e-07\n",
      "run-debug-configuration-app-engine-for-php.html 6.789507083535341e-07\n",
      "run-debug-configuration-phonegap-cordova.html 6.646313330354993e-07\n",
      "run-debug-configuration-shell-script.html 6.62689006092232e-07\n",
      "run-debug-configuration-cucumber.html 6.447000589191217e-07\n",
      "run-debug-configuration-grails.html 6.411164216558782e-07\n",
      "run-debug-configuration-plugin.html 6.408864023395398e-07\n",
      "utplsql-test.html 6.319107601271784e-07\n",
      "run-debug-configuration-doctest.html 6.175903013461905e-07\n",
      "using-the-composer-dependency-manager.html 6.157186208696893e-07\n",
      "run-debug-configuration-rack.html 6.095143566427794e-07\n",
      "run-debug-configuration-php-remote-debug.html 6.088858252484817e-07\n",
      "run-debug-configuration-attests.html 6.031047846958347e-07\n",
      "run-debug-configuration-django-test.html 5.902733917926012e-07\n",
      "react.html 5.88046797951143e-07\n",
      "run-debug-configuration-php-http-request.html 5.776468755061417e-07\n",
      "run-debug-configuration-capistrano.html 5.633781681052031e-07\n",
      "run-debug-configuration-django-server.html 5.529067905212838e-07\n",
      "run-debug-configuration-test-unit-shoulda-minitest.html 5.343238274683532e-07\n",
      "run-debug-configuration-irb-console.html 5.216488787571567e-07\n",
      "code-running-assistance-tutorial.html 5.179757888398295e-07\n",
      "run-debug-configuration-scala-console.html 5.16666428584093e-07\n",
      "run-debug-configuration-dart-remote-debug.html 5.093492882598082e-07\n",
      "run-debug-configuration-gem-command.html 5.052537006172019e-07\n",
      "run-debug-configuration-zeus.html 4.976844637658043e-07\n",
      "run-debug-configuration-rspec.html 4.887382145409368e-07\n",
      "run-debug-configuration-junit.html 4.772964903718866e-07\n",
      "run-debug-configuration-spork-drb.html 4.7596996537383574e-07\n",
      "run-debug-configuration-sbt-task.html 4.75548391975954e-07\n",
      "run-debug-configurations-dialog.html 4.743617464196992e-07\n",
      "run-debug-configuration-cloud-foundry-server.html 4.6965930460177826e-07\n",
      "run-debug-configuration-rails.html 4.6159663372166145e-07\n",
      "run-debug-configuration-ruby.html 4.580396229083084e-07\n",
      "run-debug-configuration-composer-script.html 4.53739813233874e-07\n",
      "run-debug-configuration-google-app-engine-deployment.html 4.4933993799851156e-07\n",
      "run-debug-configuration-glassfish-server.html 4.2249620998702694e-07\n",
      "run-debug-configuration-rake.html 4.1924327190977124e-07\n",
      "run-debug-configuration-tomee.html 3.947974254446255e-07\n",
      "run-debug-configuration-groovy.html 3.921235038408443e-07\n",
      "run-debug-configuration-jsr45-compatible-server.html 3.898495422998687e-07\n",
      "run-debug-configuration-tomcat-server.html 3.602015607504654e-07\n",
      "run-debug-configuration-node-js-remote-debug.html 3.564763718640549e-07\n",
      "php.html 3.372309926476861e-07\n",
      "run-debug-configuration-ruby-remote-debug.html 3.3231566651774963e-07\n",
      "rake.html 3.1145144081220696e-07\n",
      "managing-tasks-and-context.html 3.097623119460438e-07\n",
      "run-debug-configuration-python-remote-debug.html 2.830200339275111e-07\n",
      "run-debug-configuration-websphere-server.html 2.629277548058331e-07\n",
      "run-debug-configuration-weblogic-server.html 2.271604352230308e-07\n",
      "specific-javascript-refactorings.html 2.215188325449421e-07\n",
      "run-debug-and-test-scala.html 1.5812723648635912e-07\n"
     ]
    }
   ],
   "source": [
    "tfidf = pandas.read_csv(\"tfidf.csv\", index_col=0)\n",
    "\n",
    "query = input(\"What do you want to find?\")\n",
    "\n",
    "terms = query.split(\" \")\n",
    "\n",
    "print(terms)\n",
    "\n",
    "for term in tfidf.columns:\n",
    "    if term not in terms:\n",
    "        tfidf.drop(term, axis=1, inplace=True)\n",
    "\n",
    "print(tfidf.shape)\n",
    "print(tfidf.head(5))\n",
    "\n",
    "results = {}\n",
    "\n",
    "for topic in tfidf.index:\n",
    "    scores = tfidf.loc[topic].tolist()\n",
    "    if all(v == 0 for v in scores):\n",
    "        tfidf.drop(topic, axis=0, inplace=True)\n",
    "    elif all(v != 0 for v in scores):\n",
    "        final_score = 1\n",
    "        for score in scores:\n",
    "            final_score *= score\n",
    "        results[topic] = final_score\n",
    "\n",
    "print(tfidf.shape)\n",
    "print(tfidf.head(5))\n",
    "\n",
    "results = dict(sorted(results.items(), key = lambda x: x[1], reverse=True))\n",
    "\n",
    "print(len(results))\n",
    "\n",
    "for key, value in results.items():\n",
    "    print(key, value)\n"
   ],
   "metadata": {
    "collapsed": false,
    "pycharm": {
     "name": "#%%\n"
    }
   }
  }
 ],
 "metadata": {
  "kernelspec": {
   "display_name": "Python 3",
   "language": "python",
   "name": "python3"
  },
  "language_info": {
   "codemirror_mode": {
    "name": "ipython",
    "version": 2
   },
   "file_extension": ".py",
   "mimetype": "text/x-python",
   "name": "python",
   "nbconvert_exporter": "python",
   "pygments_lexer": "ipython2",
   "version": "2.7.6"
  }
 },
 "nbformat": 4,
 "nbformat_minor": 0
}