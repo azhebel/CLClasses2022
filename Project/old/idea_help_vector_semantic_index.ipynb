{
 "cells": [
  {
   "cell_type": "code",
   "execution_count": 2,
   "metadata": {
    "collapsed": true
   },
   "outputs": [],
   "source": [
    "import pprint\n",
    "\n",
    "import pandas\n",
    "import gensim\n",
    "import nltk\n",
    "import string\n",
    "import pprint\n",
    "from collections import defaultdict as dd\n",
    "from nltk.stem import WordNetLemmatizer\n",
    "from nltk.corpus import wordnet\n",
    "from nltk import StanfordPOSTagger\n",
    "\n",
    "stop_words = nltk.corpus.stopwords.words(\"english\")\n"
   ]
  },
  {
   "cell_type": "code",
   "execution_count": 4,
   "outputs": [
    {
     "data": {
      "text/plain": "                                    Unnamed: 0  \\\n0                  settings-notifications.html   \n1    configuring-project-and-ide-settings.html   \n2                 php-built-in-web-server.html   \n3  work-with-scala-worksheet-and-ammonite.html   \n4   finding-and-replacing-text-in-project.html   \n\n                                                   0  \n0  Notifications\\nUse this page to enable and dis...  \n1  Configuring the IDE\\nIntelliJ IDEA allows you ...  \n2  Built-in web server\\nThe following is only val...  \n3  Scala worksheet and Ammonite\\nYou can quickly ...  \n4  Search and replace a target within a project\\n...  ",
      "text/html": "<div>\n<style scoped>\n    .dataframe tbody tr th:only-of-type {\n        vertical-align: middle;\n    }\n\n    .dataframe tbody tr th {\n        vertical-align: top;\n    }\n\n    .dataframe thead th {\n        text-align: right;\n    }\n</style>\n<table border=\"1\" class=\"dataframe\">\n  <thead>\n    <tr style=\"text-align: right;\">\n      <th></th>\n      <th>Unnamed: 0</th>\n      <th>0</th>\n    </tr>\n  </thead>\n  <tbody>\n    <tr>\n      <th>0</th>\n      <td>settings-notifications.html</td>\n      <td>Notifications\\nUse this page to enable and dis...</td>\n    </tr>\n    <tr>\n      <th>1</th>\n      <td>configuring-project-and-ide-settings.html</td>\n      <td>Configuring the IDE\\nIntelliJ IDEA allows you ...</td>\n    </tr>\n    <tr>\n      <th>2</th>\n      <td>php-built-in-web-server.html</td>\n      <td>Built-in web server\\nThe following is only val...</td>\n    </tr>\n    <tr>\n      <th>3</th>\n      <td>work-with-scala-worksheet-and-ammonite.html</td>\n      <td>Scala worksheet and Ammonite\\nYou can quickly ...</td>\n    </tr>\n    <tr>\n      <th>4</th>\n      <td>finding-and-replacing-text-in-project.html</td>\n      <td>Search and replace a target within a project\\n...</td>\n    </tr>\n  </tbody>\n</table>\n</div>"
     },
     "execution_count": 4,
     "metadata": {},
     "output_type": "execute_result"
    }
   ],
   "source": [
    "df = pandas.read_csv(\"topic_text.csv\")\n",
    "\n",
    "df.head(5)"
   ],
   "metadata": {
    "collapsed": false,
    "pycharm": {
     "name": "#%%\n"
    }
   }
  },
  {
   "cell_type": "markdown",
   "source": [
    "[https://radimrehurek.com/gensim/auto_examples/core/run_core_concepts.html#core-concepts-vector](https://radimrehurek.com/gensim/auto_examples/core/run_core_concepts.html#core-concepts-vector)"
   ],
   "metadata": {
    "collapsed": false
   }
  },
  {
   "cell_type": "code",
   "execution_count": 5,
   "outputs": [],
   "source": [
    "all_text = [[word for word in nltk.word_tokenize(doc.lower().replace(\"/\", \" \").replace(\"\\\\\", \" \")) if word not in stop_words and word not in string.punctuation] for doc in list(df[\"0\"])]"
   ],
   "metadata": {
    "collapsed": false,
    "pycharm": {
     "name": "#%%\n"
    }
   }
  },
  {
   "cell_type": "code",
   "execution_count": 92,
   "outputs": [],
   "source": [
    "def nltk_pos_tagger(nltk_tag):\n",
    "    if nltk_tag.startswith('J'):\n",
    "        return wordnet.ADJ\n",
    "    elif nltk_tag.startswith('V'):\n",
    "        return wordnet.VERB\n",
    "    elif nltk_tag.startswith('N'):\n",
    "        return wordnet.NOUN\n",
    "    elif nltk_tag.startswith('R'):\n",
    "        return wordnet.ADV\n",
    "    else:\n",
    "        return wordnet.NOUN\n",
    "\n",
    "def lem(source_text):\n",
    "    tokens = nltk.word_tokenize(source_text.lower().replace(\"/\", \" \"). replace(\"\\\\\", \" \"))\n",
    "    # print(\"First 10 tokens:\", tokens[:10])\n",
    "\n",
    "    tokens_with_pos_tags = nltk.pos_tag(tokens)\n",
    "    # print(\"With tags:\", tokens_with_pos_tags[:10])\n",
    "\n",
    "    clean_lemmas = []\n",
    "\n",
    "    for token in tokens_with_pos_tags:\n",
    "        if token[0].lower() not in stop_words and token[0] not in string.punctuation:\n",
    "            lemma = lemmatizer.lemmatize(token[0].lower(), nltk_pos_tagger(token[1]))\n",
    "            clean_lemmas.append(lemma)\n",
    "\n",
    "    return clean_lemmas"
   ],
   "metadata": {
    "collapsed": false,
    "pycharm": {
     "name": "#%%\n"
    }
   }
  },
  {
   "cell_type": "code",
   "execution_count": 22,
   "outputs": [],
   "source": [
    "lemmatizer = WordNetLemmatizer()"
   ],
   "metadata": {
    "collapsed": false,
    "pycharm": {
     "name": "#%%\n"
    }
   }
  },
  {
   "cell_type": "code",
   "execution_count": 93,
   "outputs": [],
   "source": [
    "# all_text = [lem(doc) for doc in list(df[\"0\"])]"
   ],
   "metadata": {
    "collapsed": false,
    "pycharm": {
     "name": "#%%\n"
    }
   }
  },
  {
   "cell_type": "code",
   "execution_count": 153,
   "outputs": [
    {
     "data": {
      "text/plain": "[('in', 'IN'),\n ('the', 'DT'),\n ('dialog', 'NN'),\n ('that', 'WDT'),\n ('opens', 'VBZ'),\n (',', ','),\n ('click', 'VB'),\n ('the', 'DT'),\n ('user-defined', 'JJ'),\n ('node', 'NN'),\n ('and', 'CC'),\n ('select', 'VB'),\n ('the', 'DT'),\n ('required', 'JJ'),\n ('template', 'NN'),\n ('.', '.'),\n ('delete', 'JJ'),\n ('project', 'NN'),\n ('templates', 'VBZ'),\n ('from', 'IN'),\n ('the', 'DT'),\n ('main', 'JJ'),\n ('menu', 'NN'),\n (',', ','),\n ('select', 'VBP'),\n ('file', 'NN'),\n ('|', 'NNP'),\n ('new', 'JJ'),\n ('projects', 'NNS'),\n ('setup', 'VBP'),\n ('|', 'JJ'),\n ('manage', 'NN'),\n ('project', 'NN'),\n ('templates', 'VBZ'),\n ('.', '.'),\n ('select', 'VB'),\n ('the', 'DT'),\n ('template', 'NN'),\n ('that', 'IN'),\n ('you', 'PRP'),\n ('want', 'VBP'),\n ('to', 'TO'),\n ('remove', 'VB'),\n ('and', 'CC'),\n ('click', 'VB'),\n ('.', '.')]"
     },
     "execution_count": 153,
     "metadata": {},
     "output_type": "execute_result"
    }
   ],
   "source": [
    "text = \"In the dialog that opens, click the User-defined node and select the required template.\\nDelete project templates\\nFrom the main menu, select File | New Projects Setup | Manage Project Templates.\\nSelect the template that you want to remove and click .\".lower()\n",
    "\n",
    "tokens = nltk.word_tokenize(text)\n",
    "\n",
    "# pos_tagger = StanfordPOSTagger('english-bidirectional-distsim.tagger')\n",
    "\n",
    "nltk.pos_tag(tokens)"
   ],
   "metadata": {
    "collapsed": false,
    "pycharm": {
     "name": "#%%\n"
    }
   }
  },
  {
   "cell_type": "code",
   "execution_count": 6,
   "outputs": [
    {
     "name": "stdout",
     "output_type": "stream",
     "text": [
      "First topic:\n",
      "171\n",
      "['notifications', 'use', 'page', 'enable', 'disable', 'notifications', 'certain', 'events', 'change', 'presentation', 'optionally', 'enable', 'logging', 'item', 'description', 'display', 'balloon', 'notifications', 'select', 'checkbox', 'enable', 'event', 'notifications', 'intellij', 'idea', 'notifications', 'generally', 'shown', 'balloons', 'appear', 'screen', 'corresponding', 'events', 'take', 'place', 'regardless', 'state', 'option', 'always', 'find', 'notifications', 'current', 'session', 'event', 'log', 'enable', 'system', 'notifications', 'select', 'checkbox', 'allow', 'showing', 'system', 'notification', 'windows', 'may', 'want', 'disable', 'option', 'hide', 'intellij', 'idea', 'icon', 'system', 'tray', 'group', 'column', 'lists', 'groups', 'events', 'may', 'notified', 'may', 'logged', 'popup', 'display', 'balloon', 'notification', 'checkbox', 'selected', 'settings', 'column', 'specify', 'notifications', 'corresponding', 'group', 'events', 'shown', 'available', 'display', 'options', 'balloon', 'balloons', 'notification', 'messages', 'appear', 'screen', 'short', 'period', 'time', 'disappear', 'automatically', 'notifications', 'also', 'shown', 'status', 'bar', 'added', 'list', 'notifications', 'sticky', 'balloon', 'notification', 'balloons', 'stay', 'screen', 'unless', 'close', 'tool', 'window', 'balloon', 'notification', 'balloons', 'shown', 'appropriate', 'tool', 'window', 'open', 'popup', 'notifications', 'corresponding', 'group', 'events', 'shown', 'log', 'checkbox', 'group', 'events', 'selected', 'corresponding', 'events', 'logged', 'seen', 'event', 'log', 'tool', 'window', 'read', 'aloud', 'read', 'selected', 'notifications', 'loud', 'read', 'aloud', 'column', 'available', 'macos', 'configure', 'voice', 'settings', 'macos', 'preferences', 'learn', 'accessibility', 'features', 'macos', 'see', 'official', 'apple', 'documentation']\n"
     ]
    }
   ],
   "source": [
    "print(\"First topic:\")\n",
    "print(len(all_text[0]), \"tokens\")\n",
    "print(all_text[0])"
   ],
   "metadata": {
    "collapsed": false,
    "pycharm": {
     "name": "#%%\n"
    }
   }
  },
  {
   "cell_type": "code",
   "execution_count": 7,
   "outputs": [],
   "source": [
    "frequency = dd(int)\n",
    "\n",
    "for doc in all_text:\n",
    "    for token in doc:\n",
    "        frequency[token] += 1"
   ],
   "metadata": {
    "collapsed": false,
    "pycharm": {
     "name": "#%%\n"
    }
   }
  },
  {
   "cell_type": "code",
   "execution_count": 8,
   "outputs": [
    {
     "name": "stdout",
     "output_type": "stream",
     "text": [
      "Word frequencies:\n",
      "('notifications', 27)\n"
     ]
    }
   ],
   "source": [
    "print(\"Word frequencies:\")\n",
    "print(next(iter(frequency.items())))"
   ],
   "metadata": {
    "collapsed": false,
    "pycharm": {
     "name": "#%%\n"
    }
   }
  },
  {
   "cell_type": "code",
   "execution_count": 9,
   "outputs": [
    {
     "data": {
      "text/plain": "12879"
     },
     "execution_count": 9,
     "metadata": {},
     "output_type": "execute_result"
    }
   ],
   "source": [
    "len(frequency)"
   ],
   "metadata": {
    "collapsed": false,
    "pycharm": {
     "name": "#%%\n"
    }
   }
  },
  {
   "cell_type": "code",
   "execution_count": 10,
   "outputs": [
    {
     "data": {
      "text/plain": "4619"
     },
     "execution_count": 10,
     "metadata": {},
     "output_type": "execute_result"
    }
   ],
   "source": [
    "singles = []\n",
    "\n",
    "for key, value in frequency.items():\n",
    "    if value == 1:\n",
    "        singles.append(key)\n",
    "\n",
    "len(singles)"
   ],
   "metadata": {
    "collapsed": false,
    "pycharm": {
     "name": "#%%\n"
    }
   }
  },
  {
   "cell_type": "code",
   "execution_count": 11,
   "outputs": [
    {
     "data": {
      "text/plain": "True"
     },
     "execution_count": 11,
     "metadata": {},
     "output_type": "execute_result"
    }
   ],
   "source": [
    "\"notification\" in frequency.keys()"
   ],
   "metadata": {
    "collapsed": false,
    "pycharm": {
     "name": "#%%\n"
    }
   }
  },
  {
   "cell_type": "code",
   "execution_count": 12,
   "outputs": [
    {
     "data": {
      "text/plain": "{'loud': 1,\n 'configuring-project-and-ide-settings.html': 1,\n 'backs': 1,\n 'liip': 1,\n 'php-osx': 1,\n 'cutoff': 1,\n 'new|scala': 1,\n 'blog.': 1,\n 'annotation.jar': 1,\n 'grasp': 1,\n 'lettered': 1,\n 'vsc': 1,\n 'minimum-stability': 1,\n 'notifcation': 1,\n '=1.0': 1,\n 'package-specific': 1,\n 'field.to': 1,\n 'details.to': 1,\n 'interpreter.from': 1,\n 'interpreters.in': 1,\n 'opens.in': 1,\n 'opens.if': 1,\n 'permitted': 1,\n 'no-check-all': 1,\n 'no-check-lock': 1,\n 'no-check-publish': 1,\n 'with-dependencies': 1,\n 'dump-autoload': 1,\n 'no-scripts': 1,\n 'autoload_classmap': 1,\n 'classmap-authoritative': 1,\n 'not-found': 1,\n 'no-dev': 1,\n '.composer': 1,\n 'clear-cache': 1,\n '.phar': 1,\n 'changes|': 1,\n 'ctrl+alt+shift+d': 1,\n 'greys': 1,\n 'engineering': 1,\n '93.184.216.34': 1,\n '5439': 1,\n '1527': 1,\n '9042': 1,\n '10000': 1,\n 'server2': 1,\n '9083': 1,\n 'metastore': 1,\n '8123': 1,\n '8563': 1,\n '8082': 1,\n '50000': 1,\n '1434': 1,\n '1521': 1,\n '443': 1,\n '5000': 1,\n 'idea-support': 1,\n 'screenshots': 1,\n 'animations': 1,\n 'xerces': 1,\n '2.11': 1,\n 'foundation': 1,\n 'xml-aware': 1,\n 'undeployment': 1,\n 'spacebar': 1,\n 'informaiton': 1,\n 'gralde': 1,\n 'bypassed': 1,\n '3:50': 1,\n '6:07': 1,\n '5:01': 1,\n 'account.to': 1,\n 'file.click': 1,\n 'non-variadic': 1,\n 'discounts': 1,\n 'notations': 1,\n 'dir_path': 1,\n 'ds': 1,\n 'month_name_full': 1,\n 'january': 1,\n 'february': 1,\n 'month_name_short': 1,\n 'jan': 1,\n 'feb': 1,\n 'product_name': 1,\n 'modulesalt+o': 1,\n 'alt+l': 1,\n 'control+mouse': 1,\n '≠': 1,\n 'typography': 1,\n 'dialog.in': 1,\n 'xslt-namespace': 1,\n 'www.w3.org': 1,\n '1999': 1,\n '2.0-capable': 1,\n 'saxon': 1,\n '9-he': 1,\n 'error-checking': 1,\n 'existence': 1,\n 'repetitions': 1,\n 'java.lang.threadgroup': 1,\n 'ambiguity': 1,\n 'java.sql.date': 1,\n 'myvar.myfield': 1,\n 'reference-type': 1,\n 'compiler-generated': 1,\n 'java.util.arraylist': 1,\n '798.': 1,\n 'getstacktrace': 1,\n '.test': 1,\n 'est.tes': 1,\n 'tes': 1,\n 'est': 1,\n '.t': 1,\n 'disregard': 1,\n 'reduction': 1,\n 'sun.misc.unsafe': 1,\n 'side-effects': 1,\n 'erasure': 1,\n 'this.getname': 1,\n 'this.toarray': 1,\n 'childrenarray': 1,\n 'haschildren': 1,\n 'unordered': 1,\n 'hashmap': 1,\n 'negligible': 1,\n 'slowdown': 1,\n 'jvm-level': 1,\n 'avoids': 1,\n 'safepoint': 1,\n 'bias': 1,\n 'hotspot': 1,\n 'perf_event_paranoid': 1,\n 'non-root': 1,\n 'reboots': 1,\n 'kernel.perf_event_paranoid=1': 1,\n 'kernel.kptr_restrict=0': 1,\n \"'sysctl\": 1,\n \"system'\": 1,\n \"'language\": 1,\n 'tab_width': 1,\n 'ij_java_keep_indents_on_empty_lines': 1,\n 'ij_java_label_indent_size': 1,\n 'ij_java_label_indent_absolute': 1,\n 'ij_java_do_not_indent_top_level_class_members': 1,\n 'ij_java_use_relative_indents': 1,\n 'project_modules': 1,\n 're-building': 1,\n 'isolates': 1,\n '2.5.6.': 1,\n 'groovydemo11': 1,\n 'hello.groovy': 1,\n '2.5.6': 1,\n 'extras-jaxb': 1,\n 'mocha-specific': 1,\n 'downsides': 1,\n 'fowler': 1,\n 'disciplined': 1,\n 'restructuring': 1,\n 'hence': 1,\n 'prove': 1,\n 'inadvertently': 1,\n 'find-and-replace': 1,\n 'unintentionally': 1,\n 'minimises': 1,\n 'server.init': 1,\n 'server.run': 1,\n 'is.rename': 1,\n 'method.rename': 1,\n 'suggested.': 1,\n 'well.': 1,\n 'touches': 1,\n 'self-documenting': 1,\n 'message.substring': 1,\n 'representremoving': 1,\n 'encapsulates': 1,\n 'indexoffieldvalue': 1,\n 'secondly': 1,\n 'indexofendoffieldvalue': 1,\n 'inverse': 1,\n ':getusernamefrommessage': 1,\n 'parser.gettextfrommessage': 1,\n 'spreads': 1,\n 'dealt': 1,\n 'aid': 1,\n 'understandable': 1,\n 'segments': 1,\n 'descriptively-named': 1,\n 'realise': 1,\n 'saw': 1,\n 'trade-offs': 1,\n 'decisions': 1,\n 'decision-making': 1,\n 'hid': 1,\n 'dictate': 1,\n 'offs': 1,\n 'news': 1,\n 'evolves': 1,\n 'lesser': 1,\n 'touched': 1,\n 'simplification': 1,\n 'toll': 1,\n 'fastest': 1,\n 'ended': 1,\n 'it.place': 1,\n 'caveat': 1,\n 'conclusion': 1,\n 'low-impact': 1,\n 'striving': 1,\n 're-shaping': 1,\n 'stress-free': 1,\n 'sentence': 1,\n 'ctrl+shift+j': 1,\n 'eliminates': 1,\n 'structs': 1,\n 'slices': 1,\n \"drag'n'drop\": 1,\n 'ellipses': 1,\n 'folds': 1,\n 'unfolds': 1,\n 'foldable': 1,\n 'editor-fold': 1,\n 'smarty3': 1,\n 'parsed': 1,\n 'ideas': 1,\n \"'bundler\": 1,\n '.bundle': 1,\n 'universal': 1,\n 'deploy.rb': 1,\n 'capifying': 1,\n 'multistage': 1,\n 'oauthtype': 1,\n 'oauthserviceacctemail': 1,\n 'oauthpvtkeypath': 1,\n 'oauthtype=0': 1,\n 'pre-generated': 1,\n 'oauthaccesstoken': 1,\n 'oauthtype=2': 1,\n 'developers.google.com': 1,\n 'authenticating': 1,\n 'empowers': 1,\n 'stepik': 1,\n 'educators': 1,\n 'privately': 1,\n 'co-workers': 1,\n 'creator': 1,\n 'jsr': 1,\n '223': 1,\n 'clojure': 1,\n 'titled': 1,\n 'designation': 1,\n '.profile.groovy': 1,\n 'arranges': 1,\n 'visiting': 1,\n 'wrongly': 1,\n \"'request\": 1,\n \"404'\": 1,\n 'first-class': 1,\n 'kotlin-specific': 1,\n 'gradually': 1,\n 'peculiarities': 1,\n 'interop': 1,\n 'perfect': 1,\n 'misconfiguration': 1,\n 'chance': 1,\n 'unpushed': 1,\n 'git-scm.com': 1,\n 'git-pull': 1,\n 'converters': 1,\n \"'org.jetbrains\": 1,\n 'annotations-java5:16.0.2.': 1,\n \"'annotations\": 1,\n 'annotations-java5': 1,\n 'nls': 1,\n 'propertykey': 1,\n 'testonly': 1,\n '0.0.0.0:8080': 1,\n 'beauty': 1,\n 'use-cases': 1,\n 'synchronizable': 1,\n 'zero-to-infinity': 1,\n \"'foo\": 1,\n 'anotherclass': 1,\n 'someinterface': 1,\n \"'contained\": 1,\n \"'_a\": 1,\n \"'_st\": 1,\n '_a': 1,\n '_st': 1,\n 'sandbox': 1,\n 'vmware': 1,\n 'discovering': 1,\n 'app.vagrantup.com': 1,\n 'command-line-interface': 1,\n 'resuming': 1,\n 'destroying': 1,\n 'comprehend': 1,\n 'followind': 1,\n 'naviagate': 1,\n 'reruns': 1,\n 'staying': 1,\n 'widest': 1,\n '|show': 1,\n 'icicle': 1,\n 'y-axis': 1,\n 'x-axis': 1,\n '1:1.': 1,\n 'sampled': 1,\n 'org.bar.classname': 1,\n 'mymethod': 1,\n 'what-if': 1,\n 'profiled': 1,\n 'cumulative': 1,\n 'summarize': 1,\n 'payload': 1,\n 'fine-tuned': 1,\n 'alike': 1,\n '12.': 1,\n '20.': 1,\n 'degradation': 1,\n 'waste': 1,\n 'field.in': 1,\n 'webassembly.org': 1,\n 'arch': 1,\n 'goos=js': 1,\n 'goarch=wasm': 1,\n 'unlockcommercialfeatures': 1,\n '+unlockcommercialfeatures': 1,\n 'unlocks': 1,\n 'jdk.java.net': 1,\n '.jfc': 1,\n 'sslhandshakeexception': 1,\n 'javax.net.ssl.sslhandshakeexception': 1,\n 'vulnerability': 1,\n '8.0.3': 1,\n '1.0.': 1,\n '1.1.': 1,\n 'voiceover': 1,\n '2015': 1,\n 'windowsaccessbridge-32.dll': 1,\n 'ide.support.screenreaders.enabled=true': 1,\n 'auto-inserting': 1,\n 'alt+shift+6': 1,\n 't.': 1,\n 'living': 1,\n 'succeed': 1,\n \"'module\": 1,\n 'sec': 1,\n 'accounted': 1,\n 'fashion': 1,\n 'not_started': 1,\n 'jvm_sleep': 1,\n 'object.wait': 1,\n 'jvm_monitorwait': 1,\n 'zombie': 1,\n 'instrumental': 1,\n 'self-referencing': 1,\n 'auto-variables': 1,\n 'efficiently': 1,\n 'indirect': 1,\n 'distracting': 1,\n 'dfa-assisted': 1,\n 'identifiable': 1,\n 'accompanies': 1,\n 'blow': 1,\n 'waring': 1,\n 'pytest-xdist': 1,\n '12s': 1,\n '79ms': 1,\n '30s': 1,\n '13ms': 1,\n 'consequentially': 1,\n 'addopts': 1,\n '-n3': 1,\n 'custorm': 1,\n 'java-language-specific': 1,\n 'substitutions': 1,\n 'clearallforwardings': 1,\n 'connecttimeout': 1,\n 'forwardx11': 1,\n 'forwardx11trusted': 1,\n 'gssapiauthentication': 1,\n 'hashknownhosts': 1,\n 'identitiesonly': 1,\n 'localforward': 1,\n 'preferredauthentications': 1,\n 'proxycommand': 1,\n 'remoteforward': 1,\n 'serveralivecountmax': 1,\n 'aliveinterval': 1,\n 'stricthostkeychecking': 1,\n 'userknownhostsfile': 1,\n 'xauthlocation': 1,\n 'forwardagent': 1,\n 'oas': 1,\n 'opnp': 1,\n 'swag': 1,\n 'self-hosted': 1,\n 'on-premise': 1,\n 'swagger-codegen': 1,\n 'formed': 1,\n 'auto-completes': 1,\n 'incorporating': 1,\n '-sourcepath': 1,\n '-link': 1,\n '-private': 1,\n '-package': 1,\n '-protected': 1,\n '-public': 1,\n '-notree': 1,\n '-nonavbar': 1,\n '-noindex': 1,\n '-splitindex': 1,\n '-use': 1,\n '-author': 1,\n '-version': 1,\n '-nodeprecated': 1,\n '-nodeprecatedlist': 1,\n 'it.': 1,\n 'suit': 1,\n 'includecategory': 1,\n 'subtype': 1,\n 'uniqueid': 1,\n 'vms': 1,\n 'double-clicks': 1,\n 'producing': 1,\n 'self-explanatory': 1,\n 'plotting': 1,\n 'posted': 1,\n 'createform': 1,\n 'formtypeinterface': 1,\n 'shellcheck': 1,\n 'pitfalls': 1,\n 'shfmt': 1,\n 'explainshell': 1,\n '.bash': 1,\n '.zsh': 1,\n '.csh': 1,\n 'workloads': 1,\n 'parent-child': 1,\n '3.3': 1,\n 'dependecies': 1,\n 'pressescape': 1,\n '3.11': 1,\n '604': 1,\n '612': 1,\n '613': 1,\n '634': 1,\n '635': 1,\n 'motivation': 1,\n 'rationale': 1,\n '636': 1,\n '585': 1,\n '593': 1,\n '614': 1,\n 'relaxing': 1,\n 'pep-570': 1,\n 'positional-only': 1,\n 'pep-572': 1,\n 'pep-586': 1,\n 'pep-589': 1,\n 'pep-591': 1,\n '36817': 1,\n 'f-strings': 1,\n 'interpreters.': 1,\n 'auto-make': 1,\n 'cutting': 1,\n '100000.': 1,\n \"'maximize\": 1,\n \"'normalize\": 1,\n 'fie': 1,\n '25.': 1,\n 'scrollback': 1,\n 'recurse-submodules': 1,\n 'clones': 1,\n 'textconv': 1,\n 'cat-file': 1,\n '2.14': 1,\n 'if-branch': 1,\n 'else-branch': 1,\n 'vis': 1,\n 'linux.native.menu': 1,\n 'regroup': 1,\n 'standalone.xml': 1,\n 'uncommented': 1,\n 'batch-mode': 1,\n 'uppermost': 1,\n 're-start': 1,\n 'wsprojects': 1,\n 'dependant': 1,\n 'compromise': 1,\n 'accuracy': 1,\n 'trash': 1,\n 'findings': 1,\n 'md': 1,\n '.zpln': 1,\n \"'settings.xml'\": 1,\n \"'profiles.xml'\": 1,\n 'profile.xml': 1,\n 'factored': 1,\n 'plug-ins': 1,\n 'filename.mine': 1,\n 'filename.rold': 1,\n 'filename.rnew': 1,\n 'semi-automatically': 1,\n 'conflicts-free': 1,\n 'sever': 1,\n 'pytest-specific': 1,\n 'test_car_pytest.py': 1,\n 'test_car_pytest': 1,\n '4599.': 1,\n 'my_car.accelerate': 1,\n 'my_car.brake': 1,\n 'tempdir': 1,\n '55.': 1,\n 'pytest_bdd': 1,\n 'beneficial': 1,\n '160.': 1,\n 'test_car_pytest_bdd_fixture.py': 1,\n 'test_speed_valid': 1,\n 'test_speed_invalid': 1,\n 'three-finger': 1,\n 'swipe': 1,\n 'gestures': 1,\n 'unnamed.patch': 1,\n 'quoted': 1,\n 'unquote': 1,\n 'unquoted': 1,\n 'additions': 1,\n 'javax.persistence': 1,\n 'org.hibernate': 1,\n 'create-plugin': 1,\n 'structure.the': 1,\n 'abilities': 1,\n 'booktests.groovy': 1,\n 'diligently': 1,\n 'isbn': 1,\n 'generate-all': 1,\n 'bookcontroller.groovy': 1,\n 'create.gsp': 1,\n 'edit.gsp': 1,\n 'list.gsp': 1,\n 'show.gsp': 1,\n 'turmoil': 1,\n 'grailsdemo': 1,\n 'books': 1,\n 'stats': 1,\n 'subpages': 1,\n 'eyedropper': 1,\n 'brighter': 1,\n 'toolbar.in': 1,\n 'java.lang.runtimeexception': 1,\n '∞': 1,\n 'methodcalls': 1,\n 'psimethod': 1,\n 'variable.parent': 1,\n 'psiclass': 1,\n 'variable.text': 1,\n 'variable.name': 1,\n 'psireferenceexpression': 1,\n 'parameterless': 1,\n '__context__': 1,\n 'inherent': 1,\n 'instantiate': 1,\n 'services.xml': 1,\n 'populates': 1,\n 'deselecting': 1,\n 'services.yml': 1,\n 'premium': 1,\n 'jb': 1,\n 'support-int': 1,\n 'collaborating': 1,\n 'view-only': 1,\n 'codewithmeclientdist': 1,\n 'unfollow': 1,\n 'followers': 1,\n 'kick': 1,\n 'dmbs': 1,\n 'docs.microsoft.com': 1,\n 'login.microsoftonline.com': 1,\n 'ad': 1,\n 'short-term': 1,\n 'recreated': 1,\n 'rebuilds': 1,\n '1.5.0': 1,\n 'squiz': 1,\n 'uiz.net': 1,\n 'psr2': 1,\n 'non-psr': 1,\n 'mediawiki': 1,\n 'phpcompatibility': 1,\n 'sbt.build': 1,\n 'glassfish-ejb-jar.xml': 1,\n 'jboss.xml': 1,\n \"'ejb\": 1,\n 'stylus.bat': 1,\n 'stylus-aware': 1,\n 'module_name.info.yml': 1,\n '.file': 1,\n '.module': 1,\n 'module_invoke_all': 1,\n 'module_invoke': 1,\n 'drupal_alter': 1,\n '.api.php': 1,\n 'drupal-style': 1,\n 'drush-ops': 1,\n 'programdata': 1,\n 'drush.bat': 1,\n 'drushcommands': 1,\n 'output.csv': 1,\n 'plt.scatter': 1,\n '⌥⇧↩': 1,\n 'resumed': 1,\n '1.3.x': 1,\n '-classic': 1,\n '-djava.compiler=none': 1,\n 'auto-commit': 1,\n 'ctrl+alt+shift+backspace': 1,\n 'struck-through': 1,\n '-didea.system.path': 1,\n '-didea.system.path=': 1,\n 'your_log_directory': 1,\n 'framework-': 1,\n 'technology-specific': 1,\n 'technology-related': 1,\n 'acquainted': 1,\n 'openclass': 1,\n 'openproperty': 1,\n 'fun': 1,\n 'vars': 1,\n 'vals': 1,\n 'methodcall': 1,\n 'this.javaclass.getname': 1,\n 'joint': 1,\n 'grown': 1,\n 'cohesive': 1,\n 'decompose': 1,\n 'сlone': 1,\n 'variadic': 1,\n 'slice': 1,\n 'anotherclass.invalue': 1,\n 'file.filename': 1,\n 'file.pathname': 1,\n 'file.classname': 1,\n 'file.qualifiedclassname': 1,\n 'file.lastmodified': 1,\n 'project.name': 1,\n 'module.name': 1,\n '1-12': 1,\n '1-31': 1,\n '0-11': 1,\n 'hour24': 1,\n '0-23': 1,\n 'java.text.simpledateformat': 1,\n 'copyrights': 1,\n 'wx': 1,\n 'kivy': 1,\n 'pyside': 1,\n 'pyqt5': 1,\n 'pyqt4': 1,\n 'gtk': 1,\n 'pandas.pydata.org': 1,\n 'pandas-docs': 1,\n 'element.qname': 1,\n 'competing': 1,\n 'jlabel': 1,\n 'jbutton': 1,\n 'jcheckbox': 1,\n 'anotherclass.intvalue': 1,\n '2022': 1,\n 'today.year': 1,\n '2019-2021': 1,\n 'inc.': 1,\n 'debug.keystore': 1,\n 'androiddebugkey': 1,\n 'cn': 1,\n 'cn=android': 1,\n 'o=android': 1,\n 'c=us': 1,\n 'cucumber-rails': 1,\n 're-applied': 1,\n 're-activate': 1,\n 'double-ctrl': 1,\n '2021.1.1': 1,\n '2021.1.2': 1,\n 'cucumber-java': 1,\n 'cucumber-java8': 1,\n '4.10.3': 1,\n 'hands-on': 1,\n 'pypiwin32': 1,\n 'testbase_1': 1,\n '_trial_temp': 1,\n 'synax': 1,\n 'backlash': 1,\n 'metacharacters': 1,\n 'backreferences': 1,\n 'stitle=': 1,\n 'distinguishing': 1,\n 'suspect': 1,\n 'bottleneck': 1,\n '.rest': 1,\n 'gtr': 1,\n 'data-ascii': 1,\n 'data-binary': 1,\n 'data-raw': 1,\n 'data-urlencode': 1,\n 'resending': 1,\n 'client.test': 1,\n 'client.assert': 1,\n 'expiry': 1,\n 'http-requests-log.http': 1,\n 'javafx-specific': 1,\n 'helloapplication.java': 1,\n \"'helloapplication.main\": 1,\n 'non-modular': 1,\n '-1073740791': 1,\n '0xc0000409': 1,\n 'nvidea': 1,\n 'notarization': 1,\n 'go-specific': 1,\n 'csh': 1,\n 'audible': 1,\n 'shell-specific': 1,\n 'keybindings': 1,\n 'frequency': 1,\n 'dmitry': 1,\n 'mvn': 1,\n 'preserve-merges': 1,\n 'changes.checkout': 1,\n 'rebase.rebase': 1,\n 'hotfix': 1,\n 'backport': 1,\n 'ongoing': 1,\n 'noreload': 1,\n 'runserver': 1,\n 'autoreload': 1,\n 'django-admin': 1,\n 'prefetch': 1,\n 'round': 1,\n 'trips': 1,\n 'narrowing': 1,\n '7.1.0': 1,\n 'snakeyaml': 1,\n 'org.yaml.snakeyaml': 1,\n 'dependiency': 1,\n 'sqlj': 1,\n '50000.': 1,\n 'queryparam': 1,\n 'designator': 1,\n 'request-uri': 1,\n 'alt+shift+c': 1,\n 'ascendant': 1,\n 'neighboring': 1,\n 'breadcrumb': 1,\n 'lettuce-specific': 1,\n 'lessc': 1,\n 'scss-aware': 1,\n 'demonstrated': 1,\n 'auto-injected': 1,\n 'content-disposition': 1,\n '301': 1,\n '302': 1,\n 'no-redirect': 1,\n 'parametrize': 1,\n 'universally': 1,\n 'uuid-v4': 1,\n 'projectroot': 1,\n 'historyfolder': 1,\n 'myfolder': 1,\n 'myfile-1.json': 1,\n 'handler.js': 1,\n 'one-size-fits-all': 1,\n 'robustness': 1,\n 'refreshers': 1,\n 'refresher': 1,\n 'essentials': 1,\n 'rendererers': 1,\n 'ctrl+alt+shift+p': 1,\n 'hello.printhello': 1,\n 'printtext': 1,\n 'number_of_occurrences': 1,\n 'iterator': 1,\n 'decrement': 1,\n 'webserver': 1,\n 'xdebug_session_start': 1,\n 'xdebug_session_start=some-session-name': 1,\n 'xdebug_session_start=phpstorm': 1,\n 'resilient': 1,\n 'message-driven': 1,\n 'companion': 1,\n 'classify': 1,\n \"'cucumber\": 1,\n '0.13.4.pre2': 1,\n 'end-tag': 1,\n 'setname': 1,\n 'addmessage': 1,\n 'non-literals': 1,\n 'printsomething': 1,\n 'non-literal': 1,\n 'builder-like': 1,\n 'same-named': 1,\n 'hi': 1,\n 'spanish': 1,\n 'hola': 1,\n 'finnish': 1,\n 'hei': 1,\n 'this.greeting': 1,\n \"'new\": 1,\n 'taka': 1,\n '29': 1,\n 'abstraction': 1,\n 'envy': 1,\n 'weakened': 1,\n 'deeply': 1,\n 'adapter': 1,\n 'limited-scope': 1,\n 'per-class': 1,\n 'non-op': 1,\n 'singleton': 1,\n 'clonenotsupportedexception': 1,\n 'maturity': 1,\n 'printstacktrace': 1,\n 'thread.dumpstack': 1,\n 'date-time': 1,\n 'string.concat': 1,\n 'comparisons': 1,\n 'expression.equals': 1,\n '.equals': 1,\n \"'list.indexof\": 1,\n 'missorted': 1,\n 'multi-catch': 1,\n 'optional.ispresent': 1,\n 'functional-style': 1,\n 'single-element': 1,\n 'fused': 1,\n 'quirks': 1,\n 'filed': 1,\n 'unguarded': 1,\n 'negation': 1,\n 'fallthrough': 1,\n 'idempotent': 1,\n 'density': 1,\n 'law': 1,\n 'demeter': 1,\n 'redundancy': 1,\n 'weaker': 1,\n 'package-private': 1,\n 'encapsulation': 1,\n 'java.lang.throwable': 1,\n 'java.lang.error': 1,\n 'java.lang.threaddeath': 1,\n 'throwable.initcause': 1,\n 'finalization': 1,\n 'test-only': 1,\n 'non-varargs': 1,\n 'overridable': 1,\n 'date.tostring': 1,\n 'string.touppercase': 1,\n 'codetolowercase': 1,\n 'time.tostring': 1,\n 'platformcodes': 1,\n 'stringtokenizer': 1,\n 'array.length': 1,\n 'recordstore': 1,\n 'startswith': 1,\n 'codeendswith': 1,\n 'auto-boxing': 1,\n 'auto-unboxing': 1,\n 'enumerated': 1,\n 'collections.empty_': 1,\n 'collections.empty': 1,\n 'stringbuffer': 1,\n 'unboxing': 1,\n 'pollution': 1,\n 'collections.sort': 1,\n 'list.sort': 1,\n 'combinator': 1,\n 'collection.removeif': 1,\n 'map.foreach': 1,\n 'files.readstring': 1,\n 'files.writestring': 1,\n 'string.repeat': 1,\n 'doclint': 1,\n 'package.html': 1,\n 'inheritdoc': 1,\n 'assertsame': 1,\n 'assertthat': 1,\n 'beforeclass': 1,\n 'beforeall': 1,\n 'afterclass': 1,\n 'afterall': 1,\n 'datapoint': 1,\n 'classrule': 1,\n 'junitplatform.class': 1,\n 'parameterized.class': 1,\n 'super.teardown': 1,\n 'junit.framework.assert': 1,\n 'loggers': 1,\n 'system.gc': 1,\n 'runtime.gc': 1,\n 'zero-length': 1,\n 'modularization': 1,\n 'lambda-unfriendly': 1,\n 'questionable': 1,\n 'rounding': 1,\n 'double.nan': 1,\n 'float.nan': 1,\n 'non-reproducible': 1,\n 'loses': 1,\n 'overflow': 1,\n 'oddness': 1,\n 'unpredictable': 1,\n 'disjoint': 1,\n 'boxed': 1,\n 'arrays.aslist': 1,\n 'inefficient': 1,\n 'keyset': 1,\n 'enummap': 1,\n 'collection.addall': 1,\n 'string.format': 1,\n 'enumset': 1,\n 'stringbuilder.tostring': 1,\n 'tail': 1,\n 'random.nextdouble': 1,\n 'portability': 1,\n 'system.exit': 1,\n 'system.getenv': 1,\n 'java.lang.processbuilder': 1,\n 'arrays.equals': 1,\n 'string.replaceall': 1,\n 'casting': 1,\n 'class.getclass': 1,\n 'comparable': 1,\n 'covariant': 1,\n 'java.util.stringtokenizer': 1,\n 'iterator.hasnext': 1,\n 'iterator.next': 1,\n 'nosuchelementexception': 1,\n 'billions': 1,\n 'math.random': 1,\n 'optional.get': 1,\n 'ispresent': 1,\n 'source-only': 1,\n 'non-comparable': 1,\n 'charsequence': 1,\n 'messageformat.format': 1,\n 'subtraction': 1,\n 'comparator.compare': 1,\n 'system.arraycopy': 1,\n 'class.newinstance': 1,\n 'hashtable': 1,\n 'resultset': 1,\n 'methodhandle': 1,\n 'varhandle': 1,\n 'non-runtime': 1,\n 'reflection': 1,\n 'nonexistent': 1,\n 'jndi': 1,\n 'drivermanager': 1,\n 'connection.prepare': 1,\n 'statement.execute': 1,\n 'system.loadlibrary': 1,\n 'system.setsecuritymanager': 1,\n 'securitymanager': 1,\n 'httpsession': 1,\n 'objectoutputstream': 1,\n 'readresolve': 1,\n 'writereplace': 1,\n 'serialpersistentfields': 1,\n 'objectstreamfield': 1,\n 'deserialization': 1,\n 'dependsonmethods': 1,\n 'threading': 1,\n 'system.runfinalizersonexit': 1,\n 'thread.run': 1,\n 'thread.setpriority': 1,\n 'thread.start': 1,\n 'thread.stop': 1,\n 'thread.yield': 1,\n 'signalall': 1,\n 'java.lang.thread': 1,\n 'double-checked': 1,\n 'acquired': 1,\n 'non-atomic': 1,\n 'non-private': 1,\n 'thread-safe': 1,\n 'getclass': 1,\n 'threadlocal': 1,\n 'threadlocalrandom': 1,\n 'unconditional': 1,\n 'spins': 1,\n 'isinstance': 1,\n 'overloads': 1,\n 'non-accessible': 1,\n \"'virtual\": 1,\n 'rich-text': 1,\n 'rtf': 1,\n 'tied': 1,\n 'datanucleusenhance': 1,\n 'occupying': 1,\n ...}"
     },
     "execution_count": 12,
     "metadata": {},
     "output_type": "execute_result"
    }
   ],
   "source": [
    "dict(sorted(frequency.items(), key=lambda item: item[1]))"
   ],
   "metadata": {
    "collapsed": false,
    "pycharm": {
     "name": "#%%\n"
    }
   }
  },
  {
   "cell_type": "code",
   "execution_count": 13,
   "outputs": [
    {
     "data": {
      "text/plain": "1067"
     },
     "execution_count": 13,
     "metadata": {},
     "output_type": "execute_result"
    }
   ],
   "source": [
    "frequency[\"template\"]"
   ],
   "metadata": {
    "collapsed": false,
    "pycharm": {
     "name": "#%%\n"
    }
   }
  },
  {
   "cell_type": "code",
   "execution_count": 14,
   "outputs": [
    {
     "name": "stdout",
     "output_type": "stream",
     "text": [
      "First topic:\n",
      "170\n",
      "['notifications', 'use', 'page', 'enable', 'disable', 'notifications', 'certain', 'events', 'change', 'presentation', 'optionally', 'enable', 'logging', 'item', 'description', 'display', 'balloon', 'notifications', 'select', 'checkbox', 'enable', 'event', 'notifications', 'intellij', 'idea', 'notifications', 'generally', 'shown', 'balloons', 'appear', 'screen', 'corresponding', 'events', 'take', 'place', 'regardless', 'state', 'option', 'always', 'find', 'notifications', 'current', 'session', 'event', 'log', 'enable', 'system', 'notifications', 'select', 'checkbox', 'allow', 'showing', 'system', 'notification', 'windows', 'may', 'want', 'disable', 'option', 'hide', 'intellij', 'idea', 'icon', 'system', 'tray', 'group', 'column', 'lists', 'groups', 'events', 'may', 'notified', 'may', 'logged', 'popup', 'display', 'balloon', 'notification', 'checkbox', 'selected', 'settings', 'column', 'specify', 'notifications', 'corresponding', 'group', 'events', 'shown', 'available', 'display', 'options', 'balloon', 'balloons', 'notification', 'messages', 'appear', 'screen', 'short', 'period', 'time', 'disappear', 'automatically', 'notifications', 'also', 'shown', 'status', 'bar', 'added', 'list', 'notifications', 'sticky', 'balloon', 'notification', 'balloons', 'stay', 'screen', 'unless', 'close', 'tool', 'window', 'balloon', 'notification', 'balloons', 'shown', 'appropriate', 'tool', 'window', 'open', 'popup', 'notifications', 'corresponding', 'group', 'events', 'shown', 'log', 'checkbox', 'group', 'events', 'selected', 'corresponding', 'events', 'logged', 'seen', 'event', 'log', 'tool', 'window', 'read', 'aloud', 'read', 'selected', 'notifications', 'read', 'aloud', 'column', 'available', 'macos', 'configure', 'voice', 'settings', 'macos', 'preferences', 'learn', 'accessibility', 'features', 'macos', 'see', 'official', 'apple', 'documentation']\n"
     ]
    }
   ],
   "source": [
    "# Only keep words that appear more than once\n",
    "corpus = [[token for token in doc if frequency[token] > 1] for doc in all_text]\n",
    "print(\"First topic:\")\n",
    "print(len(corpus[0]))\n",
    "print(corpus[0])"
   ],
   "metadata": {
    "collapsed": false,
    "pycharm": {
     "name": "#%%\n"
    }
   }
  },
  {
   "cell_type": "code",
   "execution_count": 15,
   "outputs": [
    {
     "data": {
      "text/plain": "True"
     },
     "execution_count": 15,
     "metadata": {},
     "output_type": "execute_result"
    }
   ],
   "source": [
    "\"accessibility\" in corpus[0]"
   ],
   "metadata": {
    "collapsed": false,
    "pycharm": {
     "name": "#%%\n"
    }
   }
  },
  {
   "cell_type": "code",
   "execution_count": 16,
   "outputs": [
    {
     "name": "stdout",
     "output_type": "stream",
     "text": [
      "Dictionary(8260 unique tokens: ['accessibility', 'added', 'allow', 'aloud', 'also']...)\n"
     ]
    }
   ],
   "source": [
    "dictionary = gensim.corpora.Dictionary(corpus)\n",
    "print(dictionary)"
   ],
   "metadata": {
    "collapsed": false,
    "pycharm": {
     "name": "#%%\n"
    }
   }
  },
  {
   "cell_type": "code",
   "execution_count": 17,
   "outputs": [
    {
     "name": "stdout",
     "output_type": "stream",
     "text": [
      "permission\n"
     ]
    }
   ],
   "source": [
    "print(dictionary[4008])"
   ],
   "metadata": {
    "collapsed": false,
    "pycharm": {
     "name": "#%%\n"
    }
   }
  },
  {
   "cell_type": "code",
   "execution_count": 18,
   "outputs": [
    {
     "name": "stdout",
     "output_type": "stream",
     "text": [
      "['accessibility', 'added', 'allow', 'aloud', 'also', 'always', 'appear', 'apple', 'appropriate', 'automatically', 'available', 'balloon', 'balloons', 'bar', 'certain', 'change', 'checkbox', 'close', 'column', 'configure', 'corresponding', 'current', 'description', 'disable', 'disappear', 'display', 'documentation', 'enable', 'event', 'events', 'features', 'find', 'generally', 'group', 'groups', 'hide', 'icon', 'idea', 'intellij', 'item', 'learn', 'list', 'lists', 'log', 'logged', 'logging', 'macos', 'may', 'messages', 'notification', 'notifications', 'notified', 'official', 'open', 'option', 'optionally', 'options', 'page', 'period', 'place', 'popup', 'preferences', 'presentation', 'read', 'regardless', 'screen', 'see', 'seen', 'select', 'selected', 'session', 'settings', 'short', 'showing', 'shown', 'specify', 'state', 'status', 'stay', 'sticky', 'system', 'take', 'time', 'tool', 'tray', 'unless', 'use', 'voice', 'want', 'window', 'windows', '-backup', '.config', '.zip', '2019.3', '2020.1', 'access', 'add', 'allows', 'alternatively', 'another', 'apart', 'appdata', 'appearance', 'application', 'apply', 'back', 'backup', 'c', 'changed', 'click', 'code', 'color', 'completion', 'configuration', 'configuring', 'confirmation', 'creates', 'ctrl+alt+s', 'debugger', 'default', 'defaults', 'dialog', 'directory', 'enabled', 'example', 'existing', 'exported', 'file', 'global', 'globally', 'help', 'ide', 'import', 'include', 'information', 'installation', 'installed', 'intellijideagetting-started-backup', 'jetbrains', 'johns', 'later', 'level', 'levels', 'library', 'linux', 'main', 'manage', 'marked', 'menu', 'menus', 'module', 'note', 'number', 'opens', 'order', 'overwritten', 'path', 'paths', 'plugins', 'press', 'previous', 'previously', 'product', 'project', 'projects', 'restart', 'restarted', 'restore', 'restores', 'roaming', 'schemes', 'section', 'set', 'several', 'shift', 'shows', 'specific', 'support', 'themes', 'toolbar', 'toolbars', 'twice', 'type', 'url', 'users', 'valid', 'version', 'www.jetbrains.com', '1024', '63342', 'able', 'accept', 'accepts', 'accessible', 'action', 'address', 'alt+f2', 'alternative', 'amp', 'annoying', 'appoint', 'authorization', 'behavior', 'block', 'box', 'brew', 'browser', 'build', 'built-in', 'bundled', 'button', 'changes', 'cleared', 'clipboard', 'common', 'computer', 'configured', 'connections', 'contain', 'content', 'copy', 'create', 'css', 'ctrl+shift+a', 'customize', 'debug', 'debugging', 'dedicated', 'defined', 'depending', 'deployment', 'described', 'desired', 'details', 'displayed', 'displaying', 'editor', 'either', 'error', 'execute', 'execution', 'external', 'faster', 'files', 'following', 'follows', 'found', 'generated', 'get', 'go', 'higher', 'hover', 'however', 'html', 'http', 'icons', 'impossible', 'included', 'indicates', 'install', 'instead', 'intended', 'interpreter', 'interpreters', 'intervention', 'javascript', 'jsp', 'launch', 'like', 'listens', 'local', 'localhost', 'longer', 'makes', 'manual', 'mouse', 'necessary', 'need', 'newly', 'one', 'opened', 'outside', 'package', 'pages', 'parameters', 'part', 'paste', 'php', 'php-cgi', 'plugin', 'pointer', 'port', 'preview', 'reasons', 'redirect', 'refer', 'refresh', 'rejected', 'reload', 'reloaded', 'rendered', 'request', 'requested', 'requests', 'require', 'respect', 'right', 'right-click', 'root', 'run', 'running', 'runs', 'save', 'security', 'separate', 'serve', 'served', 'server', 'servers', 'services', 'shift+click', 'show', 'soon', 'specified', 'spin', 'start', 'starting', 'static', 'still', 'structure', 'suppress', 'switch', 'tab', 'token', 'top', 'trying', 'types', 'unsigned', 'used', 'using', 'value', 'via', 'view', 'web', 'work', 'working', 'xml', \"''\", \"'s\", '.sc', '``', 'across', 'actions', 'affect', 'affecting', 'amm', 'ammonite', 'ammonite-specific', 'applied', 'automatic', 'avoid', 'based', 'besides', 'build.sbt', 'check', 'checking', 'class', 'clear', 'commands', 'compatibility', 'compiler', 'created', 'disabled', 'discarded', 'download', 'eclipse', 'evaluate', 'evaluating', 'evaluation', 'executable', 'executed', 'expanding', 'expressions', 'extension', 'field', 'folding', 'formatting', 'frameworks', 'gutter', 'highlighting', 'importing', 'improve', 'incrementally', 'inside', 'interactive', 'know', 'languages', 'left', 'let', 'limit', 'location', 'make', 'matches', 'mode', 'modify', 'name', 'new', 'next', 'object', 'objects', 'ok.', 'otherwise', 'output', 'performance', 'problems', 'profile', 'quickly', 'recommend', 'references', 'regular', 'remove', 'repl', 'result', 'results', 'sbt', 'scala', 'scratch', 'script', 'scripts', 'share', 'side', 'since', 'sources', 'src', 'standard', 'statement', 'statements', 'string', 'supports', 'test', 'thus', 'treat', 'treated', 'variable', 'whole', 'without', 'worksheet', 'worksheets', '.gradle', 'account', 'additional', 'adjust', 'alphabetically', 'alt+down', 'area', 'backslash', 'become', 'bottom', 'browse', 'case', 'comma', 'comments', 'config', 'contains', 'context', 'ctrl+alt+down', 'ctrl+alt+up', 'ctrl+c', 'ctrl+shift+f', 'ctrl+shift+r', 'ctrl+v', 'custom', 'different', 'directories', 'edit', 'enter', 'entries', 'escapes', 'exact', 'exclude', 'filter', 'first', 'gradle', 'hierarchy', 'highlight', 'highlighted', 'items', 'jump', 'keep', 'large', 'letter', 'limits', 'line', 'locate', 'mask', 'match', 'members', 'merges', 'might', 'mind', 'moreover', 'multi-line', \"n't\", 'narrow', 'navigate', 'occurrences', 'offers', 'omit', 'patterns', 'places', 'popular', 'predefined', 'process', 'quite', 'recently', 'refactoring', 'reference', 'regex', 'rename', 'replace', 'replacement', 'return', 'scope', 'scopes', 'search', 'searches', 'separating', 'sort', 'source', 'special', 'strings', 'supported', 'symbols', 'syntax', 'tabs', 'taken', 'target', 'text', 'times', 'useful', 'viewed', 'well', 'wildcards', 'within', 'word', 'words', '.if', 'abbreviation', 'activate', 'around', 'changing', 'choose', 'copied', 'cursor', 'define', 'differs', 'dot', 'end', 'expand', 'expanded', 'expands', 'expansion', 'expr', 'expression', 'final', 'followed', 'general', 'illustrates', 'initial', 'insert', 'key', 'language', 'lets', 'long', 'ones', 'original', 'pane', 'position', 'postfix', 'postfixes', 'removed', 'replaced', 'shipped', 'shorter', 'slightly', 'snippet', 'suggestion', 'surrounded', 'template', 'templates', 'transformation', 'typed', 'typescript', 'updated', 'wraps', '’', \"'ve\", '5.0', 'annotate', 'annotations', 'anything', 'constant', 'declaration', 'delete', 'determines', 'enum', 'extract', 'introduce', 'introduced', 'localization', 'naturally', 'nonnls', 'usual', 'visibility', 'whether', 'alias', 'aliases', 'ant', 'base', 'buttons', 'coverable', 'covers', 'defines', 'dialogs', 'entry', 'even', 'fileset', 'full', 'header', 'logs', 'manually', 'pattern', '--', '-e', '-p', '-v', '..', '.idea', 'according', 'active', 'actually', 'add-host', 'addresses', 'adds', 'allocated', 'alphabetical', 'alt+4', 'alt+5', 'alt+delete', 'alt+insert', 'alt+shift+f10', 'alt+up', 'appears', 'applicable', 'applications', 'arguments', 'artifact', 'artifacts', 'associated', 'attempt', 'attests', 'behaviour', 'bin', 'bindings', 'blank', 'bridge', 'bring', 'built', 'bundler', 'category', 'checkboxes', 'choosing', 'coffeescript', 'come', 'command', 'command-line', 'communicate', 'compilation', 'compile', 'configurations', 'console', 'consumes', 'container', 'containers', 'copies', 'correspondence', 'corresponds', 'ctrl+d', 'ctrl+shift+f10', 'daemon', 'data', 'definition', 'detected', 'development', 'differ', 'docker', 'docker-based', 'done', 'drag', 'editing', 'empty', 'entire', 'env', 'environment', 'errors', 'etc', 'expo', 'expose', 'extra', 'fields', 'focus', 'folder', 'folders', 'folders-volumes', 'forward', 'function', 'generate', 'goal', 'good', 'grouping', 'grunt', 'grunt-cli', 'gruntfile.js', 'gulp', 'gulpfile.js', 'headers', 'heap', 'helpful', 'helps', 'hidden', 'host', 'hosts', 'id', 'identify', 'instance', 'instances', 'ip', 'irrespective', 'jruby', 'keyboard', 'launched', 'link', 'linked', 'links', 'located', 'lot', 'made', 'managing', 'mappings', 'maps', 'maven', 'means', 'message', 'method', 'move', 'multiple', 'must', 'name|id', 'native', 'net', 'net=', 'network', 'networking', 'node.js', 'none', 'npm', 'occurs', 'parallel', 'pass', 'passed', 'performed', 'permanent', 'placing', 'point', 'ports', 'pressing', 'printed', 'prior', 'properties', 'provide', 'publish', 'publish-all', 'python', 'pythonpath', 'radio-buttons', 'rake', 'range', 'react', 'react-native', 'read-only', 'reason', 'reflected', 'remote', 'required', 'resources', 'roots', 'routed', 'runconfigurations', 'shift+enter', 'shortcut', 'similar', 'single', 'size', 'skip', 'skipped', 'speaking', 'ssh', 'stack', 'standard.err', 'standard.out', 'start.if', 'started', 'stop', 'store', 'stores', 'stream', 'substitute', 'suggests', 'sure', 'tables', 'task', 'tasks', 'team', 'temporary', 'testing', 'tests', 'tools', 'traffic', 'tree', 'try', 'upload', 'uploaded', 'uses', 'values', 'variables', 'volume', 'wo', 'workspace.xml', 'writes', 'yet', 'almost', 'alt+1', 'analysis', 'anonymous', 'background', 'basic', 'bookmark', 'bookmarks', 'breakpoint', 'breakpoints', 'brief', 'brown', 'ca', 'classes', 'clicking', 'colored', 'colors', 'compiled', 'control', 'coverage', 'deleted', 'depends', 'diff', 'element', 'entities', 'every', 'examine', 'excluded', 'explains', 'format', 'green', 'guidelines', 'highlights', 'ignored', 'indicators', 'kind', 'lines', 'looking', 'majority', 'many', 'mark', 'markers', 'meaning', 'methods', 'mnemonics', 'modified', 'non-project', 'numbered', 'olive', 'perform', 'performs', 'platform', 'program', 'provides', 'recognize', 'recognized', 'red', 'reflect', 'register', 'related', 'revert', 'statuses', 'suspend', 'tooltip', 'tooltips', 'track', 'two', 'ui', 'uncommitted', 'vcs', 'vcs-related', 'wait', 'yellow', \"'composer\", '2.0', '3.1', '4', 'adding', 'additionally', 'already', 'alt+enter', 'anew', 'apcu', 'appointing', 'archive', 'array', 'article', 'assistance', 'autoload', 'autoload-dev', 'autoloaded', 'autoloader', 'autoloading', 'automated', 'automatically.to', 'aware', 'backward', 'better', 'binaries', 'blog', 'bound', 'cache', 'cached', 'caching', 'call', 'callback', 'calls', 'caret', 'cases', 'cause', 'checked', 'checks', 'choice', 'classmap', 'clearing', 'cli', 'coding', 'committing', 'complete', 'completed', 'composer', 'composer-related', 'composer.json', 'composer.lock', 'composer.phar', 'compound', 'comprehensive', 'connectivity', 'constrains', 'constraints', 'contained', 'contents', 'convert', 'correct', 'create-project', 'creating', 'ctrl', 'ctrl+b', 'ctrl+click', 'ctrl+q', 'ctrl+space', 'currently', 'declare', 'declared', 'dependencies', 'dependency', 'describes', 'detailed', 'detect', 'detects', 'diagnose', 'directly', 'disk', 'displays', 'downloaded', 'dry-run', 'dump', 'ellipsis', 'enables', 'ensures', 'entity', 'equivalent', 'event-', 'everything', 'exactly', 'examples', 'executing', 'exists', 'extensions', 'fallback', 'filled', 'finish', 'fix', 'fold', 'folded', 'framework', 'future', 'generation', 'getarguments', 'getcomposer.org', 'given', 'guide', 'handlers', 'hint', 'identified', 'image', 'images', 'inc', 'individually', 'init', 'initialization', 'initialize', 'initialized', 'inspection', 'installing', 'installs', 'intact', 'integrates', 'intention', 'interface', 'invoke', 'invoked', 'issues', 'keeping', 'key-value', 'latest', 'leave', 'left-hand', 'libraries', 'license', 'licenses', 'listed', 'locking', 'manager', 'map', 'marketplace', 'metadata', 'missing', 'names', 'namespace', 'namespaces', 'non-installed', 'notify', 'observe', 'ok', 'optimization', 'optimize', 'packages', 'packagist', 'packagist-ready', 'panel', 'parses', 'performing', 'phpstorm', 'possible', 'post', 'preconfigured', 'prefixes', 'prepare', 'prepend', 'present', 'problem', 'proceed', 'production', 'prompting', 'property', 'protect', 'providing', 'psr', 'psr-0', 'psr-4', 'publishing', 'quality', 'quick', 're-run', 'recommended', 'record', 'records', 'refactor', 'relevant', 'rely', 'repositories', 'repository', 'require-dev', 'requirements', 'requires', 'resolve', 'resolved', 'resolves', 'retrieve', 'retrieved', 'retrieves', 'returns', 'right-hand', 'rules', 'saved', 'scan', 'second', 'section.because', 'sections', 'selecting', 'selector', 'self-update', 'sets', 'setting', 'setup', 'shift+f10', 'shift+f6', 'shortcuts', 'simulate', 'situations', 'space', 'specifying', 'speed', 'standalone', 'stored', 'strategies', 'stub', 'subfolder', 'successfully', 'suggestions', 'symbol', 'synchronization', 'synchronize', 'synchronized', 'synchronizing', 'system-wide', 'terminate', 'time-consuming', 'troubleshooting', 'unbound', 'unexpected', 'unfold', 'uninstall', 'up-to-date', 'update', 'updates', 'updating', 'upper', 'usage', 'usages', 'user', 'validate', 'validated', 'validation', 'validity', 'vendor', 'verify', 'versions', 'way', 'website', 'welcome', 'whose', 'wish', 'wizard', 'works', 'write-protected', 'conflict', 'conflicting', 'conflicts', 'difference', 'differences', 'fs', 'load', 'memory', 'merge', 'overwrite', 'preserve', 'produced', 'unsaved', 'viewer', 'accordingly', 'actual', 'alt+f7', 'analyze', 'anywhere', 'applying', 'canvas', 'children', 'conventions', 'ctrl+alt+b', 'ctrl+alt+p', 'ctrl+alt+shift+u', 'ctrl+f12', 'diagram', 'diagrams', 'draw', 'elements', 'export', 'extend', 'finds', 'generates', 'graph', 'implementation', 'implementations', 'inner', 'java', 'layout', 'less', 'modifier', 'neighbors', 'node', 'notes', 'parent', 'parents', 'protected', 'public', 'relationship', 'relationships', 'reside', 'respectively', 'safe', 'selection', 'small', 'typing', 'uml', 'zoom', 'align', 'aligned', 'alignment', 'applies', 'assignment', 'attributes', 'best', 'beyond', 'blocks', 'brace', 'braces', 'breaking', 'breaks', 'character', 'characters', 'chop', 'colon', 'consists', 'constructs', 'continuation', 'convention', 'declarations', 'deletes', 'determined', 'disabling', 'document', 'edited', 'ensure', 'exceed', 'exceeded', 'exceeding', 'exceptions', 'fine', 'fits', 'fitted', 'formatter', 'guides', 'hard', 'indent', 'indentation', 'indents', 'inserted', 'json', 'kept', 'last', 'locations', 'margin', 'margins', 'maximum', 'nested', 'nesting', 'numbers', 'parts', 'per', 'placement', 'precedence', 'proper', 'reformatting', 'retain', 'retains', 'separated', 'sequential', 'smart', 'spaces', 'style', 'takes', 'various', 'visual', 'wrap', 'wrapping', 'yes', '-a', '-k', '.ssh', '1.', '11210', '127.0.0.1', '1433', '2.', '3.', '3306', '4.', '5.', '5.1.40', '5432', '5433', '9001', 'administrator', 'agent', 'amazon', 'apache', 'approach', 'ase', 'ask', 'attach', 'auth', 'authentication', 'azure', 'cassandra', 'certificate', 'certificates', 'chain', 'chains', 'clickhouse', 'client', 'client-cert.pem', 'client-key.pem', 'cloud', 'communication', 'compatible', 'completely', 'computers', 'connect', 'connected', 'connection', 'connector', 'couchbase', 'credentials', 'database', 'databases', 'datagrip', 'db2', 'dbms', 'derby', 'describe', 'destination', 'determine', 'device', 'domain', 'downgrade', 'driver', 'drivers', 'drops', 'email', 'encrypt', 'established', 'example.com', 'exasol', 'experience', 'fail', 'fails', 'ftp', 'generating', 'getting', 'grants', 'greenplum', 'h2', 'helper', 'heroku', 'hive', 'host_ip', 'hostname', 'hostnames', 'hsqldb', 'https', 'ibm', 'id_ed25519', 'id_rsa', 'identifies', 'identityfile', 'interact', 'issue', 'issued', 'jar', 'jars', 'jdbc', 'jetbrains.com', 'keychain', 'keys', 'keystore', 'locally', 'lower-right', 'luw', 'machine', 'managed', 'management', 'mariadb', 'materials', 'microsoft', 'mssql.pem', 'mysql', 'openssh', 'optional', 'oracle', 'pageant', 'pair', 'parameter', 'passphrase', 'passphrases', 'password', 'pem', 'ping', 'plink', 'postgres', 'postgresql', 'ppk', 'private', 'privileges', 'procedure', 'protocol', 'provided', 'proxy', 'pscp', 'psftp', 'putty', 'query', 'reachable', 'real', 'recognizes', 'redshift', 'remember', 'roll', 'samples', 'secure', 'self-signed', 'service', 'shared', 'shell', 'sierra', 'snowflake', 'solution', 'sql', 'sqlite', 'ssh-add', 'ssh-agent', 'ssl', 'step', 'successful', 'sufficient', 'suits', 'sybase', 'taskbar', 'tcp', 'telnet', 'trusted', 'tunnel', 'tutorial', 'udp', 'unlocked', 'us', 'username', 'usually', 'utility', 'vendors', 'ver', 'verification', 'verified', 'verifies', 'version_number', 'vertica', 'videos', 'visible', 'write', 'www.putty.org', '1', '2', '3', 'binary', 'building', 'component', 'components', 'constructor', 'constructors', 'createuicomponents', 'designer', 'exception', 'f4', 'follow', 'form', 'gui', 'initializer', 'inspector', 'instantiated', 'instantiation', 'lost', 'minimum', 'non-default', 'null', 'radio', 'reported', 'responsibility', 'runtime', 'setupui', 'sometimes', 'technique', 'would', 'archives', 'deploy', 'deployed', 'ear', 'facets', 'forget', 'javaee', 'jpa', 'multi-module', 'needed', 're-import', 'remind', 'unpack', 'war', 'attribute', 'brings', 'choices', 'ctrl+alt+i', 'ctrl+alt+l', 'ctrl+shift+delete', 'developed', 'documents', 'dtd', 'fonts', 'habits', 'includes', 'inherited', 'look-up', 'parser', 'powerful', 'quick-fix', 'removing', 'schemas', 'scheme', 'software', 'solve', 'tag', 'taglib', 'tags', 'unwrapping', 'viewing', '2021.2.', 'arquillian', 'earlier', 'instructions', 'technology', 'activation', 'deactivation', 'descriptor', 'listener', 'listeners', 'receives', 'replacing', 'web.xml', 'postfix-specific', 'table', 'transform', 'transformations', 'user-defined', 'apis', 'basis', 'comment', 'controls', 'corner', 'ctrl+mouse', 'd.ts', 'delay', 'font', 'immediately', 'jsdoc', 'lookup', 'mdn', 'package.json', 'pin', 'question', 'sequentially', 'shift+f1', 'sidebar', 'sites', 'slider', 'slower', 'summary', 'third-party', 'turn', 'turns', 'upper-right', 'wheel', 'class-path', 'decompressed', 'fully', 'manifest', 'manifest.mf', 'meta-inf', 'modules', 'packaged', 'packaging', 'pick', 'processed', 'qualified', 'systems', 'together', 'delegated', 'intermediate', 'pertain', 'written', 'abnormal', 'account.jetbrains.com', 'alter', 'analyzes', 'animation', 'application_name', 'areas', 'assigns', 'authorize', 'benchmarks', 'blog.golang.org', 'bugs', 'bulb', 'bulk', 'calling', 'clone', 'coded', 'comes', 'concepts', 'conditions', 'consider', 'considered', 'consistency', 'convenient', 'cover', 'critical', 'ctrl+shift+space', 'dead', 'decide', 'demonstrates', 'differently', 'distinguish', 'divided', 'drive', 'dry', 'easily', 'easy', 'emmet', 'encoding', 'explain', 'explore', 'extent', 'extracted', 'extracts', 'filters', 'fragment', 'fragments', 'functionality', 'getters', 'git', 'github', 'gives', 'goland', 'gopath', 'goroot', 'grant', 'grouped', 'hello', 'important', 'improving', 'increase', 'indicator', 'inject', 'inline', 'inspections', 'integration', 'intentions', 'interfaces', 'introduction', 'keywords', 'live', 'logical', 'loops', 'lower', 'maintain', 'mercurial', 'monitors', 'moves', 'navigation', 'near', 'notice', 'opposite', 'others', 'overall', 'overrides', 'overview', 'pairing', 'plus', 'potential', 'print', 'probable', 'productivity', 'profiler', 'profiles', 'recurring', 'redirected', 'refactorings', 'removes', 'reorders', 'scrollbar', 'sdk', 'separators', 'series', 'serves', 'setters', 'severities', 'severity', 'shift+f9', 'shift+tab', 'signature', 'simple', 'solid', 'spelling', 'starts', 'steps', 'stripe', 'suggested', 'suspended', 'things', 'three', 'toggle', 'topic', 'topics', 'tutorials', 'type-matching', 'typos', 'unreachable', 'variants', 'vertical', 'video', 'warning', 'warnings', 'ways', 'wide', 'world', 'wrappers', 'writing', '—', 'construct', 'curly', 'date', 'day', 'directive', 'dollar', 'enclosed', 'escape', 'file_name', 'hour', 'letters', 'login', 'minute', 'month', 'myvariable', 'package_name', 'prefix', 'project_name', 'sign', 'year', '.class', 'affected', 'alt+3', 'alt+c', 'alt+d', 'alt+o', 'cancel', 'carry', 'cast', 'catch', 'categories', 'clause', 'closing', 'collapse', 'collapsed', 'constants', 'ctrl+alt+d', 'ctrl+alt+m', 'ctrl+alt+shift+f7', 'ctrl+e', 'ctrl+f5', 'ctrl+i', 'ctrl+numpad', 'ctrl+p', 'ctrl+r', 'ctrl+s', 'ctrl+shift+f4', 'ctrl+t', 'ctrl+w', 'ctrl+x', 'delegates', 'discard', 'duplicate', 'extends', 'flatten', 'hides', 'hiding', 'implements', 'instanceof', 'member', 'nodes', 'occurrence', 'operations', 'pressed', 'prevent', 'reached', 'recent', 'recursive', 'repeat', 'rerun', 'resizing', 'respective', 'saving', 'single-level', 'split', 'strikethrough', 'structural', 'super', 'throws', 'unclassified', 'unpin', 'gant', 'grails', 'griffon', 'groovy', 'home', 'assign', 'associate', 'associating', 'commonly-used', 'key-stroke', 'keymap', 'targets', '1.2', '120', 'bold', 'combine', 'command+mouse', 'distance', 'effect', 'factor', 'height', 'ligatures', 'operating', 'weight', 'checkout', 'else', 'lock', 'locked', 'override', 'overwriting', 'silently', 'someone', 'steal', 'subversion', '1.0', '2.0.', 'call-template', 'called', 'classpath', 'cross-document', 'customizable', 'enhanced', 'enhancements', 'focused', 'front', 'including', 'jdk', 'limited', 'matching', 'on-the-fly', 'placed', 'processor', 'queries', 'sheet', 'stylesheets', 'unique', 'xpath', 'xsl', 'xslt', 'confirm', 'duplicates', 'look', 'prompt', 'shall', '10', 'advanced', 'cell', 'collection', 'collections', 'double-click', 'explorer', 'fetch', 'fetch_documents_for_metainfo', 'fetches', 'introspection', 'mongodb', 'scroll', 'till', 'hints', 'alone', 'along', 'alphabetic', 'although', 'altogether', 'annotation', 'append', 'arrays', 'auto', 'autoscroll', 'beforehand', 'big', 'boolean', 'byte', 'calculates', 'caution', 'centralized', 'char', 'condition', 'containing', 'could', 'customized', 'dealing', 'decimal', 'degree', 'descendants', 'diamond', 'differentiate', 'disables', 'double', 'due', 'easier', 'effects', 'eliminate', 'encapsulated', 'enclosing', 'enforce', 'evaluates', 'excludes', 'expandable', 'explicit', 'explicitly', 'expressly', 'feature', 'fine-tune', 'flexibility', 'flow', 'formats', 'frame', 'frames', 'fully-qualified', 'generics', 'getname', 'getter', 'glance', 'going', 'granular', 'hand', 'heavy', 'hex', 'hexadecimal', 'high', 'holds', 'ids', 'implement', 'int', 'invocations', 'java.lang.string', 'java.util.date', 'javax.swing', 'keeps', 'known', 'limitations', 'making', 'manages', 'modifiers', 'multithreaded', 'mute', 'myclass', 'nearest', 'needs', 'normally', 'often', 'on-demand', 'operator', 'ordered', 'ordering', 'overloaded', 'particular', 'particularly', 'pay', 'populate', 'populated', 'preceding', 'predict', 'primitive', 'primitives', 'priority', 'produce', 'quotes', 'raw', 'readable', 'relative', 'renderer', 'renderers', 'rendering', 'represent', 'representation', 'representing', 'returned', 'scrolls', 'separates', 'sorted', 'sorting', 'specifies', 'spend', 'stepping', 'structures', 'subclasses', 'subpackages', 'surrounding', 'synthetic', 'tell', 'temporarily', 'this.isempty', 'thread', 'threads', 'throwable', 'throwing', 'tips', 'tostring', 'trace', 'tree-like', 'true', 'unmute', 'unwanted', 'utilize', 'val', 'views', 'virtually', 'vs.', '...', 'ability', 'accurate', 'belong', 'branch', 'collect', 'collected', 'collecting', 'covered', 'design', 'emma', 'individual', 'jacoco', 'old', 'piece', 'prompts', 'redesigned', 'runner', 'sampling', 'statistics', 'suites', 'tracing', 'tracking', 'body', 'ctrl+o', 'javadoc', 'overridden', 'pop-up', 'workspace', \"'echo\", '-c', '0', \"99-perf.conf'\", 'adjusted', 'allocation', 'async', 'bottlenecks', 'cpu', 'exposing', 'flame', 'jvm', 'kernel', 'kptr_restrict', 'modifications', 'offered', 'os', 'points', 'pre-defined', 'profiling', 'properly', 'protection', 'restrictions', 'runtimes', 'sample', 'sh', 'stacks', 'sudo', 'sysctl.d', 'traces', 'understanding', 'visualize', \"'re\", '.editorconfig', 'absolute', 'accessing', 'affects', 'ancestor', 'closest', 'columns', 'count', 'counted', 'deselect', 'detection', 'easiest', 'editorconfig', 'false', 'formatted', 'ij_continuation_indent_size', 'ij_smart_tabs', 'indent_style', 'label', 'learning', 'programming', 'reformat', 'separately', 'top-level', 'widget', '-separated', '12', '14', '15', '2020.3', 'app', 'binds', 'browsers', 'chrome', 'chromium-based', 'client-side', 'consequently', 'contexts', 'definitions', 'e.g', 'express', 'externally', 'fly', 'google', 'index.html', 'info', 'inner_folder', 'inspect', 'inspect-brk', 'isolate-', 'localhost:63342', 'morgan', 'node.js-specific', 'node_disable_colors', 'node_module_contexts', 'node_modules', 'node_path', 'opening', 'opt', 'prefixed', 'process.argv', 'project_root', 'ready', 'recorded', 'register.js', 'resulting', 'semicolons', 'server-side', 'snapshots', 'subsystem', 'taking', 'technically', 'therefore', 'tmp', 'v7', 'v8', 'watchers', 'wsl', 'www', 'invert', 'inverted', 'sense', \"'ll\", '11', 'ctrl+alt+shift+s', 'distributions', 'download.html', 'expected', 'expects', 'groovy-lang.org', 'internal', 'jaxb', 'tweak', 'vm', '.test.js', 'autotest-like', 'canceled', 'chosen', 'comply', 'flag', 'folder1', 'folder2', 'mocha', 'regularly', 'restarts', 'subdirectories', 'subfolders', 'suite', 'unit', 'watch', '.pgpass', 'downloads', 'pgpass', 'postgresql.org', 'smaller', '.split', 'accurately', 'ahead', 'aim', 'allowing', 'altering', 'api', 'approaches', 'approve', 'asking', 'aspects', 'assume', 'assuming', 'b', 'backspace', 'becomes', 'begin', 'behind', 'break', 'bug', 'caller', 'callers', 'candidate', 'candidates', 'capabilities', 'care', 'chaining', 'chapter', 'chose', 'clearly', 'closer', 'comfortable', 'commit', 'compiles', 'consequences', 'continue', 'converted', 'correctness', 'course', 'ctrl+alt+n', 'ctrl+alt+v', 'ctrl+shift+down', 'ctrl+z', 'deal', 'deciding', 'definitely', 'delegation', 'deleting', 'deletion', 'depend', 'descriptive', 'desirable', 'developer', 'developers', 'direction', 'discovered', 'double-clicking', 'duplication', 'endpoint', 'enough', 'especially', 'exercise', 'expect', 'experienced', 'exposes', 'extracting', 'fact', 'fairly', 'fewer', 'fieldname', 'finally', 'firstly', 'fit', 'fixing', 'flagged', 'forces', 'frequently', 'functional', 'gets', 'gettextfrommessage', 'getusernamefrommessage', 'getvalueforfield', 'give', 'giving', 'greater', 'grey', 'happy', 'ideally', 'imagine', 'impact', 'impacted', 'implemented', 'implementing', 'incremental', 'indexof', 'informing', 'inheritors', 'inlining', 'introducing', 'knowing', 'lambda', 'larger', 'latter', 'lead', 'least', 'length', 'lies', 'little', 'looks', 'low', 'magic', 'martin', 'matched', 'maybe', 'mean', 'meaningful', 'mentioned', 'message.indexof', 'mixed', 'moving', 'much', 'natural', 'nature', 'non-code', 'non-java', 'offer', 'operation', 'originally', 'parser.getvalueforfield', 'passing', 'people', 'pop', 'potentially', 'power', 'prefer', 'previews', 'purpose', 'put', 'rather', 'readability', 'reading', 'really', 'reduce', 'reducing', 'refactored', 'remaining', 'renamed', 'renames', 'renaming', 'represents', 'requiring', 'reshape', 'reuse', 'safely', 'say', 'scale', 'screen_name', 'seem', 'shape', 'simplicity', 'simplified', 'simplify', 'something', 'somewhere', 'standards', 'substring', 'suggest', 'superclass', 'swap', 'telling', 'tells', 'tested', 'touch', 'trade', 'trivial', 'turned', 'uncommon', 'understand', 'undo', 'unnecessary', 'unrelated', 'unused', 'upon', 'wanted', 'warn', 'wider', 'wordsinmessage', 'worth', 'converts', 'csv', 'delimiter-separated', 'extractor', 'mapping', 'schema', 'tsv', 'matter', 'svn', '100.', '5', 'allowed', 'alt+shift+down', 'alt+shift+up', 'argument', 'basics', 'bracket', 'camelcase', 'camelhumps', 'capitalization', 'closed', 'collapses', 'composite', 'ctrl+', 'ctrl+alt+', 'ctrl+alt+enter', 'ctrl+alt+insert', 'ctrl+alt+numpad', 'ctrl+alt+shift+c', 'ctrl+alt+shift+insert', 'ctrl+alt+shift+left', 'ctrl+alt+shift+right', 'ctrl+alt+shift+v', 'ctrl+alt+t', 'ctrl+shift+', 'ctrl+shift+enter', 'ctrl+shift+numpad', 'ctrl+shift+u', 'ctrl+shift+up', 'ctrl+shift+v', 'ctrl+shift+w', 'ctrl+shift+z', 'ctrl+y', 'doc', 'dragging', 'endregion', 'everywhere', 'history', 'honor', 'inserts', 'invocation', 'join', 'joined', 'literals', 'manipulating', 'moved', 'n', 'nothing', 'offering', 'outline', 'paragraph', 'pasting', 'plain', 'recursively', 'redo', 'redundant', 'region', 'regions', 'represented', 'reverse', 'searching', 'shaded', 'shrink', 'splits', 'subordinate', 'surround', 'trailing', 'uncomment', 'unicode', 'unwrap', 'writable', 'asdoc', '3.0', 'delimiter', 'delimiters', 'enclose', 'policy', 'smarty', 'whitespace', 'whitespaces', 'attached', 'consoles', 'ddl', 'drafts', 'editors', 'filename', 'four', \"'bundle\", '0.', 'auto-detection', 'bundle', 'capability', 'emulator', 'encounter', 'except', 'exec', 'gem', 'gemfile', 'gemfile.lock', 'gems', 'handle', 'initializes', 'insight', 'instruction', 'lockfile', 'met', 'processes', 'rails', 'remain', 'ruby', 'rule', 'silent', 'situation', 'startup', 'terminal', 'indicate', 'named', '-ng', '2.x', 'backtrace', 'calculating', 'capistrano', 'covering', 'engine', 'gemset', 'loads', 'measure', 'measured', 'measurement', 'minimal', 'monitoring', 'nailgun', 'name-value', 'ng', 'pairs', 'presence', 'sdks', 'semi-colons', 'slow-down', 'stage', 'stages', 'statistic', 'adc', 'assumed', 'authenticate', 'bigquery', 'cloud.google.com', 'identifier', 'oauth', 'oauthclientid', 'oauthclientsecret', 'obtain', 'obtained', 'obtains', 'prerequisites', 'presents', 'secret', 'tokens', 'assignments', 'away', 'community', 'completes', 'courses', 'distributed', 'edu', 'educational', 'educator', 'edutools', 'familiar', 'feedback', 'filling', 'independently', 'instant', 'integrated', 'intelligent', 'kotlin', 'learner', 'learners', 'placeholders', 'programs', 'progress', 'publicly', 'real-life', 'role', 'roles', 'step-by-step', 'students', 'teacher', 'teachers', 'tune', 'ultimate', '.profile', 'automate', 'average', 'compliant', 'ctrl+a', 'ctrl+enter', 'functions', 'gist', 'lightweight', 'modifies', 'scratches', 'scripting', 'think', 'activity', 'consumed', 'consuming', 'consumption', 'contact', 'diagnostic', 'experimental', 'increased', 'indexing', 'moment', 'monitor', 'percentage', 'subsystems', 'technical', \"'localhost\", '127.0.0.1.', '192.168.100.100:8080', '404', '_intellij_phpdebug_validator.php', 'appended', 'callable', 'caused', 'connecting', 'consult', 'correctly', 'correspondingly', 'despite', 'dispatcher', 'exist', 'failed', 'happen', 'inconsistent', 'index.php', 'informs', 'inplace', 'likely', 'mapped', 'myapp.test', 'myproject', 'please', 'probably', 'refused', 'reports', 'response', 'rewriting', 'seeing', 'send', 'sending', 'test.php', 'troubleshoot', 'typically', 'var', 'xdebug', 'xdebug.remote_host', 'zend', '1.8', 'activated', 'among', 'android', 'backend', 'codebase', 'compose', 'conversion', 'coordinates', 'ctrl+alt+shift+k', 'desktop', 'essential', 'frontend', 'full-functional', 'full-stack', 'js', 'mix', 'multiplatform', 'non-kotlin', 'platforms', 'primary', 'prototyping', 'purposes', 'satisfied', 'sharing', 'stating', 'supposed', 'targeting', 'transition', 'versa', 'vice', '10137', '9000', 'artisan', 'assist', 'blade', 'blocking', 'canyouseeme.org', 'direct', 'drush', 'establish', 'exploring', 'firewall', 'handful', 'inbound', 'incoming', 'isp', 'listening', 'multiuser', 'proceeding', 'proxies', 'remotely', 'router', 'scenarios', 'sessions', 'simultaneous', 'suitable', 'symfony', 'twig', 'virtual', 'wordpress', 'wp-cli', 'zero-configuration', \"'name\", 'ci', 'clears', 'continuous', 'delegate', 'junit', 'outcome', 'ran', 'remembers', 'report', 'runners', 'simultaneously', 'specifically', 'alt+9', 'branches', 'commits', 'detached', 'docs', 'drop-down', 'fast-forward', 'fetched', 'fetching', 'ff-only', 'flat', 'head', 'integrate', 'letting', 'multi-repository', 'no-commit', 'no-ff', 'no-rebase', 'onto', 'origin', 'pull', 'pulled', 'pushing', 'rebase', 'referenced', 'remotes', 'repo', 'review', 'squash', 'strategy', 'submodule', 'submodules', 'subsequently', 'sync', 'synced', 'tracked', 'upstream', 'beans', 'categorized', 'correspond', 'etc.', 'hierarchical', 'interest', 'jsf', 'leaves', 'title', '1.5', '1.6', '1.7', 'annotated', 'annotations:16.0.2', 'build.gradle', 'contract', 'instruct', 'literal', 'localized', 'notnull', 'nullable', 'org.jetbrains', 'org.jetbrains.annotations', 'pieces', 'pom.xml', 'resource', 'violated', 'compression', 'cookie', 'dsl', 'endpoints', 'hocon', 'hyperlink', 'imported', 'ktor', 'navigating', 'releasing', 'route', 'routes', 'routing', 'serialization', 'urls', 'amount', 'compare', 'f7', 'non-conflicting', 'reaching', 'revision', 'shift+f7', 'unchanged', 'a-z', 'arbitrary', 'compares', 'complex', 'constraint', 'criteria', 'd+', 'denotes', 'deprecated', 'extensive', 'filtered', 'finding', 'foo', 'id=', 'increasing', 'infinity', 'integer', 'keyword', 'li', 'limitation', 'lowercase', 'numeric', 'omitted', 'prototype', 'reads', 'replaces', 'sequences', 'sides', 'simplest', 'somethingwewanttofind', 'structurally', 'switching', 'to_lower_case', 'uppercase', 'wants', 'zero', 'alt+f12', 'aws', 'boxes', 'config.vm.box', 'creation', 'destroy', 'embedded', 'halt', 'lifecycle', 'machines', 'meet', 'pauses', 'providers', 'provisioned', 'reloading', 'resume', 'saves', 'shut', 'shutting', 'stops', 'suspending', 'trusty64', 'ubuntu', 'vagrant', 'vagrantfile', 'virtualbox', 'virtualization', 'browsed', 'buffer', 'cycle', 'exceeds', 'extraneous', 'kb', 'soft', 'builds', 'ctrl+f9', 'dislpayed', 'gists', 'goals', 'handling', 'multi', 'pause', 'reimport', 'rest', 'soft-wrap', 'terminates', 'trigger', '.jfr', '.png', 'arrow', 'bars', 'baseline', 'became', 'blue', 'bypass', 'callees', 'capture', 'chart', 'child', 'collapsing', 'collects', 'combining', 'comparison', 'consume', 'counter', 'dashed', 'depth', 'difficult', 'facilitates', 'fast', 'filtering', 'flight', 'graphs', 'identifying', 'ignore', 'incorrect', 'infinite', 'interested', 'jfr', 'leads', 'merged', 'multi-threaded', 'occur', 'percent', 'presented', 'recorder', 'rectangles', 'recursion', 'resource-consuming', 'scrolling', 'sequence', 'snapshot', 'sorts', 'spent', 'spots', 'stand', 'stands', 'subtree', 'timeline', 'timestamp', 'top-down', 'top-right', 'total', 'trees', 'tries', 'visualizes', 'width', '–', \"'tostring\", '6', '7', 'alt+f9', 'alt+shift+f7', 'alt+shift+f8', 'altered', 'alternate', 'anyway', 'asks', 'continues', 'controlling', 'ctrl+alt+f9', 'designed', 'detail', 'drop', 'dropping', 'evaluated', 'exiting', 'exits', 'f8', 'far', 'force', 'happens', 'hit', 'iteration', 'iterations', 'java.', 'jumping', 'loaders', 'loop', 'minimize', 'missed', 'mistakenly', 'never', 'overhead', 're-enter', 'recommendations', 'returning', 'satisfactory', 'shift+f8', 'skips', 'spot', 'stays', 'stepped', 'straight', 'system.out.println', 'though', 'watchpoints', 'alt+shift+a', 'changelist', 'possibility', 'revisions', 'row', 'functioning', 'javaee.jar', 'service-specific', 'single-entry', 'web-service', 'ws', 'acceptable', 'assumes', 'build.xml', 'composition', 'problematic', 'relation', '-n', 'abandon', 'externals', 'immediates', 'involve', 'non-recursive', 'subtrees', '-i', '-o', 'configuration_name', 'main.go', 'main.wasm', 'vendoring', 'wasm', 'webassembly', '-xx', '8', '8-10', 'agreement', 'carefully', 'commercial', 'enabling', 'java_home', 'javavirtualmachines', 'jmc', 'jre', 'lib', 'mission', 'natively', 'openjdk', 'pre-installed', 'products', 'recording', 'se', 'articles', 'admin', 'attempting', 'environments', 'non-standard', 'prompted', 'python.org', 'receive', 'solely', 'upgrade', '1.1', '224', '3des_ede_cbc', 'algorithms', 'anon', 'des', 'dh', 'djdk.tls.disabledalgorithms', 'ec', 'jdk.disabled.namedcurves', 'keysize', 'md5withrsa', 'newer', 'occurred', 'protocols', 'rc4', 'sslv3', 'tls', 'tlsv1', 'tlsv1.1', 'tried', '32-bit', 'accommodate', 'alt', 'binding', 'brackets', 'contrast', 'ctrl+alt+shift+down', 'ctrl+alt+shift+up', 'deficiency', 'deuteranopia', 'f', 'familiarize', 'horizontally', 'hyperlinks', 'idea.properties', 'injected', 'intellijideagetting-started', 'jaws', 'keymaps', 'nvda', 'opacity', 'orange', 'paired', 'personal', 'preferred', 'protanopia', 'quote', 'reader', 'readers', 'red-green', 'resize', 'scrollbars', 'spacing', 'stroke', 'strongly', 'suggesting', 'syswow64', 'theme', 'turning', 'vertically', 'vision', 'alt+home', 'alt+j', 'alt+left', 'alt+right', 'alt+shift+j', 'auto-indent', 'auxiliary', 'compact', 'ctrl+alt+left', 'ctrl+alt+o', 'ctrl+alt+right', 'ctrl+alt+shift+j', 'ctrl+f', 'ctrl+f7', 'ctrl+shift+f12', 'distraction', 'f3', 'free', 'grammar', 'imports', 'input', 'interesting', 'leaving', 'lots', 'organize', 'popups', 'shift+f3', 'stable', '.hg', '.hgtags', 'abandoned', 'assigned', 'changeset', 'clean', 'cleaned', 'committed', 'failures', 'hash', 'hg', 'light-weight', 'localtags', 'recommends', \"'class\", '.jar', 'alongside', 'auto-build', 'boot', 'builder', 'caches', 'cleans', 'com.example.helloworld', 'ctrl+shift+f9', 'dependent', 'exited', 'helloworld', 'idle', 'locates', 'modulename', 'outputfolder', 'projectfolder', 'pure', 'rebuild', 'rebuilding', 'recompile', 'redefine', 'significantly', 'specification', 'speeds', 'spring', 'triggered', 'accidentally', 'alt+f10', 'alt+f8', 'analyzed', 'behave', 'comparing', 'concept', 'convenience', 'cross', 'ctrl+alt+f8', 'ctrl+down', 'ctrl+f1', 'ctrl+up', 'dataframe', 'examination', 'examining', 'f11', 'f2', 'finished', 'flexible', 'frozen', 'happening', 'hassideeffects', 'hitting', 'hold', 'increment', 'indicated', 'inspected', 'involves', 'labels', 'lambdas', 'lifetime', 'list.size', 'losing', 'mindful', 'multiline', 'non-modal', 'nonstatic', 'numerous', 'operates', 'paused', 'persistent', 'pinned', 'portion', 'quickest', 'referring', 'reveal', 'risk', 'safety', 'sleeping', 'somevariable', 'somevariable++', 'thread.sleep', 'thrown', 'undefined', 'unknown', 'unmark', 'waiting', 'watches', 'editable', 'macro', 'macros', 'reorder', 'temp', 'unchecked', 'subcategories', '.ipynb', 'auto-saving', 'brand-new', 'cells', 'configurable', 'dataspell', 'early', 'executes', 'gain', 'interrupt', 'jupyter', 'kernels', 'manipulate', 'markdown', 'media', 'notebook', 'notebooks', 'outputs', 'plot', 'preceded', 'quitting', 'science', 'scientists', 'selects', 'stopped', 'tailored', 'textual', 'workflow', 'cleanup', 'interrupted', 'remains', \"'next\", 'alt+6', 'analyses', 'continuously', 'goes', 'incorrectly', 'marks', 'normal', 'project-wide', 'shift+f2', 'weak', '.+', 'capturing', 'case-insensitive', 'family', 'fine-grained', 'handler', 'independent', 'injection', 'injection-target', 'name1|name2', 'precisely', 'suffix', 'tagname', 'uri', 'viewpoint', 'xpathview', 'xxx', 'yyy', 'zzz', \"'all\", 'aborted', 'aggregate', 'compared', 'cpus', 'debugs', 'django', 'initiate', 'multiprocessing', 'passes', 'pytest', 'pytest.ini', '.properties', 'bodies', 'language-specific', 'loading', 'slow', 'toggles', 'directives', 'launching', 'outgoing', 'restrict', 'reused', 'sftp', 'accessed', 'algorithm', 'alt+f1', 'camel', 'ctrl+alt+f7', 'ctrl+alt+shift+n', 'ctrl+h', 'ctrl+n', 'ctrl+shift+e', 'ctrl+shift+i', 'ctrl+shift+n', 'finder', 'finite', 'humps', 'middle', 'productive', 'referencing', 'similarly', 'slash', 'sophisticated', 'time-saver', 'visited', '.json', 'auto-completing', 'central', 'codegen', 'config.json', 'documenting', 'generated-requests.http', 'generator', 'mustache', 'older', 'openapi', 'readme.md', 'responses', 'segment', 'specifications', 'stubs', 'swagger', 'swaggerhub', 'yaml', '_pk', 'accesses', 'actor', 'actor_pk', 'decrease', 'firstname', 'foreign', 'index', 'indexes', 'lastname', 'literally', 'locating', 'persons', 'persons_firstname_lastname_index', 'reproduced', 'u', 'u.', '-charset', '-d', '-docencoding', '-encoding', 'author', 'charset', 'ctrl+alt+q', 'en_us.utf-8', 'invokes', 'javadocs', 'locale', 'malformed', 'mandatory', 'mb', 'navigator', 'online', 'overload', 'paragraphs', 'param', 'render', 'subset', 'terms', 'utf8', '-classpath', '-client', '-dfoo=', '-dmy.prop=', '-ea', '-mx', '-verbose', '-xmx1024m', '-xmx1024m.if', '.you', '9', '9+', 'act', 'arg', 'argfiles', 'backslashes', 'classpath.file', 'classpath.jar', 'fill', 'fork', 'jpms', 'loader', 'my_env_var', 'operators', 'overcome', 'parentheses', 'quoted_value', 'redirecting', 'repeatedly', 'resides', 'shorten', 'shortened', 'shortening', 'submit', 'tagged', 'threshold', 'unable', '||', 'b.', 'drag-and-drop', 'initially', 'quicker', 'release', 'reordering', 'unclear', 'architecture', 'computing', 'dataframes', 'edition', 'ipython', 'matplotlib', 'numpy', 'pandas', 'rich', 'scientific', 'visualization', 'domains', 'formbuilder', 'forms', 'internationalization', 'logic', 'maintaining', 'translation', 'developing', 'osgi', '.sh', 'enhance', 'launches', 'parse', 'semantic', 'typical', 'adjustments', 'architectures', 'arrange', 'autodetected', 'bean', 'comprises', 'controllers', 'deduce', 'facet', 'highly', 'inform', 'layer', 'marking', 'microservice', 'modern', 'mvc', 'processing', 'reactive', 'serverless', 'site', 'strict', 'whatever', 'play', 'ctrl+alt+u', 'cyclic', 'picture', 'pressenter', 'transitive', 'asterisk', 'borders', 'copyright', 'ending', 'notices', 'prepended', 'separator', '2.7', '3.6', 'decorators', 'develop', 'dictionaries', 'fixed', 'hinting', 'pep', 'qualifier', 'recognizing', 'tracker', 'typeddict', 'union', 'x', \"'hide\", \"'restore\", '-1', '-q', '1000', '50.', '==', 'abbreviations', 'allocate', 'assertion', 'centered', 'codes', 'compiling', 'consist', 'copying', 'cut', 'days', 'distraction-free', 'duration', 'flags', 'force-with-lease', 'horizontal', 'inactive', 'invoking', 'maximize', 'milliseconds', 'modes', 'negatively', 'no-header', 'no-summary', 'normalize', 'prepared', 'push', 'pushed', 'registry', 'shelf', 'storing', 'subnodes', 'unwrapped', 'viewport', 'zen', 'positioning', 'preserving', 'template-call', 'with-param', 'handlebars', 'ides', 'installations', 'itar', 'jba_config', 'restarting', 'reusing', 'webstorm', 'opc', 'usr', 'entering', 'manage.py', 'registered', 'shrinks', 'startapp', 'injections', 'uninject', 'javafx', '....', '21.', 'appoints', 'autodetect', 'closes', 'discouraged', 'establishing', 'exchange', 'file1.js', 'file2.js', 'ftps', 'highest', 'htdocs', 'implicit', 'in-place', 'mechanism', 'my_folder', 'my_project', 'opens.click', 'overloading', 'passive', 'registration', 'repeated', 'sends', 'server.type', 'suppose', 'transfer', '9.', 'alt+', 'arranging', 'ctrl+alt+shift+t', 'edges', 'favorite', 'modification', 'png', 'svg', 'widgets', '.mod', '.xml', 'commented', 'distribution', 'domain.xml', 'dtds', 'ejb', 'glassfish', 'guess', 'jboss', 'jetty', 'jetty_home', 'ordinary', 'physically', 'readonly', 'referred', 'servlet', 'start.ini', 'start.jar', 'tomcat', 'tomee', 'xsds', 'zip', 'list.', 'only.', 'addition', 'analyse', 'ctrl+alt+shift+i', 'ctrl+k', 'masks', 'offline', 'white', '6.3', '9229.', 'legacy', 'nodemon', 'nw.js', 're-attach', 're-starting', 'reconnect', 'reloads', 'navigated', 'aside', 'face', 'ignores', 'incomplete', 'loaded', 'resolving', 'teammates', 'unload', 'unloaded', 'anonymize', 'calculated', 'duplicated', 'false-positive', 'identical', 'operate', 'quick-fixes', 're-enable', 'repetitive', 'reporting', 'simpler', 'units', 'assigning', 'inferred', 'inlay', 'receivers', 'alt+7', 'edits', 'expired', 'f6', 'facilitate', 'got', 'nevertheless', 'spark', 'throughout', 'validating', 'zeppelin', 'artifactid', 'auto-reload', 'detach', 'docked', 'downloading', 'effective', 'floating', 'greyed', 'irrelevant', 'phase', 'phase-specific', 'phases', 'pom', 'reopen', 'settings.xml', 'submenu', 'subproject', 'synchronizes', 'unignore', 'unlink', 'unselect', 'unversioned', '2.5', '20', 'association', 'dbms-specific', 'dialect', 'dialects', 'encountered', 'faq', 'gateway', 'handled', 'installer', 'licensing', 'necessity', '.feature', '100', '3.5', '45', '50', '55', 'assert', 'assertions', 'bdd', 'behavior-driven', 'brake', 'car', 'car.accelerate', 'car.brake', 'car.feature', 'car.py', 'car.speed', 'ctrl+shift+t', 'def', 'equal', 'failing', 'failure', 'fixture', 'fixtures', 'gherkin', 'my_car', 'my_car.speed', 'naming', 'parametrization', 'parametrized', 'pytest-bdd', 'pytest.fixture', 'pytest.mark.parametrize', 'reusable', 'scenario', 'speed_accelerate', 'speed_brake', 'speed_data', 'subject', 'test_car_accelerate', 'test_car_brake', 'unittest', 'auto-update', 'edge', 'left-to-right', 'right-to-left', 'patch', 'reverts', 'dynamically', 'phing', 're-calculated', 'actionscript', 'additive', 'ecmascript', 'jsx', 'senseless', 'sensitivity', 'subelement', 'subelements', 'subexpressions', 'weights', 'xhtml', 'identifiers', 'quotation', 'analyzing', 'ctrl+shift+o', 'ee', 'ejb-jar.xml', 'enterprise', 'entity-relationship', 'er', 'hibernate', 'hibernate.cfg.xml', 'hql', 'jakarta', 'object-relational', 'persistence', '.gsp', 'book', 'book.groovy', 'controller', 'create-app', 'ctrl+alt+g', 'effort', 'handy', 'illustrate', 'localhost:8080', 'plan', 'produces', 'published', 'publisher', 'scaffolding', 'sparing', 'tightly', 'viewpoints', 'ascending', 'descending', \"'else\", 'beginning', 'defining', 'influence', 'occupies', 'optimized', 'organized', 'positioned', 'reset', 'shifted', 'substituted', 'switched', 'treatment', 'wrapped', 'brightness', 'darker', 'hsb', 'mixer', 'picker', 'rgb', 'upwards', 'deploying', 'phing.bat', 'auto-completion', 'basically', 'boxing', 'cloneable', 'extended', 'forth', 'indirectly', 'max', 'min', 'prototypes', 'psi', 'retrieving', 'unlimited', 'variable_name', 'assists', 'commonly', 'comprise', 'detecting', 'doctrine', 'filesystem', 'fqn', 'inspection.', 'instantiating', 'registering', 'regulated', 'supplied', '.local', 'accepted', 'accepting', 'achieve', 'actively', 'anyone', 'appointed', 'audio', 'camera', 'carets', 'chat', 'classic', 'clicks', 'codewithmeguest', 'codewithmeguestclientdist', 'collaborate', 'collaboration', 'company', 'corporate', 'deactivate', 'decides', 'decline', 'disconnect', 'editions', 'exit', 'experiencing', 'filenames', 'fls', 'forwarding', 'guest', 'guests', 'indicating', 'interaction', 'invitation', 'invite', 'invited', 'joins', 'lobby', 'localappdata', 'microphone', 'movements', 'outdated', 'pair-programming', 'participant', 'participants', 'peers', 'permission', 'permissions', 'person', 'plugin_version', 'purchase', 'received', 'sound', 'subscription', 'subscriptions', 'teacher-students', 'terminated', 'terminating', 'timeout', 'trust', 'unlike', 'youtrack', 'broken', 'ever', 'frequent', 'great', 'invalidate', 'invalidating', 'invalidation', 'retention', 'user-specific', 'worked', \"'docker-compose\", 'accordance', 'batch', 'beautifier', 'coder', 'comma-separated', 'compose-based', 'configures', 'denote', 'discrepancies', 'drupal', 'engine.to', 'excessive', 'fixer', 'fixes', 'integrating', 'interpreter.to', 'joomla', 'leaf', 'magento', 'php_codesniffer', 'phpcbf', 'phpcs', 'phpcs.bat', 'phpcs.xml', 'preferable', 'registers', 'relying', 'rid', 'ruleset', 'ruleset.xml', 'rulesets', 'serious', 'sniff', 'spawning', 'squizlabs', 'validates', 'whereupon', 'yii', '|quality', 'shift+escape', 'subprojects', 'underlying', 'descriptors', 'server-specific', 'enforces', 'efficient', 'engines', 'relevantly', '.css', 'auto-save', 'stylus', 'translate', 'unix', 'watcher', 'comprehensions', 'dict', 'feed', 'indented', 'parenthesis', 'parenthesised', '5.8', '8.', 'activating', 'advantage', 'associations', 'bootstrapping', 'combination', 'consistent', 'core', 'crucial', 'discrepancy', 'drupal-specific', 'github.com', 'hook', 'hooks', 'inconsistency', 'indexed', 'infrastructure', 'pre-configured', 're-configure', 'recognition', 'symfony2', 'treats', 'yml', 'briefly', 'figure', 'hovers', 'palette', 'swing', '.csv', 'advance', 'bringing', 'charts', 'dark', 'debugged', 'deep', 'nearby', 'plots', 'plotted', 'previewing', 'reaches', 'relies', 'skipping', 'tabular', 'traceback', 'activates', 'center', 'conditional', 'forced', 'jit', 'kill', 'socket', 'switcher', 'termination', 'transport', 'cdi', 'inserting', 'cost', 'costs', 'in-editor', 'marker', 'planned', 'planner', 'reserve', 'rows', 'scanned', 'stacked', 'start-up', 'titles', 'tolerance', 'took', 'youtube.com', \"'allowjs\", '-w', 'jsconfig.json', 'managers', 'one.select', 'package.if', 'selected.learn', 'tsc', 'tsconfig.json', 'used.bundled', 'wakes', 'yarn', 'entered', 'leading', 'partial', 'underscore', 'todo', '.fine', 'bit', 'class-based', 'exhaustive', 'hovering', 'java.util.logging.logger.getlogger', 'locationx', 'locationy', 'print.', 'println', 'wildcard', 'enums', 'qualifies', 'statics', 'assembly', 'index.jsp', 'web-inf', '1.6.', 'bytecode', 'cross-compilation', 'deduces', 'dubious', 'ecj', 'groovy-eclipse', 'groovy-eclipse-batch', 'javac', 'jdks', 'linking', 'omits', 'per-module', 'room', 'roughly', 'appropriately', 'converting', 'wrapper', 'anaconda3', 'conda', 'discover', 'docker-compose.yml', 'environmental', 'existed', 'inherit', 'left-handed', 'lowest', 'openssl', 'pipenv', 'pipenv.exe', 'python.exe', 'python36', 'python37', 'site-packages', 'system-site-packages', 'virtualenv', 'automation', 'checklists', 'cloned', 'cloning', 'hosted', 'job', 'jobs', 'organization', 'reviews', 'right-clicking', 'modal', 'old-style', 'params', 'reassign', 'reduces', 'selections', '0-1', '0-59', '0-6', '2000-2006', '2010-2016', 'dateinfo', 'indication', 'indications', 'today', 'velocity', 'years', '.html', 'careful', 'flask', 'pyramid', 'acquires', 'grow', 'labelfor', 'policies', 'radio-button', 'resized', 'sizing', 'ctrl+alt+f', 'declares', 'initializing', '2021', 'dates', 'incorporated', 'originalcomment.match', 'pastes', 'pulls', 'regenerate', 'apk', 'devices', 'obfuscate', 'physical', 'proguard', 'proguard-project.txt', 'signed', '^javascript', 'chained', 'generic', 'hyperlink-hrefs', 'internals', 'badge', 'cucumber', 'cucumber.js', 'human-readable', 'matrix', 'spoken', 'black', 'gray', 'italic', 'patches', 'permanently', 'restored', 'shelve', 'shelved', 'shelves', 'shelving', 'unshelve', 'unshelved', 'composing', '2021.2', 'beta', 'channel', 'eap', 'entirely', 'improvements', 'major', 'minor', 'patch-based', 'postpone', 'releases', 'snap', 'snaps', 'toolbox', 'gradlew', 'io.cucumber', 'jar:6.1.1', \"'twisted\", '__init__.py', 'base_1.py', 'calculus', 'tdd', 'test-driven', 'test_base_1.calculationtestcase', 'test_base_1.py', 'trial', 'twisted', 'backreference', 'captured', 'complicated', 'e.', 'l', 'parsing', 'refers', 'unselected', 'color-scope', 'filecolors.xml', '-f', '-h', '-l', '-u', '-x', '.http', '300.', '5.1', 'buffers', 'client.global', 'compliance', 'composed', 'content-type', 'converter', 'cookies', 'ctrl+j', 'curl', 'digest', 'form-data', 'grpc', 'http-client.cookies', 'httprequests', 'investigate', 'mostly', 'mptr', 'multipart', 'no-cookie-jar', 'no-log', 'non-existing', 'possibilities', 'preserved', 'programmatically', 'proto', 'redirects', 'responds', 'restful', 'rewrites', 'rpc', 'sensitive', 'sent', 'server-streaming', 'subsequent', 'testname', 'unary', 'verbose', '.fxml', 'discussion', 'forum', 'modular', 'scene', 'variety', 'couple', 'describing', 'gofmt', 'goimports', 'goroutines', 'vet', 'overriding', 'authors', 'bash', 'bash.exe', 'bell', 'blinking', 'clickable', 'cmd.exe', 'cygwin', 'ends', 'fish', 'foreground', 'inherits', 'meta', 'powershell', 'preserves', 'shells', 'underline', 'usernames', 'wsl.exe', 'z', 'zsh', '“', '”', 'ctrl+alt+shift+f', 'john', '-m', 'abort', 'branch_name', 'changelists', 'cherry', 'cherry-pick', 'cherry-picking', 'diverged', 'git-rebase', 'keep-empty', 'master', 'merging', 'non-picked', 'rebasing', 'sake', 'stash', 'unavailable', 'unfinished', 'unresolved', 'unstash', 'assets', 'undeploy', 'undeployed', 'triggers', 'abort-on-container-exit', 'attaches', 'cmd', 'delimited', 'django-admin.py', 'entrypoint', 'exit-code-from', 'index=index', 'key=val', 'one-time', 'privileged', 'publish=', 'pythonunbuffered', 'rm', 'service-ports', 'service=num', 'use-aliases', 'user=', 'volume=', 'bigger', 'bytes', 'chunk', 'instantly', 'interchanged', 'pagination', 'recently-used', 'submitting', 'transpose', 'transposed', 'arrangement', 'ctrl+alt+shift+l', 'glob', 'rearrange', 'reformatted', 'semicolon', 'whereas', 'servlet-name', \"'table_name\", 'fire', 'inconvertible', 'lacks', 'testng', 'completing', 'defaultvalue', 'facilities', 'mime', 'pathparam', 'void', 'wadl', 'alt+q', 'backwards', 'breadcrumbs', 'ctrl+alt+f12', 'ctrl+g', 'ctrl+left', 'ctrl+m', 'ctrl+right', 'ctrl+shift+b', 'ctrl+shift+backspace', 'ctrl+shift+m', 'ctrl+u', 'descendant', 'infos', 'lens', 'movement', 'navigates', 'preference', 'siblings', 'snippets', 'visually', 'watching', 'lettuce', '-g', 'compilers', 'fills', 'sass', 'scss', '.markdown', 'bundles', 'general-purpose', 'ocaml', 'textmate', '1000.', 'client.global.set', 'digits', 'dynamic', 'handles', 'http-client.env.json', 'http-client.private.env.json', 'hyphen', 'introduces', 'meant', 'myfile.json', 'overwrites', 'parameterized', 'passwords', 'random', 'randomint', 'rewrite', 'uris', 'uuid', 'absolutely', 'attaching', 'breakdown', 'coming', 'freeze', 'hood', 'imposes', 'interfere', 'out-of-the-box', 'precision', 'procedures', 'techniques', 'belonging', 'functionalinterface', 'generatetext', 'guava', 'inaccessible', 'printhello', 'sayhello', 'uncompilable', 'well-known', 'qualifiers', 'delegating', 'forwards', 'middleman', 'simply', '.js', 'bookmarklets', 'debuggers', 'nginx', 'php.ini', 'reacts', 'akka', 'concurrent', 'descriptions', 'factory', 'inappropriate', 'lightbend', 'mutable', 'receiver', 'starter', 'toolkit', '-r', '-t', 'drb', 'elsewhere', 'formerly', 'implicitly', 'pre-load', 'pre-loaded', 'rails_env', 'spork', 'substrings', 'zeus', 'complies', 'datatypes', 'doctype', 'states', 'unclosed', 'violations', 'w3c', 'well-formedness', 'wrong', 'xsd', '.append', '13', 'a.printsomething', 'apples', 'args', 'bananas', 'counters', 'english', 'greeting', 'j', 's1', 's2', 'straightforward', 'stringbuilder', 'v', 'yield', '++', 'abstract', 'accessor', 'aids', 'arithmetic', 'assertequals', 'atomicfieldupdater', 'await', 'awt', 'bigdecimal', 'bitwise', 'bounded', 'broad', 'busy', 'c-style', 'calculation', 'capacity', 'captures', 'caught', 'clashes', 'classloader', 'cleaner', 'collection.toarray', 'collector', 'comparator', 'compareto', 'computation', 'concatenation', 'concrete', 'concurrency', 'confusing', 'construction', 'coupled', 'dangling', 'dependents', 'differing', 'divide', 'division', 'enumeration', 'equality', 'equals', 'escaped', 'exports', 'exposed', 'extending', 'externalizable', 'finalize', 'float', 'floating-point', 'foreach', 'guarded', 'guardedby', 'hardcoded', 'hashcode', 'holding', 'illegal', 'immutable', 'incompatible', 'inheritance', 'inheritor', 'insecure', 'instantiates', 'integers', 'invalid', 'isempty', 'iterable', 'j2me', 'java.lang', 'java.lang.math', 'java.lang.object', 'java.math.bigdecimal', 'java.net.url', 'java.util.concurrent.locks.condition', 'javabeans', 'labeled', 'lazy', 'list.remove', 'locks', 'logger', 'metrics', 'migration', 'minus', 'mismatch', 'mismatched', 'misordered', 'misses', 'module-info', 'multiplication', 'multiply', 'negated', 'negations', 'no-arg', 'non', 'non-boolean', 'non-cloneabe', 'non-constant', 'non-exception', 'non-final', 'non-null', 'non-public', 'non-serializable', 'non-short-circuit', 'non-static', 'non-trivial', 'notifyall', 'null-check', 'nullability', 'objects.equals', 'objects.requirenonnull', 'obsolete', 'obviously', 'octal', 'outer', 'outofmemoryerror', 'overly', 'package-info.java', 'package-visible', 'peer', 'pointless', 'prevents', 'prohibited', 'provider', 'pseudo', 'readobject', 'reflective', 'removal', 'replaceable', 'rethrown', 'runtime.exec', 'runwith', 'self', 'serializable', 'serialversionuid', 'setter', 'signal', 'simpledateformat', 'simplifiable', 'statically', 'string.equals', 'string.indexof', 'stringbuilder.append', 'strong', 'subclass', 'sun', 'suppression', 'suspicious', 'system.err', 'system.out', 'teardown', 'testcase', 'throw', 'transient', 'unconstructable', 'undeclared', 'unnecessarily', 'unqualified', 'unsafe', 'unsynchronized', 'upper-case', 'vararg', 'varargs', 'violates', 'volatile', 'writeobject', 'boundaries', 'darcula', 'jumps', 'light', 'rolling', 'scrolled', 'significant', 'smooth', 'stripped', 'strips', 'whitespace-only', '1.x', 'markup', 'scenebuilder', 'underneath', 'enhancer', 'clouds', 'foundry', 'grunt-specific', 'grunt.js', 'gruntfile', 'parameter_name', 'parameter_value', \"'d\", 'belongs', 'file_path', 'project-directory-relative', 'stderr', 'stdout', 'submenus', 'alt+0', 'alt+8', 'attention', 'double-press', 'dropdown', 'f12', 'screenshot', 'stretch', '⌥', 'tree-view', 'concerning', 'depot', 'perforce', 'perforce-related', 'spec', 'db', 'helpers', 'layouts', 'migrate', 'migrations', 'models', '.yaml', '2018.1.', '5.5', '8080', 'app.yaml', 'localhost:8080.', 'maintained', 'php55', 'uploading', 'visit', 'aninterface', 'proposed', 'thereby', 'accounts', 'asked', 'mobile', 'open-source', 'org', 'two-factor', 'mounted', 'depots', 'p4config', 'seeks', \"'test\", 'glue', 'hosting', 'respectively.file', 'symlinks', 'unfortunately', 'plugin.xml', '.git', '.gitignore', 'alt+ctrl+u', 'biggest', 'control-related', 'ctrl+1', 'ctrl+2', 'ctrl+3', 'ctrl+alt+j', 'ctrl+alt+r', 'ctrl+alt+w', 'ctrl+alt+z', 'ctrl+f10', 'ctrl+f11', 'ctrl+f6', 'ctrl+f8', 'ctrl+l', 'ctrl+shift+f11', 'ctrl+shift+f7', 'ctrl+shift+g', 'ctrl+shift+h', 'ctrl+shift+k', 'ctrl+shift+tab', 'ctrl+tab', 'demand', 'eventually', 'f5', 'f9', 'guaranteed', 'improved', 'itco', 'iter', 'iterate', 'mimic', 'model', 'organizing', 'perspectives', 'phrase', 'psf', 'psvm', 'shift+f12', 'so-called', 'sout', 'staged', 'structured', 'terminology', 'thing', 'transformed', 'tweaking', 'vs', 'weblogic', 'websphere', 'workaround', 'workflows', '500.', 'million', '200', 'contenttype', 'headername', 'responseheaders', 'storage', 'utf-8', 'valueof', 'valuesof', 'authenticator', 'cluster', 'compute', 'verifying', 'warehouse', 'jtextfield', 'morph', 'morphing', 'treeview', 'agree', 'commas', 'definite', 'grazie', 'mistake', 'mistakes', 'past', 'phrases', 'proofreading', 'punctuation', 'stylistic', 'subtle', 'vcs.xml', 'afterwards', 'automates', 'bare', 'counter-intuitive', 'driven', 'hard-coding', 'iterating', 'iterative', 'necessarily', 'realistic', 'red-green-refactor', 'skeleton', 'sufficiently', 'tdd-style', 'test-first', 'went', 'getactualsize', '-noverify', 'deeper', 'nullity', 'travel', '-agentlib', '0.0.0.0', '127.0.0.1:18080', 'docker-compose-debug.yml', 'dockerdb', 'entitybus', 'omitting', 'demo', 'initializr', 'requestmapping', 'thymeleaf', 'add_action', 'add_filter', 'callbacks', 'involved', 'positions', 'putting', 'registrations', 'wordpress-aware', 'wordpress-specific', 'wordpress.org', 'wp-content', 'truncate…', 'classb', 'residing', 'phpdoc', 'psalm', 'psalm-suppress', 'psalm.bat', 'current_dialect', 'syntactically', 'xml-java', '.py', 'as-is', 'experts', 'framework-specific', 'my_tests', 'my_tests.test_car.testcar.test_brake', 'some-argument=some-value', 'test_brake', 'test_car', 'test_car.py', 'testcar', 'unittests', 'commenting', 'liquid', 'new|', 'uncommenting', 'pserve', '17', 'consumers', 'crashes', 'dataflow', 'downstream', 'fall', 'possibly', 'setcomplete', \"'python\", 'causes', 'coincidence', 'printing', 'printout', 'sys', 'sys.path.extend', 'sys.platform', 'sys.version', 'working_dir_and_python_paths', 'applets', 'generify', '-s', 'ad-hoc', 'anytime', 'bare-bones', 'erl', 'erlang', 'eunit', 'rebar', 'rebar3', 'unnamed', 'inlined', 'untrusted', '⇧', 'discussed', 'improvement', 'questions', 'backups', 'definer', 'dev.mysql.com', 'docs.mongodb.com', 'dump_tool', 'excel', 'exporting', 'extractors', 'generators', 'mysqldump', 'pg_dump', 'pg_restore', 'routine', 'txt', 'v2', 'workstation', 'xlsx', '3.0.', '6.0.', 'advances', 'broadly', 'calculate', 'challenge', 'correcting', 'ctrl+f2', 'findaverage', 'forgot', 'happened', 'integer.parseint', 'kinds', 'late', 'omission', 'pausing', 'seems', 'sum', 'suspected', 'thorough', 'tricky', 'waits', 'preselect', 'accidental', 'amounts', 'arranged', 'asterisks', 'excluding', 'exclusion', 'regular-expressions.info', 'style.css', 'style1.css', 'style2.scss', 'suppressing', '80', 'interacts', 'combined', 'hard-coded', 'i18n', 'presenting', 'translating', 'cdata', 'combinations', 'jspx', 'runnable', 'idea.log', 'arrows', 'chooser', 'ctrl+alt+e', 'dbms_output', 'relate', 'subquery', 'tricks', 'tsqlt', 'utplsql', '1.3', 'jsse', 'sslenabled=true', 'truststore', 'batch-apply', 'pre-commit', 'cs', 'detector', 'mess', 'php-cs-fixer', 'php-cs-fixer.bat', 'phpmd', 'phpmd.bat', 'phpstan', 'phpstan.bat', 'slowing', 'pip', 'pre-release', 'pypi', 'smartly', 'tracks', 'uninstalling', 'upgraded', 'upgrading', 'docstring', 'docstrings', 'epytext', 'restructuredtext', 'comment-based', 'decorated', 'inspecting', 'skeletons', 'typeshed', 'unpacking', 'ajax', 'initiated', 'menu-ajax-script.php', 'adjacent', 'es6', 'gulp-cli', 'gulp.js', 'gulpfile', 'harmony', 'multiselect', 'non-adjacent', 're-build', 're-built', 'escalate', '.icls', '.conf.js', '0.10.24', '0.11.13', 'meets', 'spy-js', 'term', 'abstracts', 'class_name', 'subinterface', 'superinterface', 'binders', 'jax-ws', 'xmlbeans', 'joomla-specific', \"'ignore\", 'alt+leftalt+right', 'chevron', 'consisting', 'criterion', 'difficulties', 'f1', 'granularity', 'joining', 'local-remote', 'mirror', 'non-collapsible', 'non-whitespace', 'panels', 'panes', 'path_1', 'path_2', 'regard', 'released', 'respected', 'side-by-side', 'sizes', 'splitting', 'study', 'timestamps', 'trim', 'unified', 'viewers', 'alt+shift+', 'attrs', 'non-existent', 'accomplish', 'dirset', 'enjoy', 'path-like', 'forcefully', 'migrating', 'modifying', 'neat', 'routines', 'satisfy', 'transaction', 'flex', '.jscs.json', '.jscsrc', '2020.2', 'g', 'jscs', 'jscsconfig', 'preset', \"'go\", '.iml', '1.13', '1.14', 'checksum', 'download…', 'filepath', 'go.mod', 'golang.org', 'gonoproxy', 'goprivate', 'goproxy', 'gorilla', 'gosumdb', 'iml', 'local…', 'mod', 'modules.xml', 'mux', 'pkg', 'rc', 'replacements', 'sdk…', '1024.', 'look-and-feel', 'fourth', 'getsomething', 'hierarchies', 'myclass20', 'myclass25', 'third', 'yourclass', 'associates', 'customizing', 'servlets', 'attempts', 'examines', 'non-unique', 'unpinned', 'annoyance', 'bottom-right', 'everyone', 'feel', 'gear', 'inactivity', 'platform-based', 'recreate', 'signing', 'spare', 'styles', 'distinguished', 'ctrl+alt+shift+enter', 'jpql', \"'update\", '.war', 'administration', 'apps', 'clusters', 'cmp', 'deployable', 'dns', 'ejbs', 'exploded', 'firefox', 'hot', 'hot-swapped', 'meanings', 'packed', 'rebuilt', 'recompiled', 'redeploy', 'redeployed', 'shutdown', 'grammatical', 'vaadin', 'amend', 'continuing', 'contributors', 'fixup', 'hashes', 'illustrating', 'interactively', 'invisible', 'linear', 'loss', 'meld', 'mini', 'mini-editor', 'oldest', 'pops', 'reword', 'catalog', 'catalogs', 'information_schema', 'introspect', 'introspected', 'lightning', 'pre-introspected', 'relational', 'search_path', 'searched', '-jar', 'newest', 'sought', 'vary', 'android-gradle', 'autosave', 'decoupled', 'gradle-android', 'greatly', 'in-process', '-specific', '.getname', 'dive', 'printf', 'this.getclass', 'ancestry', 'consideration', '409', 'certify', 'last-minute', 'mixed-revision', 'mq', 'sign-off', 'teamcity', 'undoing', 'vcs-specific', 'vcss', '.dll', '.jnilib', '.so', 'detaching', 'flexibly', '2020.2.1', '2021.1', 'code-with-me.jetbrains.com', 'codewithme-relay-1.asia-northeast1-gke.intellij.net', 'codewithme-relay-1.asia-south1-gke.intellij.net', 'codewithme-relay-1.europe-north1-gke.intellij.net', 'codewithme-relay-1.southamerica-east1-gke.intellij.net', 'codewithme-relay-1.us-east1-gke.intellij.net', 'codewithme-relay-2.asia-northeast1-gke.intellij.net', 'codewithme-relay-2.asia-south1-gke.intellij.net', 'codewithme-relay-2.europe-north1-gke.intellij.net', 'codewithme-relay-2.southamerica-east1-gke.intellij.net', 'codewithme-relay-2.us-east1-gke.intellij.net', 'collaboratively', 'colleagues', 'customization', 'download-cf.jetbrains.com', 'download.jetbrains.com', 'emacs', 'on-premises', 'vim', 'vscode', 'wss', 'arraylist', 'decision', 'eligible', 'garbage', 'leaks', 'remained', 'retained', 'executables', 'json5', 'nice', 'overlapping', 'storages', 'thanks', 'tslint.json', 'documented', 'pear', 'php-specific', 'targeted', 'casing', 'dots', 'identity', 'insertion', 'last_name', 'materialized', 'owner', 'controlled', 'directory-based', 'scans', 'unregistered', 'versioning', 'aspectj', 'considers', 'inconvenient', 'regenerated', 'auto-close', 'auto-insert', 'artifact_name', 'fx', 'packager', 'solutions', 'stackoverflow', '0032a0', '0047e4', '007c7c', '08978f', '0a7700', '0eaa00', '3264b4', '3a8484', '4ff0ff', '616161', '629755', '62cc47', '6897bb', '6c6c6c', '727238', '7503dc', '773895', '7c7c00', '848504', '8aa4c8', '9876aa', '993300', 'a9b837', 'annotating', 'authored', 'b28c00', 'blame', 'clearcase', 'color-coded', 'ctrl+shift+d', 'd1675a', 'd5756c', 'ed864a', 'ed94ff', 'ff0000', 'ff6666', 'gitblame', 'hijacked', 'immediate', 'intentionally', 'looked', 'meaningless', 'non-active', 'originated', 'rollback', 'scheduled', 'uncheck', 'untracked', 'vss', '9000.', 'bind', 'confirms', 'connects', 'dbgp', 'dbgpproxy', 'listen', 'multi-user', 'outlined', 'refreshing', 'xdebug.client_host', '10am', '2.2', '_calcarea', 'accounting', 'accountingdepartment', 'block-scoped', 'calculate_sum', 'callee', 'came', 'concise', 'console.log', 'const', 'ctrl+alt+c', 'declaring', 'department', 'destructuring', 'es5', 'explanations', 'function-scoped', 'generate_result', 'generatereports', 'i2', 'monday', 'myfunction', 'parenizor.method', 'partially', 'printmeeting', 'printname', 'propagate', 'propagated', 'raises', 're-used', 'reject', 'scoped', 'show_result', 'show_sum', 'single-file', 'this.getvalue', 'this.name', 'vue', 'vue.js', 'alt+mouse', 'circular', 'jigsaw', 'module-info.java', 'reserved', ':isinstance', 'already-typed', 'auto-generated', 'casts', 'completions', 'consumer', 'context-aware', 'context-dependent', 'ctrl+alt+h', 'ctrl+alt+space', 'gsp', 'hippie', 'inference', 'initializers', 'laptop', 'learning-assisted', 'ml', 'ms', 'myutils.methodname', 'negate', 'non-english', 'noticeably', 'operands', 'poor', 'precise', 'prints', 'rank', 'ranking', 'signatures', 'snake_case', 'star', 'supply', 'switches', 'toggling', 'topmost', '-dxdebug.remote_mode=jit', '-dxdebug.start_upon_error=yes', '.remote_mode', '10.0.2.2.', '5.3', '9001,9003', '9003.', 'conf.d', 'docker-php-ext-xdebug.ini', 'dockerfile', 'host.docker.internal', 'http.deployment', 'http.url', 'ipv4', 'ipv6', 'just-in-time', 'mac', 'optimizer', 'phpinfo', 'preposition', 'req', 'root.the', 'server.choose', 'toggled', 'unmapped', 'xdebug-specific', 'xdebug.idekey', 'xdebug.remote_mode', 'xdebug.start_upon_error', '.php', 'alt+shift+f9', 'queue', 'reach', 'remote_autostart', 'start_with_request', 'injects', 'intellilang', 'intellilang.xml', 'regexp', 'suffixes', 'branching', 'p4', 'p4.output', 'respond', 'authority', 'cancels', 'cas', 'layers', 'seconds', 'pnpm', 'pnpm-lock', 'resolution', 'yarn.lock', 'privilege', 'revoke', 'alerts', 'design-time', \"'pom\", 'aggregative', 'aggregator', 'generated-sources', 'ide-specific', 'idea.system.path', 'ideaprojects', 'importer', 'preferences|', 'project-level', 'subdirectory', 'user_home', 'assignee', 'combo', 'encoded', 'jira', 'jql=', 'jql_query', 'preliminary', 'selectors', 'serverurl', 'trackers', 'insights', 'digital', 'myproject-110', 'mytracker', 'n-dash', 'acts', 'dock', 'undock', '2.12', 'anymore', 'ctrl+alt+shift+e', 'idea-based', 'outofmemory', 'sbt-based', 'type-aware', 'compiler-specific', 'configscript', 'lint', 'linted', 'save-dev', 'sheets', 'stylelint', 'tsx', 'unambiguous', 'eslint', 'linters', '0.0.0.0:3000', '60', 'activerecord', 'aspect', 'corrected', 'ctrl+alt+home', 'demonstrate', 'esc', 'get_sighup_path', 'minitest', 'notifies', 'offenses', 'preparing', 'proceeds', 'puma', 'puts', 'raised', 'rspec', 'rubocop', 'rvm', 'sample_rails_app', 'ternary', 'user.rb', 'user_params', 'users_controller.rb', 'users_controller_test.rb', 'users_path', 'userscontroller', 'worker', '‘', 'ctrl+alt+shift+h', 'inspectionprofiles', '.less', '.scss', '.ts', '.vue', 'clicked', 'consistently', 'prettier', 're-apply', 'ts', 'wake', 'deployment|', 'iiop', 'processors', 'rmi', 'validators', 'dispatching', 'knowledge', 'practice', 'subscribing', 'swapping', 'emulated', 'graceful', 'prettified', 'sigint', 'sigkill', 'substitutes', 'traced', '.bat', '.cmd', '.com', '.exe', 'another.scss', 'babel', 'below.project', 'changelists.default', 'closure', 'colons', 'control.all', 'default.alternatively', 'editor.current', 'error-free', 'filedir', 'filenamewithoutextension', 'fom', 'jade', 'optimal', 'path.on', 'recognised', 'root.scss', 'roots.scratches', 'separators.if', 'sources.project', 'syntactical', 'tab.vcs', 'uglifyjs', 'window.open', 'launcher', 'cascade', 'unindented', 'varchar', 'keystrokes', 'reformats', 'internet', '8080.', 'actuator', 'addcustomer', 'autowired', 'com', 'customer', 'customerrepository', 'customers', 'democontroller', 'democontroller.java', 'derive', 'designates', 'findcustomerbyid', 'getmapping', 'health', 'in-memory', 'org.springframework.boot', 'requestparam', 'restcontroller', 'spring-boot-devtools', 'springboottutorial', 'springboottutorialapplication', 'springboottutorialapplication.java', 'whenever', 'printer', 'configuration-specific', 'module-', 'project-related', 'requesting', 'textbox', 'transformer', 'compass', 'csso', 'formatters', 'malicious', 'ruby.exe', 'suppressed', 'e', 'legend', 'numpad+', 'numpad-', 'i.e', 'leftmost', 'perspective', 'producer', 'rightmost', 'technologies', 'websocket', 'bootstrap', 'jmx', 'production-ready', 'my_variable', 'angular', 'asynchronous', 'calculator.html', 'calculator.js', 'ctrl+shift', 'dom', 'home.html', 'html_file_name', 'index.js', 'line5', 'on.', 'powered', 're-use', 'walk', 'workers', 'dart', 'dartfmt', 'industry', 'endings', 'ide-level', '7.1', 'catalog.xml', '-dcom.sun.management.jmxremote.authenticate=false', '-dcom.sun.management.jmxremote.ssl=false', '.in', 'ajp', 'list.in', 'matter.click', 'ok.on', 'staging', 'transferred', 'transferring', '1.9', 'func', 'goroutine', 'p', 'jres', 'alpha-sorted', 'confined', 'delimiting', 'prefix-free', 'reordered', 'single-line', 'vendor-specific', '19.8.0.0', 'instantclient_19_8', 'libocijdbc', 'oci', 'ora', 'oracle.com', 'supplement', 'thin', 'tns', 'tnsadmin', 'tnsnames.ora', 'executablescript', 'lightedit', 'quit', 'stand-alone', '.main', 'abbreviated', 'classname', 'idea-specific', 'knows', 'netbeans', '=b', 'a.', 'ascii', 'bob', 'boundary', 'consecutive', 'ctrl+f4', 'digit', 'foooood', 'form-feed', 'lookahead', 'lookbehind', 'n.', 'negative', 'newline', 'non-word', 'num', 'positive', 'r', 'remembered', 'scratchpad', 'subexpression', 'w', 'wood', 'xyz', 'z.', 'zoo', '53322.', '_test.dart', 'dart2js', 'dart_file_name', 'dartdevc', 'default_test_configuration_name', 'devtools', 'folder_name', 'group_name', 'pause_isolates_on_start', 'project-name', 'pub', 'pubspec.yaml', 'stagehand', 'suspends', 'test_name', 'webdev', 'your_vcs', 'suppresswarnings', 'dev', 'symfony-home', 'translations', 'junixsocket-common-2.3.2.jar', 'junixsocket-core-2.3.2.jar', 'junixsocket-mysql-2.3.2.jar', 'junixsocket-native-common-2.3.2.jar', 'junixsocket-native-custom-2.3.2.jar', 'mysqld', 'servertimezone', 'sockets', 'timezone', 'utc', 'archived', 'dep', 'experiment', \"'rails\", '6.', 'apt', 'asdf', 'asset', 'bundling', 'chruby', 'homebrew', 'impacting', 'installers', 'isolated', 'linux-deployed', 'mri', 'orm', 'pipeline', 'planning', 'prerequisite', 'rbenv', 'ruby-build', 'rubygems', 'rubyinstaller', 'truffleruby', 'webpack', 'webpacker', 'table_name', 'inconsistencies', 'reverted', 'clauses', 'distinct', 'integrity', 'not-null', 'param1', 'param2', 'param3', 'semantics', 'accessors', 'encapsulate', 'outward', \"'rxjs\", 'aligns', 'animated', 'bird.js', 'dog.js', 'negates', 'observable', 're-sorted', 'rearrangement', 'signs', 'webpack.config.js', 'trunk', 'getdata', 'ismodified', 'setdata', 'answer', 'cp', 'helidon', 'jax-rs', 'math', 'mathematical', 'micronaut', '.php_cs', '.php_cs.dist', 'project_dir', 'psr1', 'risky', '.coffee.trace', '.js.trace', '.ts.trace', 'aqnd', 'autocomplete', 'autocompletion', 'compressed', 'contrary', 'ecmasript6', 'exclusions', 'firebug', 'instrumented', 'magnification', 'magnifier', 'menu.the', 'node.when', 'prettifying', 'six', 'spy.js', 'stopping', 'tick', 'variant', 'tip', 'streamline', 'jython', '.dmg', '.tar.gz', '30-day', '64-bit', 'administrators', 'channels', 'cores', 'cross-platform', 'de', 'debian', 'gb', 'gnome', 'idea.sh', 'intel', 'intellij-idea-community', 'intellij-idea-educational', 'intellij-idea-ultimate', 'interrupting', 'kde', 'launchers', 'launchpad', 'lts', 'maintains', 'mount', 'nightly', 'officially', 'ram', 'requirement', 'rhel', 'self-contained', 'silicon', 'spotlight', 'symbolic', 'tarball', 'isolation', 'kubeconfig', 'kubernetes', 'networks', 'pod', 'pods', 'rolled', 'shift+f4', 'thousands', 'transactions', 'tx', 'volumes', 'behalf', 'build-time', 'idea-181088', 'quarkus', 'rsync', 'derived', 'sub-tags', 'subtags', 'enlarge', 'goto', 'maximized', 'screens', 'splitter', 'strip', 'stripes', 'unsplit', 'wherever', 'receiving', 'therein', '6.x', 'axis', 'axis2', 'cxf', 'jbossws', 'wsdl', 'xfire', 'arise', 'mercurial-specific', 'regarding', 'root.choose', 'wiki', 'www.mercurial-scm.org', 'myname', 'browsing', 'formal', 'ctrl+alt+f6', 'simulation', 'former', 'javabean', '.pdf', '.pyc', '.svn', 'auto-detect', 'case-sensitive', 'chooses', 'hashbang', 'pdf', 'proprietary', 'shebang', 'supporting', 'forked', 'example.xsd', 'www.example.org', 'bad', 'idea.app', 'inspectionresults', 'medium', 'myprofile.xml', 'verbosity', '127.0.0.1:8080', 'dockerjavawebapp', 'project_path', 'webapp', 'webapps', '-am', 'minutes', 'unlock', 'jlist', 'jscrollpane', 'reasonable', '2.2.1', '3.0.5', 'checksums', 'fail-at-end', 'fail-fast', 'fail-never', 'lax-checksums', 'maven2', 'maven2_home', 'maven3', 'maven_home', 'multiproject', 'no-plugin-registry', 'recur', 'stacktraces', 'strict-checksums', '.mvn', 'application-level', 'archetype', 'file|', 'fully-functional', 'groupid', 'maven-wrapper.properties', 'maven.config', 'rare', 'sub', 'syncing', 'syncs', '|build', 'gathered', 'persistence.xml', 'boilerplate', 'httpservlet', 'interactions', 'streams', 'webservlet', 'contribute', '.dtd', 'relax', '.bin', '2015-2020', '6+', 'completiong', 'flow-bin', 'proposals', 'bigqueryproject-322409', 'consent', 'dashboard', 'iam', 'playground', 'projectid', \"'npm\", 'angular.js', 'angular.min.js', 'angularjs', 'angularjs-specific', 'bower', 'minified', 'relations', 'seed', 'ui-router', '.ijx.xz', '.metadata.json', '.sha256', '30', 'cdn', 'cdn-layout-tool', 'commit=', 'compress', 'compression=', 'dir', 'generate-output', 'gzip', 'ide-config', 'ide-log', 'ide-system', 'ide.properties', 'intellij.yaml', 'lay', 'miss', 'os-specific', 'output=', 'project-dir=', 'project-id=', 'pycharm', 'reindex', 'rubymine', 'shared-index-project-', 'shared_indexes', 'studio', 'teams', 'tmp=', 'top-left', 'xz', '5.8.', 'constitute', 'comprising', '.hprof', 'disposal', 'expensive', 'profilers', 'name=', 'xpath-expressions', '__proto__', 'console.', 'console.error', 'console.group', 'console.groupcollapsed', 'console.groupend', 'console.info', 'console.warn', 'styling', 'activities', 'bitbucket', 'buy', 'eap-related', 'expiration', 'gitlab', 'participate', 'redirection', 'surveys', '13:10', '16:11.', '2020-02-27', '_1', '_2', '_3', '_editor', '_n', 'arrayvariable', 'awesome', 'baz', 'blockcommentend', 'blockcommentstart', 'capitalize', 'capitalizeandunderscore', 'capitalizes', 'casttoleftsidetype', 'commentend', 'commentstart', 'completesmart', 'component-test', 'component-test.js', 'componenttypeof', 'concat', 'currentpackage', 'dbcolumns', 'dbobjectname', 'decapitalize', 'delimeter', 'descendantclassenum', 'escapestring', 'expectedtype', 'filerelativepath', 'firstword', 'foo-bar', 'foo_bar', 'foo_bar_baz', 'foobar', 'foobarbaz', 'fori', 'groovyscript', 'guesselementtype', 'h', 'ins', 'iten', 'iterablecomponenttype', 'iterablevariable', 'iterated', 'java.lang.deprecated', 'java.lang.float', 'java.lang.number', 'java.util.collection', 'java.util.vector', 'k', 'left-side', 'linecommentstart', 'linenumber', 'lowercaseanddash', 'methodname', 'methodparameters', 'methodparametertypes', 'methodreturntype', 'my-example-name', 'my-text-file', 'my_text_file', 'myawesomeclass', 'myexamplename', 'mytextfile', 'n-dashes', 'outer.this', 'qualifiedclassname', 'regularexpression', 'right-side', 'rightsidetype', 'ritar', 'snakecase', 'spaceseparated', 'spacestounderscores', 'substringbefore', 'subtypes', 'suggestfirstvariablename', 'suggestindexname', 'suggestvariablename', 'thu', 'transforms', 'typeofvariable', 'underscores', 'underscorestocamelcase', 'underscorestospaces', 'variableoftype', 'y-mm-d', 'annotations.xml', 'i18nize', 'i18nized', 'ignoring', 'java.util.resourcebundle', 'resourcebundle', 'substitution', \"'yarn\", '19000', '19001', '8081', 'checker', 'emulate', 'headless', 'ios', 'ios-sim', 'metro', 'npx', 'phone', 'react-native-cli', 'react-specific', 'refuse', 'run-android', 'run-ios', 'simulator', 'stylesheet', 'trustworthy', 'usb', 'confusion', 'path_to_lib', 'some_string', 'auto-import', 'commonjs', 'es', 'javascript-aware', 'jest', 'karma', 'protractor', 'redux', 'reliable', 'subjects', 'warned', 'actor_id', 'characteristics', 'external-data.xml', 'interpreted', 'pointing', 'resulted', 'table.column', 'translated', 'visitor_id', '12979', '2979', 'fedora', 'forwarded', 'podman', 'annotationprocessors', 'build.gradle.kts', 'buildsrc', 'chages', 'de-activate', 'encodings', 'gradle-idea-ext', 'hotswap', 'integrationtest', 'orphan', 're-imported', 'settings.gradle', 'truth', 'alphabet', 'filing', 'fn', 'german', 'keyboards', 'keystroke', 'man', 'obvious', 'shade', 'ticket', 'tty12', 'varies', 'workspaces', '⇧⌘a', '⌃space', '-xrunjdwp', 'jsps', 'jsr-45', 'jsr45-compatible', 'translates', 'initiating', 'instrumentation', 'mechanisms', '.subversion', 'interpolation', 'interpolations', 'pug-specific', 'uniform', 'nexus', '-xmx', 'constantly', 'half', 'ide_home', 'idea64.vmoptions', 'idea_vm_options', 'kilobytes', 'megabytes', 'platform-specific', 'ratio', 'slowdowns', 'user-installed', 'young', 'interval', 'kafka', 'messaging', 'partitions', 'tunneling', 'finishes', 'gracefully', 'non-started', 'party', 'unreferenced', 'restricting', 'migrated', 'pre-configures', 'task-specific', 'practices', 'inward', 'sub-directories', 'subtag', 'xmls', 'scope-profile', 'subversion-specific', 'qualify', \"'task\", '2.4', 'play2', 'plugins.sbt', 'antialiasing', 'border', 'deals', 'greyscale', 'hotkeys', 'lcd', 'limiting', 'line-by-line', 'mnemonic', 'non-antialiased', 'non-lcd', 'perceive', 'pixel', 'smoothing', 'smoothly', 'sub-pixels', 'subpixel', 'wide-screen', 'widescreen', 'crash', 'exe', 'minidump', 'minidumps', 'aggregation', 'avg', 'dotted', 'functionally', 'non-aggregate', 'offset', 'periods', 'primarily', 'conform', 'formula', 'getadjustment', 'getconstant', 'getweight', 'if-else', 'ifelsedemo', 'income', 'insurancestrategy', 'insurancestrategyveryhigh', 'junit4', 'transparent', 'tuning', '3-way', 'accident', 'alt+shift+m', 'approval', 'atomic', 'backed', 'benefit', 'cleaning', 'cons', 'contributions', 'conveniently', 'corrupt', 'diverge', 'lose', 'non-related', 'opposed', 'patched', 'pending', 'postponed', 'pros', 'reapply', 'reflog', 'remote-run', 'resetting', 'reviewed', 'stashed', 'stashes', 'stashing', 'together.you', 'traceability', 'unshelving', 'unstashing', '.spec.', '.test.', '.tomatchsnapshot', '_spec', 'devdependencies', 'jest.config', 'react-awesome-scripts', 'react-script-ts', 'react-scripts', 'react-super-scripts', 'rerunning', 'uncovered', '36', 'circle', 'coloring', 'grids', 'keepass', 'messenger', 'qa', 'settings.zip', 'struts', 'lesson', 'lessons', 'trainer', \"'catch\", \"'do\", \"'finally\", \"'for\", \"'if\", \"'match\", \"'switch\", \"'try\", \"'while\", '+=', 'breadth-first', 'coalescing', 'curvy', 'depth-first', 'do-while', 'elseif', 'laravel', 'multiplicative', 'operand', 'pipe', 'psr-12', 'rearranged', 'specially', 'traditional', 'uniformly', 'php-based', 'webservices', 'well-formed', 'project-specific', 'requirements.txt', 'warns', 'clients', 'jaxws2.x', 'jwsdp2.0', 'netro', 'ri', 'bug-tracking', 'context-menu', 'originate', 'reviewing', '69', 'w+', 'jslint', '.tsx', 'compileroptions', 'dog', 'dog.bark', 'linting', 'mainly', 'superclasses', 'typescript-aware', 'typescript-specific', 'deploys', 'distribute', 'somehow', 'rights', 'check-plugin-updates', 'no-plugin-updates', \"'solver\", 'calculations', 'combobox', 'denoted', 'disappears', 'discuss', 'in.txt', 'learnt', 'sciview', 'semi-transparent', 'solver', 'application.xml', 'javaeeapplication', 'rebased', 'binder', 'types.jar', 'accumulated', 'accumulating', 'aggregated', 'debugging-related', 're-load', 'specifier', 'triggering', 'visualized', 'xdebug_profile', '.form', 'card', 'emulates', 'formlayout', 'grid', 'gridlayoutmanager', 'jgoodies', 'ui-bound', 'p4v', 'executor', 'jaas', 'jgss', 'kerberos', 'krb5', 'socks', 'succeeded', 'erroneous', 'bookmarked', 'shift+f11', 'executions', 'refreshed', 'footer', 'graphics', 'landscape', 'orientation', 'paper', 'portrait', 'totalpages', 'dictionary', 'massive', '.apk', 'classpaths', 'debuggable', 'dex', 'dexing', 'flavor', 'flavors', 'jcenter', 'jni', 'locales', 'minification', 'minify', 'renderscript', '.env', '5433.', 'alpine', 'buildkit', 'derives', 'docker-compose', 'docker_buildkit=1', 'dockerfiles', 'echo', 'evident', 'hub', 'interacting', 'localhost:2375', 'ls', 'manner', 'mounting', 'mounts', 'multi-container', 'my-app', 'my-net', 'my-new-dir', 'persist', 'pg-data', 'pgsql', 'pgtag', 'pguser', 'pre-built', 'randomly', 'recreates', 'registries', 'scaled', 'sigterm', 'untagged', 'v3', 'vote', 'whitespace-modified', '42', '__', 'backend.php', 'file_get_contents', 'front-end', 'frontend.php', 'neither', 'secondary', '.xsd', 'enumerations', 'corrupted', 'persists', 'recover', 'recovery', 'repair', 'draft', 'django.po', 'language-related', 'makemessages', '.conf', '.jstd', 'jstestdriver', 'dml', 'non-trusted', 'bits', 'dirmngr', 'distributive', 'getpin', 'gitbash', 'gnupg', 'gnupg-agent', 'gnupg2', 'gpg', 'gpg-agent', 'gpg.exe', 'gpg.program', 'gpg2', 'gpg4win', 'gpgconf', 'gpgsm', 'graphical', 'keyring', 'macgpg2', 'opengpg', 'pgp', 'pinentry', 'pinentry-mac', 'privacy', 'rotate', 'scdaemon', 'smartcards', 'x86', 'yubikey', 'automating', 'com.example', 'create-react-app', 'forge', 'ir', 'java-based', 'jdk-12.0.1.jdk', 'kit', 'kotlin.test', 'linux.', 'microprofile', 'npm.cmd', 'preferably', 'reversed', 'start.microprofile.io', 'type-safe', 'application_id', 'database_name', 'chromeheadless', 'karma.conf.js', 'analyzer', 'c.', 'listing', '1.1.0', '2018', 'chai', 'expectation', 'istanbul', 'nodeunit', 'nyc', 'application-specific', 'tour', 'a-component', 'angular-specific', 'autogenerated', 'bootstrapped', 'bunch', 'localhost:4200', 'material', 'reinstall', 'schematic', 'schematics', 'heading', 'r.md', 'suited', 't.md', 'tms', 'versioned', 'showed', 'achieved', 'gmail', 'main.php', 'oauth2', 'passwordless', 'camelhump', 'consulting', 'hands', 'optimizing', 'full-scale', 'python-related', '5.6', 'pcov', 'phpunit', 'contiguous', 'non-contiguous', 'file1.ts', 'file2.ts', 'sourcemap', 'sourcemaps', 'double-quote', 'lengthy', 'contextual', 'utilities', 'dimensions', 'jpanel', 'pack', 'rectangle', 'successively', '.gif', '.jpeg', 'above-mentioned', 'intersection', 'lasts', 'mutual', 'myresources', 'user-local', 'distributing', 'hundreds', 'libs', 'main.kt', 'me.user', 'preparations', 'rl', 'scenes', 'worry', 'auth_token', 'upper-left', 'banner', 'jvms', 'selective', 'discarding', 'reverses', 'reverting', 'plans', '.txt', 'causing', 'chunks', 'ctrl+alt+a', 'erasing', 'ref', 'smith', 'synchronous', 'synchronously', 'three-way', 'user.name', 'zipped', '.parquet', 'bucket', 'buckets', 'disconnected', 'reestablish', 'bother', 'c++', 'freemarker', 'gains', 'helping', 'lately', 'multi-platform', 'namely', 'paid', 'alpine-node', 'argon', 'mhart', 'vagrant.bat', 'vboxmanage', 'vboxmanage.exe', 'non-distributed', 'overlap', 'somebody', '.patch', 'slashes', 'square', 'callto', 'generateurl', 'getmockservice', 'infers', 'mailer', 'mock', \"'application\", 'com.gradle.tutorial', 'fizzbuzz', 'fizzbuzzprocessor', 'junit5', \"'document_root\", '5.4', '7.4', '_server', 'alters', 'correlation', 'drill', 'enforced', 'phpstorm-stubs', 'unhandled', 'gwt', 'msgid', 'resting', '.docker', '192.168.99.100:2376', 'docker.sock', 'docker_cert_path', 'homepath', 'impacts', 'minikube', 'surface', 'designing', 'localizing', '.cache', '2020.1.', 'codestyles', 'default-dirs', 'dumps', 'encrypted', 'filetemplates', 'forever', 'idea.config.path', 'idea.log.path', 'idea.plugins.path', 'jsmith', 'leftover', 'portable', 'tuning-the-ide.html', 'user.home', 'behat', 'codeception', 'phpspec', 'color-highlighted', 'stamp', 'widen', '.eslintignore', '.eslintrc', '4.0', 'babel-eslint', 'eslint-plugin', 'eslint-plugin-typescript', 'eslintconfig', 'linter', 'monorepo', 'readme', 'squiggly', 'tslint', 'tslint.yaml', 'tslint.yml', 'typescript-eslint', 'typescript-eslint-parser', 'understands', 'ts-node', 'ftl', 'pollute', 'vtl', '15.0', '2017', '2019.2', 'jtds', 'localdb', 'single-sign', 'sqllocaldb', 'sso', 'preselected', 'build.properties', '5.1.', 'unsorted', 'soap', 'debug-specific', 'bpmn', 'decorator', 'embeddable', 'embeddables', 'conventional', 'ssr', 'bom', 'pac', 'duplicating', 'explored', 'psiwhitespace', '.coffee', 'advisable', 'aims', 'coffee.cmd', 'lessc.cmd', 'noticed', 'core.autocrlf', 'crlf', 'lf', 'supposes', 'get_amount', 'pack_1.sql', 'pack_2.sql', 'satisfies', 'sql:2016', 'view_1.sql', 'a.contains', 'addifabsent', 'concurrency-related', 'flaw', 'guarantee', 'guard', 'luckily', 'principles', 'race', 'reproduce', 'robust', 'synchronizedlist', 'thread-0', 'unexpectedly', 'psql', 'non-palette', '.aws', 'ec2', 'elastic', 'userprofile', 'changesets', '9003', 'rebooted', 'reestablished', 'refuses', '.intellijideagetting-started', 'geo', 'geographical', 'geospatial', 'graphic', 'jcef', 'key=', 'postgis', 'risks', 'value=', 'multirooted', 'publicly-accessible', '.eslintrc.json', '.eslintrc.yaml', 'application-name', 'cd', 'class=', 'div', 'eslint-plugin-react', 'localhost:3000', 'my-class', 'on-event', 'onchange', 'onclick', '16.04+', '2+', '2021.3', '4gb+', '5gb+', '7+', 'centos', 'orchestration', 'pluginid', 'remote-dev-server.sh', 'ssh-link-host', 'ungroup', '2017.2', '2017.3', 'non-recursively', 'forcibly', 'gotype', 'helm', 'backends', 'gevent', 'pyqt', 'subprocesses', 'faces', 'faces-config.xml', 'icefaces', 'openfaces', 'primefaces', 'richfaces', 'boring', 'concentrate', 'congrats', 'equation', 'quadratic', 'solving', 'improves', 'twistedtrial', 'extraction', 'translator', '32768', 'definitelytyped', 'version-specific', 'php.xml', 'explained', 'meterstoinchesconverter', 'myremoteserver', 'noting', 'uploads', 'xampp', 'ot', 'alt+shift+insert', 'contextually', 'integrations', 'regressions', 'schedule', 'cockroachdb', '.classpath', 'alt+shift+g', 'settings.py', 'template_dirs', 'template_loaders', '80.', 'conf', 'foodb', 'localhost:3306', 'mamp', 'servername', 'skype', 'succeeds', 'system-specific', 're-importing', 'fq', 'opiton', 'gradle.properties', 'org.gradle.java.home', 'tooling', 'seam', \"'gradle-wrapper.properties\", \"'wrapper\", 'gradle-wrapper.properties', 'picked', '2004.', 'credential', 'deselected', 'picking', 'wsl2', 'ctrl+shift+f6', '.java', 'led', 'seriously', 'typo', 'acquire', 'project.in', 'project.the', 'project.these', 'refactors', 'scheme.in', 'selected.these', 'vcs.if', 'uncommited', 'protractor.conf.js', '.ipr', '.iws', 'file-based', \"'sdk\", 'redefined', '1.2.', 'alive', 'auto-uploading', 'cdir', 'client-server', 'deployment-related', 'descendent', 'mlsd', 'preinstalled', 'protocol-specific', 'secured', 'setups', 'misspelled', 'utest', 'rdebug', 'expert', 'layout-specific', 'jersey', 'fatal', 'nullpointerexception', 'examined', '-dry-run', 'andrew', 'fuller', 'prereqs', 'com.example.helloworld.helloworld', 'pasted', 'responsible', 'structuring', 'nosetests', 'specs', 'dd', 'mm', 'yyyy', 'pixels', 'evolution', 'imposed', 'non-suspending', 'bill', 'blocked', 'checkpoint', 'non-blocking', 'reactor', 'reactordebugagent.init', '22', 'svn+ssh', 'svn_ssh', 'browsers.json', 'chromium', 'selenium', 'selenoid', 'tailor', 'docs.oracle.com', 'oraclepki.jar', 'sqlnet.ora', 'wallet', 'wallets', '18', 'identification', '.helmignore', '1.5.', 'chart.yaml', 'configmap', 'crd', 'crds', 'customresourcedefinition', 'hours', 'ingress', 'kcm', 'kdep', 'kpod', 'kres', 'kser', 'kustomize', 'partials', 'renders', 'v1', 'v2.0', 'wildfly', 'calculator', 'mul', 'multiplier', 'trait', 'doctests', '3.0.1', '4.1.1.', 'as_java', 'as_java=', 'asenv.conf', 'domain1', 'hello-servlet', 'javaeehelloworld', 'javaeehelloworld-1.0-snapshot', 'jdk-1.8.0.jdk', 'redeploying', 'uncompressed', 'mdtm', 'administrative', 'buffer1.txt', 'five', 'idea.scratch.path', 'encounters', '-dmaven.test.skip=true', '-dtest=testname', 'failsafe', 'surefire', 'assignable', 'class.qualifiedname', 'classelement', 'dumped', 'exp', 'field.name', 'fieldelement', 'java.util.list', 'log4j', 'method.methodname', 'methodelement', 'packagenames', 'reg', 'user-created', 'narrowest', 'my.ini', 'path=', 'pipes', '300', 'liveedit', 'time-delay', 'capable', 'dcevm', 'eye', 'nutshell', 'prepending', 'pro', 'relatively', 'widely', '→', 'bunches', 'client-to-server', 'establishes', 'full-blown', 'gradle-intellij-plugin', 'indeed', 'intelligence', 'landing', 'rd', 'rider', 'ssh-link-port', 'ssh-link-user', 'alt+shift+enter', 'auto-disconnect', 'collation', 'db1', 'dbo', 'dbo|', 'fdw', 'ftable', 'javatm', 'keep-alive', 'mview', 'pgbouncer', 's3', 'synonym', 'unsupported', 'vtable', '|db1', 'tech_name', 'liberty', 'lp', 'wlp', 'main.py', 'scatter', 'thumbnail', 'hellocontroller', 'href', 'barryvdh', 'blade-specific', 'facade', 'injecting', 'lang', 'laravel-specific', 'hadoop', 'hdfs', 'linode', 'minio', 'slack', 'auto-detected', 'react-color', 'pipfile', 'unsatisfied', 'hundred', 'chessboard', 'ctrl+alt+f4', 'thumbnails', \"'m\", 'encoding-related', 'introspector', 'jdbc-based', 'nls_lang', 'nls_lang=russian_cis.cl8mswin1251', 'pg_database', 'session_id', 'solved', 'submitted', 'xmin', 'clipboardcontent', 'hello.c', 'favorites', 'intellisort', 'multi-rooted', 'non-important', 'reversion', 'successive', 'time-frame', '.m2', 'activebydefault', 'de-activated', 'maven.home', 'profiles.xml', 'settings.xml.you', 'infer', '11.x', '2016', '2019', '2019.1', 'i.', 'john.smith', 'logins', 'mssqlserver', 'server_name', 'sqlservermanager15.msc', 'ssms', '⌘', 'pi', 'xpath-related', 'varname', 'varvalue', 'pug', 'shortly', 'allure-java-commons:2.13.8.', 'equally', 'io.qameta.allure', 'myannotation', 'mytmsannotation', 'hits', 'mapping_project', 'my_projects', 'mysite2', 'set-up', 'logically', 'test-related', 'eol-style=native', 'bower.json', 'bar.php', 'foo.php', 'indistinguishable', 'pre-processing', 'instrument', \"'pnpm\", 'before-launch', 'script_name', 'reflects', 'heads', 'nobody', '.jshintrc', 'jshint', 'jshintconfig', 'validations', '2.8', '2.8+', 'checkbox.enable', 'ctrl+shift+f8', 'engineers', 'erroneously', 'ioncube', 'preselects', 'truncated', 'uid', 'workarounds', 'composes', 'jshell', 'arose', 'guarantees', 'templating', 'ij_', 'populating', 'dev-packages', 'pipfile.lock', 'post-processing', 'menuu', 'profiles.ini', 'hung', 'scorpio', 'zdpack', 'zftool', 'parametersarenonnullbydefault', 'gradle-publish', 'rootproject.name', '1.4', 'triple', 'owners', 'pl', 'activity_main.xml', 'androidmanifest.xml', 'build-related', 'constraintlayout', 'counts', 'dimension', 'droid', 'ease', 'hardware', 'hellodroid', 'how-to', 'imageview', 'mainactivity', 'rectangular', 'res', 'tap', 'textview', 'hunspell', 'spellchecker', 'particles', 'restriction', 'uniqueness', '2020.3.1', '6.0.0+', 'coffee', 'cucumber-js', 'library|dir', 'scenario_name', 'tag_expression', 'bundle=', 'csv.format.settings.first.column.is.header', 'doubled', 'messages.databasebundle', 'mps', 'product=', 'rack', 'auto-increment', 'computed', 'currentdialect', 'lob', 'permit', 'audience', 'combines', 'occupy', 'graft', 'queues', 'violet', '-2', 'assertall', 'calculator.multiply', 'displayname', 'informative', 'org.junit.jupiter', 'behat.phar', 'behat.yml', 'behaviour-driven', 'phar', 'time-lapse', 'fileprompt', '14.0.1', 'unzip', '.kts', '1.6.1', '3.0.0', '3.0.8', 'dependencymanagement', 'io.ktor', 'ktor-client-cio', 'librarydependencies', 'org.scalatest', 'scalatest', 'upvote', 'upvotes', 'coroutine', 'coroutines', 'uninstaller', 'stacktrace', 'chats', 'discussions', 'mention', 'reviewer', 'reviewers', 'turn-based', 'ctrl+shift+c', 'ctrl+shift+s', 'fences', 'headings', 'mermaid', 'pandoc', 'plantuml', 'macbook', 'national', '.rst', 'docutils', 'stipulates', 'underlined', 'idea.plugin.hosts', 'non-bundled', 'updateplugins.xml', '.scala', 'nofication', 'notable', 'sub-project', 'sub-projects', 'mycontext', 'pre-selected', 'conversions', 'organizes', '1.8.5', 'sphinx', 'misc.xml', 'behaviors', 'stipulated', 'jwsdp', 'loosely', 'strictly', 'untyped', 'tortoisehg', 'setup.py', 'tox', 'tox.ini', 'bird', 'ioexception', 'ljava', 'method1', 'muted', 'ocean.whale.main', 'package1.class1', 'uncaught', 'util', 'watchpoint', 'whale.java:5', 'corrects', 'overridings', 'price', 'zone', 'ecma6', 'header.java', '.yml', 'phpspec.yml', 'phpspec.yml.dist', 'spec.php', 'toolset', 'communicates', 'compile-time', 'ctrl+alt+f5', 'debuggee', 'delays', 'server=n', 'server=y', 'suspend=y', 'to.to', 'yeoman', 'yo', 'psr0', '_test', 'testify', 'mozilla', 'replay', 'rewind', 'rr', 'autoload.php', 'phpunit.phar', 'phpunit.xml', 'nodeset', 'noinspection', 'shadowed', 'useless', 'well-defined', \"'spec_prefix\", 'spec_prefix', \"'projectname\", 'microservices', 'sourcecompatibility', 'bigdatatools', 'webhdfs', 'yandex', 'ztools', 'py.class', 'vital', '-generator', 'express-generator', 'encloses', 'img', 'safari', 'filter-name', 'numbering', 'erb', 'annoy', 'broadcasting', 'debug_host', 'z-ray', 'zend_debugger.tunnel_max_port', 'zend_debugger.tunnel_min_port', 'initiates', 'myabstractclass', 'myclasswithdelegate', 'myinterface', 'facelets', 'haml', 'java_version', 'mutator', 'obj', 'bottom-up', 'clue', 'containment', 'cycles', 'enlarged', 'gc', 'intervals', 'isolate', 'measurements', 'multicolor', 'provoked', 'retainers', 'shallow', 'shortest', 'sliders', 'ticks', 'tilde', 'views.py', 'trustworthiness', '.ruby-gemset', '.ruby-version', '.versions.conf', 'direnv', 'sample_app', 'shadowenv', 'dominator', 'eclipselink', 'orm.xml', 'tagging', 'cucumber.cli.main', 'specs2', 'ampersand', 'vice-versa', 'dummy', 'torquebox', 'trinidad', 'unicorn', 'begins', 'bidirectional', 'pseudo-class', 'tailwind', 'tailwind.config.js', 'tailwindcss', 'capital', 'decompiled', 'alt+click', 'alt+shift+click', 'alt+shift+middle-click', 'case-sensitively', 'ctrl+alt+shift+click', 'ctrl+home', 'ctrl+shift+end', 'cursors', 'ranges', 'shift+down', 'shift+up', 'honored', 'element-', 'node-selections', \"'unknown\", 'bem', 'href=', '.space.kts', 'kotlin-based', 'testrail', 'javapassfromconsole', 'javapassfromconsole.jar', 'javapassfromconsole.java', 'javapassfromconsole_jar', 'mypassapp', 'openjdk:8', 'vendored', 'amazon-fireos', 'blackberry10', 'buildremote', 'cordova', 'cordova-specific', 'cordova.cmd', 'descriptions.for', 'emulaterunprepareserveremote', 'emulaterunprepareservesee', 'emulators', 'firefoxos', 'ios-deploy', 'phonegap', 'phonegap-specific', 'phonegap.cmd', 'runsee', 'windows8', 'wp8', 'applicationpath', 'glassfishtomcat', 'toget', 'flash', 'posts', 'configuration.php', 'wp-admin', 'wp-includes', \"'rubocop\", \"'standard\", '.rubocop.yml', 'auto-correctable', 'cop', 'offense', 'ties', 'ctrl+shift+p', '.scalafmt.conf', 'scalafmt', 'c.kdbx', 'kwallet', 'decompiler', 'app.js', 'location.for', 'location.to', 'alt+shift+n', 'bugzilla', 'restricted', 'trello', 'essentially', 'integration-test', 'debugger-agent.jar', 'instrumenting', 'param_n', 'zero-based', 'unfamiliar', 'xsi', 'address=9009', 'java_opts', 'jdwp=transport=dt_socket', 'redeployment', 'projection', '.dex', '.odex', 'dalvik', 'dx', 'aggregates', 'aggregators', 'full-text', 'leverage', 'one-line', '10.', '16299.15', 'application.groovy', '8859-1', 'iso', 'native-to-ascii', '.bashrc', 'preparation', 'py', 'setx', 'tapestry', 'ips', \"'172.20.208.95\", \"'__main__\", '-b', '================================================================================================', '==============this', '__name__', 'added==================================================================', 'disc', 'elif', 'math.sqrt', 'mysftpconnection', 'port=12345', 'pycharm_project_986', 'pydevd-pycharm', 'pydevd-pycharm.egg', 'pydevd-pycharm~=191.3490', 'pydevd_pycharm', 'pydevd_pycharm.settrace', 'python3', 'quadratic_equation.py', 'root1', 'root2', 'solver.demo', 'stderrtoserver=true', 'stdouttoserver=true', '.sass', 'mixins', '.htaccess', 'awesomeproject', 'gotraceback=crash', 'ulimit', 'add-on', 'org.postgresql.ssl.nonvalidatingfactory', 'verify-ca', 'searchable', 'configuration.activate', 'list.show', 'maven-specific', 'mesos', 'sparkcontext', 'user=jetbrains', 'coffeescript_file_name', 'dbunit', 'tab-separated', '16', '2017.1', '2018.1', '2018.2', 'always-strict', 'sealed', 'webinar', '.npm', 'com.company', 'com.intellij.openapi', 'mydir', 'mymod', 'mymodule', 'scope2', 'wp', 'wp-cli.phar', 'wp.bat', 'compilemessages', 'designated', 'artifact-id', 'centralize', 'fest', 'group-id', 'cellar', 'escript', 'macports', 'myawesomeproject', 'otp', 'parse_transform', 'unindent', '←', '↑', '↓', '↖', '↘', '⇞', '⇟', '⇥', '⌃', '⌫', '⏎', '2-2', 'hyphens', 'index.html.erb', \"'query\", 'bette', 'col', 'ette', 'tin', '-dxdebug.remote_enable=1', '-dxdebug.remote_host=127.0.0.1', '-dxdebug.remote_mode=req', '-dxdebug.remote_port=9001', '256', 'php_installation_', 'known_hosts', 'two-way', 'constructions', 'quoting', 'advantages', 'end-to-end', 'relay', 'seamlessly', 'telemetry', 'seedlist', 'configuration.build', 'executed.if', 'package.run', 'project.by', 'run.run', 'streamselect', 'tabuse', 'coldfusion', 'create-nuxt-app', 'nuxt', 'nuxt.config.js', 'nuxt.js', 'slot', 'slots', 'typescript-tslint-plugin', 'vue.js-specific', 'ansi', 'largest', 'smallest', 'texts', '16x16', 'jvm.config', 'auto-switch', 'gemsets', 'ctrl+page', 'ctrl+shift+left', 'ctrl+shift+page', 'ctrl+shift+right', 'shift+page', 'junit-jupiter:5.4.2', 'new-test', 'emulation', 'ideavim', ':unit', 'shoulda', 'typedef', \"'com_installer_install_error\", ':_', 'docblocks', 'jhtml', 'jtext', 'jetty-distribution-9.2.7.v20150116', 'gitor', 'dissociate', 'u00e3', 'complemented', 'port=', 'encryption', 'flowing', 'hardcode', 'jetbrains-provided', 'p2p', 'fmt', 'multiplicity', 'dashes', 'dsm', 'maven-core', 'maven-project', 'shades', 'csso-cli', 'minifying', 'reconfigure', 'analogous', 'asc', 'desc', 'subqueries', 'bevel', 'cangrow', 'etched', 'gap', 'justification', 'lowered', 'sized', 'subproperties', 'subproperty', 'initfish', 'n1', 'tedious', 'install-plugin', 'list-plugins', \"'camelhumps\", \"'copied\", \"'lightest\", 'angle', \"element'\", 'escaping', 'interpolated', 'modedelete', 'modemove', 'placeholder', 'rearranges', '.ideavimrc', 'ideavimrc', 'vimrc', 'mp', 'datasource.txt', 'diagnostics', 'introspector.txt', 'model.xml', 'emphasis', 'predicate', 'string-length', 'test=', 'type-conversion', 'napoleon', 'bsp', 'mill', '1.18.0', 'php:7.0-cli', 'exampleresource', 'alt+equals', 'ctrl+alt+shift+', 'ctrl+shift+q', 'decompile', 'flatmap', 'for-comprehension', 'implicits', 'machine-learning', 'sam', 'stripmargin', 'unapply', 'withfilter', 'conf.rb', 'projectfiledir', 'unixseparators', 'eat', 'codeception.phar', 'codeception.yml', 'contracts', 'irb', 'deadlock', 'hang-problem', 'mail', 'scrambled', 'unscramble', 'unscrambler', '1.8.7', '2.2.0', 'docker-dir', 'simplejavawebapp', '.flowconfig', 'acceptance', 'challenging', 'gif', 'jpeg', 'svgz', 'soapaction', '.ddl', '.sql', 'arg1', 'arg2', 'check=', 'gnu', 'jnlp', 'preloader', 'helloworldjar', 'wordpress.zip', '19.6', 'myclass.php', 'item_name', 'sub-expressions', ':cast', ':nonnull', ':sum', 'feeds', 'foo.class', 'longest', 'obj1', 'en', 'project_base_dir', 'server-', 'micro', 'vcap', '.userlibraries', 'eclipse-compatible', 'non-module', 'doctest', '+build', '1.12', '1.16', 'cgo', 'proposal', 'syntaxes', 'neighbor', 'mxunit', 'a.m', 'anotherobjectreturned', 'auditing', 'class_name.ts', 'departmentinterface', 'departmentname', 'document.body.innerhtml', 'greeter', 'menunu', 'mynewalias', 'newmethod', 'reportingdepartment', 'returnsobj', 'this.height', 'this.width', '.aidl', 'aapt', 'aidl', 'androidmanifest.java', 'dexed', 'multi-dex', 'project.properties', 'r.java', 'october', 'codecept', 'compilestatic', 'gstring', '.hbm.xml', 'java.lang.integer', 'one-to-many', 'one-to-one', 'jms', 'sender', '-dsome_option=', 'deployment.xml', 'zend-framework-home', 'zendserver', 'zf', 'zpk', 'karma-coverage', 'file.txt', 'hello-helidon', 'concerns', 'pojos.clj', 'scripted', 'visualisation']\n"
     ]
    }
   ],
   "source": [
    "print(list(dictionary.values()))"
   ],
   "metadata": {
    "collapsed": false,
    "pycharm": {
     "name": "#%%\n"
    }
   }
  },
  {
   "cell_type": "code",
   "execution_count": 19,
   "outputs": [
    {
     "data": {
      "text/plain": "590"
     },
     "execution_count": 19,
     "metadata": {},
     "output_type": "execute_result"
    }
   ],
   "source": [
    "dictionary.token2id[\"templates\"]"
   ],
   "metadata": {
    "collapsed": false,
    "pycharm": {
     "name": "#%%\n"
    }
   }
  },
  {
   "cell_type": "code",
   "execution_count": 20,
   "outputs": [
    {
     "name": "stdout",
     "output_type": "stream",
     "text": [
      "Vectorizing first topic...\n",
      "[(0, 1), (1, 1), (2, 1), (3, 2), (4, 1), (5, 1), (6, 2), (7, 1), (8, 1), (9, 1), (10, 2), (11, 5), (12, 4), (13, 1), (14, 1), (15, 1), (16, 4), (17, 1), (18, 3), (19, 1), (20, 4), (21, 1), (22, 1), (23, 2), (24, 1), (25, 3), (26, 1), (27, 4), (28, 3), (29, 7), (30, 1), (31, 1), (32, 1), (33, 4), (34, 1), (35, 1), (36, 1), (37, 2), (38, 2), (39, 1), (40, 1), (41, 1), (42, 1), (43, 3), (44, 2), (45, 1), (46, 3), (47, 3), (48, 1), (49, 5), (50, 12), (51, 1), (52, 1), (53, 1), (54, 2), (55, 1), (56, 1), (57, 1), (58, 1), (59, 1), (60, 2), (61, 1), (62, 1), (63, 3), (64, 1), (65, 3), (66, 1), (67, 1), (68, 2), (69, 3), (70, 1), (71, 2), (72, 1), (73, 1), (74, 5), (75, 1), (76, 1), (77, 1), (78, 1), (79, 1), (80, 3), (81, 1), (82, 1), (83, 3), (84, 1), (85, 1), (86, 1), (87, 1), (88, 1), (89, 3), (90, 1)]\n"
     ]
    }
   ],
   "source": [
    "print(\"Vectorizing first topic...\")\n",
    "topic_vector = dictionary.doc2bow(corpus[0])\n",
    "print(topic_vector)"
   ],
   "metadata": {
    "collapsed": false,
    "pycharm": {
     "name": "#%%\n"
    }
   }
  },
  {
   "cell_type": "code",
   "execution_count": 21,
   "outputs": [
    {
     "data": {
      "text/plain": "91"
     },
     "execution_count": 21,
     "metadata": {},
     "output_type": "execute_result"
    }
   ],
   "source": [
    "len(topic_vector)"
   ],
   "metadata": {
    "collapsed": false,
    "pycharm": {
     "name": "#%%\n"
    }
   }
  },
  {
   "cell_type": "code",
   "execution_count": 22,
   "outputs": [
    {
     "name": "stdout",
     "output_type": "stream",
     "text": [
      "Vectorizing all documents...\n",
      "[(6, 1), (9, 1), (10, 1), (16, 5), (19, 1), (20, 1), (21, 2), (37, 6), (38, 6), (41, 1), (42, 1), (46, 1), (61, 1), (66, 1), (68, 3), (69, 1), (71, 3), (75, 2), (86, 4), (90, 1), (96, 2), (98, 2), (104, 1), (105, 1), (110, 2), (114, 6), (115, 1), (118, 1), (122, 1), (123, 2), (125, 1), (126, 1), (128, 1), (145, 1), (157, 1), (164, 5), (165, 3), (174, 1), (183, 1), (211, 1), (213, 1), (222, 1), (228, 1), (231, 1), (234, 1), (245, 1), (248, 1), (250, 1), (264, 1), (271, 1), (277, 1), (280, 1), (282, 1), (285, 2), (292, 4), (313, 4), (318, 5), (319, 1), (339, 1), (346, 1), (352, 1), (372, 1), (385, 1), (402, 1), (406, 1), (407, 1), (412, 1), (439, 1), (440, 1), (463, 1), (497, 2), (532, 1), (537, 1), (552, 1), (571, 6), (577, 1), (614, 1), (638, 2), (680, 6), (710, 2), (731, 3), (754, 1), (757, 1), (780, 1), (793, 3), (807, 15), (819, 1), (823, 2), (827, 1), (910, 2), (918, 1), (974, 1), (1048, 1), (1136, 3), (1162, 1), (1170, 1), (1227, 1), (1326, 1), (1334, 3), (1342, 1), (1350, 1), (1352, 3), (1355, 1), (1380, 1), (1385, 1), (1389, 1), (1406, 3), (1411, 1), (1412, 1), (1419, 4), (1422, 1), (1423, 2), (1425, 3), (1427, 4), (1434, 3), (1442, 1), (1448, 1), (1462, 2), (1474, 1), (1480, 1), (1489, 2), (1624, 2), (2587, 1), (2669, 1), (2726, 2), (2756, 1), (2842, 1), (3396, 1), (3397, 1), (3398, 1), (3399, 1), (3400, 2), (3401, 1)]\n"
     ]
    }
   ],
   "source": [
    "print(\"Vectorizing all documents...\")\n",
    "all_vectors = [dictionary.doc2bow(doc) for doc in corpus]\n",
    "print(all_vectors[100])"
   ],
   "metadata": {
    "collapsed": false,
    "pycharm": {
     "name": "#%%\n"
    }
   }
  },
  {
   "cell_type": "code",
   "execution_count": 23,
   "outputs": [
    {
     "name": "stdout",
     "output_type": "stream",
     "text": [
      "Training a tfidf model...\n",
      "[(0, 0.06050457104354933), (1, 0.01810542713870844), (2, 0.02479359344954859), (3, 0.1530410068160062), (4, 0.008959602689365112), (5, 0.0244063040084146), (6, 0.04496240655469093), (7, 0.06204726631288449), (8, 0.032801559631775466), (9, 0.012123168872696993), (10, 0.015908711261624922), (11, 0.31914088651065164), (12, 0.3381138783609199), (13, 0.03001540158397699), (14, 0.029218323276256092), (15, 0.013372113526992078), (16, 0.04398466454518185), (17, 0.02648731117134199), (18, 0.07746820543671562), (19, 0.008342860734924235), (20, 0.050463262163273764), (21, 0.012123168872696993), (22, 0.010301616604824506), (23, 0.04517835304423311), (24, 0.06382817730213033), (25, 0.07398914726312443), (26, 0.021258595381641314), (27, 0.05683055188141996), (28, 0.12660944208634253), (29, 0.30417341256024816), (30, 0.026873736929666273), (31, 0.019306321815836865), (32, 0.048817491996229215), (33, 0.08096507942240788), (34, 0.03742046298882835), (35, 0.030983199491104563), (36, 0.015051699071979003), (37, 0.005996293242295316), (38, 0.005996293242295316), (39, 0.011257604081308686), (40, 0.027520230226594188), (41, 0.005888808555793316), (42, 0.027032000405927018), (43, 0.07900886615665126), (44, 0.10979094693597388), (45, 0.046031333948430744), (46, 0.09261472476391892), (47, 0.05322969840685549), (48, 0.032039543727594134), (49, 0.1772268923461857), (50, 0.6698425334388414), (51, 0.06593454792880948), (52, 0.031324693902935255), (53, 0.006806093655113846), (54, 0.019222268774401856), (55, 0.031324693902935255), (56, 0.010301616604824506), (57, 0.009681903693320473), (58, 0.047812244937676565), (59, 0.02403157754536726), (60, 0.03577350167089644), (61, 0.015222436954295674), (62, 0.04935494020701174), (63, 0.09840467889532639), (64, 0.04054989571706396), (65, 0.0950297722330517), (66, 0.00840625213182033), (67, 0.0718361434843572), (68, 0.0042711560296973304), (69, 0.02372580271581215), (70, 0.023316727720708377), (71, 0.011828793447451589), (72, 0.045625922067347495), (73, 0.034344254901110635), (74, 0.09924801714482162), (75, 0.005086619408308157), (76, 0.032801559631775466), (77, 0.027772306839707626), (78, 0.054039300130657615), (79, 0.0718361434843572), (80, 0.061802781033430426), (81, 0.034344254901110635), (82, 0.018517411096366156), (83, 0.022779880008719843), (84, 0.0765205034080031), (85, 0.04162537431772654), (86, 0.0034652053393106536), (87, 0.0718361434843572), (88, 0.007043732889752124), (89, 0.024185480001555525), (90, 0.017672136866542076)]\n"
     ]
    }
   ],
   "source": [
    "print(\"Training a tfidf model...\")\n",
    "tfidf = gensim.models.TfidfModel(all_vectors)\n",
    "print(tfidf[dictionary.doc2bow(corpus[0])])"
   ],
   "metadata": {
    "collapsed": false,
    "pycharm": {
     "name": "#%%\n"
    }
   }
  },
  {
   "cell_type": "code",
   "execution_count": 179,
   "outputs": [
    {
     "name": "stdout",
     "output_type": "stream",
     "text": [
      "[(0, 0.06050457104354933), (1, 0.01810542713870844), (2, 0.02479359344954859), (3, 0.1530410068160062), (4, 0.008959602689365112), (5, 0.0244063040084146), (6, 0.04496240655469093), (7, 0.06204726631288449), (8, 0.032801559631775466), (9, 0.012123168872696993), (10, 0.015908711261624922), (11, 0.31914088651065164), (12, 0.3381138783609199), (13, 0.03001540158397699), (14, 0.029218323276256092), (15, 0.013372113526992078), (16, 0.04398466454518185), (17, 0.02648731117134199), (18, 0.07746820543671562), (19, 0.008342860734924235), (20, 0.050463262163273764), (21, 0.012123168872696993), (22, 0.010301616604824506), (23, 0.04517835304423311), (24, 0.06382817730213033), (25, 0.07398914726312443), (26, 0.021258595381641314), (27, 0.05683055188141996), (28, 0.12660944208634253), (29, 0.30417341256024816), (30, 0.026873736929666273), (31, 0.019306321815836865), (32, 0.048817491996229215), (33, 0.08096507942240788), (34, 0.03742046298882835), (35, 0.030983199491104563), (36, 0.015051699071979003), (37, 0.005996293242295316), (38, 0.005996293242295316), (39, 0.011257604081308686), (40, 0.027520230226594188), (41, 0.005888808555793316), (42, 0.027032000405927018), (43, 0.07900886615665126), (44, 0.10979094693597388), (45, 0.046031333948430744), (46, 0.09261472476391892), (47, 0.05322969840685549), (48, 0.032039543727594134), (49, 0.1772268923461857), (50, 0.6698425334388414), (51, 0.06593454792880948), (52, 0.031324693902935255), (53, 0.006806093655113846), (54, 0.019222268774401856), (55, 0.031324693902935255), (56, 0.010301616604824506), (57, 0.009681903693320473), (58, 0.047812244937676565), (59, 0.02403157754536726), (60, 0.03577350167089644), (61, 0.015222436954295674), (62, 0.04935494020701174), (63, 0.09840467889532639), (64, 0.04054989571706396), (65, 0.0950297722330517), (66, 0.00840625213182033), (67, 0.0718361434843572), (68, 0.0042711560296973304), (69, 0.02372580271581215), (70, 0.023316727720708377), (71, 0.011828793447451589), (72, 0.045625922067347495), (73, 0.034344254901110635), (74, 0.09924801714482162), (75, 0.005086619408308157), (76, 0.032801559631775466), (77, 0.027772306839707626), (78, 0.054039300130657615), (79, 0.0718361434843572), (80, 0.061802781033430426), (81, 0.034344254901110635), (82, 0.018517411096366156), (83, 0.022779880008719843), (84, 0.0765205034080031), (85, 0.04162537431772654), (86, 0.0034652053393106536), (87, 0.0718361434843572), (88, 0.007043732889752124), (89, 0.024185480001555525), (90, 0.017672136866542076)]\n"
     ]
    }
   ],
   "source": [
    "print(tfidf[all_vectors[0]])"
   ],
   "metadata": {
    "collapsed": false,
    "pycharm": {
     "name": "#%%\n"
    }
   }
  },
  {
   "cell_type": "code",
   "execution_count": 180,
   "outputs": [
    {
     "name": "stdout",
     "output_type": "stream",
     "text": [
      "[(49, 0.4855090983848341), (50, 0.7645910847304515), (86, 0.04746426170811422), (589, 0.2866189655345356), (590, 0.30867150984934366)]\n"
     ]
    }
   ],
   "source": [
    "print(tfidf[dictionary.doc2bow([\"notifications\", \"notification\", \"use\", \"templates\", \"template\"])])"
   ],
   "metadata": {
    "collapsed": false,
    "pycharm": {
     "name": "#%%\n"
    }
   }
  },
  {
   "cell_type": "code",
   "execution_count": 24,
   "outputs": [
    {
     "name": "stdout",
     "output_type": "stream",
     "text": [
      "Indexing corpus to query for similarities...\n",
      "Done!\n"
     ]
    }
   ],
   "source": [
    "print(\"Indexing corpus to query for similarities...\")\n",
    "index = gensim.similarities.SparseMatrixSimilarity(tfidf[all_vectors], num_features=8260)\n",
    "print(\"Done!\")"
   ],
   "metadata": {
    "collapsed": false,
    "pycharm": {
     "name": "#%%\n"
    }
   }
  },
  {
   "cell_type": "code",
   "execution_count": 31,
   "outputs": [],
   "source": [
    "index.save(\"search_index\")"
   ],
   "metadata": {
    "collapsed": false,
    "pycharm": {
     "name": "#%%\n"
    }
   }
  },
  {
   "cell_type": "code",
   "execution_count": 32,
   "outputs": [],
   "source": [
    "dictionary.save(\"dictionary\")"
   ],
   "metadata": {
    "collapsed": false,
    "pycharm": {
     "name": "#%%\n"
    }
   }
  },
  {
   "cell_type": "code",
   "execution_count": 33,
   "outputs": [],
   "source": [
    "tfidf.save(\"tfidf_model\")"
   ],
   "metadata": {
    "collapsed": false,
    "pycharm": {
     "name": "#%%\n"
    }
   }
  },
  {
   "cell_type": "code",
   "execution_count": 25,
   "outputs": [
    {
     "data": {
      "text/plain": "array([0.00630077, 0.02030275, 0.06744766, ..., 0.        , 0.02347272,\n       0.        ], dtype=float32)"
     },
     "execution_count": 25,
     "metadata": {},
     "output_type": "execute_result"
    }
   ],
   "source": [
    "index.get_similarities([(53, 0.9257537940397905), (93, 0.0574689153916501), (610, 0.3737341790425924)])"
   ],
   "metadata": {
    "collapsed": false,
    "pycharm": {
     "name": "#%%\n"
    }
   }
  },
  {
   "cell_type": "code",
   "execution_count": 141,
   "outputs": [
    {
     "name": "stdout",
     "output_type": "stream",
     "text": [
      "[0.9999998  0.02315965 0.02021527 ... 0.00256689 0.04310967 0.0106574 ]\n",
      "[0.02315965 1.0000001  0.03192431 ... 0.01448562 0.03575888 0.00886344]\n",
      "[0.02021527 0.03192431 1.0000001  ... 0.00673794 0.03400991 0.01814623]\n",
      "[0.00688108 0.01947045 0.01573328 ... 0.00643106 0.021749   0.00652231]\n",
      "[0.01806243 0.02106395 0.03997033 ... 0.01094799 0.06962353 0.25997052]\n",
      "[0.00756205 0.01673978 0.01195927 ... 0.06527294 0.02318989 0.02978935]\n",
      "[0.00806237 0.00625739 0.00977383 ... 0.00599451 0.01901149 0.05190586]\n",
      "[0.05029523 0.01823322 0.03929053 ... 0.01318169 0.04043622 0.01403719]\n",
      "[0.04091611 0.06722362 0.11966815 ... 0.02430454 0.09179126 0.02303174]\n",
      "[0.01656193 0.03070372 0.05244302 ... 0.00904177 0.05878167 0.00991412]\n",
      "[0.01803031 0.03748664 0.1229483  ... 0.01594286 0.03451211 0.01273602]\n",
      "[0.00612498 0.05193761 0.02339351 ... 0.00356543 0.03271933 0.00238512]\n",
      "[0.00806213 0.02282242 0.02527922 ... 0.00945038 0.0897693  0.01379609]\n",
      "[0.01501612 0.02275975 0.03519892 ... 0.02967957 0.04357442 0.00735414]\n",
      "[0.01422042 0.03331678 0.06584012 ... 0.02395369 0.31760156 0.01193637]\n",
      "[0.00545162 0.00620203 0.0152983  ... 0.01993131 0.03104919 0.02172315]\n",
      "[0.01022473 0.02358306 0.03216932 ... 0.00310018 0.06140595 0.01218428]\n",
      "[0.0091866  0.0329027  0.03477901 ... 0.01312356 0.05348647 0.08047379]\n",
      "[0.0032926  0.00812878 0.01566899 ... 0.00051336 0.00433698 0.02367609]\n",
      "[0.16460092 0.00725782 0.10172477 ... 0.00358287 0.00965475 0.0003042 ]\n",
      "[0.00805658 0.01070101 0.01123961 ... 0.09627193 0.04050929 0.05791817]\n",
      "[0.0336745  0.044445   0.07558078 ... 0.02554681 0.05170215 0.00754571]\n",
      "[0.00224115 0.02098974 0.0218411  ... 0.00527382 0.01359164 0.00595623]\n",
      "[0.0045067  0.00535131 0.00963535 ... 0.00951064 0.03121457 0.00525303]\n",
      "[0.02698808 0.08139899 0.08060097 ... 0.04092939 0.07016531 0.02450968]\n",
      "[0.01056319 0.01592106 0.04192523 ... 0.07096539 0.01819251 0.00689181]\n",
      "[0.03512629 0.03188595 0.0539013  ... 0.02303706 0.11979303 0.10792241]\n",
      "[0.00094554 0.01258554 0.00369378 ... 0.0015053  0.01134752 0.00381247]\n",
      "[0.00619553 0.0060294  0.01679752 ... 0.0004176  0.0233684  0.00254759]\n",
      "[0.00595259 0.0539288  0.01286518 ... 0.01010935 0.01284877 0.00210737]\n",
      "[0.01596727 0.0493052  0.02320394 ... 0.00530029 0.02154995 0.01065666]\n",
      "[0.00615053 0.00732378 0.02038728 ... 0.07157905 0.01517018 0.4976778 ]\n",
      "[0.00507013 0.00619553 0.01151887 ... 0.00561055 0.01610367 0.13225628]\n",
      "[0.00270263 0.00299734 0.01161533 ... 0.01753276 0.16965418 0.00325615]\n",
      "[0.00724515 0.00438499 0.1348784  ... 0.01221424 0.04528592 0.00119738]\n",
      "[0.02026911 0.0225126  0.04898429 ... 0.01983021 0.12369713 0.05175538]\n",
      "[0.004616   0.02406773 0.01612416 ... 0.01133889 0.03591037 0.01220441]\n",
      "[0.00351774 0.00766086 0.01150775 ... 0.01610289 0.01787443 0.0075237 ]\n",
      "[0.0212811  0.01986696 0.02182683 ... 0.00731533 0.02184188 0.01239896]\n",
      "[0.01078489 0.0457758  0.02104129 ... 0.05011564 0.02260311 0.01066653]\n",
      "[0.0278695  0.06551445 0.1532901  ... 0.02597975 0.06957976 0.01777006]\n",
      "[0.00420251 0.00903199 0.01367446 ... 0.00423493 0.01429842 0.00953407]\n",
      "[0.00761033 0.02572843 0.02444991 ... 0.00761351 0.0190523  0.00407154]\n",
      "[0.01740716 0.06733661 0.09731652 ... 0.02302004 0.05701241 0.01944383]\n",
      "[0.01092105 0.03914147 0.0218069  ... 0.01129    0.26870576 0.00690126]\n",
      "[0.01729468 0.01707295 0.0380432  ... 0.01792832 0.03191737 0.0267257 ]\n",
      "[0.00295723 0.02170615 0.0203115  ... 0.11379792 0.4004551  0.00452734]\n",
      "[0.00321049 0.01335363 0.01641724 ... 0.00060864 0.01242421 0.00474594]\n",
      "[0.02287176 0.04172812 0.05329584 ... 0.03727663 0.0668257  0.04133121]\n",
      "[0.00820389 0.00879418 0.01562001 ... 0.0052906  0.03133426 0.01270507]\n",
      "[0.00399445 0.0100152  0.05303704 ... 0.0088336  0.00560647 0.00102019]\n",
      "[0.00514485 0.00745533 0.03489855 ... 0.00477126 0.23658723 0.01374696]\n",
      "[0.00809414 0.02444908 0.03897045 ... 0.00684275 0.01854065 0.00978203]\n",
      "[0.00061093 0.00560396 0.00635181 ... 0.0048854  0.00702765 0.00484728]\n",
      "[0.03323629 0.05436938 0.14774065 ... 0.01973707 0.07008776 0.01458657]\n",
      "[0.00310879 0.02514673 0.05737318 ... 0.0343473  0.15043293 0.00328092]\n",
      "[0.00993331 0.03015793 0.01451137 ... 0.00466166 0.02370113 0.01011419]\n",
      "[0.00754101 0.05037175 0.02356348 ... 0.01801121 0.05308992 0.00421331]\n",
      "[0.00705947 0.02040519 0.00667411 ... 0.00017405 0.01149163 0.00334851]\n",
      "[0.00382987 0.02870318 0.29245016 ... 0.00771014 0.0227973  0.00481988]\n",
      "[0.01401532 0.0254383  0.05008493 ... 0.02291615 0.02043229 0.00859137]\n",
      "[0.00365189 0.00925698 0.2495289  ... 0.00662865 0.01560392 0.0130616 ]\n",
      "[0.0097303  0.01680144 0.02179453 ... 0.00402744 0.02021356 0.00670618]\n",
      "[0.00995478 0.02037259 0.02242777 ... 0.00796235 0.03151148 0.01163082]\n",
      "[0.0237639  0.00582207 0.0155273  ... 0.00186315 0.10204    0.00019644]\n",
      "[0.00259537 0.02091494 0.03764299 ... 0.01065908 0.0229976  0.01167294]\n",
      "[0.01008146 0.027269   0.06189567 ... 0.01328179 0.02449153 0.02338876]\n",
      "[0.00918787 0.0094782  0.01504617 ... 0.00754384 0.02661378 0.00271988]\n",
      "[0.00903478 0.00920226 0.03789548 ... 0.06826454 0.05493617 0.14463326]\n",
      "[0.00252982 0.01014432 0.02245516 ... 0.0041085  0.021094   0.01082452]\n",
      "[0.01507397 0.00586325 0.01813141 ... 0.00485119 0.07145827 0.00595385]\n",
      "[0.02481156 0.02697206 0.05340555 ... 0.02215288 0.08467927 0.00690617]\n",
      "[0.0421352  0.02366753 0.02556044 ... 0.01473828 0.06107513 0.01370501]\n",
      "[0.01124868 0.02997024 0.04030494 ... 0.01369107 0.04340386 0.00889769]\n",
      "[0.00253029 0.01954155 0.01403797 ... 0.01768275 0.06048609 0.00556667]\n",
      "[0.00795616 0.0543832  0.01848283 ... 0.00604053 0.0210545  0.0058546 ]\n",
      "[0.00189491 0.02620077 0.04521757 ... 0.01079866 0.01273606 0.00620368]\n",
      "[0.00608777 0.01213577 0.01896115 ... 0.00807979 0.01282762 0.00187277]\n",
      "[0.01752219 0.03693797 0.05170838 ... 0.00588513 0.03012189 0.01405253]\n",
      "[0.01957715 0.01478696 0.02142028 ... 0.012159   0.02066371 0.00681404]\n",
      "[0.02415289 0.04584851 0.02013647 ... 0.01452895 0.03578741 0.01766381]\n",
      "[0.0001195  0.00420659 0.00347903 ... 0.06110475 0.07557493 0.        ]\n",
      "[0.0130235  0.01519467 0.06704086 ... 0.00427657 0.0099821  0.00335623]\n",
      "[0.01455548 0.00394775 0.01697576 ... 0.00255976 0.0718305  0.0031077 ]\n",
      "[0.05512896 0.10345507 0.04014771 ... 0.01718594 0.0657294  0.00856218]\n",
      "[0.01636136 0.05162162 0.04282448 ... 0.02383549 0.05999702 0.04978009]\n",
      "[0.00816177 0.07743996 0.01549555 ... 0.01040599 0.01370469 0.00704837]\n",
      "[0.01327554 0.05071082 0.06162515 ... 0.01530544 0.04343148 0.02481597]\n",
      "[0.00689411 0.01134432 0.01420415 ... 0.01826517 0.03912883 0.00535857]\n",
      "[0.01890399 0.01900711 0.04492224 ... 0.02740525 0.09377831 0.07349534]\n",
      "[0.00207713 0.00453793 0.00379396 ... 0.00171894 0.0088959  0.00409779]\n",
      "[0.00661368 0.00249897 0.02110773 ... 0.00964104 0.03625708 0.03628243]\n",
      "[7.0337934e-05 2.9290119e-02 2.5070170e-02 ... 1.1144059e-03 2.7039656e-03\n",
      " 4.7662901e-03]\n",
      "[0.00450362 0.03834451 0.02013012 ... 0.01167884 0.2725299  0.00620553]\n",
      "[0.00996585 0.01486301 0.03852263 ... 0.00774253 0.02694798 0.00249776]\n",
      "[0.00440202 0.01260266 0.0254522  ... 0.00109533 0.02054984 0.00720825]\n",
      "[0.01981987 0.02450154 0.03020054 ... 0.01258666 0.03472391 0.00693614]\n",
      "[0.0163723  0.01190845 0.02289262 ... 0.04557361 0.02127252 0.15739112]\n",
      "[0.01294496 0.03413599 0.02769763 ... 0.00714595 0.02311038 0.00770955]\n",
      "[0.00883344 0.01110296 0.01553342 ... 0.04117141 0.03611816 0.02456808]\n",
      "[0.01287253 0.04504498 0.09077872 ... 0.02320427 0.04028837 0.00248049]\n",
      "[0.00827518 0.02256293 0.03306325 ... 0.01147737 0.0409851  0.08193424]\n",
      "[0.00775309 0.03399258 0.04197762 ... 0.01781574 0.0284849  0.00698883]\n",
      "[0.00987943 0.00920589 0.00981322 ... 0.8758013  0.2688232  0.00090511]\n",
      "[0.01815627 0.03508827 0.03840194 ... 0.04409695 0.04844506 0.01570108]\n",
      "[0.03269859 0.05648494 0.08240007 ... 0.02073747 0.08180185 0.03357263]\n",
      "[0.00830056 0.00941757 0.01422432 ... 0.00435788 0.05535879 0.00838735]\n",
      "[0.00189155 0.01591818 0.0098146  ... 0.00159056 0.09510683 0.00276699]\n",
      "[0.00109827 0.0114757  0.01874645 ... 0.01237335 0.0117827  0.00128571]\n",
      "[0.0027105  0.00495296 0.00698024 ... 0.0002572  0.00335852 0.0200001 ]\n",
      "[0.00298174 0.01961004 0.03678874 ... 0.0051153  0.02182985 0.00587223]\n",
      "[0.00643669 0.02994885 0.04523576 ... 0.00540425 0.02499291 0.00824362]\n",
      "[0.00322918 0.00590076 0.0219036  ... 0.00030642 0.0040012  0.02382731]\n",
      "[0.01041607 0.0291742  0.02915422 ... 0.00555698 0.070166   0.03824194]\n",
      "[0.00395978 0.00258296 0.0116898  ... 0.02297737 0.010121   0.00091615]\n",
      "[0.00316471 0.01320108 0.01877273 ... 0.00664065 0.01127892 0.01140596]\n",
      "[0.0311977  0.07505436 0.05866981 ... 0.0252667  0.08796497 0.03380513]\n",
      "[0.00369269 0.00206766 0.00613265 ... 0.00709904 0.00431611 0.00857807]\n",
      "[0.0225001  0.07111227 0.01134721 ... 0.08477222 0.03123932 0.0164622 ]\n",
      "[0.00572902 0.04127659 0.09570013 ... 0.01116797 0.02198811 0.01463588]\n",
      "[0.00067921 0.01503886 0.02551452 ... 0.00403193 0.01901096 0.0070278 ]\n",
      "[0.00631315 0.0328611  0.03897059 ... 0.03739509 0.02456464 0.03890854]\n",
      "[0.04002766 0.05966964 0.03399022 ... 0.00448707 0.02407852 0.03291914]\n",
      "[0.00721242 0.05272715 0.2663166  ... 0.01399164 0.05776428 0.0128961 ]\n",
      "[0.04387393 0.07794557 0.05035251 ... 0.00944625 0.10245087 0.01803325]\n",
      "[0.02822744 0.05989588 0.15087718 ... 0.01060382 0.09032673 0.02783443]\n",
      "[0.00352151 0.00971086 0.01648969 ... 0.01137635 0.01190702 0.00368906]\n",
      "[0.02068583 0.04591386 0.03050166 ... 0.0201623  0.0278179  0.08192898]\n",
      "[0.01797812 0.06780362 0.14811629 ... 0.01479075 0.05779402 0.01719606]\n",
      "[0.02187692 0.00489425 0.03569353 ... 0.02528807 0.07664317 0.23916075]\n",
      "[0.00462089 0.02158059 0.01656858 ... 0.00460444 0.01497493 0.00998684]\n",
      "[0.01369776 0.03026948 0.02522981 ... 0.01783694 0.02538793 0.04655816]\n",
      "[0.01459832 0.00435499 0.01700385 ... 0.00679999 0.02519083 0.00750178]\n",
      "[0.0125337  0.01685674 0.05532722 ... 0.01256106 0.05573836 0.0181137 ]\n",
      "[0.02004588 0.03433648 0.03191044 ... 0.01251204 0.08264931 0.01123435]\n",
      "[0.00604677 0.02486963 0.04120589 ... 0.01013822 0.01785907 0.01215947]\n",
      "[0.00330826 0.01778667 0.01803057 ... 0.00861504 0.14212477 0.00756717]\n",
      "[0.01143185 0.06407841 0.05342241 ... 0.00737227 0.01129777 0.0017541 ]\n",
      "[0.00486233 0.02110942 0.01780191 ... 0.01418285 0.01960269 0.00569912]\n",
      "[0.04594641 0.00645534 0.03364025 ... 0.13111141 0.2316679  0.09493128]\n",
      "[0.05376036 0.05153214 0.04873058 ... 0.02140995 0.08060654 0.00711388]\n",
      "[0.00375747 0.01692539 0.00979555 ... 0.0094614  0.0075438  0.00899501]\n",
      "[0.00535687 0.01650362 0.03597097 ... 0.00360013 0.02063082 0.00439665]\n",
      "[0.00772566 0.0076519  0.01599655 ... 0.01711976 0.02784423 0.01043102]\n",
      "[0.01793045 0.05722968 0.11793913 ... 0.00863614 0.05677034 0.01343226]\n",
      "[0.00539592 0.00589114 0.00738231 ... 0.00603997 0.03537766 0.00029443]\n",
      "[0.00665701 0.02293267 0.04462843 ... 0.00983518 0.04643445 0.00411214]\n",
      "[0.01024762 0.02068871 0.02666052 ... 0.01157863 0.04482412 0.00770844]\n",
      "[0.00536637 0.01304984 0.01211128 ... 0.04391787 0.04659595 0.00134309]\n",
      "[0.02285866 0.03791491 0.04324681 ... 0.06489983 0.05045735 0.00508606]\n",
      "[0.00166332 0.03787838 0.00674262 ... 0.00692135 0.06001905 0.01782084]\n",
      "[0.01497094 0.01404025 0.03767132 ... 0.00668868 0.03865197 0.01099706]\n",
      "[0.00786854 0.00824189 0.01260402 ... 0.09094486 0.05041256 0.09756579]\n",
      "[0.0049122  0.00970766 0.0199456  ... 0.00954124 0.02693512 0.02089556]\n",
      "[0.03307702 0.03292122 0.0573744  ... 0.01006409 0.02804877 0.00971046]\n",
      "[0.00563922 0.0270274  0.0254318  ... 0.00574781 0.22237004 0.00368706]\n",
      "[0.         0.00853259 0.23814176 ... 0.         0.01998032 0.        ]\n",
      "[0.02653638 0.05896157 0.01524296 ... 0.05695789 0.03359289 0.01714413]\n",
      "[0.00617923 0.02316075 0.11779565 ... 0.01079612 0.01704942 0.01286723]\n",
      "[0.01819284 0.02418401 0.02069298 ... 0.00451372 0.05538281 0.00220413]\n",
      "[0.00904557 0.01658907 0.03730589 ... 0.0044941  0.0301847  0.0071731 ]\n",
      "[0.01709889 0.01179144 0.00592625 ... 0.3377581  0.27963114 0.00123659]\n",
      "[0.00913606 0.01847314 0.0478145  ... 0.00890435 0.00621904 0.00317977]\n",
      "[0.01739878 0.02493156 0.02915286 ... 0.0146165  0.0251533  0.00739074]\n",
      "[0.02184748 0.03631636 0.04325388 ... 0.06064574 0.05320892 0.00621853]\n",
      "[0.0188235  0.02665765 0.0567645  ... 0.01514282 0.01739767 0.00738586]\n",
      "[0.00910138 0.00434039 0.01825346 ... 0.00390943 0.02409124 0.        ]\n",
      "[0.01438258 0.03130128 0.07140828 ... 0.02996252 0.06704419 0.00356353]\n",
      "[0.0316144  0.02163617 0.3402953  ... 0.00695846 0.04904652 0.00378442]\n",
      "[0.00923596 0.03279381 0.03430012 ... 0.01004223 0.0145848  0.00189409]\n",
      "[0.02707841 0.02171696 0.0248163  ... 0.06689963 0.30605847 0.00774697]\n",
      "[0.02309872 0.02221522 0.02634514 ... 0.00352341 0.05279143 0.0003369 ]\n",
      "[0.00843285 0.01724274 0.03754076 ... 0.01479237 0.01354748 0.02117674]\n",
      "[0.00160631 0.01175787 0.0251484  ... 0.00881136 0.01472409 0.00125775]\n",
      "[0.00283376 0.00483205 0.00955927 ... 0.00634037 0.02952677 0.015048  ]\n",
      "[0.01023346 0.01394097 0.01699181 ... 0.06005804 0.03597078 0.11974041]\n",
      "[0.0231383  0.03387234 0.03417553 ... 0.07299153 0.0484979  0.00623033]\n",
      "[0.00327741 0.01765204 0.11328332 ... 0.00391494 0.02097015 0.00180573]\n",
      "[0.00979512 0.03464816 0.02367986 ... 0.01540256 0.0254734  0.00349385]\n",
      "[0.00352481 0.00290844 0.01792719 ... 0.00950538 0.0592338  0.00819592]\n",
      "[0.01835229 0.03639165 0.09369167 ... 0.02158659 0.02292066 0.0212916 ]\n",
      "[0.03286501 0.01431145 0.03994295 ... 0.00921547 0.02352122 0.01309108]\n",
      "[0.0098445  0.02333453 0.02513496 ... 0.00971622 0.02132834 0.06556322]\n",
      "[0.00564032 0.00697752 0.01120646 ... 0.02002711 0.0143647  0.01944179]\n",
      "[0.01940325 0.03104013 0.06197613 ... 0.02748575 0.04530217 0.00290166]\n",
      "[0.01406688 0.12609003 0.02182174 ... 0.00835693 0.05565845 0.009284  ]\n",
      "[0.01009667 0.00605461 0.02039801 ... 0.00733809 0.0166473  0.00238243]\n",
      "[0.00441155 0.01404719 0.00882973 ... 0.01189273 0.01121685 0.07302625]\n",
      "[0.00537646 0.02630454 0.01455022 ... 0.01775178 0.01197814 0.0298412 ]\n",
      "[0.00886666 0.01002264 0.03895423 ... 0.0557894  0.09331065 0.00726694]\n",
      "[0.01086849 0.01054353 0.01386204 ... 0.05713504 0.01418965 0.01670755]\n",
      "[0.00161205 0.0119006  0.00940664 ... 0.0067867  0.0056085  0.00081139]\n",
      "[0.01929834 0.02119552 0.02318859 ... 0.00608074 0.01961849 0.00929348]\n",
      "[0.00932452 0.03471189 0.01969085 ... 0.01009099 0.03522012 0.00622749]\n",
      "[0.01647364 0.07607248 0.07327144 ... 0.01810857 0.05404834 0.02668082]\n",
      "[0.01102401 0.06563749 0.02437593 ... 0.00577814 0.01527159 0.00373098]\n",
      "[0.00722743 0.05536565 0.0289995  ... 0.00840423 0.02429241 0.03282332]\n",
      "[0.01174321 0.02173092 0.03449154 ... 0.0130437  0.02433742 0.00893011]\n",
      "[0.02257677 0.00687598 0.02184069 ... 0.02937889 0.05904553 0.12149911]\n",
      "[0.01194592 0.02061936 0.01912512 ... 0.00410162 0.03233108 0.03803323]\n",
      "[0.0061021  0.01851514 0.11771463 ... 0.01450691 0.03941108 0.01143857]\n",
      "[0.01222687 0.03292881 0.02563998 ... 0.01254042 0.01635195 0.00764019]\n",
      "[0.01094889 0.01655859 0.02753141 ... 0.0223581  0.04183179 0.00651245]\n",
      "[0.02192657 0.00580749 0.02581014 ... 0.02354645 0.06746339 0.23525581]\n",
      "[0.03173687 0.05334707 0.04200304 ... 0.0165895  0.05499388 0.00957155]\n",
      "[0.0075193  0.01170584 0.01481736 ... 0.03401369 0.2039516  0.01739903]\n",
      "[0.01043197 0.02065481 0.01851025 ... 0.01025782 0.02171886 0.00566495]\n",
      "[0.01243856 0.01493696 0.09647767 ... 0.0088085  0.03669121 0.00064568]\n",
      "[0.00071671 0.00342555 0.00908868 ... 0.0004301  0.02093928 0.        ]\n",
      "[0.03733006 0.06079302 0.14298743 ... 0.03460668 0.09504697 0.01779055]\n",
      "[0.02513152 0.01865875 0.02061193 ... 0.08440983 0.2891164  0.00208916]\n",
      "[0.0193154  0.04991636 0.02417637 ... 0.04086317 0.02521016 0.01614484]\n",
      "[0.00119434 0.0021606  0.02004629 ... 0.01001892 0.0084857  0.00354756]\n",
      "[0.02023108 0.01089266 0.03013878 ... 0.19967562 0.48342615 0.00236294]\n",
      "[0.00366222 0.01205412 0.01216844 ... 0.00566361 0.01354065 0.00106068]\n",
      "[0.00326271 0.02251424 0.0415231  ... 0.00787203 0.17494519 0.00618867]\n",
      "[0.00204245 0.0121072  0.07619719 ... 0.01026125 0.01466599 0.00180165]\n",
      "[0.01137945 0.01104402 0.01400913 ... 0.05802488 0.01508113 0.01777193]\n",
      "[0.02302272 0.04470062 0.06697306 ... 0.01784237 0.07600644 0.06453358]\n",
      "[0.04073658 0.06678793 0.11759701 ... 0.03808371 0.0944591  0.02249965]\n",
      "[0.0036272  0.01175703 0.08702086 ... 0.00264186 0.00688162 0.00523118]\n",
      "[0.01577329 0.02555631 0.0305106  ... 0.01913882 0.02623651 0.00611666]\n",
      "[0.01909965 0.04418457 0.04322826 ... 0.12017246 0.03201611 0.00726855]\n",
      "[0.00567223 0.03192775 0.00867173 ... 0.00355727 0.00689873 0.00155544]\n",
      "[0.01248053 0.01227489 0.09683137 ... 0.03716479 0.04343506 0.00866857]\n",
      "[0.01474771 0.02384354 0.0537977  ... 0.00879097 0.02706782 0.00714716]\n",
      "[0.00509435 0.00848895 0.01293365 ... 0.01340994 0.0159759  0.01937234]\n",
      "[0.00703292 0.00095081 0.01798685 ... 0.00533625 0.02661755 0.00087052]\n",
      "[0.00201257 0.00720251 0.01302455 ... 0.00333106 0.02887415 0.00715026]\n",
      "[0.00989249 0.03686528 0.39496955 ... 0.00820035 0.02549099 0.01165253]\n",
      "[0.00611142 0.01351827 0.0106895  ... 0.02420239 0.02313491 0.02542248]\n",
      "[0.03603905 0.05925799 0.1544896  ... 0.02223259 0.07592531 0.01796025]\n",
      "[0.00211675 0.0115849  0.04506952 ... 0.01654082 0.12309232 0.10829157]\n",
      "[0.00598098 0.00418014 0.00881133 ... 0.03978041 0.01241581 0.00856922]\n",
      "[0.00549501 0.00541268 0.00790081 ... 0.00498405 0.03300491 0.00929513]\n",
      "[0.02147837 0.02751937 0.02528703 ... 0.01943078 0.03932732 0.00514284]\n",
      "[0.00114297 0.01372248 0.00691145 ... 0.00260587 0.00308296 0.00169426]\n",
      "[0.00531984 0.01384782 0.01351192 ... 0.00234936 0.00955705 0.00134088]\n",
      "[0.00452256 0.01709629 0.02089081 ... 0.00312974 0.00639533 0.00355076]\n",
      "[0.01742866 0.06915063 0.10199409 ... 0.02532773 0.06329902 0.01660204]\n",
      "[0.0350807  0.03123935 0.0217397  ... 0.00928869 0.06848076 0.01646699]\n",
      "[0.05085767 0.0578718  0.04229194 ... 0.01033063 0.12828715 0.02542207]\n",
      "[0.01918466 0.02466895 0.03694773 ... 0.009097   0.07112572 0.00640357]\n",
      "[0.0097302  0.00974273 0.01661947 ... 0.0038407  0.02613647 0.01278981]\n",
      "[0.01489073 0.0037186  0.01127984 ... 0.00424541 0.08130058 0.01001185]\n",
      "[0.00290181 0.0213576  0.32576653 ... 0.00723778 0.01757267 0.00754282]\n",
      "[0.00362896 0.0048699  0.01538207 ... 0.00457248 0.02383176 0.00968097]\n",
      "[0.00712838 0.04234976 0.04303727 ... 0.0072604  0.01690586 0.00466487]\n",
      "[0.0061598  0.02896245 0.24670373 ... 0.00940891 0.06494824 0.01011813]\n",
      "[0.00333357 0.01824819 0.00892634 ... 0.00393976 0.0075324  0.00575828]\n",
      "[0.01187239 0.02703666 0.02847283 ... 0.0079819  0.03176166 0.00413606]\n",
      "[0.00035906 0.00157607 0.00510399 ... 0.00850967 0.02868699 0.0063916 ]\n",
      "[0.00673639 0.03856051 0.24709392 ... 0.00559268 0.02522249 0.01296257]\n",
      "[0.00925561 0.01031231 0.00850698 ... 0.00841728 0.0241319  0.01059957]\n",
      "[0.0127262  0.03252542 0.04530067 ... 0.01831721 0.09369946 0.01365104]\n",
      "[0.00775349 0.04390397 0.06092542 ... 0.00989796 0.04024072 0.02409195]\n",
      "[0.02911301 0.05883481 0.06858042 ... 0.03281038 0.0661004  0.05057368]\n",
      "[0.00826297 0.00612633 0.01059639 ... 0.05242003 0.334045   0.0004081 ]\n",
      "[0.00247234 0.00104542 0.00529821 ... 0.00143454 0.05293246 0.0003572 ]\n",
      "[0.0039106  0.02601033 0.01442991 ... 0.01023145 0.18796323 0.00481146]\n",
      "[0.00185738 0.0023777  0.00630038 ... 0.00621005 0.00955017 0.01761734]\n",
      "[0.01021602 0.02304875 0.01363854 ... 0.01910222 0.02071413 0.01196085]\n",
      "[0.00642234 0.00606194 0.01247162 ... 0.01520077 0.03142648 0.00651382]\n",
      "[0.01604865 0.02470731 0.01114848 ... 0.00547585 0.04767882 0.00354404]\n",
      "[0.00487161 0.00574063 0.0135441  ... 0.00794603 0.04676551 0.01995027]\n",
      "[0.00845486 0.01016023 0.00512679 ... 0.00537688 0.02615834 0.00489486]\n",
      "[0.01317133 0.02095945 0.02193742 ... 0.00998315 0.04197549 0.12182265]\n",
      "[0.00729967 0.03270486 0.07850568 ... 0.01294342 0.13772665 0.00647182]\n",
      "[0.01149458 0.00497532 0.01251623 ... 0.00881884 0.02039128 0.00695007]\n",
      "[0.00700931 0.02573698 0.05727672 ... 0.01767445 0.02026331 0.0157057 ]\n",
      "[0.00910851 0.02720186 0.05218876 ... 0.02424823 0.0256355  0.04967536]\n",
      "[0.00490203 0.01683355 0.0210495  ... 0.04193318 0.17101647 0.00134427]\n",
      "[0.00261138 0.00882492 0.02057329 ... 0.00866674 0.01638102 0.02151451]\n",
      "[0.00563958 0.01887254 0.08024012 ... 0.00761402 0.0130566  0.00778911]\n",
      "[0.01578206 0.01599218 0.01878201 ... 0.00990882 0.29063725 0.00621566]\n",
      "[0.         0.         0.         ... 0.         0.00278339 0.        ]\n",
      "[0.02580235 0.10379468 0.01742793 ... 0.00564221 0.02955982 0.00710506]\n",
      "[0.03820946 0.06621069 0.11641181 ... 0.0362009  0.09423133 0.02159115]\n",
      "[0.00420945 0.01687697 0.01457599 ... 0.0336352  0.01038349 0.00620317]\n",
      "[0.01803122 0.01363653 0.02391237 ... 0.00546432 0.03118733 0.00621   ]\n",
      "[9.2863869e-05 7.0000784e-03 1.3309357e-02 ... 1.4712979e-03 4.9847160e-03\n",
      " 6.2927091e-03]\n",
      "[0.04231613 0.07058153 0.13782287 ... 0.03272903 0.09318671 0.01756192]\n",
      "[0.01301431 0.00922541 0.02524067 ... 0.02088544 0.13399291 0.0425389 ]\n",
      "[0.01074531 0.02743601 0.05909768 ... 0.04335009 0.05270657 0.00508891]\n",
      "[0.00038396 0.01320127 0.01855366 ... 0.00056502 0.00461085 0.00067043]\n",
      "[0.00303362 0.02839642 0.0211526  ... 0.01068809 0.01824112 0.00710503]\n",
      "[0.00857441 0.02489147 0.04296761 ... 0.00762084 0.02642446 0.00522255]\n",
      "[0.00207667 0.02855071 0.03437242 ... 0.01113726 0.02432417 0.00204332]\n",
      "[0.01001569 0.01570841 0.02951668 ... 0.00584347 0.01074563 0.00130068]\n",
      "[0.00733019 0.00978739 0.01114939 ... 0.00656505 0.0231739  0.01945004]\n",
      "[0.01022053 0.02695803 0.02067219 ... 0.06270653 0.5002102  0.00751043]\n",
      "[0.01370346 0.0121997  0.03600069 ... 0.0130856  0.02497007 0.04560913]\n",
      "[0.01062951 0.01928561 0.04025619 ... 0.01398545 0.04848786 0.0381974 ]\n",
      "[0.0074195  0.02078602 0.06554372 ... 0.01690078 0.04699054 0.02743138]\n",
      "[0.0107298  0.0313245  0.39982012 ... 0.00678109 0.06489657 0.00286553]\n",
      "[0.00839217 0.00283    0.01656702 ... 0.00123784 0.02961555 0.00522484]\n",
      "[0.0056425  0.01077653 0.01897507 ... 0.01026333 0.02085266 0.01306498]\n",
      "[0.0006854  0.00435838 0.02206643 ... 0.03269708 0.01379105 0.02412394]\n",
      "[0.01894297 0.06757098 0.10336526 ... 0.01593011 0.06748007 0.0140858 ]\n",
      "[0.0250903  0.04336948 0.05306219 ... 0.01300814 0.33742306 0.01925425]\n",
      "[0.00723067 0.02956339 0.05321799 ... 0.01273045 0.21210751 0.00502315]\n",
      "[0.02007234 0.04236569 0.09607232 ... 0.01359933 0.047619   0.02328924]\n",
      "[0.01101995 0.02704531 0.1908267  ... 0.00708384 0.01702415 0.00956919]\n",
      "[0.00490615 0.0417717  0.02192933 ... 0.01272268 0.29688838 0.00676017]\n",
      "[0.01484121 0.03758951 0.05265378 ... 0.00708729 0.02467945 0.01059855]\n",
      "[0.00972115 0.02687802 0.03397115 ... 0.00756318 0.02721478 0.00709612]\n",
      "[0.00921643 0.02383487 0.0329223  ... 0.0106229  0.04032963 0.01189391]\n",
      "[0.01427658 0.03328335 0.1971385  ... 0.01078134 0.02455171 0.00743976]\n",
      "[0.01668978 0.03857163 0.03330296 ... 0.00910457 0.07234196 0.02009943]\n",
      "[0.00678176 0.02625305 0.04170667 ... 0.00332501 0.03122523 0.01590904]\n",
      "[0.03269516 0.00958815 0.01989542 ... 0.01768457 0.03872042 0.00401882]\n",
      "[0.00296749 0.07702716 0.00773595 ... 0.00926641 0.06092237 0.01035165]\n",
      "[0.00082779 0.0153526  0.01640846 ... 0.0286572  0.00772527 0.00569948]\n",
      "[0.00146357 0.00128504 0.00465682 ... 0.000977   0.00633026 0.00347286]\n",
      "[0.01838866 0.08283719 0.10126559 ... 0.02417763 0.06003347 0.01742629]\n",
      "[0.0040544  0.023517   0.06308594 ... 0.00404584 0.01411776 0.00379329]\n",
      "[0.00446606 0.00098096 0.00603143 ... 0.00034337 0.02097434 0.00047549]\n",
      "[0.0015418  0.01072924 0.05323055 ... 0.0032097  0.05443754 0.06199502]\n",
      "[0.0165295  0.02181167 0.05008843 ... 0.01503487 0.01078572 0.00632817]\n",
      "[0.02744307 0.03303691 0.04420924 ... 0.03378174 0.1731091  0.01989574]\n",
      "[0.00506169 0.02315688 0.02447803 ... 0.0666334  0.03041666 0.012033  ]\n",
      "[0.01169805 0.02286932 0.03537999 ... 0.03929332 0.04715721 0.03512098]\n",
      "[0.0318462  0.02246989 0.03568143 ... 0.01617144 0.40750736 0.00972388]\n",
      "[0.00727144 0.01284081 0.00998859 ... 0.01001598 0.01513751 0.08251821]\n",
      "[0.0058422  0.02040844 0.01909176 ... 0.00951039 0.01167318 0.00720647]\n",
      "[0.02329043 0.04075626 0.04949366 ... 0.01693226 0.06613426 0.00482912]\n",
      "[0.00594223 0.01870293 0.22270784 ... 0.00351823 0.06881117 0.02976578]\n",
      "[0.01471519 0.05037711 0.22350125 ... 0.00637769 0.10395616 0.00992161]\n",
      "[0.00839783 0.00824319 0.02426771 ... 0.02852153 0.06070465 0.09536314]\n",
      "[0.00071741 0.00256466 0.00764331 ... 0.00179278 0.01072033 0.00116276]\n",
      "[0.00444682 0.02557571 0.04701624 ... 0.00678087 0.02928362 0.0154967 ]\n",
      "[0.01900021 0.02073272 0.0382952  ... 0.0327266  0.0419132  0.00386336]\n",
      "[0.01901252 0.16649029 0.03303963 ... 0.0238427  0.03579053 0.00834042]\n",
      "[0.01990692 0.02453917 0.12178519 ... 0.01164457 0.05462432 0.02225698]\n",
      "[0.01171954 0.04145364 0.0234641  ... 0.04290454 0.22410643 0.00914698]\n",
      "[0.02797892 0.05347143 0.2472954  ... 0.01849167 0.07460196 0.01392262]\n",
      "[0.00847507 0.02816868 0.01036787 ... 0.05971557 0.02607725 0.01514472]\n",
      "[0.0026851  0.00490655 0.00691484 ... 0.00025479 0.00332705 0.0198127 ]\n",
      "[0.01482746 0.01339196 0.01266776 ... 0.01216034 0.02314832 0.00766026]\n",
      "[0.02273048 0.0172858  0.02134264 ... 0.01732745 0.4232412  0.01980464]\n",
      "[0.04022719 0.06229184 0.09525811 ... 0.0201816  0.0865208  0.02607835]\n",
      "[0.01373487 0.0294773  0.03077585 ... 0.00695834 0.01599172 0.00035731]\n",
      "[0.00440107 0.00146298 0.01099252 ... 0.02262024 0.07326141 0.01763484]\n",
      "[0.0075827  0.02003783 0.03160505 ... 0.00924347 0.00756709 0.00364582]\n",
      "[0.00931454 0.01501356 0.01329262 ... 0.0450206  0.03502074 0.11426961]\n",
      "[0.01287471 0.01370015 0.05349008 ... 0.0083488  0.03616911 0.03450138]\n",
      "[0.01312682 0.00825487 0.04276068 ... 0.00877034 0.04449891 0.00941496]\n",
      "[0.02629372 0.03916689 0.0489154  ... 0.0149834  0.05408537 0.02365227]\n",
      "[0.00556771 0.00809077 0.00493878 ... 0.12307861 0.02082331 0.01509877]\n",
      "[0.02072125 0.04778069 0.0180883  ... 0.00371192 0.04983159 0.01970623]\n",
      "[0.00466442 0.00372968 0.01368396 ... 0.00668556 0.01789295 0.05380542]\n",
      "[0.00743072 0.02355066 0.02536633 ... 0.00837417 0.00645136 0.006779  ]\n",
      "[0.06413162 0.02012902 0.02174558 ... 0.04036767 0.03647547 0.049808  ]\n",
      "[0.01980847 0.01235357 0.02858434 ... 0.01130598 0.11691388 0.01621887]\n",
      "[0.03349492 0.05602144 0.15006152 ... 0.02029868 0.07336374 0.01566681]\n",
      "[0.00945635 0.01742581 0.02449857 ... 0.00741222 0.13944377 0.01875028]\n",
      "[0.0048583  0.0306874  0.00839012 ... 0.01012471 0.32546782 0.00504919]\n",
      "[0.00997891 0.0165728  0.03048467 ... 0.02530995 0.02931755 0.00612608]\n",
      "[0.0001738  0.00735742 0.00660935 ... 0.00533011 0.03714582 0.00857256]\n",
      "[0.01825446 0.01706137 0.02179666 ... 0.04262045 0.3400585  0.00468742]\n",
      "[0.04581285 0.11634624 0.0266781  ... 0.01256617 0.026059   0.01986135]\n",
      "[0.00762395 0.05208331 0.06097841 ... 0.0156575  0.0781686  0.0510009 ]\n",
      "[0.00645364 0.02838206 0.01062523 ... 0.02280526 0.02460428 0.00044862]\n",
      "[0.00582485 0.03064968 0.03050673 ... 0.00694054 0.01170049 0.01462216]\n",
      "[0.02242239 0.07520255 0.04128563 ... 0.01587433 0.06912175 0.01062651]\n",
      "[0.00836845 0.00777791 0.01499983 ... 0.01593259 0.02620802 0.01039512]\n",
      "[0.00459263 0.02369279 0.13614196 ... 0.01507205 0.01808715 0.003449  ]\n",
      "[0.00790627 0.04359204 0.02465692 ... 0.00558122 0.0333976  0.0113923 ]\n",
      "[0.00737685 0.02357329 0.02915596 ... 0.01951248 0.0426276  0.07867723]\n",
      "[0.00629325 0.02306227 0.03504175 ... 0.00420891 0.06548977 0.01050008]\n",
      "[0.02061737 0.04466464 0.03851322 ... 0.06709838 0.07197568 0.05015649]\n",
      "[0.00806679 0.02258031 0.02971086 ... 0.00433691 0.01061637 0.01704323]\n",
      "[0.00322169 0.02982626 0.01054602 ... 0.00216411 0.05461081 0.00128277]\n",
      "[0.00856735 0.03960616 0.25231647 ... 0.00935299 0.0261833  0.01420469]\n",
      "[0.01285559 0.04627256 0.27641508 ... 0.00870957 0.02867548 0.00613694]\n",
      "[0.01756994 0.07225003 0.2456899  ... 0.01776373 0.06370445 0.01693102]\n",
      "[0.01167348 0.03518877 0.03233804 ... 0.04767501 0.03347122 0.04043067]\n",
      "[0.01606923 0.00914041 0.07847542 ... 0.00361464 0.02515723 0.00147136]\n",
      "[0.01372301 0.04282966 0.06899128 ... 0.00927711 0.02615436 0.00850072]\n",
      "[0.01086293 0.05374649 0.06922414 ... 0.00977203 0.02017615 0.00973132]\n",
      "[0.00499287 0.00839157 0.00928727 ... 0.01735289 0.26696938 0.00157205]\n",
      "[0.02887328 0.0173365  0.0431286  ... 0.01266275 0.1027461  0.00927119]\n",
      "[0.021803   0.04695374 0.04867004 ... 0.02397629 0.06989231 0.02689255]\n",
      "[0.00355949 0.02155046 0.13853031 ... 0.02329019 0.03452854 0.00775398]\n",
      "[0.00383612 0.01666552 0.01726641 ... 0.00805787 0.02444995 0.00904174]\n",
      "[7.4514566e-05 5.6169080e-03 5.4564416e-02 ... 1.1805787e-03 2.8645257e-03\n",
      " 5.0493097e-03]\n",
      "[0.01180548 0.01827241 0.0250912  ... 0.01312302 0.01680406 0.02816972]\n",
      "[0.0293593  0.01483556 0.02792872 ... 0.00135554 0.07230961 0.00957748]\n",
      "[0.00516052 0.01864461 0.02870334 ... 0.02574775 0.01635932 0.0037696 ]\n",
      "[0.00526883 0.01671693 0.00916752 ... 0.01348004 0.01491825 0.00442083]\n",
      "[0.005231   0.01690264 0.02912985 ... 0.00943688 0.01141853 0.00634568]\n",
      "[0.0141156  0.0192716  0.03594825 ... 0.07928231 0.02302377 0.00534123]\n",
      "[0.02966851 0.04971555 0.08251617 ... 0.04502238 0.08338678 0.03990009]\n",
      "[0.00452429 0.12217208 0.02414787 ... 0.00646458 0.02899429 0.00998901]\n",
      "[0.00482781 0.01540348 0.02131316 ... 0.01335032 0.00926966 0.00860059]\n",
      "[0.00387602 0.03313634 0.01825493 ... 0.00993148 0.23052607 0.00635459]\n",
      "[0.00943841 0.03426468 0.02789341 ... 0.01323875 0.02273719 0.02083402]\n",
      "[0.22176757 0.00978988 0.00601591 ... 0.01257123 0.00918427 0.00634987]\n",
      "[0.09229894 0.0300232  0.03962576 ... 0.00712678 0.03209336 0.00171823]\n",
      "[0.00501819 0.01344551 0.12077714 ... 0.00336794 0.05751521 0.00472205]\n",
      "[0.0152526  0.03695447 0.04207105 ... 0.02260065 0.04069858 0.0435354 ]\n",
      "[0.01040457 0.11634682 0.01910274 ... 0.00390878 0.03395807 0.04051858]\n",
      "[0.00867526 0.00562077 0.00477685 ... 0.02185937 0.07213407 0.01571371]\n",
      "[0.00555719 0.00880681 0.04102775 ... 0.00067886 0.01873088 0.0062506 ]\n",
      "[0.00283119 0.01472683 0.01423842 ... 0.02341843 0.01845985 0.00596825]\n",
      "[0.00904328 0.01113292 0.02956085 ... 0.03071366 0.06616599 0.10269263]\n",
      "[0.04333212 0.08132766 0.16596948 ... 0.01458452 0.0551253  0.01714249]\n",
      "[0.0100872  0.02524461 0.09270932 ... 0.02386532 0.08273574 0.02041498]\n",
      "[0.00539047 0.03176963 0.04730898 ... 0.00558091 0.04953476 0.01319165]\n",
      "[0.01169406 0.03019685 0.03780352 ... 0.01493114 0.07610129 0.01667497]\n",
      "[0.00312304 0.0053134  0.0879926  ... 0.00389612 0.01243611 0.00495984]\n",
      "[0.02184394 0.06726443 0.12160096 ... 0.02167735 0.06928473 0.03724866]\n",
      "[0.0312949  0.00839119 0.01982314 ... 0.13895313 0.3741485  0.00910469]\n",
      "[0.02740517 0.03994976 0.03694879 ... 0.01445131 0.03175533 0.02677809]\n",
      "[0.00544573 0.02320065 0.01698912 ... 0.01142613 0.10724345 0.01380037]\n",
      "[0.05570601 0.02211366 0.03232124 ... 0.01103102 0.08891036 0.00903765]\n",
      "[0.00169021 0.00067778 0.01312451 ... 0.00708536 0.00972763 0.00057384]\n",
      "[0.00820395 0.04040438 0.06347732 ... 0.00886052 0.03059882 0.00858205]\n",
      "[0.00945002 0.03355781 0.09538093 ... 0.14772245 0.03006293 0.01361607]\n",
      "[0.01298344 0.03766847 0.23238738 ... 0.01369148 0.05017865 0.01065576]\n",
      "[0.00610288 0.00986756 0.01175119 ... 0.01789709 0.00544232 0.00391739]\n",
      "[0.00691094 0.04380882 0.01786442 ... 0.04608995 0.01797035 0.01632847]\n",
      "[0.01442616 0.01995834 0.10441214 ... 0.05097624 0.05376038 0.00471639]\n",
      "[0.00795924 0.00664567 0.01490573 ... 0.00634575 0.0097496  0.04501949]\n",
      "[0.03451568 0.06689712 0.23641546 ... 0.0224514  0.07675037 0.0158088 ]\n",
      "[0.02954758 0.00652613 0.01176721 ... 0.00500553 0.033534   0.02000424]\n",
      "[0.01640373 0.05409192 0.10275028 ... 0.01108671 0.05868537 0.01257028]\n",
      "[0.01169606 0.05022663 0.02709626 ... 0.00732301 0.01482056 0.0218379 ]\n",
      "[0.02044214 0.03060832 0.04635579 ... 0.0557802  0.04119622 0.01714844]\n",
      "[0.00396625 0.01965623 0.03874021 ... 0.01009606 0.08448414 0.0031588 ]\n",
      "[0.02696962 0.03427024 0.03751658 ... 0.00492437 0.02671577 0.02405786]\n",
      "[0.02349651 0.05267852 0.04109267 ... 0.02095215 0.03936958 0.01496091]\n",
      "[0.00174638 0.00475941 0.00630339 ... 0.01400235 0.01048418 0.04290137]\n",
      "[0.00929132 0.02318359 0.09290561 ... 0.00784708 0.01988554 0.00780792]\n",
      "[0.00623911 0.02206584 0.01055726 ... 0.01227268 0.01543818 0.01029284]\n",
      "[0.00651412 0.02056679 0.0169135  ... 0.05571554 0.02230281 0.06767719]\n",
      "[0.01621951 0.02637128 0.06326154 ... 0.01409752 0.01971167 0.00530947]\n",
      "[0.00541702 0.02099921 0.04941549 ... 0.00762209 0.14463173 0.01873108]\n",
      "[0.01088559 0.01778581 0.12251276 ... 0.00397333 0.02640551 0.00630888]\n",
      "[0.00479509 0.01349467 0.01424446 ... 0.00240033 0.00946758 0.00271802]\n",
      "[0.02463005 0.04136361 0.05423704 ... 0.00445619 0.05775713 0.0016014 ]\n",
      "[0.00167854 0.01220593 0.00847944 ... 0.13256502 0.3158616  0.00343938]\n",
      "[0.01108403 0.01075263 0.04411132 ... 0.05826814 0.01447106 0.0170389 ]\n",
      "[0.01159282 0.02514311 0.02354786 ... 0.00800704 0.06710824 0.00939921]\n",
      "[0.01348519 0.01200539 0.03542728 ... 0.01287717 0.02540981 0.04488268]\n",
      "[0.01119883 0.00699308 0.0067941  ... 0.01235771 0.02983685 0.00536046]\n",
      "[0.01152697 0.00996325 0.01977734 ... 0.00434744 0.06836296 0.02312011]\n",
      "[0.02861847 0.04600193 0.04822138 ... 0.05636936 0.07483114 0.0092314 ]\n",
      "[0.00873846 0.02918332 0.02378087 ... 0.0116166  0.03009329 0.01602885]\n",
      "[0.00774436 0.00185467 0.00520322 ... 0.0060453  0.04926386 0.00088785]\n",
      "[0.02898169 0.04733959 0.02991371 ... 0.00934889 0.07784077 0.16888286]\n",
      "[0.00396536 0.01543235 0.17265178 ... 0.00617704 0.01072859 0.00651932]\n",
      "[0.00635584 0.01480258 0.03522152 ... 0.00340141 0.01105939 0.01693762]\n",
      "[0.18822023 0.01657193 0.03813919 ... 0.00949079 0.06568663 0.01714731]\n",
      "[0.00906046 0.01805769 0.01194138 ... 0.00381308 0.00864622 0.02255829]\n",
      "[0.03501652 0.06634077 0.22355382 ... 0.0215572  0.07726382 0.0162593 ]\n",
      "[0.01045634 0.03557076 0.0233782  ... 0.01213247 0.03025491 0.04833243]\n",
      "[0.00022119 0.00244322 0.00264902 ... 0.00136062 0.005357   0.00010079]\n",
      "[0.00660674 0.01877289 0.04453381 ... 0.00527982 0.00958823 0.00282729]\n",
      "[0.0075099  0.03924231 0.02015385 ... 0.01204277 0.26342803 0.00766562]\n",
      "[0.02665869 0.07579771 0.03629382 ... 0.01519515 0.02350443 0.00759353]\n",
      "[0.02671409 0.06148103 0.06595829 ... 0.00805768 0.13870138 0.00894513]\n",
      "[0.01170238 0.04058975 0.07690203 ... 0.03819416 0.06075612 0.00597038]\n",
      "[0.02328253 0.0043807  0.02121694 ... 0.02209269 0.06537273 0.19159609]\n",
      "[0.00204483 0.00222029 0.00437179 ... 0.00297757 0.01293879 0.05715285]\n",
      "[0.00926153 0.00842239 0.01882127 ... 0.04502991 0.02136639 0.18129203]\n",
      "[0.03352156 0.0516556  0.0614281  ... 0.0186804  0.06375764 0.01957055]\n",
      "[0.00924208 0.02698573 0.02734846 ... 0.029156   0.06633279 0.09730468]\n",
      "[0.01125563 0.04492607 0.30816662 ... 0.01547307 0.04711571 0.01885397]\n",
      "[0.00660882 0.01415588 0.14564456 ... 0.00330247 0.0152137  0.0116763 ]\n",
      "[0.01082156 0.0132714  0.01341092 ... 0.00619177 0.01373922 0.0052939 ]\n",
      "[0.0041005  0.01198628 0.05343644 ... 0.00351885 0.04344819 0.00541194]\n",
      "[0.00643834 0.02112212 0.09057391 ... 0.00838137 0.01895039 0.00926092]\n",
      "[0.00335408 0.00993599 0.03104669 ... 0.00968037 0.02127914 0.01778063]\n",
      "[0.00188415 0.01104004 0.01958932 ... 0.00930199 0.05544205 0.00679932]\n",
      "[0.00246427 0.01297889 0.01025923 ... 0.00143502 0.00330166 0.00120118]\n",
      "[0.01783217 0.01497673 0.02490274 ... 0.02586005 0.07107999 0.02366567]\n",
      "[0.00873252 0.02016198 0.01403961 ... 0.00351612 0.04084575 0.00514265]\n",
      "[0.00323579 0.003207   0.00581515 ... 0.00586446 0.10751883 0.00237769]\n",
      "[0.00950192 0.03563    0.06800338 ... 0.00933438 0.05434052 0.04393312]\n",
      "[0.01783273 0.07618174 0.06227987 ... 0.03680431 0.04197088 0.03422689]\n",
      "[0.01870662 0.05532093 0.06143827 ... 0.01473699 0.05247533 0.00877548]\n",
      "[0.00540362 0.00557347 0.03799912 ... 0.00425794 0.01686847 0.0175395 ]\n",
      "[0.00305302 0.04295825 0.2511514  ... 0.00284231 0.02774922 0.00599613]\n",
      "[0.00362035 0.01303154 0.01131228 ... 0.04482725 0.02119619 0.00440053]\n",
      "[0.00524575 0.03827798 0.02777155 ... 0.00804548 0.0165447  0.06305633]\n",
      "[0.01149646 0.01909988 0.11434421 ... 0.02334248 0.02640497 0.01017886]\n",
      "[0.00480877 0.00302331 0.02259329 ... 0.00379002 0.02555148 0.00331035]\n",
      "[0.02108293 0.08270441 0.03740837 ... 0.00825416 0.03719351 0.01520184]\n",
      "[0.00436493 0.00735656 0.01116102 ... 0.00720139 0.01977152 0.00404056]\n",
      "[0.0253901  0.06951637 0.05215007 ... 0.01586273 0.05193078 0.00743902]\n",
      "[0.01447077 0.06554672 0.04374961 ... 0.00935622 0.02827437 0.01125946]\n",
      "[0.00242376 0.00824976 0.00936673 ... 0.00839343 0.03411984 0.00011882]\n",
      "[0.00640003 0.02130203 0.05072451 ... 0.00902858 0.01624112 0.00845051]\n",
      "[0.00540938 0.01769322 0.0335951  ... 0.10001808 0.07055659 0.00748042]\n",
      "[0.0058577  0.03646528 0.04667158 ... 0.00333587 0.02262103 0.00846271]\n",
      "[0.00668977 0.00903609 0.00678147 ... 0.05836593 0.03867392 0.00158684]\n",
      "[0.00424816 0.01235371 0.03213681 ... 0.0159582  0.07827619 0.09417908]\n",
      "[0.01173745 0.03118809 0.03775769 ... 0.0211359  0.02399441 0.00435585]\n",
      "[0.01178348 0.02241957 0.03900332 ... 0.01190111 0.10877834 0.00386265]\n",
      "[0.0035446  0.01691548 0.0295556  ... 0.00351631 0.02618128 0.02576597]\n",
      "[0.01123772 0.02459621 0.03632533 ... 0.01507661 0.03851421 0.01048238]\n",
      "[0.00855551 0.00839796 0.02472335 ... 0.02905704 0.06414983 0.09715365]\n",
      "[0.00691942 0.01368205 0.01349302 ... 0.01732914 0.40113208 0.00787993]\n",
      "[0.0093485  0.03559437 0.02016994 ... 0.11190492 0.03858978 0.00788319]\n",
      "[0.00905086 0.03684571 0.02210753 ... 0.01432753 0.01886632 0.00673203]\n",
      "[0.0053463  0.0104463  0.13875544 ... 0.00374848 0.03055216 0.02192947]\n",
      "[0.00084969 0.0082271  0.10863508 ... 0.01892402 0.02651199 0.00647301]\n",
      "[0.01598312 0.00448325 0.00748851 ... 0.00049964 0.02787091 0.01184215]\n",
      "[0.01175528 0.01013035 0.03811285 ... 0.00911476 0.02715537 0.00268474]\n",
      "[0.00418841 0.00802538 0.01330495 ... 0.05363644 0.02180218 0.13189198]\n",
      "[0.03561256 0.03019388 0.03314603 ... 0.01012607 0.09903257 0.00476189]\n",
      "[0.04142569 0.02182927 0.08918592 ... 0.00917482 0.01632529 0.00373631]\n",
      "[0.02133872 0.02154262 0.03738538 ... 0.06222002 0.03874559 0.00656556]\n",
      "[0.0108172  0.00944727 0.01827001 ... 0.07724575 0.04672833 0.03492434]\n",
      "[0.00708878 0.01367634 0.01225023 ... 0.01358133 0.01686725 0.03521455]\n",
      "[0.01012802 0.03417339 0.19639619 ... 0.00981559 0.02256409 0.00169191]\n",
      "[0.01935673 0.0299643  0.05953475 ... 0.00655393 0.02971357 0.00708278]\n",
      "[0.00468278 0.04687393 0.02142124 ... 0.03299209 0.01268892 0.00296687]\n",
      "[0.02520457 0.05578803 0.10047614 ... 0.0323117  0.05489434 0.01854037]\n",
      "[0.02045662 0.01255533 0.01490326 ... 0.38982898 0.36820868 0.04000533]\n",
      "[0.00491531 0.0138507  0.03083345 ... 0.00163419 0.00785332 0.00308274]\n",
      "[0.01198433 0.05294002 0.04050808 ... 0.00747281 0.03694602 0.01777824]\n",
      "[0.06296244 0.02461068 0.02963652 ... 0.03310925 0.08779341 0.00981384]\n",
      "[0.02549819 0.03157558 0.03345321 ... 0.02350053 0.04986956 0.04251575]\n",
      "[0.03705709 0.06025373 0.18349268 ... 0.02015684 0.08305192 0.01775016]\n",
      "[0.02159616 0.02290479 0.03809698 ... 0.01813084 0.05723182 0.00404426]\n",
      "[0.14436188 0.02774223 0.06845524 ... 0.01090932 0.05370098 0.01970027]\n",
      "[0.00238522 0.01992187 0.03145244 ... 0.01511457 0.13383056 0.08427576]\n",
      "[0.00414895 0.04736698 0.02151271 ... 0.00404679 0.0100254  0.00687994]\n",
      "[0.01439067 0.02144606 0.03942947 ... 0.07147421 0.03620682 0.02837008]\n",
      "[0.01051804 0.05505728 0.04272455 ... 0.00701807 0.03124114 0.01888905]\n",
      "[0.00141376 0.00530341 0.00445742 ... 0.00135666 0.0045649  0.00208099]\n",
      "[0.02118835 0.0661012  0.03914085 ... 0.01732702 0.0404649  0.02087449]\n",
      "[0.01993059 0.02123195 0.04895288 ... 0.0154867  0.08589526 0.00345194]\n",
      "[0.01166756 0.02950382 0.02357391 ... 0.00750339 0.02875022 0.00392834]\n",
      "[0.00420515 0.01198704 0.04704703 ... 0.03006925 0.07799635 0.01587414]\n",
      "[0.0228048  0.01068779 0.01920809 ... 0.01756637 0.07557454 0.06965031]\n",
      "[0.02191763 0.06359475 0.0943493  ... 0.02012025 0.06218914 0.02666416]\n",
      "[0.01907401 0.11482932 0.05109822 ... 0.00805805 0.08485814 0.01908335]\n",
      "[0.00595929 0.00585998 0.0089004  ... 0.00392154 0.02241624 0.00879029]\n",
      "[0.01826338 0.00884    0.01288057 ... 0.00964129 0.05586304 0.00145484]\n",
      "[0.01981421 0.02461181 0.03709063 ... 0.05214693 0.05028446 0.00729021]\n",
      "[0.02125325 0.02735709 0.02753108 ... 0.0097508  0.08046437 0.0047542 ]\n",
      "[0.01475289 0.03060476 0.04731606 ... 0.0147978  0.02511699 0.00304702]\n",
      "[0.00059939 0.01782539 0.2241421  ... 0.00031087 0.0058175  0.0040676 ]\n",
      "[0.01082567 0.01212949 0.02234649 ... 0.00832222 0.01785897 0.06614143]\n",
      "[0.00391046 0.02260586 0.01799024 ... 0.02022362 0.02148673 0.01225107]\n",
      "[0.01106976 0.01380577 0.01791242 ... 0.1304162  0.16635177 0.01578238]\n",
      "[0.00359204 0.01411364 0.02966816 ... 0.00665897 0.0235071  0.01253121]\n",
      "[0.01206079 0.01369214 0.02468487 ... 0.0070771  0.02983223 0.06010578]\n",
      "[0.00829957 0.06675802 0.0184663  ... 0.00755403 0.0362817  0.00655452]\n",
      "[0.03332132 0.05666943 0.15819304 ... 0.02020698 0.0719506  0.01486369]\n",
      "[0.00402147 0.01632168 0.01244093 ... 0.18384251 0.3509677  0.00048228]\n",
      "[0.00911741 0.03109008 0.03179605 ... 0.00901065 0.03322262 0.01381792]\n",
      "[0.00836947 0.02020004 0.02961055 ... 0.02003358 0.01352319 0.0049979 ]\n",
      "[0.03704283 0.04438408 0.02291594 ... 0.02050046 0.06019408 0.00988955]\n",
      "[0.0013256  0.01325419 0.10973657 ... 0.00246284 0.01675758 0.0006284 ]\n",
      "[0.02066121 0.0439676  0.03484291 ... 0.00815018 0.04395679 0.00880629]\n",
      "[0.03130271 0.010825   0.04060864 ... 0.02215038 0.09984994 0.27148592]\n",
      "[0.01643056 0.03198862 0.02220832 ... 0.00438931 0.01967416 0.01065746]\n",
      "[0.01473167 0.01788008 0.02234068 ... 0.01840064 0.11570981 0.0139604 ]\n",
      "[0.00482196 0.04105486 0.021553   ... 0.01250435 0.29179353 0.00664416]\n",
      "[0.00590941 0.00584373 0.01246175 ... 0.01246332 0.02279869 0.00736191]\n",
      "[0.00028759 0.00258288 0.02513484 ... 0.00098395 0.01452769 0.00025161]\n",
      "[0.01657152 0.07401545 0.03072355 ... 0.03209213 0.03301283 0.01173577]\n",
      "[0.00908621 0.02409296 0.04414002 ... 0.0075483  0.02302849 0.00932382]\n",
      "[0.01742876 0.079022   0.02034568 ... 0.0165685  0.5834899  0.02502858]\n",
      "[0.00289785 0.00529531 0.0068886  ... 0.00027498 0.00359066 0.02138251]\n",
      "[0.02158546 0.02616573 0.02610338 ... 0.00765981 0.01557367 0.01522326]\n",
      "[0.01936894 0.01632967 0.03203733 ... 0.04509835 0.04692686 0.01576883]\n",
      "[0.01835202 0.01787838 0.02038447 ... 0.00727487 0.04033498 0.00671635]\n",
      "[5.5901213e-03 9.8631335e-03 4.9129203e-02 ... 9.7684570e-02 1.7588764e-02\n",
      " 6.5058688e-05]\n",
      "[0.0075753  0.01257493 0.07948013 ... 0.02295422 0.05705301 0.0033268 ]\n",
      "[0.00627814 0.00598355 0.0144196  ... 0.00306791 0.05206243 0.00599862]\n",
      "[0.01405238 0.03528006 0.03883278 ... 0.00874046 0.01822011 0.01797552]\n",
      "[0.00442821 0.00374952 0.08809178 ... 0.00974391 0.02178393 0.0004223 ]\n",
      "[0.02725386 0.03712101 0.02978081 ... 0.00930161 0.05368963 0.02416741]\n",
      "[0.00742393 0.00482426 0.00579611 ... 0.0233622  0.03350503 0.00121434]\n",
      "[0.01024571 0.0151134  0.01593751 ... 0.03742184 0.09165287 0.04501232]\n",
      "[0.01137361 0.01497355 0.01352813 ... 0.00940331 0.0144254  0.00453564]\n",
      "[0.02678253 0.0507444  0.05890446 ... 0.02595411 0.06150295 0.01800577]\n",
      "[0.00594332 0.04338266 0.07459213 ... 0.00561144 0.02448309 0.02043761]\n",
      "[0.01033888 0.04266972 0.01174478 ... 0.00350554 0.02123759 0.00733381]\n",
      "[0.02615126 0.0713025  0.09172249 ... 0.019794   0.06609742 0.01323433]\n",
      "[0.00427778 0.00109542 0.00677702 ... 0.00040516 0.01149486 0.00051787]\n",
      "[0.0099558  0.05241249 0.07049285 ... 0.02531133 0.07264871 0.01196059]\n",
      "[0.0037952  0.02832387 0.08241037 ... 0.00854322 0.01465838 0.0063337 ]\n",
      "[0.00389324 0.00875274 0.03622058 ... 0.00769788 0.01790966 0.00466451]\n",
      "[0.00826482 0.01858275 0.03681716 ... 0.02969556 0.11437485 0.07977628]\n",
      "[0.00674352 0.01930588 0.03986749 ... 0.00323321 0.05003368 0.01562906]\n",
      "[0.0085264  0.02417737 0.17835286 ... 0.0105035  0.07108453 0.00754014]\n",
      "[0.01510532 0.0092637  0.02188539 ... 0.0124239  0.02765734 0.00449656]\n",
      "[0.01127744 0.01765523 0.06009063 ... 0.01031368 0.02095092 0.00207012]\n",
      "[0.00537605 0.01511452 0.00606323 ... 0.05886212 0.02876618 0.21168865]\n",
      "[0.02571585 0.02215899 0.0711894  ... 0.02980327 0.08941076 0.00416038]\n",
      "[0.00335782 0.02683852 0.2030798  ... 0.00660889 0.0216357  0.01148477]\n",
      "[0.02160728 0.00322095 0.02728683 ... 0.02624217 0.03902986 0.24656233]\n",
      "[0.01129724 0.01323502 0.01315369 ... 0.00397368 0.01791227 0.00728473]\n",
      "[0.03033479 0.03412301 0.06264422 ... 0.02449638 0.08763479 0.01563795]\n",
      "[0.01040085 0.01070674 0.01362563 ... 0.01435932 0.03923927 0.01793451]\n",
      "[0.0119358  0.01890168 0.01990247 ... 0.11421771 0.58313984 0.01408548]\n",
      "[0.01331511 0.03107593 0.10205429 ... 0.00839671 0.03087063 0.04445007]\n",
      "[0.00391119 0.03286903 0.02445676 ... 0.01028565 0.2345397  0.00669556]\n",
      "[0.01584133 0.0303602  0.05127277 ... 0.02744643 0.24782102 0.00988011]\n",
      "[0.00671072 0.01535533 0.00993463 ... 0.02089487 0.01671318 0.0025638 ]\n",
      "[0.00448344 0.01689906 0.02233896 ... 0.03385273 0.13136895 0.0614882 ]\n",
      "[0.00866155 0.0441645  0.03722338 ... 0.02159182 0.05396417 0.01869525]\n",
      "[0.01187201 0.03520383 0.05859909 ... 0.02356688 0.04558807 0.01015207]\n",
      "[0.01202386 0.05349477 0.02299147 ... 0.00635255 0.03711345 0.00256455]\n",
      "[0.01301685 0.0291423  0.01948342 ... 0.01158497 0.03914785 0.13949397]\n",
      "[0.01561813 0.03519471 0.03394962 ... 0.00269616 0.01628989 0.04164454]\n",
      "[0.01883245 0.03716513 0.05683389 ... 0.03680795 0.03123692 0.00774192]\n",
      "[0.00847158 0.01556147 0.11792439 ... 0.00772078 0.02140097 0.00912288]\n",
      "[0.01201818 0.02543324 0.23416871 ... 0.00830234 0.02356246 0.00273451]\n",
      "[0.0017099  0.01742521 0.04051905 ... 0.0215302  0.13890031 0.10342632]\n",
      "[0.01020111 0.03286994 0.01371499 ... 0.04072264 0.03351047 0.0094588 ]\n",
      "[0.01139895 0.06886401 0.02252739 ... 0.01249401 0.02883726 0.00013491]\n",
      "[0.00832026 0.0097557  0.01791647 ... 0.01240941 0.02583762 0.01695016]\n",
      "[0.00098359 0.01670426 0.01209136 ... 0.00290912 0.00998458 0.00577721]\n",
      "[0.00498497 0.02429092 0.07316584 ... 0.00329049 0.02140979 0.00842491]\n",
      "[0.01995689 0.00708203 0.02947391 ... 0.01991442 0.16131268 0.00300203]\n",
      "[0.01878918 0.07012592 0.12336523 ... 0.01463818 0.06243877 0.01483118]\n",
      "[0.06374958 0.04965802 0.19262768 ... 0.01203343 0.06393509 0.00972158]\n",
      "[0.01514759 0.05680374 0.0288439  ... 0.02521366 0.02746082 0.0037703 ]\n",
      "[0.00880427 0.0671068  0.04468691 ... 0.03473961 0.01785162 0.00112606]\n",
      "[0.00674339 0.00427114 0.03772965 ... 0.001456   0.01340422 0.00102951]\n",
      "[0.00391776 0.01102297 0.01833641 ... 0.01225666 0.02290225 0.00073775]\n",
      "[0.00641743 0.0279831  0.02044591 ... 0.01256673 0.0177719  0.00802374]\n",
      "[0.01649683 0.089053   0.09570341 ... 0.07178036 0.04051343 0.00674516]\n",
      "[0.00346313 0.01176975 0.01774745 ... 0.00647125 0.2888818  0.00767508]\n",
      "[0.01468498 0.0625668  0.08804844 ... 0.01386659 0.05081019 0.01345192]\n",
      "[0.01811631 0.02626188 0.02689546 ... 0.00893506 0.06104705 0.08447115]\n",
      "[0.00757011 0.03472246 0.02019302 ... 0.02211088 0.0393302  0.04480034]\n",
      "[0.00777923 0.02468796 0.04127581 ... 0.00763833 0.02556413 0.01150196]\n",
      "[0.01979324 0.03303897 0.03831636 ... 0.00268268 0.02756227 0.00652249]\n",
      "[0.00962965 0.03763663 0.10500896 ... 0.010574   0.02334847 0.01234469]\n",
      "[0.01332561 0.03136083 0.05494786 ... 0.03871552 0.0307687  0.01040811]\n",
      "[0.00502916 0.01365406 0.0171279  ... 0.00453455 0.0462749  0.01307262]\n",
      "[0.01474049 0.03413925 0.03441088 ... 0.00771941 0.01445262 0.01014596]\n",
      "[2.9826874e-03 6.6018593e-04 1.8815039e-02 ... 6.3739084e-05 1.1657871e-02\n",
      " 1.6412536e-04]\n",
      "[0.00482196 0.04105486 0.021553   ... 0.01250435 0.29179353 0.00664416]\n",
      "[0.00944278 0.02377859 0.15003054 ... 0.00844342 0.01365418 0.00574258]\n",
      "[0.02369696 0.03722173 0.03618028 ... 0.02608004 0.06494098 0.05976713]\n",
      "[0.0049484  0.01262868 0.02869159 ... 0.01164916 0.01522509 0.00202283]\n",
      "[0.02014674 0.07302345 0.19610056 ... 0.01916463 0.07385464 0.02688782]\n",
      "[0.00047437 0.00748738 0.00353177 ... 0.0007105  0.00391648 0.00024139]\n",
      "[0.01562954 0.02321112 0.05720021 ... 0.01796135 0.03045877 0.02593635]\n",
      "[0.02521551 0.02723095 0.05513748 ... 0.06005462 0.06022049 0.01366615]\n",
      "[0.03870168 0.03365116 0.02851376 ... 0.00429792 0.13651581 0.00867798]\n",
      "[0.00378127 0.00490039 0.01139273 ... 0.00664557 0.01002221 0.00639019]\n",
      "[0.01481943 0.0096683  0.01709091 ... 0.00717945 0.05658083 0.00632737]\n",
      "[0.04587627 0.01764675 0.02566428 ... 0.0117104  0.0311875  0.01780064]\n",
      "[0.01194228 0.01831282 0.03977222 ... 0.01365446 0.03790064 0.00806897]\n",
      "[0.02253248 0.04399993 0.16962227 ... 0.01614622 0.03181544 0.01001459]\n",
      "[0.0032506  0.00253272 0.03595973 ... 0.00414905 0.02824457 0.0036917 ]\n",
      "[0.00812428 0.01842911 0.02904219 ... 0.1382987  0.03561615 0.00904206]\n",
      "[0.00635965 0.02576958 0.05056376 ... 0.01780259 0.04541087 0.00162457]\n",
      "[0.01223448 0.02735704 0.12138367 ... 0.00260114 0.05532274 0.00706652]\n",
      "[0.02194072 0.10958627 0.02004237 ... 0.02646647 0.03852998 0.06664018]\n",
      "[0.02267414 0.02847909 0.04941732 ... 0.01546729 0.06727324 0.01502351]\n",
      "[0.00053411 0.00893864 0.0080675  ... 0.00047261 0.00283173 0.00263154]\n",
      "[0.01544579 0.03201855 0.01904737 ... 0.02875004 0.02568505 0.0084445 ]\n",
      "[0.00946983 0.01032646 0.01384957 ... 0.03587477 0.30316195 0.00111484]\n",
      "[0.01596082 0.03539692 0.05179577 ... 0.01685731 0.0324509  0.01035766]\n",
      "[0.01369925 0.02292635 0.11086258 ... 0.04651628 0.1810275  0.00857346]\n",
      "[0.03422374 0.09824251 0.09790072 ... 0.03892842 0.07205969 0.06837127]\n",
      "[0.00459527 0.00523419 0.00808487 ... 0.00153707 0.05841446 0.02047873]\n",
      "[0.00457735 0.03328192 0.08637758 ... 0.00826539 0.01621352 0.01139584]\n",
      "[0.01172533 0.06187762 0.03371732 ... 0.01655689 0.02145607 0.0026827 ]\n",
      "[0.00996227 0.07535849 0.01532548 ... 0.01438028 0.03426219 0.00270767]\n",
      "[0.01118096 0.01414878 0.03381784 ... 0.05739728 0.04471765 0.00411746]\n",
      "[0.01129439 0.02779267 0.03662819 ... 0.01018446 0.03674701 0.00837607]\n",
      "[0.0084394  0.04299951 0.2767996  ... 0.0249429  0.03469189 0.03151818]\n",
      "[0.01981233 0.02661712 0.0353088  ... 0.14468363 0.03520532 0.00879773]\n",
      "[0.00264156 0.00482699 0.02903284 ... 0.00025066 0.0032731  0.01949142]\n",
      "[0.04039542 0.01440411 0.02686588 ... 0.04370324 0.02378617 0.00570401]\n",
      "[0.00373332 0.01628108 0.01073019 ... 0.00121712 0.01430233 0.00303442]\n",
      "[0.0156141  0.01545894 0.0225048  ... 0.00438492 0.01452455 0.00286028]\n",
      "[0.00444965 0.000444   0.00082691 ... 0.00128824 0.00948873 0.00169296]\n",
      "[0.01657437 0.3066133  0.02137395 ... 0.01567853 0.0310036  0.01634913]\n",
      "[0.01068909 0.01808342 0.09957406 ... 0.00393881 0.0189694  0.00064171]\n",
      "[0.00877714 0.00861551 0.03672938 ... 0.02980976 0.06476551 0.09967043]\n",
      "[0.03462268 0.03400879 0.05744034 ... 0.01381585 0.04289    0.03180357]\n",
      "[0.00476756 0.04059172 0.02130986 ... 0.01236329 0.28850177 0.00656921]\n",
      "[0.01757705 0.03763077 0.14089486 ... 0.00895458 0.08423437 0.02763466]\n",
      "[0.00769246 0.0232105  0.07655577 ... 0.00581071 0.03875607 0.01520127]\n",
      "[0.00755959 0.03371688 0.02290477 ... 0.00950644 0.01099086 0.01072519]\n",
      "[0.00605344 0.03522042 0.13008997 ... 0.010233   0.0236751  0.00899537]\n",
      "[0.00368789 0.02007255 0.03156674 ... 0.07258883 0.06429239 0.00910152]\n",
      "[0.0083712  0.02573736 0.03109861 ... 0.00587508 0.10346349 0.00497023]\n",
      "[0.01246152 0.02357922 0.05763565 ... 0.01055057 0.04950578 0.03443629]\n",
      "[0.00251674 0.01203864 0.01822912 ... 0.01765311 0.01907016 0.00452049]\n",
      "[0.00472321 0.01263263 0.03128358 ... 0.01462842 0.2635636  0.00546213]\n",
      "[0.04020265 0.06609689 0.1443476  ... 0.03595556 0.09543129 0.01875549]\n",
      "[0.06136703 0.01746698 0.01813838 ... 0.14501643 0.26778692 0.01119386]\n",
      "[0.01629525 0.00195695 0.05931313 ... 0.00013318 0.00622429 0.00385444]\n",
      "[0.00015111 0.00327318 0.00431416 ... 0.00154927 0.01122326 0.00027729]\n",
      "[0.016575   0.06647141 0.0947056  ... 0.01361269 0.05919898 0.01599647]\n",
      "[0.03391431 0.00907439 0.01489152 ... 0.03663028 0.14789988 0.01499954]\n",
      "[0.01058785 0.0173637  0.02537359 ... 0.07257167 0.0525785  0.1557151 ]\n",
      "[0.00592344 0.01220917 0.0287818  ... 0.00565825 0.00532523 0.00111629]\n",
      "[0.00571352 0.00587005 0.02067062 ... 0.01445375 0.04717925 0.00487963]\n",
      "[0.0150308  0.03671309 0.03343896 ... 0.01191734 0.02183026 0.01288141]\n",
      "[0.02359771 0.02985043 0.04342283 ... 0.05557069 0.04468264 0.01685665]\n",
      "[0.01819957 0.0442999  0.02791433 ... 0.01444385 0.02071412 0.00214256]\n",
      "[0.00277561 0.00507194 0.00714792 ... 0.00026338 0.00343919 0.02048054]\n",
      "[0.01875316 0.02122705 0.04356249 ... 0.00900279 0.02285105 0.00276509]\n",
      "[0.00498254 0.05240151 0.01963469 ... 0.06843889 0.1338424  0.0094458 ]\n",
      "[0.01805676 0.00878299 0.02830096 ... 0.00660145 0.03144554 0.00666454]\n",
      "[0.00244988 0.01797149 0.02348389 ... 0.00068697 0.04463435 0.00597945]\n",
      "[0.00742207 0.10474508 0.015422   ... 0.1264328  0.48882622 0.00353218]\n",
      "[0.01440106 0.00357386 0.00747022 ... 0.00697205 0.02060893 0.00230749]\n",
      "[0.01076507 0.02852782 0.02425683 ... 0.00615194 0.12964384 0.0048054 ]\n",
      "[0.01337251 0.04871573 0.03265994 ... 0.01266046 0.0521738  0.049161  ]\n",
      "[0.00067877 0.00706084 0.01225449 ... 0.0022102  0.01910068 0.00526903]\n",
      "[0.00764025 0.01865939 0.16752677 ... 0.00608003 0.0210534  0.00227522]\n",
      "[0.00539988 0.0143793  0.03301975 ... 0.02986349 0.13521844 0.11004193]\n",
      "[0.01648925 0.05781656 0.03234591 ... 0.10569379 0.37190032 0.00225591]\n",
      "[0.01209391 0.02024837 0.01655598 ... 0.01053518 0.03142164 0.00284546]\n",
      "[0.00436145 0.03218862 0.22592421 ... 0.02235545 0.05245999 0.01381811]\n",
      "[0.02648355 0.03614058 0.09102238 ... 0.02501204 0.04452395 0.0156054 ]\n",
      "[0.01584915 0.04781019 0.08250021 ... 0.01087163 0.02430929 0.01170345]\n",
      "[0.04337928 0.00422671 0.00812149 ... 0.00223287 0.05415617 0.00345843]\n",
      "[0.02502222 0.00516702 0.02452704 ... 0.00119688 0.11316816 0.02309793]\n",
      "[0.00747984 0.06299402 0.02106493 ... 0.05587703 0.01762126 0.02182235]\n",
      "[0.00155143 0.00743897 0.00950656 ... 0.00227673 0.00838993 0.00773282]\n",
      "[0.00551485 0.02991051 0.03481755 ... 0.03779646 0.2146999  0.00723018]\n",
      "[0.0037335  0.01650979 0.03760159 ... 0.03149389 0.02217118 0.00732345]\n",
      "[0.01127282 0.04146945 0.0148958  ... 0.03194045 0.04665998 0.00805261]\n",
      "[0.0113189  0.01360986 0.03144808 ... 0.00567746 0.01696966 0.00131848]\n",
      "[0.00795818 0.02324614 0.07069357 ... 0.01037836 0.0194066  0.00325613]\n",
      "[0.01176634 0.02507028 0.03521387 ... 0.01823929 0.03846326 0.02668261]\n",
      "[0.02148961 0.00451237 0.00696541 ... 0.03448554 0.04356415 0.00088687]\n",
      "[0.00118705 0.00324462 0.00491753 ... 0.00220329 0.01389941 0.01024746]\n",
      "[0.03457168 0.04982293 0.03526867 ... 0.00740156 0.02359911 0.0108771 ]\n",
      "[0.01465883 0.0247114  0.07220194 ... 0.09232055 0.027837   0.01623828]\n",
      "[0.00643126 0.00957347 0.01103579 ... 0.00347889 0.00849779 0.00065132]\n",
      "[0.00535339 0.00873347 0.01500204 ... 0.0210079  0.02849611 0.00500381]\n",
      "[0.00475818 0.00916213 0.1026862  ... 0.00941727 0.15420032 0.0088659 ]\n",
      "[0.00099053 0.00047977 0.00092434 ... 0.00271488 0.00717085 0.00083542]\n",
      "[0.0115755  0.04359015 0.03677063 ... 0.01216025 0.02836941 0.05427841]\n",
      "[0.01055484 0.04937256 0.30256552 ... 0.00991751 0.03172731 0.01330709]\n",
      "[0.00822581 0.0493309  0.17647792 ... 0.01195415 0.04317344 0.01446458]\n",
      "[0.0035386  0.02212641 0.04014374 ... 0.00491786 0.01397936 0.00266473]\n",
      "[0.0173425  0.06346273 0.09547798 ... 0.01331205 0.05964562 0.01328032]\n",
      "[0.06849514 0.0956642  0.06863979 ... 0.02349322 0.10863555 0.01369128]\n",
      "[0.00907478 0.0396306  0.00574387 ... 0.00368737 0.00556294 0.01315693]\n",
      "[0.01051607 0.03769    0.02099824 ... 0.01087134 0.24752215 0.00664534]\n",
      "[0.00864656 0.05242898 0.03027941 ... 0.00799961 0.03837135 0.00928818]\n",
      "[0.00757667 0.04163922 0.01393307 ... 0.00547418 0.0315254  0.00213412]\n",
      "[0.00799592 0.02723292 0.04312918 ... 0.13077046 0.02471234 0.01934887]\n",
      "[0.01230037 0.02299653 0.03580065 ... 0.00773421 0.0286182  0.0088355 ]\n",
      "[0.00659059 0.02491742 0.04004448 ... 0.00738381 0.02495914 0.00869376]\n",
      "[0.00533512 0.03679126 0.24570669 ... 0.00786308 0.09859774 0.00322734]\n",
      "[0.00709443 0.01232328 0.02926142 ... 0.0137236  0.02288104 0.00440088]\n",
      "[0.00592244 0.03397976 0.02557582 ... 0.01284548 0.03056174 0.00934138]\n",
      "[0.01882711 0.02679933 0.06164917 ... 0.01156308 0.06030572 0.01045171]\n",
      "[0.00300549 0.00741996 0.01430267 ... 0.0004686  0.0039588  0.02161156]\n",
      "[0.00619364 0.01763304 0.01802914 ... 0.01140425 0.02310945 0.00469765]\n",
      "[0.00346886 0.03428213 0.01431487 ... 0.00880651 0.01113274 0.00245503]\n",
      "[0.00253671 0.0046354  0.01720659 ... 0.00024071 0.00314318 0.01871778]\n",
      "[0.00813231 0.02846332 0.02324183 ... 0.0050161  0.02390618 0.00542804]\n",
      "[0.00763742 0.04326138 0.0224246  ... 0.00717759 0.02084134 0.00650999]\n",
      "[0.00682863 0.00675338 0.02310274 ... 0.03056472 0.04352774 0.02871515]\n",
      "[0.02845076 0.00537295 0.0262319  ... 0.00176432 0.06577994 0.00729585]\n",
      "[0.015377   0.01978519 0.03962386 ... 0.01343952 0.02768239 0.00802291]\n",
      "[0.04950625 0.14096113 0.05029208 ... 0.01433563 0.03881764 0.02097592]\n",
      "[0.01427482 0.00910964 0.0118415  ... 0.00297565 0.01301164 0.0020176 ]\n",
      "[0.00699283 0.01346569 0.02531973 ... 0.0103452  0.03489107 0.0338249 ]\n",
      "[0.0038225  0.00550336 0.0038384  ... 0.00342942 0.01562782 0.01028253]\n",
      "[0.00164799 0.01656617 0.00786861 ... 0.00479341 0.01064886 0.00164565]\n",
      "[0.01671117 0.0413149  0.05313258 ... 0.01920183 0.05476494 0.01496172]\n",
      "[0.00534103 0.05190375 0.02617194 ... 0.01144568 0.01766556 0.01830407]\n",
      "[0.00993095 0.01329469 0.0205826  ... 0.00820842 0.03571831 0.01687614]\n",
      "[0.01649751 0.08999839 0.0186191  ... 0.04606698 0.03919116 0.01272956]\n",
      "[0.00748813 0.02969072 0.01472314 ... 0.01102189 0.02473121 0.00503721]\n",
      "[0.01618568 0.06635038 0.09299792 ... 0.021902   0.05713272 0.01590379]\n",
      "[0.01257823 0.08390933 0.03090419 ... 0.02740543 0.05620518 0.03295012]\n",
      "[0.02355232 0.07133547 0.03342208 ... 0.00521514 0.05191386 0.02390353]\n",
      "[0.0125909  0.09337401 0.07428182 ... 0.02689862 0.03189711 0.00708442]\n",
      "[0.01619016 0.02858034 0.14621794 ... 0.01908732 0.0525112  0.01374875]\n",
      "[0.00411924 0.00896491 0.01178425 ... 0.00358057 0.0115134  0.00069998]\n",
      "[0.04219592 0.06179528 0.09190533 ... 0.02191899 0.09017516 0.03224428]\n",
      "[0.01864383 0.0705434  0.1736769  ... 0.01595577 0.06328315 0.01804305]\n",
      "[0.02615364 0.03552457 0.01495282 ... 0.02111586 0.06013452 0.01532671]\n",
      "[0.00528555 0.01182103 0.0209293  ... 0.01086391 0.01644305 0.00211354]\n",
      "[0.00558755 0.00548339 0.02549586 ... 0.00046015 0.01175083 0.00036597]\n",
      "[0.0038378  0.01153887 0.12113056 ... 0.00149985 0.00950193 0.00504409]\n",
      "[0.01155233 0.00934987 0.03681448 ... 0.00138436 0.02747796 0.05785076]\n",
      "[0.00622023 0.01261286 0.01409492 ... 0.00373943 0.00563244 0.0039542 ]\n",
      "[0.00494689 0.00976919 0.0204452  ... 0.03252728 0.02747309 0.00270789]\n",
      "[0.4609291  0.02368455 0.01941507 ... 0.00743258 0.08710462 0.00448339]\n",
      "[0.00521508 0.00982131 0.01378388 ... 0.0071387  0.03805218 0.01936057]\n",
      "[0.00981292 0.02694106 0.06137843 ... 0.00657621 0.03245728 0.02553061]\n",
      "[0.00536478 0.0232223  0.04748138 ... 0.00418759 0.03180385 0.00872286]\n",
      "[0.01157738 0.0577888  0.07192166 ... 0.01548056 0.03895539 0.0082076 ]\n",
      "[0.01228133 0.05742176 0.06432854 ... 0.03031317 0.07396244 0.0103638 ]\n",
      "[0.03749503 0.03208429 0.04125803 ... 0.00987342 0.08850578 0.00429711]\n",
      "[0.01026507 0.02088886 0.02746206 ... 0.02733795 0.00955382 0.00905231]\n",
      "[0.03902949 0.06713177 0.11914732 ... 0.02742623 0.09147683 0.02250895]\n",
      "[0.00666221 0.00878243 0.01456873 ... 0.00381798 0.01540138 0.00643814]\n",
      "[0.00330172 0.05027812 0.25900158 ... 0.00615542 0.04824006 0.01298126]\n",
      "[0.03097695 0.05259559 0.14179112 ... 0.02174575 0.06862899 0.01672255]\n",
      "[0.00930038 0.00228593 0.01637334 ... 0.01024646 0.02599947 0.04383913]\n",
      "[0.00377858 0.06751087 0.1134621  ... 0.01171998 0.026119   0.01616759]\n",
      "[0.00479745 0.00917559 0.05172065 ... 0.0023115  0.00910946 0.00324021]\n",
      "[0.02438514 0.02368748 0.03479702 ... 0.01983018 0.04137436 0.02338491]\n",
      "[0.0113691  0.01988588 0.03737324 ... 0.02179662 0.03183807 0.03262147]\n",
      "[0.00695396 0.02562898 0.0153538  ... 0.00468643 0.01082542 0.00610957]\n",
      "[0.02816193 0.02624962 0.02657168 ... 0.1464807  0.4562246  0.01583324]\n",
      "[0.01662211 0.04299128 0.04554505 ... 0.02119243 0.04714408 0.00638819]\n",
      "[0.0047426  0.01018177 0.00957015 ... 0.00775948 0.01892077 0.0097897 ]\n",
      "[0.01030784 0.03405263 0.07539238 ... 0.02129117 0.07167643 0.06056199]\n",
      "[0.01886144 0.07837038 0.21948248 ... 0.0152548  0.06533232 0.01493208]\n",
      "[0.00671468 0.00102149 0.01313173 ... 0.05633969 0.02317021 0.10317899]\n",
      "[0.01033885 0.01131889 0.02593891 ... 0.00049185 0.03805207 0.00389559]\n",
      "[0.00320184 0.0172371  0.02120659 ... 0.00720288 0.08585644 0.0082333 ]\n",
      "[0.00822409 0.00789308 0.00942199 ... 0.00304251 0.02579053 0.00533342]\n",
      "[0.00529431 0.02069306 0.02145366 ... 0.02045628 0.03521293 0.01271752]\n",
      "[0.00424199 0.01667369 0.01186269 ... 0.00460778 0.01917432 0.00287515]\n",
      "[0.01382725 0.0487038  0.03781913 ... 0.0100039  0.09931406 0.0331661 ]\n",
      "[0.00506126 0.03318663 0.09040588 ... 0.00451941 0.01203257 0.00930506]\n",
      "[0.00129745 0.00377334 0.00696307 ... 0.00305148 0.01412049 0.00163145]\n",
      "[0.03929047 0.0659426  0.11549334 ... 0.02542557 0.0899709  0.04027396]\n",
      "[0.00523966 0.0383816  0.1467923  ... 0.01641389 0.03687368 0.00640847]\n",
      "[0.01388331 0.01811219 0.02570912 ... 0.11154279 0.05540586 0.0856251 ]\n",
      "[0.00128638 0.00303176 0.0078697  ... 0.01714244 0.05225304 0.00159402]\n",
      "[0.0124754  0.03365659 0.04289749 ... 0.01824655 0.07724853 0.01488516]\n",
      "[0.01677783 0.0398649  0.2157828  ... 0.01035622 0.04779895 0.008583  ]\n",
      "[0.02099678 0.03695056 0.04719263 ... 0.01208243 0.07209255 0.01941055]\n",
      "[0.00724002 0.05416115 0.02597765 ... 0.01479915 0.06128171 0.01047959]\n",
      "[0.01564027 0.02493737 0.03154948 ... 0.00720527 0.1300737  0.00502662]\n",
      "[0.00827038 0.03029623 0.06238967 ... 0.00835048 0.22121654 0.00490782]\n",
      "[0.00544935 0.00944012 0.03298503 ... 0.00905569 0.0306739  0.03075209]\n",
      "[0.0093791  0.01736717 0.02295111 ... 0.00463349 0.02274061 0.00276786]\n",
      "[0.01563496 0.06157555 0.01077948 ... 0.01781348 0.34196204 0.00506219]\n",
      "[0.00844781 0.00935261 0.00948143 ... 0.02981477 0.0413148  0.01606702]\n",
      "[0.00638534 0.0398141  0.03078122 ... 0.00968497 0.01719251 0.01788048]\n",
      "[0.00509338 0.00910361 0.0987597  ... 0.01757636 0.02095976 0.01192148]\n",
      "[0.00583582 0.02586656 0.06588914 ... 0.00883387 0.11898135 0.01491849]\n",
      "[0.00979091 0.00904007 0.02691534 ... 0.00183863 0.01757979 0.01081589]\n",
      "[0.01529041 0.02576925 0.09006312 ... 0.00923302 0.01437901 0.01356198]\n",
      "[0.02930254 0.04627503 0.07741949 ... 0.02512252 0.07902241 0.07108978]\n",
      "[0.01393596 0.02363139 0.01952893 ... 0.02040137 0.03844574 0.02873899]\n",
      "[0.0086737  0.03496973 0.0815696  ... 0.009977   0.01421346 0.00752068]\n",
      "[0.00753052 0.01601153 0.03502757 ... 0.01324406 0.04179057 0.00489377]\n",
      "[0.01651349 0.03076381 0.04222313 ... 0.02396352 0.03714177 0.00681614]\n",
      "[0.02711603 0.02423842 0.02655101 ... 0.01774006 0.52712625 0.01788368]\n",
      "[0.01790021 0.06741426 0.10524715 ... 0.01865949 0.05800601 0.0154706 ]\n",
      "[0.00510971 0.00936647 0.01523847 ... 0.019287   0.01828304 0.00145948]\n",
      "[0.00798469 0.00828096 0.02188931 ... 0.00903057 0.02154803 0.01473947]\n",
      "[0.07925402 0.00729915 0.01070623 ... 0.00519006 0.02863885 0.00788418]\n",
      "[0.01623625 0.03189536 0.04453098 ... 0.0067406  0.02100934 0.01176133]\n",
      "[0.00562252 0.09262301 0.02449279 ... 0.07843922 0.03274279 0.01047289]\n",
      "[0.03328538 0.10362606 0.05591011 ... 0.01563238 0.03947102 0.00290217]\n",
      "[0.01170859 0.03502606 0.05110568 ... 0.03605068 0.05552161 0.03033243]\n",
      "[0.02800814 0.06136011 0.2544571  ... 0.01973315 0.07196961 0.01356028]\n",
      "[0.00181678 0.00696735 0.03283179 ... 0.0074935  0.00352805 0.00536807]\n",
      "[0.00887305 0.01039614 0.02810314 ... 0.01640457 0.05428725 0.0029639 ]\n",
      "[0.01457784 0.02519935 0.02566693 ... 0.00832679 0.04469023 0.00674367]\n",
      "[0.01270209 0.02997762 0.02059061 ... 0.03982756 0.03265781 0.05235679]\n",
      "[0.00356272 0.00651024 0.00983715 ... 0.00033807 0.00609637 0.0262884 ]\n",
      "[0.01799776 0.02984085 0.07557479 ... 0.00782426 0.02559165 0.00578463]\n",
      "[0.01001264 0.02891404 0.08776946 ... 0.0393713  0.030434   0.01040505]\n",
      "[0.01451207 0.0169955  0.05490344 ... 0.00790997 0.10766274 0.0083577 ]\n",
      "[0.02031594 0.03028318 0.02464412 ... 0.00526981 0.01444637 0.00341383]\n",
      "[0.00505369 0.00721694 0.01377053 ... 0.04141271 0.03446494 0.00763532]\n",
      "[0.00896404 0.01354412 0.0139059  ... 0.13461454 0.409201   0.00152887]\n",
      "[0.00336482 0.03938768 0.03706579 ... 0.00297987 0.03666139 0.01515251]\n",
      "[0.00215825 0.00932636 0.0258391  ... 0.00368703 0.024837   0.07441758]\n",
      "[0.01152288 0.01912178 0.14530885 ... 0.01412342 0.05009431 0.0057322 ]\n",
      "[0.01503126 0.06595948 0.09278089 ... 0.01640694 0.05198266 0.01331504]\n",
      "[0.00287531 0.01718461 0.03339281 ... 0.00976464 0.01319259 0.007405  ]\n",
      "[0.00576814 0.01791893 0.04029192 ... 0.00687257 0.03676488 0.01907051]\n",
      "[0.04099049 0.06170918 0.08884311 ... 0.01961212 0.08507982 0.0189862 ]\n",
      "[0.00242266 0.01476198 0.02639693 ... 0.0039416  0.01664817 0.00030587]\n",
      "[0.00324932 0.00702068 0.02721502 ... 0.01194329 0.0198962  0.00666058]\n",
      "[0.00411412 0.08142738 0.04030162 ... 0.02029935 0.02783187 0.01171655]\n",
      "[0.00624793 0.03042786 0.02381971 ... 0.03653099 0.03515703 0.02343583]\n",
      "[0.01813517 0.02296388 0.02949455 ... 0.01080088 0.06656627 0.15957966]\n",
      "[0.00944604 0.00809071 0.00772591 ... 0.00634691 0.02298345 0.00124568]\n",
      "[0.00433579 0.01234707 0.10402082 ... 0.00315796 0.00822598 0.00150283]\n",
      "[0.04177855 0.01707217 0.03193547 ... 0.00930659 0.11495741 0.00760164]\n",
      "[0.01185832 0.04449546 0.01841432 ... 0.00142103 0.0311021  0.06138365]\n",
      "[0.03131289 0.05359636 0.14150272 ... 0.01893112 0.06853112 0.01386199]\n",
      "[0.02660711 0.03316964 0.049449   ... 0.04575862 0.5418004  0.01804174]\n",
      "[0.0137274  0.05338385 0.05697068 ... 0.02690246 0.04019725 0.02203488]\n",
      "[0.02828855 0.12814306 0.03453103 ... 0.0070801  0.02705813 0.00935076]\n",
      "[0.0084001  0.03343132 0.02128063 ... 0.01172095 0.02245362 0.00093433]\n",
      "[0.01172886 0.01459807 0.01310869 ... 0.00662691 0.01663483 0.01076406]\n",
      "[0.0234324  0.02957499 0.03377097 ... 0.01853603 0.0759839  0.02658827]\n",
      "[0.00647248 0.02947556 0.01156717 ... 0.00536023 0.01407216 0.011067  ]\n",
      "[0.00479344 0.0244888  0.01011683 ... 0.00942773 0.01607126 0.03600609]\n",
      "[0.00933192 0.03939018 0.13276462 ... 0.01169808 0.20390627 0.00905695]\n",
      "[0.01878105 0.04344752 0.03695861 ... 0.11816788 0.03148205 0.00714731]\n",
      "[0.04507333 0.00535843 0.00732805 ... 0.01006147 0.05143433 0.00508354]\n",
      "[0.00307391 0.00907718 0.01154872 ... 0.00386553 0.01566628 0.01111364]\n",
      "[0.00436727 0.01526852 0.07645756 ... 0.00124212 0.00652851 0.00290896]\n",
      "[0.009491   0.04222056 0.06912285 ... 0.16719733 0.03515657 0.02005288]\n",
      "[0.02441237 0.02080766 0.01427373 ... 0.0479996  0.21684547 0.00089802]\n",
      "[0.00799159 0.02488836 0.01874216 ... 0.00506907 0.05391962 0.44572657]\n",
      "[0.00428766 0.01970459 0.01729698 ... 0.02314009 0.02618724 0.00059815]\n",
      "[0.01121815 0.00611757 0.0317152  ... 0.01152841 0.02897612 0.11270106]\n",
      "[0.04138061 0.02167447 0.12843132 ... 0.00841251 0.01896935 0.0125495 ]\n",
      "[0.01701722 0.01972    0.01734199 ... 0.01698203 0.01711179 0.01038207]\n",
      "[0.04471562 0.05746869 0.04917639 ... 0.0186085  0.07063586 0.01921692]\n",
      "[0.00485781 0.06532156 0.31517062 ... 0.00730418 0.05452211 0.01252345]\n",
      "[0.01306763 0.05510091 0.03656274 ... 0.01181331 0.09640626 0.11636004]\n",
      "[0.01543282 0.01341587 0.01447117 ... 0.01524046 0.3221186  0.0299866 ]\n",
      "[0.02794799 0.00571254 0.00916582 ... 0.00386984 0.02781387 0.00986698]\n",
      "[0.01444516 0.02310103 0.02738195 ... 0.00325272 0.04039478 0.00737383]\n",
      "[0.01528575 0.02549146 0.0177773  ... 0.00801896 0.09459145 0.00171606]\n",
      "[0.00801245 0.03533554 0.01173223 ... 0.00205331 0.03600122 0.00144274]\n",
      "[0.00626688 0.04178268 0.04055768 ... 0.00703578 0.02104646 0.00754286]\n",
      "[0.0260118  0.02781859 0.19594932 ... 0.00495577 0.0405981  0.02198957]\n",
      "[0.00796303 0.00689975 0.01881848 ... 0.00234092 0.00668308 0.00201296]\n",
      "[0.00192315 0.02448879 0.01555382 ... 0.01168191 0.01936136 0.00510701]\n",
      "[0.00942717 0.00938777 0.01467368 ... 0.04400664 0.03937592 0.00963297]\n",
      "[0.03461166 0.04469295 0.05989869 ... 0.00958013 0.04223935 0.01202456]\n",
      "[0.00567183 0.00725219 0.02429228 ... 0.01786729 0.01328791 0.00726143]\n",
      "[0.00171318 0.00936222 0.01222024 ... 0.00227927 0.02306698 0.00763732]\n",
      "[0.0101102  0.03488299 0.11378211 ... 0.00641667 0.02913001 0.01382288]\n",
      "[0.00799596 0.01173302 0.02290918 ... 0.01149702 0.03086588 0.00538146]\n",
      "[0.01161214 0.02507209 0.01697828 ... 0.00836398 0.01249605 0.00475282]\n",
      "[0.02832638 0.05359073 0.23592465 ... 0.01240171 0.03138774 0.01358131]\n",
      "[0.0084474  0.03963156 0.24280539 ... 0.01477551 0.06205345 0.01814263]\n",
      "[0.00139768 0.01469667 0.00833359 ... 0.00261225 0.0307775  0.0081441 ]\n",
      "[0.02012158 0.01173036 0.03566561 ... 0.01375486 0.0935868  0.00337396]\n",
      "[0.0104978  0.01538726 0.0137981  ... 0.00618151 0.00824319 0.00079353]\n",
      "[0.03772536 0.0239091  0.02817304 ... 0.03864693 0.0794533  0.00432836]\n",
      "[0.01554458 0.0343518  0.02862921 ... 0.00912477 0.03321584 0.01525809]\n",
      "[0.00646115 0.0099111  0.07492518 ... 0.05349239 0.01342868 0.00873615]\n",
      "[0.01025589 0.02363864 0.20678386 ... 0.00418005 0.02450235 0.00602183]\n",
      "[0.03873106 0.00368544 0.02305076 ... 0.00505295 0.03214471 0.01247218]\n",
      "[0.01986956 0.06601314 0.24398363 ... 0.01881    0.06789684 0.01729941]\n",
      "[0.00120155 0.01069113 0.03593177 ... 0.0128015  0.10653169 0.08280714]\n",
      "[0.01248621 0.02983413 0.0355227  ... 0.04867608 0.02736298 0.01171212]\n",
      "[0.00862245 0.0193224  0.06590666 ... 0.01211531 0.0330501  0.01163063]\n",
      "[0.0044942  0.00439757 0.00902968 ... 0.00215583 0.00991173 0.00013031]\n",
      "[0.00873887 0.03646144 0.0163687  ... 0.00583666 0.02133361 0.00813381]\n",
      "[0.0049228  0.02018576 0.01927531 ... 0.01449007 0.01655841 0.00235703]\n",
      "[0.00750666 0.00552507 0.0195037  ... 0.00225902 0.00624201 0.00107008]\n",
      "[0.02649836 0.03505733 0.29148525 ... 0.00877685 0.04461584 0.03012428]\n",
      "[0.01931339 0.05238869 0.08014037 ... 0.00790567 0.02641742 0.01644201]\n",
      "[0.01392814 0.02787546 0.07160512 ... 0.01217598 0.06582635 0.03380782]\n",
      "[0.0098592  0.0135106  0.01343356 ... 0.00565851 0.01384567 0.00094889]\n",
      "[0.00987207 0.01990426 0.02818853 ... 0.00863594 0.02799356 0.00637551]\n",
      "[0.00575911 0.03160927 0.02023869 ... 0.00824221 0.02557459 0.00354507]\n",
      "[0.00748734 0.01971262 0.01642812 ... 0.06565139 0.10795122 0.02178828]\n",
      "[0.01832384 0.0673162  0.11991093 ... 0.01402519 0.06586624 0.01490055]\n",
      "[0.0101127  0.03703794 0.03480642 ... 0.01126979 0.03500067 0.00569798]\n",
      "[0.02310731 0.0069313  0.02289535 ... 0.00471812 0.01882023 0.00868048]\n",
      "[0.00850099 0.01300511 0.03172253 ... 0.01399466 0.14192617 0.0018982 ]\n",
      "[0.00491808 0.00901709 0.02313014 ... 0.00983223 0.05486111 0.00276976]\n",
      "[0.02144796 0.0194952  0.03552572 ... 0.02888072 0.03901498 0.0118431 ]\n",
      "[0.0053437  0.02231497 0.02727243 ... 0.01173344 0.01656544 0.01132064]\n",
      "[0.02380761 0.06528106 0.02162391 ... 0.00977122 0.0605131  0.00876666]\n",
      "[0.00558893 0.0184521  0.03262029 ... 0.02107188 0.10234857 0.11310884]\n",
      "[0.01747025 0.0359896  0.03196727 ... 0.00778215 0.07308913 0.01888097]\n",
      "[0.01133284 0.01032711 0.01713636 ... 0.07133722 0.05202637 0.03611811]\n",
      "[0.01816742 0.06838879 0.10478625 ... 0.01890346 0.05612918 0.01392705]\n",
      "[0.00466932 0.00356319 0.00612699 ... 0.00288496 0.02288366 0.05647576]\n",
      "[0.01969223 0.0142254  0.02747033 ... 0.13574915 0.2642924  0.00344601]\n",
      "[0.03436527 0.05466129 0.17560212 ... 0.0199456  0.07065757 0.0147043 ]\n",
      "[0.02885973 0.034647   0.04381535 ... 0.11041682 0.4507123  0.0096184 ]\n",
      "[0.03157823 0.03688916 0.03281669 ... 0.01677029 0.06354891 0.01640664]\n",
      "[0.00064239 0.00399705 0.02327934 ... 0.00542147 0.01005075 0.00466097]\n",
      "[0.04151642 0.0646694  0.10611456 ... 0.0351675  0.09731395 0.01774509]\n",
      "[0.01682708 0.00978763 0.03059479 ... 0.00139026 0.01727362 0.0085892 ]\n",
      "[0.02316443 0.02292697 0.02757222 ... 0.01582604 0.05949425 0.01498144]\n",
      "[0.00332418 0.01223678 0.01700628 ... 0.02433462 0.0129103  0.00743857]\n",
      "[0.00543323 0.01689388 0.01360078 ... 0.00593984 0.02019549 0.00396605]\n",
      "[0.01697902 0.02075964 0.03460478 ... 0.08771259 0.03085834 0.00873723]\n",
      "[0.02178504 0.02051239 0.02509797 ... 0.01470965 0.02494813 0.01284618]\n",
      "[0.00447749 0.02715334 0.08512931 ... 0.00648613 0.00953498 0.01192358]\n",
      "[0.00545866 0.00737705 0.01394016 ... 0.00928143 0.01080037 0.0030387 ]\n",
      "[0.00152621 0.01704158 0.01225245 ... 0.00012693 0.01438262 0.00476429]\n",
      "[0.00344972 0.00499923 0.00551783 ... 0.01940178 0.00471202 0.07181159]\n",
      "[0.01192946 0.02947479 0.04236985 ... 0.01592475 0.02778494 0.01980375]\n",
      "[0.01792645 0.06910774 0.11508945 ... 0.020204   0.06207    0.01538153]\n",
      "[0.01590758 0.01537431 0.02863701 ... 0.00353635 0.11760003 0.00647505]\n",
      "[0.01716858 0.06664857 0.07394666 ... 0.01867479 0.04718377 0.005655  ]\n",
      "[0.02996057 0.04002026 0.01627306 ... 0.02102904 0.03471481 0.01101447]\n",
      "[0.00629537 0.00360304 0.01261097 ... 0.00824045 0.02354046 0.00869666]\n",
      "[0.00438156 0.01613114 0.02356129 ... 0.00441113 0.02057671 0.01728109]\n",
      "[0.0014483  0.02399147 0.0272092  ... 0.01091305 0.03349086 0.0058502 ]\n",
      "[0.00644905 0.23370719 0.01767476 ... 0.00353042 0.01745716 0.0022476 ]\n",
      "[0.01776982 0.03199605 0.07023308 ... 0.0097102  0.11438187 0.03125896]\n",
      "[0.01933754 0.06791586 0.10145552 ... 0.01792207 0.06531251 0.01402044]\n",
      "[0.01118231 0.01093475 0.02025538 ... 0.00776534 0.02319665 0.01187758]\n",
      "[0.00768659 0.00754504 0.0222124  ... 0.02610595 0.05900194 0.08728655]\n",
      "[0.01537682 0.04161243 0.05410662 ... 0.03571719 0.05422238 0.0073976 ]\n",
      "[0.01759311 0.03045764 0.05903625 ... 0.01612993 0.07350956 0.01207621]\n",
      "[0.02543651 0.04735551 0.02814307 ... 0.02620157 0.08219228 0.04011556]\n",
      "[0.00541016 0.00946567 0.01539541 ... 0.01204986 0.03891447 0.05403489]\n",
      "[0.04084713 0.06865156 0.12425263 ... 0.02513126 0.09541693 0.01974816]\n",
      "[0.01040075 0.03893935 0.01766685 ... 0.01220408 0.01294342 0.04141275]\n",
      "[0.01606673 0.03066627 0.18961632 ... 0.01434302 0.06702028 0.00616484]\n",
      "[0.01038855 0.05130379 0.02516085 ... 0.02167504 0.029783   0.00557622]\n",
      "[0.00117014 0.00031719 0.00109694 ... 0.00286507 0.00255235 0.00065613]\n",
      "[0.05555296 0.08641423 0.0555127  ... 0.01383053 0.02721086 0.04597314]\n",
      "[0.00777774 0.02330991 0.02019314 ... 0.00490212 0.0162004  0.00244215]\n",
      "[0.00570185 0.00467141 0.05483225 ... 0.02062894 0.03028298 0.02016829]\n",
      "[0.01635569 0.0408565  0.06064943 ... 0.0273146  0.04837216 0.0146327 ]\n",
      "[0.00973518 0.01189283 0.01702332 ... 0.00942998 0.01540979 0.02959051]\n",
      "[0.02525498 0.01757692 0.04156335 ... 0.02114611 0.0588396  0.03975133]\n",
      "[0.03996084 0.06879955 0.11777612 ... 0.0252148  0.09246479 0.02001886]\n",
      "[0.00974832 0.01183983 0.02097037 ... 0.01117701 0.02790965 0.00393632]\n",
      "[0.02479585 0.00033802 0.00259338 ... 0.00286439 0.03122207 0.        ]\n",
      "[0.00308485 0.01460324 0.03417004 ... 0.01285676 0.02263388 0.00817386]\n",
      "[0.03869793 0.22134234 0.03979319 ... 0.03262182 0.03706799 0.03012168]\n",
      "[0.02914732 0.02970983 0.02865629 ... 0.01161011 0.05610256 0.0065472 ]\n",
      "[0.00336435 0.00675291 0.0089739  ... 0.01561984 0.01460905 0.00246881]\n",
      "[0.00570871 0.00490101 0.05138931 ... 0.02560829 0.03887308 0.01906088]\n",
      "[0.01174169 0.02648437 0.02442926 ... 0.00224559 0.01315143 0.00180142]\n",
      "[0.01675854 0.03265196 0.02155543 ... 0.01228275 0.01303617 0.0002771 ]\n",
      "[0.00125753 0.00863551 0.01752209 ... 0.00166466 0.0080194  0.00251101]\n",
      "[0.0194387  0.01453834 0.02507237 ... 0.01762596 0.03221043 0.0241735 ]\n",
      "[0.01293263 0.01004164 0.02283737 ... 0.00724653 0.02125518 0.00287041]\n",
      "[0.00472291 0.00861968 0.01266567 ... 0.0152121  0.01988455 0.0014493 ]\n",
      "[0.00578305 0.02160729 0.0109951  ... 0.01320374 0.02282802 0.0007515 ]\n",
      "[0.02760279 0.02124831 0.0513539  ... 0.02299977 0.20536885 0.00528322]\n",
      "[0.01688062 0.06468196 0.09668046 ... 0.02427494 0.05872139 0.01533806]\n",
      "[0.0009771  0.02323172 0.01088178 ... 0.09332915 0.01256032 0.0003724 ]\n",
      "[0.02141176 0.03693296 0.01807847 ... 0.00339107 0.04327919 0.02648298]\n",
      "[0.0133257  0.02500042 0.02952495 ... 0.0084952  0.03305016 0.00865624]\n",
      "[0.00674049 0.01733179 0.02565688 ... 0.00590801 0.0153518  0.01519602]\n",
      "[0.00613259 0.01509366 0.01293529 ... 0.00880808 0.03055208 0.00161995]\n",
      "[0.01752821 0.07930298 0.19196112 ... 0.01553714 0.0563356  0.02404816]\n",
      "[0.02464663 0.03415131 0.08718455 ... 0.01187985 0.03656289 0.01243483]\n",
      "[0.00602674 0.06740469 0.01458607 ... 0.0078354  0.01156097 0.00747093]\n",
      "[0.01382461 0.01037622 0.02782707 ... 0.01145998 0.07334134 0.00048404]\n",
      "[0.01052458 0.01845796 0.02359203 ... 0.00512442 0.01404386 0.00531531]\n",
      "[0.00604458 0.01437208 0.0429434  ... 0.00512998 0.03627305 0.00690116]\n",
      "[0.01911315 0.02798305 0.0375098  ... 0.15000165 0.02521886 0.00217999]\n",
      "[0.00675428 0.00704646 0.05496188 ... 0.00662502 0.3159179  0.01146264]\n",
      "[0.00654624 0.00753349 0.01337675 ... 0.00388751 0.02415904 0.00022052]\n",
      "[0.00605128 0.01201542 0.01887164 ... 0.00341639 0.00901575 0.00471586]\n",
      "[0.00927581 0.02405408 0.03088854 ... 0.01957569 0.03265668 0.00154516]\n",
      "[0.00922668 0.03055657 0.02970849 ... 0.0104781  0.05994981 0.00166761]\n",
      "[0.00486706 0.04143889 0.02175461 ... 0.01262132 0.29452294 0.00670631]\n",
      "[0.00603114 0.03350748 0.1368194  ... 0.02140692 0.02722936 0.0189409 ]\n",
      "[0.         0.         0.07234395 ... 0.         0.02335669 0.        ]\n",
      "[0.00371979 0.01531392 0.02387583 ... 0.04306363 0.03077975 0.45423275]\n",
      "[0.00513405 0.0346324  0.11567139 ... 0.01421988 0.02219173 0.01041136]\n",
      "[0.00803048 0.00607234 0.01967006 ... 0.03619184 0.03302598 0.00184327]\n",
      "[0.02026097 0.02677398 0.03017845 ... 0.00481287 0.05234322 0.00052589]\n",
      "[0.01213814 0.03949388 0.03138752 ... 0.01272523 0.02363516 0.00765402]\n",
      "[0.00972531 0.03584494 0.22807662 ... 0.01095691 0.03400642 0.00691454]\n",
      "[0.03273134 0.05782806 0.12315711 ... 0.02390097 0.05968674 0.01509923]\n",
      "[0.00382285 0.01916531 0.00956026 ... 0.00303362 0.01444128 0.011535  ]\n",
      "[0.00267452 0.01123531 0.0212744  ... 0.00096634 0.0111264  0.00855816]\n",
      "[0.01401227 0.0484303  0.06986988 ... 0.01856804 0.03232862 0.0106131 ]\n",
      "[0.00574703 0.05397344 0.03836164 ... 0.0362601  0.03511487 0.00429147]\n",
      "[0.02034998 0.02839349 0.0330594  ... 0.03527311 0.03566932 0.00631349]\n",
      "[0.02484208 0.06041084 0.40852708 ... 0.02748499 0.06117931 0.01727941]\n",
      "[0.00115959 0.02173186 0.17243591 ... 0.00636882 0.00894222 0.016406  ]\n",
      "[0.0062515  0.01145946 0.0186436  ... 0.02359679 0.03148204 0.00178561]\n",
      "[0.01380144 0.02188062 0.01947686 ... 0.0076887  0.04116618 0.00976176]\n",
      "[0.00511183 0.00993885 0.06259779 ... 0.02009201 0.02861974 0.00899907]\n",
      "[0.00687102 0.01066866 0.02126245 ... 0.00278077 0.00824771 0.00483567]\n",
      "[0.00781287 0.01144608 0.05578552 ... 0.00427303 0.05221047 0.00599397]\n",
      "[0.00612137 0.02050254 0.02613328 ... 0.00606296 0.02518412 0.0132043 ]\n",
      "[0.00868091 0.00475636 0.02285432 ... 0.01848446 0.04443327 0.01988335]\n",
      "[0.03963717 0.06655928 0.11704183 ... 0.03497773 0.09342632 0.01859698]\n",
      "[0.00499749 0.04254936 0.02233758 ... 0.01295954 0.31534773 0.00688602]\n",
      "[0.02628152 0.02346329 0.03297684 ... 0.01703909 0.08249582 0.12404168]\n",
      "[0.01865366 0.02731032 0.03660804 ... 0.14639552 0.02461259 0.00212758]\n",
      "[0.02717292 0.03900471 0.25539866 ... 0.01464324 0.04848471 0.02077927]\n",
      "[0.0199457  0.06566886 0.10303392 ... 0.02321421 0.06560866 0.02028587]\n",
      "[0.01309588 0.05907179 0.01590131 ... 0.0068395  0.03336965 0.01769735]\n",
      "[0.00588124 0.00850475 0.03557066 ... 0.00318029 0.01347295 0.05828043]\n",
      "[0.00198435 0.00412782 0.00622399 ... 0.00257356 0.00608494 0.00339084]\n",
      "[0.01652055 0.01793228 0.03238127 ... 0.08823161 0.03043726 0.00879471]\n",
      "[0.00462217 0.02030797 0.01774422 ... 0.00747597 0.03824245 0.00911325]\n",
      "[0.00894701 0.01176395 0.01078604 ... 0.02230956 0.013454   0.01266777]\n",
      "[0.009303   0.02370569 0.0360505  ... 0.06986091 0.06480344 0.01090959]\n",
      "[0.02199396 0.02838333 0.03324023 ... 0.02306658 0.12437329 0.04084743]\n",
      "[0.00602479 0.01757322 0.03859855 ... 0.07727152 0.06907244 0.0028324 ]\n",
      "[0.00494487 0.02728725 0.03337691 ... 0.00255107 0.0150156  0.00610125]\n",
      "[0.01504512 0.03774524 0.07401496 ... 0.00526275 0.01982368 0.01075626]\n",
      "[0.0153019  0.06788933 0.08294482 ... 0.11471366 0.02445338 0.02248845]\n",
      "[0.01696542 0.01964983 0.01526699 ... 0.00824406 0.08901276 0.01845804]\n",
      "[0.00095232 0.01206616 0.14347415 ... 0.01482365 0.01736171 0.00188659]\n",
      "[0.00628727 0.01822636 0.02953379 ... 0.00837702 0.04730451 0.00383835]\n",
      "[0.00250425 0.00981188 0.0167197  ... 0.01475285 0.03742272 0.00319471]\n",
      "[0.01043584 0.02268968 0.01469617 ... 0.0397417  0.01206534 0.0085253 ]\n",
      "[0.00704132 0.02373535 0.0709849  ... 0.00864035 0.01804084 0.00508018]\n",
      "[0.0069997  0.00841088 0.00986494 ... 0.01473518 0.02326771 0.00775885]\n",
      "[0.03951489 0.02474687 0.06686945 ... 0.05192596 0.09335601 0.00179926]\n",
      "[0.01040396 0.0100894  0.01247548 ... 0.05479465 0.0198603  0.01597314]\n",
      "[0.00355737 0.0178236  0.0746496  ... 0.00554196 0.01819769 0.00284224]\n",
      "[0.00477673 0.00444546 0.03684402 ... 0.03173197 0.03041544 0.00862673]\n",
      "[0.03217426 0.05064764 0.17129675 ... 0.01700796 0.06517127 0.01335273]\n",
      "[0.00158947 0.00484484 0.00647039 ... 0.01358998 0.00578416 0.00223631]\n",
      "[0.00908976 0.01621153 0.04681184 ... 0.00513087 0.01103427 0.00554416]\n",
      "[0.00158196 0.00385017 0.00986068 ... 0.00561699 0.01816276 0.00018792]\n",
      "[0.00135704 0.00947512 0.00806528 ... 0.00624213 0.00775425 0.0207604 ]\n",
      "[0.0109399  0.03476132 0.05833511 ... 0.01132185 0.02715351 0.01074366]\n",
      "[0.01819317 0.0189212  0.0203291  ... 0.02051152 0.03323274 0.02967425]\n",
      "[0.03470119 0.05503741 0.141254   ... 0.01981199 0.0691184  0.01381773]\n",
      "[0.00904105 0.03468815 0.01999942 ... 0.0317888  0.1804135  0.00632824]\n",
      "[0.00833345 0.0110641  0.02474247 ... 0.01235026 0.06555437 0.00722424]\n",
      "[0.03940902 0.0451361  0.2481624  ... 0.00360832 0.07705426 0.00987122]\n",
      "[0.00771408 0.01311568 0.0194638  ... 0.00331059 0.01195785 0.00975813]\n",
      "[0.00383963 0.01562992 0.03744752 ... 0.0216346  0.00988759 0.00032366]\n",
      "[0.00402335 0.02348961 0.03392461 ... 0.02201878 0.01681068 0.0075549 ]\n",
      "[0.00445299 0.01367529 0.02446775 ... 0.01339372 0.01802697 0.07203201]\n",
      "[0.01630642 0.01749097 0.0239413  ... 0.0281973  0.11439853 0.01131372]\n",
      "[0.02293723 0.0131884  0.05898497 ... 0.03829977 0.04984237 0.02216275]\n",
      "[0.00194942 0.01041734 0.02055414 ... 0.00615963 0.03718649 0.01274014]\n",
      "[0.00049502 0.00037985 0.00106867 ... 0.00248625 0.02132504 0.02421347]\n",
      "[0.00581471 0.03877024 0.01972899 ... 0.01161826 0.26496938 0.00615055]\n",
      "[0.01472548 0.00825737 0.02243163 ... 0.00376549 0.01553211 0.00274925]\n",
      "[0.00314231 0.00406637 0.00736258 ... 0.00889776 0.01365631 0.03577701]\n",
      "[0.00375538 0.02476005 0.0331732  ... 0.00282768 0.00946759 0.00030436]\n",
      "[0.00665237 0.01766407 0.02773426 ... 0.00912162 0.02591788 0.03924762]\n",
      "[0.01966478 0.06254896 0.02332418 ... 0.1777086  0.05552706 0.01825702]\n",
      "[0.00780036 0.00837948 0.01885651 ... 0.01515883 0.03067316 0.02245854]\n",
      "[0.01375204 0.01911557 0.03273273 ... 0.06927242 0.02146775 0.00320718]\n",
      "[0.00419587 0.04019456 0.04505213 ... 0.010366   0.03569672 0.01660602]\n",
      "[0.00688209 0.01730027 0.02949672 ... 0.02475591 0.02100945 0.0041302 ]\n",
      "[0.00593756 0.03920554 0.0081364  ... 0.00951494 0.22305778 0.00417849]\n",
      "[0.01493707 0.04915143 0.0798099  ... 0.01060509 0.04616103 0.0104801 ]\n",
      "[0.00592948 0.04656409 0.20405528 ... 0.00997789 0.03333778 0.00681002]\n",
      "[0.00481936 0.01743289 0.03245906 ... 0.00336988 0.00632676 0.00228642]\n",
      "[0.01296788 0.01641942 0.02028173 ... 0.02792214 0.24184233 0.00699101]\n",
      "[0.00227706 0.00367496 0.00476193 ... 0.00026942 0.00293253 0.01283802]\n",
      "[0.00590588 0.00344162 0.01209087 ... 0.00269596 0.02074353 0.00480806]\n",
      "[0.00789162 0.03843414 0.01910374 ... 0.00797925 0.01951914 0.00137401]\n",
      "[0.0365106  0.03679947 0.05637485 ... 0.02204921 0.06654838 0.0040496 ]\n",
      "[0.04316049 0.0025625  0.00817074 ... 0.01177521 0.05313385 0.00593951]\n",
      "[0.00899629 0.00883063 0.02599712 ... 0.03224896 0.06503068 0.10215909]\n",
      "[0.01240167 0.02444199 0.04624192 ... 0.00459289 0.0104034  0.00164355]\n",
      "[0.00287733 0.02369665 0.01368364 ... 0.00311781 0.01517153 0.00130673]\n",
      "[0.02161936 0.0262358  0.0359625  ... 0.01042921 0.02700495 0.0022853 ]\n",
      "[0.0009573  0.03350585 0.01585313 ... 0.00201983 0.00729309 0.00525608]\n",
      "[0.03571007 0.04253797 0.05584968 ... 0.01400159 0.071155   0.01628463]\n",
      "[0.00751538 0.01162712 0.01406854 ... 0.00866138 0.10257328 0.02027696]\n",
      "[0.00925187 0.016225   0.01544619 ... 0.00515298 0.01596904 0.01524991]\n",
      "[0.02277139 0.07390387 0.04180983 ... 0.01064725 0.04310782 0.02091473]\n",
      "[0.00515413 0.00751089 0.00322475 ... 0.00297895 0.0025378  0.00049246]\n",
      "[0.00459139 0.1696143  0.04138746 ... 0.02990434 0.03690857 0.00723096]\n",
      "[0.03063516 0.0548822  0.06211089 ... 0.02424774 0.07724524 0.04438897]\n",
      "[0.00417871 0.02847563 0.01429311 ... 0.00863794 0.0081339  0.00919242]\n",
      "[0.00757455 0.02046934 0.01277106 ... 0.00393362 0.092919   0.00051765]\n",
      "[0.04064848 0.06737788 0.11810693 ... 0.03802842 0.09439646 0.02244799]\n",
      "[0.00372564 0.00974265 0.01873843 ... 0.03997598 0.02871714 0.01876522]\n",
      "[0.0113619  0.01997963 0.01131703 ... 0.00329729 0.01236951 0.00307334]\n",
      "[0.01078839 0.03866602 0.02154201 ... 0.01115287 0.25393206 0.00681743]\n",
      "[0.00680449 0.04325488 0.06880105 ... 0.01260155 0.02386004 0.01310923]\n",
      "[0.01788631 0.03796048 0.06639594 ... 0.01686644 0.04052399 0.02318842]\n",
      "[0.00925726 0.01460169 0.05935894 ... 0.0060281  0.01743344 0.00242704]\n",
      "[0.01501095 0.00896174 0.05709215 ... 0.13974309 0.3713717  0.00134093]\n",
      "[0.00769883 0.02637023 0.0205865  ... 0.00472951 0.02737473 0.00564414]\n",
      "[0.01014091 0.01481574 0.01315106 ... 0.00128537 0.05391712 0.00201273]\n",
      "[0.00462564 0.02152149 0.02089297 ... 0.03223703 0.03169991 0.02390017]\n",
      "[0.00555594 0.03386558 0.02140618 ... 0.02621402 0.03405726 0.0037953 ]\n",
      "[0.01039358 0.01334015 0.04212582 ... 0.00340884 0.09158421 0.05430914]\n",
      "[0.03105145 0.06446383 0.22312196 ... 0.02134893 0.07411999 0.01495194]\n",
      "[0.00546077 0.01149132 0.01767832 ... 0.00155169 0.05355316 0.00710352]\n",
      "[0.01013164 0.00871633 0.01246711 ... 0.02483998 0.04041957 0.11150625]\n",
      "[0.00255664 0.03270911 0.03009385 ... 0.03929672 0.03015208 0.07022648]\n",
      "[0.01131244 0.01102503 0.01348821 ... 0.05949635 0.01481706 0.01746073]\n",
      "[0.01596058 0.28122872 0.06715508 ... 0.00652789 0.04116406 0.01142752]\n",
      "[0.01232785 0.00795565 0.0257076  ... 0.00552452 0.01670391 0.00805019]\n",
      "[0.02089381 0.02833563 0.04109007 ... 0.05445513 0.23117028 0.01903027]\n",
      "[0.00585711 0.021019   0.38247353 ... 0.00465364 0.07101381 0.01189845]\n",
      "[0.008472   0.02083844 0.05941056 ... 0.00152722 0.01481642 0.00426232]\n",
      "[0.00566927 0.02203126 0.1222483  ... 0.00203733 0.07561452 0.00613973]\n",
      "[0.00494251 0.01522692 0.03340478 ... 0.01044248 0.02386712 0.02354165]\n",
      "[0.01484656 0.03418433 0.02621993 ... 0.00460307 0.01945519 0.00618428]\n",
      "[0.01753365 0.06372847 0.39781442 ... 0.01716764 0.06636421 0.01705623]\n",
      "[0.00482378 0.00681022 0.02202633 ... 0.01533904 0.04858051 0.00254011]\n",
      "[0.00649776 0.0256426  0.01706177 ... 0.00150998 0.00569992 0.03504241]\n",
      "[0.00822008 0.02971142 0.03767897 ... 0.01366805 0.02199397 0.01343557]\n",
      "[0.00649513 0.01337489 0.00966506 ... 0.00419166 0.00930557 0.02798221]\n",
      "[0.00862664 0.03361724 0.03315111 ... 0.00593585 0.02928718 0.01137014]\n",
      "[0.00169941 0.00796389 0.00907798 ... 0.05665657 0.06132738 0.00211947]\n",
      "[0.00691294 0.06197951 0.23197505 ... 0.00707754 0.02809579 0.00881992]\n",
      "[0.01024233 0.01811236 0.02035003 ... 0.02375456 0.03130452 0.02142076]\n",
      "[0.00344182 0.00912741 0.01225281 ... 0.04008135 0.02693767 0.00993769]\n",
      "[0.01026336 0.01208412 0.0305606  ... 0.00781995 0.0688695  0.06481124]\n",
      "[0.0015771  0.01829199 0.10753269 ... 0.0028496  0.03951562 0.00637114]\n",
      "[0.00605876 0.00743368 0.01100884 ... 0.00016976 0.00811392 0.00163224]\n",
      "[0.0119549  0.01731768 0.02857022 ... 0.00488464 0.02843368 0.0077481 ]\n",
      "[0.00276872 0.00648912 0.02176052 ... 0.00856644 0.02495299 0.06429171]\n",
      "[0.00970421 0.01977088 0.02992468 ... 0.00452901 0.04541323 0.00135583]\n",
      "[0.00470567 0.02046191 0.01937226 ... 0.013018   0.0140968  0.0323513 ]\n",
      "[0.00137159 0.00366416 0.0051411  ... 0.00184391 0.01060762 0.00477495]\n",
      "[0.01904277 0.06937646 0.10010312 ... 0.02284224 0.05907419 0.02718303]\n",
      "[0.00498195 0.02014461 0.02319045 ... 0.00805473 0.01298837 0.00435515]\n",
      "[0.00154499 0.01274075 0.01786674 ... 0.00513932 0.01929706 0.00828704]\n",
      "[0.         0.         0.1059449  ... 0.         0.00492693 0.        ]\n",
      "[0.0372996  0.02424647 0.02595527 ... 0.01119397 0.09090428 0.00508045]\n",
      "[0.00144709 0.00778287 0.00937417 ... 0.058911   0.06476943 0.00180478]\n",
      "[0.01968018 0.03671848 0.0173219  ... 0.01010334 0.02847102 0.00518392]\n",
      "[0.00270641 0.00494549 0.01835766 ... 0.00025681 0.00335345 0.01996994]\n",
      "[0.01353198 0.04708035 0.27778172 ... 0.00747315 0.02401461 0.01029749]\n",
      "[0.00538644 0.03448291 0.10209411 ... 0.00805971 0.02071678 0.00450471]\n",
      "[0.02022137 0.05325224 0.0731644  ... 0.05468109 0.0692004  0.03253276]\n",
      "[0.00345136 0.03108035 0.03037791 ... 0.01025296 0.01311208 0.00563867]\n",
      "[0.00480905 0.02115778 0.08985481 ... 0.00734792 0.01395041 0.00835274]\n",
      "[0.00061404 0.00917589 0.01381413 ... 0.00240222 0.00529436 0.00101819]\n",
      "[0.01041445 0.01323293 0.01671441 ... 0.0086887  0.02796587 0.01481345]\n",
      "[0.00741926 0.01404718 0.01842219 ... 0.00672511 0.03046824 0.00199284]\n",
      "[0.00579748 0.00623047 0.03793216 ... 0.00323451 0.08546253 0.00334259]\n",
      "[0.0111108  0.01607524 0.02702811 ... 0.00365295 0.02757914 0.00655092]\n",
      "[0.04432435 0.05813766 0.08404527 ... 0.02790285 0.0353534  0.03483152]\n",
      "[0.00783294 0.00866064 0.02921553 ... 0.02416068 0.03176099 0.0036934 ]\n",
      "[0.00912576 0.0270009  0.01167123 ... 0.00042916 0.00405969 0.00061261]\n",
      "[0.00254185 0.00229351 0.02080716 ... 0.00432262 0.01593642 0.01162449]\n",
      "[0.0105748  0.03562854 0.03141421 ... 0.0046916  0.02595622 0.00285037]\n",
      "[0.00281473 0.00520366 0.02065315 ... 0.28669778 0.06167808 0.37174916]\n",
      "[0.01087234 0.03852471 0.05595766 ... 0.01693255 0.03426673 0.01218946]\n",
      "[0.02950346 0.03886675 0.04804935 ... 0.11338256 0.47778898 0.01211646]\n",
      "[0.01552249 0.02195222 0.01648098 ... 0.00723617 0.03221313 0.00403199]\n",
      "[0.02238854 0.0504005  0.22579557 ... 0.01016018 0.07354432 0.03745391]\n",
      "[0.00517545 0.03746025 0.01369487 ... 0.0090943  0.06403864 0.01119716]\n",
      "[0.00192919 0.00706749 0.03593281 ... 0.0098008  0.08320144 0.00313105]\n",
      "[0.00242403 0.01923119 0.01415755 ... 0.00407675 0.02402947 0.00466434]\n",
      "[0.00647442 0.02254963 0.01581739 ... 0.01077548 0.01170885 0.00709089]\n",
      "[0.00151482 0.01961304 0.02607914 ... 0.00905341 0.01813823 0.05106571]\n",
      "[0.00282797 0.06602333 0.16909203 ... 0.00546483 0.01613076 0.00444828]\n",
      "[0.00582567 0.03172716 0.17145798 ... 0.00657181 0.0336582  0.00964295]\n",
      "[0.04038374 0.06154875 0.09521596 ... 0.02048969 0.08510879 0.03054711]\n",
      "[0.0002187  0.01010119 0.01144361 ... 0.00241555 0.00694212 0.00892431]\n",
      "[0.00102946 0.00046356 0.00075873 ... 0.00545297 0.02099269 0.00057747]\n",
      "[0.01021191 0.00556959 0.08817309 ... 0.00361686 0.00632595 0.00071929]\n",
      "[0.01917054 0.02051829 0.02785585 ... 0.0397137  0.04056468 0.04368253]\n",
      "[0.01046966 0.02318408 0.02330142 ... 0.00863336 0.04257209 0.03910203]\n",
      "[0.01241496 0.03895422 0.02848043 ... 0.01465778 0.01483103 0.00459481]\n",
      "[0.0204987  0.07463348 0.15322717 ... 0.01875766 0.07284627 0.01480492]\n",
      "[0.01808494 0.06515625 0.09200517 ... 0.0172998  0.05640427 0.01650156]\n",
      "[0.01346959 0.04154978 0.11107223 ... 0.01847488 0.0223073  0.00608924]\n",
      "[0.01928612 0.00295526 0.00812504 ... 0.00360364 0.05000114 0.00523603]\n",
      "[0.01153808 0.09434287 0.0157951  ... 0.0392683  0.04155936 0.00324426]\n",
      "[0.01142589 0.00646647 0.01182615 ... 0.00910736 0.01894809 0.06778824]\n",
      "[0.00168802 0.00314128 0.00419956 ... 0.01116945 0.0073857  0.0086902 ]\n",
      "[0.0084967  0.00729131 0.01000263 ... 0.00232722 0.01740278 0.01135697]\n",
      "[0.00390032 0.02170462 0.06197215 ... 0.00619364 0.00887565 0.00296772]\n",
      "[0.00468829 0.00203879 0.00658291 ... 0.00382827 0.01452028 0.00053736]\n",
      "[0.03856924 0.06682143 0.11795715 ... 0.0260061  0.09715613 0.02517803]\n",
      "[0.01797566 0.05564477 0.0169469  ... 0.12384114 0.02789435 0.02049602]\n",
      "[0.0151286  0.04071705 0.0572737  ... 0.0086388  0.02287878 0.00660936]\n",
      "[0.01791272 0.08120206 0.19365846 ... 0.01583892 0.05742217 0.02565766]\n",
      "[0.01580146 0.0288196  0.10098262 ... 0.05561673 0.03359183 0.00421567]\n",
      "[0.05855748 0.09065969 0.05131716 ... 0.00919925 0.05126243 0.02524441]\n",
      "[0.00635544 0.01026633 0.01957053 ... 0.11792672 0.25388926 0.09301814]\n",
      "[0.0115015  0.04697913 0.29478788 ... 0.01462786 0.02791125 0.00602924]\n",
      "[0.01766297 0.04524427 0.08588676 ... 0.01818432 0.04377656 0.00135482]\n",
      "[0.00595941 0.01376128 0.02568125 ... 0.01094927 0.01053025 0.01276566]\n",
      "[0.0082906  0.02016284 0.01708801 ... 0.00903151 0.02122584 0.01203524]\n",
      "[0.00863319 0.03145219 0.02035728 ... 0.00476144 0.05812301 0.35091633]\n",
      "[0.00856187 0.08447005 0.02047613 ... 0.01069232 0.07306956 0.01744803]\n",
      "[0.01036029 0.0573552  0.04171433 ... 0.15813972 0.05236301 0.01033016]\n",
      "[0.0025979  0.02995387 0.10145605 ... 0.00630702 0.00784757 0.00238079]\n",
      "[0.00465845 0.0119055  0.01290973 ... 0.01075431 0.01290548 0.01563806]\n",
      "[0.00702378 0.01841849 0.0108313  ... 0.00674398 0.01078976 0.0077695 ]\n",
      "[0.01737776 0.0230641  0.01543515 ... 0.13532685 0.03633802 0.01676556]\n",
      "[0.00790102 0.02185937 0.02846357 ... 0.00901521 0.02754341 0.00864784]\n",
      "[0.00957593 0.00724916 0.01062925 ... 0.02091902 0.02930316 0.00485301]\n",
      "[0.00582156 0.03293428 0.06091932 ... 0.00319294 0.01882502 0.0026281 ]\n",
      "[0.00261694 0.0123293  0.01785214 ... 0.01454828 0.02806111 0.00375261]\n",
      "[0.04127162 0.06370933 0.09490086 ... 0.02165807 0.08897855 0.03168086]\n",
      "[0.00938113 0.01996072 0.01210078 ... 0.0074726  0.24393705 0.004431  ]\n",
      "[0.02280232 0.00690156 0.01888262 ... 0.00572288 0.01962163 0.00112248]\n",
      "[0.03841201 0.06147936 0.11953689 ... 0.0242098  0.08327124 0.03128819]\n",
      "[0.00348753 0.00637285 0.02365603 ... 0.00033093 0.00432132 0.02573364]\n",
      "[0.00392764 0.01601033 0.16352613 ... 0.00624783 0.01160188 0.0067872 ]\n",
      "[0.02239976 0.03984735 0.07702532 ... 0.05547092 0.0416192  0.02177764]\n",
      "[0.00716457 0.03629189 0.04816307 ... 0.00930944 0.02372919 0.00695009]\n",
      "[0.00477751 0.01260088 0.01586965 ... 0.00326505 0.02844168 0.00355744]\n",
      "[0.00334345 0.01092501 0.0074458  ... 0.         0.00081455 0.0052825 ]\n",
      "[0.08026443 0.02915628 0.04095339 ... 0.04787934 0.25946578 0.01301172]\n",
      "[0.00694479 0.01783661 0.02177222 ... 0.0229014  0.01889379 0.01693295]\n",
      "[0.01858879 0.07080766 0.10714305 ... 0.01801347 0.0744255  0.01441523]\n",
      "[0.01822771 0.06529368 0.10133946 ... 0.01422663 0.0946361  0.01537396]\n",
      "[0.01320252 0.0260451  0.02445663 ... 0.0046743  0.05001169 0.00779296]\n",
      "[0.01017745 0.0165207  0.01552552 ... 0.05864292 0.05455013 0.00145368]\n",
      "[0.01926676 0.04359068 0.04797408 ... 0.00924778 0.0385244  0.01196908]\n",
      "[0.01088675 0.02409345 0.08619629 ... 0.01729829 0.04445738 0.00514165]\n",
      "[0.01022336 0.04949235 0.03081149 ... 0.00883121 0.01760915 0.00221657]\n",
      "[0.00763949 0.01535253 0.02167632 ... 0.03080633 0.04060289 0.04425107]\n",
      "[0.03167979 0.01620616 0.0925252  ... 0.01197803 0.15804611 0.01121057]\n",
      "[0.00923787 0.06146031 0.04543487 ... 0.01034292 0.05519084 0.00901831]\n",
      "[0.0013572  0.0054329  0.0078432  ... 0.00425615 0.01137065 0.00534607]\n",
      "[0.01398121 0.04274781 0.12565953 ... 0.00747123 0.04707034 0.01047593]\n",
      "[0.01819276 0.06808221 0.13481912 ... 0.01483673 0.06585453 0.01611627]\n",
      "[0.00356177 0.00796141 0.01428703 ... 0.00285041 0.01106724 0.00838131]\n",
      "[0.01900127 0.04813494 0.01250892 ... 0.00257853 0.01859223 0.00056888]\n",
      "[0.00474938 0.01299539 0.04323761 ... 0.00936519 0.00816985 0.00154736]\n",
      "[0.02620108 0.00811241 0.03223372 ... 0.0263633  0.05052821 0.23934118]\n",
      "[0.00825143 0.01285012 0.03630674 ... 0.01142144 0.02723071 0.0087876 ]\n",
      "[0.03241946 0.05677773 0.15560552 ... 0.01877359 0.0711781  0.01443738]\n",
      "[0.0408879  0.06293947 0.09368729 ... 0.02204289 0.08522531 0.03086656]\n",
      "[0.00411144 0.01990707 0.04757949 ... 0.01203899 0.06359705 0.00259821]\n",
      "[0.00867976 0.01713761 0.01553284 ... 0.10803895 0.28676113 0.00350535]\n",
      "[0.03535249 0.07098752 0.20373227 ... 0.02167492 0.07587807 0.02086252]\n",
      "[0.00721489 0.0233955  0.42984194 ... 0.00969564 0.0567935  0.00671674]\n",
      "[0.00547942 0.06040866 0.0219289  ... 0.01063799 0.02047494 0.03522551]\n",
      "[0.00310201 0.01070633 0.01147033 ... 0.01221998 0.02046822 0.00716797]\n",
      "[0.00924673 0.01407358 0.0324151  ... 0.04119266 0.10460082 0.04288241]\n",
      "[0.00855229 0.04097207 0.03136517 ... 0.00677966 0.02421442 0.02410267]\n",
      "[0.00218719 0.0045507  0.01120103 ... 0.00774532 0.02198624 0.00088277]\n",
      "[0.01767647 0.08314994 0.15370537 ... 0.01900223 0.07088961 0.01287831]\n",
      "[0.0179864  0.0216181  0.11207363 ... 0.00717131 0.04088411 0.00667691]\n",
      "[0.00225165 0.01244706 0.01485635 ... 0.00865767 0.018139   0.00227769]\n",
      "[0.00437831 0.00886616 0.02394602 ... 0.01951883 0.10509752 0.0937027 ]\n",
      "[0.01502924 0.04084035 0.02398024 ... 0.02280663 0.03517851 0.07722483]\n",
      "[0.00965058 0.01548692 0.02899116 ... 0.04871326 0.12209853 0.08817257]\n",
      "[0.00933346 0.03698393 0.04388233 ... 0.01110753 0.02500554 0.03558371]\n",
      "[0.01167451 0.01280045 0.03181392 ... 0.00764751 0.02936212 0.00467907]\n",
      "[0.01143641 0.06553267 0.01267833 ... 0.00781865 0.02319434 0.00901214]\n",
      "[0.01552584 0.029524   0.0277373  ... 0.00608626 0.08037333 0.01576231]\n",
      "[0.00899953 0.01419294 0.03705183 ... 0.02191298 0.04091878 0.00822303]\n",
      "[0.01011034 0.04001317 0.039497   ... 0.00600111 0.03487829 0.01315096]\n",
      "[0.00426055 0.00669323 0.02676123 ... 0.00837439 0.03188785 0.0058042 ]\n",
      "[0.00573304 0.01938511 0.1681019  ... 0.00462954 0.01690088 0.02579611]\n",
      "[0.00970885 0.03614431 0.0087227  ... 0.00752888 0.02974392 0.00235682]\n",
      "[0.00010283 0.00361997 0.00299388 ... 0.05258362 0.06503591 0.        ]\n",
      "[0.02242156 0.03848612 0.02669003 ... 0.00885415 0.0285374  0.00217365]\n",
      "[0.00520677 0.00690975 0.00242463 ... 0.00567059 0.00995544 0.00298021]\n",
      "[0.00479007 0.01206495 0.05289786 ... 0.00533122 0.01703662 0.00502055]\n",
      "[0.01569331 0.00841407 0.01421312 ... 0.00399505 0.03355997 0.02624824]\n",
      "[0.02515785 0.02524805 0.03472365 ... 0.01509901 0.02408712 0.00970377]\n",
      "[0.01000719 0.01167022 0.01711439 ... 0.00339236 0.04458785 0.02818559]\n",
      "[0.01827851 0.06990924 0.18717037 ... 0.01569819 0.08406537 0.01864833]\n",
      "[0.00063725 0.00314068 0.00459808 ... 0.00193242 0.00700693 0.00032471]\n",
      "[0.01146096 0.00824912 0.01880992 ... 0.0286639  0.0638933  0.00649867]\n",
      "[0.01487618 0.01689286 0.02307219 ... 0.01337866 0.04061202 0.03052418]\n",
      "[0.00981196 0.01186347 0.01659419 ... 0.02325962 0.04861018 0.01122823]\n",
      "[0.01215822 0.02341376 0.01655927 ... 0.00948131 0.0175272  0.01352395]\n",
      "[0.00769575 0.0218759  0.01877419 ... 0.0224691  0.03375884 0.01065244]\n",
      "[0.01072922 0.02110858 0.02573603 ... 0.0196035  0.01845558 0.0057513 ]\n",
      "[0.01041791 0.00669978 0.01596982 ... 0.15499094 0.5278227  0.00353982]\n",
      "[0.01325538 0.03901244 0.03175304 ... 0.0202427  0.02641324 0.01635166]\n",
      "[0.00470122 0.01767326 0.01505704 ... 0.00196574 0.01627151 0.00368556]\n",
      "[0.02255442 0.02496915 0.07743684 ... 0.04204177 0.05297216 0.02426325]\n",
      "[0.0240065  0.00509878 0.01276417 ... 0.04907482 0.10472863 0.02300323]\n",
      "[0.00722925 0.0479399  0.29639435 ... 0.01153859 0.06155932 0.02250255]\n",
      "[0.00686052 0.00645482 0.01620091 ... 0.04857355 0.07186996 0.00254451]\n",
      "[0.01217845 0.01854357 0.01513115 ... 0.0607352  0.05711205 0.00340177]\n",
      "[0.02054531 0.03112792 0.03367312 ... 0.03627321 0.05641476 0.01024649]\n",
      "[0.00507749 0.01886233 0.02905292 ... 0.00253795 0.06251841 0.01386142]\n",
      "[0.0038262  0.01304885 0.01980686 ... 0.03755739 0.01001265 0.00105236]\n",
      "[0.0080305  0.02882774 0.01157481 ... 0.00432977 0.01791155 0.00941393]\n",
      "[0.04125852 0.06297339 0.09463634 ... 0.02166427 0.08968825 0.0304151 ]\n",
      "[0.00193362 0.01378201 0.15698777 ... 0.00328194 0.01740878 0.00784358]\n",
      "[0.006742   0.00761439 0.0351725  ... 0.00301184 0.02717029 0.00156116]\n",
      "[0.02153882 0.01617422 0.02140504 ... 0.0145004  0.55038655 0.01415049]\n",
      "[0.00574564 0.01105869 0.02128997 ... 0.0477921  0.03243273 0.3204875 ]\n",
      "[0.00574012 0.02592601 0.12937559 ... 0.00490597 0.0287944  0.00599493]\n",
      "[0.0113697  0.01780509 0.02327723 ... 0.01308124 0.03079957 0.00648998]\n",
      "[0.00873969 0.0126126  0.03028788 ... 0.00109333 0.01809039 0.0057666 ]\n",
      "[0.0038307  0.02915903 0.13763593 ... 0.00338021 0.01007823 0.00244813]\n",
      "[0.00026828 0.00059525 0.02210648 ... 0.00157251 0.00350465 0.00039002]\n",
      "[0.00700545 0.0511823  0.24623695 ... 0.01204704 0.0340734  0.02142034]\n",
      "[0.0052236  0.05069979 0.01844745 ... 0.01180527 0.02246653 0.00724042]\n",
      "[0.00585187 0.00559592 0.01483589 ... 0.01010022 0.01277478 0.00932228]\n",
      "[0.0106251  0.00542    0.01978214 ... 0.01367449 0.02383603 0.01523538]\n",
      "[0.01170573 0.00943708 0.01409341 ... 0.01129552 0.02963917 0.01061512]\n",
      "[0.01152798 0.0327122  0.03265728 ... 0.01128125 0.08070441 0.00745716]\n",
      "[0.00820115 0.02731101 0.051612   ... 0.00752264 0.0190003  0.00565884]\n",
      "[0.00317349 0.01534613 0.02135587 ... 0.01171316 0.0198067  0.00860768]\n",
      "[0.00832215 0.00741941 0.01289382 ... 0.01642268 0.04891129 0.5215337 ]\n",
      "[0.01657343 0.02652946 0.02978112 ... 0.00895277 0.03547427 0.01106926]\n",
      "[0.01284421 0.0134897  0.00503107 ... 0.0042914  0.0249312  0.0004118 ]\n",
      "[0.03329641 0.05631811 0.15473688 ... 0.02113805 0.07705314 0.02297791]\n",
      "[0.00244083 0.01219902 0.01927217 ... 0.00414447 0.01652252 0.00745273]\n",
      "[0.00538363 0.0083952  0.05446143 ... 0.00130304 0.02031223 0.03338704]\n",
      "[0.01827643 0.02539399 0.0292913  ... 0.03886999 0.04293123 0.05786199]\n",
      "[0.00140773 0.00470616 0.00755582 ... 0.0026907  0.00819629 0.00487669]\n",
      "[0.0127139  0.02680254 0.02353962 ... 0.01111623 0.02038702 0.00457016]\n",
      "[0.03574092 0.04974757 0.05408974 ... 0.01441864 0.06876376 0.00832875]\n",
      "[0.00619124 0.00300707 0.01289262 ... 0.00568262 0.01607858 0.00258459]\n",
      "[0.00168803 0.02060466 0.01781057 ... 0.00627201 0.0129584  0.00769274]\n",
      "[0.01848032 0.0677594  0.09994628 ... 0.01437405 0.06391881 0.01470778]\n",
      "[0.01551696 0.00686546 0.01949357 ... 0.00699662 0.01100789 0.02178003]\n",
      "[0.0110379  0.05831335 0.12880872 ... 0.00888982 0.02197549 0.01525771]\n",
      "[0.00227629 0.00584368 0.00941223 ... 0.00694257 0.01272207 0.00115403]\n",
      "[0.03318221 0.05512136 0.14898184 ... 0.01961864 0.07370376 0.0148263 ]\n",
      "[0.00753465 0.00809288 0.03148006 ... 0.00274876 0.00619461 0.00446043]\n",
      "[0.0120407  0.01357397 0.01549732 ... 0.0058118  0.02704949 0.0076832 ]\n",
      "[0.00051541 0.01717543 0.01040142 ... 0.00342074 0.00219129 0.00049207]\n",
      "[0.00446485 0.03138221 0.10847063 ... 0.03404945 0.02517694 0.01034156]\n",
      "[0.0110462  0.02774149 0.05954508 ... 0.04442956 0.05356161 0.00505279]\n",
      "[0.00672543 0.00788008 0.01864058 ... 0.01247186 0.01609066 0.01214971]\n",
      "[0.00268123 0.03753167 0.03378436 ... 0.00331879 0.01577224 0.00506313]\n",
      "[0.0111654  0.0186614  0.03004811 ... 0.00857797 0.0335921  0.00731213]\n",
      "[0.00945665 0.0091146  0.06068568 ... 0.00915269 0.04140614 0.00155601]\n",
      "[0.00799208 0.02354616 0.05280166 ... 0.00692616 0.02978991 0.0026315 ]\n",
      "[0.01548814 0.0334392  0.09156425 ... 0.00959419 0.02039099 0.00972979]\n",
      "[0.02011822 0.07534174 0.1909784  ... 0.01610763 0.06089941 0.02501738]\n",
      "[0.00912558 0.00657963 0.04001169 ... 0.00490898 0.02212093 0.04034254]\n",
      "[0.00048779 0.01720029 0.03240425 ... 0.00618991 0.02217546 0.04496954]\n",
      "[0.00865049 0.02254771 0.02821575 ... 0.02367218 0.02853952 0.00331201]\n",
      "[0.00521483 0.0256191  0.016845   ... 0.02463361 0.09265188 0.02087063]\n",
      "[0.01639944 0.02748659 0.06720438 ... 0.00804231 0.01926661 0.00861695]\n",
      "[0.00483336 0.06699394 0.28445774 ... 0.01062014 0.03469364 0.00803287]\n",
      "[0.00422866 0.00826028 0.06236537 ... 0.01990666 0.0330365  0.02131723]\n",
      "[0.00983655 0.01837944 0.01003438 ... 0.01104651 0.09304266 0.01111937]\n",
      "[0.00356939 0.01297701 0.01338015 ... 0.04844701 0.02793124 0.00280436]\n",
      "[0.01175963 0.0201807  0.02189847 ... 0.08671384 0.09848202 0.00688103]\n",
      "[0.01540644 0.0150789  0.0741504  ... 0.02290962 0.04734007 0.00381447]\n",
      "[0.00827489 0.04366703 0.04627141 ... 0.02573087 0.02894548 0.02326268]\n",
      "[0.01995144 0.06582277 0.05608996 ... 0.04779816 0.04235134 0.03622254]\n",
      "[0.00599997 0.02234877 0.13119921 ... 0.0072563  0.01109268 0.00301352]\n",
      "[0.0085201  0.02351506 0.09483017 ... 0.00316094 0.0224525  0.02569418]\n",
      "[0.00621228 0.02474259 0.01571604 ... 0.00748824 0.29822233 0.01073644]\n",
      "[9.0403410e-05 6.8146093e-03 7.0227813e-03 ... 1.4323153e-03 1.9991294e-02\n",
      " 6.1259810e-03]\n",
      "[0.00619454 0.01318963 0.0123805  ... 0.01387794 0.0169365  0.00640636]\n",
      "[0.00502119 0.01739155 0.1517376  ... 0.01949531 0.027942   0.00706061]\n",
      "[0.04400555 0.07369842 0.07189205 ... 0.0196566  0.15912268 0.03095094]\n",
      "[0.00347629 0.00856004 0.03110726 ... 0.01087949 0.01271189 0.00500249]\n",
      "[0.00525426 0.00267469 0.00198979 ... 0.00090097 0.00644683 0.01230777]\n",
      "[0.02508882 0.03470906 0.0390643  ... 0.0465812  0.06722272 0.01427415]\n",
      "[0.00050625 0.00540534 0.00866213 ... 0.03713611 0.00715504 0.0215826 ]\n",
      "[0.00297659 0.00543919 0.00766549 ... 0.00028245 0.00368822 0.02196352]\n",
      "[0.01564392 0.00795274 0.01245498 ... 0.00136009 0.02528623 0.00433248]\n",
      "[0.01192959 0.01100891 0.01574782 ... 0.00866785 0.04501395 0.01098583]\n",
      "[0.01752054 0.06604878 0.09566487 ... 0.01915204 0.05818387 0.01324314]\n",
      "[0.00181035 0.01773304 0.03001527 ... 0.01064296 0.01971698 0.00660207]\n",
      "[0.00663979 0.00984598 0.02342835 ... 0.01820534 0.00999763 0.0317653 ]\n",
      "[0.00841642 0.0491501  0.31331226 ... 0.00843627 0.02922255 0.01684736]\n",
      "[0.0035641  0.00904173 0.02682816 ... 0.00318119 0.02694198 0.00561529]\n",
      "[0.00219293 0.01182954 0.01872699 ... 0.00346993 0.01849674 0.01632084]\n",
      "[0.01935659 0.07039533 0.03853396 ... 0.00862752 0.03754527 0.01849352]\n",
      "[0.00755199 0.02166413 0.11122101 ... 0.00782146 0.02794685 0.00251759]\n",
      "[0.00602962 0.00721134 0.01504045 ... 0.02018372 0.01724064 0.00121834]\n",
      "[0.00802794 0.02258977 0.03317551 ... 0.01250818 0.07163778 0.0603622 ]\n",
      "[0.01849088 0.07094022 0.27098098 ... 0.01747867 0.06263284 0.01355874]\n",
      "[0.02254223 0.00643851 0.01142485 ... 0.00177733 0.04213874 0.00305452]\n",
      "[0.00060134 0.00464888 0.02715734 ... 0.00214209 0.26857805 0.00661477]\n",
      "[0.01092558 0.0098126  0.16635002 ... 0.02257963 0.02798398 0.00808551]\n",
      "[0.04583384 0.03355365 0.02658354 ... 0.00837583 0.02077836 0.00282297]\n",
      "[0.01853478 0.03109846 0.028066   ... 0.0067908  0.10718952 0.01703759]\n",
      "[0.00329093 0.04196919 0.0754317  ... 0.04298488 0.04245856 0.00274641]\n",
      "[0.01028762 0.03430494 0.03594556 ... 0.01984246 0.01844929 0.01123362]\n",
      "[0.02302921 0.03585152 0.14382945 ... 0.00829638 0.03130284 0.01205676]\n",
      "[0.00840677 0.01526765 0.02494489 ... 0.00646452 0.01274214 0.00474437]\n",
      "[0.00361579 0.01998445 0.01779166 ... 0.00384901 0.00639928 0.00033802]\n",
      "[0.01443491 0.03068219 0.05310792 ... 0.00556664 0.04173114 0.00998111]\n",
      "[0.04099486 0.03694128 0.03375261 ... 0.00380957 0.11452782 0.00919218]\n",
      "[0.01581747 0.0336537  0.02436969 ... 0.12843186 0.13840346 0.02046387]\n",
      "[0.00362382 0.01881156 0.01927912 ... 0.00462179 0.02612402 0.00813519]\n",
      "[0.03556412 0.06269094 0.11161804 ... 0.03600038 0.08737819 0.01922483]\n",
      "[0.0160363  0.02358666 0.0296492  ... 0.04681065 0.03294954 0.00617103]\n",
      "[0.00730147 0.01808921 0.02838429 ... 0.00649106 0.0409937  0.00937125]\n",
      "[0.00308116 0.01361736 0.01862656 ... 0.0156734  0.03219709 0.00450125]\n",
      "[0.01885487 0.06986889 0.11544773 ... 0.01526119 0.06622421 0.02275026]\n",
      "[0.00811414 0.03066489 0.04357583 ... 0.00962483 0.02272938 0.03080958]\n",
      "[0.00242336 0.00656332 0.00847802 ... 0.01237751 0.0172583  0.00076951]\n",
      "[0.01563639 0.0991169  0.04764529 ... 0.02750552 0.05184317 0.00871379]\n",
      "[0.00312381 0.02166853 0.01113278 ... 0.01510401 0.02102035 0.01014268]\n",
      "[0.0081738  0.01048276 0.00738497 ... 0.08616979 0.10864623 0.01946267]\n",
      "[0.00743891 0.04205947 0.13174629 ... 0.00693053 0.01231018 0.01528195]\n",
      "[0.01018047 0.06289579 0.07466442 ... 0.00795226 0.05635281 0.01435659]\n",
      "[0.00943246 0.01859708 0.18417093 ... 0.00493213 0.02116149 0.00154783]\n",
      "[0.01014486 0.02340063 0.03007821 ... 0.0251823  0.0433957  0.07339896]\n",
      "[0.00863137 0.00847243 0.02494259 ... 0.02931471 0.06394396 0.09801517]\n",
      "[0.01362082 0.03631175 0.04854455 ... 0.01561786 0.04360001 0.02252275]\n",
      "[0.0068765  0.02423674 0.0464221  ... 0.01661672 0.02356709 0.00437175]\n",
      "[0.00811734 0.01031393 0.01184585 ... 0.013718   0.02318178 0.00099971]\n",
      "[0.00157684 0.00922744 0.0131499  ... 0.01383284 0.01353703 0.00347242]\n",
      "[0.019048   0.00558935 0.02224911 ... 0.03159878 0.06309102 0.00243235]\n",
      "[0.01208288 0.02895305 0.03990866 ... 0.01536205 0.02657287 0.00500041]\n",
      "[0.00599202 0.03170652 0.11051226 ... 0.01294949 0.01837454 0.0103127 ]\n",
      "[0.01004178 0.03603359 0.03649546 ... 0.01617044 0.03702736 0.02713528]\n",
      "[0.01669945 0.01873581 0.0118885  ... 0.00823857 0.03589161 0.02656462]\n",
      "[0.02413778 0.02198154 0.02560887 ... 0.01297725 0.02113774 0.00815978]\n",
      "[0.0051442  0.00638802 0.01391891 ... 0.02023279 0.11203708 0.02169219]\n",
      "[0.00987985 0.06582329 0.01654204 ... 0.07031098 0.02817263 0.01360527]\n",
      "[0.01891177 0.06330297 0.06962512 ... 0.02442166 0.06796905 0.0757631 ]\n",
      "[0.00287126 0.00567043 0.00486296 ... 0.00267693 0.00629893 0.00035395]\n",
      "[0.00960365 0.05174084 0.03366772 ... 0.0093933  0.02223657 0.00665476]\n",
      "[0.00512628 0.00599516 0.00451123 ... 0.00342227 0.01549815 0.00118084]\n",
      "[0.01061229 0.0545884  0.02017526 ... 0.00424905 0.01743918 0.00416146]\n",
      "[0.00257633 0.00665877 0.03383028 ... 0.00410775 0.01533703 0.0071025 ]\n",
      "[0.02140192 0.02943567 0.08058055 ... 0.02234802 0.103848   0.00519004]\n",
      "[0.08454867 0.01079427 0.03269912 ... 0.0062055  0.01443887 0.00303423]\n",
      "[0.01683626 0.0648149  0.05307369 ... 0.04424052 0.03718114 0.01688288]\n",
      "[0.01609983 0.02609494 0.02376503 ... 0.01098122 0.04928647 0.15971477]\n",
      "[0.02906259 0.03518467 0.20866174 ... 0.01234294 0.04570346 0.01254733]\n",
      "[0.00464703 0.03091897 0.01743746 ... 0.00909699 0.02782302 0.00088949]\n",
      "[0.01473149 0.0107052  0.02622482 ... 0.04434189 0.01639986 0.01017063]\n",
      "[0.01099351 0.02138911 0.0212178  ... 0.00962428 0.04830954 0.18449171]\n",
      "[0.00883163 0.0254287  0.03925554 ... 0.00937761 0.02345105 0.00873419]\n",
      "[0.00945802 0.05839627 0.3091696  ... 0.01582086 0.02775557 0.01451176]\n",
      "[0.01158208 0.06424697 0.25211558 ... 0.01487244 0.03706958 0.0184338 ]\n",
      "[0.01240602 0.0481113  0.02980525 ... 0.04061883 0.04120603 0.00827184]\n",
      "[0.06254797 0.03335743 0.09666841 ... 0.01986141 0.05152242 0.01785618]\n",
      "[0.01785242 0.06655906 0.09832399 ... 0.01774732 0.06378571 0.01621886]\n",
      "[0.00547613 0.01615671 0.04730123 ... 0.0045191  0.01568612 0.00450096]\n",
      "[0.00345563 0.03083754 0.03978581 ... 0.00965613 0.25249594 0.0048245 ]\n",
      "[0.00507862 0.03809867 0.23456736 ... 0.00728903 0.01484291 0.00356437]\n",
      "[0.01647641 0.01439854 0.02691245 ... 0.02014986 0.0376681  0.00731782]\n",
      "[0.01045226 0.03815098 0.19241409 ... 0.00320187 0.03562895 0.00319726]\n",
      "[0.00064899 0.00392307 0.00611237 ... 0.0019456  0.01536852 0.00318801]\n",
      "[0.01296832 0.01993007 0.03883688 ... 0.03307268 0.09847189 0.04727693]\n",
      "[0.0186341  0.06157309 0.07336693 ... 0.0041857  0.01612204 0.00137376]\n",
      "[2.5668871e-03 1.4485616e-02 6.7379377e-03 ... 9.9999994e-01 1.5592489e-01\n",
      " 3.9020219e-04]\n",
      "[0.04310967 0.03575888 0.03400991 ... 0.15592489 1.0000002  0.02179115]\n",
      "[1.0657398e-02 8.8634407e-03 1.8146230e-02 ... 3.9020219e-04 2.1791149e-02\n",
      " 9.9999994e-01]\n"
     ]
    }
   ],
   "source": [
    "for sim in index:\n",
    "    print(sim)"
   ],
   "metadata": {
    "collapsed": false,
    "pycharm": {
     "name": "#%%\n"
    }
   }
  },
  {
   "cell_type": "code",
   "execution_count": 15,
   "outputs": [],
   "source": [
    "# index[tfidf[dictionary.doc2bow([\"notifications\", \"templates\"])]]"
   ],
   "metadata": {
    "collapsed": false,
    "pycharm": {
     "name": "#%%\n"
    }
   }
  },
  {
   "cell_type": "code",
   "execution_count": 28,
   "outputs": [
    {
     "name": "stdout",
     "output_type": "stream",
     "text": [
      "[(128, 1), (589, 1)]\n"
     ]
    }
   ],
   "source": [
    "query = \"file template\"\n",
    "q_bow = dictionary.doc2bow(query.split())\n",
    "print(q_bow)\n",
    "\n",
    "sims = index[tfidf[q_bow]]\n",
    "\n",
    "# print(sims)\n",
    "\n",
    "# print(list(enumerate(sims)))"
   ],
   "metadata": {
    "collapsed": false,
    "pycharm": {
     "name": "#%%\n"
    }
   }
  },
  {
   "cell_type": "code",
   "execution_count": 29,
   "outputs": [
    {
     "name": "stdout",
     "output_type": "stream",
     "text": [
      "1118 0.63922334\n",
      "1260 0.6217025\n",
      "348 0.59002995\n",
      "751 0.5833273\n",
      "418 0.56446\n",
      "1082 0.5490642\n",
      "899 0.5154492\n",
      "826 0.50830114\n",
      "1445 0.4658313\n",
      "494 0.4638382\n"
     ]
    }
   ],
   "source": [
    "for document_number, score in sorted(enumerate(sims), key=lambda x: x[1], reverse=True)[:10]:\n",
    "    print(document_number, score)"
   ],
   "metadata": {
    "collapsed": false,
    "pycharm": {
     "name": "#%%\n"
    }
   }
  },
  {
   "cell_type": "code",
   "execution_count": 30,
   "outputs": [
    {
     "name": "stdout",
     "output_type": "stream",
     "text": [
      "['validation', 'tab', 'file', 'project', 'structure', 'artifacts', 'artifact', 'validation', 'using', 'oracle', 'weblogic', 'server', 'use', 'deployment', 'descriptor', 'validation', 'extension', 'click', 'select', 'server', 'version', 'tab', 'available', 'artifacts', 'deployed', 'server']\n"
     ]
    }
   ],
   "source": [
    "print(corpus[557])"
   ],
   "metadata": {
    "collapsed": false,
    "pycharm": {
     "name": "#%%\n"
    }
   }
  },
  {
   "cell_type": "code",
   "execution_count": 141,
   "outputs": [
    {
     "data": {
      "text/plain": "\"Save projects as templates\\nIf you have a project that you want to reproduce when creating new projects, you can save it as a custom project template. The IDE recreates the project tree with files and folders, build configurations, libraries, SDKs, and language level settings.\\nIntelliJ\\xa0IDEA saves all project settings from the .idea folder to the template. So if you want your new projects to have some predefined run/debug configurations, select the Store as project file checkbox in these configurations before you save the template.\\nSave a project as a template\\nFrom the main menu, select File | New Projects Setup | Save Project as Template.\\nIn the dialog that opens, name the template and configure the options:\\nSave: if the project contains more than one module, select whether you want to create a template from the whole project or from one of the modules. Otherwise, this option is not available.\\nDescription: you can use the <b> and </b>, and <i> and </i> tags for formatting.\\nReplace parameters with placeholders (recommended): IntelliJ\\xa0IDEA has a number of built-in project template options. If you select this checkbox, you will be able to configure these options (for example, specify the base Java package or another application server) when creating a new template-based project or module.\\nThis option doesn't allow you to add your custom parameters to a project.\\nTemplates are saved to the projectTemplates folder in the IDE configuration directory.\\nCreate a project from a template\\nClick New Project on the Welcome screen or select File | New Project from the main menu.\\nIn the dialog that opens, click the User-defined node and select the required template.\\nDelete project templates\\nFrom the main menu, select File | New Projects Setup | Manage Project Templates.\\nSelect the template that you want to remove and click .\\n\""
     },
     "execution_count": 141,
     "metadata": {},
     "output_type": "execute_result"
    }
   ],
   "source": [
    "list(df[\"0\"])[1082]"
   ],
   "metadata": {
    "collapsed": false,
    "pycharm": {
     "name": "#%%\n"
    }
   }
  },
  {
   "cell_type": "code",
   "execution_count": 89,
   "outputs": [
    {
     "data": {
      "text/plain": "'directories-used-by-the-ide-to-store-settings-caches-plugins-and-logs.html'"
     },
     "execution_count": 89,
     "metadata": {},
     "output_type": "execute_result"
    }
   ],
   "source": [
    "df.iloc[680][0]"
   ],
   "metadata": {
    "collapsed": false,
    "pycharm": {
     "name": "#%%\n"
    }
   }
  },
  {
   "cell_type": "code",
   "execution_count": 129,
   "outputs": [],
   "source": [
    "queries = [\"code completion\", \"environment variables\", \"terminal\", \"flutter\", \"javafx\", \"community edition\", \"bookmark\", \"uninstall\", \"command line\", \"wsl\", \"code with me\", \"code style\", \"reformat code\", \"run configuration\", \"file template\", \"file templates\"]"
   ],
   "metadata": {
    "collapsed": false,
    "pycharm": {
     "name": "#%%\n"
    }
   }
  },
  {
   "cell_type": "code",
   "execution_count": 83,
   "outputs": [
    {
     "data": {
      "text/plain": "'code completion'"
     },
     "execution_count": 83,
     "metadata": {},
     "output_type": "execute_result"
    }
   ],
   "source": [
    "queries[0]"
   ],
   "metadata": {
    "collapsed": false,
    "pycharm": {
     "name": "#%%\n"
    }
   }
  },
  {
   "cell_type": "code",
   "execution_count": null,
   "outputs": [],
   "source": [
    "search_results_dataframe = pandas.DataFrame"
   ],
   "metadata": {
    "collapsed": false,
    "pycharm": {
     "name": "#%%\n"
    }
   }
  },
  {
   "cell_type": "code",
   "execution_count": 130,
   "outputs": [
    {
     "name": "stdout",
     "output_type": "stream",
     "text": [
      "code completion\n",
      "['https://www.jetbrains.com/help/idea/auto-completing-code.html', 'https://www.jetbrains.com/help/idea/completing-xslt.html', 'https://www.jetbrains.com/help/idea/generate-custom-code-constructs-using-live-templates.html', 'https://www.jetbrains.com/help/idea/symfony-forms.html', 'https://www.jetbrains.com/help/idea/symfony-creating-helper-functions.html']\n",
      "environment variables\n",
      "['https://www.jetbrains.com/help/idea/creating-virtual-environment.html', 'https://www.jetbrains.com/help/idea/conda-support-creating-conda-virtual-environment.html', 'https://www.jetbrains.com/help/idea/creating-empty-python-project.html', 'https://www.jetbrains.com/help/idea/console-python-console.html', 'https://www.jetbrains.com/help/idea/console-django-console.html']\n",
      "terminal\n",
      "['https://www.jetbrains.com/help/idea/terminal-emulator.html', 'https://www.jetbrains.com/help/idea/settings-tools-ssh-terminal.html', 'https://www.jetbrains.com/help/idea/running-ssh-terminal.html', 'https://www.jetbrains.com/help/idea/tagging-changesets.html', 'https://www.jetbrains.com/help/idea/vagrant-support.html']\n",
      "flutter\n",
      "['https://www.jetbrains.com/help/idea/settings-notifications.html', 'https://www.jetbrains.com/help/idea/configuring-project-and-ide-settings.html', 'https://www.jetbrains.com/help/idea/php-built-in-web-server.html', 'https://www.jetbrains.com/help/idea/work-with-scala-worksheet-and-ammonite.html', 'https://www.jetbrains.com/help/idea/finding-and-replacing-text-in-project.html']\n",
      "javafx\n",
      "['https://www.jetbrains.com/help/idea/javafx.html', 'https://www.jetbrains.com/help/idea/packaging-javafx-applications.html', 'https://www.jetbrains.com/help/idea/settingsjavafx.html', 'https://www.jetbrains.com/help/idea/project-structure-artifacts-java-fx-tab.html', 'https://www.jetbrains.com/help/idea/linux-native-menu.html']\n",
      "community edition\n",
      "['https://www.jetbrains.com/help/idea/discover-intellij-idea.html', 'https://www.jetbrains.com/help/idea/using-perforce-integration.html', 'https://www.jetbrains.com/help/idea/create-new-project-twitter-bootstrap.html', 'https://www.jetbrains.com/help/idea/enabling-web-application-support.html', 'https://www.jetbrains.com/help/idea/settings-languages-default-xml-schemas.html']\n",
      "bookmark\n",
      "['https://www.jetbrains.com/help/idea/bookmarks.html', 'https://www.jetbrains.com/help/idea/new-bookmark-dialog.html', 'https://www.jetbrains.com/help/idea/managing-mercurial-branches-and-bookmarks.html', 'https://www.jetbrains.com/help/idea/switching-between-working-directories.html', 'https://www.jetbrains.com/help/idea/merge-dialog-mercurial.html']\n",
      "uninstall\n",
      "['https://www.jetbrains.com/help/idea/uninstall.html', 'https://www.jetbrains.com/help/idea/configuring-python-sdk.html', 'https://www.jetbrains.com/help/idea/installing-uninstalling-and-reloading-interpreter-paths.html', 'https://www.jetbrains.com/help/idea/configuring-local-python-interpreters.html', 'https://www.jetbrains.com/help/idea/installing-uninstalling-and-upgrading-packages.html']\n",
      "command line\n",
      "['https://www.jetbrains.com/help/idea/php-specific-command-line-tools.html', 'https://www.jetbrains.com/help/idea/using-the-wordpress-command-line-tool-wp-cli.html', 'https://www.jetbrains.com/help/idea/working-with-the-ide-features-from-command-line.html', 'https://www.jetbrains.com/help/idea/configuring-line-endings-and-line-separators.html', 'https://www.jetbrains.com/help/idea/settings-editor-general.html']\n",
      "wsl\n",
      "['https://www.jetbrains.com/help/idea/how-to-use-wsl-development-environment-in-product.html', 'https://www.jetbrains.com/help/idea/node-js-interpreters.html', 'https://www.jetbrains.com/help/idea/configuring-remote-python-sdks.html', 'https://www.jetbrains.com/help/idea/ant.html', 'https://www.jetbrains.com/help/idea/importing-process.html']\n",
      "code with me\n",
      "['https://www.jetbrains.com/help/idea/code-style.html', 'https://www.jetbrains.com/help/idea/reformat-file-dialog.html', 'https://www.jetbrains.com/help/idea/reformat-and-rearrange-code.html', 'https://www.jetbrains.com/help/idea/settings-code-style-sql.html', 'https://www.jetbrains.com/help/idea/faq-about-code-with-me.html']\n",
      "code style\n",
      "['https://www.jetbrains.com/help/idea/code-style.html', 'https://www.jetbrains.com/help/idea/settings-code-style-sql.html', 'https://www.jetbrains.com/help/idea/configure-the-sql-code-style.html', 'https://www.jetbrains.com/help/idea/command-line-formatter.html', 'https://www.jetbrains.com/help/idea/configuring-code-style.html']\n",
      "reformat code\n",
      "['https://www.jetbrains.com/help/idea/reformat-and-rearrange-code.html', 'https://www.jetbrains.com/help/idea/reformat-file-dialog.html', 'https://www.jetbrains.com/help/idea/code-style-sql-wrapping.html', 'https://www.jetbrains.com/help/idea/work-with-scala-formatter.html', 'https://www.jetbrains.com/help/idea/prettier.html']\n",
      "run configuration\n",
      "['https://www.jetbrains.com/help/idea/run-debug-configurations-dialog.html', 'https://www.jetbrains.com/help/idea/run-debug-configuration.html', 'https://www.jetbrains.com/help/idea/run-debug-configuration-php-remote-debug.html', 'https://www.jetbrains.com/help/idea/run-debug-configuration-java-scratch.html', 'https://www.jetbrains.com/help/idea/run-debug-configuration-google-app-engine-deployment.html']\n",
      "file template\n",
      "['https://www.jetbrains.com/help/idea/settings-file-and-code-templates.html', 'https://www.jetbrains.com/help/idea/save-file-as-template-dialog.html', 'https://www.jetbrains.com/help/idea/using-file-and-code-templates.html', 'https://www.jetbrains.com/help/idea/settings-live-templates.html', 'https://www.jetbrains.com/help/idea/templates-dialog.html']\n",
      "file templates\n",
      "['https://www.jetbrains.com/help/idea/saving-project-as-template.html', 'https://www.jetbrains.com/help/idea/using-file-and-code-templates.html', 'https://www.jetbrains.com/help/idea/extracting-blocks-of-text-from-django-templates.html', 'https://www.jetbrains.com/help/idea/symfony-templates.html', 'https://www.jetbrains.com/help/idea/parse-directive.html']\n",
      "{'code completion': 'https://www.jetbrains.com/help/idea/auto-completing-code.html\\nhttps://www.jetbrains.com/help/idea/completing-xslt.html\\nhttps://www.jetbrains.com/help/idea/generate-custom-code-constructs-using-live-templates.html\\nhttps://www.jetbrains.com/help/idea/symfony-forms.html\\nhttps://www.jetbrains.com/help/idea/symfony-creating-helper-functions.html', 'environment variables': 'https://www.jetbrains.com/help/idea/creating-virtual-environment.html\\nhttps://www.jetbrains.com/help/idea/conda-support-creating-conda-virtual-environment.html\\nhttps://www.jetbrains.com/help/idea/creating-empty-python-project.html\\nhttps://www.jetbrains.com/help/idea/console-python-console.html\\nhttps://www.jetbrains.com/help/idea/console-django-console.html', 'terminal': 'https://www.jetbrains.com/help/idea/terminal-emulator.html\\nhttps://www.jetbrains.com/help/idea/settings-tools-ssh-terminal.html\\nhttps://www.jetbrains.com/help/idea/running-ssh-terminal.html\\nhttps://www.jetbrains.com/help/idea/tagging-changesets.html\\nhttps://www.jetbrains.com/help/idea/vagrant-support.html', 'flutter': 'https://www.jetbrains.com/help/idea/settings-notifications.html\\nhttps://www.jetbrains.com/help/idea/configuring-project-and-ide-settings.html\\nhttps://www.jetbrains.com/help/idea/php-built-in-web-server.html\\nhttps://www.jetbrains.com/help/idea/work-with-scala-worksheet-and-ammonite.html\\nhttps://www.jetbrains.com/help/idea/finding-and-replacing-text-in-project.html', 'javafx': 'https://www.jetbrains.com/help/idea/javafx.html\\nhttps://www.jetbrains.com/help/idea/packaging-javafx-applications.html\\nhttps://www.jetbrains.com/help/idea/settingsjavafx.html\\nhttps://www.jetbrains.com/help/idea/project-structure-artifacts-java-fx-tab.html\\nhttps://www.jetbrains.com/help/idea/linux-native-menu.html', 'community edition': 'https://www.jetbrains.com/help/idea/discover-intellij-idea.html\\nhttps://www.jetbrains.com/help/idea/using-perforce-integration.html\\nhttps://www.jetbrains.com/help/idea/create-new-project-twitter-bootstrap.html\\nhttps://www.jetbrains.com/help/idea/enabling-web-application-support.html\\nhttps://www.jetbrains.com/help/idea/settings-languages-default-xml-schemas.html', 'bookmark': 'https://www.jetbrains.com/help/idea/bookmarks.html\\nhttps://www.jetbrains.com/help/idea/new-bookmark-dialog.html\\nhttps://www.jetbrains.com/help/idea/managing-mercurial-branches-and-bookmarks.html\\nhttps://www.jetbrains.com/help/idea/switching-between-working-directories.html\\nhttps://www.jetbrains.com/help/idea/merge-dialog-mercurial.html', 'uninstall': 'https://www.jetbrains.com/help/idea/uninstall.html\\nhttps://www.jetbrains.com/help/idea/configuring-python-sdk.html\\nhttps://www.jetbrains.com/help/idea/installing-uninstalling-and-reloading-interpreter-paths.html\\nhttps://www.jetbrains.com/help/idea/configuring-local-python-interpreters.html\\nhttps://www.jetbrains.com/help/idea/installing-uninstalling-and-upgrading-packages.html', 'command line': 'https://www.jetbrains.com/help/idea/php-specific-command-line-tools.html\\nhttps://www.jetbrains.com/help/idea/using-the-wordpress-command-line-tool-wp-cli.html\\nhttps://www.jetbrains.com/help/idea/working-with-the-ide-features-from-command-line.html\\nhttps://www.jetbrains.com/help/idea/configuring-line-endings-and-line-separators.html\\nhttps://www.jetbrains.com/help/idea/settings-editor-general.html', 'wsl': 'https://www.jetbrains.com/help/idea/how-to-use-wsl-development-environment-in-product.html\\nhttps://www.jetbrains.com/help/idea/node-js-interpreters.html\\nhttps://www.jetbrains.com/help/idea/configuring-remote-python-sdks.html\\nhttps://www.jetbrains.com/help/idea/ant.html\\nhttps://www.jetbrains.com/help/idea/importing-process.html', 'code with me': 'https://www.jetbrains.com/help/idea/code-style.html\\nhttps://www.jetbrains.com/help/idea/reformat-file-dialog.html\\nhttps://www.jetbrains.com/help/idea/reformat-and-rearrange-code.html\\nhttps://www.jetbrains.com/help/idea/settings-code-style-sql.html\\nhttps://www.jetbrains.com/help/idea/faq-about-code-with-me.html', 'code style': 'https://www.jetbrains.com/help/idea/code-style.html\\nhttps://www.jetbrains.com/help/idea/settings-code-style-sql.html\\nhttps://www.jetbrains.com/help/idea/configure-the-sql-code-style.html\\nhttps://www.jetbrains.com/help/idea/command-line-formatter.html\\nhttps://www.jetbrains.com/help/idea/configuring-code-style.html', 'reformat code': 'https://www.jetbrains.com/help/idea/reformat-and-rearrange-code.html\\nhttps://www.jetbrains.com/help/idea/reformat-file-dialog.html\\nhttps://www.jetbrains.com/help/idea/code-style-sql-wrapping.html\\nhttps://www.jetbrains.com/help/idea/work-with-scala-formatter.html\\nhttps://www.jetbrains.com/help/idea/prettier.html', 'run configuration': 'https://www.jetbrains.com/help/idea/run-debug-configurations-dialog.html\\nhttps://www.jetbrains.com/help/idea/run-debug-configuration.html\\nhttps://www.jetbrains.com/help/idea/run-debug-configuration-php-remote-debug.html\\nhttps://www.jetbrains.com/help/idea/run-debug-configuration-java-scratch.html\\nhttps://www.jetbrains.com/help/idea/run-debug-configuration-google-app-engine-deployment.html', 'file template': 'https://www.jetbrains.com/help/idea/settings-file-and-code-templates.html\\nhttps://www.jetbrains.com/help/idea/save-file-as-template-dialog.html\\nhttps://www.jetbrains.com/help/idea/using-file-and-code-templates.html\\nhttps://www.jetbrains.com/help/idea/settings-live-templates.html\\nhttps://www.jetbrains.com/help/idea/templates-dialog.html', 'file templates': 'https://www.jetbrains.com/help/idea/saving-project-as-template.html\\nhttps://www.jetbrains.com/help/idea/using-file-and-code-templates.html\\nhttps://www.jetbrains.com/help/idea/extracting-blocks-of-text-from-django-templates.html\\nhttps://www.jetbrains.com/help/idea/symfony-templates.html\\nhttps://www.jetbrains.com/help/idea/parse-directive.html'}\n"
     ]
    }
   ],
   "source": [
    "pre_url = \"https://www.jetbrains.com/help/idea/\"\n",
    "\n",
    "search_test = {}\n",
    "\n",
    "for query in queries:\n",
    "    q_bow = dictionary.doc2bow(query.split())\n",
    "    print(query)\n",
    "    sims = index[tfidf[q_bow]]\n",
    "\n",
    "    results = []\n",
    "\n",
    "    for document_number, score in sorted(enumerate(sims), key=lambda x: x[1], reverse=True)[:5]:\n",
    "        topic_name = df.iloc[document_number][0]\n",
    "        # print(document_number, topic_name, score)\n",
    "        results.append(pre_url + topic_name)\n",
    "\n",
    "    print(results)\n",
    "\n",
    "    search_test[query] = \"\\n\".join(results)\n",
    "\n",
    "print(search_test)"
   ],
   "metadata": {
    "collapsed": false,
    "pycharm": {
     "name": "#%%\n"
    }
   }
  },
  {
   "cell_type": "code",
   "execution_count": 131,
   "outputs": [
    {
     "data": {
      "text/plain": "(16, 1)"
     },
     "execution_count": 131,
     "metadata": {},
     "output_type": "execute_result"
    }
   ],
   "source": [
    "search_test_results = pandas.DataFrame.from_dict(search_test, orient=\"index\")\n",
    "search_test_results.shape"
   ],
   "metadata": {
    "collapsed": false,
    "pycharm": {
     "name": "#%%\n"
    }
   }
  },
  {
   "cell_type": "code",
   "execution_count": 135,
   "outputs": [],
   "source": [
    "df = pandas.read_csv(\"algolia_search_test_results.csv\")"
   ],
   "metadata": {
    "collapsed": false,
    "pycharm": {
     "name": "#%%\n"
    }
   }
  },
  {
   "cell_type": "code",
   "execution_count": 136,
   "outputs": [
    {
     "data": {
      "text/plain": "                   query                                            algolia\n0        code completion  https://www.jetbrains.com/help/idea/auto-compl...\n1  environment variables  https://www.jetbrains.com/help/idea/create-a-p...\n2               terminal  https://www.jetbrains.com/help/idea/advanced-s...\n3                flutter  https://www.jetbrains.com/help/idea/investigat...\n4                 javafx  https://www.jetbrains.com/help/idea/settingsja...",
      "text/html": "<div>\n<style scoped>\n    .dataframe tbody tr th:only-of-type {\n        vertical-align: middle;\n    }\n\n    .dataframe tbody tr th {\n        vertical-align: top;\n    }\n\n    .dataframe thead th {\n        text-align: right;\n    }\n</style>\n<table border=\"1\" class=\"dataframe\">\n  <thead>\n    <tr style=\"text-align: right;\">\n      <th></th>\n      <th>query</th>\n      <th>algolia</th>\n    </tr>\n  </thead>\n  <tbody>\n    <tr>\n      <th>0</th>\n      <td>code completion</td>\n      <td>https://www.jetbrains.com/help/idea/auto-compl...</td>\n    </tr>\n    <tr>\n      <th>1</th>\n      <td>environment variables</td>\n      <td>https://www.jetbrains.com/help/idea/create-a-p...</td>\n    </tr>\n    <tr>\n      <th>2</th>\n      <td>terminal</td>\n      <td>https://www.jetbrains.com/help/idea/advanced-s...</td>\n    </tr>\n    <tr>\n      <th>3</th>\n      <td>flutter</td>\n      <td>https://www.jetbrains.com/help/idea/investigat...</td>\n    </tr>\n    <tr>\n      <th>4</th>\n      <td>javafx</td>\n      <td>https://www.jetbrains.com/help/idea/settingsja...</td>\n    </tr>\n  </tbody>\n</table>\n</div>"
     },
     "execution_count": 136,
     "metadata": {},
     "output_type": "execute_result"
    }
   ],
   "source": [
    "df.columns = [\"query\", \"algolia\"]\n",
    "df.head(5)"
   ],
   "metadata": {
    "collapsed": false,
    "pycharm": {
     "name": "#%%\n"
    }
   }
  },
  {
   "cell_type": "code",
   "execution_count": 137,
   "outputs": [
    {
     "data": {
      "text/plain": "                   query                                            algolia  \\\n0        code completion  https://www.jetbrains.com/help/idea/auto-compl...   \n1  environment variables  https://www.jetbrains.com/help/idea/create-a-p...   \n2               terminal  https://www.jetbrains.com/help/idea/advanced-s...   \n3                flutter  https://www.jetbrains.com/help/idea/investigat...   \n4                 javafx  https://www.jetbrains.com/help/idea/settingsja...   \n\n                                        vector_index  \n0  https://www.jetbrains.com/help/idea/auto-compl...  \n1  https://www.jetbrains.com/help/idea/creating-v...  \n2  https://www.jetbrains.com/help/idea/terminal-e...  \n3  https://www.jetbrains.com/help/idea/settings-n...  \n4  https://www.jetbrains.com/help/idea/javafx.htm...  ",
      "text/html": "<div>\n<style scoped>\n    .dataframe tbody tr th:only-of-type {\n        vertical-align: middle;\n    }\n\n    .dataframe tbody tr th {\n        vertical-align: top;\n    }\n\n    .dataframe thead th {\n        text-align: right;\n    }\n</style>\n<table border=\"1\" class=\"dataframe\">\n  <thead>\n    <tr style=\"text-align: right;\">\n      <th></th>\n      <th>query</th>\n      <th>algolia</th>\n      <th>vector_index</th>\n    </tr>\n  </thead>\n  <tbody>\n    <tr>\n      <th>0</th>\n      <td>code completion</td>\n      <td>https://www.jetbrains.com/help/idea/auto-compl...</td>\n      <td>https://www.jetbrains.com/help/idea/auto-compl...</td>\n    </tr>\n    <tr>\n      <th>1</th>\n      <td>environment variables</td>\n      <td>https://www.jetbrains.com/help/idea/create-a-p...</td>\n      <td>https://www.jetbrains.com/help/idea/creating-v...</td>\n    </tr>\n    <tr>\n      <th>2</th>\n      <td>terminal</td>\n      <td>https://www.jetbrains.com/help/idea/advanced-s...</td>\n      <td>https://www.jetbrains.com/help/idea/terminal-e...</td>\n    </tr>\n    <tr>\n      <th>3</th>\n      <td>flutter</td>\n      <td>https://www.jetbrains.com/help/idea/investigat...</td>\n      <td>https://www.jetbrains.com/help/idea/settings-n...</td>\n    </tr>\n    <tr>\n      <th>4</th>\n      <td>javafx</td>\n      <td>https://www.jetbrains.com/help/idea/settingsja...</td>\n      <td>https://www.jetbrains.com/help/idea/javafx.htm...</td>\n    </tr>\n  </tbody>\n</table>\n</div>"
     },
     "execution_count": 137,
     "metadata": {},
     "output_type": "execute_result"
    }
   ],
   "source": [
    "df[\"vector_index\"] = search_test.values()\n",
    "df.head(5)"
   ],
   "metadata": {
    "collapsed": false,
    "pycharm": {
     "name": "#%%\n"
    }
   }
  },
  {
   "cell_type": "code",
   "execution_count": 138,
   "outputs": [],
   "source": [
    "df.to_csv(\"search_comparison.csv\")\n"
   ],
   "metadata": {
    "collapsed": false,
    "pycharm": {
     "name": "#%%\n"
    }
   }
  }
 ],
 "metadata": {
  "kernelspec": {
   "display_name": "Python 3",
   "language": "python",
   "name": "python3"
  },
  "language_info": {
   "codemirror_mode": {
    "name": "ipython",
    "version": 2
   },
   "file_extension": ".py",
   "mimetype": "text/x-python",
   "name": "python",
   "nbconvert_exporter": "python",
   "pygments_lexer": "ipython2",
   "version": "2.7.6"
  }
 },
 "nbformat": 4,
 "nbformat_minor": 0
}