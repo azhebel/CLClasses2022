{
 "cells": [
  {
   "cell_type": "markdown",
   "source": [
    "Import stuff"
   ],
   "metadata": {
    "collapsed": false
   }
  },
  {
   "cell_type": "code",
   "execution_count": 66,
   "metadata": {
    "collapsed": true
   },
   "outputs": [
    {
     "name": "stderr",
     "output_type": "stream",
     "text": [
      "[nltk_data] Downloading package punkt to\n",
      "[nltk_data]     /Users/Alexey.Zhebel/nltk_data...\n",
      "[nltk_data]   Package punkt is already up-to-date!\n",
      "[nltk_data] Downloading package stopwords to\n",
      "[nltk_data]     /Users/Alexey.Zhebel/nltk_data...\n",
      "[nltk_data]   Package stopwords is already up-to-date!\n"
     ]
    }
   ],
   "source": [
    "import os\n",
    "import re\n",
    "import string\n",
    "\n",
    "import requests\n",
    "from bs4 import BeautifulSoup\n",
    "\n",
    "import nltk\n",
    "nltk.download('punkt')\n",
    "nltk.download('stopwords')\n",
    "\n",
    "import pymorphy2\n",
    "\n",
    "from collections import defaultdict as dd\n",
    "from operator import itemgetter\n",
    "\n",
    "import math"
   ]
  },
  {
   "cell_type": "markdown",
   "source": [
    "Get the first page"
   ],
   "metadata": {
    "collapsed": false
   }
  },
  {
   "cell_type": "code",
   "execution_count": 2,
   "outputs": [],
   "source": [
    "URL = \"https://www.jetbrains.com/help/idea/\"\n",
    "page = \"\""
   ],
   "metadata": {
    "collapsed": false,
    "pycharm": {
     "name": "#%%\n"
    }
   }
  },
  {
   "cell_type": "code",
   "execution_count": 3,
   "outputs": [
    {
     "name": "stdout",
     "output_type": "stream",
     "text": [
      "<!DOCTYPE html SYSTEM \"about:legacy-compat\"><html lang=\"en-US\" data-colors-preset=\"contrast\" data-primary-color=\"#307FFF\"><head><link data-react-helmet=\"true\" rel=\"canonical\" href=\"https://www.jetbrains.com/help/idea/discover-intellij-idea.html\"><meta charset=\"UTF-8\">  <meta name=\"built-on\" content=\"2021-12-21T11:59:50.784961\"><meta name=\"build-number\" content=\"8116\">       <script>(function(w,d,s,l,i){w[l]=w[l]||[];w[l].push({'gtm.start': new Date().getTime(),event:'gtm.js'});var f=d.getElement\n"
     ]
    }
   ],
   "source": [
    "source = requests.get(URL + page)\n",
    "print(source.text[:500])"
   ],
   "metadata": {
    "collapsed": false,
    "pycharm": {
     "name": "#%%\n"
    }
   }
  },
  {
   "cell_type": "markdown",
   "source": [
    "Get soup from source"
   ],
   "metadata": {
    "collapsed": false
   }
  },
  {
   "cell_type": "code",
   "execution_count": 4,
   "outputs": [
    {
     "name": "stdout",
     "output_type": "stream",
     "text": [
      "<!DOCTYPE html SYSTEM \"about:legacy-compat\">\n",
      "<html data-colors-preset=\"contrast\" data-primary-color=\"#307FFF\" lang=\"en-US\">\n",
      " <head>\n",
      "  <link data-react-helmet=\"true\" href=\"https://www.jetbrains.com/help/idea/discover-intellij-idea.html\" rel=\"canonical\"/>\n",
      "  <meta charset=\"utf-8\"/>\n",
      "  <meta content=\"2021-12-21T11:59:50.784961\" name=\"built-on\"/>\n",
      "  <meta content=\"8116\" name=\"build-number\"/>\n",
      "  <script>\n",
      "   (function(w,d,s,l,i){w[l]=w[l]||[];w[l].push({'gtm.start': new Date().getTime(),event:'gtm.js'});v\n"
     ]
    }
   ],
   "source": [
    "soup = BeautifulSoup(source.text, \"html.parser\")\n",
    "\n",
    "print(soup.prettify()[:500])\n",
    "\n",
    "# with open(\"page_src.html\", \"w\") as file:\n",
    "#     file.write(soup.prettify())"
   ],
   "metadata": {
    "collapsed": false,
    "pycharm": {
     "name": "#%%\n"
    }
   }
  },
  {
   "cell_type": "markdown",
   "source": [
    "Get text from soup\n",
    "\n",
    "Only the topic title, chapter and procedure headings, and paragraphs"
   ],
   "metadata": {
    "collapsed": false
   }
  },
  {
   "cell_type": "code",
   "execution_count": 5,
   "outputs": [
    {
     "name": "stdout",
     "output_type": "stream",
     "text": [
      "'IntelliJ\\xa0IDEA overview\\nIntelliJ\\xa0IDEA is an Integrated Development Environment (IDE) for JVM languages designed to maximize developer productivity. It does the routine and repetitive tasks for you by providing clever code completion, static code analysis, and refactorings, and lets you focus on the bright side of software development, making it not only productive but also an enjoyable experience.\\nMulti-platform\\nIntelliJ\\xa0IDEA is a cross-platform IDE that provides consistent experience on Windows,'\n"
     ]
    }
   ],
   "source": [
    "article = soup.find(\"article\")\n",
    "\n",
    "text = \"\"\n",
    "\n",
    "for tag in article.find_all(re.compile(\"^h[1-6]$|^p$\")):\n",
    "    text += tag.get_text() + \"\\n\"\n",
    "\n",
    "print(repr(text[:500]))"
   ],
   "metadata": {
    "collapsed": false,
    "pycharm": {
     "name": "#%%\n"
    }
   }
  },
  {
   "cell_type": "markdown",
   "source": [
    "Tokenize text"
   ],
   "metadata": {
    "collapsed": false
   }
  },
  {
   "cell_type": "code",
   "execution_count": 11,
   "outputs": [
    {
     "name": "stdout",
     "output_type": "stream",
     "text": [
      "['intellij', 'idea', 'overview', 'intellij', 'idea', 'is', 'an', 'integrated', 'development', 'environment', 'ide', 'for', 'jvm', 'languages', 'designed', 'to', 'maximize', 'developer', 'productivity', 'it', 'does', 'the', 'routine', 'and', 'repetitive', 'tasks', 'for', 'you', 'by', 'providing', 'clever', 'code', 'completion', 'static', 'code', 'analysis', 'and', 'refactorings', 'and', 'lets', 'you', 'focus', 'on', 'the', 'bright', 'side', 'of', 'software', 'development', 'making', 'it', 'not', 'only', 'productive', 'but', 'also', 'an', 'enjoyable', 'experience', 'multiplatform', 'intellij', 'idea', 'is', 'a', 'crossplatform', 'ide', 'that', 'provides', 'consistent', 'experience', 'on', 'windows', 'macos', 'and', 'linux', 'see', 'install', 'intellij', 'idea', 'for', 'osspecific', 'instructions', 'see', 'intellij', 'idea', 'keyboard', 'shortcuts', 'for', 'instructions', 'on', 'how', 'to', 'choose', 'the', 'right', 'keymap', 'for', 'your', 'operating', 'system']\n"
     ]
    }
   ],
   "source": [
    "tokens = nltk.tokenize.word_tokenize(text.lower().translate(str.maketrans('', '', string.punctuation)))\n",
    "\n",
    "print(tokens[:100])"
   ],
   "metadata": {
    "collapsed": false,
    "pycharm": {
     "name": "#%%\n"
    }
   }
  },
  {
   "cell_type": "markdown",
   "source": [
    "Lemmatize?"
   ],
   "metadata": {
    "collapsed": false
   }
  },
  {
   "cell_type": "code",
   "execution_count": 7,
   "outputs": [
    {
     "name": "stdout",
     "output_type": "stream",
     "text": [
      "[Parse(word='teachers', tag=OpencorporaTag('LATN'), normal_form='teachers', score=1.0, methods_stack=((LatinAnalyzer(score=0.9), 'teachers'),))]\n"
     ]
    }
   ],
   "source": [
    "word = pymorphy2.MorphAnalyzer().parse(\"teachers\")\n",
    "\n",
    "print(word)"
   ],
   "metadata": {
    "collapsed": false,
    "pycharm": {
     "name": "#%%\n"
    }
   }
  },
  {
   "cell_type": "markdown",
   "source": [
    "Frequency"
   ],
   "metadata": {
    "collapsed": false
   }
  },
  {
   "cell_type": "code",
   "execution_count": 12,
   "outputs": [
    {
     "name": "stdout",
     "output_type": "stream",
     "text": [
      "intellij\t145\n",
      "idea\t142\n",
      "ide\t47\n",
      "jetbrains\t41\n",
      "install\t36\n",
      "code\t34\n",
      "version\t34\n",
      "account\t34\n",
      "run\t32\n",
      "click\t30\n"
     ]
    }
   ],
   "source": [
    "word_count = dd(int)\n",
    "stop_words = nltk.corpus.stopwords.words(\"english\")\n",
    "\n",
    "for word in tokens:\n",
    "    if word not in stop_words:\n",
    "        word_count[word] += 1\n",
    "\n",
    "sorted_word_count = sorted(word_count.items(), key=itemgetter(1), reverse=True)\n",
    "\n",
    "for word, freq in sorted_word_count[:10]:\n",
    "    print('\\t'.join((word, str(freq))))"
   ],
   "metadata": {
    "collapsed": false,
    "pycharm": {
     "name": "#%%\n"
    }
   }
  },
  {
   "cell_type": "markdown",
   "source": [
    "Get the next page"
   ],
   "metadata": {
    "collapsed": false
   }
  },
  {
   "cell_type": "code",
   "execution_count": 9,
   "outputs": [
    {
     "name": "stdout",
     "output_type": "stream",
     "text": [
      "product-educational-tools.html\n"
     ]
    }
   ],
   "source": [
    "next_page = soup.find(\"a\", {\"class\":\"navigation-links__next\"}).get(\"href\")\n",
    "\n",
    "print(next_page)"
   ],
   "metadata": {
    "collapsed": false,
    "pycharm": {
     "name": "#%%\n"
    }
   }
  },
  {
   "cell_type": "markdown",
   "source": [
    "Let's try to scrape 5 first topics and count words"
   ],
   "metadata": {
    "collapsed": false
   }
  },
  {
   "cell_type": "code",
   "execution_count": 10,
   "outputs": [
    {
     "name": "stdout",
     "output_type": "stream",
     "text": [
      "IntelliJ IDEA overview\n",
      "IntelliJ IDEA is an Integrated Development Environment (IDE) for JVM languages designed to maximize developer productivity. It does the routine and repetitive tasks for you by providing clever code completion, static code analysis, and refactorings, and lets you focus on the bright side of software development, making it not only productive but also an enjoyable experience.\n",
      "Multi-platform\n",
      "IntelliJ IDEA is a cross-platform IDE that provides consistent experience on Windows, macOS, and Linux.\n",
      "See Install IntelliJ IDEA for OS-specific instructions.\n",
      "See IntelliJ IDEA keyboard shortcuts for instructions on how to choose the right keymap for your operating system, and learn the most useful shortcuts.\n",
      "Supported languages\n",
      "Development of modern applications involves using multiple languages, tools, frameworks, and technologies. IntelliJ IDEA is designed as an IDE for JVM languages but numerous plugins can extend it to provide a polyglot experience.\n",
      "JVM languages\n",
      "Use IntelliJ IDEA to develop applications in the following languages that can be compiled into the JVM bytecode, namely:\n",
      "Java\n",
      "Kotlin\n",
      "Scala\n",
      "Groovy\n",
      "Other languages\n",
      "Plugins bundled with IntelliJ IDEA and available out of the box add support for some of the most popular languages, namely:\n",
      "Python (full PyCharm functionality)\n",
      "Ruby (full RubyMine functionality)\n",
      "PHP (full PhpStorm functionality)\n",
      "SQL (full DataGrip functionality)\n",
      "Go (full GoLand functionality)\n",
      "JavaScript (full WebStorm functionality)\n",
      "TypeScript (full WebStorm functionality)\n",
      "Thymeleaf\n",
      "JSON\n",
      "Markdown\n",
      "HTML and XHTML\n",
      "XML and XSL\n",
      "XPath and XSLT\n",
      "Velocity and FreeMarker\n",
      "Stylesheets (CSS, Less, Sass)\n",
      "Dart\n",
      "Erlang\n",
      "C/C++ are not officially supported in IntelliJ IDEA, but you can use CLion.\n",
      "You can browse the JetBrains Marketplace to find an official plugin that adds support for almost any language, framework or technology used today, or for third-party plugins. See Manage plugins for details on how to manage plugins in IntelliJ IDEA.\n",
      "Do I need a language plugin for IntelliJ IDEA or a separate IDE?\n",
      "IntelliJ IDEA Ultimate is a superset of most IntelliJ platform-based IDEs. If the bundled language plugins are enabled, it includes support for all technologies that are available within our more specific IDEs, such as PyCharm, WebStorm, PHPStorm, and so on.\n",
      "So, for example, if your application's codebase is mainly in Java, but it also uses Python scripts, we recommend using IntelliJ IDEA in combination with the bundled Python plugin. If your codebase is mainly in Python, PyCharm is the right IDE for you.\n",
      "IntelliJ IDEA editions\n",
      "IntelliJ IDEA comes in three editions:\n",
      "IntelliJ IDEA Ultimate: the commercial edition for JVM, web, and enterprise development. It includes all the features of the Community edition, plus adds support for languages that other IntelliJ platform-based IDEs focus on, as well as support for a variety of server-side and front-end frameworks, application servers, integration with database and profiling tools, and more.\n",
      "IntelliJ IDEA Community Edition: the free edition based on open-source for JVM and Android development.\n",
      "IntelliJ IDEA Edu: the free edition with built-in lessons for learning Java, Kotlin, and Scala, interactive programming tasks and assignments, and special features for teachers to create their own courses and manage the educational process (see IntelliJ IDEA Edu).\n",
      "See the IntelliJ IDEA editions comparison matrix.\n",
      "The Early Access program\n",
      "IntelliJ IDEA Ultimate is available for free within the Early Access Program (EAP). EAP builds are published before the release of a stable product version, and you can download them to try out the new features before they are publicly available in return for your feedback. EAP builds are configured to collect feature usage statistics, and are a valuable source of information for our developers. You can also report an issue if you encounter any problems.\n",
      "Release Candidate (RC) builds published before a release are also available for download, but require a paid license.\n",
      "Preview builds published after the release of a stable version that are followed by an official update, also require a paid license and cannot be evaluated for free.\n",
      "User Interface\n",
      "IntelliJ IDEA provides an editor-centric environment. It follows your context and brings up the necessary tools automatically to help you minimize the risk of interrupting the developer's flow.\n",
      "Take a guided tour around IntelliJ IDEA user interface.\n",
      "Ergonomic design and customizable appearance\n",
      "One of the best things about IntelliJ IDEA is its tunability. You can configure virtually anything: the IDE appearance, the layout of tool windows and toolbars, code highlighting, and more. There are also numerous ways you can fine-tune the editor and customize its behavior to speed up navigation and get rid of any extras that distract you from code.\n",
      "Configure the colors and fonts for your source code, console output, debugger information, search results, and more. You can choose from a number of predefined color schemes or customize a scheme to create a unique working environment.\n",
      "Learn how to configure the editor settings, including appearance, font, code formatting, and more.\n",
      "Customize menus and toolbars to spare the annoyance of looking for an action among a dozen buttons you never use.\n",
      "Shortcuts for everything\n",
      "In IntelliJ IDEA, you have shortcuts for nearly every action, including selection and switching between the editor and various tool windows.\n",
      "Use the most useful shortcuts to invoke frequent actions without switching your focus from the editor and tune your keymap to assign custom shortcuts for your favorite commands.\n",
      "Watch this video to learn about some of the most useful shortcuts:\n",
      "Navigation and search\n",
      "IntelliJ IDEA provides quick navigation not only inside source code files but also throughout the entire project.\n",
      "One of the most useful shortcuts that is worth remembering is double Shift that brings up the Search Everywhere dialog: start typing and IntelliJ IDEA will look for your search string among all files, classes, and symbols that belong to your project, and even among the IDE actions.\n",
      "Here are some of the most useful navigation shortcuts:\n",
      "Action\n",
      "Shortcut\n",
      "Search everywhere\n",
      "Double Shift\n",
      "Go to file\n",
      "Ctrl+Shift+N\n",
      "Go to class\n",
      "Ctrl+N\n",
      "Go to symbol\n",
      "Ctrl+Alt+Shift+N\n",
      "Go to declaration\n",
      "Ctrl+B\n",
      "See Source code navigation for more hints on how to navigate through the source code, and learn the most useful shortcuts that help you quickly switch between the editor and various tool windows, switch focus, jump to the Navigation bar, and so on.\n",
      "Recent files and locations\n",
      "Normally, you work with a small subset of files at a time and need to switch between them quickly. The Recent Files action is a real time-saver here. Press Ctrl+E to see a list of last accessed files. Note that you can also use this action to open any tool window:\n",
      "Apart from jumping to a recent file, you can also get quick access to Recent Locations - that is code snippets you last viewed or edited. Press Ctrl+Shift+E and you'll be able to jump to a particular line you modified lately:\n",
      "File structure\n",
      "Press Ctrl+F12 to open the file structure popup that gives you an overview of all elements used in the current file and lets you jump to any of them:\n",
      "Alternatively, use the Structure tool window Alt+7\n",
      "Find action\n",
      "If you don't remember the shortcut or the menu path for an action you want to use, press Ctrl+Shift+A and start typing the action name:\n",
      "Coding assistance\n",
      "Code completion\n",
      "IntelliJ IDEA helps you speed up the coding process by providing context-aware code completion.\n",
      "Basic completion helps you complete the names of classes, methods, fields, and keywords within the visibility scope: \n",
      "Smart completion suggests the most relevant symbols applicable in the current context when IntelliJ IDEA can determine the appropriate type: \n",
      "For more information on the different types of code completion available in IntelliJ IDEA with examples and productivity tips, see Code completion.\n",
      "Refactorings\n",
      "IntelliJ IDEA offers a comprehensive set of automated code refactorings that lead to significant productivity gains. For example, when you rename a class, the IDE will update all references to this class throughout your project.\n",
      "You don't even need to bother to select anything before you apply a refactoring. IntelliJ IDEA is smart enough to figure out which statement you're going to refactor, and only asks for confirmation if several choices are possible. Just press Ctrl+Alt+Shift+T to open a list of refactorings available in the current context: \n",
      "See section Refactoring code for a full list of available refactorings with usages scenarios and the before and after examples.\n",
      "Learn some of the most useful refactoring shortcuts:\n",
      "Action\n",
      "Shortcut\n",
      "Refactor this\n",
      "Ctrl+Alt+Shift+T\n",
      "Rename\n",
      "Shift+F6\n",
      "Extract variable\n",
      "Ctrl+Alt+V\n",
      "Extract field\n",
      "Ctrl+Alt+F\n",
      "Extract a constant\n",
      "Ctrl+Alt+C\n",
      "Extract a method\n",
      "Ctrl+Alt+M\n",
      "Extract a parameter\n",
      "Ctrl+Alt+P\n",
      "Inline\n",
      "Ctrl+Alt+N\n",
      "Copy\n",
      "F5\n",
      "Move\n",
      "F6\n",
      "Static code analysis\n",
      "IntelliJ IDEA provides a set of inspections that are built-in static code analysis tools. They help you find potential bugs, locate dead code, detect performance issues, and improve the overall code structure.\n",
      "Inspections not only tell you where a problem is but also provide quick fixes that help you deal with it right away. Click the red bulb next to the highlighted code, or press Alt+Enter to choose a fix:\n",
      "Apart from quick-fixes, IntelliJ IDEA also provides intention actions that help you apply automatic changes to code that is correct. For example, you can inject a language, add Java annotations, add JavaDoc, convert HTML or XML tags, and much more. To view a full list of intention actions,  in the Settings/Preferences dialog (Ctrl+Alt+S) , go to Editor | Intentions.\n",
      "Code generation\n",
      "IntelliJ IDEA provides multiple ways to generate common code constructs and recurring elements, which helps you increase productivity by delegating routine tasks to the IDE. This includes generating code from predefined or custom code templates, generating wrappers, getters and setters, automatic pairing of characters, and more. Press Alt+Insert to open a popup with the available constructs you can generate from your caret position. See Generate code for more detail.\n",
      "Integration with developer tools\n",
      "Apart from providing smart navigation and coding assistance, IntelliJ IDEA integrates the essential developer tools and lets you debug, analyze, and version the code base of your applications from within the IDE.\n",
      "Debugger\n",
      "IntelliJ IDEA provides a built-in JVM debugger. It lets you get and analyze runtime information, which is useful for diagnosing issues and getting a deeper understanding of how a program operates. It enables you to:\n",
      "Suspend the program execution to examine its behavior using breakpoints. Multiple types of breakpoints, together with conditions and filters, allow you to specify the exact moment when an application needs to be paused.\n",
      "Play with the program state by modifying variable values, evaluate expressions, and so on.\n",
      "Examine variable values, call stacks, thread states, and so on.\n",
      "Control the step-by-step execution of the program.\n",
      "See Tutorial: Debug your first Java application to learn the basics of debugging and play with the debugger features in the IDE.\n",
      "Profiler\n",
      "IntelliJ IDEA provides the following built-in profiler tools that let you explore which methods consume most CPU time, thus helping you detect the most expensive methods and understand exactly how they behave:\n",
      "The Async Profiler: a tool for Linux and macOS that lets you see how exactly memory and CPU resources are allocated in your application.\n",
      "The Java Flight Recorder: a multi-platform tool that collects the information on events at a particular moment in time in a Java Virtual Machine when executing an application.\n",
      "Terminal\n",
      "IntelliJ IDEA includes a built-in terminal for working with a command-line shell from inside the IDE. For example, if you're used to executing Git commands from the command line, you can run them from the Terminal instead of invoking these actions from the menu.\n",
      "The Terminal runs with your default system shell, but it also supports a number of other shells, such as cmd.exe, bash, sh, and so on.\n",
      "Build tools\n",
      "IntelliJ IDEA comes with a fully-functional Gradle and Maven integration that allows you to automate your building process, packaging, running tests, deployment, and other activities.\n",
      "When you open an existing Gradle or Maven project or create a new one, IntelliJ IDEA detects and automatically downloads all the required repositories and plugins, so you virtually don't need to configure anything and can focus solely on the development process. You can edit build.gradle and pom.xml files directly from the editor and configure the IDE to automatically sync all changes to the build configurations.\n",
      "For instructions on how to work with Gradle and Maven projects in IntelliJ IDEA, see Gradle and Maven.\n",
      "Version Control\n",
      "IntelliJ IDEA provides integration with the most popular version control tools: Git, Mercurial, Perforce, and Subversion.\n",
      "You can review the history of your entire project or separate files, compare file versions, manage branches, and even process GitHub pull requests without leaving the IDE.\n",
      "You can quickly access all VCS actions from the VCS operations popup Alt+`:\n",
      "See Version control for instructions on how to configure integration with your VCS and perform the VCS-related operations.\n",
      "Local History\n",
      "Even if no version control is enabled for your project yet, you can still keep track of modifications to your project, and restore deleted files or separate changes with Local History. It acts as your personal version control system that automatically records your project's revisions triggered by various events as you edit code, run tests, deploy applications, and so on.\n",
      "What's next\n",
      "Watch this video tutorial to get started with IntelliJ IDEA \n",
      "Create your first Java application in IntelliJ IDEA\n",
      "Learn the most useful tips for writing code in IntelliJ IDEA: \n",
      "Get Started with Android development in IntelliJ IDEA.\n",
      "Happy developing!\n",
      "IntelliJ IDEA Edu\n",
      "IntelliJ IDEA Edu enables students to learn the most popular languages such as Java, Kotlin, and Scala through the interactive step-by-step process. IntelliJ IDEA Edu also empowers teachers with tools that help them easily create and manage the educational process.\n",
      "If you want, you can watch the related video before you continue to learn about IntelliJ IDEA Edu.\n",
      "You can download IntelliJ IDEA Edu to start working with the tools right away. If you need further instructions, refer to the installation guide.\n",
      "If you have the IntelliJ IDEA Ultimate or Community version already installed on your machine, you can just install the EduTools plugin.\n",
      "Install the EduTools plugin\n",
      " In the Settings/Preferences dialog (Ctrl+Alt+S) , go to Plugins.\n",
      "On the Plugins page, click the Marketplace tab.\n",
      "In the search field enter EduTools. IntelliJ IDEA displays the found plugin. \n",
      "Click Install and then Restart IDE.\n",
      "IntelliJ IDEA completes the installation and restarts the IDE.\n",
      "Roles\n",
      "IntelliJ IDEA Edu offers two roles you can choose from: the learner and the educator.\n",
      "The learning process takes place inside the IDE, and learners can get familiar with tools that they will use on the real-life programs.\n",
      "As a learner you can do the following:\n",
      "Browse and join a public interactive programming course, or a custom course created by your teacher.\n",
      "View your private courses and synchronize your progress between different computers by logging in to a learning platform such as Stepik.\n",
      "Work on assignments that are distributed locally by your teacher.\n",
      "Start learning by filling in placeholders in the exercise code according to the task description.\n",
      "Verify tasks, get instant feedback and quick results using an intelligent development tool.\n",
      "For more details, refer to the Learner Start Guide.\n",
      "Educators can get access to an additional set of tools to create courses in the IDE.\n",
      "As an educator you can do the following:\n",
      "Create and customize your own interactive course with tasks, checks, tests, and hints, tune the behavior of your course using advanced features, and so on.\n",
      "Share your course publicly or privately with your students or co-workers.\n",
      "Let learners independently complete their assignments with the assistance of your integrated tests.\n",
      "For more details, refer to the Educator Start Guide\n",
      "Select a role\n",
      "After you download IntelliJ IDEA Edu for the first time, it prompts you to select a role.\n",
      "Select Learner or Educator and click Start using EduTools.\n",
      "On the Welcome screen, click My Courses on the left.\n",
      "Then click Start New Course and select a course in the dialog that opens or create your own if you're an Educator. \n",
      "The role can be changed during the working process right inside the IDE by selecting Help | Enable Course Creator Features from the main menu.\n",
      "Install IntelliJ IDEA\n",
      "IntelliJ IDEA is a cross-platform IDE that provides consistent experience on the Windows, macOS, and Linux operating systems.\n",
      "IntelliJ IDEA is available in the following editions:\n",
      "Community Edition is free and open-source, licensed under Apache 2.0. It provides all the basic features for JVM and Android development.\n",
      "IntelliJ IDEA Ultimate is commercial, distributed with a 30-day trial period. It provides additional tools and features for web and enterprise development.\n",
      "For more information, see the comparison matrix.\n",
      "System requirements\n",
      "Requirement\n",
      "Minimum\n",
      "Recommended\n",
      "RAM\n",
      "2 GB of free RAM\n",
      "8 GB of total system RAM\n",
      "CPU\n",
      "Any modern CPU\n",
      "Multi-core CPU. IntelliJ IDEA supports multithreading for different operations and processes making it faster the more CPU cores it can use.\n",
      "Disk space\n",
      "2.5 GB and another 1 GB for caches\n",
      "SSD drive with at least 5 GB of free space\n",
      "Monitor resolution\n",
      "1024x768\n",
      "1920×1080\n",
      "Operating system\n",
      "Officially released 64-bit versions of the following:\n",
      "Microsoft Windows 8 or later\n",
      "macOS 10.14 or later\n",
      "Any Linux distribution that supports Gnome, KDE , or Unity DE. \n",
      "Pre-release versions are not supported.\n",
      "Latest 64-bit version of Windows, macOS, or Linux (for example, Debian, Ubuntu, or RHEL)\n",
      "You do not need to install Java to run IntelliJ IDEA because JetBrains Runtime is bundled with the IDE (based on JRE 11). However, to develop Java applications, a standalone JDK is required. \n",
      "Install using the Toolbox App\n",
      "The JetBrains Toolbox App is the recommended tool to install JetBrains products. Use it to install and manage different products or several versions of the same product, including Early Access Program (EAP) and Nightly releases, update and roll back when necessary, and easily remove any tool. The Toolbox App maintains a list of all your projects to quickly open any project in the right IDE and version.\n",
      "Install the Toolbox App\n",
      "Download the installer .exe from the Toolbox App web page.\n",
      "Run the installer and follow the wizard steps.\n",
      "After you run the Toolbox App, click its icon in the notification area and select which product and version you want to install.\n",
      "Log in to your JetBrains Account from the Toolbox App and it will automatically activate the available licenses for any IDE that you install.\n",
      "Install the Toolbox App\n",
      "Download the disk image .dmg from the Toolbox App web page.\n",
      "There are separate disk images for Intel and Apple Silicon processors.\n",
      "Mount the image and drag the JetBrains Toolbox app to the Applications folder.\n",
      "After you run the Toolbox App, click its icon in the main menu and select which product and version you want to install.\n",
      "Log in to your JetBrains Account from the Toolbox App and it will automatically activate the available licenses for any IDE that you install.\n",
      "Install the Toolbox App\n",
      "Download the tarball .tar.gz from the Toolbox App web page.\n",
      "Extract the tarball to a directory that supports file execution.\n",
      "For example, if the downloaded version is 1.17.7391, you can extract it to the recommended /opt directory using the following command:\n",
      "Execute the jetbrains-toolbox binary from the extracted directory to run the Toolbox App and select which product and version you want to install. After you run the Toolbox App for the first time, it will automatically add the Toolbox App icon to the main menu.\n",
      "Log in to your JetBrains Account from the Toolbox App and it will automatically activate the available licenses for any IDE that you install.\n",
      "You can use this shell script that automatically downloads the tarball with the latest version of the Toolbox App, extracts it to the recommended /opt directory, and creates a symbolic link in the /usr/local/bin directory.\n",
      "Standalone installation\n",
      "Install IntelliJ IDEA manually to manage the location of every instance and all the configuration files. For example, if you have a policy that requires specific install locations.\n",
      " Download the installer .exe.\n",
      "Run the installer and follow the wizard steps.\n",
      "On the Installation Options step, you can configure the following:\n",
      "Create a desktop shortcut for launching IntelliJ IDEA.\n",
      "Add the directory with IntelliJ IDEA command-line launchers to the PATH environment variable to be able to run them from any working directory in the Command Prompt.\n",
      "Add the Open Folder as Project action to the system context menu (when you right-click a folder).\n",
      "Associate specific file extensions with IntelliJ IDEA to open them with a double-click.\n",
      "To run IntelliJ IDEA, find it in the Windows Start menu or use the desktop shortcut. You can also run the launcher batch script or executable in the installation directory under bin.\n",
      "Download the ZIP archive\n",
      "Extract the archive to the desired folder.\n",
      "To run IntelliJ IDEA, use the launcher batch script or executable in the extracted directory under bin.\n",
      " Download the disk image.\n",
      "There are separate disk images for Intel and Apple Silicon processors.\n",
      "Mount the image and drag the IntelliJ IDEA app to the Applications folder.\n",
      "Run the IntelliJ IDEA app from the Applications directory, Launchpad, or Spotlight.\n",
      " Download the tarball .tar.gz.\n",
      "Extract the tarball to a directory that supports file execution.\n",
      "For example, to extract it to the recommended /opt directory, run the following command:\n",
      "Do not extract the tarball over an existing installation to avoid conflicts. Always extract it to a clean directory.\n",
      "Execute the idea.sh script from the extracted directory to run IntelliJ IDEA.\n",
      "To create a desktop entry, do one of the following:\n",
      "On the Welcome screen, click Configure | Create Desktop Entry\n",
      "From the main menu, click Tools | Create Desktop Entry\n",
      "When you run IntelliJ IDEA for the first time, you can take several steps to complete the installation, customize your instance, and start working with the IDE.\n",
      "For more information, see Run IntelliJ IDEA for the first time.\n",
      "For information about the location of the default IDE directories with user-specific files, see Directories used by the IDE.\n",
      "Silent installation on Windows\n",
      "Silent installation is performed without any user interface. It can be used by network administrators to install IntelliJ IDEA on a number of machines and avoid interrupting other users.\n",
      "To perform silent install, run the installer with the following switches:\n",
      "/S: Enable silent install\n",
      "/CONFIG: Specify the path to the silent configuration file\n",
      "/D: Specify the path to the installation directory\n",
      "This parameter must be the last in the command line and it should not contain any quotes even if the path contains blank spaces.\n",
      "For example:\n",
      "To check for issues during the installation process, add the /LOG switch with the log file path and name between the /S and /D parameters. The installer will generate the specified log file. For example:\n",
      "Silent configuration file\n",
      "You can download the default silent configuration file for IntelliJ IDEA at https://download.jetbrains.com/idea/silent.config\n",
      "The silent configuration file defines the options for installing IntelliJ IDEA. With the default options, silent installation is performed only for the current user: mode=user. If you want to install IntelliJ IDEA for all users, change the value of the installation mode option to mode=admin and run the installer as an administrator.\n",
      "The default silent configuration file is unique for each JetBrains product. You can modify it to enable or disable various installation options as necessary.\n",
      "It is possible to perform silent installation without the configuration file. In this case, omit the /CONFIG switch and run the installer as an administrator. Without the silent configuration file, the installer will ignore all additional options: it will not create desktop shortcuts, add associations, or update the PATH variable. However, it will still create a shortcut in the Start menu under JetBrains.\n",
      "Install as a snap package on Linux\n",
      "You can install IntelliJ IDEA as a self-contained snap package. Since snaps update automatically, your IntelliJ IDEA installation will always be up to date.\n",
      "To use snaps, install and run the snapd service as described in the installation guide.\n",
      "On Ubuntu 16.04 LTS and later, this service is pre-installed.\n",
      "IntelliJ IDEA is distributed via two channels:\n",
      "The stable channel includes only stable versions. To install the latest stable release of IntelliJ IDEA, run the following command:\n",
      "The --classic option is required because the IntelliJ IDEA snap requires full access to the system, like a traditionally packaged application.\n",
      "The edge channel includes EAP builds. To install the latest EAP build of IntelliJ IDEA, run the following command:\n",
      "When the snap is installed, you can launch it by running the  intellij-idea-community, intellij-idea-ultimate, or intellij-idea-educational command.\n",
      "To list all installed snaps, you can run sudo snap list. For information about other snap commands, see the Snapcraft documentation.\n",
      "Run IntelliJ IDEA for the first time\n",
      "You can use the Toolbox App to run any JetBrains product. In case of a standalone installation, running IntelliJ IDEA depends on the operating system: \n",
      "To run IntelliJ IDEA, find it in the Windows Start menu or use the desktop shortcut. You can also run the launcher batch script or executable in the installation directory under bin.\n",
      "Run the IntelliJ IDEA app from the Applications directory, Launchpad, or Spotlight.\n",
      "Run the idea.sh shell script in the installation directory under bin. You can also use the desktop shortcut, if it was created during installation.\n",
      "For information about running IntelliJ IDEA from the command line, see Command-line interface.\n",
      "Once you launch IntelliJ IDEA, you will see the Welcome screen, the starting point to your work with the IDE, and configuring its settings. This screen also appears when you close all opened projects. Use the tabs on the left side to switch to the specific welcome dialog.\n",
      "Customize the IDE appearance\n",
      "Click Customize and select another color theme or select the Sync with OS checkbox to use your system default theme. Here you can also configure accessibility settings or select another keymap.\n",
      "Configure the default settings\n",
      "Click Customize and select Import Settings if you already have a copy of the required settings that you want to apply.\n",
      "Alternatively, click All settings to open the settings dialog. The settings that you modify at this moment will become the new default configuration for your projects and the IDE.\n",
      "Install additional plugins\n",
      "Click Plugins in the left-hand pane and download and install additional plugins from the IntelliJ IDEA plugins repository.\n",
      "Learn IntelliJ IDEA\n",
      "Click Learn IntelliJ IDEA to get more familiar with the shortcuts, features, and workflows that the IDE has to offer. For more information, refer to Learn IDE features.\n",
      "Develop your applications remotely\n",
      "Click Remote Development to configure an entry point to connect to a remote server and code, run, debug, and deploy your projects remotely. For more information, refer to Remote development.\n",
      "Start a project in IntelliJ IDEA\n",
      "When you start IntelliJ IDEA, it will show you the Welcome screen.\n",
      "From the Welcome to IntelliJ IDEA dialog, you can do the following:\n",
      "Create a new project\n",
      "Open a project\n",
      "Get a project from a version control system\n",
      "Register IntelliJ IDEA\n",
      "You can evaluate IntelliJ IDEA Ultimate for up to 30 days. After installing the IDE, log in to your JetBrains Account to start using the IntelliJ IDEA's trial version.\n",
      "IntelliJ IDEA will automatically log you into your JetBrains Account if you're using ToolBox to install JetBrains products and already logged in there.\n",
      "If you use two-factor authentication for your JetBrains Account, you can specify the generated app password instead of the primary JetBrains Account password.\n",
      "Start the free trial\n",
      "In the Licenses dialog that opens when you start IntelliJ IDEA, select the Start trial option and click Log in to JetBrains Account. You will be redirected to the JetBrains Account website.\n",
      "Log in to your JetBrains Account on the website and click the Start Trial button in the Licenses dialog to start your trial period.\n",
      "Upon the expiration of the trial version, you need to buy and register a license to continue using IntelliJ IDEA Ultimate. A new trial period will be available for the next released version of IntelliJ IDEA Ultimate.\n",
      "IntelliJ IDEA Community Edition and IntelliJ IDEA Edu are free and can be used without any license. You cannot upgrade to IntelliJ IDEA Ultimate: download and install it separately as described in Install IntelliJ IDEA.\n",
      "Activate IntelliJ IDEA license\n",
      "Do one of the following to open the Licenses dialog:\n",
      "From the main menu, select Help | Register\n",
      "On the Welcome screen, click Help | Manage License\n",
      "If necessary, log in to your JetBrains Account.\n",
      "Select how you want to register IntelliJ IDEA or a plugin that requires a license:\n",
      "Register using the JetBrains Account.\n",
      "IntelliJ IDEA will automatically show the list of your licenses and their details like expiration date and identifier. Click Activate to start using your license.\n",
      "If your license is not shown on the list, click Refresh license list.\n",
      "Register using an activation code.\n",
      "You can get an activation code when you purchase a license for the corresponding product.\n",
      "Register using the Floating License Server.\n",
      "When performing silent installation or managing IntelliJ IDEA installations on multiple machines, you can set the JETBRAINS_LICENSE_SERVER environment variable to point the installation to the Floating License Server URL.\n",
      "Alternatively, you can set the Floating License Server URL by adding the -DJETBRAINS_LICENSE_SERVER JVM option.\n",
      "IntelliJ IDEA detects the system proxy URL during initial startup and uses it for connecting to the JetBrains Account and Floating License Server. To override the URL of the system proxy, add the -Djba.http.proxy JVM option. Specify the proxy URL as the host address and optional port number: proxy-host[:proxy-port]. For example: -Djba.http.proxy=http://my-proxy.com:4321.\n",
      "If you want to disable proxy detection entirely and always connect directly, set the property to -Djba.http.proxy=direct.\n",
      "Early Access Program\n",
      "Pre-release builds of IntelliJ IDEA Ultimate that are part of the Early Access Program are shipped with a 30-days license. Log in with your JetBrains Account to start using IntelliJ IDEA Ultimate EAP.\n",
      "You can use either your JetBrains Account directly or your Google, GitHub, GitLab, or BitBucket account for authorization. You can also create a new JetBrains Account if you don't have one yet.\n",
      "Login options\n",
      "Click Log in to JetBrains Account. You will be automatically redirected to the JetBrains Account website.\n",
      "On the website, log in using your JetBrains Account credentials.\n",
      "Once you've successfully logged in, you can start using IntelliJ IDEA EAP by clicking Get Started.\n",
      "If you want to participate in EAP-related activities and provide your feedback, make sure to select the Send me EAP-related feedback requests and surveys option.\n",
      "Click the Create an account link. You will be automatically redirected to the JetBrains Account website. Follow the instructions on the website to register a new JetBrains Account.\n",
      "Once you've successfully logged in, you can start using IntelliJ IDEA EAP by clicking Get Started.\n",
      "If you want to participate in EAP-related activities and provide your feedback, make sure to select the Send me EAP-related feedback requests and surveys option.\n",
      "Click the icon of the service that you want to use for logging in. You will be redirected to the login page on the website of the selected service.\n",
      "Once you've successfully logged in, you can start using IntelliJ IDEA EAP by clicking Get Started.\n",
      "If you want to participate in EAP-related activities and provide your feedback, make sure to select the Send me EAP-related feedback requests and surveys option.\n",
      "Access to JetBrains Account: Troubleshooting\n",
      "If you encounter problems when attempting to log in to your JetBrains Account, this may be due to one of the following reasons:\n",
      "No free ports\n",
      "IntelliJ IDEA waits for a response about successful login from the JetBrains Account website. If there are no ports available, IntelliJ IDEA will suggest logging in with an authorization token.\n",
      "Unable to open JetBrains Account in your browser\n",
      "When you click Log in to JetBrains Account, IntelliJ IDEA redirects you to the JetBrains Account website. If your system browser doesn't start, use the Troubles emergency button. IntelliJ IDEA will suggest logging in with an authorization token.\n",
      "No access to JetBrains Account\n",
      "The login process requires access to the JetBrains Account website. IntelliJ IDEA automatically redirects you to the website or lets you log in with an authorization token. If both options don't work and you cannot access the website, contact your system administrator. Otherwise, it will not be possible for you to log in and start using IntelliJ IDEA.\n",
      "Log in with an authorization token\n",
      "An authorization token is a way to log in to your JetBrains Account if your system doesn't allow for redirection from the IDE directly, for example, due to your company's security policy. IntelliJ IDEA recognizes when redirection to the JetBrains Account website is impossible. It enables you to copy a link to generate an authorization token manually.\n",
      "Click Copy link and open the copied link in your browser.\n",
      "Log in to your JetBrains Account to generate an authorization token. After that, copy the token, paste it to the IDE authorization token field and click Check token. Once you've successfully logged in, you can start using IntelliJ IDEA.\n",
      "Update IntelliJ IDEA\n",
      "By default, IntelliJ IDEA is configured to check for updates automatically and notify you when a new version is available. Updates are usually patch-based: they are applied to the existing installation and only require you to restart the IDE. However, sometimes patch updates are not available, and a new version of IntelliJ IDEA must be installed. \n",
      "When IntelliJ IDEA updates to a new major release, it opens the What's New in IntelliJ IDEA tab in the editor with information about the changes, improvements, and fixes. To open this tab manually, select Help | What's New in IntelliJ IDEA.\n",
      "If IntelliJ IDEA does not have HTTP access outside your local network, it will not be able to check for updates and apply patches. In this case, you have to download new versions of the IDE and install them manually as described in Standalone installation.\n",
      "Toolbox App\n",
      "If you installed IntelliJ IDEA using the Toolbox App, it will suggest you to update the IDE when a new version is available.\n",
      "Automatically update all managed tools\n",
      "Open the Toolbox App and click  in the top right corner.\n",
      "In the Toolbox App Settings dialog, expand Tools and select Update all tools automatically. \n",
      "If you disable this option, you will need to click Update next to any instance when a newer version comes out.\n",
      "You can also configure the update policy for every managed IDE instance separately.\n",
      "Configure the update policy for a specific instance\n",
      "Open the Toolbox App, click  next to the relevant IDE instance, and select Settings.\n",
      "In the instance settings dialog, select the update channel to use for this IDE instance:\n",
      "Update to Release: Update only to stable releases that are recommended for production.\n",
      "To Release and Early Access Program: Includes updates to release candidates , beta releases,  and EAP builds, which are not recommended for production and include feature previews.\n",
      "Standalone instance\n",
      "If you installed IntelliJ IDEA manually, the standalone IDE instance will manage its own updates. It will notify you when a new version is available . You can choose to update the current instance, download and install the new version as a separate instance, postpone the notification, or ignore the update entirely.\n",
      "Configure the update policy\n",
      "To manage the IntelliJ IDEA update policy, open Settings/Preferences Ctrl+Alt+S and select Appearance & Behavior | System Settings | Updates.\n",
      "If the IDE instance is managed by the Toolbox App, these settings will affect only plugin updates.\n",
      "The Updates page contains the following settings:\n",
      "Check IDE updates for\n",
      "Select whether you want IntelliJ IDEA to check for updates automatically and choose an update channel.\n",
      "Early Access Program: Provides all updates, including major version EAP builds and minor version Preview builds. This channel is not recommended for production development.\n",
      "IntelliJ IDEA can be updated only to a minor Preview version, but not to a major EAP build. For example, you can update IntelliJ IDEA 2021.1.1 to 2021.1.2, but not to 2021.2 EAP. The 2021.2 EAP version in this case will be installed as an additional instance.\n",
      "EAP versions can be updated to both newer EAP and stable IntelliJ IDEA versions. If an EAP version is updated to a stable version at some point, the name of the original installation directory does not change.\n",
      "Beta Releases or Public Previews: Includes stable releases, release candidates, and beta releases. Some updates in this channel may contain minor bugs and feature previews.\n",
      "Stable Releases: Includes only stable releases that are recommended for production.\n",
      "You can choose the update channel only if you are using a stable version. For EAP builds, the channel is always set to Early Access Program.\n",
      "Check for plugin updates\n",
      "Select whether you want IntelliJ IDEA to check for new versions of plugins automatically.\n",
      "Check for Updates\n",
      "Check for updates immediately.\n",
      "Alternatively, from the main menu, select Help | Check for Updates on Windows or Linux, or IntelliJ IDEA | Check for Updates on macOS.\n",
      "Manage ignored updates\n",
      "Show the list of updates that were ignored. These updates will not be suggested until you remove them from the list of ignored updates.\n",
      "If you remove several updates from the ignored list, only the most recent will be offered for download when you check for updates.\n",
      "Show What's New in the editor after an IDE update\n",
      "Open a tab with information about new features and improvements after a major IDE update.\n",
      "Snap package\n",
      "If you installed IntelliJ IDEA as a snap package, it will manage updates automatically. All snaps are updated automatically in the background every day. You can also get the latest version of all snaps manually at any time by running the following command:\n",
      "Or if you want to update only the IntelliJ IDEA snap:\n",
      "\n"
     ]
    }
   ],
   "source": [
    "page = next_page\n",
    "\n",
    "for i in range(5):\n",
    "    source = requests.get(URL + page)\n",
    "    soup = BeautifulSoup(source.text, \"html.parser\")\n",
    "    article = soup.find(\"article\")\n",
    "\n",
    "    for tag in article.find_all(re.compile(\"^h[1-6]$|^p$\")):\n",
    "        text += tag.get_text() + \"\\n\"\n",
    "\n",
    "    page = soup.find(\"a\", {\"class\":\"navigation-links__next\"}).get(\"href\")\n",
    "\n",
    "print(text)"
   ],
   "metadata": {
    "collapsed": false,
    "pycharm": {
     "name": "#%%\n"
    }
   }
  },
  {
   "cell_type": "markdown",
   "source": [
    "Let's make a corpus: a list of documents (each document is text extracted from a topic)"
   ],
   "metadata": {
    "collapsed": false
   }
  },
  {
   "cell_type": "code",
   "execution_count": 14,
   "outputs": [
    {
     "name": "stdout",
     "output_type": "stream",
     "text": [
      "IntelliJ IDEA overview\n",
      "IntelliJ IDEA is an Integrated Development Environment (IDE) for JVM language\n"
     ]
    }
   ],
   "source": [
    "corpus = []\n",
    "\n",
    "page = \"\"\n",
    "\n",
    "for i in range(5):\n",
    "    text = \"\"\n",
    "    source = requests.get(URL + page)\n",
    "    soup = BeautifulSoup(source.text, \"html.parser\")\n",
    "    article = soup.find(\"article\")\n",
    "\n",
    "    for tag in article.find_all(re.compile(\"^h[1-6]$|^p$\")):\n",
    "        text += tag.get_text() + \"\\n\"\n",
    "\n",
    "    corpus.append(text)\n",
    "\n",
    "    page = soup.find(\"a\", {\"class\":\"navigation-links__next\"}).get(\"href\")\n",
    "\n",
    "print(len(corpus))"
   ],
   "metadata": {
    "collapsed": false,
    "pycharm": {
     "name": "#%%\n"
    }
   }
  },
  {
   "cell_type": "code",
   "execution_count": 42,
   "outputs": [
    {
     "name": "stdout",
     "output_type": "stream",
     "text": [
      "2207\n"
     ]
    }
   ],
   "source": [
    "token_corpus = []\n",
    "\n",
    "for document in corpus:\n",
    "    tokens = nltk.tokenize.word_tokenize(document.lower().translate(str.maketrans('', '', string.punctuation)))\n",
    "    token_corpus.append(tokens)\n",
    "\n",
    "print(len(token_corpus[0]))"
   ],
   "metadata": {
    "collapsed": false,
    "pycharm": {
     "name": "#%%\n"
    }
   }
  },
  {
   "cell_type": "code",
   "execution_count": 43,
   "outputs": [
    {
     "name": "stdout",
     "output_type": "stream",
     "text": [
      "['intellij', 'idea', 'overview', 'intellij', 'idea', 'is', 'an', 'integrated', 'development', 'environment', 'ide', 'for', 'jvm', 'languages', 'designed', 'to', 'maximize', 'developer', 'productivity', 'it']\n"
     ]
    }
   ],
   "source": [
    "print(token_corpus[0][:20])"
   ],
   "metadata": {
    "collapsed": false,
    "pycharm": {
     "name": "#%%\n"
    }
   }
  },
  {
   "cell_type": "code",
   "execution_count": 44,
   "outputs": [
    {
     "name": "stdout",
     "output_type": "stream",
     "text": [
      "1583\n"
     ]
    }
   ],
   "source": [
    "clean_token_corpus = []\n",
    "stop_words = nltk.corpus.stopwords.words(\"english\")\\\n",
    "\n",
    "for document in token_corpus:\n",
    "    for token in document:\n",
    "        if token in stop_words:\n",
    "            document.remove(token)\n",
    "    clean_token_corpus.append(document)\n",
    "\n",
    "print(len(clean_token_corpus[0]))\n"
   ],
   "metadata": {
    "collapsed": false,
    "pycharm": {
     "name": "#%%\n"
    }
   }
  },
  {
   "cell_type": "code",
   "execution_count": 45,
   "outputs": [
    {
     "name": "stdout",
     "output_type": "stream",
     "text": [
      "['intellij', 'idea', 'overview', 'intellij', 'idea', 'integrated', 'development', 'environment', 'ide', 'jvm', 'languages', 'designed', 'maximize', 'developer', 'productivity', 'does', 'routine', 'repetitive', 'tasks', 'providing']\n"
     ]
    }
   ],
   "source": [
    "print(clean_token_corpus[0][:20])"
   ],
   "metadata": {
    "collapsed": false,
    "pycharm": {
     "name": "#%%\n"
    }
   }
  },
  {
   "cell_type": "code",
   "execution_count": 75,
   "outputs": [
    {
     "name": "stdout",
     "output_type": "stream",
     "text": [
      "5\n"
     ]
    }
   ],
   "source": [
    "term_frequencies = []\n",
    "\n",
    "for document in clean_token_corpus:\n",
    "    tf = dd(int)\n",
    "    for word in document:\n",
    "        tf[word] += 1 / len(document)\n",
    "\n",
    "    term_frequencies.append(tf)\n",
    "\n",
    "# sorted_word_count = sorted(word_count.items(), key=itemgetter(1), reverse=True)\n",
    "#\n",
    "# for word, freq in sorted_word_count[:10]:\n",
    "#     print('\\t'.join((word, str(freq))))\n",
    "\n",
    "print(len(term_frequencies))"
   ],
   "metadata": {
    "collapsed": false,
    "pycharm": {
     "name": "#%%\n"
    }
   }
  },
  {
   "cell_type": "code",
   "execution_count": 76,
   "outputs": [
    {
     "name": "stdout",
     "output_type": "stream",
     "text": [
      "intellij\t0.030953885028427004\n",
      "idea\t0.0296904611497157\n",
      "the\t0.028427037271004395\n",
      "code\t0.01895135818066961\n",
      "a\t0.01137081490840177\n",
      "your\t0.010739102969046116\n",
      "can\t0.010107391029690462\n",
      "ide\t0.008843967150979154\n",
      "see\t0.008843967150979154\n",
      "also\t0.007580543272267847\n"
     ]
    }
   ],
   "source": [
    "# print(term_frequencies[0])\n",
    "\n",
    "sorted_frequency_table = sorted(term_frequencies[0].items(),\n",
    "                                key=itemgetter(1), reverse=True)\n",
    "\n",
    "for word, freq in sorted_frequency_table[:10]:\n",
    "    print('\\t'.join((word, str(freq))))"
   ],
   "metadata": {
    "collapsed": false,
    "pycharm": {
     "name": "#%%\n"
    }
   }
  },
  {
   "cell_type": "code",
   "execution_count": 81,
   "outputs": [
    {
     "name": "stdout",
     "output_type": "stream",
     "text": [
      "website\t0.19689058978708146\n",
      "token\t0.15145429983621653\n",
      "authorization\t0.13630886985259485\n",
      "register\t0.12116343986897324\n",
      "eaprelated\t0.09087257990172992\n",
      "logged\t0.07572714991810826\n",
      "url\t0.07572714991810826\n",
      "redirected\t0.06058171993448662\n",
      "floating\t0.06058171993448662\n",
      "proxy\t0.06058171993448662\n"
     ]
    }
   ],
   "source": [
    "for document in term_frequencies:\n",
    "    for term in document:\n",
    "        docs_with_term = 0\n",
    "        for doc in term_frequencies:\n",
    "            if term in doc:\n",
    "                docs_with_term += 1\n",
    "        document[term] = document[term] * math.log(len(term_frequencies) / docs_with_term)\n",
    "        # print(term, document[term])\n",
    "\n",
    "# print(term_frequencies[0])\n",
    "\n",
    "sorted_frequency_table = sorted(term_frequencies[4].items(),\n",
    "                                key=itemgetter(1), reverse=True)\n",
    "\n",
    "for word, freq in sorted_frequency_table[:10]:\n",
    "    print('\\t'.join((word, str(freq))))"
   ],
   "metadata": {
    "collapsed": false,
    "pycharm": {
     "name": "#%%\n"
    }
   }
  },
  {
   "cell_type": "code",
   "execution_count": 94,
   "outputs": [
    {
     "name": "stdout",
     "output_type": "stream",
     "text": [
      "<!DOCTYPE html SYSTEM \"about:legacy-compat\"><html lang=\"en-US\" data-colors-preset=\"contrast\" data-pr\n",
      "None\n"
     ]
    }
   ],
   "source": [
    "source = requests.get(\"https://www.jetbrains.com/help/idea/getting-started.html\")\n",
    "\n",
    "print(source.text[:100])\n",
    "\n",
    "soup = BeautifulSoup(source.text, \"html.parser\")\n",
    "\n",
    "with open(\"page_src.html\", \"w\") as file:\n",
    "    file.write(soup.prettify())\n",
    "\n",
    "print(soup.find(\"article\"))"
   ],
   "metadata": {
    "collapsed": false,
    "pycharm": {
     "name": "#%%\n"
    }
   }
  }
 ],
 "metadata": {
  "kernelspec": {
   "display_name": "Python 3",
   "language": "python",
   "name": "python3"
  },
  "language_info": {
   "codemirror_mode": {
    "name": "ipython",
    "version": 2
   },
   "file_extension": ".py",
   "mimetype": "text/x-python",
   "name": "python",
   "nbconvert_exporter": "python",
   "pygments_lexer": "ipython2",
   "version": "2.7.6"
  }
 },
 "nbformat": 4,
 "nbformat_minor": 0
}