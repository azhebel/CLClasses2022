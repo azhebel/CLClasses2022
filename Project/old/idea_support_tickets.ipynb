{
 "cells": [
  {
   "cell_type": "code",
   "execution_count": 38,
   "metadata": {
    "collapsed": true
   },
   "outputs": [],
   "source": [
    "import json\n",
    "import pandas"
   ]
  },
  {
   "cell_type": "code",
   "execution_count": 59,
   "outputs": [
    {
     "name": "stdout",
     "output_type": "stream",
     "text": [
      "dict_keys(['url', 'id', 'external_id', 'via', 'created_at', 'updated_at', 'type', 'subject', 'raw_subject', 'description', 'priority', 'status', 'follower_ids', 'email_cc_ids', 'forum_topic_id', 'problem_id', 'has_incidents', 'is_public', 'due_at', 'tags', 'custom_fields', 'satisfaction_rating', 'sharing_agreement_ids', 'fields', 'followup_ids', 'ticket_form_id', 'brand_id', 'satisfaction_probability', 'metric_set', 'dates', 'allow_channelback', 'allow_attachments', 'generated_timestamp', 'submitter', 'requester', 'assignee', 'collaborator', 'recipient', 'group', 'organization', 'comments'])\n"
     ]
    }
   ],
   "source": [
    "with open(\"export-2021-02-17-1558-787891-36000071644041b2.json\", \"r\") as file:\n",
    "    content = file.readline()\n",
    "    data = json.loads(content)\n",
    "    print(data.keys())\n",
    "\n",
    "with open(\"ticket.json\", \"w\") as output:\n",
    "     output.write(content)"
   ],
   "metadata": {
    "collapsed": false,
    "pycharm": {
     "name": "#%%\n"
    }
   }
  },
  {
   "cell_type": "code",
   "execution_count": 68,
   "outputs": [
    {
     "name": "stdout",
     "output_type": "stream",
     "text": [
      "3289\n"
     ]
    },
    {
     "name": "stderr",
     "output_type": "stream",
     "text": [
      "IOPub data rate exceeded.\n",
      "The notebook server will temporarily stop sending output\n",
      "to the client in order to avoid crashing it.\n",
      "To change this limit, set the config variable\n",
      "`--NotebookApp.iopub_data_rate_limit`.\n",
      "\n",
      "Current values:\n",
      "NotebookApp.iopub_data_rate_limit=1000000.0 (bytes/sec)\n",
      "NotebookApp.rate_limit_window=3.0 (secs)\n",
      "\n"
     ]
    }
   ],
   "source": [
    "with open(\"export-2021-02-17-1558-787891-36000071644041b2.json\", \"r\") as file:\n",
    "    tickets = file.readlines()\n",
    "    print(len(tickets))\n",
    "\n",
    "ticket_list = []\n",
    "\n",
    "for ticket in tickets:\n",
    "    data = json.loads(ticket)\n",
    "    ticket_list.append({\"id\": data[\"id\"], \"subject\": data[\"subject\"], \"description\": data[\"description\"], \"tags\": data[\"tags\"], \"comments\": len(data[\"comments\"])})\n",
    "\n",
    "print(ticket_list)\n",
    "\n",
    "df = pandas.DataFrame.from_dict(ticket_list)\n",
    "\n",
    "df.to_csv(\"tickets.csv\")"
   ],
   "metadata": {
    "collapsed": false,
    "pycharm": {
     "name": "#%%\n"
    }
   }
  },
  {
   "cell_type": "code",
   "execution_count": 43,
   "outputs": [],
   "source": [
    "with open(\"export-2021-02-17-1558-787891-36000071644041b2.json\", \"r\") as file:\n",
    "    tickets = file.readlines()[:10]\n",
    "\n",
    "ticket_dict = {}\n",
    "\n",
    "for ticket in tickets:\n",
    "    data = json.loads(ticket)\n",
    "\n",
    "    if data[\"subject\"]:\n",
    "        subject = data[\"subject\"]\n",
    "        ticket_dict[\"id\"] = data[\"id\"]\n",
    "        ticket_dict[\"subject\"] = subject\n",
    "\n",
    "df = pandas.DataFrame.from_dict([ticket_dict])\n",
    "\n",
    "        # if subject.startswith(\"[IDEA webhelp]\"):\n",
    "        #     print(data[\"id\"])\n",
    "        #     print(data[\"subject\"])\n",
    "        #     print(data[\"comments\"][0][\"id\"])\n",
    "        # if data[\"via\"][\"channel\"] == \"api\":\n",
    "        #     print(data[\"id\"])\n",
    "        #     print(data[\"via\"][\"channel\"])"
   ],
   "metadata": {
    "collapsed": false,
    "pycharm": {
     "name": "#%%\n"
    }
   }
  },
  {
   "cell_type": "code",
   "execution_count": 44,
   "outputs": [
    {
     "name": "stdout",
     "output_type": "stream",
     "text": [
      "        id                                            subject\n",
      "0  2990804  Re: Get the newest version of Rider for Unreal...\n"
     ]
    }
   ],
   "source": [
    "print(df)"
   ],
   "metadata": {
    "collapsed": false,
    "pycharm": {
     "name": "#%%\n"
    }
   }
  },
  {
   "cell_type": "code",
   "execution_count": 73,
   "outputs": [
    {
     "name": "stdout",
     "output_type": "stream",
     "text": [
      "3053219\n",
      "3073582\n",
      "3109822\n",
      "3115009\n",
      "3115187\n",
      "3115238\n",
      "3117231\n",
      "3121526\n",
      "3127301\n",
      "3129428\n",
      "3132950\n",
      "3133542\n",
      "3135141\n",
      "3135322\n",
      "3136758\n",
      "3137525\n",
      "3137542\n",
      "3138197\n",
      "3138337\n",
      "3138492\n",
      "3138511\n",
      "3138749\n",
      "3139552\n",
      "3139602\n",
      "3139655\n",
      "3140885\n",
      "3141220\n",
      "3141451\n"
     ]
    }
   ],
   "source": [
    "for ticket in tickets:\n",
    "    data = json.loads(ticket)\n",
    "\n",
    "    comment_text = \"\"\n",
    "\n",
    "    for comment in data[\"comments\"]:\n",
    "        comment_text += comment[\"plain_body\"]\n",
    "\n",
    "    if \"/help/idea\" in comment_text:\n",
    "        print(data[\"id\"])\n"
   ],
   "metadata": {
    "collapsed": false,
    "pycharm": {
     "name": "#%%\n"
    }
   }
  }
 ],
 "metadata": {
  "kernelspec": {
   "display_name": "Python 3",
   "language": "python",
   "name": "python3"
  },
  "language_info": {
   "codemirror_mode": {
    "name": "ipython",
    "version": 2
   },
   "file_extension": ".py",
   "mimetype": "text/x-python",
   "name": "python",
   "nbconvert_exporter": "python",
   "pygments_lexer": "ipython2",
   "version": "2.7.6"
  }
 },
 "nbformat": 4,
 "nbformat_minor": 0
}