{
 "cells": [
  {
   "cell_type": "code",
   "execution_count": 59,
   "outputs": [],
   "source": [
    "import string\n",
    "import nltk\n",
    "import pandas\n",
    "from nltk.stem import WordNetLemmatizer\n",
    "from nltk.corpus import wordnet\n",
    "stop_words = nltk.corpus.stopwords.words(\"english\")"
   ],
   "metadata": {
    "collapsed": false,
    "pycharm": {
     "name": "#%%\n"
    }
   }
  },
  {
   "cell_type": "code",
   "execution_count": 72,
   "outputs": [
    {
     "data": {
      "text/plain": "True"
     },
     "execution_count": 72,
     "metadata": {},
     "output_type": "execute_result"
    }
   ],
   "source": [
    "\"the\" in stop_words"
   ],
   "metadata": {
    "collapsed": false,
    "pycharm": {
     "name": "#%%\n"
    }
   }
  },
  {
   "cell_type": "code",
   "execution_count": 26,
   "outputs": [
    {
     "name": "stderr",
     "output_type": "stream",
     "text": [
      "[nltk_data] Downloading package averaged_perceptron_tagger to\n",
      "[nltk_data]     /Users/Alexey.Zhebel/nltk_data...\n",
      "[nltk_data]   Package averaged_perceptron_tagger is already up-to-\n",
      "[nltk_data]       date!\n"
     ]
    },
    {
     "data": {
      "text/plain": "True"
     },
     "execution_count": 26,
     "metadata": {},
     "output_type": "execute_result"
    }
   ],
   "source": [
    "nltk.download('averaged_perceptron_tagger')"
   ],
   "metadata": {
    "collapsed": false,
    "pycharm": {
     "name": "#%%\n"
    }
   }
  },
  {
   "cell_type": "code",
   "execution_count": 123,
   "metadata": {
    "collapsed": true
   },
   "outputs": [
    {
     "data": {
      "text/plain": "                                    Unnamed: 0  \\\n0                  settings-notifications.html   \n1    configuring-project-and-ide-settings.html   \n2                 php-built-in-web-server.html   \n3  work-with-scala-worksheet-and-ammonite.html   \n4   finding-and-replacing-text-in-project.html   \n\n                                                   0  \n0  Notifications\\nUse this page to enable and dis...  \n1  Configuring the IDE\\nIntelliJ IDEA allows you ...  \n2  Built-in web server\\nThe following is only val...  \n3  Scala worksheet and Ammonite\\nYou can quickly ...  \n4  Search and replace a target within a project\\n...  ",
      "text/html": "<div>\n<style scoped>\n    .dataframe tbody tr th:only-of-type {\n        vertical-align: middle;\n    }\n\n    .dataframe tbody tr th {\n        vertical-align: top;\n    }\n\n    .dataframe thead th {\n        text-align: right;\n    }\n</style>\n<table border=\"1\" class=\"dataframe\">\n  <thead>\n    <tr style=\"text-align: right;\">\n      <th></th>\n      <th>Unnamed: 0</th>\n      <th>0</th>\n    </tr>\n  </thead>\n  <tbody>\n    <tr>\n      <th>0</th>\n      <td>settings-notifications.html</td>\n      <td>Notifications\\nUse this page to enable and dis...</td>\n    </tr>\n    <tr>\n      <th>1</th>\n      <td>configuring-project-and-ide-settings.html</td>\n      <td>Configuring the IDE\\nIntelliJ IDEA allows you ...</td>\n    </tr>\n    <tr>\n      <th>2</th>\n      <td>php-built-in-web-server.html</td>\n      <td>Built-in web server\\nThe following is only val...</td>\n    </tr>\n    <tr>\n      <th>3</th>\n      <td>work-with-scala-worksheet-and-ammonite.html</td>\n      <td>Scala worksheet and Ammonite\\nYou can quickly ...</td>\n    </tr>\n    <tr>\n      <th>4</th>\n      <td>finding-and-replacing-text-in-project.html</td>\n      <td>Search and replace a target within a project\\n...</td>\n    </tr>\n  </tbody>\n</table>\n</div>"
     },
     "execution_count": 123,
     "metadata": {},
     "output_type": "execute_result"
    }
   ],
   "source": [
    "df = pandas.read_csv(\"topic_text.csv\")\n",
    "\n",
    "df.head(5)"
   ]
  },
  {
   "cell_type": "code",
   "execution_count": 13,
   "outputs": [
    {
     "data": {
      "text/plain": "'Notifications\\nUse this page to enable and disable notifications about certain events, change their presentation, and optionally enable their logging.\\nItem\\nDescription\\nDisplay balloon notifications\\nSelect this checkbox to enable event notifications for IntelliJ\\xa0IDEA. (The notifications, generally, are shown in the balloons that appear on the screen when the corresponding events take place.)\\nRegardless of the state of this option, you will always find all notifications from the current session in the Event log\\nEnable system notifications\\nSelect this checkbox to allow showing system notification.\\nOn Windows, you may want to disable this option to hide IntelliJ\\xa0IDEA icon from the system tray.\\nGroup\\nThis column lists groups of events that you may be notified of and/or that may be logged.\\nPopup\\nIf the Display balloon notification checkbox is selected, the settings in this column specify how the notifications for the corresponding group of events are shown.\\nThe available display options are:\\nBalloon: The balloons with the notification messages appear on the screen for a short period of time and then disappear automatically. The notifications are also shown in the Status bar, and added to the list of notifications.\\nSticky balloon: The notification balloons stay on the screen unless you close them.\\nTool window balloon: The notification balloons are shown only if an appropriate tool window is open.\\nNo popup: The notifications for the corresponding group of events are not shown.\\nLog\\nIf the checkbox for a group of events is selected, the corresponding events are logged and can be seen in the Event Log tool window.\\nRead aloud\\nRead the selected notifications out loud. The Read aloud column is available only on macOS. You can configure voice settings in macOS preferences. To learn more about accessibility features on macOS, see the official Apple documentation.\\n'"
     },
     "execution_count": 13,
     "metadata": {},
     "output_type": "execute_result"
    }
   ],
   "source": [
    "text = df.iloc[0][1]\n",
    "text"
   ],
   "metadata": {
    "collapsed": false,
    "pycharm": {
     "name": "#%%\n"
    }
   }
  },
  {
   "cell_type": "code",
   "execution_count": 53,
   "outputs": [],
   "source": [
    "word = nltk.pos_tag(nltk.word_tokenize(text))[2]"
   ],
   "metadata": {
    "collapsed": false,
    "pycharm": {
     "name": "#%%\n"
    }
   }
  },
  {
   "cell_type": "code",
   "execution_count": 55,
   "outputs": [
    {
     "data": {
      "text/plain": "('this', 'DT')"
     },
     "execution_count": 55,
     "metadata": {},
     "output_type": "execute_result"
    }
   ],
   "source": [
    "word"
   ],
   "metadata": {
    "collapsed": false,
    "pycharm": {
     "name": "#%%\n"
    }
   }
  },
  {
   "cell_type": "code",
   "execution_count": 39,
   "outputs": [],
   "source": [
    "lemmatizer = WordNetLemmatizer()"
   ],
   "metadata": {
    "collapsed": false,
    "pycharm": {
     "name": "#%%\n"
    }
   }
  },
  {
   "cell_type": "code",
   "execution_count": 56,
   "outputs": [],
   "source": [
    "def nltk_pos_tagger(nltk_tag):\n",
    "    if nltk_tag.startswith('J'):\n",
    "        return wordnet.ADJ\n",
    "    elif nltk_tag.startswith('V'):\n",
    "        return wordnet.VERB\n",
    "    elif nltk_tag.startswith('N'):\n",
    "        return wordnet.NOUN\n",
    "    elif nltk_tag.startswith('R'):\n",
    "        return wordnet.ADV\n",
    "    else:\n",
    "        return wordnet.NOUN"
   ],
   "metadata": {
    "collapsed": false,
    "pycharm": {
     "name": "#%%\n"
    }
   }
  },
  {
   "cell_type": "code",
   "execution_count": 57,
   "outputs": [
    {
     "data": {
      "text/plain": "'this'"
     },
     "execution_count": 57,
     "metadata": {},
     "output_type": "execute_result"
    }
   ],
   "source": [
    "lemmatizer.lemmatize(word[0].lower(), nltk_pos_tagger(word[1]))"
   ],
   "metadata": {
    "collapsed": false,
    "pycharm": {
     "name": "#%%\n"
    }
   }
  },
  {
   "cell_type": "code",
   "execution_count": 82,
   "outputs": [
    {
     "data": {
      "text/plain": "'notification'"
     },
     "execution_count": 82,
     "metadata": {},
     "output_type": "execute_result"
    }
   ],
   "source": [
    "lemmatizer.lemmatize(\"notifications\", wordnet.NOUN)"
   ],
   "metadata": {
    "collapsed": false,
    "pycharm": {
     "name": "#%%\n"
    }
   }
  },
  {
   "cell_type": "code",
   "execution_count": 60,
   "outputs": [
    {
     "data": {
      "text/plain": "['Notifications',\n 'Use',\n 'page',\n 'enable',\n 'disable',\n 'notifications',\n 'certain',\n 'events',\n 'change',\n 'presentation',\n 'optionally',\n 'enable',\n 'logging',\n 'Item',\n 'Description',\n 'Display',\n 'balloon',\n 'notifications',\n 'Select',\n 'checkbox',\n 'enable',\n 'event',\n 'notifications',\n 'IntelliJ',\n 'IDEA',\n 'The',\n 'notifications',\n 'generally',\n 'shown',\n 'balloons',\n 'appear',\n 'screen',\n 'corresponding',\n 'events',\n 'take',\n 'place',\n 'Regardless',\n 'state',\n 'option',\n 'always',\n 'find',\n 'notifications',\n 'current',\n 'session',\n 'Event',\n 'log',\n 'Enable',\n 'system',\n 'notifications',\n 'Select',\n 'checkbox',\n 'allow',\n 'showing',\n 'system',\n 'notification',\n 'On',\n 'Windows',\n 'may',\n 'want',\n 'disable',\n 'option',\n 'hide',\n 'IntelliJ',\n 'IDEA',\n 'icon',\n 'system',\n 'tray',\n 'Group',\n 'This',\n 'column',\n 'lists',\n 'groups',\n 'events',\n 'may',\n 'notified',\n 'and/or',\n 'may',\n 'logged',\n 'Popup',\n 'If',\n 'Display',\n 'balloon',\n 'notification',\n 'checkbox',\n 'selected',\n 'settings',\n 'column',\n 'specify',\n 'notifications',\n 'corresponding',\n 'group',\n 'events',\n 'shown',\n 'The',\n 'available',\n 'display',\n 'options',\n 'Balloon',\n 'The',\n 'balloons',\n 'notification',\n 'messages',\n 'appear',\n 'screen',\n 'short',\n 'period',\n 'time',\n 'disappear',\n 'automatically',\n 'The',\n 'notifications',\n 'also',\n 'shown',\n 'Status',\n 'bar',\n 'added',\n 'list',\n 'notifications',\n 'Sticky',\n 'balloon',\n 'The',\n 'notification',\n 'balloons',\n 'stay',\n 'screen',\n 'unless',\n 'close',\n 'Tool',\n 'window',\n 'balloon',\n 'The',\n 'notification',\n 'balloons',\n 'shown',\n 'appropriate',\n 'tool',\n 'window',\n 'open',\n 'No',\n 'popup',\n 'The',\n 'notifications',\n 'corresponding',\n 'group',\n 'events',\n 'shown',\n 'Log',\n 'If',\n 'checkbox',\n 'group',\n 'events',\n 'selected',\n 'corresponding',\n 'events',\n 'logged',\n 'seen',\n 'Event',\n 'Log',\n 'tool',\n 'window',\n 'Read',\n 'aloud',\n 'Read',\n 'selected',\n 'notifications',\n 'loud',\n 'The',\n 'Read',\n 'aloud',\n 'column',\n 'available',\n 'macOS',\n 'You',\n 'configure',\n 'voice',\n 'settings',\n 'macOS',\n 'preferences',\n 'To',\n 'learn',\n 'accessibility',\n 'features',\n 'macOS',\n 'see',\n 'official',\n 'Apple',\n 'documentation']"
     },
     "execution_count": 60,
     "metadata": {},
     "output_type": "execute_result"
    }
   ],
   "source": [
    "[token for token in nltk.word_tokenize(text) if token not in stop_words and token not in string.punctuation]"
   ],
   "metadata": {
    "collapsed": false,
    "pycharm": {
     "name": "#%%\n"
    }
   }
  },
  {
   "cell_type": "code",
   "execution_count": 85,
   "outputs": [
    {
     "data": {
      "text/plain": "['notification',\n 'use',\n 'page',\n 'enable',\n 'disable',\n 'notification',\n 'certain',\n 'event',\n 'change',\n 'presentation',\n 'optionally',\n 'enable',\n 'log',\n 'item',\n 'description',\n 'display',\n 'balloon',\n 'notification',\n 'select',\n 'checkbox',\n 'enable',\n 'event',\n 'notification',\n 'intellij',\n 'idea',\n 'notification',\n 'generally',\n 'show',\n 'balloon',\n 'appear',\n 'screen',\n 'corresponding',\n 'event',\n 'take',\n 'place',\n 'regardless',\n 'state',\n 'option',\n 'always',\n 'find',\n 'notifications',\n 'current',\n 'session',\n 'event',\n 'log',\n 'enable',\n 'system',\n 'notification',\n 'select',\n 'checkbox',\n 'allow',\n 'show',\n 'system',\n 'notification',\n 'window',\n 'may',\n 'want',\n 'disable',\n 'option',\n 'hide',\n 'intellij',\n 'idea',\n 'icon',\n 'system',\n 'tray',\n 'group',\n 'column',\n 'list',\n 'group',\n 'event',\n 'may',\n 'notify',\n 'may',\n 'log',\n 'popup',\n 'display',\n 'balloon',\n 'notification',\n 'checkbox',\n 'select',\n 'setting',\n 'column',\n 'specify',\n 'notification',\n 'correspond',\n 'group',\n 'event',\n 'show',\n 'available',\n 'display',\n 'option',\n 'balloon',\n 'balloon',\n 'notification',\n 'message',\n 'appear',\n 'screen',\n 'short',\n 'period',\n 'time',\n 'disappear',\n 'automatically',\n 'notification',\n 'also',\n 'show',\n 'status',\n 'bar',\n 'add',\n 'list',\n 'notification',\n 'sticky',\n 'balloon',\n 'notification',\n 'balloon',\n 'stay',\n 'screen',\n 'unless',\n 'close',\n 'tool',\n 'window',\n 'balloon',\n 'notification',\n 'balloon',\n 'show',\n 'appropriate',\n 'tool',\n 'window',\n 'open',\n 'popup',\n 'notification',\n 'correspond',\n 'group',\n 'event',\n 'show',\n 'log',\n 'checkbox',\n 'group',\n 'event',\n 'select',\n 'correspond',\n 'event',\n 'log',\n 'see',\n 'event',\n 'log',\n 'tool',\n 'window',\n 'read',\n 'aloud',\n 'read',\n 'select',\n 'notification',\n 'loud',\n 'read',\n 'aloud',\n 'column',\n 'available',\n 'macos',\n 'configure',\n 'voice',\n 'setting',\n 'macos',\n 'preference',\n 'learn',\n 'accessibility',\n 'feature',\n 'macos',\n 'see',\n 'official',\n 'apple',\n 'documentation']"
     },
     "execution_count": 85,
     "metadata": {},
     "output_type": "execute_result"
    }
   ],
   "source": [
    "[lemmatizer.lemmatize(word[0].lower(), nltk_pos_tagger(word[1])) for word in nltk.pos_tag([token for token in nltk.word_tokenize(text.replace(\"/\",\" \")) if token.lower() not in stop_words and token not in string.punctuation])]"
   ],
   "metadata": {
    "collapsed": false,
    "pycharm": {
     "name": "#%%\n"
    }
   }
  },
  {
   "cell_type": "code",
   "execution_count": null,
   "outputs": [],
   "source": [],
   "metadata": {
    "collapsed": false,
    "pycharm": {
     "name": "#%%\n"
    }
   }
  },
  {
   "cell_type": "code",
   "execution_count": 140,
   "outputs": [],
   "source": [
    "def nltk_pos_tagger(nltk_tag):\n",
    "    if nltk_tag.startswith('J'):\n",
    "        return wordnet.ADJ\n",
    "    elif nltk_tag.startswith('V'):\n",
    "        return wordnet.VERB\n",
    "    elif nltk_tag.startswith('N'):\n",
    "        return wordnet.NOUN\n",
    "    elif nltk_tag.startswith('R'):\n",
    "        return wordnet.ADV\n",
    "    else:\n",
    "        return wordnet.NOUN\n",
    "\n",
    "def lem(source_text):\n",
    "    tokens = nltk.word_tokenize(source_text.lower().replace(\"/\", \" \").replace(\"\\\\\", \" \"))\n",
    "    print(\"First 10 tokens:\", tokens[:10])\n",
    "\n",
    "    tokens_with_pos_tags = nltk.pos_tag(tokens)\n",
    "    print(\"With tags:\", tokens_with_pos_tags[:])\n",
    "\n",
    "    clean_lemmas = []\n",
    "\n",
    "    for token in tokens_with_pos_tags:\n",
    "        if token[0].lower() not in stop_words and token[0] not in string.punctuation:\n",
    "            lemma = lemmatizer.lemmatize(token[0].lower(), nltk_pos_tagger(token[1]))\n",
    "            clean_lemmas.append(lemma)\n",
    "\n",
    "    return clean_lemmas\n"
   ],
   "metadata": {
    "collapsed": false,
    "pycharm": {
     "name": "#%%\n"
    }
   }
  },
  {
   "cell_type": "code",
   "execution_count": 119,
   "outputs": [
    {
     "name": "stdout",
     "output_type": "stream",
     "text": [
      "First 10 tokens: ['notifications', 'use', 'this', 'page', 'to', 'enable', 'and', 'disable', 'notifications', 'about']\n",
      "With tags: [('notifications', 'NNS'), ('use', 'VBP'), ('this', 'DT'), ('page', 'NN'), ('to', 'TO'), ('enable', 'VB'), ('and', 'CC'), ('disable', 'JJ'), ('notifications', 'NNS'), ('about', 'IN'), ('certain', 'JJ'), ('events', 'NNS'), (',', ','), ('change', 'VBP'), ('their', 'PRP$'), ('presentation', 'NN'), (',', ','), ('and', 'CC'), ('optionally', 'RB'), ('enable', 'VB'), ('their', 'PRP$'), ('logging', 'NN'), ('.', '.'), ('item', 'NN'), ('description', 'NN')]\n"
     ]
    },
    {
     "data": {
      "text/plain": "['notification',\n 'use',\n 'page',\n 'enable',\n 'disable',\n 'notification',\n 'certain',\n 'event',\n 'change',\n 'presentation',\n 'optionally',\n 'enable',\n 'logging',\n 'item',\n 'description',\n 'display',\n 'balloon',\n 'notification',\n 'select',\n 'checkbox',\n 'enable',\n 'event',\n 'notification',\n 'intellij',\n 'idea',\n 'notification',\n 'generally',\n 'show',\n 'balloon',\n 'appear',\n 'screen',\n 'corresponding',\n 'event',\n 'take',\n 'place',\n 'regardless',\n 'state',\n 'option',\n 'always',\n 'find',\n 'notification',\n 'current',\n 'session',\n 'event',\n 'log',\n 'enable',\n 'system',\n 'notification',\n 'select',\n 'checkbox',\n 'allow',\n 'show',\n 'system',\n 'notification',\n 'window',\n 'may',\n 'want',\n 'disable',\n 'option',\n 'hide',\n 'intellij',\n 'idea',\n 'icon',\n 'system',\n 'tray',\n 'group',\n 'column',\n 'list',\n 'group',\n 'event',\n 'may',\n 'notify',\n 'and/or',\n 'may',\n 'log',\n 'popup',\n 'display',\n 'balloon',\n 'notification',\n 'checkbox',\n 'select',\n 'setting',\n 'column',\n 'specify',\n 'notification',\n 'corresponding',\n 'group',\n 'event',\n 'show',\n 'available',\n 'display',\n 'option',\n 'balloon',\n 'balloon',\n 'notification',\n 'message',\n 'appear',\n 'screen',\n 'short',\n 'period',\n 'time',\n 'disappear',\n 'automatically',\n 'notification',\n 'also',\n 'show',\n 'status',\n 'bar',\n 'add',\n 'list',\n 'notification',\n 'sticky',\n 'balloon',\n 'notification',\n 'balloon',\n 'stay',\n 'screen',\n 'unless',\n 'close',\n 'tool',\n 'window',\n 'balloon',\n 'notification',\n 'balloon',\n 'show',\n 'appropriate',\n 'tool',\n 'window',\n 'open',\n 'popup',\n 'notification',\n 'corresponding',\n 'group',\n 'event',\n 'show',\n 'log',\n 'checkbox',\n 'group',\n 'event',\n 'select',\n 'corresponding',\n 'event',\n 'log',\n 'see',\n 'event',\n 'log',\n 'tool',\n 'window',\n 'read',\n 'aloud',\n 'read',\n 'select',\n 'notification',\n 'loud',\n 'read',\n 'aloud',\n 'column',\n 'available',\n 'macos',\n 'configure',\n 'voice',\n 'setting',\n 'macos',\n 'preference',\n 'learn',\n 'accessibility',\n 'feature',\n 'macos',\n 'see',\n 'official',\n 'apple',\n 'documentation']"
     },
     "execution_count": 119,
     "metadata": {},
     "output_type": "execute_result"
    }
   ],
   "source": [
    "lem(text)"
   ],
   "metadata": {
    "collapsed": false,
    "pycharm": {
     "name": "#%%\n"
    }
   }
  },
  {
   "cell_type": "code",
   "execution_count": 76,
   "outputs": [
    {
     "data": {
      "text/plain": "[('optionally', 'RB'),\n ('dogs', 'NNS'),\n ('wave', 'VBP'),\n ('leaves', 'NNS'),\n ('as', 'IN'),\n ('he', 'PRP'),\n ('leaves', 'VBZ')]"
     },
     "execution_count": 76,
     "metadata": {},
     "output_type": "execute_result"
    }
   ],
   "source": [
    "nltk.pos_tag([\"optionally\", \"dogs\", \"wave\", \"leaves\", \"as\", \"he\", \"leaves\"])"
   ],
   "metadata": {
    "collapsed": false,
    "pycharm": {
     "name": "#%%\n"
    }
   }
  },
  {
   "cell_type": "code",
   "execution_count": 112,
   "outputs": [
    {
     "data": {
      "text/plain": "[('display', 'NN'),\n ('balloon', 'NN'),\n ('notifications', 'NNS'),\n ('optionally', 'RB')]"
     },
     "execution_count": 112,
     "metadata": {},
     "output_type": "execute_result"
    }
   ],
   "source": [
    "nltk.pos_tag([\"display\", \"balloon\", \"notifications\", \"optionally\"])"
   ],
   "metadata": {
    "collapsed": false,
    "pycharm": {
     "name": "#%%\n"
    }
   }
  },
  {
   "cell_type": "code",
   "execution_count": 135,
   "outputs": [
    {
     "data": {
      "text/plain": "'templates'"
     },
     "execution_count": 135,
     "metadata": {},
     "output_type": "execute_result"
    }
   ],
   "source": [
    "lemmatizer.lemmatize(\"templates\", wordnet.VERB)"
   ],
   "metadata": {
    "collapsed": false,
    "pycharm": {
     "name": "#%%\n"
    }
   }
  },
  {
   "cell_type": "code",
   "execution_count": 126,
   "outputs": [
    {
     "data": {
      "text/plain": "                           Unnamed: 0  \\\n1082  saving-project-as-template.html   \n\n                                                      0  \n1082  Save projects as templates\\nIf you have a proj...  ",
      "text/html": "<div>\n<style scoped>\n    .dataframe tbody tr th:only-of-type {\n        vertical-align: middle;\n    }\n\n    .dataframe tbody tr th {\n        vertical-align: top;\n    }\n\n    .dataframe thead th {\n        text-align: right;\n    }\n</style>\n<table border=\"1\" class=\"dataframe\">\n  <thead>\n    <tr style=\"text-align: right;\">\n      <th></th>\n      <th>Unnamed: 0</th>\n      <th>0</th>\n    </tr>\n  </thead>\n  <tbody>\n    <tr>\n      <th>1082</th>\n      <td>saving-project-as-template.html</td>\n      <td>Save projects as templates\\nIf you have a proj...</td>\n    </tr>\n  </tbody>\n</table>\n</div>"
     },
     "execution_count": 126,
     "metadata": {},
     "output_type": "execute_result"
    }
   ],
   "source": [
    "df.loc[df[\"Unnamed: 0\"] == \"saving-project-as-template.html\"]"
   ],
   "metadata": {
    "collapsed": false,
    "pycharm": {
     "name": "#%%\n"
    }
   }
  },
  {
   "cell_type": "code",
   "execution_count": 136,
   "outputs": [],
   "source": [
    "topic = df.iloc[680][1]"
   ],
   "metadata": {
    "collapsed": false,
    "pycharm": {
     "name": "#%%\n"
    }
   }
  },
  {
   "cell_type": "code",
   "execution_count": 141,
   "outputs": [
    {
     "name": "stdout",
     "output_type": "stream",
     "text": [
      "First 10 tokens: ['directories', 'used', 'by', 'the', 'ide', 'by', 'default', ',', 'intellij', 'idea']\n",
      "With tags: [('directories', 'NNS'), ('used', 'VBN'), ('by', 'IN'), ('the', 'DT'), ('ide', 'NN'), ('by', 'IN'), ('default', 'NN'), (',', ','), ('intellij', 'JJ'), ('idea', 'NN'), ('stores', 'NNS'), ('user-specific', 'JJ'), ('files', 'NNS'), ('for', 'IN'), ('each', 'DT'), ('ide', 'NN'), ('instance', 'NN'), ('(', '('), ('configuration', 'NN'), (',', ','), ('caches', 'NNS'), (',', ','), ('plugins', 'NNS'), (',', ','), ('logs', 'NNS'), (',', ','), ('and', 'CC'), ('so', 'RB'), ('on', 'IN'), (')', ')'), ('in', 'IN'), ('the', 'DT'), ('user', 'NN'), (\"'s\", 'POS'), ('home', 'NN'), ('directory', 'NN'), ('.', '.'), ('however', 'RB'), (',', ','), ('you', 'PRP'), ('can', 'MD'), ('change', 'VB'), ('the', 'DT'), ('location', 'NN'), ('for', 'IN'), ('storing', 'VBG'), ('those', 'DT'), ('files', 'NNS'), (',', ','), ('if', 'IN'), ('necessary', 'JJ'), ('.', '.'), ('the', 'DT'), ('default', 'NN'), ('location', 'NN'), ('of', 'IN'), ('the', 'DT'), ('ide', 'NN'), ('directories', 'VBZ'), ('has', 'VBZ'), ('changed', 'VBN'), ('starting', 'VBG'), ('from', 'IN'), ('intellij', 'JJ'), ('idea', 'NN'), ('version', 'NN'), ('2020.1.', 'CD'), ('if', 'IN'), ('you', 'PRP'), ('had', 'VBD'), ('a', 'DT'), ('previous', 'JJ'), ('version', 'NN'), (',', ','), ('new', 'JJ'), ('installations', 'NNS'), ('will', 'MD'), ('import', 'VB'), ('configuration', 'NN'), ('from', 'IN'), ('the', 'DT'), ('old', 'JJ'), ('directories', 'NNS'), ('.', '.'), ('for', 'IN'), ('information', 'NN'), ('about', 'IN'), ('the', 'DT'), ('location', 'NN'), ('of', 'IN'), ('the', 'DT'), ('default', 'NN'), ('directories', 'NNS'), ('in', 'IN'), ('previous', 'JJ'), ('ide', 'JJ'), ('versions', 'NNS'), (',', ','), ('see', 'VBP'), ('the', 'DT'), ('corresponding', 'JJ'), ('help', 'NN'), ('version', 'NN'), (',', ','), ('for', 'IN'), ('example', 'NN'), (':', ':'), ('https', 'NN'), (':', ':'), ('www.jetbrains.com', 'NN'), ('help', 'NN'), ('idea', 'NN'), ('2019.3', 'CD'), ('tuning-the-ide.html', 'JJ'), ('#', '#'), ('default-dirs', 'JJ'), ('.', '.'), ('change', 'VB'), ('the', 'DT'), ('location', 'NN'), ('of', 'IN'), ('ide', 'JJ'), ('directories', 'NNS'), ('you', 'PRP'), ('can', 'MD'), ('move', 'VB'), ('the', 'DT'), ('default', 'NN'), ('ide', 'NN'), ('directories', 'NNS'), (',', ','), ('for', 'IN'), ('example', 'NN'), (',', ','), ('if', 'IN'), ('the', 'DT'), ('user', 'NN'), ('profile', 'NN'), ('drive', 'NN'), ('runs', 'VBZ'), ('out', 'IN'), ('of', 'IN'), ('space', 'NN'), ('or', 'CC'), ('it', 'PRP'), ('is', 'VBZ'), ('located', 'VBN'), ('on', 'IN'), ('a', 'DT'), ('slow', 'JJ'), ('disk', 'NN'), (',', ','), ('if', 'IN'), ('the', 'DT'), ('home', 'NN'), ('directory', 'NN'), ('is', 'VBZ'), ('encrypted', 'VBN'), ('(', '('), ('slowing', 'VBG'), ('down', 'RP'), ('the', 'DT'), ('ide', 'NN'), (')', ')'), ('or', 'CC'), ('is', 'VBZ'), ('located', 'VBN'), ('on', 'IN'), ('a', 'DT'), ('network', 'NN'), ('drive', 'NN'), (',', ','), ('if', 'IN'), ('you', 'PRP'), ('want', 'VBP'), ('to', 'TO'), ('create', 'VB'), ('a', 'DT'), ('portable', 'JJ'), ('installation', 'NN'), ('or', 'CC'), ('exclude', 'NN'), ('caches', 'NNS'), ('from', 'IN'), ('home', 'NN'), ('directory', 'NN'), ('backups', 'NNS'), (',', ','), ('and', 'CC'), ('so', 'RB'), ('on', 'IN'), ('.', '.'), ('from', 'IN'), ('the', 'DT'), ('main', 'JJ'), ('menu', 'NN'), (',', ','), ('select', 'VB'), ('help', 'NN'), ('|', 'VB'), ('edit', 'NN'), ('custom', 'NN'), ('properties', 'NNS'), ('.', '.'), ('set', 'VB'), ('the', 'DT'), ('property', 'NN'), ('that', 'WDT'), ('corresponds', 'VBZ'), ('to', 'TO'), ('the', 'DT'), ('necessary', 'JJ'), ('directory', 'NN'), (':', ':'), ('property', 'NN'), ('path', 'NN'), ('to', 'TO'), ('idea.config.path', 'VB'), ('configuration', 'NN'), ('directory', 'NN'), ('idea.system.path', 'NN'), ('system', 'NN'), ('directory', 'JJ'), ('idea.plugins.path', 'NN'), ('plugins', 'NNS'), ('directory', 'JJ'), ('idea.log.path', 'JJ'), ('logs', 'NNS'), ('directory', 'NN'), ('specify', 'JJ'), ('paths', 'NNS'), ('with', 'IN'), ('forward', 'JJ'), ('slashes', 'NNS'), (',', ','), ('including', 'VBG'), ('windows', 'NNS'), ('paths', 'NNS'), ('(', '('), ('for', 'IN'), ('example', 'NN'), (',', ','), ('c', 'NN'), (':', ':'), ('idea', 'NN'), ('system', 'NN'), (')', ')'), ('.', '.'), ('you', 'PRP'), ('can', 'MD'), ('insert', 'VB'), ('any', 'DT'), ('other', 'JJ'), ('properties', 'NNS'), ('as', 'IN'), ('variables', 'NNS'), ('.', '.'), ('for', 'IN'), ('example', 'NN'), (',', ','), ('use', 'VB'), ('$', '$'), ('{', '('), ('user.home', 'JJ'), ('}', ')'), ('(', '('), ('standard', 'JJ'), ('java', 'NN'), ('system', 'NN'), ('property', 'NN'), (')', ')'), ('to', 'TO'), ('specify', 'VB'), ('paths', 'NNS'), ('relative', 'VB'), ('to', 'TO'), ('the', 'DT'), ('user', 'NN'), (\"'s\", 'POS'), ('home', 'NN'), ('directory', 'NN'), (':', ':'), ('after', 'IN'), ('you', 'PRP'), ('restart', 'VBP'), ('intellij', 'JJ'), ('idea', 'NN'), (',', ','), ('it', 'PRP'), ('will', 'MD'), ('use', 'VB'), ('the', 'DT'), ('new', 'JJ'), ('location', 'NN'), ('of', 'IN'), ('the', 'DT'), ('corresponding', 'JJ'), ('directory', 'NN'), ('.', '.'), ('clean', 'VB'), ('up', 'RP'), ('old', 'JJ'), ('ide', 'NN'), ('directories', 'VBZ'), ('every', 'DT'), ('time', 'NN'), ('you', 'PRP'), ('install', 'VBP'), ('a', 'DT'), ('new', 'JJ'), ('major', 'JJ'), ('version', 'NN'), ('of', 'IN'), ('intellij', 'JJ'), ('idea', 'NN'), (',', ','), ('it', 'PRP'), ('uses', 'VBZ'), ('a', 'DT'), ('new', 'JJ'), ('set', 'NN'), ('of', 'IN'), ('ide', 'JJ'), ('directories', 'NNS'), ('and', 'CC'), ('automatically', 'RB'), ('deletes', 'VBZ'), ('the', 'DT'), ('caches', 'NNS'), ('and', 'CC'), ('logs', 'NNS'), ('directories', 'NNS'), ('for', 'IN'), ('older', 'JJR'), ('versions', 'NNS'), ('of', 'IN'), ('the', 'DT'), ('ide', 'NN'), ('that', 'WDT'), ('have', 'VBP'), ('not', 'RB'), ('been', 'VBN'), ('updated', 'VBN'), ('in', 'IN'), ('the', 'DT'), ('last', 'JJ'), ('180', 'CD'), ('days', 'NNS'), ('.', '.'), ('the', 'DT'), ('configuration', 'NN'), ('and', 'CC'), ('plugins', 'VBZ'), ('directories', 'NNS'), ('will', 'MD'), ('remain', 'VB'), ('forever', 'RB'), (',', ','), ('unless', 'IN'), ('you', 'PRP'), ('remove', 'VBP'), ('them', 'PRP'), ('manually', 'RB'), ('.', '.'), ('from', 'IN'), ('the', 'DT'), ('main', 'JJ'), ('menu', 'NN'), (',', ','), ('select', 'VB'), ('help', 'NN'), ('|', 'NNP'), ('delete', 'VB'), ('leftover', 'RB'), ('ide', 'JJ'), ('directories', 'NNS'), ('in', 'IN'), ('the', 'DT'), ('delete', 'JJ'), ('leftover', 'NN'), ('ide', 'JJ'), ('storage', 'NN'), ('directories', 'NNS'), ('dialog', 'VBP'), (',', ','), ('select', 'VBP'), ('the', 'DT'), ('versions', 'NNS'), ('of', 'IN'), ('the', 'DT'), ('ide', 'NN'), ('that', 'IN'), ('you', 'PRP'), ('are', 'VBP'), ('not', 'RB'), ('planning', 'VBG'), ('to', 'TO'), ('use', 'VB'), ('and', 'CC'), ('click', 'VB'), ('delete', 'NN'), ('.', '.'), ('configuration', 'NN'), ('directory', 'NN'), ('the', 'DT'), ('intellij', 'NN'), ('idea', 'NN'), ('configuration', 'NN'), ('directory', 'NN'), ('contains', 'VBZ'), ('user-defined', 'JJ'), ('ide', 'JJ'), ('settings', 'NNS'), (',', ','), ('such', 'JJ'), ('as', 'IN'), ('keymaps', 'NNS'), (',', ','), ('color', 'NN'), ('schemes', 'NNS'), (',', ','), ('custom', 'NN'), ('vm', 'NN'), ('options', 'NNS'), (',', ','), ('platform', 'NN'), ('properties', 'NNS'), (',', ','), ('and', 'CC'), ('so', 'RB'), ('on', 'IN'), ('.', '.'), ('%', 'NN'), ('appdata', 'JJ'), ('%', 'NN'), ('jetbrains', 'VBZ'), ('<', 'JJ'), ('product', 'NN'), ('>', 'NNP'), ('<', 'NNP'), ('version', 'NN'), ('>', 'NNP'), ('c', 'NN'), (':', ':'), ('users', 'NNS'), ('johns', 'VBP'), ('appdata', 'JJ'), ('roaming', 'NN'), ('jetbrains', 'NNS'), ('intellijideagetting-started', 'JJ'), ('~', 'NNP'), ('library', 'NN'), ('application', 'NN'), ('support', 'NN'), ('jetbrains', 'VBZ'), ('<', 'JJ'), ('product', 'NN'), ('>', 'NNP'), ('<', 'NNP'), ('version', 'NN'), ('>', 'NNP'), ('~', 'NNP'), ('library', 'JJ'), ('application', 'NN'), ('support', 'NN'), ('jetbrains', 'VBZ'), ('intellijideagetting-started', 'JJ'), ('~', 'NNP'), ('.config', 'NNP'), ('jetbrains', 'VBZ'), ('<', 'JJ'), ('product', 'NN'), ('>', 'NNP'), ('<', 'NNP'), ('version', 'NN'), ('>', 'NNP'), ('~', 'NNP'), ('.config', 'NNP'), ('jetbrains', 'VBZ'), ('intellijideagetting-started', 'JJ'), ('you', 'PRP'), ('can', 'MD'), ('change', 'VB'), ('the', 'DT'), ('location', 'NN'), ('of', 'IN'), ('the', 'DT'), ('intellij', 'NN'), ('idea', 'NN'), ('configuration', 'NN'), ('directory', 'NN'), ('using', 'VBG'), ('the', 'DT'), ('idea.config.path', 'NN'), ('property', 'NN'), ('.', '.'), ('to', 'TO'), ('share', 'NN'), ('your', 'PRP$'), ('personal', 'JJ'), ('ide', 'NN'), ('settings', 'NNS'), (',', ','), ('copy', 'VBP'), ('the', 'DT'), ('files', 'NNS'), ('from', 'IN'), ('the', 'DT'), ('configuration', 'NN'), ('directory', 'NN'), ('to', 'TO'), ('the', 'DT'), ('corresponding', 'JJ'), ('folders', 'NNS'), ('on', 'IN'), ('another', 'DT'), ('intellij', 'NN'), ('idea', 'NN'), ('installation', 'NN'), ('.', '.'), ('make', 'VB'), ('sure', 'JJ'), ('that', 'IN'), ('intellij', 'JJ'), ('idea', 'NN'), ('is', 'VBZ'), ('not', 'RB'), ('running', 'VBG'), ('to', 'TO'), ('avoid', 'VB'), ('erasing', 'VBG'), ('the', 'DT'), ('copied', 'JJ'), ('files', 'NNS'), ('when', 'WRB'), ('you', 'PRP'), ('shut', 'VBP'), ('down', 'RP'), ('the', 'DT'), ('ide', 'NN'), ('.', '.'), ('depending', 'VBG'), ('on', 'IN'), ('which', 'WDT'), ('settings', 'NNS'), ('you', 'PRP'), ('modified', 'VBN'), (',', ','), ('the', 'DT'), ('intellij', 'NN'), ('idea', 'NN'), ('configuration', 'NN'), ('directory', 'NN'), ('can', 'MD'), ('contain', 'VB'), ('the', 'DT'), ('following', 'JJ'), ('subfolders', 'NNS'), (':', ':'), ('directory', 'NN'), ('user', 'JJ'), ('settings', 'NNS'), ('codestyles', 'NNS'), ('customized', 'VBD'), ('code', 'NN'), ('style', 'NN'), ('schemes', 'VBZ'), ('colors', 'NNS'), ('customized', 'VBD'), ('editor', 'NN'), ('color', 'NN'), ('and', 'CC'), ('font', 'JJ'), ('schemes', 'NNS'), ('filetemplates', 'VBZ'), ('user-defined', 'JJ'), ('file', 'NN'), ('templates', 'NNS'), ('filetypes', 'VBZ'), ('user-defined', 'JJ'), ('file', 'NN'), ('types', 'NNS'), ('inspection', 'NN'), ('code', 'NN'), ('inspection', 'NN'), ('profiles', 'NNS'), ('keymaps', 'NNS'), ('customized', 'VBD'), ('keyboard', 'NN'), ('shortcuts', 'NNS'), ('options', 'NNS'), ('various', 'JJ'), ('options', 'NNS'), (',', ','), ('for', 'IN'), ('example', 'NN'), (',', ','), ('feature', 'NN'), ('usage', 'NN'), ('statistics', 'NNS'), ('and', 'CC'), ('macros', 'NNS'), ('scratches', 'NNS'), ('scratch', 'VBP'), ('files', 'NNS'), ('and', 'CC'), ('buffers', 'NNS'), ('templates', 'VBZ'), ('user-defined', 'JJ'), ('live', 'JJ'), ('templates', 'NNS'), ('tools', 'NNS'), ('configuration', 'NN'), ('files', 'NNS'), ('for', 'IN'), ('user-defined', 'JJ'), ('external', 'JJ'), ('tools', 'NNS'), ('shelf', 'NN'), ('shelved', 'VBN'), ('changes', 'NNS'), ('if', 'IN'), ('you', 'PRP'), ('are', 'VBP'), ('using', 'VBG'), ('the', 'DT'), ('settings', 'NNS'), ('repository', 'NN'), ('plugin', 'NN'), ('to', 'TO'), ('synchronize', 'VB'), ('ide', 'JJ'), ('settings', 'NNS'), (',', ','), ('these', 'DT'), ('subfolders', 'NNS'), ('will', 'MD'), ('be', 'VB'), ('under', 'IN'), ('settingsrepository', 'NN'), ('in', 'IN'), ('the', 'DT'), ('configuration', 'NN'), ('directory', 'NN'), ('.', '.'), ('if', 'IN'), ('you', 'PRP'), ('are', 'VBP'), ('using', 'VBG'), ('the', 'DT'), ('ide', 'JJ'), ('settings', 'NNS'), ('sync', 'VBP'), ('plugin', 'NN'), ('to', 'TO'), ('synchronize', 'VB'), ('ide', 'JJ'), ('settings', 'NNS'), (',', ','), ('these', 'DT'), ('subfolders', 'NNS'), ('will', 'MD'), ('be', 'VB'), ('under', 'IN'), ('jba_config', 'NN'), ('in', 'IN'), ('the', 'DT'), ('configuration', 'NN'), ('directory', 'NN'), ('.', '.'), ('system', 'NN'), ('directory', 'VBD'), ('the', 'DT'), ('intellij', 'NN'), ('idea', 'NN'), ('system', 'NN'), ('directory', 'JJ'), ('contains', 'VBZ'), ('caches', 'NNS'), ('and', 'CC'), ('local', 'JJ'), ('history', 'NN'), ('files', 'NNS'), ('.', '.'), ('%', 'NN'), ('localappdata', 'JJ'), ('%', 'NN'), ('jetbrains', 'VBZ'), ('<', 'JJ'), ('product', 'NN'), ('>', 'NNP'), ('<', 'NNP'), ('version', 'NN'), ('>', 'NNP'), ('c', 'NN'), (':', ':'), ('users', 'NNS'), ('johns', 'VBP'), ('appdata', 'JJ'), ('local', 'JJ'), ('jetbrains', 'NNS'), ('intellijideagetting-started', 'JJ'), ('~', 'NNP'), ('library', 'NN'), ('caches', 'NNS'), ('jetbrains', 'VBZ'), ('<', 'JJ'), ('product', 'NN'), ('>', 'NNP'), ('<', 'NNP'), ('version', 'NN'), ('>', 'NNP'), ('~', 'NNP'), ('library', 'JJ'), ('caches', 'NNS'), ('jetbrains', 'VBZ'), ('intellijideagetting-started', 'JJ'), ('~', 'NNP'), ('.cache', 'NNP'), ('jetbrains', 'VBZ'), ('<', 'JJ'), ('product', 'NN'), ('>', 'NNP'), ('<', 'NNP'), ('version', 'NN'), ('>', 'NNP'), ('~', 'NNP'), ('.cache', 'NNP'), ('jetbrains', 'VBZ'), ('intellijideagetting-started', 'JJ'), ('you', 'PRP'), ('can', 'MD'), ('change', 'VB'), ('the', 'DT'), ('location', 'NN'), ('of', 'IN'), ('the', 'DT'), ('intellij', 'NN'), ('idea', 'NN'), ('system', 'NN'), ('directory', 'JJ'), ('using', 'VBG'), ('the', 'DT'), ('idea.system.path', 'NN'), ('property', 'NN'), ('.', '.'), ('plugins', 'VBZ'), ('directory', 'JJ'), ('the', 'DT'), ('intellij', 'JJ'), ('idea', 'NN'), ('plugins', 'NNS'), ('directory', 'JJ'), ('contains', 'NNS'), ('user-installed', 'JJ'), ('plugins', 'NNS'), ('.', '.'), ('%', 'NN'), ('appdata', 'JJ'), ('%', 'NN'), ('jetbrains', 'VBZ'), ('<', 'JJ'), ('product', 'NN'), ('>', 'NNP'), ('<', 'NNP'), ('version', 'NN'), ('>', 'NN'), ('plugins', 'VBZ'), ('c', 'NNS'), (':', ':'), ('users', 'NNS'), ('johns', 'VBP'), ('appdata', 'JJ'), ('roaming', 'NN'), ('jetbrains', 'NNS'), ('intellijideagetting-started', 'JJ'), ('plugins', 'NNS'), ('~', 'VBP'), ('library', 'JJ'), ('application', 'NN'), ('support', 'NN'), ('jetbrains', 'VBZ'), ('<', 'JJ'), ('product', 'NN'), ('>', 'NNP'), ('<', 'NNP'), ('version', 'NN'), ('>', 'NN'), ('plugins', 'VBZ'), ('~', 'JJ'), ('library', 'JJ'), ('application', 'NN'), ('support', 'NN'), ('jetbrains', 'VBZ'), ('intellijideagetting-started', 'JJ'), ('plugins', 'NNS'), ('~', 'VB'), ('.local', 'JJ'), ('share', 'NN'), ('jetbrains', 'VBZ'), ('<', 'JJ'), ('product', 'NN'), ('>', 'NNP'), ('<', 'NNP'), ('version', 'NN'), ('>', 'NNP'), ('~', 'NNP'), ('.local', 'NNP'), ('share', 'NN'), ('jetbrains', 'VBZ'), ('intellijideagetting-started', 'JJ'), ('you', 'PRP'), ('can', 'MD'), ('change', 'VB'), ('the', 'DT'), ('location', 'NN'), ('of', 'IN'), ('the', 'DT'), ('intellij', 'NN'), ('idea', 'NN'), ('plugins', 'VBZ'), ('directory', 'JJ'), ('using', 'VBG'), ('the', 'DT'), ('idea.plugins.path', 'NN'), ('property', 'NN'), ('.', '.'), ('if', 'IN'), ('you', 'PRP'), ('installed', 'VBP'), ('intellij', 'JJ'), ('idea', 'NN'), ('via', 'IN'), ('the', 'DT'), ('toolbox', 'NN'), ('app', 'NN'), (',', ','), ('the', 'DT'), ('plugins', 'NNS'), ('directory', 'NN'), ('will', 'MD'), ('be', 'VB'), ('located', 'VBN'), ('in', 'IN'), ('the', 'DT'), ('installation', 'NN'), ('directory', 'NN'), ('.', '.'), ('to', 'TO'), ('find', 'VB'), ('the', 'DT'), ('installation', 'NN'), ('directory', 'NN'), (',', ','), ('open', 'VB'), ('the', 'DT'), ('settings', 'NNS'), ('of', 'IN'), ('the', 'DT'), ('ide', 'JJ'), ('instance', 'NN'), ('in', 'IN'), ('the', 'DT'), ('toolbox', 'NN'), ('app', 'NN'), (',', ','), ('expand', 'VB'), ('configuration', 'NN'), ('and', 'CC'), ('look', 'NN'), ('for', 'IN'), ('the', 'DT'), ('install', 'JJ'), ('location', 'NN'), ('field', 'NN'), ('.', '.'), ('there', 'EX'), ('should', 'MD'), ('be', 'VB'), ('a', 'DT'), ('directory', 'NN'), ('that', 'WDT'), ('ends', 'VBZ'), ('with', 'IN'), ('.plugins', 'NNS'), ('.', '.'), ('you', 'PRP'), ('can', 'MD'), ('also', 'RB'), ('see', 'VB'), ('the', 'DT'), ('location', 'NN'), ('of', 'IN'), ('the', 'DT'), ('plugins', 'NNS'), ('directory', 'NN'), ('in', 'IN'), ('the', 'DT'), ('vm', 'NN'), ('options', 'NNS'), ('file', 'VBP'), ('.', '.'), ('from', 'IN'), ('the', 'DT'), ('main', 'JJ'), ('menu', 'NN'), (',', ','), ('select', 'VB'), ('help', 'NN'), ('|', 'VB'), ('edit', 'NN'), ('custom', 'NN'), ('vm', 'NN'), ('options', 'NNS'), ('.', '.'), ('for', 'IN'), ('example', 'NN'), (',', ','), ('the', 'DT'), ('option', 'NN'), ('can', 'MD'), ('look', 'VB'), ('like', 'IN'), ('this', 'DT'), (':', ':'), ('-didea.plugins.path=', 'NN'), ('users', 'NNS'), ('jsmith', 'VBP'), ('library', 'JJ'), ('application', 'NN'), ('support', 'NN'), ('jetbrains', 'VBZ'), ('toolbox', 'JJ'), ('apps', 'IN'), ('idea-u', 'JJ'), ('ch-2', 'JJ'), ('212.5080.55', 'CD'), ('intellij', 'NN'), ('idea.app.plugins', 'NNS'), ('logs', 'JJ'), ('directory', 'NN'), ('the', 'DT'), ('intellij', 'NN'), ('idea', 'NN'), ('logs', 'NNS'), ('directory', 'JJ'), ('contains', 'NNS'), ('product', 'NN'), ('logs', 'NNS'), ('and', 'CC'), ('thread', 'JJ'), ('dumps', 'NNS'), ('.', '.'), ('%', 'NN'), ('localappdata', 'JJ'), ('%', 'NN'), ('jetbrains', 'VBZ'), ('<', 'JJ'), ('product', 'NN'), ('>', 'NNP'), ('<', 'NNP'), ('version', 'NN'), ('>', 'NNP'), ('log', 'NN'), ('c', 'NN'), (':', ':'), ('users', 'NNS'), ('johns', 'VBP'), ('appdata', 'JJ'), ('local', 'JJ'), ('jetbrains', 'NNS'), ('intellijideagetting-started', 'JJ'), ('log', 'NN'), ('~', 'NNP'), ('library', 'JJ'), ('logs', 'NNS'), ('jetbrains', 'NNS'), ('<', 'JJ'), ('product', 'NN'), ('>', 'NNP'), ('<', 'NNP'), ('version', 'NN'), ('>', 'NNP'), ('~', 'NNP'), ('library', 'JJ'), ('logs', 'NNS'), ('jetbrains', 'VBZ'), ('intellijideagetting-started', 'JJ'), ('~', 'NNP'), ('.cache', 'NNP'), ('jetbrains', 'VBZ'), ('<', 'JJ'), ('product', 'NN'), ('>', 'NNP'), ('<', 'NNP'), ('version', 'NN'), ('>', 'NNP'), ('log', 'NN'), ('~', 'NNP'), ('.cache', 'NNP'), ('jetbrains', 'VBZ'), ('intellijideagetting-started', 'JJ'), ('log', 'NN'), ('you', 'PRP'), ('can', 'MD'), ('change', 'VB'), ('the', 'DT'), ('location', 'NN'), ('of', 'IN'), ('the', 'DT'), ('intellij', 'NN'), ('idea', 'NN'), ('logs', 'NNS'), ('directory', 'NN'), ('using', 'VBG'), ('the', 'DT'), ('idea.log.path', 'NN'), ('property', 'NN'), ('.', '.'), ('you', 'PRP'), ('can', 'MD'), ('open', 'VB'), ('the', 'DT'), ('location', 'NN'), ('of', 'IN'), ('the', 'DT'), ('logs', 'NNS'), ('directory', 'NN'), ('using', 'VBG'), ('the', 'DT'), ('corresponding', 'JJ'), ('help', 'NN'), ('menu', 'VB'), ('action', 'NN'), (':', ':'), ('show', 'NN'), ('log', 'NN'), ('in', 'IN'), ('explorer', 'NN'), ('on', 'IN'), ('windows', 'NNS'), ('or', 'CC'), ('show', 'VB'), ('log', 'NN'), ('in', 'IN'), ('finder', 'NN'), ('on', 'IN'), ('macos', 'NN'), ('.', '.')]\n"
     ]
    },
    {
     "data": {
      "text/plain": "['directory',\n 'use',\n 'ide',\n 'default',\n 'intellij',\n 'idea',\n 'store',\n 'user-specific',\n 'file',\n 'ide',\n 'instance',\n 'configuration',\n 'cache',\n 'plugins',\n 'log',\n 'user',\n \"'s\",\n 'home',\n 'directory',\n 'however',\n 'change',\n 'location',\n 'store',\n 'file',\n 'necessary',\n 'default',\n 'location',\n 'ide',\n 'directories',\n 'change',\n 'start',\n 'intellij',\n 'idea',\n 'version',\n '2020.1.',\n 'previous',\n 'version',\n 'new',\n 'installation',\n 'import',\n 'configuration',\n 'old',\n 'directory',\n 'information',\n 'location',\n 'default',\n 'directory',\n 'previous',\n 'ide',\n 'version',\n 'see',\n 'corresponding',\n 'help',\n 'version',\n 'example',\n 'http',\n 'www.jetbrains.com',\n 'help',\n 'idea',\n '2019.3',\n 'tuning-the-ide.html',\n 'default-dirs',\n 'change',\n 'location',\n 'ide',\n 'directory',\n 'move',\n 'default',\n 'ide',\n 'directory',\n 'example',\n 'user',\n 'profile',\n 'drive',\n 'run',\n 'space',\n 'locate',\n 'slow',\n 'disk',\n 'home',\n 'directory',\n 'encrypt',\n 'slow',\n 'ide',\n 'locate',\n 'network',\n 'drive',\n 'want',\n 'create',\n 'portable',\n 'installation',\n 'exclude',\n 'cache',\n 'home',\n 'directory',\n 'backup',\n 'main',\n 'menu',\n 'select',\n 'help',\n 'edit',\n 'custom',\n 'property',\n 'set',\n 'property',\n 'correspond',\n 'necessary',\n 'directory',\n 'property',\n 'path',\n 'idea.config.path',\n 'configuration',\n 'directory',\n 'idea.system.path',\n 'system',\n 'directory',\n 'idea.plugins.path',\n 'plugins',\n 'directory',\n 'idea.log.path',\n 'log',\n 'directory',\n 'specify',\n 'path',\n 'forward',\n 'slash',\n 'include',\n 'window',\n 'path',\n 'example',\n 'c',\n 'idea',\n 'system',\n 'insert',\n 'property',\n 'variable',\n 'example',\n 'use',\n 'user.home',\n 'standard',\n 'java',\n 'system',\n 'property',\n 'specify',\n 'path',\n 'relative',\n 'user',\n \"'s\",\n 'home',\n 'directory',\n 'restart',\n 'intellij',\n 'idea',\n 'use',\n 'new',\n 'location',\n 'corresponding',\n 'directory',\n 'clean',\n 'old',\n 'ide',\n 'directories',\n 'every',\n 'time',\n 'install',\n 'new',\n 'major',\n 'version',\n 'intellij',\n 'idea',\n 'use',\n 'new',\n 'set',\n 'ide',\n 'directory',\n 'automatically',\n 'delete',\n 'cache',\n 'log',\n 'directory',\n 'old',\n 'version',\n 'ide',\n 'update',\n 'last',\n '180',\n 'day',\n 'configuration',\n 'plugins',\n 'directory',\n 'remain',\n 'forever',\n 'unless',\n 'remove',\n 'manually',\n 'main',\n 'menu',\n 'select',\n 'help',\n 'delete',\n 'leftover',\n 'ide',\n 'directory',\n 'delete',\n 'leftover',\n 'ide',\n 'storage',\n 'directory',\n 'dialog',\n 'select',\n 'version',\n 'ide',\n 'plan',\n 'use',\n 'click',\n 'delete',\n 'configuration',\n 'directory',\n 'intellij',\n 'idea',\n 'configuration',\n 'directory',\n 'contain',\n 'user-defined',\n 'ide',\n 'setting',\n 'keymaps',\n 'color',\n 'scheme',\n 'custom',\n 'vm',\n 'option',\n 'platform',\n 'property',\n 'appdata',\n 'jetbrains',\n 'product',\n 'version',\n 'c',\n 'user',\n 'johns',\n 'appdata',\n 'roaming',\n 'jetbrains',\n 'intellijideagetting-started',\n 'library',\n 'application',\n 'support',\n 'jetbrains',\n 'product',\n 'version',\n 'library',\n 'application',\n 'support',\n 'jetbrains',\n 'intellijideagetting-started',\n '.config',\n 'jetbrains',\n 'product',\n 'version',\n '.config',\n 'jetbrains',\n 'intellijideagetting-started',\n 'change',\n 'location',\n 'intellij',\n 'idea',\n 'configuration',\n 'directory',\n 'use',\n 'idea.config.path',\n 'property',\n 'share',\n 'personal',\n 'ide',\n 'setting',\n 'copy',\n 'file',\n 'configuration',\n 'directory',\n 'corresponding',\n 'folder',\n 'another',\n 'intellij',\n 'idea',\n 'installation',\n 'make',\n 'sure',\n 'intellij',\n 'idea',\n 'run',\n 'avoid',\n 'erase',\n 'copied',\n 'file',\n 'shut',\n 'ide',\n 'depend',\n 'setting',\n 'modify',\n 'intellij',\n 'idea',\n 'configuration',\n 'directory',\n 'contain',\n 'following',\n 'subfolders',\n 'directory',\n 'user',\n 'setting',\n 'codestyles',\n 'customize',\n 'code',\n 'style',\n 'scheme',\n 'color',\n 'customize',\n 'editor',\n 'color',\n 'font',\n 'scheme',\n 'filetemplates',\n 'user-defined',\n 'file',\n 'template',\n 'filetypes',\n 'user-defined',\n 'file',\n 'type',\n 'inspection',\n 'code',\n 'inspection',\n 'profile',\n 'keymaps',\n 'customize',\n 'keyboard',\n 'shortcut',\n 'option',\n 'various',\n 'option',\n 'example',\n 'feature',\n 'usage',\n 'statistic',\n 'macro',\n 'scratch',\n 'scratch',\n 'file',\n 'buffer',\n 'templates',\n 'user-defined',\n 'live',\n 'template',\n 'tool',\n 'configuration',\n 'file',\n 'user-defined',\n 'external',\n 'tool',\n 'shelf',\n 'shelve',\n 'change',\n 'use',\n 'setting',\n 'repository',\n 'plugin',\n 'synchronize',\n 'ide',\n 'setting',\n 'subfolders',\n 'settingsrepository',\n 'configuration',\n 'directory',\n 'use',\n 'ide',\n 'setting',\n 'sync',\n 'plugin',\n 'synchronize',\n 'ide',\n 'setting',\n 'subfolders',\n 'jba_config',\n 'configuration',\n 'directory',\n 'system',\n 'directory',\n 'intellij',\n 'idea',\n 'system',\n 'directory',\n 'contain',\n 'cache',\n 'local',\n 'history',\n 'file',\n 'localappdata',\n 'jetbrains',\n 'product',\n 'version',\n 'c',\n 'user',\n 'johns',\n 'appdata',\n 'local',\n 'jetbrains',\n 'intellijideagetting-started',\n 'library',\n 'cache',\n 'jetbrains',\n 'product',\n 'version',\n 'library',\n 'cache',\n 'jetbrains',\n 'intellijideagetting-started',\n '.cache',\n 'jetbrains',\n 'product',\n 'version',\n '.cache',\n 'jetbrains',\n 'intellijideagetting-started',\n 'change',\n 'location',\n 'intellij',\n 'idea',\n 'system',\n 'directory',\n 'use',\n 'idea.system.path',\n 'property',\n 'plugins',\n 'directory',\n 'intellij',\n 'idea',\n 'plugins',\n 'directory',\n 'contains',\n 'user-installed',\n 'plugins',\n 'appdata',\n 'jetbrains',\n 'product',\n 'version',\n 'plugins',\n 'c',\n 'user',\n 'johns',\n 'appdata',\n 'roaming',\n 'jetbrains',\n 'intellijideagetting-started',\n 'plugins',\n 'library',\n 'application',\n 'support',\n 'jetbrains',\n 'product',\n 'version',\n 'plugins',\n 'library',\n 'application',\n 'support',\n 'jetbrains',\n 'intellijideagetting-started',\n 'plugins',\n '.local',\n 'share',\n 'jetbrains',\n 'product',\n 'version',\n '.local',\n 'share',\n 'jetbrains',\n 'intellijideagetting-started',\n 'change',\n 'location',\n 'intellij',\n 'idea',\n 'plugins',\n 'directory',\n 'use',\n 'idea.plugins.path',\n 'property',\n 'instal',\n 'intellij',\n 'idea',\n 'via',\n 'toolbox',\n 'app',\n 'plugins',\n 'directory',\n 'locate',\n 'installation',\n 'directory',\n 'find',\n 'installation',\n 'directory',\n 'open',\n 'setting',\n 'ide',\n 'instance',\n 'toolbox',\n 'app',\n 'expand',\n 'configuration',\n 'look',\n 'install',\n 'location',\n 'field',\n 'directory',\n 'end',\n '.plugins',\n 'also',\n 'see',\n 'location',\n 'plugins',\n 'directory',\n 'vm',\n 'option',\n 'file',\n 'main',\n 'menu',\n 'select',\n 'help',\n 'edit',\n 'custom',\n 'vm',\n 'option',\n 'example',\n 'option',\n 'look',\n 'like',\n '-didea.plugins.path=',\n 'user',\n 'jsmith',\n 'library',\n 'application',\n 'support',\n 'jetbrains',\n 'toolbox',\n 'apps',\n 'idea-u',\n 'ch-2',\n '212.5080.55',\n 'intellij',\n 'idea.app.plugins',\n 'logs',\n 'directory',\n 'intellij',\n 'idea',\n 'log',\n 'directory',\n 'contains',\n 'product',\n 'log',\n 'thread',\n 'dump',\n 'localappdata',\n 'jetbrains',\n 'product',\n 'version',\n 'log',\n 'c',\n 'user',\n 'johns',\n 'appdata',\n 'local',\n 'jetbrains',\n 'intellijideagetting-started',\n 'log',\n 'library',\n 'log',\n 'jetbrains',\n 'product',\n 'version',\n 'library',\n 'log',\n 'jetbrains',\n 'intellijideagetting-started',\n '.cache',\n 'jetbrains',\n 'product',\n 'version',\n 'log',\n '.cache',\n 'jetbrains',\n 'intellijideagetting-started',\n 'log',\n 'change',\n 'location',\n 'intellij',\n 'idea',\n 'log',\n 'directory',\n 'use',\n 'idea.log.path',\n 'property',\n 'open',\n 'location',\n 'log',\n 'directory',\n 'use',\n 'corresponding',\n 'help',\n 'menu',\n 'action',\n 'show',\n 'log',\n 'explorer',\n 'window',\n 'show',\n 'log',\n 'finder',\n 'macos']"
     },
     "execution_count": 141,
     "metadata": {},
     "output_type": "execute_result"
    }
   ],
   "source": [
    "lem(topic)"
   ],
   "metadata": {
    "collapsed": false,
    "pycharm": {
     "name": "#%%\n"
    }
   }
  },
  {
   "cell_type": "code",
   "execution_count": null,
   "outputs": [],
   "source": [],
   "metadata": {
    "collapsed": false,
    "pycharm": {
     "name": "#%%\n"
    }
   }
  }
 ],
 "metadata": {
  "kernelspec": {
   "display_name": "Python 3",
   "language": "python",
   "name": "python3"
  },
  "language_info": {
   "codemirror_mode": {
    "name": "ipython",
    "version": 2
   },
   "file_extension": ".py",
   "mimetype": "text/x-python",
   "name": "python",
   "nbconvert_exporter": "python",
   "pygments_lexer": "ipython2",
   "version": "2.7.6"
  }
 },
 "nbformat": 4,
 "nbformat_minor": 0
}