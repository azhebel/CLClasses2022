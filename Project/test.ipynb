{
 "cells": [
  {
   "cell_type": "code",
   "execution_count": 24,
   "outputs": [],
   "source": [
    "import pandas as pd\n",
    "\n",
    "def get_queries(results_csv):\n",
    "    with open(results_csv, \"r\") as file:\n",
    "        df = pd.read_csv(file)\n",
    "        return df[\"query\"].tolist()"
   ],
   "metadata": {
    "collapsed": false,
    "pycharm": {
     "name": "#%%\n"
    }
   }
  },
  {
   "cell_type": "code",
   "execution_count": 27,
   "outputs": [
    {
     "name": "stdout",
     "output_type": "stream",
     "text": [
      "['code completion', 'environment variables', 'terminal', 'flutter', 'javafx', 'community edition', 'bookmark', 'uninstall', 'command line', 'wsl', 'code with me', 'code style', 'reformat code', 'run configuration', 'file template', 'file templates', 'notification', 'notifications']\n"
     ]
    }
   ],
   "source": [
    "queries = get_queries(\"algolia_search_test_results.csv\")\n",
    "print(queries)"
   ],
   "metadata": {
    "collapsed": false,
    "pycharm": {
     "name": "#%%\n"
    }
   }
  },
  {
   "cell_type": "code",
   "execution_count": 34,
   "outputs": [],
   "source": [
    "def write_requests(results_csv, column_name):\n",
    "    with open(results_csv, \"r\") as file:\n",
    "        df = pd.read_csv(file)\n",
    "        print(df[column_name].head(5))\n",
    "        df[column_name] = queries\n",
    "        print(df[column_name].head(5))\n",
    "        # print(df[column_name].values)\n",
    "\n",
    "        # for query in get_queries(\"algolia_search_test_results.csv\"):"
   ],
   "metadata": {
    "collapsed": false,
    "pycharm": {
     "name": "#%%\n"
    }
   }
  },
  {
   "cell_type": "code",
   "execution_count": 35,
   "outputs": [
    {
     "name": "stdout",
     "output_type": "stream",
     "text": [
      "0    auto-completing-code.html\\nedit-scala-code.htm...\n",
      "1    pipenv.html\\nbig-data-tools-configuration.html...\n",
      "2    advanced-settings.html\\nterminal-emulator.html...\n",
      "3    investigate-changes.html\\ntest-management-syst...\n",
      "4    settingsjavafx.html\\nnew-project-wizard.html\\n...\n",
      "Name: algolia, dtype: object\n",
      "0          code completion\n",
      "1    environment variables\n",
      "2                 terminal\n",
      "3                  flutter\n",
      "4                   javafx\n",
      "Name: algolia, dtype: object\n"
     ]
    }
   ],
   "source": [
    "write_requests(\"algolia_search_test_results.csv\", \"algolia\")"
   ],
   "metadata": {
    "collapsed": false,
    "pycharm": {
     "name": "#%%\n"
    }
   }
  },
  {
   "cell_type": "code",
   "execution_count": 51,
   "outputs": [],
   "source": [
    "def algolia_search(queries):\n",
    "    from algoliasearch.search_client import SearchClient\n",
    "    import re\n",
    "\n",
    "    client = SearchClient.create(\"OHIV241QET\", \"b40f3aad037ae7bb1b5d8c56431f1bd2\")\n",
    "    index = client.init_index(\"prod_JETBRAINSCOM_HELP\")\n",
    "    filters = {\"filters\": \"product:idea AND version:2021.3\"}\n",
    "\n",
    "    results = []\n",
    "\n",
    "    for query in queries:\n",
    "        res = index.search(query, filters)\n",
    "        hits = []\n",
    "\n",
    "        for hit in res[\"hits\"]:\n",
    "            url = hit[\"url\"]\n",
    "            page_name = re.search(\"(?:.+\\/)([^#?]+)\", url).group(1)\n",
    "            if page_name not in hits:\n",
    "                hits.append(page_name)\n",
    "            if len(hits) >= 5:\n",
    "                break\n",
    "\n",
    "        results.append(\"\\n\".join(hits))\n",
    "\n",
    "    return results"
   ],
   "metadata": {
    "collapsed": false,
    "pycharm": {
     "name": "#%%\n"
    }
   }
  },
  {
   "cell_type": "code",
   "execution_count": 54,
   "outputs": [],
   "source": [
    "def test_search(results_csv, search_type):\n",
    "    print(\"Opening the CSV results file:\", results_csv)\n",
    "    with open(results_csv, \"r\") as file:\n",
    "        df = pd.read_csv(file)\n",
    "        queries_from_csv = df[\"query\"].tolist()\n",
    "        print(\"Extracted queries. First 5 are:\", queries_from_csv[:5])\n",
    "\n",
    "        if search_type == \"algolia\":\n",
    "            print(\"Performing algolia search and writing results...\")\n",
    "            df[search_type] = algolia_search(queries_from_csv)\n",
    "        else:\n",
    "            print(\"Not a recognized search type\")\n",
    "\n",
    "        print(\"Saving the CSV\")\n",
    "        df.to_csv(results_csv, index=False)\n"
   ],
   "metadata": {
    "collapsed": false,
    "pycharm": {
     "name": "#%%\n"
    }
   }
  },
  {
   "cell_type": "code",
   "execution_count": 55,
   "outputs": [
    {
     "name": "stdout",
     "output_type": "stream",
     "text": [
      "Opening the CSV results file: algolia_search_test_results.csv\n",
      "Extracted queries. First 5 are: ['code completion', 'environment variables', 'terminal', 'flutter', 'javafx']\n",
      "Not recognized\n",
      "Saving the CSV\n"
     ]
    }
   ],
   "source": [
    "test_search(\"algolia_search_test_results.csv\", \"word_tfidf\")"
   ],
   "metadata": {
    "collapsed": false,
    "pycharm": {
     "name": "#%%\n"
    }
   }
  }
 ],
 "metadata": {
  "kernelspec": {
   "display_name": "Python 3",
   "language": "python",
   "name": "python3"
  },
  "language_info": {
   "codemirror_mode": {
    "name": "ipython",
    "version": 2
   },
   "file_extension": ".py",
   "mimetype": "text/x-python",
   "name": "python",
   "nbconvert_exporter": "python",
   "pygments_lexer": "ipython2",
   "version": "2.7.6"
  }
 },
 "nbformat": 4,
 "nbformat_minor": 0
}