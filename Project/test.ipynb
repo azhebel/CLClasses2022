{
 "cells": [
  {
   "cell_type": "code",
   "execution_count": 2,
   "outputs": [
    {
     "name": "stdout",
     "output_type": "stream",
     "text": [
      "\n",
      "Top 5 most similar sentences in corpus:\n",
      "A man is eating food. (Score: 0.9156)\n",
      "A man is eating a piece of bread. (Score: 0.7466)\n",
      "A man is riding a horse. (Score: 0.2223)\n",
      "A man is riding a white horse on an enclosed ground. (Score: 0.1837)\n",
      "A cheetah is running behind its prey. (Score: 0.1670)\n"
     ]
    }
   ],
   "source": [
    "\"\"\"\n",
    "This is a simple application for sentence embeddings: semantic search\n",
    "\n",
    "We have a corpus with various sentences. Then, for a given query sentence,\n",
    "we want to find the most similar sentence in this corpus.\n",
    "\n",
    "This script outputs for various queries the top 5 most similar sentences in the corpus.\n",
    "\"\"\"\n",
    "from sentence_transformers import SentenceTransformer, util\n",
    "import torch\n",
    "\n",
    "embedder = SentenceTransformer('all-MiniLM-L6-v2')\n",
    "\n",
    "# Corpus with example sentences\n",
    "corpus = ['A man is eating food.',\n",
    "          'A man is eating a piece of bread.',\n",
    "          'The girl is carrying a baby.',\n",
    "          'A man is riding a horse.',\n",
    "          'A woman is playing violin.',\n",
    "          'Two men pushed carts through the woods.',\n",
    "          'A man is riding a white horse on an enclosed ground.',\n",
    "          'A monkey is playing drums.',\n",
    "          'A cheetah is running behind its prey.'\n",
    "          ]\n",
    "corpus_embeddings = embedder.encode(corpus, convert_to_tensor=True)\n",
    "\n",
    "query = \"man eating\"\n",
    "query_embedding = embedder.encode(query, convert_to_tensor=True)\n",
    "\n",
    "cos_scores = util.cos_sim(query_embedding, corpus_embeddings)[0]\n",
    "top_results = torch.topk(cos_scores, k=5)\n",
    "\n",
    "print(\"Query:\", query)\n",
    "print(\"\\nTop 5 most similar sentences in corpus:\")\n",
    "\n",
    "for score, idx in zip(top_results[0], top_results[1]):\n",
    "    print(corpus[idx], \"(Score: {:.4f})\".format(score))\n",
    "\n",
    "# Query sentences:\n",
    "# queries = ['A man is eating pasta.', 'Someone in a gorilla costume is playing a set of drums.', 'A cheetah chases prey on across a field.']\n",
    "\n",
    "\n",
    "# Find the closest 5 sentences of the corpus for each query sentence based on cosine similarity\n",
    "# top_k = min(5, len(corpus))\n",
    "# for query in queries:\n",
    "#     query_embedding = embedder.encode(query, convert_to_tensor=True)\n",
    "#\n",
    "#     # We use cosine-similarity and torch.topk to find the highest 5 scores\n",
    "#     cos_scores = util.cos_sim(query_embedding, corpus_embeddings)[0]\n",
    "#     top_results = torch.topk(cos_scores, k=top_k)\n",
    "#\n",
    "#     print(\"\\n\\n======================\\n\\n\")\n",
    "#     print(\"Query:\", query)\n",
    "#     print(\"\\nTop 5 most similar sentences in corpus:\")\n",
    "#\n",
    "#     for score, idx in zip(top_results[0], top_results[1]):\n",
    "#         print(corpus[idx], \"(Score: {:.4f})\".format(score))\n",
    "#\n",
    "#     \"\"\"\n",
    "#     # Alternatively, we can also use util.semantic_search to perform cosine similarty + topk\n",
    "#     hits = util.semantic_search(query_embedding, corpus_embeddings, top_k=5)\n",
    "#     hits = hits[0]      #Get the hits for the first query\n",
    "#     for hit in hits:\n",
    "#         print(corpus[hit['corpus_id']], \"(Score: {:.4f})\".format(hit['score']))\n",
    "#     \"\"\""
   ],
   "metadata": {
    "collapsed": false,
    "pycharm": {
     "name": "#%%\n"
    }
   }
  }
 ],
 "metadata": {
  "kernelspec": {
   "display_name": "Python 3",
   "language": "python",
   "name": "python3"
  },
  "language_info": {
   "codemirror_mode": {
    "name": "ipython",
    "version": 2
   },
   "file_extension": ".py",
   "mimetype": "text/x-python",
   "name": "python",
   "nbconvert_exporter": "python",
   "pygments_lexer": "ipython2",
   "version": "2.7.6"
  }
 },
 "nbformat": 4,
 "nbformat_minor": 0
}