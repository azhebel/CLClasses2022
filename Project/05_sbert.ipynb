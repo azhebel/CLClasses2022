{
 "cells": [
  {
   "cell_type": "code",
   "execution_count": 2,
   "metadata": {
    "collapsed": true,
    "pycharm": {
     "name": "#%%\n"
    }
   },
   "outputs": [],
   "source": [
    "from sentence_transformers import SentenceTransformer, util\n",
    "import torch\n",
    "import csv\n",
    "import pandas"
   ]
  },
  {
   "cell_type": "code",
   "execution_count": 4,
   "outputs": [
    {
     "name": "stdout",
     "output_type": "stream",
     "text": [
      "Getting list of topic names and texts...\n",
      "Done!\n"
     ]
    }
   ],
   "source": [
    "print(\"Getting list of topic names and texts...\")\n",
    "with open(\"01_topic_text.csv\") as file:\n",
    "    topic_names = []\n",
    "    topic_texts = []\n",
    "    for line in csv.reader(file):\n",
    "        topic_names.append(line[0])\n",
    "        topic_texts.append(line[1])\n",
    "print(\"Done!\")"
   ],
   "metadata": {
    "collapsed": false,
    "pycharm": {
     "name": "#%%\n"
    }
   }
  },
  {
   "cell_type": "code",
   "execution_count": 5,
   "outputs": [
    {
     "name": "stdout",
     "output_type": "stream",
     "text": [
      "Topic 1 is: configuring-project-and-ide-settings.html\n",
      "Configuring the IDE\n",
      "IntelliJ IDEA allows you to configure the settings on several levels: the module level, the project level, and globally.\n",
      "Global settings apply to all projects that you open with a specific installation or version of IntelliJ IDEA. Such settings include IDE appearance (themes, color schemes, menus and toolbars), notification settings, the set of the installed and enabled plugins, debugger settings, code completion, and so on.\n",
      "To configure your IDE, select IntelliJ IDEA | Preferences for macOS or File | Settings for Windows and Linux. Alternatively, press Ctrl+Alt+S or click  on the toolbar.\n",
      "Settings that are NOT marked with the  icon in the Settings/Preferences dialog are global and apply to all existing projects of the current IntelliJ IDEA version.\n",
      "Restore IDE settings\n",
      "In IntelliJ IDEA 2020.1, the configuration paths have been changed. That is why, the information in this section is valid for IntelliJ IDEA of version 2020.1 and later. If you use a previous version of IntelliJ IDEA, add the version number to the page URL in order to access the corresponding documentation. For example, if you use IntelliJ IDEA 2019.3, type www.jetbrains.com/help/idea/2019.3/configuring-project-and-ide-settings.html.\n",
      "When you restore the default IDE settings, IntelliJ IDEA backs up your configuration to a directory. You can always restore your settings from this backup.\n",
      "Back up your settings and restore the defaults\n",
      "From the main menu, select File | Manage IDE Settings | Restore Default Settings.\n",
      "Alternatively, press Shift twice and type Restore default settings.\n",
      "IntelliJ IDEA shows a confirmation popup:\n",
      "Click Restore and Restart. The IDE will be restarted with the default configuration.\n",
      "When IntelliJ IDEA restores the default IDE settings, it creates a backup directory with your configuration in:\n",
      "%APPDATA%\\JetBrains\\<product><version>-backup\n",
      "C:\\Users\\JohnS\\AppData\\Roaming\\JetBrains\\IntelliJIdeagetting-started-backup\n",
      "~/Library/Application Support/JetBrains/<product><version>-backup\n",
      "~/Library/Application Support/JetBrains/IntelliJIdeagetting-started-backup\n",
      "~/.config/JetBrains/<product><version>-backup\n",
      "~/.config/JetBrains/IntelliJIdeagetting-started-backup\n",
      "Apply the IDE settings from a backup\n",
      "From the main menu, select File | Manage IDE Settings | Import Settings.\n",
      "In the dialog that opens, specify the path to the backup directory and click Open.\n",
      "IntelliJ IDEA shows a confirmation popup. Note, that after you apply the settings from the backup, these settings will be overwritten with your current IDE configuration.\n",
      "Apart from the backup configuration directory, you can select the configuration directory from another IntelliJ IDEA version or a .zip file with the previously exported settings.\n",
      "Click Restart to apply the settings from the backup and restart the IDE.\n",
      "\n"
     ]
    }
   ],
   "source": [
    "topic_id = 1\n",
    "print(f\"Topic {topic_id} is:\", topic_names[topic_id])\n",
    "print(topic_texts[topic_id])"
   ],
   "metadata": {
    "collapsed": false,
    "pycharm": {
     "name": "#%%\n"
    }
   }
  },
  {
   "cell_type": "code",
   "execution_count": 6,
   "outputs": [],
   "source": [
    "embedder = SentenceTransformer('all-MiniLM-L6-v2')"
   ],
   "metadata": {
    "collapsed": false,
    "pycharm": {
     "name": "#%%\n"
    }
   }
  },
  {
   "cell_type": "code",
   "execution_count": 7,
   "outputs": [],
   "source": [
    "corpus_embeddings = embedder.encode(topic_texts, convert_to_tensor=True)"
   ],
   "metadata": {
    "collapsed": false,
    "pycharm": {
     "name": "#%%\n"
    }
   }
  },
  {
   "cell_type": "code",
   "execution_count": 29,
   "outputs": [],
   "source": [
    "query = \"file templates\"\n",
    "query_embedding = embedder.encode(query, convert_to_tensor=True)"
   ],
   "metadata": {
    "collapsed": false,
    "pycharm": {
     "name": "#%%\n"
    }
   }
  },
  {
   "cell_type": "code",
   "execution_count": 30,
   "outputs": [
    {
     "name": "stdout",
     "output_type": "stream",
     "text": [
      "Query: file templates\n",
      "\n",
      "Top 5 most similar docs in corpus:\n",
      "using-file-and-code-templates.html (Score: 0.6213)\n",
      "settings-file-and-code-templates.html (Score: 0.5908)\n",
      "templates-with-multiple-files.html (Score: 0.5699)\n",
      "parse-directive.html (Score: 0.5674)\n",
      "template-data-languages.html (Score: 0.5546)\n"
     ]
    }
   ],
   "source": [
    "cos_scores = util.cos_sim(query_embedding, corpus_embeddings)[0]\n",
    "top_results = torch.topk(cos_scores, k=5)\n",
    "\n",
    "print(\"Query:\", query)\n",
    "print(\"\\nTop 5 most similar docs in corpus:\")\n",
    "\n",
    "for score, idx in zip(top_results[0], top_results[1]):\n",
    "    print(topic_names[idx], \"(Score: {:.4f})\".format(score))"
   ],
   "metadata": {
    "collapsed": false,
    "pycharm": {
     "name": "#%%\n"
    }
   }
  },
  {
   "cell_type": "code",
   "execution_count": 15,
   "outputs": [],
   "source": [
    "results_csv = \"search_test_results.csv\"\n",
    "\n",
    "with open(results_csv, \"r\") as file:\n",
    "    df = pandas.read_csv(file)\n",
    "\n",
    "search_queries = df[\"query\"].tolist()\n",
    "\n",
    "all_results = []\n",
    "\n",
    "for query in search_queries:\n",
    "    query_embedding = embedder.encode(query, convert_to_tensor=True)\n",
    "    cos_scores = util.cos_sim(query_embedding, corpus_embeddings)[0]\n",
    "    top_results = torch.topk(cos_scores, k=5)\n",
    "\n",
    "    q_result = \"\"\n",
    "\n",
    "    for score, idx in zip(top_results[0], top_results[1]):\n",
    "        q_result = q_result + topic_names[idx] + \"\\n\"\n",
    "\n",
    "    all_results.append(q_result)\n",
    "\n",
    "# print(all_results)\n",
    "df[\"sbert\"] = all_results"
   ],
   "metadata": {
    "collapsed": false,
    "pycharm": {
     "name": "#%%\n"
    }
   }
  },
  {
   "cell_type": "code",
   "execution_count": 16,
   "outputs": [],
   "source": [
    "df.to_csv(results_csv, index=False)"
   ],
   "metadata": {
    "collapsed": false,
    "pycharm": {
     "name": "#%%\n"
    }
   }
  }
 ],
 "metadata": {
  "kernelspec": {
   "display_name": "Python 3",
   "language": "python",
   "name": "python3"
  },
  "language_info": {
   "codemirror_mode": {
    "name": "ipython",
    "version": 2
   },
   "file_extension": ".py",
   "mimetype": "text/x-python",
   "name": "python",
   "nbconvert_exporter": "python",
   "pygments_lexer": "ipython2",
   "version": "2.7.6"
  }
 },
 "nbformat": 4,
 "nbformat_minor": 0
}