{
 "cells": [
  {
   "cell_type": "code",
   "execution_count": 1,
   "metadata": {
    "collapsed": true,
    "pycharm": {
     "name": "#%%\n"
    }
   },
   "outputs": [],
   "source": [
    "import os\n",
    "import re\n",
    "\n",
    "import pandas\n",
    "from bs4 import BeautifulSoup"
   ]
  },
  {
   "cell_type": "code",
   "execution_count": 2,
   "outputs": [
    {
     "name": "stdout",
     "output_type": "stream",
     "text": [
      "Current directory: /Users/Alexey.Zhebel/IdeaProjects/CLClasses2022/Project\n",
      "Getting a list of HTML files from /Users/Alexey.Zhebel/Downloads/webHelpIJ2/...\n",
      "There are 3244 HTML files\n"
     ]
    }
   ],
   "source": [
    "path_to_help_sources = os.path.expanduser(\"~/Downloads/webHelpIJ2/\")\n",
    "\n",
    "print(\"Current directory:\", os.getcwd())\n",
    "print(\"Getting a list of HTML files from\", path_to_help_sources + \"...\")\n",
    "\n",
    "html_files = []\n",
    "\n",
    "for file_name in os.listdir(path_to_help_sources)[:]:\n",
    "    if \".html\" in file_name:\n",
    "        html_files.append(file_name)\n",
    "\n",
    "print(\"There are\", len(html_files), \"HTML files\")"
   ],
   "metadata": {
    "collapsed": false,
    "pycharm": {
     "name": "#%%\n"
    }
   }
  },
  {
   "cell_type": "code",
   "execution_count": 3,
   "outputs": [
    {
     "name": "stdout",
     "output_type": "stream",
     "text": [
      "Getting sources from files that are topics (have <article>)...\n",
      "There are 1505 topics\n",
      "<article class=\"article\" data-shortcut-switcher=\"inactive\">\n",
      " <h1 data-availability-limit=\"Ultimate\" data-toc=\"PHP_Built_In_Web_Server\" id=\"PHP_Built_In_Web_Server.xml\">\n",
      "  Built-in web server\n",
      " </h1>\n",
      " <\n"
     ]
    },
    {
     "data": {
      "text/plain": "'php-built-in-web-server.html'"
     },
     "execution_count": 3,
     "metadata": {},
     "output_type": "execute_result"
    }
   ],
   "source": [
    "print(\"Getting sources from files that are topics (have <article>)...\")\n",
    "\n",
    "topic_sources = {}\n",
    "\n",
    "for file_name in html_files:\n",
    "    with open(path_to_help_sources + file_name, \"r\") as file:\n",
    "        soup = BeautifulSoup(file.read(), \"html.parser\")\n",
    "\n",
    "        article = soup.find(\"article\")\n",
    "\n",
    "        if article:\n",
    "            topic_sources[file_name] = article\n",
    "\n",
    "print(\"There are\", len(topic_sources), \"topics\")\n",
    "\n",
    "print(list(topic_sources.items())[2][1].prettify()[:200])\n",
    "\n",
    "list(topic_sources.items())[2][0]"
   ],
   "metadata": {
    "collapsed": false,
    "pycharm": {
     "name": "#%%\n"
    }
   }
  },
  {
   "cell_type": "code",
   "execution_count": 4,
   "outputs": [
    {
     "name": "stdout",
     "output_type": "stream",
     "text": [
      "Extracting text from topics (<h1-h6> and <p> tags in files that contain <article>)...\n",
      "There are 1505 topics\n",
      "Built-in web server\n",
      "The following is only valid when the PHP plugin is installed and enabled.\n",
      " IntelliJ IDEA has a built-in web server that can be used to preview and debug your application.  This ser\n"
     ]
    }
   ],
   "source": [
    "print(\"Extracting text from topics (<h1-h6> and <p> tags in files that contain <article>)...\")\n",
    "\n",
    "topic_texts = {}\n",
    "\n",
    "for item in topic_sources.items():\n",
    "    topic_file_name = item[0]\n",
    "    article = item[1]\n",
    "\n",
    "    text = \"\"\n",
    "    for tag in article.find_all(re.compile(\"^h[1-6]$|^p$\")):\n",
    "        text += tag.get_text() + \"\\n\"\n",
    "\n",
    "    topic_texts[topic_file_name] = text\n",
    "\n",
    "print(\"There are\", len(topic_texts), \"topics\")\n",
    "\n",
    "print(list(topic_texts.items())[2][1][:200])"
   ],
   "metadata": {
    "collapsed": false,
    "pycharm": {
     "name": "#%%\n"
    }
   }
  },
  {
   "cell_type": "code",
   "execution_count": 6,
   "outputs": [
    {
     "name": "stdout",
     "output_type": "stream",
     "text": [
      "Saving plain text from topics to topic_text.csv...\n",
      "(1505, 2)\n",
      "Saved!\n"
     ]
    }
   ],
   "source": [
    "print(\"Saving plain text from topics to topic_text.csv...\")\n",
    "\n",
    "df = pandas.DataFrame({\"topic\": topic_texts.keys(), \"text\": topic_texts.values()})\n",
    "\n",
    "print(df.shape)\n",
    "df.to_csv(\"01_topic_text.csv\")\n",
    "print(\"Saved!\")"
   ],
   "metadata": {
    "collapsed": false,
    "pycharm": {
     "name": "#%%\n"
    }
   }
  },
  {
   "cell_type": "code",
   "execution_count": null,
   "outputs": [],
   "source": [
    "df.head(5)"
   ],
   "metadata": {
    "collapsed": false,
    "pycharm": {
     "name": "#%%\n"
    }
   }
  }
 ],
 "metadata": {
  "kernelspec": {
   "display_name": "Python 3",
   "language": "python",
   "name": "python3"
  },
  "language_info": {
   "codemirror_mode": {
    "name": "ipython",
    "version": 2
   },
   "file_extension": ".py",
   "mimetype": "text/x-python",
   "name": "python",
   "nbconvert_exporter": "python",
   "pygments_lexer": "ipython2",
   "version": "2.7.6"
  }
 },
 "nbformat": 4,
 "nbformat_minor": 0
}