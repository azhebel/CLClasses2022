{
 "cells": [
  {
   "cell_type": "code",
   "execution_count": 11,
   "metadata": {
    "collapsed": true,
    "pycharm": {
     "name": "#%%\n"
    }
   },
   "outputs": [],
   "source": [
    "import os\n",
    "import re\n",
    "\n",
    "import pandas\n",
    "from bs4 import BeautifulSoup"
   ]
  },
  {
   "cell_type": "code",
   "execution_count": 12,
   "outputs": [
    {
     "name": "stdout",
     "output_type": "stream",
     "text": [
      "Current directory: /Users/Alexey.Zhebel/IdeaProjects/CompLing/Project\n",
      "Getting a list of HTML files from /Users/Alexey.Zhebel/Downloads/webHelpIJ2/...\n",
      "There are 3244 HTML files\n"
     ]
    }
   ],
   "source": [
    "path_to_help_sources = os.path.expanduser(\"~/Downloads/webHelpIJ2/\")\n",
    "\n",
    "print(\"Current directory:\", os.getcwd())\n",
    "print(\"Getting a list of HTML files from\", path_to_help_sources + \"...\")\n",
    "\n",
    "html_files = []\n",
    "\n",
    "for file_name in os.listdir(path_to_help_sources)[:]:\n",
    "    if \".html\" in file_name:\n",
    "        html_files.append(file_name)\n",
    "\n",
    "print(\"There are\", len(html_files), \"HTML files\")"
   ],
   "metadata": {
    "collapsed": false,
    "pycharm": {
     "name": "#%%\n"
    }
   }
  },
  {
   "cell_type": "code",
   "execution_count": 13,
   "outputs": [
    {
     "name": "stdout",
     "output_type": "stream",
     "text": [
      "Getting sources from files that are topics (have <article>)...\n",
      "There are 1505 topics\n",
      "<article class=\"article\" data-shortcut-switcher=\"inactive\">\n",
      " <h1 data-availability-limit=\"Ultimate\" data-toc=\"PHP_Built_In_Web_Server\" id=\"PHP_Built_In_Web_Server.xml\">\n",
      "  Built-in web server\n",
      " </h1>\n",
      " <\n"
     ]
    },
    {
     "data": {
      "text/plain": "'php-built-in-web-server.html'"
     },
     "execution_count": 13,
     "metadata": {},
     "output_type": "execute_result"
    }
   ],
   "source": [
    "print(\"Getting sources from files that are topics (have <article>)...\")\n",
    "\n",
    "topic_sources = {}\n",
    "\n",
    "for file_name in html_files:\n",
    "    with open(path_to_help_sources + file_name, \"r\") as file:\n",
    "        soup = BeautifulSoup(file.read(), \"html.parser\")\n",
    "\n",
    "        article = soup.find(\"article\")\n",
    "\n",
    "        if article:\n",
    "            topic_sources[file_name] = article\n",
    "\n",
    "print(\"There are\", len(topic_sources), \"topics\")\n",
    "\n",
    "print(list(topic_sources.items())[2][1].prettify()[:200])\n",
    "\n",
    "list(topic_sources.items())[2][0]"
   ],
   "metadata": {
    "collapsed": false,
    "pycharm": {
     "name": "#%%\n"
    }
   }
  },
  {
   "cell_type": "code",
   "execution_count": 14,
   "outputs": [
    {
     "name": "stdout",
     "output_type": "stream",
     "text": [
      "Extracting text from topics (<h1-h6> and <p> tags in files that contain <article>)...\n",
      "There are 1505 topics\n",
      "Built-in web server\n",
      "The following is only valid when the PHP plugin is installed and enabled.\n",
      " IntelliJ IDEA has a built-in web server that can be used to preview and debug your application.  This ser\n"
     ]
    }
   ],
   "source": [
    "print(\"Extracting text from topics (<h1-h6> and <p> tags in files that contain <article>)...\")\n",
    "\n",
    "topic_texts = {}\n",
    "\n",
    "for item in topic_sources.items():\n",
    "    topic_file_name = item[0]\n",
    "    article = item[1]\n",
    "\n",
    "    text = \"\"\n",
    "    for tag in article.find_all(re.compile(\"^h[1-6]$|^p$\")):\n",
    "        text += tag.get_text() + \"\\n\"\n",
    "\n",
    "    topic_texts[topic_file_name] = text\n",
    "\n",
    "print(\"There are\", len(topic_texts), \"topics\")\n",
    "\n",
    "print(list(topic_texts.items())[2][1][:200])"
   ],
   "metadata": {
    "collapsed": false,
    "pycharm": {
     "name": "#%%\n"
    }
   }
  },
  {
   "cell_type": "code",
   "execution_count": 18,
   "outputs": [
    {
     "name": "stdout",
     "output_type": "stream",
     "text": [
      "Saving plain text from topics to topic_text.csv...\n"
     ]
    },
    {
     "ename": "ValueError",
     "evalue": "cannot use columns parameter with orient='columns'",
     "output_type": "error",
     "traceback": [
      "\u001B[0;31m---------------------------------------------------------------------------\u001B[0m",
      "\u001B[0;31mValueError\u001B[0m                                Traceback (most recent call last)",
      "\u001B[0;32m/var/folders/b6/jlv0gzhn72vdj8t4yttnz9cw0000kt/T/ipykernel_65603/2251367630.py\u001B[0m in \u001B[0;36m<module>\u001B[0;34m\u001B[0m\n\u001B[1;32m      1\u001B[0m \u001B[0mprint\u001B[0m\u001B[0;34m(\u001B[0m\u001B[0;34m\"Saving plain text from topics to topic_text.csv...\"\u001B[0m\u001B[0;34m)\u001B[0m\u001B[0;34m\u001B[0m\u001B[0;34m\u001B[0m\u001B[0m\n\u001B[1;32m      2\u001B[0m \u001B[0;34m\u001B[0m\u001B[0m\n\u001B[0;32m----> 3\u001B[0;31m \u001B[0mdf\u001B[0m \u001B[0;34m=\u001B[0m \u001B[0mpandas\u001B[0m\u001B[0;34m.\u001B[0m\u001B[0mDataFrame\u001B[0m\u001B[0;34m.\u001B[0m\u001B[0mfrom_dict\u001B[0m\u001B[0;34m(\u001B[0m\u001B[0mtopic_texts\u001B[0m\u001B[0;34m,\u001B[0m \u001B[0mcolumns\u001B[0m\u001B[0;34m=\u001B[0m\u001B[0;34m[\u001B[0m\u001B[0;34m\"topic\"\u001B[0m\u001B[0;34m,\u001B[0m \u001B[0;34m\"text\"\u001B[0m\u001B[0;34m]\u001B[0m\u001B[0;34m)\u001B[0m\u001B[0;34m\u001B[0m\u001B[0;34m\u001B[0m\u001B[0m\n\u001B[0m\u001B[1;32m      4\u001B[0m \u001B[0;34m\u001B[0m\u001B[0m\n\u001B[1;32m      5\u001B[0m \u001B[0mprint\u001B[0m\u001B[0;34m(\u001B[0m\u001B[0mdf\u001B[0m\u001B[0;34m.\u001B[0m\u001B[0mshape\u001B[0m\u001B[0;34m)\u001B[0m\u001B[0;34m\u001B[0m\u001B[0;34m\u001B[0m\u001B[0m\n",
      "\u001B[0;32m~/IdeaProjects/CompLing/venv/lib/python3.8/site-packages/pandas/core/frame.py\u001B[0m in \u001B[0;36mfrom_dict\u001B[0;34m(cls, data, orient, dtype, columns)\u001B[0m\n\u001B[1;32m   1587\u001B[0m         \u001B[0;32melif\u001B[0m \u001B[0morient\u001B[0m \u001B[0;34m==\u001B[0m \u001B[0;34m\"columns\"\u001B[0m\u001B[0;34m:\u001B[0m\u001B[0;34m\u001B[0m\u001B[0;34m\u001B[0m\u001B[0m\n\u001B[1;32m   1588\u001B[0m             \u001B[0;32mif\u001B[0m \u001B[0mcolumns\u001B[0m \u001B[0;32mis\u001B[0m \u001B[0;32mnot\u001B[0m \u001B[0;32mNone\u001B[0m\u001B[0;34m:\u001B[0m\u001B[0;34m\u001B[0m\u001B[0;34m\u001B[0m\u001B[0m\n\u001B[0;32m-> 1589\u001B[0;31m                 \u001B[0;32mraise\u001B[0m \u001B[0mValueError\u001B[0m\u001B[0;34m(\u001B[0m\u001B[0;34m\"cannot use columns parameter with orient='columns'\"\u001B[0m\u001B[0;34m)\u001B[0m\u001B[0;34m\u001B[0m\u001B[0;34m\u001B[0m\u001B[0m\n\u001B[0m\u001B[1;32m   1590\u001B[0m         \u001B[0;32melse\u001B[0m\u001B[0;34m:\u001B[0m  \u001B[0;31m# pragma: no cover\u001B[0m\u001B[0;34m\u001B[0m\u001B[0;34m\u001B[0m\u001B[0m\n\u001B[1;32m   1591\u001B[0m             \u001B[0;32mraise\u001B[0m \u001B[0mValueError\u001B[0m\u001B[0;34m(\u001B[0m\u001B[0;34m\"only recognize index or columns for orient\"\u001B[0m\u001B[0;34m)\u001B[0m\u001B[0;34m\u001B[0m\u001B[0;34m\u001B[0m\u001B[0m\n",
      "\u001B[0;31mValueError\u001B[0m: cannot use columns parameter with orient='columns'"
     ]
    }
   ],
   "source": [
    "print(\"Saving plain text from topics to topic_text.csv...\")\n",
    "\n",
    "df = pandas.DataFrame.from_dict(topic_texts, orient=\"index\", columns=[\"topic\", \"text\"])\n",
    "\n",
    "print(df.shape)\n",
    "df.to_csv(\"01_topic_text.csv\")\n",
    "print(\"Saved!\")"
   ],
   "metadata": {
    "collapsed": false,
    "pycharm": {
     "name": "#%%\n"
    }
   }
  },
  {
   "cell_type": "code",
   "execution_count": 16,
   "outputs": [
    {
     "data": {
      "text/plain": "                                                                                             0\nsettings-notifications.html                  Notifications\\nUse this page to enable and dis...\nconfiguring-project-and-ide-settings.html    Configuring the IDE\\nIntelliJ IDEA allows you ...\nphp-built-in-web-server.html                 Built-in web server\\nThe following is only val...\nwork-with-scala-worksheet-and-ammonite.html  Scala worksheet and Ammonite\\nYou can quickly ...\nfinding-and-replacing-text-in-project.html   Search and replace a target within a project\\n...",
      "text/html": "<div>\n<style scoped>\n    .dataframe tbody tr th:only-of-type {\n        vertical-align: middle;\n    }\n\n    .dataframe tbody tr th {\n        vertical-align: top;\n    }\n\n    .dataframe thead th {\n        text-align: right;\n    }\n</style>\n<table border=\"1\" class=\"dataframe\">\n  <thead>\n    <tr style=\"text-align: right;\">\n      <th></th>\n      <th>0</th>\n    </tr>\n  </thead>\n  <tbody>\n    <tr>\n      <th>settings-notifications.html</th>\n      <td>Notifications\\nUse this page to enable and dis...</td>\n    </tr>\n    <tr>\n      <th>configuring-project-and-ide-settings.html</th>\n      <td>Configuring the IDE\\nIntelliJ IDEA allows you ...</td>\n    </tr>\n    <tr>\n      <th>php-built-in-web-server.html</th>\n      <td>Built-in web server\\nThe following is only val...</td>\n    </tr>\n    <tr>\n      <th>work-with-scala-worksheet-and-ammonite.html</th>\n      <td>Scala worksheet and Ammonite\\nYou can quickly ...</td>\n    </tr>\n    <tr>\n      <th>finding-and-replacing-text-in-project.html</th>\n      <td>Search and replace a target within a project\\n...</td>\n    </tr>\n  </tbody>\n</table>\n</div>"
     },
     "execution_count": 16,
     "metadata": {},
     "output_type": "execute_result"
    }
   ],
   "source": [
    "df.head(5)"
   ],
   "metadata": {
    "collapsed": false,
    "pycharm": {
     "name": "#%%\n"
    }
   }
  }
 ],
 "metadata": {
  "kernelspec": {
   "display_name": "Python 3",
   "language": "python",
   "name": "python3"
  },
  "language_info": {
   "codemirror_mode": {
    "name": "ipython",
    "version": 2
   },
   "file_extension": ".py",
   "mimetype": "text/x-python",
   "name": "python",
   "nbconvert_exporter": "python",
   "pygments_lexer": "ipython2",
   "version": "2.7.6"
  }
 },
 "nbformat": 4,
 "nbformat_minor": 0
}