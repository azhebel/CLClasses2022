{
 "cells": [
  {
   "cell_type": "code",
   "execution_count": 38,
   "outputs": [],
   "source": [
    "from rank_bm25 import BM25Okapi\n",
    "import csv\n",
    "import pandas"
   ],
   "metadata": {
    "collapsed": false,
    "pycharm": {
     "name": "#%%\n"
    }
   }
  },
  {
   "cell_type": "code",
   "execution_count": 2,
   "outputs": [
    {
     "name": "stdout",
     "output_type": "stream",
     "text": [
      "Getting list of topic names...\n",
      "Done!\n"
     ]
    }
   ],
   "source": [
    "print(\"Getting list of topic names...\")\n",
    "with open(\"01_topic_text.csv\") as file:\n",
    "    topic_names = []\n",
    "    for line in csv.reader(file):\n",
    "        topic_names.append(line[0])\n",
    "print(\"Done!\")"
   ],
   "metadata": {
    "collapsed": false,
    "pycharm": {
     "name": "#%%\n"
    }
   }
  },
  {
   "cell_type": "code",
   "execution_count": 33,
   "outputs": [
    {
     "name": "stdout",
     "output_type": "stream",
     "text": [
      "Getting corpus of word tokens...\n",
      "Done!\n"
     ]
    }
   ],
   "source": [
    "print(\"Getting corpus of word tokens...\")\n",
    "with open(\"02a_word_corpus.csv\") as file:\n",
    "    word_corpus = list(csv.reader(file))\n",
    "print(\"Done!\")"
   ],
   "metadata": {
    "collapsed": false,
    "pycharm": {
     "name": "#%%\n"
    }
   }
  },
  {
   "cell_type": "code",
   "execution_count": 34,
   "outputs": [
    {
     "name": "stdout",
     "output_type": "stream",
     "text": [
      "Topic 100 is: create-ssh-configurations.html\n",
      "['create', 'ssh', 'configurations', 'intellij', 'idea', 'save', 'remote', 'server', 'ssh', 'connection', 'parameters', 'dedicated', 'ssh', 'configuration', 'created', 'configuration', 'used', 'configuring', 'remote', 'interpreters', 'connecting', 'sftp', 'deployment', 'servers', 'launching', 'ssh', 'sessions', 'settings', 'preferences', 'dialog', 'ctrl', 'alt', 'go', 'tools', 'ssh', 'configurations', 'left', 'hand', 'pane', 'lists', 'existing', 'ssh', 'configurations', 'click', 'use', 'visible', 'project', 'checkbox', 'configure', 'visibility', 'server', 'access', 'configuration', 'select', 'checkbox', 'restrict', 'use', 'ssh', 'configuration', 'current', 'project', 'ssh', 'configuration', 'cannot', 'reused', 'outside', 'current', 'project', 'appear', 'list', 'available', 'configurations', 'projects', 'ssh', 'configurations', 'stored', 'idea', 'directory', 'together', 'project', 'allows', 'sharing', 'team', 'members', 'vcs', 'ssh', 'configurations', 'stored', 'idea', 'directory', 'together', 'project', 'allows', 'sharing', 'team', 'members', 'vcs', 'checkbox', 'cleared', 'ssh', 'configuration', 'visible', 'intellij', 'idea', 'projects', 'settings', 'reused', 'across', 'several', 'projects', 'host', 'user', 'name', 'port', 'fields', 'specify', 'connection', 'parameters', 'necessary', 'provide', 'outgoing', 'port', 'local', 'port', 'field', 'otherwise', 'port', 'selected', 'automatically', 'choose', 'way', 'authenticate', 'server', 'one', 'following', 'password', 'access', 'host', 'password', 'save', 'password', 'intellij', 'idea', 'select', 'save', 'password', 'checkbox', 'key', 'pair', 'openssh', 'putty', 'use', 'ssh', 'authentication', 'key', 'pair', 'apply', 'authentication', 'method', 'must', 'private', 'key', 'client', 'machine', 'public', 'key', 'remote', 'server', 'intellij', 'idea', 'supports', 'private', 'keys', 'generated', 'openssh', 'utility', 'specify', 'path', 'file', 'private', 'key', 'stored', 'type', 'passphrase', 'corresponding', 'fields', 'intellij', 'idea', 'remember', 'passphrase', 'select', 'save', 'passphrase', 'checkbox', 'openssh', 'config', 'authentication', 'agent', 'use', 'ssh', 'keys', 'managed', 'credentials', 'helper', 'application', 'example', 'pageant', 'windows', 'ssh', 'agent', 'macos', 'linux', 'see', 'generating', 'new', 'ssh', 'key', 'adding', 'ssh', 'agent', 'tutorial', 'details', 'working', 'ssh', 'keys', 'click', 'test', 'connection', 'button', 'make', 'sure', 'settings', 'correct', 'intellij', 'idea', 'connect', 'target', 'server', 'supported', 'openssh', 'directives', 'host', 'compression', 'hostname']\n"
     ]
    }
   ],
   "source": [
    "topic_id = 100\n",
    "print(f\"Topic {topic_id} is:\", topic_names[topic_id])\n",
    "print(word_corpus[topic_id])"
   ],
   "metadata": {
    "collapsed": false,
    "pycharm": {
     "name": "#%%\n"
    }
   }
  },
  {
   "cell_type": "code",
   "execution_count": 35,
   "outputs": [],
   "source": [
    "word_bm25 = BM25Okapi(word_corpus)"
   ],
   "metadata": {
    "collapsed": false,
    "pycharm": {
     "name": "#%%\n"
    }
   }
  },
  {
   "cell_type": "code",
   "execution_count": 37,
   "outputs": [],
   "source": [
    "query = \"file templates\"\n",
    "tokenized_query = query.split()\n",
    "\n",
    "doc_scores = word_bm25.get_scores(tokenized_query)"
   ],
   "metadata": {
    "collapsed": false,
    "pycharm": {
     "name": "#%%\n"
    }
   }
  },
  {
   "cell_type": "code",
   "execution_count": 11,
   "outputs": [
    {
     "name": "stdout",
     "output_type": "stream",
     "text": [
      "899 settings-file-and-code-templates.html 6.92897224974819\n",
      "418 save-file-as-template-dialog.html 6.877819098266242\n",
      "689 template-data-languages.html 6.833139951951814\n",
      "1256 using-file-and-code-templates.html 6.8246794253227705\n",
      "494 templates-with-multiple-files.html 6.787083612926227\n",
      "751 templates.html 6.662271016797102\n",
      "676 navigating-between-text-and-message-file.html 6.635430286610823\n",
      "25 file-template-variables.html 6.623276188572417\n",
      "1148 creating-and-opening-forms.html 6.550807949930977\n",
      "118 sharing-live-templates.html 6.512819339029604\n"
     ]
    }
   ],
   "source": [
    "for document_number, score in sorted(enumerate(doc_scores), key=lambda x: x[1], reverse=True)[:10]:\n",
    "    print(document_number, topic_names[document_number], score)"
   ],
   "metadata": {
    "collapsed": false,
    "pycharm": {
     "name": "#%%\n"
    }
   }
  },
  {
   "cell_type": "code",
   "execution_count": 13,
   "outputs": [
    {
     "name": "stdout",
     "output_type": "stream",
     "text": [
      "899 settings-file-and-code-templates.html 7.36848926281798\n",
      "1256 using-file-and-code-templates.html 7.289245043775635\n",
      "418 save-file-as-template-dialog.html 7.179982401274868\n",
      "118 sharing-live-templates.html 6.9899553084060155\n",
      "278 liquid.html 6.862987824823452\n",
      "1024 parse-directive.html 6.823798620565712\n",
      "494 templates-with-multiple-files.html 6.801820627971544\n",
      "751 templates.html 6.719226689368298\n",
      "1148 creating-and-opening-forms.html 6.487884680934146\n",
      "1082 saving-project-as-template.html 6.402291372510646\n"
     ]
    }
   ],
   "source": [
    "for document_number, score in sorted(enumerate(doc_scores), key=lambda x: x[1], reverse=True)[:10]:\n",
    "    print(document_number, topic_names[document_number], score)"
   ],
   "metadata": {
    "collapsed": false,
    "pycharm": {
     "name": "#%%\n"
    }
   }
  },
  {
   "cell_type": "code",
   "execution_count": 40,
   "outputs": [],
   "source": [
    "results_csv = \"search_test_results.csv\"\n",
    "\n",
    "with open(results_csv, \"r\") as file:\n",
    "    df = pandas.read_csv(file)\n",
    "\n",
    "search_queries = df[\"query\"].tolist()\n",
    "\n",
    "all_results = []\n",
    "\n",
    "for query in search_queries:\n",
    "    distance = word_bm25.get_scores(query.split())\n",
    "\n",
    "    q_result = \"\"\n",
    "\n",
    "    for document_number, score in sorted(enumerate(distance), key=lambda x: x[1], reverse=True)[:5]:\n",
    "        if score > 0.01:\n",
    "            q_result = q_result + topic_names[document_number] + \"\\n\"\n",
    "\n",
    "    all_results.append(q_result)\n",
    "\n",
    "# print(all_results)\n",
    "df[\"word_bm25\"] = all_results"
   ],
   "metadata": {
    "collapsed": false,
    "pycharm": {
     "name": "#%%\n"
    }
   }
  },
  {
   "cell_type": "code",
   "execution_count": 41,
   "outputs": [],
   "source": [
    "df.to_csv(results_csv, index=False)"
   ],
   "metadata": {
    "collapsed": false,
    "pycharm": {
     "name": "#%%\n"
    }
   }
  },
  {
   "cell_type": "markdown",
   "source": [
    "# LEMMAS"
   ],
   "metadata": {
    "collapsed": false,
    "pycharm": {
     "name": "#%% md\n"
    }
   }
  },
  {
   "cell_type": "code",
   "execution_count": 21,
   "outputs": [],
   "source": [
    "import nltk\n",
    "\n",
    "def lem(token):\n",
    "    lemmatizer = nltk.stem.wordnet.WordNetLemmatizer()\n",
    "    if token[1].startswith(\"V\"):\n",
    "        lemma = lemmatizer.lemmatize(token[0], nltk.corpus.wordnet.VERB)\n",
    "    if token[1].startswith(\"J\"):\n",
    "        lemma = lemmatizer.lemmatize(token[0], nltk.corpus.wordnet.ADJ)\n",
    "    if token[1].startswith(\"R\"):\n",
    "        lemma = lemmatizer.lemmatize(token[0], nltk.corpus.wordnet.ADV)\n",
    "    else:\n",
    "        lemma = lemmatizer.lemmatize(token[0], nltk.corpus.wordnet.NOUN)\n",
    "    return lemma"
   ],
   "metadata": {
    "collapsed": false,
    "pycharm": {
     "name": "#%%\n"
    }
   }
  },
  {
   "cell_type": "code",
   "execution_count": 42,
   "outputs": [
    {
     "name": "stdout",
     "output_type": "stream",
     "text": [
      "Getting corpus of word tokens...\n",
      "Done!\n"
     ]
    }
   ],
   "source": [
    "print(\"Getting corpus of word tokens...\")\n",
    "with open(\"02b_lemma_corpus.csv\") as file:\n",
    "    lemma_corpus = list(csv.reader(file))\n",
    "print(\"Done!\")"
   ],
   "metadata": {
    "collapsed": false,
    "pycharm": {
     "name": "#%%\n"
    }
   }
  },
  {
   "cell_type": "code",
   "execution_count": 43,
   "outputs": [],
   "source": [
    "lemma_bm25 = BM25Okapi(lemma_corpus)"
   ],
   "metadata": {
    "collapsed": false,
    "pycharm": {
     "name": "#%%\n"
    }
   }
  },
  {
   "cell_type": "code",
   "execution_count": 44,
   "outputs": [],
   "source": [
    "query = \"file templates\"\n",
    "\n",
    "tokenized_query = [lem(token) for token in nltk.pos_tag(query.split())]\n",
    "\n",
    "doc_scores = lemma_bm25.get_scores(tokenized_query)"
   ],
   "metadata": {
    "collapsed": false,
    "pycharm": {
     "name": "#%%\n"
    }
   }
  },
  {
   "cell_type": "code",
   "execution_count": 23,
   "outputs": [
    {
     "name": "stdout",
     "output_type": "stream",
     "text": [
      "899 settings-file-and-code-templates.html 6.756649735333999\n",
      "1256 using-file-and-code-templates.html 6.7347761032443945\n",
      "418 save-file-as-template-dialog.html 6.6956058102957225\n",
      "494 templates-with-multiple-files.html 6.67417799960983\n",
      "118 sharing-live-templates.html 6.6043310332097915\n",
      "689 template-data-languages.html 6.5976075420677995\n",
      "751 templates.html 6.505431446520513\n",
      "1148 creating-and-opening-forms.html 6.493596368280887\n",
      "278 liquid.html 6.464309277072301\n",
      "676 navigating-between-text-and-message-file.html 6.4179051633347175\n"
     ]
    }
   ],
   "source": [
    "for document_number, score in sorted(enumerate(doc_scores), key=lambda x: x[1], reverse=True)[:10]:\n",
    "    print(document_number, topic_names[document_number], score)"
   ],
   "metadata": {
    "collapsed": false,
    "pycharm": {
     "name": "#%%\n"
    }
   }
  },
  {
   "cell_type": "code",
   "execution_count": 25,
   "outputs": [
    {
     "name": "stdout",
     "output_type": "stream",
     "text": [
      "899 settings-file-and-code-templates.html 6.756649735333999\n",
      "1256 using-file-and-code-templates.html 6.7347761032443945\n",
      "418 save-file-as-template-dialog.html 6.6956058102957225\n",
      "494 templates-with-multiple-files.html 6.67417799960983\n",
      "118 sharing-live-templates.html 6.6043310332097915\n",
      "689 template-data-languages.html 6.5976075420677995\n",
      "751 templates.html 6.505431446520513\n",
      "1148 creating-and-opening-forms.html 6.493596368280887\n",
      "278 liquid.html 6.464309277072301\n",
      "676 navigating-between-text-and-message-file.html 6.4179051633347175\n"
     ]
    }
   ],
   "source": [
    "for document_number, score in sorted(enumerate(doc_scores), key=lambda x: x[1], reverse=True)[:10]:\n",
    "    print(document_number, topic_names[document_number], score)"
   ],
   "metadata": {
    "collapsed": false,
    "pycharm": {
     "name": "#%%\n"
    }
   }
  },
  {
   "cell_type": "code",
   "execution_count": 45,
   "outputs": [],
   "source": [
    "results_csv = \"search_test_results.csv\"\n",
    "\n",
    "with open(results_csv, \"r\") as file:\n",
    "    df = pandas.read_csv(file)\n",
    "\n",
    "search_queries = df[\"query\"].tolist()\n",
    "\n",
    "all_results = []\n",
    "\n",
    "for query in search_queries:\n",
    "    distance = lemma_bm25.get_scores([lem(token) for token in nltk.pos_tag(query.split())])\n",
    "\n",
    "    q_result = \"\"\n",
    "\n",
    "    for document_number, score in sorted(enumerate(distance), key=lambda x: x[1], reverse=True)[:5]:\n",
    "        if score > 0.01:\n",
    "            q_result = q_result + topic_names[document_number] + \"\\n\"\n",
    "\n",
    "    all_results.append(q_result)\n",
    "\n",
    "# print(all_results)\n",
    "df[\"lemma_bm25\"] = all_results"
   ],
   "metadata": {
    "collapsed": false,
    "pycharm": {
     "name": "#%%\n"
    }
   }
  },
  {
   "cell_type": "code",
   "execution_count": 46,
   "outputs": [],
   "source": [
    "df.to_csv(results_csv, index=False)"
   ],
   "metadata": {
    "collapsed": false,
    "pycharm": {
     "name": "#%%\n"
    }
   }
  },
  {
   "cell_type": "markdown",
   "source": [
    "# STEMS"
   ],
   "metadata": {
    "collapsed": false,
    "pycharm": {
     "name": "#%% md\n"
    }
   }
  },
  {
   "cell_type": "code",
   "execution_count": 47,
   "outputs": [
    {
     "name": "stdout",
     "output_type": "stream",
     "text": [
      "Getting corpus of word tokens...\n",
      "Done!\n"
     ]
    }
   ],
   "source": [
    "print(\"Getting corpus of word tokens...\")\n",
    "with open(\"02c_stemmed_corpus.csv\") as file:\n",
    "    stemmed_corpus = list(csv.reader(file))\n",
    "print(\"Done!\")"
   ],
   "metadata": {
    "collapsed": false,
    "pycharm": {
     "name": "#%%\n"
    }
   }
  },
  {
   "cell_type": "code",
   "execution_count": 49,
   "outputs": [],
   "source": [
    "stemmed_bm25 = BM25Okapi(stemmed_corpus)"
   ],
   "metadata": {
    "collapsed": false,
    "pycharm": {
     "name": "#%%\n"
    }
   }
  },
  {
   "cell_type": "code",
   "execution_count": 50,
   "outputs": [],
   "source": [
    "query = \"file template\"\n",
    "\n",
    "stemmer = nltk.stem.porter.PorterStemmer()\n",
    "tokenized_query = [stemmer.stem(token) for token in query.split()]\n",
    "\n",
    "doc_scores = stemmed_bm25.get_scores(tokenized_query)"
   ],
   "metadata": {
    "collapsed": false,
    "pycharm": {
     "name": "#%%\n"
    }
   }
  },
  {
   "cell_type": "code",
   "execution_count": 30,
   "outputs": [
    {
     "name": "stdout",
     "output_type": "stream",
     "text": [
      "899 settings-file-and-code-templates.html 6.721241953938817\n",
      "1256 using-file-and-code-templates.html 6.699273212986636\n",
      "418 save-file-as-template-dialog.html 6.660416315745699\n",
      "494 templates-with-multiple-files.html 6.6391498180164366\n",
      "118 sharing-live-templates.html 6.570069078822467\n",
      "689 template-data-languages.html 6.562660073648503\n",
      "751 templates.html 6.471329228665837\n",
      "1148 creating-and-opening-forms.html 6.457138322602582\n",
      "278 liquid.html 6.430555097723117\n",
      "676 navigating-between-text-and-message-file.html 6.383993824774031\n"
     ]
    }
   ],
   "source": [
    "for document_number, score in sorted(enumerate(doc_scores), key=lambda x: x[1], reverse=True)[:10]:\n",
    "    print(document_number, topic_names[document_number], score)"
   ],
   "metadata": {
    "collapsed": false,
    "pycharm": {
     "name": "#%%\n"
    }
   }
  },
  {
   "cell_type": "code",
   "execution_count": 32,
   "outputs": [
    {
     "name": "stdout",
     "output_type": "stream",
     "text": [
      "899 settings-file-and-code-templates.html 6.721241953938817\n",
      "1256 using-file-and-code-templates.html 6.699273212986636\n",
      "418 save-file-as-template-dialog.html 6.660416315745699\n",
      "494 templates-with-multiple-files.html 6.6391498180164366\n",
      "118 sharing-live-templates.html 6.570069078822467\n",
      "689 template-data-languages.html 6.562660073648503\n",
      "751 templates.html 6.471329228665837\n",
      "1148 creating-and-opening-forms.html 6.457138322602582\n",
      "278 liquid.html 6.430555097723117\n",
      "676 navigating-between-text-and-message-file.html 6.383993824774031\n"
     ]
    }
   ],
   "source": [
    "for document_number, score in sorted(enumerate(doc_scores), key=lambda x: x[1], reverse=True)[:10]:\n",
    "    print(document_number, topic_names[document_number], score)"
   ],
   "metadata": {
    "collapsed": false,
    "pycharm": {
     "name": "#%%\n"
    }
   }
  },
  {
   "cell_type": "code",
   "execution_count": 51,
   "outputs": [],
   "source": [
    "results_csv = \"search_test_results.csv\"\n",
    "\n",
    "with open(results_csv, \"r\") as file:\n",
    "    df = pandas.read_csv(file)\n",
    "\n",
    "search_queries = df[\"query\"].tolist()\n",
    "\n",
    "all_results = []\n",
    "\n",
    "for query in search_queries:\n",
    "    distance = stemmed_bm25.get_scores([stemmer.stem(token) for token in query.split()])\n",
    "\n",
    "    q_result = \"\"\n",
    "\n",
    "    for document_number, score in sorted(enumerate(distance), key=lambda x: x[1], reverse=True)[:5]:\n",
    "        if score > 0.01:\n",
    "            q_result = q_result + topic_names[document_number] + \"\\n\"\n",
    "\n",
    "    all_results.append(q_result)\n",
    "\n",
    "# print(all_results)\n",
    "df[\"stemmed_bm25\"] = all_results"
   ],
   "metadata": {
    "collapsed": false,
    "pycharm": {
     "name": "#%%\n"
    }
   }
  },
  {
   "cell_type": "code",
   "execution_count": 52,
   "outputs": [],
   "source": [
    "df.to_csv(results_csv, index=False)"
   ],
   "metadata": {
    "collapsed": false,
    "pycharm": {
     "name": "#%%\n"
    }
   }
  },
  {
   "cell_type": "markdown",
   "source": [
    "---"
   ],
   "metadata": {
    "collapsed": false,
    "pycharm": {
     "name": "#%% md\n"
    }
   }
  },
  {
   "cell_type": "code",
   "execution_count": 7,
   "outputs": [],
   "source": [
    "corpus = [\n",
    "    \"Hello there good man!\",\n",
    "    \"It is quite windy in London\",\n",
    "    \"How is the weather today?\"\n",
    "]\n",
    "\n",
    "tokenized_corpus = [doc.split(\" \") for doc in corpus]\n",
    "\n",
    "bm25 = BM25Okapi(tokenized_corpus)"
   ],
   "metadata": {
    "collapsed": false,
    "pycharm": {
     "name": "#%%\n"
    }
   }
  },
  {
   "cell_type": "code",
   "execution_count": 24,
   "outputs": [],
   "source": [
    "query = \"windy London\"\n",
    "tokenized_query = query.split()\n",
    "\n",
    "doc_scores = bm25.get_scores(tokenized_query)"
   ],
   "metadata": {
    "collapsed": false,
    "pycharm": {
     "name": "#%%\n"
    }
   }
  },
  {
   "cell_type": "code",
   "execution_count": 25,
   "outputs": [
    {
     "data": {
      "text/plain": "array([0.        , 0.93729472, 0.        ])"
     },
     "execution_count": 25,
     "metadata": {},
     "output_type": "execute_result"
    }
   ],
   "source": [
    "doc_scores"
   ],
   "metadata": {
    "collapsed": false,
    "pycharm": {
     "name": "#%%\n"
    }
   }
  }
 ],
 "metadata": {
  "kernelspec": {
   "display_name": "Python 3",
   "language": "python",
   "name": "python3"
  },
  "language_info": {
   "codemirror_mode": {
    "name": "ipython",
    "version": 2
   },
   "file_extension": ".py",
   "mimetype": "text/x-python",
   "name": "python",
   "nbconvert_exporter": "python",
   "pygments_lexer": "ipython2",
   "version": "2.7.6"
  }
 },
 "nbformat": 4,
 "nbformat_minor": 0
}