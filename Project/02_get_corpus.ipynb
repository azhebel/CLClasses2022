{
 "cells": [
  {
   "cell_type": "code",
   "execution_count": 1,
   "metadata": {
    "collapsed": true,
    "pycharm": {
     "name": "#%%\n"
    }
   },
   "outputs": [],
   "source": [
    "from collections import defaultdict as dd\n",
    "import nltk\n",
    "stop_words = nltk.corpus.stopwords.words(\"english\")\n",
    "\n",
    "import csv"
   ]
  },
  {
   "cell_type": "code",
   "execution_count": 2,
   "outputs": [
    {
     "name": "stdout",
     "output_type": "stream",
     "text": [
      "Lets make a list of all topic names and a list of corresponding topic texts...\n",
      "Done!\n"
     ]
    }
   ],
   "source": [
    "print(\"Lets make a list of all topic names and a list of corresponding topic texts...\")\n",
    "with open(\"01_topic_text.csv\") as file:\n",
    "    topic_names = []\n",
    "    topic_texts = []\n",
    "    for line in csv.reader(file):\n",
    "        topic_names.append(line[0])\n",
    "        topic_texts.append(line[1])\n",
    "print(\"Done!\")"
   ],
   "metadata": {
    "collapsed": false,
    "pycharm": {
     "name": "#%%\n"
    }
   }
  },
  {
   "cell_type": "code",
   "execution_count": 3,
   "outputs": [
    {
     "name": "stdout",
     "output_type": "stream",
     "text": [
      "Topic 100 is: create-ssh-configurations.html\n",
      "Create SSH configurations\n",
      "In IntelliJ IDEA, you can save the remote server SSH connection parameters as a dedicated SSH configuration. The created configuration can be then used for configuring remote\n"
     ]
    }
   ],
   "source": [
    "topic_id = 100\n",
    "print(f\"Topic {topic_id} is:\", topic_names[topic_id])\n",
    "print(topic_texts[topic_id][:200])"
   ],
   "metadata": {
    "collapsed": false,
    "pycharm": {
     "name": "#%%\n"
    }
   }
  },
  {
   "cell_type": "markdown",
   "source": [
    "# Simple tokenization into words"
   ],
   "metadata": {
    "collapsed": false,
    "pycharm": {
     "name": "#%% md\n"
    }
   }
  },
  {
   "cell_type": "code",
   "execution_count": 33,
   "outputs": [
    {
     "name": "stdout",
     "output_type": "stream",
     "text": [
      "['hello', 'world', 'good', 'bad', 'worst', 'create', 'etc', 'ot', 'new', 'user', 'intellij', 'idea', '2020', '1', 'intellij_idea', 'ctrl', 'alt']\n"
     ]
    }
   ],
   "source": [
    "from nltk.tokenize import RegexpTokenizer\n",
    "\n",
    "# Tokenize by word bounds only\n",
    "tknzr = RegexpTokenizer(\"\\w+\")\n",
    "\n",
    "# Also tokenize shortcuts \"ctrl+alt+s\" and version numbers \"2020.1\"\n",
    "# tknzr = RegexpTokenizer(\"\\w+(\\+\\w+)+|\\d+\\.\\d|\\w+\")\n",
    "\n",
    "# text = topic_texts[1]\n",
    "text = \"Hello, world! How are you?\\nI am good/bad//the worst. Create \\etc\\not\\\\new\\\\user. IntelliJ IDEA 2020.1. IntelliJ_IDEA. Ctrl+Alt+S.\"\n",
    "\n",
    "tkns = [word for word in tknzr.tokenize(text.lower()) if word not in stop_words]\n",
    "print(tkns)"
   ],
   "metadata": {
    "collapsed": false,
    "pycharm": {
     "name": "#%%\n"
    }
   }
  },
  {
   "cell_type": "code",
   "execution_count": 38,
   "outputs": [
    {
     "name": "stdout",
     "output_type": "stream",
     "text": [
      "Let's get rid of stop words, punctuation, and other symbols...\n",
      "Created a list of bags of words\n"
     ]
    }
   ],
   "source": [
    "print(\"Let's get rid of stop words, punctuation, and other symbols...\")\n",
    "word_tokens = [[word for word in tknzr.tokenize(doc.lower()) if word not in stop_words] for doc in topic_texts]\n",
    "print(\"Created a list of bags of words\")"
   ],
   "metadata": {
    "collapsed": false,
    "pycharm": {
     "name": "#%%\n"
    }
   }
  },
  {
   "cell_type": "code",
   "execution_count": 31,
   "outputs": [
    {
     "name": "stdout",
     "output_type": "stream",
     "text": [
      "Tokenizing, removing punctuation and stopwords, replacing slashes with spaces...\n",
      "Created a list of bags of words\n"
     ]
    }
   ],
   "source": [
    "# print(\"Tokenizing, removing punctuation and stopwords, replacing slashes with spaces...\")\n",
    "# word_tokens = [[word for word in nltk.word_tokenize(doc.lower().replace(\"/\", \" \").replace(\"\\\\\", \" \")) if word not in stop_words and word not in string.punctuation] for doc in topic_texts]\n",
    "# print(\"Created a list of bags of words\")"
   ],
   "metadata": {
    "collapsed": false,
    "pycharm": {
     "name": "#%%\n"
    }
   }
  },
  {
   "cell_type": "code",
   "execution_count": 39,
   "outputs": [
    {
     "name": "stdout",
     "output_type": "stream",
     "text": [
      "Topic 100 is: create-ssh-configurations.html\n",
      "261 tokens\n",
      "['create', 'ssh', 'configurations', 'intellij', 'idea', 'save', 'remote', 'server', 'ssh', 'connection', 'parameters', 'dedicated', 'ssh', 'configuration', 'created', 'configuration', 'used', 'configuring', 'remote', 'interpreters', 'connecting', 'sftp', 'deployment', 'servers', 'launching', 'ssh', 'sessions', 'settings', 'preferences', 'dialog', 'ctrl', 'alt', 'go', 'tools', 'ssh', 'configurations', 'left', 'hand', 'pane', 'lists', 'existing', 'ssh', 'configurations', 'click', 'use', 'visible', 'project', 'checkbox', 'configure', 'visibility', 'server', 'access', 'configuration', 'select', 'checkbox', 'restrict', 'use', 'ssh', 'configuration', 'current', 'project', 'ssh', 'configuration', 'cannot', 'reused', 'outside', 'current', 'project', 'appear', 'list', 'available', 'configurations', 'projects', 'ssh', 'configurations', 'stored', 'idea', 'directory', 'together', 'project', 'allows', 'sharing', 'team', 'members', 'vcs', 'ssh', 'configurations', 'stored', 'idea', 'directory', 'together', 'project', 'allows', 'sharing', 'team', 'members', 'vcs', 'checkbox', 'cleared', 'ssh', 'configuration', 'visible', 'intellij', 'idea', 'projects', 'settings', 'reused', 'across', 'several', 'projects', 'host', 'user', 'name', 'port', 'fields', 'specify', 'connection', 'parameters', 'necessary', 'provide', 'outgoing', 'port', 'local', 'port', 'field', 'otherwise', 'port', 'selected', 'automatically', 'choose', 'way', 'authenticate', 'server', 'one', 'following', 'password', 'access', 'host', 'password', 'save', 'password', 'intellij', 'idea', 'select', 'save', 'password', 'checkbox', 'key', 'pair', 'openssh', 'putty', 'use', 'ssh', 'authentication', 'key', 'pair', 'apply', 'authentication', 'method', 'must', 'private', 'key', 'client', 'machine', 'public', 'key', 'remote', 'server', 'intellij', 'idea', 'supports', 'private', 'keys', 'generated', 'openssh', 'utility', 'specify', 'path', 'file', 'private', 'key', 'stored', 'type', 'passphrase', 'corresponding', 'fields', 'intellij', 'idea', 'remember', 'passphrase', 'select', 'save', 'passphrase', 'checkbox', 'openssh', 'config', 'authentication', 'agent', 'use', 'ssh', 'keys', 'managed', 'credentials', 'helper', 'application', 'example', 'pageant', 'windows', 'ssh', 'agent', 'macos', 'linux', 'see', 'generating', 'new', 'ssh', 'key', 'adding', 'ssh', 'agent', 'tutorial', 'details', 'working', 'ssh', 'keys', 'click', 'test', 'connection', 'button', 'make', 'sure', 'settings', 'correct', 'intellij', 'idea', 'connect', 'target', 'server', 'supported', 'openssh', 'directives', 'host', 'clearallforwardings', 'compression', 'connecttimeout', 'forwardx11', 'forwardx11trusted', 'gssapiauthentication', 'hashknownhosts', 'hostname', 'identitiesonly', 'localforward', 'preferredauthentications', 'proxycommand', 'remoteforward', 'serveralivecountmax', 'aliveinterval', 'stricthostkeychecking', 'userknownhostsfile', 'xauthlocation', 'forwardagent']\n"
     ]
    }
   ],
   "source": [
    "print(f\"Topic {topic_id} is:\", topic_names[topic_id])\n",
    "print(len(word_tokens[topic_id]), \"tokens\")\n",
    "print(word_tokens[100])"
   ],
   "metadata": {
    "collapsed": false,
    "pycharm": {
     "name": "#%%\n"
    }
   }
  },
  {
   "cell_type": "code",
   "execution_count": 40,
   "outputs": [],
   "source": [
    "def tokens_to_corpus(tkns):\n",
    "    print(\"Counting term frequencies...\")\n",
    "    frequency = dd(int)\n",
    "\n",
    "    for doc in tkns:\n",
    "        for token in doc:\n",
    "            frequency[token] += 1\n",
    "\n",
    "    print(\"There are\", len(frequency), \"tokens in total.\")\n",
    "    print(\"The 10 most frequent are:\", dict(sorted(frequency.items(), key=lambda item: item[1], reverse=True)[:10]))\n",
    "\n",
    "    print(\"\\nLets get rid of tokens that appear only once...\")\n",
    "\n",
    "    corpus = [[token for token in doc if frequency[token] > 1] for doc in tkns]\n",
    "\n",
    "    unique = set()\n",
    "\n",
    "    for doc in corpus:\n",
    "        for token in doc:\n",
    "            unique.add(token)\n",
    "\n",
    "    print(\"Now we have\", len(unique), \"tokens left.\")\n",
    "\n",
    "    print(f\"Topic {topic_id} is:\", topic_names[topic_id])\n",
    "    print(len(corpus[topic_id]), \"tokens\")\n",
    "    print(corpus[100])\n",
    "\n",
    "    return corpus"
   ],
   "metadata": {
    "collapsed": false,
    "pycharm": {
     "name": "#%%\n"
    }
   }
  },
  {
   "cell_type": "code",
   "execution_count": 30,
   "outputs": [
    {
     "name": "stdout",
     "output_type": "stream",
     "text": [
      "Counting term frequencies...\n",
      "There are 9581 tokens in total.\n",
      "The 10 most frequent are: {'select': 12020, 'run': 9301, 'click': 8513, 'idea': 7916, 'intellij': 7506, 'file': 7427, 'project': 6600, 'configuration': 6493, 'code': 5509, 'dialog': 5451}\n",
      "\n",
      "Lets get rid of tokens that appear only once...\n",
      "Now we have 6860 tokens left.\n",
      "Topic 100 is: create-ssh-configurations.html\n",
      "244 tokens\n",
      "['create', 'ssh', 'configurations', 'intellij', 'idea', 'save', 'remote', 'server', 'ssh', 'connection', 'parameters', 'dedicated', 'ssh', 'configuration', 'created', 'configuration', 'used', 'configuring', 'remote', 'interpreters', 'connecting', 'sftp', 'deployment', 'servers', 'launching', 'ssh', 'sessions', 'settings', 'preferences', 'dialog', 'ctrl', 'alt', 'go', 'tools', 'ssh', 'configurations', 'left', 'hand', 'pane', 'lists', 'existing', 'ssh', 'configurations', 'click', 'use', 'visible', 'project', 'checkbox', 'configure', 'visibility', 'server', 'access', 'configuration', 'select', 'checkbox', 'restrict', 'use', 'ssh', 'configuration', 'current', 'project', 'ssh', 'configuration', 'cannot', 'reused', 'outside', 'current', 'project', 'appear', 'list', 'available', 'configurations', 'projects', 'ssh', 'configurations', 'stored', 'idea', 'directory', 'together', 'project', 'allows', 'sharing', 'team', 'members', 'vcs', 'ssh', 'configurations', 'stored', 'idea', 'directory', 'together', 'project', 'allows', 'sharing', 'team', 'members', 'vcs', 'checkbox', 'cleared', 'ssh', 'configuration', 'visible', 'intellij', 'idea', 'projects', 'settings', 'reused', 'across', 'several', 'projects', 'host', 'user', 'name', 'port', 'fields', 'specify', 'connection', 'parameters', 'necessary', 'provide', 'outgoing', 'port', 'local', 'port', 'field', 'otherwise', 'port', 'selected', 'automatically', 'choose', 'way', 'authenticate', 'server', 'one', 'following', 'password', 'access', 'host', 'password', 'save', 'password', 'intellij', 'idea', 'select', 'save', 'password', 'checkbox', 'key', 'pair', 'openssh', 'putty', 'use', 'ssh', 'authentication', 'key', 'pair', 'apply', 'authentication', 'method', 'must', 'private', 'key', 'client', 'machine', 'public', 'key', 'remote', 'server', 'intellij', 'idea', 'supports', 'private', 'keys', 'generated', 'openssh', 'utility', 'specify', 'path', 'file', 'private', 'key', 'stored', 'type', 'passphrase', 'corresponding', 'fields', 'intellij', 'idea', 'remember', 'passphrase', 'select', 'save', 'passphrase', 'checkbox', 'openssh', 'config', 'authentication', 'agent', 'use', 'ssh', 'keys', 'managed', 'credentials', 'helper', 'application', 'example', 'pageant', 'windows', 'ssh', 'agent', 'macos', 'linux', 'see', 'generating', 'new', 'ssh', 'key', 'adding', 'ssh', 'agent', 'tutorial', 'details', 'working', 'ssh', 'keys', 'click', 'test', 'connection', 'button', 'make', 'sure', 'settings', 'correct', 'intellij', 'idea', 'connect', 'target', 'server', 'supported', 'openssh', 'directives', 'host', 'compression', 'hostname']\n"
     ]
    }
   ],
   "source": [
    "word_corpus = tokens_to_corpus(word_tokens)"
   ],
   "metadata": {
    "collapsed": false,
    "pycharm": {
     "name": "#%%\n"
    }
   }
  },
  {
   "cell_type": "code",
   "execution_count": 41,
   "outputs": [
    {
     "name": "stdout",
     "output_type": "stream",
     "text": [
      "Saving word tokens to csv...\n",
      "Done!\n"
     ]
    }
   ],
   "source": [
    "print(\"Saving word tokens to csv...\")\n",
    "with open(\"02a_word_corpus.csv\", \"w\") as file:\n",
    "    csv.writer(file).writerows(word_corpus)\n",
    "print(\"Done!\")"
   ],
   "metadata": {
    "collapsed": false,
    "pycharm": {
     "name": "#%%\n"
    }
   }
  },
  {
   "cell_type": "markdown",
   "source": [
    "# Lemmatization"
   ],
   "metadata": {
    "collapsed": false,
    "pycharm": {
     "name": "#%% md\n"
    }
   }
  },
  {
   "cell_type": "code",
   "execution_count": 34,
   "outputs": [],
   "source": [
    "from nltk.corpus import wordnet\n",
    "from nltk.stem import WordNetLemmatizer"
   ],
   "metadata": {
    "collapsed": false,
    "pycharm": {
     "name": "#%%\n"
    }
   }
  },
  {
   "cell_type": "code",
   "execution_count": 42,
   "outputs": [
    {
     "name": "stdout",
     "output_type": "stream",
     "text": [
      "Lets try to lemmatize our tokens...\n",
      "Done!\n"
     ]
    }
   ],
   "source": [
    "print(\"Lets try to lemmatize our tokens...\")\n",
    "\n",
    "lemmatizer = WordNetLemmatizer()\n",
    "\n",
    "def lem(token):\n",
    "    if token[1].startswith(\"V\"):\n",
    "        lemma = lemmatizer.lemmatize(token[0], wordnet.VERB)\n",
    "    if token[1].startswith(\"J\"):\n",
    "        lemma = lemmatizer.lemmatize(token[0], wordnet.ADJ)\n",
    "    if token[1].startswith(\"R\"):\n",
    "        lemma = lemmatizer.lemmatize(token[0], wordnet.ADV)\n",
    "    else:\n",
    "        lemma = lemmatizer.lemmatize(token[0], wordnet.NOUN)\n",
    "    return lemma\n",
    "\n",
    "lemma_tokens = [[lem(token) for token in nltk.pos_tag(doc)] for doc in word_tokens]\n",
    "print(\"Done!\")"
   ],
   "metadata": {
    "collapsed": false,
    "pycharm": {
     "name": "#%%\n"
    }
   }
  },
  {
   "cell_type": "code",
   "execution_count": 43,
   "outputs": [
    {
     "name": "stdout",
     "output_type": "stream",
     "text": [
      "Counting term frequencies...\n",
      "There are 8661 tokens in total.\n",
      "The 10 most frequent are: {'select': 12020, 'file': 11483, 'run': 9551, 'click': 8519, 'configuration': 8031, 'idea': 7917, 'intellij': 7506, 'project': 7258, 'option': 6279, 'open': 5893}\n",
      "\n",
      "Lets get rid of tokens that appear only once...\n",
      "Now we have 6119 tokens left.\n",
      "Topic 100 is: create-ssh-configurations.html\n",
      "244 tokens\n",
      "['create', 'ssh', 'configuration', 'intellij', 'idea', 'save', 'remote', 'server', 'ssh', 'connection', 'parameter', 'dedicated', 'ssh', 'configuration', 'created', 'configuration', 'used', 'configuring', 'remote', 'interpreter', 'connecting', 'sftp', 'deployment', 'server', 'launching', 'ssh', 'session', 'setting', 'preference', 'dialog', 'ctrl', 'alt', 'go', 'tool', 'ssh', 'configuration', 'left', 'hand', 'pane', 'list', 'existing', 'ssh', 'configuration', 'click', 'use', 'visible', 'project', 'checkbox', 'configure', 'visibility', 'server', 'access', 'configuration', 'select', 'checkbox', 'restrict', 'use', 'ssh', 'configuration', 'current', 'project', 'ssh', 'configuration', 'cannot', 'reused', 'outside', 'current', 'project', 'appear', 'list', 'available', 'configuration', 'project', 'ssh', 'configuration', 'stored', 'idea', 'directory', 'together', 'project', 'allows', 'sharing', 'team', 'member', 'vcs', 'ssh', 'configuration', 'stored', 'idea', 'directory', 'together', 'project', 'allows', 'sharing', 'team', 'member', 'vcs', 'checkbox', 'cleared', 'ssh', 'configuration', 'visible', 'intellij', 'idea', 'project', 'setting', 'reused', 'across', 'several', 'project', 'host', 'user', 'name', 'port', 'field', 'specify', 'connection', 'parameter', 'necessary', 'provide', 'outgoing', 'port', 'local', 'port', 'field', 'otherwise', 'port', 'selected', 'automatically', 'choose', 'way', 'authenticate', 'server', 'one', 'following', 'password', 'access', 'host', 'password', 'save', 'password', 'intellij', 'idea', 'select', 'save', 'password', 'checkbox', 'key', 'pair', 'openssh', 'putty', 'use', 'ssh', 'authentication', 'key', 'pair', 'apply', 'authentication', 'method', 'must', 'private', 'key', 'client', 'machine', 'public', 'key', 'remote', 'server', 'intellij', 'idea', 'support', 'private', 'key', 'generated', 'openssh', 'utility', 'specify', 'path', 'file', 'private', 'key', 'stored', 'type', 'passphrase', 'corresponding', 'field', 'intellij', 'idea', 'remember', 'passphrase', 'select', 'save', 'passphrase', 'checkbox', 'openssh', 'config', 'authentication', 'agent', 'use', 'ssh', 'key', 'managed', 'credential', 'helper', 'application', 'example', 'pageant', 'window', 'ssh', 'agent', 'macos', 'linux', 'see', 'generating', 'new', 'ssh', 'key', 'adding', 'ssh', 'agent', 'tutorial', 'detail', 'working', 'ssh', 'key', 'click', 'test', 'connection', 'button', 'make', 'sure', 'setting', 'correct', 'intellij', 'idea', 'connect', 'target', 'server', 'supported', 'openssh', 'directive', 'host', 'compression', 'hostname']\n"
     ]
    }
   ],
   "source": [
    "lemma_corpus = tokens_to_corpus(lemma_tokens)"
   ],
   "metadata": {
    "collapsed": false,
    "pycharm": {
     "name": "#%%\n"
    }
   }
  },
  {
   "cell_type": "code",
   "execution_count": 44,
   "outputs": [
    {
     "name": "stdout",
     "output_type": "stream",
     "text": [
      "Saving word tokens to csv...\n",
      "Done!\n"
     ]
    }
   ],
   "source": [
    "print(\"Saving word tokens to csv...\")\n",
    "with open(\"02b_lemma_corpus.csv\", \"w\") as file:\n",
    "    csv.writer(file).writerows(lemma_corpus)\n",
    "print(\"Done!\")"
   ],
   "metadata": {
    "collapsed": false,
    "pycharm": {
     "name": "#%%\n"
    }
   }
  },
  {
   "cell_type": "markdown",
   "source": [
    "# Stemming"
   ],
   "metadata": {
    "collapsed": false,
    "pycharm": {
     "name": "#%% md\n"
    }
   }
  },
  {
   "cell_type": "code",
   "execution_count": 45,
   "outputs": [
    {
     "name": "stdout",
     "output_type": "stream",
     "text": [
      "Now lets try stemming the tokens instead...\n",
      "Done!\n"
     ]
    }
   ],
   "source": [
    "print(\"Now lets try stemming the tokens instead...\")\n",
    "\n",
    "stemmer = nltk.stem.porter.PorterStemmer()\n",
    "\n",
    "stemmed_tokens = [[stemmer.stem(token) for token in doc] for doc in word_tokens]\n",
    "print(\"Done!\")"
   ],
   "metadata": {
    "collapsed": false,
    "pycharm": {
     "name": "#%%\n"
    }
   }
  },
  {
   "cell_type": "code",
   "execution_count": 46,
   "outputs": [
    {
     "name": "stdout",
     "output_type": "stream",
     "text": [
      "Counting term frequencies...\n",
      "There are 6605 tokens in total.\n",
      "The 10 most frequent are: {'select': 16545, 'file': 11486, 'run': 11178, 'configur': 10996, 'click': 8813, 'use': 8532, 'idea': 7917, 'intellij': 7506, 'project': 7261, 'specifi': 6692}\n",
      "\n",
      "Lets get rid of tokens that appear only once...\n",
      "Now we have 4557 tokens left.\n",
      "Topic 100 is: create-ssh-configurations.html\n",
      "244 tokens\n",
      "['creat', 'ssh', 'configur', 'intellij', 'idea', 'save', 'remot', 'server', 'ssh', 'connect', 'paramet', 'dedic', 'ssh', 'configur', 'creat', 'configur', 'use', 'configur', 'remot', 'interpret', 'connect', 'sftp', 'deploy', 'server', 'launch', 'ssh', 'session', 'set', 'prefer', 'dialog', 'ctrl', 'alt', 'go', 'tool', 'ssh', 'configur', 'left', 'hand', 'pane', 'list', 'exist', 'ssh', 'configur', 'click', 'use', 'visibl', 'project', 'checkbox', 'configur', 'visibl', 'server', 'access', 'configur', 'select', 'checkbox', 'restrict', 'use', 'ssh', 'configur', 'current', 'project', 'ssh', 'configur', 'cannot', 'reus', 'outsid', 'current', 'project', 'appear', 'list', 'avail', 'configur', 'project', 'ssh', 'configur', 'store', 'idea', 'directori', 'togeth', 'project', 'allow', 'share', 'team', 'member', 'vc', 'ssh', 'configur', 'store', 'idea', 'directori', 'togeth', 'project', 'allow', 'share', 'team', 'member', 'vc', 'checkbox', 'clear', 'ssh', 'configur', 'visibl', 'intellij', 'idea', 'project', 'set', 'reus', 'across', 'sever', 'project', 'host', 'user', 'name', 'port', 'field', 'specifi', 'connect', 'paramet', 'necessari', 'provid', 'outgo', 'port', 'local', 'port', 'field', 'otherwis', 'port', 'select', 'automat', 'choos', 'way', 'authent', 'server', 'one', 'follow', 'password', 'access', 'host', 'password', 'save', 'password', 'intellij', 'idea', 'select', 'save', 'password', 'checkbox', 'key', 'pair', 'openssh', 'putti', 'use', 'ssh', 'authent', 'key', 'pair', 'appli', 'authent', 'method', 'must', 'privat', 'key', 'client', 'machin', 'public', 'key', 'remot', 'server', 'intellij', 'idea', 'support', 'privat', 'key', 'gener', 'openssh', 'util', 'specifi', 'path', 'file', 'privat', 'key', 'store', 'type', 'passphras', 'correspond', 'field', 'intellij', 'idea', 'rememb', 'passphras', 'select', 'save', 'passphras', 'checkbox', 'openssh', 'config', 'authent', 'agent', 'use', 'ssh', 'key', 'manag', 'credenti', 'helper', 'applic', 'exampl', 'pageant', 'window', 'ssh', 'agent', 'maco', 'linux', 'see', 'gener', 'new', 'ssh', 'key', 'ad', 'ssh', 'agent', 'tutori', 'detail', 'work', 'ssh', 'key', 'click', 'test', 'connect', 'button', 'make', 'sure', 'set', 'correct', 'intellij', 'idea', 'connect', 'target', 'server', 'support', 'openssh', 'direct', 'host', 'compress', 'hostnam']\n"
     ]
    }
   ],
   "source": [
    "stemmed_corpus = tokens_to_corpus(stemmed_tokens)"
   ],
   "metadata": {
    "collapsed": false,
    "pycharm": {
     "name": "#%%\n"
    }
   }
  },
  {
   "cell_type": "code",
   "execution_count": 47,
   "outputs": [
    {
     "name": "stdout",
     "output_type": "stream",
     "text": [
      "Saving word tokens to csv...\n",
      "Done!\n"
     ]
    }
   ],
   "source": [
    "print(\"Saving word tokens to csv...\")\n",
    "with open(\"02c_stemmed_corpus.csv\", \"w\") as file:\n",
    "    csv.writer(file).writerows(stemmed_corpus)\n",
    "print(\"Done!\")"
   ],
   "metadata": {
    "collapsed": false,
    "pycharm": {
     "name": "#%%\n"
    }
   }
  }
 ],
 "metadata": {
  "kernelspec": {
   "display_name": "Python 3",
   "language": "python",
   "name": "python3"
  },
  "language_info": {
   "codemirror_mode": {
    "name": "ipython",
    "version": 2
   },
   "file_extension": ".py",
   "mimetype": "text/x-python",
   "name": "python",
   "nbconvert_exporter": "python",
   "pygments_lexer": "ipython2",
   "version": "2.7.6"
  }
 },
 "nbformat": 4,
 "nbformat_minor": 0
}