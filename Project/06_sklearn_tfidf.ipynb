{
 "cells": [
  {
   "cell_type": "code",
   "execution_count": 51,
   "outputs": [],
   "source": [
    "import csv\n",
    "import numpy\n",
    "from sklearn.feature_extraction.text import TfidfVectorizer, CountVectorizer\n",
    "from sklearn.metrics.pairwise import cosine_similarity"
   ],
   "metadata": {
    "collapsed": false,
    "pycharm": {
     "name": "#%%\n"
    }
   }
  },
  {
   "cell_type": "code",
   "execution_count": 3,
   "outputs": [
    {
     "name": "stdout",
     "output_type": "stream",
     "text": [
      "Getting list of topic names and texts...\n",
      "Done!\n"
     ]
    }
   ],
   "source": [
    "print(\"Getting list of topic names and texts...\")\n",
    "with open(\"01_topic_text.csv\") as file:\n",
    "    topic_names = []\n",
    "    topic_texts = []\n",
    "    for line in csv.reader(file):\n",
    "        topic_names.append(line[0])\n",
    "        topic_texts.append(line[1])\n",
    "print(\"Done!\")"
   ],
   "metadata": {
    "collapsed": false,
    "pycharm": {
     "name": "#%%\n"
    }
   }
  },
  {
   "cell_type": "code",
   "execution_count": 6,
   "outputs": [
    {
     "name": "stdout",
     "output_type": "stream",
     "text": [
      "Topic 1 is: configuring-project-and-ide-settings.html\n",
      "Configuring the IDE\n",
      "IntelliJ IDEA allows you to configure the settings on several levels: the module level, the project level, and globally.\n",
      "Global settings apply to all projects that you open with a ...\n"
     ]
    }
   ],
   "source": [
    "topic_id = 1\n",
    "print(f\"Topic {topic_id} is:\", topic_names[topic_id])\n",
    "print(topic_texts[topic_id][:200] + \"...\")"
   ],
   "metadata": {
    "collapsed": false,
    "pycharm": {
     "name": "#%%\n"
    }
   }
  },
  {
   "cell_type": "code",
   "execution_count": 138,
   "outputs": [],
   "source": [
    "import string\n",
    "from nltk.stem import WordNetLemmatizer, PorterStemmer\n",
    "from nltk import word_tokenize\n",
    "\n",
    "class LemmaTokenizer:\n",
    "    def __init__(self):\n",
    "        self.wnl = WordNetLemmatizer()\n",
    "    def __call__(self, doc):\n",
    "        return [self.wnl.lemmatize(t) for t in word_tokenize(doc) if t not in string.punctuation and len(t) > 1 and t.isalnum()]\n",
    "\n",
    "class StemTokenizer:\n",
    "    def __init__(self):\n",
    "        self.ps = PorterStemmer()\n",
    "    def __call__(self, doc):\n",
    "        return [self.ps.stem(t) for t in word_tokenize(doc) if t not in string.punctuation and len(t) > 1 and t.isalnum()]"
   ],
   "metadata": {
    "collapsed": false,
    "pycharm": {
     "name": "#%%\n"
    }
   }
  },
  {
   "cell_type": "code",
   "execution_count": 202,
   "outputs": [],
   "source": [
    "vectorizer = TfidfVectorizer(tokenizer=StemTokenizer())"
   ],
   "metadata": {
    "collapsed": false,
    "pycharm": {
     "name": "#%%\n"
    }
   }
  },
  {
   "cell_type": "code",
   "execution_count": 203,
   "outputs": [],
   "source": [
    "corpus_vec = vectorizer.fit_transform(topic_texts)"
   ],
   "metadata": {
    "collapsed": false,
    "pycharm": {
     "name": "#%%\n"
    }
   }
  },
  {
   "cell_type": "code",
   "execution_count": 204,
   "outputs": [
    {
     "name": "stdout",
     "output_type": "stream",
     "text": [
      "(1505, 5528)\n"
     ]
    }
   ],
   "source": [
    "print(corpus_vec.shape)"
   ],
   "metadata": {
    "collapsed": false,
    "pycharm": {
     "name": "#%%\n"
    }
   }
  },
  {
   "cell_type": "code",
   "execution_count": 205,
   "outputs": [
    {
     "data": {
      "text/plain": "array(['0032a0', '0047e4', '007c7c', ..., 'сompil', 'сurrent', 'сustom'],\n      dtype=object)"
     },
     "execution_count": 205,
     "metadata": {},
     "output_type": "execute_result"
    }
   ],
   "source": [
    "vectorizer.get_feature_names_out()"
   ],
   "metadata": {
    "collapsed": false,
    "pycharm": {
     "name": "#%%\n"
    }
   }
  },
  {
   "cell_type": "code",
   "execution_count": 207,
   "outputs": [
    {
     "data": {
      "text/plain": "1547"
     },
     "execution_count": 207,
     "metadata": {},
     "output_type": "execute_result"
    }
   ],
   "source": [
    "vectorizer.vocabulary_[\"enabl\"]"
   ],
   "metadata": {
    "collapsed": false,
    "pycharm": {
     "name": "#%%\n"
    }
   }
  },
  {
   "cell_type": "code",
   "execution_count": 208,
   "outputs": [],
   "source": [
    "queries = [\"file template\", \"file templates\", \"reader mode\"]"
   ],
   "metadata": {
    "collapsed": false,
    "pycharm": {
     "name": "#%%\n"
    }
   }
  },
  {
   "cell_type": "code",
   "execution_count": 209,
   "outputs": [
    {
     "name": "stdout",
     "output_type": "stream",
     "text": [
      "Query: file template\n",
      "settings-file-and-code-templates.html\n",
      "save-file-as-template-dialog.html\n",
      "using-file-and-code-templates.html\n",
      "templates-dialog.html\n",
      "templates.html\n",
      "--- --- ---\n",
      "Query: file templates\n",
      "settings-file-and-code-templates.html\n",
      "save-file-as-template-dialog.html\n",
      "using-file-and-code-templates.html\n",
      "templates-dialog.html\n",
      "templates.html\n",
      "--- --- ---\n",
      "Query: reader mode\n",
      "reader-mode.html\n",
      "accessibility.html\n",
      "ide-viewing-modes.html\n",
      "viewing-modes.html\n",
      "settings-appearance.html\n",
      "--- --- ---\n"
     ]
    }
   ],
   "source": [
    "for query in queries:\n",
    "    query_vec = vectorizer.transform([query])\n",
    "    results = cosine_similarity(corpus_vec, query_vec)\n",
    "\n",
    "    print(f\"Query: {query}\")\n",
    "\n",
    "    for i in results.argsort(axis=0)[-5:][::-1]:\n",
    "        print(topic_names[i[0]])\n",
    "\n",
    "    print(\"--- --- ---\")"
   ],
   "metadata": {
    "collapsed": false,
    "pycharm": {
     "name": "#%%\n"
    }
   }
  }
 ],
 "metadata": {
  "kernelspec": {
   "display_name": "Python 3",
   "language": "python",
   "name": "python3"
  },
  "language_info": {
   "codemirror_mode": {
    "name": "ipython",
    "version": 2
   },
   "file_extension": ".py",
   "mimetype": "text/x-python",
   "name": "python",
   "nbconvert_exporter": "python",
   "pygments_lexer": "ipython2",
   "version": "2.7.6"
  }
 },
 "nbformat": 4,
 "nbformat_minor": 0
}